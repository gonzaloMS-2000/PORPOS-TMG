{
 "cells": [
  {
   "cell_type": "markdown",
   "metadata": {},
   "source": [
    "## Data Loading and Transformation"
   ]
  },
  {
   "cell_type": "code",
   "execution_count": 1,
   "metadata": {
    "scrolled": true
   },
   "outputs": [
    {
     "name": "stdout",
     "output_type": "stream",
     "text": [
      "# of zones not found: 127\n"
     ]
    }
   ],
   "source": [
    "import biogeme.database as db\n",
    "import biogeme.biogeme as bio\n",
    "import biogeme.models as models\n",
    "from biogeme.expressions import Beta, DefineVariable\n",
    "import pandas as pd\n",
    "import math\n",
    "import csv\n",
    "\n",
    "hh_df = pd.read_csv('../../Data/SMTO_2015/SMTO_2015_Households.csv')\n",
    "ps_df = pd.read_csv('../../Data/SMTO_2015/SMTO_2015_Respondents.csv')\n",
    "\n",
    "# Load relevant columns\n",
    "df = ps_df[['pscampusattend', 'personstatusgrad', 'personstatustime', 'psuniversityinvolvednumyears']]\n",
    "df = df.join(hh_df[['HmTTS2006', 'hhlivingsituation']])\n",
    "df = df.rename(columns={'HmTTS2006': 'HomeZone', 'pscampusattend': 'Campus', 'hhlivingsituation': 'Family', \n",
    "                       'personstatusgrad': 'Level', 'personstatustime': 'Status', 'psuniversityinvolvednumyears': 'Years'})\n",
    "df = df.dropna() # Remove rows with missing data\n",
    "\n",
    "# Convert Campus column to numerical column\n",
    "campus_name_to_num = {\"Downtown Toronto (St. George)\": 0, \"Scarborough (UTSC)\": 1, \"Mississauga (UTM)\": 2,\n",
    "                      \"Keele\": 3, \"Glendon\": 4, \"RyersonU\": 5, \"OCADu\": 6}\n",
    "df.replace({'Campus': campus_name_to_num}, inplace=True)\n",
    "\n",
    "# Convert columns to numerical\n",
    "df['HomeZone'] = pd.to_numeric(df['HomeZone'], downcast='signed')\n",
    "df['Family'] = (df['Family'] == 'Live with family/parents')*1\n",
    "\n",
    "# All campuses available to all students\n",
    "df['Available'] = 1\n",
    "\n",
    "# Dataframe with walk distances\n",
    "df_path = pd.read_csv('../../../LoS/Walk_Distances.csv')\n",
    "origins = list(set(list(df_path['Origin'])))\n",
    "dists = list(df_path['Data'])\n",
    "\n",
    "# Function for distance lookup\n",
    "not_found = set()\n",
    "def find_distance(origin, destination):\n",
    "    try:\n",
    "        i = origins.index(origin)\n",
    "    except ValueError:\n",
    "        not_found.add(origin)\n",
    "        return 0\n",
    "    try:\n",
    "        j = origins.index(destination)\n",
    "    except ValueError:\n",
    "        not_found.add(destination)\n",
    "        return 0\n",
    "    return dists[i*2392 + j] / 1000\n",
    "\n",
    "# List of campus' TTS zones from Joven's MOE data\n",
    "campus_zones = [69, 566, 3631, 391, 225, 38, 67]\n",
    "\n",
    "# Load distances into dataframe\n",
    "for i in range(len(campus_zones)):\n",
    "    df[\"Dist\" + str(i)] = df['HomeZone'].apply(lambda x: find_distance(x, campus_zones[i]))\n",
    "print(\"# of zones not found:\", len(not_found))\n",
    "\n",
    "# Load enrollment data\n",
    "enrollment_df = pd.read_csv('../../Data/Enrolment/Joven_Enrollment.csv').set_index('School')\n",
    "def get_log_enrollment(level, school):\n",
    "    return math.log1p(enrollment_df.loc[school][level]) # Level: UG, Grad, Total"
   ]
  },
  {
   "cell_type": "markdown",
   "metadata": {},
   "source": [
    "## Running Model"
   ]
  },
  {
   "cell_type": "code",
   "execution_count": 10,
   "metadata": {},
   "outputs": [],
   "source": [
    "def print_results(results, i):\n",
    "    print(\"___________Segment \" + str(i) + \"__________\")\n",
    "    #print(\"n:\" + str(results.getGeneralStatistics()['Sample size'][0]), \"\\tR^2\", results.getGeneralStatistics()['Rho-square for the init. model'][0])\n",
    "    print(results.getEstimatedParameters()[['Value', 'p-value']])\n",
    "    print()\n",
    "\n",
    "    \n",
    "def run_model(run_name, num_segments, row_to_segment, segment_to_level = None):\n",
    "    global df\n",
    "    \n",
    "    df_in_func = df.copy()\n",
    "    df_in_func['Segment'] = df_in_func.apply(row_to_segment, axis=1)\n",
    "    df_in_func = df_in_func.drop(columns=['Level', 'Status', 'Years', 'HomeZone', 'Family'])\n",
    "    \n",
    "    for i in range(num_segments):\n",
    "        temp_df = df_in_func.copy()\n",
    "        database = db.Database(\"SMTO\", temp_df)\n",
    "        globals().update(database.variables)\n",
    "        database.remove(Dist0 == 0) # Remove unknown distances\n",
    "        database.remove(Segment != i)\n",
    "\n",
    "        # Beta initialization: (name, value, lowerbound, upperbound, status, desc='')\n",
    "        # Status 0 if estimated, 1 if maintained - reference choice should be 1\n",
    "        if segment_to_level: # Enrollment\n",
    "            level = segment_to_level(i)\n",
    "            ASC_SG = Beta('ASC_SG', get_log_enrollment(level, 'SG'), None, None, 1)\n",
    "            ASC_SC = Beta('ASC_SC', get_log_enrollment(level, 'SC'), None, None, 1)\n",
    "            ASC_MI = Beta('ASC_MI', get_log_enrollment(level, 'MI'), None, None, 1)\n",
    "            ASC_YK = Beta('ASC_YK', get_log_enrollment(level, 'YK'), None, None, 1)\n",
    "            ASC_YG = Beta('ASC_YG', get_log_enrollment(level, 'YG'), None, None, 1)\n",
    "            ASC_RY = Beta('ASC_RY', get_log_enrollment(level, 'RY'), None, None, 1)\n",
    "            ASC_OC = Beta('ASC_OC', get_log_enrollment(level, 'OC'), None, None, 1)\n",
    "        else:\n",
    "            ASC_SG = Beta('ASC_SG', 0, None, None, 0)\n",
    "            ASC_SC = Beta('ASC_SC', 0, None, None, 0)\n",
    "            ASC_MI = Beta('ASC_MI', 0, None, None, 0)\n",
    "            ASC_YK = Beta('ASC_YK', 0, None, None, 0)\n",
    "            ASC_YG = Beta('ASC_YG', 0, None, None, 1)\n",
    "            ASC_RY = Beta('ASC_RY', 0, None, None, 0)\n",
    "            ASC_OC = Beta('ASC_OC', 0, None, None, 0)\n",
    "\n",
    "        B_DIST = Beta('B_DIST', 0, None, None, 0)\n",
    "\n",
    "        # Variables: from columns in database\n",
    "        AV = DefineVariable('AV', Available, database)\n",
    "        SG_DIST = DefineVariable('SG_DIST', Dist0, database)\n",
    "        SC_DIST = DefineVariable('SC_DIST', Dist1, database)\n",
    "        MI_DIST = DefineVariable('MI_DIST', Dist2, database)\n",
    "        YK_DIST = DefineVariable('YK_DIST', Dist3, database)\n",
    "        YG_DIST = DefineVariable('YG_DIST', Dist4, database)\n",
    "        RY_DIST = DefineVariable('RY_DIST', Dist5, database)\n",
    "        OC_DIST = DefineVariable('OC_DIST', Dist6, database)\n",
    "\n",
    "        # Utility Functions: note ASC_YG is 0\n",
    "        V0 = ASC_SG + B_DIST * SG_DIST\n",
    "        V1 = ASC_SC + B_DIST * SC_DIST\n",
    "        V2 = ASC_MI + B_DIST * MI_DIST\n",
    "        V3 = ASC_YK + B_DIST * YK_DIST\n",
    "        V4 = ASC_YG + B_DIST * YG_DIST\n",
    "        V5 = ASC_RY + B_DIST * RY_DIST\n",
    "        V6 = ASC_OC + B_DIST * OC_DIST\n",
    "\n",
    "        V  = {0: V0, 1: V1, 2: V2, 3: V3, 4: V4, 5: V5, 6: V6}\n",
    "        av = {0: AV, 1: AV, 2: AV, 3: AV, 4: AV, 5: AV, 6: AV}\n",
    "\n",
    "        logprob = models.loglogit(V, av, Campus)\n",
    "\n",
    "        biogeme = bio.BIOGEME(database, logprob, numberOfThreads=1)\n",
    "        biogeme.modelName = run_name + str(i)\n",
    "        results = biogeme.estimate(saveIterations=False)\n",
    "        print_results(results, i)\n",
    "        \n",
    "        full_results['Sample_Size'].append(results.getGeneralStatistics()['Sample size'][0])\n",
    "        full_results['Log_Lhood'].append(results.getGeneralStatistics()['Final log likelihood'][0])\n",
    "        full_results['Akaike'].append(results.getGeneralStatistics()['Akaike Information Criterion'][0])\n",
    "        full_results['Bayesian'].append(results.getGeneralStatistics()['Bayesian Information Criterion'][0])\n",
    "        \n",
    "        full_results['B_Dist'].append(results.getEstimatedParameters()['Value']['B_DIST'])\n",
    "        full_results['B_Dist'].append(results.getEstimatedParameters()['p-value']['B_DIST'])"
   ]
  },
  {
   "cell_type": "markdown",
   "metadata": {},
   "source": [
    "## Segmentation Method (must start at 0)"
   ]
  },
  {
   "cell_type": "code",
   "execution_count": 3,
   "metadata": {
    "scrolled": true
   },
   "outputs": [],
   "source": [
    "def segments13(x):\n",
    "    if x.Level == 'Other':\n",
    "        return 0\n",
    "    elif x.Level == 'UG':\n",
    "        return (0 if x.Status == 'FT' else 2) + (not x.Family) + (1 if x.Years == 0 else 5)\n",
    "    else:\n",
    "        return 9 + (0 if x.Status == 'FT' else 2) + (not x.Family)\n",
    "def segments13_to_level(segment):\n",
    "    if segment == 0:\n",
    "        return 'Total'\n",
    "    elif segment < 9:\n",
    "        return 'UG'\n",
    "    else:\n",
    "        return 'Grad'\n",
    "    \n",
    "    \n",
    "def segments2(x):\n",
    "    return (not x.Family)*1\n",
    "def segments2_to_level(segment):\n",
    "    return 'Total'\n",
    "\n",
    "\n",
    "def segments7(x):\n",
    "    if x.Level == 'Other':\n",
    "        return 0\n",
    "    elif x.Level == 'UG':\n",
    "        return (not x.Family) + (1 if x.Years == 0 else 3)\n",
    "    else:\n",
    "        return 5 + (not x.Family)\n",
    "def segments7_to_level(segment):\n",
    "    if segment == 0:\n",
    "        return 'Total'\n",
    "    elif segment  < 5:\n",
    "        return 'UG'\n",
    "    else:\n",
    "        return 'Grad'\n",
    "    \n",
    "\n",
    "def segments4(x):\n",
    "    return (not x.Family) + (0 if (x.Level == 'UG') else 2)\n",
    "def segments4_to_level(segment):\n",
    "    if segment < 2:\n",
    "        return 'Grad' # Includes other\n",
    "    else:\n",
    "        return 'UG'\n",
    "    \n",
    "\n",
    "def miller_segments(x):\n",
    "    if x.Level == 'Other':\n",
    "        return 0\n",
    "    elif x.Level == 'UG':\n",
    "        return 3 if x.Status == 'PT' else (not x.Family) + 1\n",
    "    else:\n",
    "        return 6 if x.Status == 'PT' else (4 + (not x.Family))\n",
    "def miller_segments_to_level(segment):\n",
    "    if segment == 0:\n",
    "        return 'Total'\n",
    "    elif segment < 4:\n",
    "        return 'UG'\n",
    "    else:\n",
    "        return 'Grad'"
   ]
  },
  {
   "cell_type": "markdown",
   "metadata": {},
   "source": [
    "## Main Code"
   ]
  },
  {
   "cell_type": "code",
   "execution_count": 4,
   "metadata": {},
   "outputs": [],
   "source": [
    "#run_model(\"LC_Segment_\", 13, segments13, segments13_to_level)\n",
    "#run_model(\"LC_ASC_Segment_\", 13, segments13)\n",
    "#run_model(\"LC_Bool_Segment_\", 2, segments2)\n",
    "#run_model(\"LC_TriLevel_Segment_\", 7, segments7, segments7_to_level)\n",
    "#run_model(\"LC_TriLevel_ASC_Segment_\", 7, segments7)\n",
    "#run_model(\"LC_BiLevel_Segment_\", 4, segments4, segments4_to_level)\n",
    "#run_model(\"LC_BiLevel_ASC_Segment_\", 4, segments4)\n",
    "#run_model(\"LC_Miller_Segment_\", 7, miller_segments, miller_segments_to_level)\n",
    "#run_model(\"LC_Miller_ASC_Segment_\", 7, miller_segments)"
   ]
  },
  {
   "cell_type": "code",
   "execution_count": 11,
   "metadata": {
    "scrolled": true
   },
   "outputs": [
    {
     "name": "stdout",
     "output_type": "stream",
     "text": [
      "73        6.776886\n",
      "87        1.572915\n",
      "155       1.297744\n",
      "243       1.897934\n",
      "278       5.671636\n",
      "           ...    \n",
      "14877     9.536488\n",
      "14929    41.918740\n",
      "14953    21.296900\n",
      "15130    18.082850\n",
      "15175    12.097850\n",
      "Name: Dist0, Length: 309, dtype: float64\n",
      "Dist0\n"
     ]
    },
    {
     "ename": "AttributeError",
     "evalue": "'Series' object has no attribute 'setRow'",
     "output_type": "error",
     "traceback": [
      "\u001b[1;31m---------------------------------------------------------------------------\u001b[0m",
      "\u001b[1;31mAttributeError\u001b[0m                            Traceback (most recent call last)",
      "\u001b[1;32m<ipython-input-11-9867ca83423d>\u001b[0m in \u001b[0;36m<module>\u001b[1;34m\u001b[0m\n\u001b[0;32m      3\u001b[0m \u001b[1;32mfor\u001b[0m \u001b[0mheader\u001b[0m \u001b[1;32min\u001b[0m \u001b[0mresult_headers\u001b[0m\u001b[1;33m:\u001b[0m\u001b[1;33m\u001b[0m\u001b[1;33m\u001b[0m\u001b[0m\n\u001b[0;32m      4\u001b[0m     \u001b[0mfull_results\u001b[0m\u001b[1;33m[\u001b[0m\u001b[0mheader\u001b[0m\u001b[1;33m]\u001b[0m \u001b[1;33m=\u001b[0m \u001b[1;33m[\u001b[0m\u001b[1;33m]\u001b[0m\u001b[1;33m\u001b[0m\u001b[1;33m\u001b[0m\u001b[0m\n\u001b[1;32m----> 5\u001b[1;33m \u001b[0mrun_model\u001b[0m\u001b[1;33m(\u001b[0m\u001b[1;34m\"LC_Miller_ASC_Segment_\"\u001b[0m\u001b[1;33m,\u001b[0m \u001b[1;36m7\u001b[0m\u001b[1;33m,\u001b[0m \u001b[0mmiller_segments\u001b[0m\u001b[1;33m)\u001b[0m\u001b[1;33m\u001b[0m\u001b[1;33m\u001b[0m\u001b[0m\n\u001b[0m\u001b[0;32m      6\u001b[0m \u001b[1;31m#run_model(\"LC_Miller_Segment_\", 7, miller_segments, miller_segments_to_level)\u001b[0m\u001b[1;33m\u001b[0m\u001b[1;33m\u001b[0m\u001b[1;33m\u001b[0m\u001b[0m\n",
      "\u001b[1;32m<ipython-input-10-46eb61a3d56e>\u001b[0m in \u001b[0;36mrun_model\u001b[1;34m(run_name, num_segments, row_to_segment, segment_to_level)\u001b[0m\n\u001b[0;32m     64\u001b[0m         \u001b[0mDists\u001b[0m \u001b[1;33m=\u001b[0m \u001b[1;33m[\u001b[0m\u001b[1;33m]\u001b[0m\u001b[1;33m\u001b[0m\u001b[1;33m\u001b[0m\u001b[0m\n\u001b[0;32m     65\u001b[0m         \u001b[1;32mfor\u001b[0m \u001b[0mj\u001b[0m \u001b[1;32min\u001b[0m \u001b[0mrange\u001b[0m\u001b[1;33m(\u001b[0m\u001b[0mlen\u001b[0m\u001b[1;33m(\u001b[0m\u001b[0mschool_codes\u001b[0m\u001b[1;33m)\u001b[0m\u001b[1;33m)\u001b[0m\u001b[1;33m:\u001b[0m\u001b[1;33m\u001b[0m\u001b[1;33m\u001b[0m\u001b[0m\n\u001b[1;32m---> 66\u001b[1;33m             \u001b[0mDists\u001b[0m\u001b[1;33m.\u001b[0m\u001b[0mappend\u001b[0m\u001b[1;33m(\u001b[0m\u001b[0mDefineVariable\u001b[0m\u001b[1;33m(\u001b[0m\u001b[0mschool_codes\u001b[0m\u001b[1;33m[\u001b[0m\u001b[0mj\u001b[0m\u001b[1;33m]\u001b[0m \u001b[1;33m+\u001b[0m \u001b[1;34m'_DIST'\u001b[0m\u001b[1;33m,\u001b[0m \u001b[0mdatabase\u001b[0m\u001b[1;33m.\u001b[0m\u001b[0mdata\u001b[0m\u001b[1;33m[\u001b[0m\u001b[1;34m'Dist'\u001b[0m \u001b[1;33m+\u001b[0m \u001b[0mstr\u001b[0m\u001b[1;33m(\u001b[0m\u001b[0mj\u001b[0m\u001b[1;33m)\u001b[0m\u001b[1;33m]\u001b[0m\u001b[1;33m,\u001b[0m \u001b[0mdatabase\u001b[0m\u001b[1;33m)\u001b[0m\u001b[1;33m)\u001b[0m\u001b[1;33m\u001b[0m\u001b[1;33m\u001b[0m\u001b[0m\n\u001b[0m\u001b[0;32m     67\u001b[0m \u001b[1;33m\u001b[0m\u001b[0m\n\u001b[0;32m     68\u001b[0m         \"\"\"\n",
      "\u001b[1;32m~\\anaconda3\\lib\\site-packages\\biogeme\\expressions.py\u001b[0m in \u001b[0;36m__init__\u001b[1;34m(self, name, expression, database)\u001b[0m\n\u001b[0;32m   2027\u001b[0m             \u001b[0mdatabase\u001b[0m\u001b[1;33m.\u001b[0m\u001b[0maddColumn\u001b[0m\u001b[1;33m(\u001b[0m\u001b[0mNumeric\u001b[0m\u001b[1;33m(\u001b[0m\u001b[0mexpression\u001b[0m\u001b[1;33m)\u001b[0m\u001b[1;33m,\u001b[0m\u001b[0mname\u001b[0m\u001b[1;33m)\u001b[0m\u001b[1;33m\u001b[0m\u001b[1;33m\u001b[0m\u001b[0m\n\u001b[0;32m   2028\u001b[0m         \u001b[1;32melse\u001b[0m\u001b[1;33m:\u001b[0m\u001b[1;33m\u001b[0m\u001b[1;33m\u001b[0m\u001b[0m\n\u001b[1;32m-> 2029\u001b[1;33m             \u001b[0mdatabase\u001b[0m\u001b[1;33m.\u001b[0m\u001b[0maddColumn\u001b[0m\u001b[1;33m(\u001b[0m\u001b[0mexpression\u001b[0m\u001b[1;33m,\u001b[0m\u001b[0mname\u001b[0m\u001b[1;33m)\u001b[0m\u001b[1;33m\u001b[0m\u001b[1;33m\u001b[0m\u001b[0m\n\u001b[0m\u001b[0;32m   2030\u001b[0m \u001b[1;33m\u001b[0m\u001b[0m\n\u001b[0;32m   2031\u001b[0m \u001b[1;32mclass\u001b[0m \u001b[0mRandomVariable\u001b[0m\u001b[1;33m(\u001b[0m\u001b[0mElementary\u001b[0m\u001b[1;33m)\u001b[0m\u001b[1;33m:\u001b[0m\u001b[1;33m\u001b[0m\u001b[1;33m\u001b[0m\u001b[0m\n",
      "\u001b[1;32m~\\anaconda3\\lib\\site-packages\\biogeme\\database.py\u001b[0m in \u001b[0;36maddColumn\u001b[1;34m(self, expression, column)\u001b[0m\n\u001b[0;32m    489\u001b[0m             \u001b[1;32mreturn\u001b[0m \u001b[0mself\u001b[0m\u001b[1;33m.\u001b[0m\u001b[0m_expression\u001b[0m\u001b[1;33m.\u001b[0m\u001b[0mgetValue\u001b[0m\u001b[1;33m(\u001b[0m\u001b[1;33m)\u001b[0m\u001b[1;33m\u001b[0m\u001b[1;33m\u001b[0m\u001b[0m\n\u001b[0;32m    490\u001b[0m         \u001b[0mself\u001b[0m\u001b[1;33m.\u001b[0m\u001b[0m_expression\u001b[0m \u001b[1;33m=\u001b[0m \u001b[0mexpression\u001b[0m\u001b[1;33m\u001b[0m\u001b[1;33m\u001b[0m\u001b[0m\n\u001b[1;32m--> 491\u001b[1;33m         \u001b[0mself\u001b[0m\u001b[1;33m.\u001b[0m\u001b[0mdata\u001b[0m\u001b[1;33m[\u001b[0m\u001b[0mcolumn\u001b[0m\u001b[1;33m]\u001b[0m \u001b[1;33m=\u001b[0m \u001b[0mself\u001b[0m\u001b[1;33m.\u001b[0m\u001b[0mdata\u001b[0m\u001b[1;33m.\u001b[0m\u001b[0mapply\u001b[0m\u001b[1;33m(\u001b[0m\u001b[0mfunctionToApply\u001b[0m\u001b[1;33m,\u001b[0m\u001b[0maxis\u001b[0m\u001b[1;33m=\u001b[0m\u001b[1;36m1\u001b[0m\u001b[1;33m)\u001b[0m\u001b[1;33m\u001b[0m\u001b[1;33m\u001b[0m\u001b[0m\n\u001b[0m\u001b[0;32m    492\u001b[0m         \u001b[1;32mreturn\u001b[0m \u001b[0mself\u001b[0m\u001b[1;33m.\u001b[0m\u001b[0mdata\u001b[0m\u001b[1;33m[\u001b[0m\u001b[0mcolumn\u001b[0m\u001b[1;33m]\u001b[0m\u001b[1;33m\u001b[0m\u001b[1;33m\u001b[0m\u001b[0m\n\u001b[0;32m    493\u001b[0m \u001b[1;33m\u001b[0m\u001b[0m\n",
      "\u001b[1;32m~\\anaconda3\\lib\\site-packages\\pandas\\core\\frame.py\u001b[0m in \u001b[0;36mapply\u001b[1;34m(self, func, axis, raw, result_type, args, **kwds)\u001b[0m\n\u001b[0;32m   6876\u001b[0m             \u001b[0mkwds\u001b[0m\u001b[1;33m=\u001b[0m\u001b[0mkwds\u001b[0m\u001b[1;33m,\u001b[0m\u001b[1;33m\u001b[0m\u001b[1;33m\u001b[0m\u001b[0m\n\u001b[0;32m   6877\u001b[0m         )\n\u001b[1;32m-> 6878\u001b[1;33m         \u001b[1;32mreturn\u001b[0m \u001b[0mop\u001b[0m\u001b[1;33m.\u001b[0m\u001b[0mget_result\u001b[0m\u001b[1;33m(\u001b[0m\u001b[1;33m)\u001b[0m\u001b[1;33m\u001b[0m\u001b[1;33m\u001b[0m\u001b[0m\n\u001b[0m\u001b[0;32m   6879\u001b[0m \u001b[1;33m\u001b[0m\u001b[0m\n\u001b[0;32m   6880\u001b[0m     \u001b[1;32mdef\u001b[0m \u001b[0mapplymap\u001b[0m\u001b[1;33m(\u001b[0m\u001b[0mself\u001b[0m\u001b[1;33m,\u001b[0m \u001b[0mfunc\u001b[0m\u001b[1;33m)\u001b[0m \u001b[1;33m->\u001b[0m \u001b[1;34m\"DataFrame\"\u001b[0m\u001b[1;33m:\u001b[0m\u001b[1;33m\u001b[0m\u001b[1;33m\u001b[0m\u001b[0m\n",
      "\u001b[1;32m~\\anaconda3\\lib\\site-packages\\pandas\\core\\apply.py\u001b[0m in \u001b[0;36mget_result\u001b[1;34m(self)\u001b[0m\n\u001b[0;32m    184\u001b[0m             \u001b[1;32mreturn\u001b[0m \u001b[0mself\u001b[0m\u001b[1;33m.\u001b[0m\u001b[0mapply_raw\u001b[0m\u001b[1;33m(\u001b[0m\u001b[1;33m)\u001b[0m\u001b[1;33m\u001b[0m\u001b[1;33m\u001b[0m\u001b[0m\n\u001b[0;32m    185\u001b[0m \u001b[1;33m\u001b[0m\u001b[0m\n\u001b[1;32m--> 186\u001b[1;33m         \u001b[1;32mreturn\u001b[0m \u001b[0mself\u001b[0m\u001b[1;33m.\u001b[0m\u001b[0mapply_standard\u001b[0m\u001b[1;33m(\u001b[0m\u001b[1;33m)\u001b[0m\u001b[1;33m\u001b[0m\u001b[1;33m\u001b[0m\u001b[0m\n\u001b[0m\u001b[0;32m    187\u001b[0m \u001b[1;33m\u001b[0m\u001b[0m\n\u001b[0;32m    188\u001b[0m     \u001b[1;32mdef\u001b[0m \u001b[0mapply_empty_result\u001b[0m\u001b[1;33m(\u001b[0m\u001b[0mself\u001b[0m\u001b[1;33m)\u001b[0m\u001b[1;33m:\u001b[0m\u001b[1;33m\u001b[0m\u001b[1;33m\u001b[0m\u001b[0m\n",
      "\u001b[1;32m~\\anaconda3\\lib\\site-packages\\pandas\\core\\apply.py\u001b[0m in \u001b[0;36mapply_standard\u001b[1;34m(self)\u001b[0m\n\u001b[0;32m    294\u001b[0m             \u001b[1;32mtry\u001b[0m\u001b[1;33m:\u001b[0m\u001b[1;33m\u001b[0m\u001b[1;33m\u001b[0m\u001b[0m\n\u001b[0;32m    295\u001b[0m                 result = libreduction.compute_reduction(\n\u001b[1;32m--> 296\u001b[1;33m                     \u001b[0mvalues\u001b[0m\u001b[1;33m,\u001b[0m \u001b[0mself\u001b[0m\u001b[1;33m.\u001b[0m\u001b[0mf\u001b[0m\u001b[1;33m,\u001b[0m \u001b[0maxis\u001b[0m\u001b[1;33m=\u001b[0m\u001b[0mself\u001b[0m\u001b[1;33m.\u001b[0m\u001b[0maxis\u001b[0m\u001b[1;33m,\u001b[0m \u001b[0mdummy\u001b[0m\u001b[1;33m=\u001b[0m\u001b[0mdummy\u001b[0m\u001b[1;33m,\u001b[0m \u001b[0mlabels\u001b[0m\u001b[1;33m=\u001b[0m\u001b[0mlabels\u001b[0m\u001b[1;33m\u001b[0m\u001b[1;33m\u001b[0m\u001b[0m\n\u001b[0m\u001b[0;32m    297\u001b[0m                 )\n\u001b[0;32m    298\u001b[0m             \u001b[1;32mexcept\u001b[0m \u001b[0mValueError\u001b[0m \u001b[1;32mas\u001b[0m \u001b[0merr\u001b[0m\u001b[1;33m:\u001b[0m\u001b[1;33m\u001b[0m\u001b[1;33m\u001b[0m\u001b[0m\n",
      "\u001b[1;32mpandas\\_libs\\reduction.pyx\u001b[0m in \u001b[0;36mpandas._libs.reduction.compute_reduction\u001b[1;34m()\u001b[0m\n",
      "\u001b[1;32mpandas\\_libs\\reduction.pyx\u001b[0m in \u001b[0;36mpandas._libs.reduction.Reducer.get_result\u001b[1;34m()\u001b[0m\n",
      "\u001b[1;32m~\\anaconda3\\lib\\site-packages\\biogeme\\database.py\u001b[0m in \u001b[0;36mfunctionToApply\u001b[1;34m(row)\u001b[0m\n\u001b[0;32m    486\u001b[0m \u001b[1;33m\u001b[0m\u001b[0m\n\u001b[0;32m    487\u001b[0m         \u001b[1;32mdef\u001b[0m \u001b[0mfunctionToApply\u001b[0m\u001b[1;33m(\u001b[0m\u001b[0mrow\u001b[0m\u001b[1;33m)\u001b[0m\u001b[1;33m:\u001b[0m\u001b[1;33m\u001b[0m\u001b[1;33m\u001b[0m\u001b[0m\n\u001b[1;32m--> 488\u001b[1;33m             \u001b[0mself\u001b[0m\u001b[1;33m.\u001b[0m\u001b[0m_expression\u001b[0m\u001b[1;33m.\u001b[0m\u001b[0msetRow\u001b[0m\u001b[1;33m(\u001b[0m\u001b[0mrow\u001b[0m\u001b[1;33m)\u001b[0m\u001b[1;33m\u001b[0m\u001b[1;33m\u001b[0m\u001b[0m\n\u001b[0m\u001b[0;32m    489\u001b[0m             \u001b[1;32mreturn\u001b[0m \u001b[0mself\u001b[0m\u001b[1;33m.\u001b[0m\u001b[0m_expression\u001b[0m\u001b[1;33m.\u001b[0m\u001b[0mgetValue\u001b[0m\u001b[1;33m(\u001b[0m\u001b[1;33m)\u001b[0m\u001b[1;33m\u001b[0m\u001b[1;33m\u001b[0m\u001b[0m\n\u001b[0;32m    490\u001b[0m         \u001b[0mself\u001b[0m\u001b[1;33m.\u001b[0m\u001b[0m_expression\u001b[0m \u001b[1;33m=\u001b[0m \u001b[0mexpression\u001b[0m\u001b[1;33m\u001b[0m\u001b[1;33m\u001b[0m\u001b[0m\n",
      "\u001b[1;32m~\\anaconda3\\lib\\site-packages\\pandas\\core\\generic.py\u001b[0m in \u001b[0;36m__getattr__\u001b[1;34m(self, name)\u001b[0m\n\u001b[0;32m   5272\u001b[0m             \u001b[1;32mif\u001b[0m \u001b[0mself\u001b[0m\u001b[1;33m.\u001b[0m\u001b[0m_info_axis\u001b[0m\u001b[1;33m.\u001b[0m\u001b[0m_can_hold_identifiers_and_holds_name\u001b[0m\u001b[1;33m(\u001b[0m\u001b[0mname\u001b[0m\u001b[1;33m)\u001b[0m\u001b[1;33m:\u001b[0m\u001b[1;33m\u001b[0m\u001b[1;33m\u001b[0m\u001b[0m\n\u001b[0;32m   5273\u001b[0m                 \u001b[1;32mreturn\u001b[0m \u001b[0mself\u001b[0m\u001b[1;33m[\u001b[0m\u001b[0mname\u001b[0m\u001b[1;33m]\u001b[0m\u001b[1;33m\u001b[0m\u001b[1;33m\u001b[0m\u001b[0m\n\u001b[1;32m-> 5274\u001b[1;33m             \u001b[1;32mreturn\u001b[0m \u001b[0mobject\u001b[0m\u001b[1;33m.\u001b[0m\u001b[0m__getattribute__\u001b[0m\u001b[1;33m(\u001b[0m\u001b[0mself\u001b[0m\u001b[1;33m,\u001b[0m \u001b[0mname\u001b[0m\u001b[1;33m)\u001b[0m\u001b[1;33m\u001b[0m\u001b[1;33m\u001b[0m\u001b[0m\n\u001b[0m\u001b[0;32m   5275\u001b[0m \u001b[1;33m\u001b[0m\u001b[0m\n\u001b[0;32m   5276\u001b[0m     \u001b[1;32mdef\u001b[0m \u001b[0m__setattr__\u001b[0m\u001b[1;33m(\u001b[0m\u001b[0mself\u001b[0m\u001b[1;33m,\u001b[0m \u001b[0mname\u001b[0m\u001b[1;33m:\u001b[0m \u001b[0mstr\u001b[0m\u001b[1;33m,\u001b[0m \u001b[0mvalue\u001b[0m\u001b[1;33m)\u001b[0m \u001b[1;33m->\u001b[0m \u001b[1;32mNone\u001b[0m\u001b[1;33m:\u001b[0m\u001b[1;33m\u001b[0m\u001b[1;33m\u001b[0m\u001b[0m\n",
      "\u001b[1;31mAttributeError\u001b[0m: 'Series' object has no attribute 'setRow'"
     ]
    }
   ],
   "source": [
    "result_headers = ('Sample_Size', 'B_Dist', 'B_Dist_p', 'Log_Lhood', 'Akaike', 'Bayesian')\n",
    "full_results = {}\n",
    "for header in result_headers:\n",
    "    full_results[header] = []\n",
    "run_model(\"LC_Miller_ASC_Segment_\", 7, miller_segments)\n",
    "#run_model(\"LC_Miller_Segment_\", 7, miller_segments, miller_segments_to_level)"
   ]
  },
  {
   "cell_type": "code",
   "execution_count": null,
   "metadata": {},
   "outputs": [],
   "source": [
    "\"\"\"\n",
    "with open('Run_Results.csv', mode='w', newline='') as file:\n",
    "    writer = csv.writer(file, delimiter=',')\n",
    "    headers = (\"Segment\", 0, 1, 2, 3, 4, 5, 6, 0, 1, 2, 3, 4, 5, 6)\n",
    "    writer.writerow(headers)\n",
    "    for header in result_headers:\n",
    "        writer.writerow([header] + full_results[header])\n",
    "\"\"\""
   ]
  },
  {
   "cell_type": "code",
   "execution_count": null,
   "metadata": {},
   "outputs": [],
   "source": []
  }
 ],
 "metadata": {
  "kernelspec": {
   "display_name": "Python 3",
   "language": "python",
   "name": "python3"
  },
  "language_info": {
   "codemirror_mode": {
    "name": "ipython",
    "version": 3
   },
   "file_extension": ".py",
   "mimetype": "text/x-python",
   "name": "python",
   "nbconvert_exporter": "python",
   "pygments_lexer": "ipython3",
   "version": "3.7.6"
  }
 },
 "nbformat": 4,
 "nbformat_minor": 4
}
