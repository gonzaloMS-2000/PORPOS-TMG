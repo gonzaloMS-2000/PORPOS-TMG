{
 "cells": [
  {
   "cell_type": "markdown",
   "metadata": {},
   "source": [
    "# Biogeme Test - SMTO Data\n",
    "\n",
    "Gonna try to adapt the Biogeme Swissmetro example to university choice using SMTO data set. We'll try to predict __mode__ choice using distance."
   ]
  },
  {
   "cell_type": "code",
   "execution_count": 1,
   "metadata": {
    "scrolled": true
   },
   "outputs": [],
   "source": [
    "import biogeme.database as db\n",
    "import biogeme.biogeme as bio\n",
    "import biogeme.models as models\n",
    "from biogeme.expressions import Beta, DefineVariable\n",
    "import pandas as pd\n",
    "\n",
    "hh_df = pd.read_csv('../../Data/SMTO_2019/SMTO_2019_Households.csv', low_memory = False)\n",
    "ps_df = pd.read_csv('../../Data/SMTO_2019/SMTO_2019_Respondents.csv', low_memory = False)"
   ]
  },
  {
   "cell_type": "code",
   "execution_count": 2,
   "metadata": {},
   "outputs": [
    {
     "name": "stdout",
     "output_type": "stream",
     "text": [
      "(19135, 4)\n",
      "(10561, 4)\n"
     ]
    },
    {
     "data": {
      "text/html": [
       "<div>\n",
       "<style scoped>\n",
       "    .dataframe tbody tr th:only-of-type {\n",
       "        vertical-align: middle;\n",
       "    }\n",
       "\n",
       "    .dataframe tbody tr th {\n",
       "        vertical-align: top;\n",
       "    }\n",
       "\n",
       "    .dataframe thead th {\n",
       "        text-align: right;\n",
       "    }\n",
       "</style>\n",
       "<table border=\"1\" class=\"dataframe\">\n",
       "  <thead>\n",
       "    <tr style=\"text-align: right;\">\n",
       "      <th></th>\n",
       "      <th>Campus</th>\n",
       "      <th>HomeZone</th>\n",
       "      <th>Mode</th>\n",
       "    </tr>\n",
       "  </thead>\n",
       "  <tbody>\n",
       "    <tr>\n",
       "      <th>0</th>\n",
       "      <td>2</td>\n",
       "      <td>3851.0</td>\n",
       "      <td>1</td>\n",
       "    </tr>\n",
       "    <tr>\n",
       "      <th>1</th>\n",
       "      <td>3</td>\n",
       "      <td>181.0</td>\n",
       "      <td>1</td>\n",
       "    </tr>\n",
       "    <tr>\n",
       "      <th>2</th>\n",
       "      <td>2</td>\n",
       "      <td>1039.0</td>\n",
       "      <td>1</td>\n",
       "    </tr>\n",
       "    <tr>\n",
       "      <th>5</th>\n",
       "      <td>2</td>\n",
       "      <td>544.0</td>\n",
       "      <td>1</td>\n",
       "    </tr>\n",
       "    <tr>\n",
       "      <th>11</th>\n",
       "      <td>2</td>\n",
       "      <td>548.0</td>\n",
       "      <td>1</td>\n",
       "    </tr>\n",
       "  </tbody>\n",
       "</table>\n",
       "</div>"
      ],
      "text/plain": [
       "    Campus  HomeZone  Mode\n",
       "0        2    3851.0     1\n",
       "1        3     181.0     1\n",
       "2        2    1039.0     1\n",
       "5        2     544.0     1\n",
       "11       2     548.0     1"
      ]
     },
     "execution_count": 2,
     "metadata": {},
     "output_type": "execute_result"
    }
   ],
   "source": [
    "# Load relevant columns\n",
    "df = ps_df[['pscampusmain']]\n",
    "df = df.join(ps_df['psinstitution'])\n",
    "df = df.join(hh_df[['HmTTS2006']])\n",
    "df = df.join(ps_df[['psmainmodefalltypical']])\n",
    "df = df.rename(columns={'HmTTS2006': 'HomeZone', 'pscampusmain': 'Campus', 'psmainmodefalltypical': 'Mode'})\n",
    "#df = df.dropna() # Remove rows with missing data\n",
    "\n",
    "# Convert Campus and Mode column to numerical column\n",
    "campus_name_to_num = {\"Story Arts Centre \": 0, \"Ashtonbee Campus\": 1, \"Progress Campus\": 2,\n",
    "                      \"Morningside Campus\": 3, \"Downsview Campus\": 4, \"Eglinton Learning Site\": 5, \"Pickering Learning Site\": 6,\n",
    "                      \"Performing Arts Commons at Daniels Spectrum\": 7, \"Oshawa Campus\": 8, \"Whitby Campus\": 9,\n",
    "                      \"McMaster Campus\": 10, \"Burlington Campus/Ron Joyce Centre\": 11, \"Fennell Campus (Main Campus)\": 12, \"Stoney Creek Campus \": 13,\n",
    "                      \"Institute for Applied Health Sciences\": 14, \"Downtown Oshawa Campus\": 15, \"North Oshawa Campus\": 16,\n",
    "                      \"Davis Campus, Brampton\": 17, \"Hazel McCallion Campus, Mississauga\": 18, \"Trafalgar Road Campus, Oakville\": 19, \"Mississauga Campus\": 20,\n",
    "                      \"Scarborough Campus\": 21, \"St. George Campus\": 22, \"Keele Campus\": 23,\n",
    "                      \"Glendon Campus\": 24}\n",
    "\n",
    "mode_name_to_num = {\"Drive alone\": 0, \"Drive with passenger(s) (household members only)\": 0, \"Drive with passenger(s) (including non-household members)\": 0, \"Auto passenger (driver is a household member)\":0, \"Auto passenger (driver is a non-household member)\":0, \"Ride-hailing alone (UberX, Lyft etc.)\":0, \"Ride-hailing with other passengers (Uberpool, Lyftpool etc.)\": 0, \"Taxi\": 0, \n",
    "                    \"Transit Bus\": 1, \"Streetcar\": 1, \"Subway/RT\": 1, \"GO Bus\": 1, \"GO Train\": 1, \n",
    "                    \"Walk\": 2, \"Bicycle\": 2}\n",
    "#\"Bikeshare\": 2\n",
    "\n",
    "df.replace({'Campus': campus_name_to_num}, inplace=True)\n",
    "df.replace({'Mode': mode_name_to_num}, inplace=True)\n",
    "print(df.shape)\n",
    "#temp_df = df[df['psinstitution'] == 'Ryerson University']\n",
    "#temp_df.head()\n",
    "\n",
    "df.loc[df['psinstitution'] == 'Ryerson University', 'Campus'] = 25\n",
    "df.loc[df['psinstitution'] == 'OCAD University', 'Campus'] = 26\n",
    "\n",
    "# Remove \"Other\" Modes\n",
    "df = df[(df['Mode'] == 0) | (df['Mode'] == 1) | (df['Mode'] == 2)]\n",
    "print(df.shape)\n",
    "df['HomeZone'] = pd.to_numeric(df['HomeZone'], downcast='signed')\n",
    "df['Mode'] = pd.to_numeric(df['Mode'], downcast='signed')\n",
    "df['Campus'] = pd.to_numeric(df['Campus'], downcast='signed')\n",
    "del df['psinstitution']\n",
    "\n",
    "df.head()"
   ]
  },
  {
   "cell_type": "code",
   "execution_count": 3,
   "metadata": {},
   "outputs": [],
   "source": [
    "# Dataframe with walk distances\n",
    "df_path = pd.read_csv('../../../LoS/Walk_Distances.csv')\n",
    "origins = list(set(list(df_path['Origin'])))\n",
    "dists = list(df_path['Data'])\n",
    "\n",
    "# Dataframe with AutoTravelTimes\n",
    "df_att = pd.read_csv('../../../LoS/Auto_Travel_Times.csv')\n",
    "AutoTravelTimes = list(df_att['Data'])\n",
    "\n",
    "# Dataframe with TransitTravelTimes\n",
    "df_ttt = pd.read_csv('../../../LoS/Transit_Travel_Times.csv')\n",
    "TransitTravelTimes = list(df_ttt['Data'])"
   ]
  },
  {
   "cell_type": "code",
   "execution_count": 4,
   "metadata": {
    "scrolled": true
   },
   "outputs": [
    {
     "name": "stdout",
     "output_type": "stream",
     "text": [
      "(10561, 3)\n"
     ]
    },
    {
     "data": {
      "text/html": [
       "<div>\n",
       "<style scoped>\n",
       "    .dataframe tbody tr th:only-of-type {\n",
       "        vertical-align: middle;\n",
       "    }\n",
       "\n",
       "    .dataframe tbody tr th {\n",
       "        vertical-align: top;\n",
       "    }\n",
       "\n",
       "    .dataframe thead th {\n",
       "        text-align: right;\n",
       "    }\n",
       "</style>\n",
       "<table border=\"1\" class=\"dataframe\">\n",
       "  <thead>\n",
       "    <tr style=\"text-align: right;\">\n",
       "      <th></th>\n",
       "      <th>Campus</th>\n",
       "      <th>HomeZone</th>\n",
       "      <th>Mode</th>\n",
       "    </tr>\n",
       "  </thead>\n",
       "  <tbody>\n",
       "    <tr>\n",
       "      <th>0</th>\n",
       "      <td>2</td>\n",
       "      <td>3851.0</td>\n",
       "      <td>1</td>\n",
       "    </tr>\n",
       "    <tr>\n",
       "      <th>1</th>\n",
       "      <td>3</td>\n",
       "      <td>181.0</td>\n",
       "      <td>1</td>\n",
       "    </tr>\n",
       "    <tr>\n",
       "      <th>2</th>\n",
       "      <td>2</td>\n",
       "      <td>1039.0</td>\n",
       "      <td>1</td>\n",
       "    </tr>\n",
       "    <tr>\n",
       "      <th>5</th>\n",
       "      <td>2</td>\n",
       "      <td>544.0</td>\n",
       "      <td>1</td>\n",
       "    </tr>\n",
       "    <tr>\n",
       "      <th>11</th>\n",
       "      <td>2</td>\n",
       "      <td>548.0</td>\n",
       "      <td>1</td>\n",
       "    </tr>\n",
       "  </tbody>\n",
       "</table>\n",
       "</div>"
      ],
      "text/plain": [
       "    Campus  HomeZone  Mode\n",
       "0        2    3851.0     1\n",
       "1        3     181.0     1\n",
       "2        2    1039.0     1\n",
       "5        2     544.0     1\n",
       "11       2     548.0     1"
      ]
     },
     "execution_count": 4,
     "metadata": {},
     "output_type": "execute_result"
    }
   ],
   "source": [
    "not_found = set()\n",
    "# Function for distance/AutoTravelTime/TransitTravelTime lookup\n",
    "\n",
    "def find_value(origin, destination, mode_num):\n",
    "    # mode_num: 0 - to find AutoTravelTime\n",
    "    #           1 - to find TransitTravelTime\n",
    "    #           2 - to find Walking Distance\n",
    "    try:\n",
    "        i = origins.index(origin)\n",
    "    except ValueError:\n",
    "        not_found.add(origin)\n",
    "        return 0\n",
    "    try:\n",
    "        j = origins.index(destination)\n",
    "    except ValueError:\n",
    "        not_found.add(destination)\n",
    "        return 0\n",
    "    \n",
    "    if mode_num == 0:\n",
    "        return AutoTravelTimes[i*2392 + j]\n",
    "    elif mode_num == 1:\n",
    "        return TransitTravelTimes[i*2392 + j]\n",
    "    elif mode_num == 2:\n",
    "        return dists[i*2392 + j] / 1000\n",
    "    else:\n",
    "        print(\"ERROR: Enter correct mode_num!\")\n",
    "        return 0\n",
    "\n",
    "print(df.shape)\n",
    "df.head()"
   ]
  },
  {
   "cell_type": "code",
   "execution_count": 5,
   "metadata": {},
   "outputs": [
    {
     "ename": "IndexError",
     "evalue": "list index out of range",
     "output_type": "error",
     "traceback": [
      "\u001b[1;31m---------------------------------------------------------------------------\u001b[0m",
      "\u001b[1;31mIndexError\u001b[0m                                Traceback (most recent call last)",
      "\u001b[1;32m<ipython-input-5-cb7a6548bbba>\u001b[0m in \u001b[0;36m<module>\u001b[1;34m\u001b[0m\n\u001b[0;32m      2\u001b[0m \u001b[0mcampus_zones\u001b[0m \u001b[1;33m=\u001b[0m \u001b[1;33m[\u001b[0m\u001b[1;36m282\u001b[0m\u001b[1;33m,\u001b[0m \u001b[1;36m526\u001b[0m\u001b[1;33m,\u001b[0m \u001b[1;36m493\u001b[0m\u001b[1;33m,\u001b[0m \u001b[1;36m564\u001b[0m\u001b[1;33m,\u001b[0m \u001b[1;36m419\u001b[0m\u001b[1;33m,\u001b[0m \u001b[1;36m200\u001b[0m\u001b[1;33m,\u001b[0m \u001b[1;36m1042\u001b[0m\u001b[1;33m,\u001b[0m \u001b[1;36m17\u001b[0m\u001b[1;33m,\u001b[0m \u001b[1;36m1179\u001b[0m\u001b[1;33m,\u001b[0m \u001b[1;36m1148\u001b[0m\u001b[1;33m,\u001b[0m \u001b[1;36m5198\u001b[0m\u001b[1;33m,\u001b[0m \u001b[1;36m4069\u001b[0m\u001b[1;33m,\u001b[0m \u001b[1;36m5142\u001b[0m\u001b[1;33m,\u001b[0m \u001b[1;36m5119\u001b[0m\u001b[1;33m,\u001b[0m \u001b[1;36m5198\u001b[0m\u001b[1;33m,\u001b[0m \u001b[1;36m1208\u001b[0m\u001b[1;33m,\u001b[0m \u001b[1;36m1179\u001b[0m\u001b[1;33m,\u001b[0m \u001b[1;36m3325\u001b[0m\u001b[1;33m,\u001b[0m \u001b[1;36m3842\u001b[0m\u001b[1;33m,\u001b[0m \u001b[1;36m4029\u001b[0m\u001b[1;33m,\u001b[0m \u001b[1;36m3631\u001b[0m\u001b[1;33m,\u001b[0m \u001b[1;36m566\u001b[0m\u001b[1;33m,\u001b[0m \u001b[1;36m69\u001b[0m\u001b[1;33m,\u001b[0m \u001b[1;36m391\u001b[0m\u001b[1;33m,\u001b[0m \u001b[1;36m225\u001b[0m\u001b[1;33m]\u001b[0m\u001b[1;33m\u001b[0m\u001b[1;33m\u001b[0m\u001b[0m\n\u001b[0;32m      3\u001b[0m \u001b[1;31m# Add column with campus zones\u001b[0m\u001b[1;33m\u001b[0m\u001b[1;33m\u001b[0m\u001b[1;33m\u001b[0m\u001b[0m\n\u001b[1;32m----> 4\u001b[1;33m \u001b[0mdf\u001b[0m\u001b[1;33m[\u001b[0m\u001b[1;34m'CampusZone'\u001b[0m\u001b[1;33m]\u001b[0m \u001b[1;33m=\u001b[0m \u001b[0mdf\u001b[0m\u001b[1;33m[\u001b[0m\u001b[1;34m'Campus'\u001b[0m\u001b[1;33m]\u001b[0m\u001b[1;33m.\u001b[0m\u001b[0mapply\u001b[0m\u001b[1;33m(\u001b[0m\u001b[1;32mlambda\u001b[0m \u001b[0mx\u001b[0m\u001b[1;33m:\u001b[0m \u001b[0mcampus_zones\u001b[0m\u001b[1;33m[\u001b[0m\u001b[0mx\u001b[0m\u001b[1;33m]\u001b[0m\u001b[1;33m)\u001b[0m\u001b[1;33m\u001b[0m\u001b[1;33m\u001b[0m\u001b[0m\n\u001b[0m\u001b[0;32m      5\u001b[0m \u001b[1;33m\u001b[0m\u001b[0m\n\u001b[0;32m      6\u001b[0m \u001b[1;31m# Add columns for Distance, Transit Travel Time, Auto Travel Time\u001b[0m\u001b[1;33m\u001b[0m\u001b[1;33m\u001b[0m\u001b[1;33m\u001b[0m\u001b[0m\n",
      "\u001b[1;32mC:\\Anaconda\\lib\\site-packages\\pandas\\core\\series.py\u001b[0m in \u001b[0;36mapply\u001b[1;34m(self, func, convert_dtype, args, **kwds)\u001b[0m\n\u001b[0;32m   3589\u001b[0m             \u001b[1;32melse\u001b[0m\u001b[1;33m:\u001b[0m\u001b[1;33m\u001b[0m\u001b[1;33m\u001b[0m\u001b[0m\n\u001b[0;32m   3590\u001b[0m                 \u001b[0mvalues\u001b[0m \u001b[1;33m=\u001b[0m \u001b[0mself\u001b[0m\u001b[1;33m.\u001b[0m\u001b[0mastype\u001b[0m\u001b[1;33m(\u001b[0m\u001b[0mobject\u001b[0m\u001b[1;33m)\u001b[0m\u001b[1;33m.\u001b[0m\u001b[0mvalues\u001b[0m\u001b[1;33m\u001b[0m\u001b[1;33m\u001b[0m\u001b[0m\n\u001b[1;32m-> 3591\u001b[1;33m                 \u001b[0mmapped\u001b[0m \u001b[1;33m=\u001b[0m \u001b[0mlib\u001b[0m\u001b[1;33m.\u001b[0m\u001b[0mmap_infer\u001b[0m\u001b[1;33m(\u001b[0m\u001b[0mvalues\u001b[0m\u001b[1;33m,\u001b[0m \u001b[0mf\u001b[0m\u001b[1;33m,\u001b[0m \u001b[0mconvert\u001b[0m\u001b[1;33m=\u001b[0m\u001b[0mconvert_dtype\u001b[0m\u001b[1;33m)\u001b[0m\u001b[1;33m\u001b[0m\u001b[1;33m\u001b[0m\u001b[0m\n\u001b[0m\u001b[0;32m   3592\u001b[0m \u001b[1;33m\u001b[0m\u001b[0m\n\u001b[0;32m   3593\u001b[0m         \u001b[1;32mif\u001b[0m \u001b[0mlen\u001b[0m\u001b[1;33m(\u001b[0m\u001b[0mmapped\u001b[0m\u001b[1;33m)\u001b[0m \u001b[1;32mand\u001b[0m \u001b[0misinstance\u001b[0m\u001b[1;33m(\u001b[0m\u001b[0mmapped\u001b[0m\u001b[1;33m[\u001b[0m\u001b[1;36m0\u001b[0m\u001b[1;33m]\u001b[0m\u001b[1;33m,\u001b[0m \u001b[0mSeries\u001b[0m\u001b[1;33m)\u001b[0m\u001b[1;33m:\u001b[0m\u001b[1;33m\u001b[0m\u001b[1;33m\u001b[0m\u001b[0m\n",
      "\u001b[1;32mpandas/_libs/lib.pyx\u001b[0m in \u001b[0;36mpandas._libs.lib.map_infer\u001b[1;34m()\u001b[0m\n",
      "\u001b[1;32m<ipython-input-5-cb7a6548bbba>\u001b[0m in \u001b[0;36m<lambda>\u001b[1;34m(x)\u001b[0m\n\u001b[0;32m      2\u001b[0m \u001b[0mcampus_zones\u001b[0m \u001b[1;33m=\u001b[0m \u001b[1;33m[\u001b[0m\u001b[1;36m282\u001b[0m\u001b[1;33m,\u001b[0m \u001b[1;36m526\u001b[0m\u001b[1;33m,\u001b[0m \u001b[1;36m493\u001b[0m\u001b[1;33m,\u001b[0m \u001b[1;36m564\u001b[0m\u001b[1;33m,\u001b[0m \u001b[1;36m419\u001b[0m\u001b[1;33m,\u001b[0m \u001b[1;36m200\u001b[0m\u001b[1;33m,\u001b[0m \u001b[1;36m1042\u001b[0m\u001b[1;33m,\u001b[0m \u001b[1;36m17\u001b[0m\u001b[1;33m,\u001b[0m \u001b[1;36m1179\u001b[0m\u001b[1;33m,\u001b[0m \u001b[1;36m1148\u001b[0m\u001b[1;33m,\u001b[0m \u001b[1;36m5198\u001b[0m\u001b[1;33m,\u001b[0m \u001b[1;36m4069\u001b[0m\u001b[1;33m,\u001b[0m \u001b[1;36m5142\u001b[0m\u001b[1;33m,\u001b[0m \u001b[1;36m5119\u001b[0m\u001b[1;33m,\u001b[0m \u001b[1;36m5198\u001b[0m\u001b[1;33m,\u001b[0m \u001b[1;36m1208\u001b[0m\u001b[1;33m,\u001b[0m \u001b[1;36m1179\u001b[0m\u001b[1;33m,\u001b[0m \u001b[1;36m3325\u001b[0m\u001b[1;33m,\u001b[0m \u001b[1;36m3842\u001b[0m\u001b[1;33m,\u001b[0m \u001b[1;36m4029\u001b[0m\u001b[1;33m,\u001b[0m \u001b[1;36m3631\u001b[0m\u001b[1;33m,\u001b[0m \u001b[1;36m566\u001b[0m\u001b[1;33m,\u001b[0m \u001b[1;36m69\u001b[0m\u001b[1;33m,\u001b[0m \u001b[1;36m391\u001b[0m\u001b[1;33m,\u001b[0m \u001b[1;36m225\u001b[0m\u001b[1;33m]\u001b[0m\u001b[1;33m\u001b[0m\u001b[1;33m\u001b[0m\u001b[0m\n\u001b[0;32m      3\u001b[0m \u001b[1;31m# Add column with campus zones\u001b[0m\u001b[1;33m\u001b[0m\u001b[1;33m\u001b[0m\u001b[1;33m\u001b[0m\u001b[0m\n\u001b[1;32m----> 4\u001b[1;33m \u001b[0mdf\u001b[0m\u001b[1;33m[\u001b[0m\u001b[1;34m'CampusZone'\u001b[0m\u001b[1;33m]\u001b[0m \u001b[1;33m=\u001b[0m \u001b[0mdf\u001b[0m\u001b[1;33m[\u001b[0m\u001b[1;34m'Campus'\u001b[0m\u001b[1;33m]\u001b[0m\u001b[1;33m.\u001b[0m\u001b[0mapply\u001b[0m\u001b[1;33m(\u001b[0m\u001b[1;32mlambda\u001b[0m \u001b[0mx\u001b[0m\u001b[1;33m:\u001b[0m \u001b[0mcampus_zones\u001b[0m\u001b[1;33m[\u001b[0m\u001b[0mx\u001b[0m\u001b[1;33m]\u001b[0m\u001b[1;33m)\u001b[0m\u001b[1;33m\u001b[0m\u001b[1;33m\u001b[0m\u001b[0m\n\u001b[0m\u001b[0;32m      5\u001b[0m \u001b[1;33m\u001b[0m\u001b[0m\n\u001b[0;32m      6\u001b[0m \u001b[1;31m# Add columns for Distance, Transit Travel Time, Auto Travel Time\u001b[0m\u001b[1;33m\u001b[0m\u001b[1;33m\u001b[0m\u001b[1;33m\u001b[0m\u001b[0m\n",
      "\u001b[1;31mIndexError\u001b[0m: list index out of range"
     ]
    }
   ],
   "source": [
    "# List of campus' TTS zones from Joven's MOE data\n",
    "campus_zones = [282, 526, 493, 564, 419, 200, 1042, 17, 1179, 1148, 5198, 4069, 5142, 5119, 5198, 1208, 1179, 3325, 3842, 4029, 3631, 566, 69, 391, 225, 38, 67]\n",
    "# Add column with campus zones\n",
    "df['CampusZone'] = df['Campus'].apply(lambda x: campus_zones[x])\n",
    "\n",
    "# Add columns for Distance, Transit Travel Time, Auto Travel Time\n",
    "df['AIVTT'] = df.apply(lambda x: find_value(x.HomeZone, x.CampusZone, 0), axis=1)\n",
    "df['TPTT'] = df.apply(lambda x: find_value(x.HomeZone, x.CampusZone, 1), axis=1)\n",
    "df['Dist'] = df.apply(lambda x: find_value(x.HomeZone, x.CampusZone, 2), axis=1)"
   ]
  },
  {
   "cell_type": "code",
   "execution_count": null,
   "metadata": {
    "scrolled": true
   },
   "outputs": [],
   "source": [
    "print(df.shape)\n",
    "df.head()"
   ]
  },
  {
   "cell_type": "code",
   "execution_count": null,
   "metadata": {
    "scrolled": true
   },
   "outputs": [],
   "source": [
    "# Load data into Biogeme database\n",
    "database = db.Database(\"SMTO\", df)\n",
    "\n",
    "# Definition of new variables: adding columns to the database \n",
    "Available =  DefineVariable('Available', 1, database) # All modes available to all students\n",
    "\n",
    "# Make variable names global\n",
    "globals().update(database.variables)\n",
    "\n",
    "# Remove unknown values\n",
    "database.remove(Dist == 0.0)\n",
    "database.remove(TPTT == 0.0)\n",
    "database.remove(AIVTT == 0.0)"
   ]
  },
  {
   "cell_type": "code",
   "execution_count": null,
   "metadata": {},
   "outputs": [],
   "source": [
    "df['Mode'].value_counts()"
   ]
  },
  {
   "cell_type": "code",
   "execution_count": null,
   "metadata": {},
   "outputs": [],
   "source": [
    "\"\"\"\n",
    "# Here we use the \"biogeme\" way for backward compatibility\n",
    "exclude = HomeToMainCampusKM > 130\n",
    "database.remove(exclude)\n",
    "database.data\n",
    "\n",
    "# Parameters to be estimated\n",
    "ASC_CAR = Beta('ASC_CAR',0,None,None,0)\n",
    "ASC_TRAIN = Beta('ASC_TRAIN',0,None,None,0)\n",
    "ASC_SM = Beta('ASC_SM',0,None,None,1)\n",
    "B_TIME = Beta('B_TIME',0,None,None,0)\n",
    "B_COST = Beta('B_COST',0,None,None,0)\n",
    "\n",
    "# Definition of new variables\n",
    "SM_COST =  SM_CO   * (  GA   ==  0  ) \n",
    "TRAIN_COST =  TRAIN_CO   * (  GA   ==  0  )\n",
    "\n",
    "# Definition of new variables: adding columns to the database \n",
    "CAR_AV_SP =  DefineVariable('CAR_AV_SP',CAR_AV  * (  SP   !=  0  ),database)\n",
    "TRAIN_AV_SP =  DefineVariable('TRAIN_AV_SP',TRAIN_AV  * (  SP   !=  0  ),database)\n",
    "TRAIN_TT_SCALED = DefineVariable('TRAIN_TT_SCALED',\\\n",
    "                                 TRAIN_TT / 100.0,database)\n",
    "TRAIN_COST_SCALED = DefineVariable('TRAIN_COST_SCALED',\\\n",
    "                                   TRAIN_COST / 100,database)\n",
    "SM_TT_SCALED = DefineVariable('SM_TT_SCALED', SM_TT / 100.0,database)\n",
    "SM_COST_SCALED = DefineVariable('SM_COST_SCALED', SM_COST / 100,database)\n",
    "CAR_TT_SCALED = DefineVariable('CAR_TT_SCALED', CAR_TT / 100,database)\n",
    "CAR_CO_SCALED = DefineVariable('CAR_CO_SCALED', CAR_CO / 100,database)\n",
    "\n",
    "# Definition of the utility functions\n",
    "V1 = ASC_TRAIN + \\\n",
    "     B_TIME * TRAIN_TT_SCALED + \\\n",
    "     B_COST * TRAIN_COST_SCALED\n",
    "V2 = ASC_SM + \\\n",
    "     B_TIME * SM_TT_SCALED + \\\n",
    "     B_COST * SM_COST_SCALED\n",
    "V3 = ASC_CAR + \\\n",
    "     B_TIME * CAR_TT_SCALED + \\\n",
    "     B_COST * CAR_CO_SCALED\n",
    "\n",
    "# Associate utility functions with the numbering of alternatives\n",
    "V = {1: V1,\n",
    "     2: V2,\n",
    "     3: V3}\n",
    "\n",
    "# Associate the availability conditions with the alternatives\n",
    "av = {1: TRAIN_AV_SP,\n",
    "      2: SM_AV,\n",
    "      3: CAR_AV_SP}\n",
    "      \n",
    "# Definition of the model. This is the contribution of each\n",
    "# observation to the log likelihood function.\n",
    "logprob = models.loglogit(V,av,CHOICE)\n",
    "\n",
    "\"\"\"\n",
    "\n",
    "\n",
    "# Beta initialization: (name, value, lowerbound, upperbound, status, desc='')\n",
    "# Status 0 if estimated, 1 if maintained - reference choice should be 1\n",
    "ASC_AU = Beta('ASC_AU', 0, None, None, 1)\n",
    "ASC_TR = Beta('ASC_TR', 0, None, None, 0)\n",
    "ASC_AC = Beta('ASC_AC', 0, None, None, 0)\n",
    "B_AIVTT = Beta('B_AIVTT', -0.001, None, None, 0)\n",
    "B_TPTT = Beta('B_TPTT', -0.001, None, None, 0)\n",
    "B_DIST = Beta('B_DIST', -0.0001, None, None, 0)\n",
    "\n",
    "\n",
    "# Variables: from columns in database\n",
    "AV = DefineVariable('AV', Available, database)\n",
    "AU_AIVTT = DefineVariable('AU_AIVTT', AIVTT, database)\n",
    "TR_TPTT = DefineVariable('TR_TPTT', TPTT, database)\n",
    "AC_DIST = DefineVariable('AC_DIST', Dist, database)\n",
    "\n",
    "# Mode Choice Utility Functions: ASC_AU is 0\n",
    "V0 = ASC_AU + B_AIVTT * AU_AIVTT \n",
    "V1 = ASC_TR + B_TPTT * TR_TPTT\n",
    "V2 = ASC_AC + B_DIST * AC_DIST\n",
    "\n",
    "\n",
    "V  = {0: V0, 1: V1, 2: V2}\n",
    "av = {0: AV, 1: AV, 2: AV}"
   ]
  },
  {
   "cell_type": "code",
   "execution_count": null,
   "metadata": {
    "scrolled": true
   },
   "outputs": [],
   "source": [
    "database.data"
   ]
  },
  {
   "cell_type": "code",
   "execution_count": null,
   "metadata": {
    "scrolled": false
   },
   "outputs": [],
   "source": [
    "# Definition of the model. This is the contribution of each\n",
    "# observation to the log likelihood function.\n",
    "logprob = models.loglogit(V, av, Mode)\n",
    "\n",
    "# Define level of verbosity\n",
    "import biogeme.messaging as msg\n",
    "logger = msg.bioMessage()\n",
    "logger.setDebug()\n",
    "#logger.setWarning()\n",
    "#logger.setGeneral()\n",
    "#logger.setDetailed()\n",
    "\n",
    "# Create the Biogeme object\n",
    "biogeme  = bio.BIOGEME(database,logprob,numberOfThreads=1)\n",
    "biogeme.modelName = \"SMTO_2019_ModeChoice_Run2\"\n",
    "#,numberOfThreads=1\n",
    "\n",
    "# Estimate the parameters\n",
    "results = biogeme.estimate(saveIterations=True)\n",
    "biogeme.createLogFile()\n",
    "\n",
    "# Print the estimated values\n",
    "betas = results.getBetaValues()\n",
    "for k,v in betas.items():\n",
    "    print(f\"{k:10}=\\t{v:.3g}\")\n",
    "\n",
    "# Get the results in a pandas table\n",
    "pandasResults = results.getEstimatedParameters()\n",
    "print(pandasResults)"
   ]
  },
  {
   "cell_type": "markdown",
   "metadata": {},
   "source": [
    "Upon running, this produces several output files. The most important is the html file.\n",
    "\n",
    "### Resources\n",
    "UT Austin example: https://www.youtube.com/watch?v=QeJgyBIaXMQ  \n",
    "Biogeme example: https://www.youtube.com/watch?v=OiM94B8WayA  \n",
    "Nested logit example: https://www.youtube.com/watch?v=vEhvf54IKvs"
   ]
  }
 ],
 "metadata": {
  "kernelspec": {
   "display_name": "Python 3",
   "language": "python",
   "name": "python3"
  },
  "language_info": {
   "codemirror_mode": {
    "name": "ipython",
    "version": 3
   },
   "file_extension": ".py",
   "mimetype": "text/x-python",
   "name": "python",
   "nbconvert_exporter": "python",
   "pygments_lexer": "ipython3",
   "version": "3.7.3"
  }
 },
 "nbformat": 4,
 "nbformat_minor": 4
}
