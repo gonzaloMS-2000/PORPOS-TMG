{
 "cells": [
  {
   "cell_type": "code",
   "execution_count": 1,
   "metadata": {
    "scrolled": true
   },
   "outputs": [
    {
     "data": {
      "text/html": [
       "<div>\n",
       "<style scoped>\n",
       "    .dataframe tbody tr th:only-of-type {\n",
       "        vertical-align: middle;\n",
       "    }\n",
       "\n",
       "    .dataframe tbody tr th {\n",
       "        vertical-align: top;\n",
       "    }\n",
       "\n",
       "    .dataframe thead th {\n",
       "        text-align: right;\n",
       "    }\n",
       "</style>\n",
       "<table border=\"1\" class=\"dataframe\">\n",
       "  <thead>\n",
       "    <tr style=\"text-align: right;\">\n",
       "      <th></th>\n",
       "      <th>Liv_Arr</th>\n",
       "      <th>Children</th>\n",
       "      <th>Cars</th>\n",
       "      <th>Income</th>\n",
       "      <th>Home_Zone</th>\n",
       "      <th>School</th>\n",
       "      <th>Campus</th>\n",
       "      <th>Work</th>\n",
       "      <th>Licence</th>\n",
       "      <th>Mode</th>\n",
       "      <th>...</th>\n",
       "      <th>Closest.SHD</th>\n",
       "      <th>Closest.SHH</th>\n",
       "      <th>Closest.SHT</th>\n",
       "      <th>Closest.MI</th>\n",
       "      <th>Closest.SC</th>\n",
       "      <th>Closest.SG</th>\n",
       "      <th>Closest.YK</th>\n",
       "      <th>Closest.YG</th>\n",
       "      <th>Closest.RY</th>\n",
       "      <th>Closest.OC</th>\n",
       "    </tr>\n",
       "  </thead>\n",
       "  <tbody>\n",
       "    <tr>\n",
       "      <th>0</th>\n",
       "      <td>Live with family/parents</td>\n",
       "      <td>0.0</td>\n",
       "      <td>0.0</td>\n",
       "      <td>Unknown</td>\n",
       "      <td>3851.0</td>\n",
       "      <td>CPR</td>\n",
       "      <td>Progress Campus</td>\n",
       "      <td>NW</td>\n",
       "      <td>False</td>\n",
       "      <td>Transit</td>\n",
       "      <td>...</td>\n",
       "      <td>0</td>\n",
       "      <td>1</td>\n",
       "      <td>0</td>\n",
       "      <td>0</td>\n",
       "      <td>0</td>\n",
       "      <td>0</td>\n",
       "      <td>0</td>\n",
       "      <td>0</td>\n",
       "      <td>0</td>\n",
       "      <td>0</td>\n",
       "    </tr>\n",
       "    <tr>\n",
       "      <th>1</th>\n",
       "      <td>Live with family/parents</td>\n",
       "      <td>0.0</td>\n",
       "      <td>1.0</td>\n",
       "      <td>Unknown</td>\n",
       "      <td>181.0</td>\n",
       "      <td>CMO</td>\n",
       "      <td>Morningside Campus</td>\n",
       "      <td>NW</td>\n",
       "      <td>False</td>\n",
       "      <td>Transit</td>\n",
       "      <td>...</td>\n",
       "      <td>0</td>\n",
       "      <td>0</td>\n",
       "      <td>0</td>\n",
       "      <td>0</td>\n",
       "      <td>0</td>\n",
       "      <td>0</td>\n",
       "      <td>0</td>\n",
       "      <td>0</td>\n",
       "      <td>0</td>\n",
       "      <td>0</td>\n",
       "    </tr>\n",
       "    <tr>\n",
       "      <th>2</th>\n",
       "      <td>Live with family/parents</td>\n",
       "      <td>0.0</td>\n",
       "      <td>2.0</td>\n",
       "      <td>Unknown</td>\n",
       "      <td>1039.0</td>\n",
       "      <td>CPR</td>\n",
       "      <td>Progress Campus</td>\n",
       "      <td>NW</td>\n",
       "      <td>False</td>\n",
       "      <td>Transit</td>\n",
       "      <td>...</td>\n",
       "      <td>0</td>\n",
       "      <td>0</td>\n",
       "      <td>0</td>\n",
       "      <td>0</td>\n",
       "      <td>1</td>\n",
       "      <td>0</td>\n",
       "      <td>0</td>\n",
       "      <td>0</td>\n",
       "      <td>0</td>\n",
       "      <td>0</td>\n",
       "    </tr>\n",
       "    <tr>\n",
       "      <th>3</th>\n",
       "      <td>NaN</td>\n",
       "      <td>NaN</td>\n",
       "      <td>NaN</td>\n",
       "      <td>Unknown</td>\n",
       "      <td>191.0</td>\n",
       "      <td>CPR</td>\n",
       "      <td>Progress Campus</td>\n",
       "      <td>NW</td>\n",
       "      <td>False</td>\n",
       "      <td>NaN</td>\n",
       "      <td>...</td>\n",
       "      <td>0</td>\n",
       "      <td>0</td>\n",
       "      <td>0</td>\n",
       "      <td>0</td>\n",
       "      <td>0</td>\n",
       "      <td>0</td>\n",
       "      <td>0</td>\n",
       "      <td>0</td>\n",
       "      <td>0</td>\n",
       "      <td>0</td>\n",
       "    </tr>\n",
       "    <tr>\n",
       "      <th>4</th>\n",
       "      <td>Live with family/parents</td>\n",
       "      <td>1.0</td>\n",
       "      <td>1.0</td>\n",
       "      <td>Unknown</td>\n",
       "      <td>600.0</td>\n",
       "      <td>CPR</td>\n",
       "      <td>Progress Campus</td>\n",
       "      <td>NW</td>\n",
       "      <td>False</td>\n",
       "      <td>NaN</td>\n",
       "      <td>...</td>\n",
       "      <td>0</td>\n",
       "      <td>0</td>\n",
       "      <td>0</td>\n",
       "      <td>0</td>\n",
       "      <td>0</td>\n",
       "      <td>0</td>\n",
       "      <td>0</td>\n",
       "      <td>0</td>\n",
       "      <td>0</td>\n",
       "      <td>0</td>\n",
       "    </tr>\n",
       "  </tbody>\n",
       "</table>\n",
       "<p>5 rows × 98 columns</p>\n",
       "</div>"
      ],
      "text/plain": [
       "                    Liv_Arr  Children  Cars   Income  Home_Zone School  \\\n",
       "0  Live with family/parents       0.0   0.0  Unknown     3851.0    CPR   \n",
       "1  Live with family/parents       0.0   1.0  Unknown      181.0    CMO   \n",
       "2  Live with family/parents       0.0   2.0  Unknown     1039.0    CPR   \n",
       "3                       NaN       NaN   NaN  Unknown      191.0    CPR   \n",
       "4  Live with family/parents       1.0   1.0  Unknown      600.0    CPR   \n",
       "\n",
       "               Campus Work Licence     Mode  ...  Closest.SHD Closest.SHH  \\\n",
       "0     Progress Campus   NW   False  Transit  ...            0           1   \n",
       "1  Morningside Campus   NW   False  Transit  ...            0           0   \n",
       "2     Progress Campus   NW   False  Transit  ...            0           0   \n",
       "3     Progress Campus   NW   False      NaN  ...            0           0   \n",
       "4     Progress Campus   NW   False      NaN  ...            0           0   \n",
       "\n",
       "  Closest.SHT Closest.MI Closest.SC  Closest.SG  Closest.YK  Closest.YG  \\\n",
       "0           0          0          0           0           0           0   \n",
       "1           0          0          0           0           0           0   \n",
       "2           0          0          1           0           0           0   \n",
       "3           0          0          0           0           0           0   \n",
       "4           0          0          0           0           0           0   \n",
       "\n",
       "   Closest.RY  Closest.OC  \n",
       "0           0           0  \n",
       "1           0           0  \n",
       "2           0           0  \n",
       "3           0           0  \n",
       "4           0           0  \n",
       "\n",
       "[5 rows x 98 columns]"
      ]
     },
     "execution_count": 1,
     "metadata": {},
     "output_type": "execute_result"
    }
   ],
   "source": [
    "import pandas as pd\n",
    "from sklearn.model_selection import train_test_split\n",
    "from sklearn.ensemble import RandomForestClassifier\n",
    "from sklearn.metrics import precision_recall_fscore_support\n",
    "from sklearn.metrics import matthews_corrcoef\n",
    "from sklearn.metrics import f1_score\n",
    "from sklearn.metrics import confusion_matrix\n",
    "import statistics as stats\n",
    "\n",
    "df = pd.read_csv('../../Data/SMTO_2019/SMTO_2019_Complete_Input.csv')\n",
    "school_codes = df['School'].unique().tolist()\n",
    "uni_codes = df[df['School_Type'] == 'University']['School'].unique().tolist()\n",
    "df.head()"
   ]
  },
  {
   "cell_type": "code",
   "execution_count": 2,
   "metadata": {},
   "outputs": [],
   "source": [
    "PD_df = pd.read_csv('../../Data/Zones.csv')\n",
    "PD_df.set_index(PD_df['Zone#'],inplace = True)\n",
    "\n",
    "def zone_to_PD(x):\n",
    "    try:\n",
    "        return PD_df['PD'][x]\n",
    "    except:\n",
    "        return -1\n",
    "\n",
    "df['PD'] = df['Home_Zone'].apply(lambda x: zone_to_PD(x))"
   ]
  },
  {
   "cell_type": "code",
   "execution_count": 3,
   "metadata": {},
   "outputs": [
    {
     "data": {
      "text/plain": [
       "0"
      ]
     },
     "execution_count": 3,
     "metadata": {},
     "output_type": "execute_result"
    }
   ],
   "source": [
    "df = df[['School_Type', 'PD', 'Age', 'Cars', 'Family', 'Income', 'Closest', 'Licence']]\n",
    "\n",
    "df['Income_High'] = (df['Income'] == 'High').astype(int)\n",
    "df['Income_Low'] = (df['Income'] == 'Low').astype(int)\n",
    "\n",
    "df['Family_True'] = (df['Family'] == True).astype(int)\n",
    "df['Family_False'] = (df['Family'] == False).astype(int)\n",
    "\n",
    "df['Closest_Col'] = ((~ df['Closest'].isin(uni_codes)) & (df['Family_False'])).astype(int)\n",
    "df['Closest_Uni'] = ((df['Closest'].isin(uni_codes)) & (df['Family_False'])).astype(int)\n",
    "\n",
    "df['Cars2+'] = (df['Cars'] >= 2).astype(int)\n",
    "df['Cars1'] = (df['Cars'] == 1).astype(int)\n",
    "df['Cars0'] = (df['Cars'] == 0).astype(int)\n",
    "\n",
    "df['Licence_True'] = (df['Licence'] == 1).astype(int)\n",
    "df['Licence_False'] = (df['Licence'] == 0).astype(int)\n",
    "\n",
    "df = df.drop(columns = ['Cars', 'Family', 'Licence', 'Income', 'Closest'])\n",
    "df.isnull().sum().sum()"
   ]
  },
  {
   "cell_type": "code",
   "execution_count": 4,
   "metadata": {},
   "outputs": [
    {
     "data": {
      "text/plain": [
       "School_Type       object\n",
       "PD                 int64\n",
       "Age              float64\n",
       "Income_High        int32\n",
       "Income_Low         int32\n",
       "Family_True        int32\n",
       "Family_False       int32\n",
       "Closest_Col        int32\n",
       "Closest_Uni        int32\n",
       "Cars2+             int32\n",
       "Cars1              int32\n",
       "Cars0              int32\n",
       "Licence_True       int32\n",
       "Licence_False      int32\n",
       "dtype: object"
      ]
     },
     "execution_count": 4,
     "metadata": {},
     "output_type": "execute_result"
    }
   ],
   "source": [
    "df.dtypes"
   ]
  },
  {
   "cell_type": "code",
   "execution_count": 5,
   "metadata": {
    "scrolled": true
   },
   "outputs": [
    {
     "data": {
      "text/plain": [
       "array([0.48005828, 0.34519703, 0.01743966, 0.025441  , 0.01308209,\n",
       "       0.00913954, 0.01900934, 0.01691504, 0.01396787, 0.01146304,\n",
       "       0.01227486, 0.02003438, 0.01597788])"
      ]
     },
     "execution_count": 5,
     "metadata": {},
     "output_type": "execute_result"
    }
   ],
   "source": [
    "# Define X and Y for the training set\n",
    "y = df['School_Type']\n",
    "x = df.drop(columns=['School_Type'])\n",
    "\n",
    "# --- RUN Random Forest Model --- #\n",
    "rf = RandomForestClassifier()\n",
    "X_train, X_test, y_train, y_test = train_test_split(x, y, test_size=0.3)\n",
    "rf.fit(X_train, y_train)\n",
    "y_pred = rf.predict(X_test)\n",
    "\n",
    "rf.feature_importances_"
   ]
  },
  {
   "cell_type": "code",
   "execution_count": 6,
   "metadata": {},
   "outputs": [
    {
     "data": {
      "text/html": [
       "<div>\n",
       "<style scoped>\n",
       "    .dataframe tbody tr th:only-of-type {\n",
       "        vertical-align: middle;\n",
       "    }\n",
       "\n",
       "    .dataframe tbody tr th {\n",
       "        vertical-align: top;\n",
       "    }\n",
       "\n",
       "    .dataframe thead th {\n",
       "        text-align: right;\n",
       "    }\n",
       "</style>\n",
       "<table border=\"1\" class=\"dataframe\">\n",
       "  <thead>\n",
       "    <tr style=\"text-align: right;\">\n",
       "      <th></th>\n",
       "      <th>Pred_Col</th>\n",
       "      <th>Pred_Uni</th>\n",
       "    </tr>\n",
       "  </thead>\n",
       "  <tbody>\n",
       "    <tr>\n",
       "      <th>Obs_Col</th>\n",
       "      <td>380</td>\n",
       "      <td>658</td>\n",
       "    </tr>\n",
       "    <tr>\n",
       "      <th>Obs_Uni</th>\n",
       "      <td>305</td>\n",
       "      <td>3612</td>\n",
       "    </tr>\n",
       "  </tbody>\n",
       "</table>\n",
       "</div>"
      ],
      "text/plain": [
       "         Pred_Col  Pred_Uni\n",
       "Obs_Col       380       658\n",
       "Obs_Uni       305      3612"
      ]
     },
     "execution_count": 6,
     "metadata": {},
     "output_type": "execute_result"
    }
   ],
   "source": [
    "# --- Confusion Matrix ---\n",
    "CM = pd.DataFrame(confusion_matrix(y_test, y_pred))\n",
    "CM.rename(columns = {0: 'Pred_Col', 1: 'Pred_Uni'}, index = {0: 'Obs_Col', 1: 'Obs_Uni'}, inplace = True)\n",
    "CM"
   ]
  },
  {
   "cell_type": "code",
   "execution_count": 7,
   "metadata": {},
   "outputs": [
    {
     "data": {
      "text/plain": [
       "0.4410911201392919"
      ]
     },
     "execution_count": 7,
     "metadata": {},
     "output_type": "execute_result"
    }
   ],
   "source": [
    "f1_score(y_test, y_pred, average=None)[0]"
   ]
  },
  {
   "cell_type": "code",
   "execution_count": 8,
   "metadata": {},
   "outputs": [
    {
     "data": {
      "text/html": [
       "<div>\n",
       "<style scoped>\n",
       "    .dataframe tbody tr th:only-of-type {\n",
       "        vertical-align: middle;\n",
       "    }\n",
       "\n",
       "    .dataframe tbody tr th {\n",
       "        vertical-align: top;\n",
       "    }\n",
       "\n",
       "    .dataframe thead th {\n",
       "        text-align: right;\n",
       "    }\n",
       "</style>\n",
       "<table border=\"1\" class=\"dataframe\">\n",
       "  <thead>\n",
       "    <tr style=\"text-align: right;\">\n",
       "      <th></th>\n",
       "      <th>0</th>\n",
       "      <th>1</th>\n",
       "    </tr>\n",
       "  </thead>\n",
       "  <tbody>\n",
       "    <tr>\n",
       "      <th>0</th>\n",
       "      <td>0.680000</td>\n",
       "      <td>0.320000</td>\n",
       "    </tr>\n",
       "    <tr>\n",
       "      <th>1</th>\n",
       "      <td>0.725000</td>\n",
       "      <td>0.275000</td>\n",
       "    </tr>\n",
       "    <tr>\n",
       "      <th>2</th>\n",
       "      <td>0.827500</td>\n",
       "      <td>0.172500</td>\n",
       "    </tr>\n",
       "    <tr>\n",
       "      <th>3</th>\n",
       "      <td>0.337857</td>\n",
       "      <td>0.662143</td>\n",
       "    </tr>\n",
       "    <tr>\n",
       "      <th>4</th>\n",
       "      <td>0.730000</td>\n",
       "      <td>0.270000</td>\n",
       "    </tr>\n",
       "    <tr>\n",
       "      <th>...</th>\n",
       "      <td>...</td>\n",
       "      <td>...</td>\n",
       "    </tr>\n",
       "    <tr>\n",
       "      <th>16511</th>\n",
       "      <td>0.000000</td>\n",
       "      <td>1.000000</td>\n",
       "    </tr>\n",
       "    <tr>\n",
       "      <th>16512</th>\n",
       "      <td>0.030000</td>\n",
       "      <td>0.970000</td>\n",
       "    </tr>\n",
       "    <tr>\n",
       "      <th>16513</th>\n",
       "      <td>0.190000</td>\n",
       "      <td>0.810000</td>\n",
       "    </tr>\n",
       "    <tr>\n",
       "      <th>16514</th>\n",
       "      <td>0.020000</td>\n",
       "      <td>0.980000</td>\n",
       "    </tr>\n",
       "    <tr>\n",
       "      <th>16515</th>\n",
       "      <td>0.072500</td>\n",
       "      <td>0.927500</td>\n",
       "    </tr>\n",
       "  </tbody>\n",
       "</table>\n",
       "<p>16516 rows × 2 columns</p>\n",
       "</div>"
      ],
      "text/plain": [
       "              0         1\n",
       "0      0.680000  0.320000\n",
       "1      0.725000  0.275000\n",
       "2      0.827500  0.172500\n",
       "3      0.337857  0.662143\n",
       "4      0.730000  0.270000\n",
       "...         ...       ...\n",
       "16511  0.000000  1.000000\n",
       "16512  0.030000  0.970000\n",
       "16513  0.190000  0.810000\n",
       "16514  0.020000  0.980000\n",
       "16515  0.072500  0.927500\n",
       "\n",
       "[16516 rows x 2 columns]"
      ]
     },
     "execution_count": 8,
     "metadata": {},
     "output_type": "execute_result"
    }
   ],
   "source": [
    "pd.DataFrame(rf.predict_proba(x))"
   ]
  },
  {
   "cell_type": "code",
   "execution_count": 9,
   "metadata": {
    "scrolled": true
   },
   "outputs": [
    {
     "name": "stdout",
     "output_type": "stream",
     "text": [
      "Area under the ROC curve: 0.905981848053536\n"
     ]
    },
    {
     "data": {
      "image/png": "[encoded data removed]",
      "text/plain": [
       "<Figure size 432x288 with 1 Axes>"
      ]
     },
     "metadata": {
      "needs_background": "light"
     },
     "output_type": "display_data"
    }
   ],
   "source": [
    "from sklearn.metrics import roc_auc_score, roc_curve\n",
    "import matplotlib.pyplot as plt\n",
    "\n",
    "probs = pd.DataFrame(rf.predict_proba(x))[0]\n",
    "results = roc_curve(y, probs, pos_label = 'College')\n",
    "plt.plot(results[0], results[1])\n",
    "plt.show\n",
    "\n",
    "plt.scatter(results[0][287], results[1][287])\n",
    "plt.xlabel('False Positive Rate') # how many of the pred college were uni\n",
    "plt.ylabel('True Possitive Rate') # how many college were actually college\n",
    "\n",
    "y_new = [1 * (element == 'College') for element in y]\n",
    "\n",
    "print('Area under the ROC curve: ' + str(roc_auc_score(y_new, probs)))"
   ]
  },
  {
   "cell_type": "code",
   "execution_count": 10,
   "metadata": {},
   "outputs": [
    {
     "data": {
      "text/plain": [
       "<matplotlib.collections.PathCollection at 0x24ee3098708>"
      ]
     },
     "execution_count": 10,
     "metadata": {},
     "output_type": "execute_result"
    },
    {
     "data": {
      "image/png": "[encoded data removed]",
      "text/plain": [
       "<Figure size 432x288 with 1 Axes>"
      ]
     },
     "metadata": {
      "needs_background": "light"
     },
     "output_type": "display_data"
    }
   ],
   "source": [
    "import numpy as np\n",
    "f1s = []\n",
    "ts = np.linspace(0.1, 0.5, 41, endpoint=True)\n",
    "for t in ts:\n",
    "    y_pred_new = (probs >= t)\n",
    "    f1s.append(f1_score(y_new, y_pred_new, average = None)[1])\n",
    "plt.scatter(ts, f1s)"
   ]
  },
  {
   "cell_type": "code",
   "execution_count": 11,
   "metadata": {},
   "outputs": [
    {
     "data": {
      "text/plain": [
       "0.36"
      ]
     },
     "execution_count": 11,
     "metadata": {},
     "output_type": "execute_result"
    }
   ],
   "source": [
    "new_threshold = ts[f1s.index(max(f1s))]\n",
    "new_threshold"
   ]
  },
  {
   "cell_type": "code",
   "execution_count": 12,
   "metadata": {},
   "outputs": [
    {
     "data": {
      "text/html": [
       "<div>\n",
       "<style scoped>\n",
       "    .dataframe tbody tr th:only-of-type {\n",
       "        vertical-align: middle;\n",
       "    }\n",
       "\n",
       "    .dataframe tbody tr th {\n",
       "        vertical-align: top;\n",
       "    }\n",
       "\n",
       "    .dataframe thead th {\n",
       "        text-align: right;\n",
       "    }\n",
       "</style>\n",
       "<table border=\"1\" class=\"dataframe\">\n",
       "  <thead>\n",
       "    <tr style=\"text-align: right;\">\n",
       "      <th></th>\n",
       "      <th>Pred_Uni</th>\n",
       "      <th>Pred_Col</th>\n",
       "    </tr>\n",
       "  </thead>\n",
       "  <tbody>\n",
       "    <tr>\n",
       "      <th>Obs_Uni</th>\n",
       "      <td>11841</td>\n",
       "      <td>1207</td>\n",
       "    </tr>\n",
       "    <tr>\n",
       "      <th>Obs_Col</th>\n",
       "      <td>986</td>\n",
       "      <td>2482</td>\n",
       "    </tr>\n",
       "  </tbody>\n",
       "</table>\n",
       "</div>"
      ],
      "text/plain": [
       "         Pred_Uni  Pred_Col\n",
       "Obs_Uni     11841      1207\n",
       "Obs_Col       986      2482"
      ]
     },
     "execution_count": 12,
     "metadata": {},
     "output_type": "execute_result"
    }
   ],
   "source": [
    "# Predict School Type for testing data\n",
    "y_pred_new = (probs >= new_threshold)\n",
    "\n",
    "# --- Confusion Matrix ---\n",
    "test_CM = pd.DataFrame(confusion_matrix(y_new, y_pred_new))\n",
    "test_CM.rename(columns = {1: 'Pred_Col', 0: 'Pred_Uni'}, index = {1: 'Obs_Col', 0: 'Obs_Uni'}, inplace = True)\n",
    "test_CM"
   ]
  },
  {
   "cell_type": "code",
   "execution_count": 13,
   "metadata": {},
   "outputs": [
    {
     "data": {
      "text/plain": [
       "0.6935866983372921"
      ]
     },
     "execution_count": 13,
     "metadata": {},
     "output_type": "execute_result"
    }
   ],
   "source": [
    "f1_score(y_new, y_pred_new, average = None)[1]"
   ]
  },
  {
   "cell_type": "code",
   "execution_count": 14,
   "metadata": {},
   "outputs": [],
   "source": [
    "probs_df = pd.DataFrame(rf.predict_proba(x), columns=['Prob.Col', 'Prob.Uni'])\n",
    "probs_df['Pred'] = probs_df['Prob.Col'].apply(lambda x: 'Col' if x >= new_threshold else 'Uni')"
   ]
  },
  {
   "cell_type": "code",
   "execution_count": 15,
   "metadata": {},
   "outputs": [],
   "source": [
    "probs_df.to_csv('RF_Predictions.csv')"
   ]
  }
 ],
 "metadata": {
  "kernelspec": {
   "display_name": "Python 3",
   "language": "python",
   "name": "python3"
  },
  "language_info": {
   "codemirror_mode": {
    "name": "ipython",
    "version": 3
   },
   "file_extension": ".py",
   "mimetype": "text/x-python",
   "name": "python",
   "nbconvert_exporter": "python",
   "pygments_lexer": "ipython3",
   "version": "3.7.6"
  }
 },
 "nbformat": 4,
 "nbformat_minor": 4
}
