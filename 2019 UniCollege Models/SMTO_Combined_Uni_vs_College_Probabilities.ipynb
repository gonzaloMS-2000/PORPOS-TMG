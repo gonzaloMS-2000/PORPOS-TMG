{
 "cells": [
  {
   "cell_type": "code",
   "execution_count": 1,
   "metadata": {
    "scrolled": true
   },
   "outputs": [
    {
     "data": {
      "text/html": [
       "<div>\n",
       "<style scoped>\n",
       "    .dataframe tbody tr th:only-of-type {\n",
       "        vertical-align: middle;\n",
       "    }\n",
       "\n",
       "    .dataframe tbody tr th {\n",
       "        vertical-align: top;\n",
       "    }\n",
       "\n",
       "    .dataframe thead th {\n",
       "        text-align: right;\n",
       "    }\n",
       "</style>\n",
       "<table border=\"1\" class=\"dataframe\">\n",
       "  <thead>\n",
       "    <tr style=\"text-align: right;\">\n",
       "      <th></th>\n",
       "      <th>Source</th>\n",
       "      <th>Source_Index</th>\n",
       "      <th>School</th>\n",
       "      <th>School_Type</th>\n",
       "      <th>Mode</th>\n",
       "      <th>Home_Zone</th>\n",
       "      <th>PD</th>\n",
       "      <th>Family</th>\n",
       "      <th>Cars</th>\n",
       "      <th>Income</th>\n",
       "      <th>...</th>\n",
       "      <th>Closest.MCM</th>\n",
       "      <th>Closest.MCB</th>\n",
       "      <th>Closest.MOF</th>\n",
       "      <th>Closest.MOI</th>\n",
       "      <th>Closest.MOS</th>\n",
       "      <th>Closest.OTN</th>\n",
       "      <th>Closest.OTD</th>\n",
       "      <th>Closest.SHT</th>\n",
       "      <th>Closest.SHD</th>\n",
       "      <th>Closest.SHH</th>\n",
       "    </tr>\n",
       "  </thead>\n",
       "  <tbody>\n",
       "    <tr>\n",
       "      <th>0</th>\n",
       "      <td>2015</td>\n",
       "      <td>0</td>\n",
       "      <td>SC</td>\n",
       "      <td>University</td>\n",
       "      <td>Transit</td>\n",
       "      <td>261</td>\n",
       "      <td>6</td>\n",
       "      <td>True</td>\n",
       "      <td>1.0</td>\n",
       "      <td>Unknown</td>\n",
       "      <td>...</td>\n",
       "      <td>False</td>\n",
       "      <td>False</td>\n",
       "      <td>False</td>\n",
       "      <td>False</td>\n",
       "      <td>False</td>\n",
       "      <td>False</td>\n",
       "      <td>False</td>\n",
       "      <td>False</td>\n",
       "      <td>False</td>\n",
       "      <td>False</td>\n",
       "    </tr>\n",
       "    <tr>\n",
       "      <th>1</th>\n",
       "      <td>2015</td>\n",
       "      <td>1</td>\n",
       "      <td>SG</td>\n",
       "      <td>University</td>\n",
       "      <td>Active</td>\n",
       "      <td>71</td>\n",
       "      <td>1</td>\n",
       "      <td>False</td>\n",
       "      <td>0.0</td>\n",
       "      <td>High</td>\n",
       "      <td>...</td>\n",
       "      <td>False</td>\n",
       "      <td>False</td>\n",
       "      <td>False</td>\n",
       "      <td>False</td>\n",
       "      <td>False</td>\n",
       "      <td>False</td>\n",
       "      <td>False</td>\n",
       "      <td>False</td>\n",
       "      <td>False</td>\n",
       "      <td>False</td>\n",
       "    </tr>\n",
       "    <tr>\n",
       "      <th>2</th>\n",
       "      <td>2015</td>\n",
       "      <td>2</td>\n",
       "      <td>SG</td>\n",
       "      <td>University</td>\n",
       "      <td>Transit</td>\n",
       "      <td>3714</td>\n",
       "      <td>36</td>\n",
       "      <td>True</td>\n",
       "      <td>1.0</td>\n",
       "      <td>Unknown</td>\n",
       "      <td>...</td>\n",
       "      <td>False</td>\n",
       "      <td>False</td>\n",
       "      <td>False</td>\n",
       "      <td>False</td>\n",
       "      <td>False</td>\n",
       "      <td>False</td>\n",
       "      <td>False</td>\n",
       "      <td>False</td>\n",
       "      <td>False</td>\n",
       "      <td>False</td>\n",
       "    </tr>\n",
       "    <tr>\n",
       "      <th>3</th>\n",
       "      <td>2015</td>\n",
       "      <td>3</td>\n",
       "      <td>SG</td>\n",
       "      <td>University</td>\n",
       "      <td>Active</td>\n",
       "      <td>74</td>\n",
       "      <td>1</td>\n",
       "      <td>False</td>\n",
       "      <td>0.0</td>\n",
       "      <td>Unknown</td>\n",
       "      <td>...</td>\n",
       "      <td>False</td>\n",
       "      <td>False</td>\n",
       "      <td>False</td>\n",
       "      <td>False</td>\n",
       "      <td>False</td>\n",
       "      <td>False</td>\n",
       "      <td>False</td>\n",
       "      <td>False</td>\n",
       "      <td>False</td>\n",
       "      <td>False</td>\n",
       "    </tr>\n",
       "    <tr>\n",
       "      <th>4</th>\n",
       "      <td>2015</td>\n",
       "      <td>4</td>\n",
       "      <td>SG</td>\n",
       "      <td>University</td>\n",
       "      <td>Active</td>\n",
       "      <td>71</td>\n",
       "      <td>1</td>\n",
       "      <td>False</td>\n",
       "      <td>0.0</td>\n",
       "      <td>Low</td>\n",
       "      <td>...</td>\n",
       "      <td>False</td>\n",
       "      <td>False</td>\n",
       "      <td>False</td>\n",
       "      <td>False</td>\n",
       "      <td>False</td>\n",
       "      <td>False</td>\n",
       "      <td>False</td>\n",
       "      <td>False</td>\n",
       "      <td>False</td>\n",
       "      <td>False</td>\n",
       "    </tr>\n",
       "  </tbody>\n",
       "</table>\n",
       "<p>5 rows × 96 columns</p>\n",
       "</div>"
      ],
      "text/plain": [
       "   Source  Source_Index School School_Type     Mode  Home_Zone  PD Family  \\\n",
       "0    2015             0     SC  University  Transit        261   6   True   \n",
       "1    2015             1     SG  University   Active         71   1  False   \n",
       "2    2015             2     SG  University  Transit       3714  36   True   \n",
       "3    2015             3     SG  University   Active         74   1  False   \n",
       "4    2015             4     SG  University   Active         71   1  False   \n",
       "\n",
       "   Cars   Income  ... Closest.MCM Closest.MCB  Closest.MOF Closest.MOI  \\\n",
       "0   1.0  Unknown  ...       False       False        False       False   \n",
       "1   0.0     High  ...       False       False        False       False   \n",
       "2   1.0  Unknown  ...       False       False        False       False   \n",
       "3   0.0  Unknown  ...       False       False        False       False   \n",
       "4   0.0      Low  ...       False       False        False       False   \n",
       "\n",
       "  Closest.MOS  Closest.OTN  Closest.OTD  Closest.SHT  Closest.SHD  Closest.SHH  \n",
       "0       False        False        False        False        False        False  \n",
       "1       False        False        False        False        False        False  \n",
       "2       False        False        False        False        False        False  \n",
       "3       False        False        False        False        False        False  \n",
       "4       False        False        False        False        False        False  \n",
       "\n",
       "[5 rows x 96 columns]"
      ]
     },
     "execution_count": 1,
     "metadata": {},
     "output_type": "execute_result"
    }
   ],
   "source": [
    "import pandas as pd\n",
    "from sklearn.model_selection import train_test_split\n",
    "from sklearn.ensemble import RandomForestClassifier\n",
    "from sklearn.metrics import precision_recall_fscore_support\n",
    "from sklearn.metrics import matthews_corrcoef\n",
    "from sklearn.metrics import f1_score\n",
    "from sklearn.metrics import confusion_matrix\n",
    "import statistics as stats\n",
    "\n",
    "df = pd.read_csv('../../Data/SMTO_Combined_Complete_Input.csv', low_memory=False)\n",
    "school_codes = df['School'].unique().tolist()\n",
    "uni_codes = df[df['School_Type'] == 'University']['School'].unique().tolist()\n",
    "df.head()"
   ]
  },
  {
   "cell_type": "code",
   "execution_count": 2,
   "metadata": {},
   "outputs": [],
   "source": [
    "df['Closest'] = df[['Dist.' + school for school in school_codes]].idxmin(axis=1).apply(lambda x: x.split('.')[1])"
   ]
  },
  {
   "cell_type": "code",
   "execution_count": 3,
   "metadata": {},
   "outputs": [
    {
     "data": {
      "text/plain": [
       "0"
      ]
     },
     "execution_count": 3,
     "metadata": {},
     "output_type": "execute_result"
    }
   ],
   "source": [
    "df = df[['School_Type', 'PD', 'Age', 'Cars', 'Family', 'Income', 'Closest', 'Licence']]\n",
    "\n",
    "df['Income_High'] = (df['Income'] == 'High').astype(int)\n",
    "df['Income_Low'] = (df['Income'] == 'Low').astype(int)\n",
    "\n",
    "df['Family_True'] = (df['Family'] == True).astype(int)\n",
    "df['Family_False'] = (df['Family'] == False).astype(int)\n",
    "\n",
    "df['Closest_Col'] = ((~ df['Closest'].isin(uni_codes)) & (df['Family_False'])).astype(int)\n",
    "df['Closest_Uni'] = ((df['Closest'].isin(uni_codes)) & (df['Family_False'])).astype(int)\n",
    "\n",
    "df['Cars2+'] = (df['Cars'] >= 2).astype(int)\n",
    "df['Cars1'] = (df['Cars'] == 1).astype(int)\n",
    "df['Cars0'] = (df['Cars'] == 0).astype(int)\n",
    "\n",
    "df['Licence_True'] = (df['Licence'] == 1).astype(int)\n",
    "df['Licence_False'] = (df['Licence'] == 0).astype(int)\n",
    "\n",
    "df = df.drop(columns = ['Cars', 'Family', 'Licence', 'Income', 'Closest'])\n",
    "df.isnull().sum().sum()"
   ]
  },
  {
   "cell_type": "code",
   "execution_count": 4,
   "metadata": {},
   "outputs": [
    {
     "data": {
      "text/plain": [
       "School_Type       object\n",
       "PD                 int64\n",
       "Age              float64\n",
       "Income_High        int32\n",
       "Income_Low         int32\n",
       "Family_True        int32\n",
       "Family_False       int32\n",
       "Closest_Col        int32\n",
       "Closest_Uni        int32\n",
       "Cars2+             int32\n",
       "Cars1              int32\n",
       "Cars0              int32\n",
       "Licence_True       int32\n",
       "Licence_False      int32\n",
       "dtype: object"
      ]
     },
     "execution_count": 4,
     "metadata": {},
     "output_type": "execute_result"
    }
   ],
   "source": [
    "df.dtypes"
   ]
  },
  {
   "cell_type": "code",
   "execution_count": 5,
   "metadata": {
    "scrolled": true
   },
   "outputs": [
    {
     "data": {
      "text/plain": [
       "array([0.48084776, 0.31763195, 0.01088723, 0.02063541, 0.03538825,\n",
       "       0.0131625 , 0.02155352, 0.0271424 , 0.01780914, 0.01332653,\n",
       "       0.01101171, 0.01610886, 0.01449473])"
      ]
     },
     "execution_count": 5,
     "metadata": {},
     "output_type": "execute_result"
    }
   ],
   "source": [
    "# Define X and Y for the training set\n",
    "y = df['School_Type']\n",
    "x = df.drop(columns=['School_Type'])\n",
    "\n",
    "# --- RUN Random Forest Model --- #\n",
    "rf = RandomForestClassifier()\n",
    "X_train, X_test, y_train, y_test = train_test_split(x, y, test_size=0.3)\n",
    "rf.fit(X_train, y_train)\n",
    "y_pred = rf.predict(X_test)\n",
    "\n",
    "rf.feature_importances_"
   ]
  },
  {
   "cell_type": "code",
   "execution_count": 6,
   "metadata": {},
   "outputs": [
    {
     "data": {
      "text/html": [
       "<div>\n",
       "<style scoped>\n",
       "    .dataframe tbody tr th:only-of-type {\n",
       "        vertical-align: middle;\n",
       "    }\n",
       "\n",
       "    .dataframe tbody tr th {\n",
       "        vertical-align: top;\n",
       "    }\n",
       "\n",
       "    .dataframe thead th {\n",
       "        text-align: right;\n",
       "    }\n",
       "</style>\n",
       "<table border=\"1\" class=\"dataframe\">\n",
       "  <thead>\n",
       "    <tr style=\"text-align: right;\">\n",
       "      <th></th>\n",
       "      <th>Pred_Col</th>\n",
       "      <th>Pred_Uni</th>\n",
       "    </tr>\n",
       "  </thead>\n",
       "  <tbody>\n",
       "    <tr>\n",
       "      <th>Obs_Col</th>\n",
       "      <td>344</td>\n",
       "      <td>646</td>\n",
       "    </tr>\n",
       "    <tr>\n",
       "      <th>Obs_Uni</th>\n",
       "      <td>370</td>\n",
       "      <td>7939</td>\n",
       "    </tr>\n",
       "  </tbody>\n",
       "</table>\n",
       "</div>"
      ],
      "text/plain": [
       "         Pred_Col  Pred_Uni\n",
       "Obs_Col       344       646\n",
       "Obs_Uni       370      7939"
      ]
     },
     "execution_count": 6,
     "metadata": {},
     "output_type": "execute_result"
    }
   ],
   "source": [
    "# --- Confusion Matrix ---\n",
    "CM = pd.DataFrame(confusion_matrix(y_test, y_pred))\n",
    "CM.rename(columns = {0: 'Pred_Col', 1: 'Pred_Uni'}, index = {0: 'Obs_Col', 1: 'Obs_Uni'}, inplace = True)\n",
    "CM"
   ]
  },
  {
   "cell_type": "code",
   "execution_count": 7,
   "metadata": {},
   "outputs": [
    {
     "data": {
      "text/plain": [
       "0.40375586854460094"
      ]
     },
     "execution_count": 7,
     "metadata": {},
     "output_type": "execute_result"
    }
   ],
   "source": [
    "f1_score(y_test, y_pred, average=None)[0]"
   ]
  },
  {
   "cell_type": "code",
   "execution_count": 8,
   "metadata": {},
   "outputs": [
    {
     "data": {
      "text/html": [
       "<div>\n",
       "<style scoped>\n",
       "    .dataframe tbody tr th:only-of-type {\n",
       "        vertical-align: middle;\n",
       "    }\n",
       "\n",
       "    .dataframe tbody tr th {\n",
       "        vertical-align: top;\n",
       "    }\n",
       "\n",
       "    .dataframe thead th {\n",
       "        text-align: right;\n",
       "    }\n",
       "</style>\n",
       "<table border=\"1\" class=\"dataframe\">\n",
       "  <thead>\n",
       "    <tr style=\"text-align: right;\">\n",
       "      <th></th>\n",
       "      <th>0</th>\n",
       "      <th>1</th>\n",
       "    </tr>\n",
       "  </thead>\n",
       "  <tbody>\n",
       "    <tr>\n",
       "      <th>0</th>\n",
       "      <td>0.0000</td>\n",
       "      <td>1.0000</td>\n",
       "    </tr>\n",
       "    <tr>\n",
       "      <th>1</th>\n",
       "      <td>0.0000</td>\n",
       "      <td>1.0000</td>\n",
       "    </tr>\n",
       "    <tr>\n",
       "      <th>2</th>\n",
       "      <td>0.0000</td>\n",
       "      <td>1.0000</td>\n",
       "    </tr>\n",
       "    <tr>\n",
       "      <th>3</th>\n",
       "      <td>0.0000</td>\n",
       "      <td>1.0000</td>\n",
       "    </tr>\n",
       "    <tr>\n",
       "      <th>4</th>\n",
       "      <td>0.0000</td>\n",
       "      <td>1.0000</td>\n",
       "    </tr>\n",
       "    <tr>\n",
       "      <th>...</th>\n",
       "      <td>...</td>\n",
       "      <td>...</td>\n",
       "    </tr>\n",
       "    <tr>\n",
       "      <th>30989</th>\n",
       "      <td>0.0000</td>\n",
       "      <td>1.0000</td>\n",
       "    </tr>\n",
       "    <tr>\n",
       "      <th>30990</th>\n",
       "      <td>0.0000</td>\n",
       "      <td>1.0000</td>\n",
       "    </tr>\n",
       "    <tr>\n",
       "      <th>30991</th>\n",
       "      <td>0.4665</td>\n",
       "      <td>0.5335</td>\n",
       "    </tr>\n",
       "    <tr>\n",
       "      <th>30992</th>\n",
       "      <td>0.0000</td>\n",
       "      <td>1.0000</td>\n",
       "    </tr>\n",
       "    <tr>\n",
       "      <th>30993</th>\n",
       "      <td>0.0000</td>\n",
       "      <td>1.0000</td>\n",
       "    </tr>\n",
       "  </tbody>\n",
       "</table>\n",
       "<p>30994 rows × 2 columns</p>\n",
       "</div>"
      ],
      "text/plain": [
       "            0       1\n",
       "0      0.0000  1.0000\n",
       "1      0.0000  1.0000\n",
       "2      0.0000  1.0000\n",
       "3      0.0000  1.0000\n",
       "4      0.0000  1.0000\n",
       "...       ...     ...\n",
       "30989  0.0000  1.0000\n",
       "30990  0.0000  1.0000\n",
       "30991  0.4665  0.5335\n",
       "30992  0.0000  1.0000\n",
       "30993  0.0000  1.0000\n",
       "\n",
       "[30994 rows x 2 columns]"
      ]
     },
     "execution_count": 8,
     "metadata": {},
     "output_type": "execute_result"
    }
   ],
   "source": [
    "pd.DataFrame(rf.predict_proba(x))"
   ]
  },
  {
   "cell_type": "code",
   "execution_count": 9,
   "metadata": {
    "scrolled": true
   },
   "outputs": [
    {
     "name": "stdout",
     "output_type": "stream",
     "text": [
      "Area under the ROC curve: 0.9280690926502455\n"
     ]
    },
    {
     "data": {
      "image/png": "[encoded data removed]",
      "text/plain": [
       "<Figure size 432x288 with 1 Axes>"
      ]
     },
     "metadata": {
      "needs_background": "light"
     },
     "output_type": "display_data"
    }
   ],
   "source": [
    "from sklearn.metrics import roc_auc_score, roc_curve\n",
    "import matplotlib.pyplot as plt\n",
    "\n",
    "probs = pd.DataFrame(rf.predict_proba(x))[0]\n",
    "results = roc_curve(y, probs, pos_label = 'College')\n",
    "plt.plot(results[0], results[1])\n",
    "plt.show\n",
    "\n",
    "plt.scatter(results[0][287], results[1][287])\n",
    "plt.xlabel('False Positive Rate') # how many of the pred college were uni\n",
    "plt.ylabel('True Possitive Rate') # how many college were actually college\n",
    "\n",
    "y_new = [1 * (element == 'College') for element in y]\n",
    "\n",
    "print('Area under the ROC curve: ' + str(roc_auc_score(y_new, probs)))"
   ]
  },
  {
   "cell_type": "code",
   "execution_count": 10,
   "metadata": {},
   "outputs": [
    {
     "data": {
      "text/plain": [
       "<matplotlib.collections.PathCollection at 0x24fb6d73748>"
      ]
     },
     "execution_count": 10,
     "metadata": {},
     "output_type": "execute_result"
    },
    {
     "data": {
      "image/png": "[encoded data removed]",
      "text/plain": [
       "<Figure size 432x288 with 1 Axes>"
      ]
     },
     "metadata": {
      "needs_background": "light"
     },
     "output_type": "display_data"
    }
   ],
   "source": [
    "import numpy as np\n",
    "f1s = []\n",
    "ts = np.linspace(0.1, 0.5, 41, endpoint=True)\n",
    "for t in ts:\n",
    "    y_pred_new = (probs >= t)\n",
    "    f1s.append(f1_score(y_new, y_pred_new, average = None)[1])\n",
    "plt.scatter(ts, f1s)"
   ]
  },
  {
   "cell_type": "code",
   "execution_count": 11,
   "metadata": {},
   "outputs": [
    {
     "data": {
      "text/plain": [
       "0.4"
      ]
     },
     "execution_count": 11,
     "metadata": {},
     "output_type": "execute_result"
    }
   ],
   "source": [
    "new_threshold = ts[f1s.index(max(f1s))]\n",
    "new_threshold"
   ]
  },
  {
   "cell_type": "code",
   "execution_count": 12,
   "metadata": {},
   "outputs": [
    {
     "data": {
      "text/html": [
       "<div>\n",
       "<style scoped>\n",
       "    .dataframe tbody tr th:only-of-type {\n",
       "        vertical-align: middle;\n",
       "    }\n",
       "\n",
       "    .dataframe tbody tr th {\n",
       "        vertical-align: top;\n",
       "    }\n",
       "\n",
       "    .dataframe thead th {\n",
       "        text-align: right;\n",
       "    }\n",
       "</style>\n",
       "<table border=\"1\" class=\"dataframe\">\n",
       "  <thead>\n",
       "    <tr style=\"text-align: right;\">\n",
       "      <th></th>\n",
       "      <th>Pred_Uni</th>\n",
       "      <th>Pred_Col</th>\n",
       "    </tr>\n",
       "  </thead>\n",
       "  <tbody>\n",
       "    <tr>\n",
       "      <th>Obs_Uni</th>\n",
       "      <td>26474</td>\n",
       "      <td>1052</td>\n",
       "    </tr>\n",
       "    <tr>\n",
       "      <th>Obs_Col</th>\n",
       "      <td>1245</td>\n",
       "      <td>2223</td>\n",
       "    </tr>\n",
       "  </tbody>\n",
       "</table>\n",
       "</div>"
      ],
      "text/plain": [
       "         Pred_Uni  Pred_Col\n",
       "Obs_Uni     26474      1052\n",
       "Obs_Col      1245      2223"
      ]
     },
     "execution_count": 12,
     "metadata": {},
     "output_type": "execute_result"
    }
   ],
   "source": [
    "# Predict School Type for testing data\n",
    "y_pred_new = (probs >= new_threshold)\n",
    "\n",
    "# --- Confusion Matrix ---\n",
    "test_CM = pd.DataFrame(confusion_matrix(y_new, y_pred_new))\n",
    "test_CM.rename(columns = {1: 'Pred_Col', 0: 'Pred_Uni'}, index = {1: 'Obs_Col', 0: 'Obs_Uni'}, inplace = True)\n",
    "test_CM"
   ]
  },
  {
   "cell_type": "code",
   "execution_count": 13,
   "metadata": {},
   "outputs": [
    {
     "data": {
      "text/plain": [
       "0.6593504374907311"
      ]
     },
     "execution_count": 13,
     "metadata": {},
     "output_type": "execute_result"
    }
   ],
   "source": [
    "f1_score(y_new, y_pred_new, average = None)[1]"
   ]
  },
  {
   "cell_type": "code",
   "execution_count": 14,
   "metadata": {},
   "outputs": [],
   "source": [
    "probs_df = pd.DataFrame(rf.predict_proba(x), columns=['Prob.Col', 'Prob.Uni'])\n",
    "probs_df['Pred'] = probs_df['Prob.Col'].apply(lambda x: 'Col' if x >= new_threshold else 'Uni')"
   ]
  },
  {
   "cell_type": "code",
   "execution_count": 15,
   "metadata": {},
   "outputs": [],
   "source": [
    "probs_df.to_csv('Combined_RF_Predictions.csv')"
   ]
  }
 ],
 "metadata": {
  "kernelspec": {
   "display_name": "Python 3",
   "language": "python",
   "name": "python3"
  },
  "language_info": {
   "codemirror_mode": {
    "name": "ipython",
    "version": 3
   },
   "file_extension": ".py",
   "mimetype": "text/x-python",
   "name": "python",
   "nbconvert_exporter": "python",
   "pygments_lexer": "ipython3",
   "version": "3.7.6"
  }
 },
 "nbformat": 4,
 "nbformat_minor": 4
}
