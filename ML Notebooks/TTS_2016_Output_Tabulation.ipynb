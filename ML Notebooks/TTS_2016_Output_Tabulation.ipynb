{
 "cells": [
  {
   "cell_type": "markdown",
   "metadata": {},
   "source": [
    "# Machine Learning Living Arrangement Predictor Results\n",
    "\n",
    "In this notebook, we'll take a look at the output of the machine learning algorithm we used to classify students in the TTS data according to whether or not they are living with their family.\n",
    "\n",
    "## Model Details\n",
    "\n",
    "We used the Model Builder and ML.NET through visual studio to train a machine learning algorithm to classify students as either living with family or not according to attributes that are avilable in both SMTO and TTS. The model was trained on labelled data from SMTO (where living arrangements were available), and ran on the unlabelled TTS dataset.\n",
    "\n",
    "### Chosen Algorithm and Evaluation Details\n",
    "\n",
    "The algorithm selected by model builder was `MODELNAMEHERE`. When tested against a reserved portion of the training data, the model had an accoracy of XX.X%.\n",
    "\n",
    "## Tabulation of Results\n",
    "\n",
    "We will take a look at the model's output. In particular, we compare the model's output for different types of students with those from SMTO data. We import the model's output into a `df` and the labelled SMTO data into `SMTO_df`."
   ]
  },
  {
   "cell_type": "code",
   "execution_count": 1,
   "metadata": {
    "scrolled": true
   },
   "outputs": [],
   "source": [
    "import pandas as pd\n",
    "df = pd.read_csv('../../Data/TTS_2016_ML_Output.csv')\n",
    "SMTO_df = pd.read_csv('../../Data/SMTO_2015_ML_Format.csv')"
   ]
  },
  {
   "cell_type": "markdown",
   "metadata": {},
   "source": [
    "Let us compare the overall proportions of student living with their family in either dataset."
   ]
  },
  {
   "cell_type": "code",
   "execution_count": 2,
   "metadata": {},
   "outputs": [
    {
     "name": "stdout",
     "output_type": "stream",
     "text": [
      "SMTO\n",
      "1    0.564904\n",
      "0    0.435096\n",
      "Name: Family?, dtype: float64\n",
      "\n",
      "TTS\n",
      "1    0.68098\n",
      "0    0.31902\n",
      "Name: Family, dtype: float64\n"
     ]
    }
   ],
   "source": [
    "print(\"SMTO\\n\" + str(SMTO_df['Family?'].value_counts(normalize=True)))\n",
    "print(\"\\nTTS\\n\" + str(df['Family'].value_counts(normalize=True)))"
   ]
  },
  {
   "cell_type": "markdown",
   "metadata": {},
   "source": [
    "We declare this function which will be used to compare the datasets below."
   ]
  },
  {
   "cell_type": "code",
   "execution_count": 3,
   "metadata": {},
   "outputs": [],
   "source": [
    "def print_comparison(col, col_print=None):\n",
    "    col_print = col_print if col_print else col\n",
    "    print(col_print + \"\\tSMTO\\tTTS\")\n",
    "    for num in set(list(SMTO_df[col]) + list(df[col])):\n",
    "        print(\"{}\\t{:2.1%}\\t{:2.1%}\".format(num, len(SMTO_df[(SMTO_df['Family?'] == 1) & (SMTO_df[col] == num)]) / len(SMTO_df[SMTO_df[col] == num]) if len(SMTO_df[SMTO_df[col] == num]) else 0.0, len(df[(df['Family'] == 1) & (df[col] == num)]) / len(df[df[col] == num]) if len(df[df[col] == num]) else 0.0))"
   ]
  },
  {
   "cell_type": "markdown",
   "metadata": {},
   "source": [
    "A list of obsrvations and takeaways is presented at the bottom of this notebook. For now, it is important to keep in mind that the proportion of students living with their family was predicted to be much higher in the TTS data than the SMTO data.\n",
    "\n",
    "### Household Composition\n",
    "\n",
    "We can compare the TTS and SMTO label distributions according to specific features. Household composition was found to be a good indicator in the SMTO data, so let us check if it was a similarly good predictor in the ML model.\n",
    "\n",
    "We assumed that most students whose household does not include any adults, except, possibly, for the student themselves, are not living with their parents/family."
   ]
  },
  {
   "cell_type": "code",
   "execution_count": 4,
   "metadata": {},
   "outputs": [
    {
     "name": "stdout",
     "output_type": "stream",
     "text": [
      "SMTO\n",
      "0    0.966424\n",
      "1    0.033576\n",
      "Name: Family?, dtype: float64\n",
      "\n",
      "TTS\n",
      "0    0.950805\n",
      "1    0.049195\n",
      "Name: Family, dtype: float64\n"
     ]
    }
   ],
   "source": [
    "print(\"SMTO\\n\" + str(SMTO_df[((SMTO_df['Age'] >= 18) & (SMTO_df['Adults'] == 1)) | ((SMTO_df['Age'] < 18) & (SMTO_df['Adults'] == 0))]['Family?'].value_counts(normalize=True)))\n",
    "print(\"\\nTTS\\n\" + str(df[((df['Age'] >= 18) & (df['Adults'] == 1)) | ((df['Age'] < 18) & (df['Adults'] == 0))]['Family'].value_counts(normalize=True)))"
   ]
  },
  {
   "cell_type": "markdown",
   "metadata": {},
   "source": [
    "Our assumption is validated, and the ML results reflect the distribution in the training data well.\n",
    "\n",
    "For students 18 or over who live with children under 18, we have:"
   ]
  },
  {
   "cell_type": "code",
   "execution_count": 5,
   "metadata": {},
   "outputs": [
    {
     "name": "stdout",
     "output_type": "stream",
     "text": [
      "SMTO\n",
      "1    0.869098\n",
      "0    0.130902\n",
      "Name: Family?, dtype: float64\n",
      "\n",
      "TTS\n",
      "1    0.805471\n",
      "0    0.194529\n",
      "Name: Family, dtype: float64\n"
     ]
    }
   ],
   "source": [
    "print(\"SMTO\\n\" + str(SMTO_df[(SMTO_df['Age'] >= 18) & (SMTO_df['Children'] >= 1)]['Family?'].value_counts(normalize=True)))\n",
    "print(\"\\nTTS\\n\" + str(df[(df['Age'] >= 18) & (df['Children'] >= 1)]['Family'].value_counts(normalize=True)))"
   ]
  },
  {
   "cell_type": "markdown",
   "metadata": {},
   "source": [
    "The model results and training data proportions are slightly different when segmented according to this aspect.\n",
    "\n",
    "Let us look at the probability a student is living with their family according to number of adults in their household."
   ]
  },
  {
   "cell_type": "code",
   "execution_count": 6,
   "metadata": {},
   "outputs": [
    {
     "name": "stdout",
     "output_type": "stream",
     "text": [
      "Adults\tSMTO\tTTS\n",
      "0\t3.8%\t0.0%\n",
      "1\t4.3%\t7.4%\n",
      "2\t28.5%\t30.2%\n",
      "3\t78.1%\t90.6%\n",
      "4\t84.5%\t94.0%\n",
      "5\t83.6%\t91.8%\n",
      "6\t64.6%\t87.7%\n",
      "7\t62.5%\t81.1%\n",
      "8\t41.5%\t62.5%\n",
      "9\t19.2%\t100.0%\n",
      "10\t5.0%\t0.0%\n",
      "11\t9.1%\t0.0%\n",
      "12\t16.7%\t0.0%\n",
      "13\t0.0%\t0.0%\n",
      "14\t0.0%\t0.0%\n",
      "15\t0.0%\t0.0%\n",
      "16\t0.0%\t0.0%\n"
     ]
    }
   ],
   "source": [
    "print_comparison(\"Adults\")"
   ]
  },
  {
   "cell_type": "markdown",
   "metadata": {},
   "source": [
    "Again, the proportions gollow a similar pattern again. However, the TTS proportions are often quite a bit higher. This makes sense as the overall proportion was higher.\n",
    "\n",
    "Let's perform a similar check for number of children in the household."
   ]
  },
  {
   "cell_type": "code",
   "execution_count": 7,
   "metadata": {},
   "outputs": [
    {
     "name": "stdout",
     "output_type": "stream",
     "text": [
      "Kids\tSMTO\tTTS\n",
      "0\t46.4%\t61.4%\n",
      "1\t85.9%\t82.6%\n",
      "2\t86.3%\t79.6%\n",
      "3\t84.6%\t73.2%\n",
      "4\t92.6%\t76.3%\n",
      "5\t86.7%\t72.0%\n",
      "6\t100.0%\t90.9%\n",
      "7\t100.0%\t0.0%\n",
      "8\t100.0%\t0.0%\n",
      "18\t0.0%\t0.0%\n"
     ]
    }
   ],
   "source": [
    "print_comparison(\"Children\", \"Kids\")"
   ]
  },
  {
   "cell_type": "markdown",
   "metadata": {},
   "source": [
    "This time, there are much more substantial differences between the samples.\n",
    "\n",
    "### Household Income\n",
    "\n",
    "Now let's see how the label proportions compare when segmented by income level."
   ]
  },
  {
   "cell_type": "code",
   "execution_count": 8,
   "metadata": {},
   "outputs": [
    {
     "name": "stdout",
     "output_type": "stream",
     "text": [
      "Income\tSMTO\tTTS\n",
      "0\t59.6%\t72.3%\n",
      "1\t42.5%\t58.0%\n",
      "2\t64.4%\t70.2%\n"
     ]
    }
   ],
   "source": [
    "print_comparison(\"Income\")"
   ]
  },
  {
   "cell_type": "markdown",
   "metadata": {},
   "source": [
    "Again, there are noticeable differenes in the proportions, but how much of these differences can be accounted for by the different samplewide proportions?\n",
    "\n",
    "## Vehicle Ownership\n",
    "\n",
    "Here we check how vehicle ownership is correlated with living arrangement."
   ]
  },
  {
   "cell_type": "code",
   "execution_count": 9,
   "metadata": {
    "scrolled": true
   },
   "outputs": [
    {
     "name": "stdout",
     "output_type": "stream",
     "text": [
      "Cars\tSMTO\tTTS\n",
      "0\t14.3%\t22.0%\n",
      "1\t65.7%\t59.7%\n",
      "2\t87.6%\t82.1%\n",
      "3\t92.0%\t90.9%\n",
      "4\t91.9%\t94.9%\n",
      "5\t92.9%\t90.7%\n",
      "6\t100.0%\t94.7%\n",
      "7\t100.0%\t100.0%\n",
      "8\t100.0%\t100.0%\n",
      "9\t50.0%\t0.0%\n",
      "99\t0.0%\t20.0%\n",
      "12\t0.0%\t100.0%\n"
     ]
    }
   ],
   "source": [
    "print_comparison(\"Cars\")"
   ]
  },
  {
   "cell_type": "markdown",
   "metadata": {},
   "source": [
    "COMMENT HERE\n",
    "\n",
    "## License Ownership\n",
    "\n",
    "Now let's look at licence ownership:"
   ]
  },
  {
   "cell_type": "code",
   "execution_count": 10,
   "metadata": {},
   "outputs": [
    {
     "name": "stdout",
     "output_type": "stream",
     "text": [
      "License\tSMTO\tTTS\n",
      "0\t61.4%\t76.2%\n",
      "1\t53.2%\t66.2%\n",
      "9\t0.0%\t57.6%\n"
     ]
    }
   ],
   "source": [
    "print_comparison(\"License\")"
   ]
  },
  {
   "cell_type": "markdown",
   "metadata": {},
   "source": [
    "COMMENT HERE\n",
    "\n",
    "Let us refine this by looking only at students who do not have a license but whose household owns at least one car."
   ]
  },
  {
   "cell_type": "code",
   "execution_count": 11,
   "metadata": {},
   "outputs": [
    {
     "name": "stdout",
     "output_type": "stream",
     "text": [
      "SMTO\t 0.8863506567675614\n",
      "TTS\t 0.8891871165644172\n"
     ]
    }
   ],
   "source": [
    "print(\"SMTO\\t\", ((SMTO_df['Cars'] > 0) & (SMTO_df['Family?'] == 1) & (SMTO_df['License'] == 0)).sum()/((SMTO_df['Cars'] > 0) & (SMTO_df['License'] == 0)).sum())\n",
    "print(\"TTS\\t\", ((df['Cars'] > 0) & (df['Family'] == 1) & (df['License'] == 0)).sum()/((df['Cars'] > 0) & (df['License'] == 0)).sum())"
   ]
  },
  {
   "cell_type": "markdown",
   "metadata": {},
   "source": [
    "These proportions are remarkably similar!\n",
    "\n",
    "Finally, let us check license ownership in conjunction with enrolment status (full-time vs. part-time) and vehicle ownership."
   ]
  },
  {
   "cell_type": "code",
   "execution_count": 12,
   "metadata": {},
   "outputs": [
    {
     "name": "stdout",
     "output_type": "stream",
     "text": [
      "\tFT\tPT\n",
      "SMTO\t80.4%\t56.1%\n",
      "TTS\t86.2%\t49.1%\n"
     ]
    }
   ],
   "source": [
    "print(\"\\tFT\\tPT\")\n",
    "print(\"SMTO\\t{:2.1%}\\t{:2.1%}\".format(((SMTO_df['Cars'] > 0) & (SMTO_df['Family?'] == 1) & (SMTO_df['Status'] == 2)).sum()/((SMTO_df['Cars'] > 0) & (SMTO_df['Status'] == 2)).sum(), ((SMTO_df['Cars'] > 0) & (SMTO_df['Family?'] == 1) & (SMTO_df['Status'] == 1)).sum()/((SMTO_df['Cars'] > 0) & (SMTO_df['Status'] == 1)).sum()))\n",
    "print(\"TTS\\t{:2.1%}\\t{:2.1%}\".format(((df['Cars'] > 0) & (df['Family'] == 1) & (df['Status'] == 2)).sum()/((df['Cars'] > 0) & (df['Status'] == 2)).sum(), ((df['Cars'] > 0) & (df['Family'] == 1) & (df['Status'] == 1)).sum()/((df['Cars'] > 0) & (df['Status'] == 1)).sum()))"
   ]
  },
  {
   "cell_type": "markdown",
   "metadata": {},
   "source": [
    "COMMENT HERE"
   ]
  }
 ],
 "metadata": {
  "kernelspec": {
   "display_name": "Python 3",
   "language": "python",
   "name": "python3"
  },
  "language_info": {
   "codemirror_mode": {
    "name": "ipython",
    "version": 3
   },
   "file_extension": ".py",
   "mimetype": "text/x-python",
   "name": "python",
   "nbconvert_exporter": "python",
   "pygments_lexer": "ipython3",
   "version": "3.7.6"
  }
 },
 "nbformat": 4,
 "nbformat_minor": 2
}
