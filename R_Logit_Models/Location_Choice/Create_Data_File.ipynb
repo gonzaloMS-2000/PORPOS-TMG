{
 "cells": [
  {
   "cell_type": "code",
   "execution_count": 1,
   "metadata": {},
   "outputs": [],
   "source": [
    "import pandas as pd\n",
    "import math\n",
    "import csv\n",
    "\n",
    "hh_df = pd.read_csv('../../Data/SMTO_2015/SMTO_2015_Households.csv')\n",
    "ps_df = pd.read_csv('../../Data/SMTO_2015/SMTO_2015_Respondents.csv')\n",
    "campus_info = pd.read_csv('Campus_Info.csv')\n",
    "\n",
    "# Load relevant columns\n",
    "df = ps_df[['pscampusattend', 'personstatusgrad', 'personstatustime', 'psuniversityinvolvednumyears', 'psexpfactor']]\n",
    "df = df.join(hh_df[['HmTTS2006', 'hhlivingsituation']])\n",
    "df = df.rename(columns={'HmTTS2006': 'HomeZone', 'pscampusattend': 'Campus', 'hhlivingsituation': 'Family', \n",
    "                       'personstatusgrad': 'Level', 'personstatustime': 'Status', 'psuniversityinvolvednumyears': 'Years',\n",
    "                       'psexpfactor': 'Exp_SMTO'})\n",
    "df = df.dropna() # Remove rows with missing data\n",
    "\n",
    "# Convert Campus column to numerical column\n",
    "df['Campus'] = df[\"Campus\"].apply(lambda x: campus_info.Code[campus_info['School'] == x].tolist()[0])\n",
    "\n",
    "# Convert columns to numerical\n",
    "df['HomeZone'] = pd.to_numeric(df['HomeZone'], downcast='signed')\n",
    "df['Family'] = (df['Family'] == 'Live with family/parents')*1"
   ]
  },
  {
   "cell_type": "code",
   "execution_count": 2,
   "metadata": {},
   "outputs": [],
   "source": [
    "def row_to_segment(x):\n",
    "    if x.Level == 'Other':\n",
    "        return 0\n",
    "    elif x.Level == 'UG':\n",
    "        return 3 if x.Status == 'PT' else (not x.Family) + 1\n",
    "    else:\n",
    "        return 6 if x.Status == 'PT' else (4 + (not x.Family))\n",
    "\n",
    "df['Segment'] = df.apply(row_to_segment, axis=1)"
   ]
  },
  {
   "cell_type": "code",
   "execution_count": 3,
   "metadata": {},
   "outputs": [
    {
     "name": "stdout",
     "output_type": "stream",
     "text": [
      "# of zones not found: 127\n"
     ]
    }
   ],
   "source": [
    "# Dataframe with walk distances\n",
    "df_path = pd.read_csv('../../../LoS/Walk_Distances.csv')\n",
    "origins = list(set(list(df_path['Origin'])))\n",
    "dists = list(df_path['Data'])\n",
    "\n",
    "# Function for distance lookup\n",
    "not_found = set()\n",
    "def find_distance(origin, destination):\n",
    "    try:\n",
    "        i = origins.index(origin)\n",
    "    except ValueError:\n",
    "        not_found.add(origin)\n",
    "        return 0\n",
    "    try:\n",
    "        j = origins.index(destination)\n",
    "    except ValueError:\n",
    "        not_found.add(destination)\n",
    "        return 0\n",
    "    return dists[i*2392 + j] / 1000\n",
    "\n",
    "# List of campus' TTS zones from Joven's MOE data\n",
    "campus_zones = list(campus_info['Zone'])\n",
    "school_codes = list(campus_info['Code'])\n",
    "\n",
    "# Load distances into dataframe\n",
    "for i in range(len(campus_zones)):\n",
    "    df[\"Dist.\" + school_codes[i]] = df['HomeZone'].apply(lambda x: find_distance(x, campus_zones[i]))\n",
    "print(\"# of zones not found:\", len(not_found))"
   ]
  },
  {
   "cell_type": "code",
   "execution_count": 4,
   "metadata": {},
   "outputs": [],
   "source": [
    "# Load enrollment data\n",
    "enrollment_df = pd.read_csv('../../Data/Enrolment/Joven_Enrollment.csv').set_index('School')\n",
    "def get_log_enrollment(level, school):\n",
    "    return math.log1p(enrollment_df.loc[school][level]) # Level: UG, Grad, Total\n",
    "    \n",
    "for level in ('Total', 'UG', 'Grad'):\n",
    "    for i in range(len(campus_zones)):\n",
    "        df[level + \".\" + school_codes[i]] = get_log_enrollment(level, school_codes[i])"
   ]
  },
  {
   "cell_type": "code",
   "execution_count": 5,
   "metadata": {},
   "outputs": [],
   "source": [
    "df = df[(df['Dist.SG'] > 0) | (df['Dist.SC'] > 0)]"
   ]
  },
  {
   "cell_type": "code",
   "execution_count": 6,
   "metadata": {},
   "outputs": [],
   "source": [
    "total_factors = {}\n",
    "for val, count in df['Campus'].value_counts(normalize=True).iteritems():\n",
    "    total_factors[val] = enrollment_df.loc[val]['Total'] / enrollment_df['Total'].sum() / count\n",
    "df['Exp_Total'] = df['Campus'].apply(lambda x: total_factors[x])\n",
    "\n",
    "ug_factors = {}\n",
    "for val, count in df[df['Level'] == 'UG']['Campus'].value_counts(normalize=True).iteritems():\n",
    "    ug_factors[val] = enrollment_df.loc[val][level] / enrollment_df[level].sum() / count\n",
    "\n",
    "grad_factors = {}\n",
    "for val, count in df[df['Level'] == 'Grad']['Campus'].value_counts(normalize=True).iteritems():\n",
    "    grad_factors[val] = enrollment_df.loc[val][level] / enrollment_df[level].sum() / count\n",
    "\n",
    "def row_to_factor(row):\n",
    "    if row['Level'] == 'UG':\n",
    "        return ug_factors[row['Campus']]\n",
    "    elif row['Level'] == 'Grad':\n",
    "        return grad_factors[row['Campus']]\n",
    "    else:\n",
    "        return total_factors[row['Campus']]\n",
    "\n",
    "df['Exp_Level'] = df.apply(row_to_factor, axis=1)"
   ]
  },
  {
   "cell_type": "code",
   "execution_count": 7,
   "metadata": {},
   "outputs": [],
   "source": [
    "df = df.drop(columns=['Family', 'Level', 'Status', 'Years', 'HomeZone'])\n",
    "df.to_csv('Segment_Exp_Input.csv', index=False)"
   ]
  }
 ],
 "metadata": {
  "kernelspec": {
   "display_name": "Python 3",
   "language": "python",
   "name": "python3"
  },
  "language_info": {
   "codemirror_mode": {
    "name": "ipython",
    "version": 3
   },
   "file_extension": ".py",
   "mimetype": "text/x-python",
   "name": "python",
   "nbconvert_exporter": "python",
   "pygments_lexer": "ipython3",
   "version": "3.7.6"
  }
 },
 "nbformat": 4,
 "nbformat_minor": 4
}
