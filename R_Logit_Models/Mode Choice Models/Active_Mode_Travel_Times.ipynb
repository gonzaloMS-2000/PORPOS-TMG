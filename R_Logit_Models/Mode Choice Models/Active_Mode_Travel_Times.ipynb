{
 "cells": [
  {
   "cell_type": "code",
   "execution_count": 2,
   "metadata": {
    "scrolled": true
   },
   "outputs": [
    {
     "name": "stdout",
     "output_type": "stream",
     "text": [
      "(15226, 15)\n",
      "(15066, 15)\n",
      "(14839, 15)\n",
      "(14839, 15)\n",
      "(14839, 15)\n"
     ]
    },
    {
     "data": {
      "text/html": [
       "<div>\n",
       "<style scoped>\n",
       "    .dataframe tbody tr th:only-of-type {\n",
       "        vertical-align: middle;\n",
       "    }\n",
       "\n",
       "    .dataframe tbody tr th {\n",
       "        vertical-align: top;\n",
       "    }\n",
       "\n",
       "    .dataframe thead th {\n",
       "        text-align: right;\n",
       "    }\n",
       "</style>\n",
       "<table border=\"1\" class=\"dataframe\">\n",
       "  <thead>\n",
       "    <tr style=\"text-align: right;\">\n",
       "      <th></th>\n",
       "      <th>Campus</th>\n",
       "      <th>Level</th>\n",
       "      <th>Status</th>\n",
       "      <th>Mode</th>\n",
       "      <th>Gender</th>\n",
       "      <th>Licence</th>\n",
       "      <th>Work</th>\n",
       "      <th>Car_Avail</th>\n",
       "      <th>Time</th>\n",
       "      <th>HomeZone</th>\n",
       "      <th>Family</th>\n",
       "      <th>Cars</th>\n",
       "      <th>Children</th>\n",
       "      <th>Adults</th>\n",
       "      <th>Income</th>\n",
       "    </tr>\n",
       "  </thead>\n",
       "  <tbody>\n",
       "    <tr>\n",
       "      <th>0</th>\n",
       "      <td>566</td>\n",
       "      <td>UG</td>\n",
       "      <td>FT</td>\n",
       "      <td>Transit</td>\n",
       "      <td>Female</td>\n",
       "      <td>0</td>\n",
       "      <td>Unknown</td>\n",
       "      <td>0</td>\n",
       "      <td>42.84</td>\n",
       "      <td>261</td>\n",
       "      <td>Live with family/parents</td>\n",
       "      <td>1</td>\n",
       "      <td>3</td>\n",
       "      <td>4</td>\n",
       "      <td>Unknown</td>\n",
       "    </tr>\n",
       "    <tr>\n",
       "      <th>1</th>\n",
       "      <td>69</td>\n",
       "      <td>Grad</td>\n",
       "      <td>FT</td>\n",
       "      <td>Walk</td>\n",
       "      <td>Female</td>\n",
       "      <td>1</td>\n",
       "      <td>Unknown</td>\n",
       "      <td>0</td>\n",
       "      <td>3.41</td>\n",
       "      <td>71</td>\n",
       "      <td>Live with partner</td>\n",
       "      <td>0</td>\n",
       "      <td>0</td>\n",
       "      <td>2</td>\n",
       "      <td>$ 90,000 - 119,999</td>\n",
       "    </tr>\n",
       "    <tr>\n",
       "      <th>2</th>\n",
       "      <td>69</td>\n",
       "      <td>UG</td>\n",
       "      <td>FT</td>\n",
       "      <td>Transit</td>\n",
       "      <td>Female</td>\n",
       "      <td>1</td>\n",
       "      <td>Unknown</td>\n",
       "      <td>1</td>\n",
       "      <td>69.76</td>\n",
       "      <td>3714</td>\n",
       "      <td>Live with family/parents</td>\n",
       "      <td>1</td>\n",
       "      <td>0</td>\n",
       "      <td>4</td>\n",
       "      <td>Unknown</td>\n",
       "    </tr>\n",
       "    <tr>\n",
       "      <th>3</th>\n",
       "      <td>69</td>\n",
       "      <td>UG</td>\n",
       "      <td>FT</td>\n",
       "      <td>Walk</td>\n",
       "      <td>Male</td>\n",
       "      <td>1</td>\n",
       "      <td>Unknown</td>\n",
       "      <td>1</td>\n",
       "      <td>17.22</td>\n",
       "      <td>74</td>\n",
       "      <td>Live with roommates</td>\n",
       "      <td>0</td>\n",
       "      <td>0</td>\n",
       "      <td>4</td>\n",
       "      <td>Unknown</td>\n",
       "    </tr>\n",
       "    <tr>\n",
       "      <th>4</th>\n",
       "      <td>69</td>\n",
       "      <td>Grad</td>\n",
       "      <td>FT</td>\n",
       "      <td>Walk</td>\n",
       "      <td>Male</td>\n",
       "      <td>1</td>\n",
       "      <td>Unknown</td>\n",
       "      <td>0</td>\n",
       "      <td>6.59</td>\n",
       "      <td>71</td>\n",
       "      <td>Live with partner</td>\n",
       "      <td>0</td>\n",
       "      <td>0</td>\n",
       "      <td>2</td>\n",
       "      <td>$ 30,000 - 59,999</td>\n",
       "    </tr>\n",
       "  </tbody>\n",
       "</table>\n",
       "</div>"
      ],
      "text/plain": [
       "   Campus Level Status     Mode  Gender  Licence     Work  Car_Avail   Time  \\\n",
       "0     566    UG     FT  Transit  Female        0  Unknown          0  42.84   \n",
       "1      69  Grad     FT     Walk  Female        1  Unknown          0   3.41   \n",
       "2      69    UG     FT  Transit  Female        1  Unknown          1  69.76   \n",
       "3      69    UG     FT     Walk    Male        1  Unknown          1  17.22   \n",
       "4      69  Grad     FT     Walk    Male        1  Unknown          0   6.59   \n",
       "\n",
       "   HomeZone                    Family  Cars  Children  Adults  \\\n",
       "0       261  Live with family/parents     1         3       4   \n",
       "1        71         Live with partner     0         0       2   \n",
       "2      3714  Live with family/parents     1         0       4   \n",
       "3        74       Live with roommates     0         0       4   \n",
       "4        71         Live with partner     0         0       2   \n",
       "\n",
       "               Income  \n",
       "0             Unknown  \n",
       "1  $ 90,000 - 119,999  \n",
       "2             Unknown  \n",
       "3             Unknown  \n",
       "4   $ 30,000 - 59,999  "
      ]
     },
     "execution_count": 2,
     "metadata": {},
     "output_type": "execute_result"
    }
   ],
   "source": [
    "import pandas as pd\n",
    "import math\n",
    "import csv\n",
    "\n",
    "hh_df = pd.read_csv('../../Data/SMTO_2015/SMTO_2015_Households.csv')\n",
    "ps_df = pd.read_csv('../../Data/SMTO_2015/SMTO_2015_Respondents.csv')\n",
    "campus_info = pd.read_csv('../../Data/SMTO_2015/Campus_Info.csv')\n",
    "\n",
    "# Load relevant columns\n",
    "df = ps_df[['pscampusattend', 'personstatusgrad', 'personstatustime','psmainmodefalltypical', 'pscmpgender', 'psdrivinglicenseownerflag', 'psworknumhoursperweek', 'psborrowcar', 'pstraveltimetypfallcommute']]\n",
    "df = df.join(hh_df[['HmTTS2006', 'hhlivingsituation', 'hhcarnumber','hhnumyoungerthan18','hhnumolderorequalto18','hhincomelevel']])\n",
    "\n",
    "df = df.rename(columns={'HmTTS2006': 'HomeZone', 'pscampusattend': 'Campus', 'hhlivingsituation': 'Family', 'psmainmodefalltypical': 'Mode', \n",
    "                       'personstatusgrad': 'Level', 'personstatustime': 'Status', 'psuniversityinvolvednumyears': 'Years', 'hhcarnumber': 'Cars',\n",
    "                       'hhincomelevel': 'Income', 'pscmpgender': 'Gender', 'psdrivinglicenseownerflag': 'Licence', 'psworknumhoursperweek': 'Work',\n",
    "                       'hhnumyoungerthan18': 'Children', 'hhnumolderorequalto18':'Adults', 'psborrowcar': 'Car_Avail', 'pstraveltimetypfallcommute': 'Time'})\n",
    "\n",
    "mode_name_to_num = {\"Car - Driver alone\": \"Auto\", \"Car - Driver with passenger(s)\": \"Auto\", \"Car - Passenger\": \"Auto\", \"Taxi\": \"Auto\", \n",
    "                    \"Transit Bus\": \"Transit\", \"Streetcar\": \"Transit\", \"Subway/RT\": \"Transit\", \"GO Bus\": \"Transit\", \"GO Train\": \"Transit\", \n",
    "                    \"Walk\": \"Walk\", \"Bicycle\": \"Bicycle\"}\n",
    "print(df.shape)\n",
    "\n",
    "df.replace({'Mode': mode_name_to_num}, inplace=True)\n",
    "df = df[(df['Mode'] == \"Auto\") | (df['Mode'] == \"Transit\") | (df['Mode'] == \"Walk\") | (df['Mode'] == 'Bicycle')]\n",
    "print(df.shape)\n",
    "\n",
    "df['Work'].fillna('Unknown', inplace=True) # Fill 11,000 Work NaNs with \"Unknowns\"\n",
    "df['Car_Avail'].fillna(0, inplace = True)\n",
    "df = df.dropna() # Remove rows with missing data\n",
    "print(df.shape)\n",
    "\n",
    "\n",
    "# Convert Campus column to numerical column\n",
    "df['Campus'] = df[\"Campus\"].apply(lambda x: campus_info.Zone[campus_info['School'] == x].tolist()[0])\n",
    "print(df.shape)\n",
    "\n",
    "# Convert columns to numerical\n",
    "df['HomeZone'] = pd.to_numeric(df['HomeZone'], downcast='signed')\n",
    "df['Car_Avail'] = pd.to_numeric(df['Car_Avail'], downcast='signed')\n",
    "\n",
    "print(df.shape)\n",
    "df.head()\n"
   ]
  },
  {
   "cell_type": "code",
   "execution_count": 2,
   "metadata": {},
   "outputs": [],
   "source": [
    "def row_to_segment(x):\n",
    "    if x.Level == 'Other':\n",
    "        return 0\n",
    "    elif x.Level == 'UG':\n",
    "        return 3 if x.Status == 'PT' else (not x.Family) + 1\n",
    "    else:\n",
    "        return 6 if x.Status == 'PT' else (4 + (not x.Family))\n",
    "\n",
    "df['Segment'] = df.apply(row_to_segment, axis=1)"
   ]
  },
  {
   "cell_type": "code",
   "execution_count": 5,
   "metadata": {},
   "outputs": [
    {
     "data": {
      "text/html": [
       "<div>\n",
       "<style scoped>\n",
       "    .dataframe tbody tr th:only-of-type {\n",
       "        vertical-align: middle;\n",
       "    }\n",
       "\n",
       "    .dataframe tbody tr th {\n",
       "        vertical-align: top;\n",
       "    }\n",
       "\n",
       "    .dataframe thead th {\n",
       "        text-align: right;\n",
       "    }\n",
       "</style>\n",
       "<table border=\"1\" class=\"dataframe\">\n",
       "  <thead>\n",
       "    <tr style=\"text-align: right;\">\n",
       "      <th></th>\n",
       "      <th>Campus</th>\n",
       "      <th>Level</th>\n",
       "      <th>Status</th>\n",
       "      <th>Mode</th>\n",
       "      <th>Gender</th>\n",
       "      <th>Licence</th>\n",
       "      <th>Work</th>\n",
       "      <th>Car_Avail</th>\n",
       "      <th>Time</th>\n",
       "      <th>HomeZone</th>\n",
       "      <th>Family</th>\n",
       "      <th>Cars</th>\n",
       "      <th>Children</th>\n",
       "      <th>Adults</th>\n",
       "      <th>Income</th>\n",
       "      <th>Time.Auto</th>\n",
       "      <th>Time.Transit</th>\n",
       "      <th>Time.Walk</th>\n",
       "      <th>Time.Bicycle</th>\n",
       "    </tr>\n",
       "  </thead>\n",
       "  <tbody>\n",
       "    <tr>\n",
       "      <th>0</th>\n",
       "      <td>566</td>\n",
       "      <td>UG</td>\n",
       "      <td>FT</td>\n",
       "      <td>Transit</td>\n",
       "      <td>Female</td>\n",
       "      <td>0</td>\n",
       "      <td>Unknown</td>\n",
       "      <td>0</td>\n",
       "      <td>42.84</td>\n",
       "      <td>261</td>\n",
       "      <td>Live with family/parents</td>\n",
       "      <td>1</td>\n",
       "      <td>3</td>\n",
       "      <td>4</td>\n",
       "      <td>Unknown</td>\n",
       "      <td>17.474220</td>\n",
       "      <td>75.468478</td>\n",
       "      <td>223.214700</td>\n",
       "      <td>59.523920</td>\n",
       "    </tr>\n",
       "    <tr>\n",
       "      <th>1</th>\n",
       "      <td>69</td>\n",
       "      <td>Grad</td>\n",
       "      <td>FT</td>\n",
       "      <td>Walk</td>\n",
       "      <td>Female</td>\n",
       "      <td>1</td>\n",
       "      <td>Unknown</td>\n",
       "      <td>0</td>\n",
       "      <td>3.41</td>\n",
       "      <td>71</td>\n",
       "      <td>Live with partner</td>\n",
       "      <td>0</td>\n",
       "      <td>0</td>\n",
       "      <td>2</td>\n",
       "      <td>$ 90,000 - 119,999</td>\n",
       "      <td>2.924953</td>\n",
       "      <td>24.128386</td>\n",
       "      <td>16.985265</td>\n",
       "      <td>4.529404</td>\n",
       "    </tr>\n",
       "    <tr>\n",
       "      <th>2</th>\n",
       "      <td>69</td>\n",
       "      <td>UG</td>\n",
       "      <td>FT</td>\n",
       "      <td>Transit</td>\n",
       "      <td>Female</td>\n",
       "      <td>1</td>\n",
       "      <td>Unknown</td>\n",
       "      <td>1</td>\n",
       "      <td>69.76</td>\n",
       "      <td>3714</td>\n",
       "      <td>Live with family/parents</td>\n",
       "      <td>1</td>\n",
       "      <td>0</td>\n",
       "      <td>4</td>\n",
       "      <td>Unknown</td>\n",
       "      <td>50.171880</td>\n",
       "      <td>155.551170</td>\n",
       "      <td>349.788450</td>\n",
       "      <td>93.276920</td>\n",
       "    </tr>\n",
       "    <tr>\n",
       "      <th>3</th>\n",
       "      <td>69</td>\n",
       "      <td>UG</td>\n",
       "      <td>FT</td>\n",
       "      <td>Walk</td>\n",
       "      <td>Male</td>\n",
       "      <td>1</td>\n",
       "      <td>Unknown</td>\n",
       "      <td>1</td>\n",
       "      <td>17.22</td>\n",
       "      <td>74</td>\n",
       "      <td>Live with roommates</td>\n",
       "      <td>0</td>\n",
       "      <td>0</td>\n",
       "      <td>4</td>\n",
       "      <td>Unknown</td>\n",
       "      <td>1.049121</td>\n",
       "      <td>16.675728</td>\n",
       "      <td>10.491210</td>\n",
       "      <td>2.797656</td>\n",
       "    </tr>\n",
       "    <tr>\n",
       "      <th>4</th>\n",
       "      <td>69</td>\n",
       "      <td>Grad</td>\n",
       "      <td>FT</td>\n",
       "      <td>Walk</td>\n",
       "      <td>Male</td>\n",
       "      <td>1</td>\n",
       "      <td>Unknown</td>\n",
       "      <td>0</td>\n",
       "      <td>6.59</td>\n",
       "      <td>71</td>\n",
       "      <td>Live with partner</td>\n",
       "      <td>0</td>\n",
       "      <td>0</td>\n",
       "      <td>2</td>\n",
       "      <td>$ 30,000 - 59,999</td>\n",
       "      <td>2.924953</td>\n",
       "      <td>24.128386</td>\n",
       "      <td>16.985265</td>\n",
       "      <td>4.529404</td>\n",
       "    </tr>\n",
       "  </tbody>\n",
       "</table>\n",
       "</div>"
      ],
      "text/plain": [
       "   Campus Level Status     Mode  Gender  Licence     Work  Car_Avail   Time  \\\n",
       "0     566    UG     FT  Transit  Female        0  Unknown          0  42.84   \n",
       "1      69  Grad     FT     Walk  Female        1  Unknown          0   3.41   \n",
       "2      69    UG     FT  Transit  Female        1  Unknown          1  69.76   \n",
       "3      69    UG     FT     Walk    Male        1  Unknown          1  17.22   \n",
       "4      69  Grad     FT     Walk    Male        1  Unknown          0   6.59   \n",
       "\n",
       "   HomeZone                    Family  Cars  Children  Adults  \\\n",
       "0       261  Live with family/parents     1         3       4   \n",
       "1        71         Live with partner     0         0       2   \n",
       "2      3714  Live with family/parents     1         0       4   \n",
       "3        74       Live with roommates     0         0       4   \n",
       "4        71         Live with partner     0         0       2   \n",
       "\n",
       "               Income  Time.Auto  Time.Transit   Time.Walk  Time.Bicycle  \n",
       "0             Unknown  17.474220     75.468478  223.214700     59.523920  \n",
       "1  $ 90,000 - 119,999   2.924953     24.128386   16.985265      4.529404  \n",
       "2             Unknown  50.171880    155.551170  349.788450     93.276920  \n",
       "3             Unknown   1.049121     16.675728   10.491210      2.797656  \n",
       "4   $ 30,000 - 59,999   2.924953     24.128386   16.985265      4.529404  "
      ]
     },
     "execution_count": 5,
     "metadata": {},
     "output_type": "execute_result"
    }
   ],
   "source": [
    "# Dataframe with walk distances\n",
    "df_path = pd.read_csv('../../../LoS/Walk_Distances.csv')\n",
    "origins = list(set(list(df_path['Origin'])))\n",
    "dists = list(df_path['Data'])\n",
    "\n",
    "# Dataframe with AutoTravelTimes\n",
    "df_att = pd.read_csv('../../../LoS/Auto_Travel_Times.csv')\n",
    "AutoTravelTimes = list(df_att['Data'])\n",
    "\n",
    "# Dataframe with TransitTravelTimes\n",
    "df_ttt = pd.read_csv('../../../LoS/Transit_Travel_Times.csv')\n",
    "TransitTravelTimes = list(df_ttt['Data'])\n",
    "\n",
    "not_found = set()\n",
    "\n",
    "# Function for distance/AutoTravelTime/TransitTravelTime lookup\n",
    "def find_value(origin, destination, mode_num):\n",
    "    # mode_num: 0 - to find Auto Travel Time\n",
    "    #           1 - to find Transit Travel Time\n",
    "    #           2 - to find Walking Travel Time\n",
    "    #           5 - to find Biking Travel Time\n",
    "    try:\n",
    "        i = origins.index(origin)\n",
    "    except ValueError:\n",
    "        not_found.add(origin)\n",
    "        return -1\n",
    "    try:\n",
    "        j = origins.index(destination)\n",
    "    except ValueError:\n",
    "        not_found.add(destination)\n",
    "        return -1\n",
    "    \n",
    "    if mode_num == 0:\n",
    "        return AutoTravelTimes[i*2392 + j]\n",
    "    elif mode_num == 1:\n",
    "        return TransitTravelTimes[i*2392 + j]\n",
    "    elif mode_num == 2:\n",
    "        return dists[i*2392 + j] * 15/1000 # This was changed from walking distance to walking time\n",
    "    elif mode_num == 5:\n",
    "        return dists[i*2392 + j] * 4/1000 # Distance to biking time\n",
    "    else:\n",
    "        print(\"ERROR: Enter correct mode_num!\")\n",
    "        return 0\n",
    "\n",
    "'''\n",
    "# List of campus' TTS zones from Joven's MOE data\n",
    "campus_zones = list(campus_info['Zone'])\n",
    "school_codes = list(campus_info['Code'])\n",
    "\n",
    "# Load distances into dataframe\n",
    "for i in range(len(campus_zones)):\n",
    "    df[\"Dist.\" + school_codes[i]] = df['HomeZone'].apply(lambda x: find_distance(x, campus_zones[i]))\n",
    "print(\"# of zones not found:\", len(not_found))\n",
    "'''\n",
    "\n",
    "# Add columns for Distance, Transit Travel Time, Auto Travel Time, Auto Cost, Transit Cost\n",
    "df['Time.Auto'] = df.apply(lambda x: find_value(x.HomeZone, x.Campus, 0), axis=1)\n",
    "df['Time.Transit'] = df.apply(lambda x: find_value(x.HomeZone, x.Campus, 1), axis=1)\n",
    "df['Time.Walk'] = df.apply(lambda x: find_value(x.HomeZone, x.Campus, 2), axis=1)\n",
    "df['Time.Bicycle'] = df['Time.Walk'] * 4 / 15\n",
    "#df['Cost.Auto'] = df.apply(lambda x: find_value(x.HomeZone, x.CampusZone, 3), axis=1)\n",
    "#df['Cost.Transit'] = df.apply(lambda x: find_value(x.HomeZone, x.CampusZone, 4), axis=1)\n",
    "\n",
    "df.head()"
   ]
  },
  {
   "cell_type": "code",
   "execution_count": 12,
   "metadata": {},
   "outputs": [
    {
     "data": {
      "text/html": [
       "<div>\n",
       "<style scoped>\n",
       "    .dataframe tbody tr th:only-of-type {\n",
       "        vertical-align: middle;\n",
       "    }\n",
       "\n",
       "    .dataframe tbody tr th {\n",
       "        vertical-align: top;\n",
       "    }\n",
       "\n",
       "    .dataframe thead th {\n",
       "        text-align: right;\n",
       "    }\n",
       "</style>\n",
       "<table border=\"1\" class=\"dataframe\">\n",
       "  <thead>\n",
       "    <tr style=\"text-align: right;\">\n",
       "      <th></th>\n",
       "      <th>Campus</th>\n",
       "      <th>Level</th>\n",
       "      <th>Status</th>\n",
       "      <th>Mode</th>\n",
       "      <th>Gender</th>\n",
       "      <th>Licence</th>\n",
       "      <th>Work</th>\n",
       "      <th>Car_Avail</th>\n",
       "      <th>Time</th>\n",
       "      <th>HomeZone</th>\n",
       "      <th>Family</th>\n",
       "      <th>Cars</th>\n",
       "      <th>Children</th>\n",
       "      <th>Adults</th>\n",
       "      <th>Income</th>\n",
       "      <th>Time.Auto</th>\n",
       "      <th>Time.Transit</th>\n",
       "      <th>Time.Walk</th>\n",
       "      <th>Time.Bicycle</th>\n",
       "    </tr>\n",
       "  </thead>\n",
       "  <tbody>\n",
       "    <tr>\n",
       "      <th>0</th>\n",
       "      <td>566</td>\n",
       "      <td>UG</td>\n",
       "      <td>FT</td>\n",
       "      <td>Transit</td>\n",
       "      <td>Female</td>\n",
       "      <td>0</td>\n",
       "      <td>Unknown</td>\n",
       "      <td>0</td>\n",
       "      <td>42.84</td>\n",
       "      <td>261</td>\n",
       "      <td>Live with family/parents</td>\n",
       "      <td>1</td>\n",
       "      <td>3</td>\n",
       "      <td>4</td>\n",
       "      <td>Unknown</td>\n",
       "      <td>17.474220</td>\n",
       "      <td>75.468478</td>\n",
       "      <td>223.214700</td>\n",
       "      <td>59.523920</td>\n",
       "    </tr>\n",
       "    <tr>\n",
       "      <th>1</th>\n",
       "      <td>69</td>\n",
       "      <td>Grad</td>\n",
       "      <td>FT</td>\n",
       "      <td>Walk</td>\n",
       "      <td>Female</td>\n",
       "      <td>1</td>\n",
       "      <td>Unknown</td>\n",
       "      <td>0</td>\n",
       "      <td>3.41</td>\n",
       "      <td>71</td>\n",
       "      <td>Live with partner</td>\n",
       "      <td>0</td>\n",
       "      <td>0</td>\n",
       "      <td>2</td>\n",
       "      <td>$ 90,000 - 119,999</td>\n",
       "      <td>2.924953</td>\n",
       "      <td>24.128386</td>\n",
       "      <td>16.985265</td>\n",
       "      <td>4.529404</td>\n",
       "    </tr>\n",
       "    <tr>\n",
       "      <th>2</th>\n",
       "      <td>69</td>\n",
       "      <td>UG</td>\n",
       "      <td>FT</td>\n",
       "      <td>Transit</td>\n",
       "      <td>Female</td>\n",
       "      <td>1</td>\n",
       "      <td>Unknown</td>\n",
       "      <td>1</td>\n",
       "      <td>69.76</td>\n",
       "      <td>3714</td>\n",
       "      <td>Live with family/parents</td>\n",
       "      <td>1</td>\n",
       "      <td>0</td>\n",
       "      <td>4</td>\n",
       "      <td>Unknown</td>\n",
       "      <td>50.171880</td>\n",
       "      <td>155.551170</td>\n",
       "      <td>349.788450</td>\n",
       "      <td>93.276920</td>\n",
       "    </tr>\n",
       "    <tr>\n",
       "      <th>3</th>\n",
       "      <td>69</td>\n",
       "      <td>UG</td>\n",
       "      <td>FT</td>\n",
       "      <td>Walk</td>\n",
       "      <td>Male</td>\n",
       "      <td>1</td>\n",
       "      <td>Unknown</td>\n",
       "      <td>1</td>\n",
       "      <td>17.22</td>\n",
       "      <td>74</td>\n",
       "      <td>Live with roommates</td>\n",
       "      <td>0</td>\n",
       "      <td>0</td>\n",
       "      <td>4</td>\n",
       "      <td>Unknown</td>\n",
       "      <td>1.049121</td>\n",
       "      <td>16.675728</td>\n",
       "      <td>10.491210</td>\n",
       "      <td>2.797656</td>\n",
       "    </tr>\n",
       "    <tr>\n",
       "      <th>4</th>\n",
       "      <td>69</td>\n",
       "      <td>Grad</td>\n",
       "      <td>FT</td>\n",
       "      <td>Walk</td>\n",
       "      <td>Male</td>\n",
       "      <td>1</td>\n",
       "      <td>Unknown</td>\n",
       "      <td>0</td>\n",
       "      <td>6.59</td>\n",
       "      <td>71</td>\n",
       "      <td>Live with partner</td>\n",
       "      <td>0</td>\n",
       "      <td>0</td>\n",
       "      <td>2</td>\n",
       "      <td>$ 30,000 - 59,999</td>\n",
       "      <td>2.924953</td>\n",
       "      <td>24.128386</td>\n",
       "      <td>16.985265</td>\n",
       "      <td>4.529404</td>\n",
       "    </tr>\n",
       "  </tbody>\n",
       "</table>\n",
       "</div>"
      ],
      "text/plain": [
       "   Campus Level Status     Mode  Gender  Licence     Work  Car_Avail   Time  \\\n",
       "0     566    UG     FT  Transit  Female        0  Unknown          0  42.84   \n",
       "1      69  Grad     FT     Walk  Female        1  Unknown          0   3.41   \n",
       "2      69    UG     FT  Transit  Female        1  Unknown          1  69.76   \n",
       "3      69    UG     FT     Walk    Male        1  Unknown          1  17.22   \n",
       "4      69  Grad     FT     Walk    Male        1  Unknown          0   6.59   \n",
       "\n",
       "   HomeZone                    Family  Cars  Children  Adults  \\\n",
       "0       261  Live with family/parents     1         3       4   \n",
       "1        71         Live with partner     0         0       2   \n",
       "2      3714  Live with family/parents     1         0       4   \n",
       "3        74       Live with roommates     0         0       4   \n",
       "4        71         Live with partner     0         0       2   \n",
       "\n",
       "               Income  Time.Auto  Time.Transit   Time.Walk  Time.Bicycle  \n",
       "0             Unknown  17.474220     75.468478  223.214700     59.523920  \n",
       "1  $ 90,000 - 119,999   2.924953     24.128386   16.985265      4.529404  \n",
       "2             Unknown  50.171880    155.551170  349.788450     93.276920  \n",
       "3             Unknown   1.049121     16.675728   10.491210      2.797656  \n",
       "4   $ 30,000 - 59,999   2.924953     24.128386   16.985265      4.529404  "
      ]
     },
     "execution_count": 12,
     "metadata": {},
     "output_type": "execute_result"
    }
   ],
   "source": [
    "df = df[df['Time.Walk'] != -1]\n",
    "df.head()"
   ]
  },
  {
   "cell_type": "code",
   "execution_count": 15,
   "metadata": {},
   "outputs": [
    {
     "data": {
      "text/html": [
       "<div>\n",
       "<style scoped>\n",
       "    .dataframe tbody tr th:only-of-type {\n",
       "        vertical-align: middle;\n",
       "    }\n",
       "\n",
       "    .dataframe tbody tr th {\n",
       "        vertical-align: top;\n",
       "    }\n",
       "\n",
       "    .dataframe thead th {\n",
       "        text-align: right;\n",
       "    }\n",
       "</style>\n",
       "<table border=\"1\" class=\"dataframe\">\n",
       "  <thead>\n",
       "    <tr style=\"text-align: right;\">\n",
       "      <th></th>\n",
       "      <th>Time</th>\n",
       "      <th>Time.Walk</th>\n",
       "    </tr>\n",
       "  </thead>\n",
       "  <tbody>\n",
       "    <tr>\n",
       "      <th>count</th>\n",
       "      <td>2851.000000</td>\n",
       "      <td>2851.000000</td>\n",
       "    </tr>\n",
       "    <tr>\n",
       "      <th>mean</th>\n",
       "      <td>16.108011</td>\n",
       "      <td>27.514349</td>\n",
       "    </tr>\n",
       "    <tr>\n",
       "      <th>std</th>\n",
       "      <td>9.790392</td>\n",
       "      <td>57.913393</td>\n",
       "    </tr>\n",
       "    <tr>\n",
       "      <th>min</th>\n",
       "      <td>0.000000</td>\n",
       "      <td>0.000000</td>\n",
       "    </tr>\n",
       "    <tr>\n",
       "      <th>25%</th>\n",
       "      <td>10.380000</td>\n",
       "      <td>11.563035</td>\n",
       "    </tr>\n",
       "    <tr>\n",
       "      <th>50%</th>\n",
       "      <td>15.700000</td>\n",
       "      <td>19.466160</td>\n",
       "    </tr>\n",
       "    <tr>\n",
       "      <th>75%</th>\n",
       "      <td>21.010000</td>\n",
       "      <td>26.595510</td>\n",
       "    </tr>\n",
       "    <tr>\n",
       "      <th>max</th>\n",
       "      <td>70.000000</td>\n",
       "      <td>992.399250</td>\n",
       "    </tr>\n",
       "  </tbody>\n",
       "</table>\n",
       "</div>"
      ],
      "text/plain": [
       "              Time    Time.Walk\n",
       "count  2851.000000  2851.000000\n",
       "mean     16.108011    27.514349\n",
       "std       9.790392    57.913393\n",
       "min       0.000000     0.000000\n",
       "25%      10.380000    11.563035\n",
       "50%      15.700000    19.466160\n",
       "75%      21.010000    26.595510\n",
       "max      70.000000   992.399250"
      ]
     },
     "execution_count": 15,
     "metadata": {},
     "output_type": "execute_result"
    }
   ],
   "source": [
    "walk_df = df[df['Mode'] == 'Walk']\n",
    "bike_df = df[df['Mode'] == 'Bicycle']\n",
    "walk_df[['Time', 'Time.Walk']].describe()"
   ]
  },
  {
   "cell_type": "code",
   "execution_count": 17,
   "metadata": {},
   "outputs": [
    {
     "data": {
      "text/plain": [
       "<matplotlib.axes._subplots.AxesSubplot at 0x1e405a5f788>"
      ]
     },
     "execution_count": 17,
     "metadata": {},
     "output_type": "execute_result"
    },
    {
     "data": {
      "image/png": "[encoded data removed]",
      "text/plain": [
       "<Figure size 432x288 with 1 Axes>"
      ]
     },
     "metadata": {
      "needs_background": "light"
     },
     "output_type": "display_data"
    }
   ],
   "source": [
    "walk_df['Time'].plot.box()"
   ]
  },
  {
   "cell_type": "code",
   "execution_count": 18,
   "metadata": {},
   "outputs": [
    {
     "data": {
      "text/plain": [
       "<matplotlib.axes._subplots.AxesSubplot at 0x1e405c1d948>"
      ]
     },
     "execution_count": 18,
     "metadata": {},
     "output_type": "execute_result"
    },
    {
     "data": {
      "image/png": "[encoded data removed]",
      "text/plain": [
       "<Figure size 432x288 with 1 Axes>"
      ]
     },
     "metadata": {
      "needs_background": "light"
     },
     "output_type": "display_data"
    }
   ],
   "source": [
    "walk_df['Time.Walk'].plot.box()"
   ]
  },
  {
   "cell_type": "code",
   "execution_count": 51,
   "metadata": {
    "scrolled": true
   },
   "outputs": [
    {
     "name": "stdout",
     "output_type": "stream",
     "text": [
      "0.8372500876885304\n"
     ]
    },
    {
     "data": {
      "text/plain": [
       "count    2851.000000\n",
       "mean       11.406338\n",
       "std        56.506313\n",
       "min       -70.000000\n",
       "25%        -2.210000\n",
       "50%         3.138600\n",
       "75%         9.657142\n",
       "max       983.379250\n",
       "dtype: float64"
      ]
     },
     "execution_count": 51,
     "metadata": {},
     "output_type": "execute_result"
    }
   ],
   "source": [
    "print((abs(walk_df['Time.Walk'] - walk_df['Time']) < 15).sum()/2851)\n",
    "(walk_df['Time.Walk'] - walk_df['Time']).describe()"
   ]
  },
  {
   "cell_type": "code",
   "execution_count": 25,
   "metadata": {},
   "outputs": [
    {
     "data": {
      "text/html": [
       "<div>\n",
       "<style scoped>\n",
       "    .dataframe tbody tr th:only-of-type {\n",
       "        vertical-align: middle;\n",
       "    }\n",
       "\n",
       "    .dataframe tbody tr th {\n",
       "        vertical-align: top;\n",
       "    }\n",
       "\n",
       "    .dataframe thead th {\n",
       "        text-align: right;\n",
       "    }\n",
       "</style>\n",
       "<table border=\"1\" class=\"dataframe\">\n",
       "  <thead>\n",
       "    <tr style=\"text-align: right;\">\n",
       "      <th></th>\n",
       "      <th>Time</th>\n",
       "      <th>Time.Bicycle</th>\n",
       "    </tr>\n",
       "  </thead>\n",
       "  <tbody>\n",
       "    <tr>\n",
       "      <th>count</th>\n",
       "      <td>1032.000000</td>\n",
       "      <td>1032.000000</td>\n",
       "    </tr>\n",
       "    <tr>\n",
       "      <th>mean</th>\n",
       "      <td>19.471017</td>\n",
       "      <td>16.025199</td>\n",
       "    </tr>\n",
       "    <tr>\n",
       "      <th>std</th>\n",
       "      <td>10.970953</td>\n",
       "      <td>16.923810</td>\n",
       "    </tr>\n",
       "    <tr>\n",
       "      <th>min</th>\n",
       "      <td>0.000000</td>\n",
       "      <td>0.000000</td>\n",
       "    </tr>\n",
       "    <tr>\n",
       "      <th>25%</th>\n",
       "      <td>11.587500</td>\n",
       "      <td>6.380704</td>\n",
       "    </tr>\n",
       "    <tr>\n",
       "      <th>50%</th>\n",
       "      <td>17.030000</td>\n",
       "      <td>11.983040</td>\n",
       "    </tr>\n",
       "    <tr>\n",
       "      <th>75%</th>\n",
       "      <td>24.982500</td>\n",
       "      <td>19.086392</td>\n",
       "    </tr>\n",
       "    <tr>\n",
       "      <th>max</th>\n",
       "      <td>70.000000</td>\n",
       "      <td>188.451680</td>\n",
       "    </tr>\n",
       "  </tbody>\n",
       "</table>\n",
       "</div>"
      ],
      "text/plain": [
       "              Time  Time.Bicycle\n",
       "count  1032.000000   1032.000000\n",
       "mean     19.471017     16.025199\n",
       "std      10.970953     16.923810\n",
       "min       0.000000      0.000000\n",
       "25%      11.587500      6.380704\n",
       "50%      17.030000     11.983040\n",
       "75%      24.982500     19.086392\n",
       "max      70.000000    188.451680"
      ]
     },
     "execution_count": 25,
     "metadata": {},
     "output_type": "execute_result"
    }
   ],
   "source": [
    "bike_df[['Time', 'Time.Bicycle']].describe()"
   ]
  },
  {
   "cell_type": "code",
   "execution_count": 27,
   "metadata": {},
   "outputs": [
    {
     "data": {
      "text/plain": [
       "<matplotlib.axes._subplots.AxesSubplot at 0x1e405d81648>"
      ]
     },
     "execution_count": 27,
     "metadata": {},
     "output_type": "execute_result"
    },
    {
     "data": {
      "image/png": "[encoded data removed]",
      "text/plain": [
       "<Figure size 432x288 with 1 Axes>"
      ]
     },
     "metadata": {
      "needs_background": "light"
     },
     "output_type": "display_data"
    }
   ],
   "source": [
    "bike_df['Time'].plot.box()"
   ]
  },
  {
   "cell_type": "code",
   "execution_count": 30,
   "metadata": {},
   "outputs": [
    {
     "data": {
      "text/plain": [
       "<matplotlib.axes._subplots.AxesSubplot at 0x1e405e72cc8>"
      ]
     },
     "execution_count": 30,
     "metadata": {},
     "output_type": "execute_result"
    },
    {
     "data": {
      "image/png": "[encoded data removed]",
      "text/plain": [
       "<Figure size 432x288 with 1 Axes>"
      ]
     },
     "metadata": {
      "needs_background": "light"
     },
     "output_type": "display_data"
    }
   ],
   "source": [
    "bike_df['Time.Bicycle'].plot.box()"
   ]
  },
  {
   "cell_type": "code",
   "execution_count": 50,
   "metadata": {
    "scrolled": true
   },
   "outputs": [
    {
     "name": "stdout",
     "output_type": "stream",
     "text": [
      "0.9089147286821705\n"
     ]
    },
    {
     "data": {
      "text/plain": [
       "count    1032.000000\n",
       "mean       -3.445818\n",
       "std        13.578371\n",
       "min       -38.906960\n",
       "25%        -8.038380\n",
       "50%        -4.710944\n",
       "75%        -1.679826\n",
       "max       178.901680\n",
       "dtype: float64"
      ]
     },
     "execution_count": 50,
     "metadata": {},
     "output_type": "execute_result"
    }
   ],
   "source": [
    "print((abs(bike_df['Time.Bicycle'] - bike_df['Time']) < 15).sum() / 1032)\n",
    "(bike_df['Time.Bicycle'] - bike_df['Time']).describe()"
   ]
  },
  {
   "cell_type": "code",
   "execution_count": 41,
   "metadata": {
    "scrolled": true
   },
   "outputs": [
    {
     "data": {
      "text/plain": [
       "<matplotlib.collections.PathCollection at 0x1e406152e08>"
      ]
     },
     "execution_count": 41,
     "metadata": {},
     "output_type": "execute_result"
    },
    {
     "data": {
      "image/png": "[encoded data removed]",
      "text/plain": [
       "<Figure size 432x288 with 1 Axes>"
      ]
     },
     "metadata": {
      "needs_background": "light"
     },
     "output_type": "display_data"
    }
   ],
   "source": [
    "import matplotlib.pyplot as plt\n",
    "walk = ps_df[ps_df['psmainmodefalltypical'] == 'Walk']\n",
    "walk = walk[walk['HomeToMainCampusKM'] < 10]\n",
    "plt.scatter(walk['HomeToMainCampusKM'], walk['pstraveltimetypfallcommute'])"
   ]
  },
  {
   "cell_type": "code",
   "execution_count": null,
   "metadata": {},
   "outputs": [],
   "source": []
  }
 ],
 "metadata": {
  "kernelspec": {
   "display_name": "Python 3",
   "language": "python",
   "name": "python3"
  },
  "language_info": {
   "codemirror_mode": {
    "name": "ipython",
    "version": 3
   },
   "file_extension": ".py",
   "mimetype": "text/x-python",
   "name": "python",
   "nbconvert_exporter": "python",
   "pygments_lexer": "ipython3",
   "version": "3.7.6"
  }
 },
 "nbformat": 4,
 "nbformat_minor": 4
}
