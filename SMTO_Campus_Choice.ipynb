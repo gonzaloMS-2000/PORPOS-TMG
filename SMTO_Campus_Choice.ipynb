{
 "cells": [
  {
   "cell_type": "markdown",
   "metadata": {},
   "source": [
    "# Biogeme Test - SMTO Data\n",
    "\n",
    "Gonna try to adapt the Biogeme Swissmetro example to university choice using SMTO data set. We'll try to predict campus choice using distance."
   ]
  },
  {
   "cell_type": "code",
   "execution_count": 1,
   "metadata": {
    "scrolled": true
   },
   "outputs": [
    {
     "ename": "FileNotFoundError",
     "evalue": "[Errno 2] File ../../Data/SMTO_2015_Households.csv does not exist: '../../Data/SMTO_2015_Households.csv'",
     "output_type": "error",
     "traceback": [
      "\u001b[1;31m---------------------------------------------------------------------------\u001b[0m",
      "\u001b[1;31mFileNotFoundError\u001b[0m                         Traceback (most recent call last)",
      "\u001b[1;32m<ipython-input-1-9cce81b00aa7>\u001b[0m in \u001b[0;36m<module>\u001b[1;34m\u001b[0m\n\u001b[0;32m      5\u001b[0m \u001b[1;32mimport\u001b[0m \u001b[0mpandas\u001b[0m \u001b[1;32mas\u001b[0m \u001b[0mpd\u001b[0m\u001b[1;33m\u001b[0m\u001b[1;33m\u001b[0m\u001b[0m\n\u001b[0;32m      6\u001b[0m \u001b[1;33m\u001b[0m\u001b[0m\n\u001b[1;32m----> 7\u001b[1;33m \u001b[0mhh_df\u001b[0m \u001b[1;33m=\u001b[0m \u001b[0mpd\u001b[0m\u001b[1;33m.\u001b[0m\u001b[0mread_csv\u001b[0m\u001b[1;33m(\u001b[0m\u001b[1;34m'../../Data/SMTO_2015_Households.csv'\u001b[0m\u001b[1;33m)\u001b[0m\u001b[1;33m\u001b[0m\u001b[1;33m\u001b[0m\u001b[0m\n\u001b[0m\u001b[0;32m      8\u001b[0m \u001b[0mps_df\u001b[0m \u001b[1;33m=\u001b[0m \u001b[0mpd\u001b[0m\u001b[1;33m.\u001b[0m\u001b[0mread_csv\u001b[0m\u001b[1;33m(\u001b[0m\u001b[1;34m'../../Data/SMTO_2015_Respondents.csv'\u001b[0m\u001b[1;33m)\u001b[0m\u001b[1;33m\u001b[0m\u001b[1;33m\u001b[0m\u001b[0m\n",
      "\u001b[1;32m~\\anaconda3\\lib\\site-packages\\pandas\\io\\parsers.py\u001b[0m in \u001b[0;36mparser_f\u001b[1;34m(filepath_or_buffer, sep, delimiter, header, names, index_col, usecols, squeeze, prefix, mangle_dupe_cols, dtype, engine, converters, true_values, false_values, skipinitialspace, skiprows, skipfooter, nrows, na_values, keep_default_na, na_filter, verbose, skip_blank_lines, parse_dates, infer_datetime_format, keep_date_col, date_parser, dayfirst, cache_dates, iterator, chunksize, compression, thousands, decimal, lineterminator, quotechar, quoting, doublequote, escapechar, comment, encoding, dialect, error_bad_lines, warn_bad_lines, delim_whitespace, low_memory, memory_map, float_precision)\u001b[0m\n\u001b[0;32m    674\u001b[0m         )\n\u001b[0;32m    675\u001b[0m \u001b[1;33m\u001b[0m\u001b[0m\n\u001b[1;32m--> 676\u001b[1;33m         \u001b[1;32mreturn\u001b[0m \u001b[0m_read\u001b[0m\u001b[1;33m(\u001b[0m\u001b[0mfilepath_or_buffer\u001b[0m\u001b[1;33m,\u001b[0m \u001b[0mkwds\u001b[0m\u001b[1;33m)\u001b[0m\u001b[1;33m\u001b[0m\u001b[1;33m\u001b[0m\u001b[0m\n\u001b[0m\u001b[0;32m    677\u001b[0m \u001b[1;33m\u001b[0m\u001b[0m\n\u001b[0;32m    678\u001b[0m     \u001b[0mparser_f\u001b[0m\u001b[1;33m.\u001b[0m\u001b[0m__name__\u001b[0m \u001b[1;33m=\u001b[0m \u001b[0mname\u001b[0m\u001b[1;33m\u001b[0m\u001b[1;33m\u001b[0m\u001b[0m\n",
      "\u001b[1;32m~\\anaconda3\\lib\\site-packages\\pandas\\io\\parsers.py\u001b[0m in \u001b[0;36m_read\u001b[1;34m(filepath_or_buffer, kwds)\u001b[0m\n\u001b[0;32m    446\u001b[0m \u001b[1;33m\u001b[0m\u001b[0m\n\u001b[0;32m    447\u001b[0m     \u001b[1;31m# Create the parser.\u001b[0m\u001b[1;33m\u001b[0m\u001b[1;33m\u001b[0m\u001b[1;33m\u001b[0m\u001b[0m\n\u001b[1;32m--> 448\u001b[1;33m     \u001b[0mparser\u001b[0m \u001b[1;33m=\u001b[0m \u001b[0mTextFileReader\u001b[0m\u001b[1;33m(\u001b[0m\u001b[0mfp_or_buf\u001b[0m\u001b[1;33m,\u001b[0m \u001b[1;33m**\u001b[0m\u001b[0mkwds\u001b[0m\u001b[1;33m)\u001b[0m\u001b[1;33m\u001b[0m\u001b[1;33m\u001b[0m\u001b[0m\n\u001b[0m\u001b[0;32m    449\u001b[0m \u001b[1;33m\u001b[0m\u001b[0m\n\u001b[0;32m    450\u001b[0m     \u001b[1;32mif\u001b[0m \u001b[0mchunksize\u001b[0m \u001b[1;32mor\u001b[0m \u001b[0miterator\u001b[0m\u001b[1;33m:\u001b[0m\u001b[1;33m\u001b[0m\u001b[1;33m\u001b[0m\u001b[0m\n",
      "\u001b[1;32m~\\anaconda3\\lib\\site-packages\\pandas\\io\\parsers.py\u001b[0m in \u001b[0;36m__init__\u001b[1;34m(self, f, engine, **kwds)\u001b[0m\n\u001b[0;32m    878\u001b[0m             \u001b[0mself\u001b[0m\u001b[1;33m.\u001b[0m\u001b[0moptions\u001b[0m\u001b[1;33m[\u001b[0m\u001b[1;34m\"has_index_names\"\u001b[0m\u001b[1;33m]\u001b[0m \u001b[1;33m=\u001b[0m \u001b[0mkwds\u001b[0m\u001b[1;33m[\u001b[0m\u001b[1;34m\"has_index_names\"\u001b[0m\u001b[1;33m]\u001b[0m\u001b[1;33m\u001b[0m\u001b[1;33m\u001b[0m\u001b[0m\n\u001b[0;32m    879\u001b[0m \u001b[1;33m\u001b[0m\u001b[0m\n\u001b[1;32m--> 880\u001b[1;33m         \u001b[0mself\u001b[0m\u001b[1;33m.\u001b[0m\u001b[0m_make_engine\u001b[0m\u001b[1;33m(\u001b[0m\u001b[0mself\u001b[0m\u001b[1;33m.\u001b[0m\u001b[0mengine\u001b[0m\u001b[1;33m)\u001b[0m\u001b[1;33m\u001b[0m\u001b[1;33m\u001b[0m\u001b[0m\n\u001b[0m\u001b[0;32m    881\u001b[0m \u001b[1;33m\u001b[0m\u001b[0m\n\u001b[0;32m    882\u001b[0m     \u001b[1;32mdef\u001b[0m \u001b[0mclose\u001b[0m\u001b[1;33m(\u001b[0m\u001b[0mself\u001b[0m\u001b[1;33m)\u001b[0m\u001b[1;33m:\u001b[0m\u001b[1;33m\u001b[0m\u001b[1;33m\u001b[0m\u001b[0m\n",
      "\u001b[1;32m~\\anaconda3\\lib\\site-packages\\pandas\\io\\parsers.py\u001b[0m in \u001b[0;36m_make_engine\u001b[1;34m(self, engine)\u001b[0m\n\u001b[0;32m   1112\u001b[0m     \u001b[1;32mdef\u001b[0m \u001b[0m_make_engine\u001b[0m\u001b[1;33m(\u001b[0m\u001b[0mself\u001b[0m\u001b[1;33m,\u001b[0m \u001b[0mengine\u001b[0m\u001b[1;33m=\u001b[0m\u001b[1;34m\"c\"\u001b[0m\u001b[1;33m)\u001b[0m\u001b[1;33m:\u001b[0m\u001b[1;33m\u001b[0m\u001b[1;33m\u001b[0m\u001b[0m\n\u001b[0;32m   1113\u001b[0m         \u001b[1;32mif\u001b[0m \u001b[0mengine\u001b[0m \u001b[1;33m==\u001b[0m \u001b[1;34m\"c\"\u001b[0m\u001b[1;33m:\u001b[0m\u001b[1;33m\u001b[0m\u001b[1;33m\u001b[0m\u001b[0m\n\u001b[1;32m-> 1114\u001b[1;33m             \u001b[0mself\u001b[0m\u001b[1;33m.\u001b[0m\u001b[0m_engine\u001b[0m \u001b[1;33m=\u001b[0m \u001b[0mCParserWrapper\u001b[0m\u001b[1;33m(\u001b[0m\u001b[0mself\u001b[0m\u001b[1;33m.\u001b[0m\u001b[0mf\u001b[0m\u001b[1;33m,\u001b[0m \u001b[1;33m**\u001b[0m\u001b[0mself\u001b[0m\u001b[1;33m.\u001b[0m\u001b[0moptions\u001b[0m\u001b[1;33m)\u001b[0m\u001b[1;33m\u001b[0m\u001b[1;33m\u001b[0m\u001b[0m\n\u001b[0m\u001b[0;32m   1115\u001b[0m         \u001b[1;32melse\u001b[0m\u001b[1;33m:\u001b[0m\u001b[1;33m\u001b[0m\u001b[1;33m\u001b[0m\u001b[0m\n\u001b[0;32m   1116\u001b[0m             \u001b[1;32mif\u001b[0m \u001b[0mengine\u001b[0m \u001b[1;33m==\u001b[0m \u001b[1;34m\"python\"\u001b[0m\u001b[1;33m:\u001b[0m\u001b[1;33m\u001b[0m\u001b[1;33m\u001b[0m\u001b[0m\n",
      "\u001b[1;32m~\\anaconda3\\lib\\site-packages\\pandas\\io\\parsers.py\u001b[0m in \u001b[0;36m__init__\u001b[1;34m(self, src, **kwds)\u001b[0m\n\u001b[0;32m   1889\u001b[0m         \u001b[0mkwds\u001b[0m\u001b[1;33m[\u001b[0m\u001b[1;34m\"usecols\"\u001b[0m\u001b[1;33m]\u001b[0m \u001b[1;33m=\u001b[0m \u001b[0mself\u001b[0m\u001b[1;33m.\u001b[0m\u001b[0musecols\u001b[0m\u001b[1;33m\u001b[0m\u001b[1;33m\u001b[0m\u001b[0m\n\u001b[0;32m   1890\u001b[0m \u001b[1;33m\u001b[0m\u001b[0m\n\u001b[1;32m-> 1891\u001b[1;33m         \u001b[0mself\u001b[0m\u001b[1;33m.\u001b[0m\u001b[0m_reader\u001b[0m \u001b[1;33m=\u001b[0m \u001b[0mparsers\u001b[0m\u001b[1;33m.\u001b[0m\u001b[0mTextReader\u001b[0m\u001b[1;33m(\u001b[0m\u001b[0msrc\u001b[0m\u001b[1;33m,\u001b[0m \u001b[1;33m**\u001b[0m\u001b[0mkwds\u001b[0m\u001b[1;33m)\u001b[0m\u001b[1;33m\u001b[0m\u001b[1;33m\u001b[0m\u001b[0m\n\u001b[0m\u001b[0;32m   1892\u001b[0m         \u001b[0mself\u001b[0m\u001b[1;33m.\u001b[0m\u001b[0munnamed_cols\u001b[0m \u001b[1;33m=\u001b[0m \u001b[0mself\u001b[0m\u001b[1;33m.\u001b[0m\u001b[0m_reader\u001b[0m\u001b[1;33m.\u001b[0m\u001b[0munnamed_cols\u001b[0m\u001b[1;33m\u001b[0m\u001b[1;33m\u001b[0m\u001b[0m\n\u001b[0;32m   1893\u001b[0m \u001b[1;33m\u001b[0m\u001b[0m\n",
      "\u001b[1;32mpandas\\_libs\\parsers.pyx\u001b[0m in \u001b[0;36mpandas._libs.parsers.TextReader.__cinit__\u001b[1;34m()\u001b[0m\n",
      "\u001b[1;32mpandas\\_libs\\parsers.pyx\u001b[0m in \u001b[0;36mpandas._libs.parsers.TextReader._setup_parser_source\u001b[1;34m()\u001b[0m\n",
      "\u001b[1;31mFileNotFoundError\u001b[0m: [Errno 2] File ../../Data/SMTO_2015_Households.csv does not exist: '../../Data/SMTO_2015_Households.csv'"
     ]
    }
   ],
   "source": [
    "import biogeme.database as db\n",
    "import biogeme.biogeme as bio\n",
    "import biogeme.models as models\n",
    "from biogeme.expressions import Beta, DefineVariable\n",
    "import pandas as pd\n",
    "\n",
    "hh_df = pd.read_csv('../../Data/SMTO_2015_Households.csv')\n",
    "ps_df = pd.read_csv('../../Data/SMTO_2015_Respondents.csv')"
   ]
  },
  {
   "cell_type": "code",
   "execution_count": null,
   "metadata": {},
   "outputs": [],
   "source": [
    "# Load relevant columns\n",
    "df = ps_df[['pscampusattend']]\n",
    "df = df.join(hh_df[['HmTTS2006']])\n",
    "df = df.rename(columns={'HmTTS2006': 'HomeZone', 'pscampusattend': 'Campus'})\n",
    "df = df.dropna() # Remove rows with missing data\n",
    "\n",
    "# Convert Campus column to numerical column\n",
    "campus_name_to_num = {\"Downtown Toronto (St. George)\": 0, \"Scarborough (UTSC)\": 1, \"Mississauga (UTM)\": 2,\n",
    "                      \"Keele\": 3, \"Glendon\": 4, \"RyersonU\": 5, \"OCADu\": 6}\n",
    "df.replace({'Campus': campus_name_to_num}, inplace=True)\n",
    "df['HomeZone'] = pd.to_numeric(df['HomeZone'], downcast='signed')\n",
    "\n",
    "df"
   ]
  },
  {
   "cell_type": "code",
   "execution_count": null,
   "metadata": {},
   "outputs": [],
   "source": [
    "# Dataframe with walk distances\n",
    "df_path = pd.read_csv('../../Data/LoS/Walk_Distances.csv')\n",
    "origins = list(set(list(df_path['Origin'])))\n",
    "dists = list(df_path['Data'])"
   ]
  },
  {
   "cell_type": "code",
   "execution_count": null,
   "metadata": {},
   "outputs": [],
   "source": [
    "not_found = set()\n",
    "# Function for distance lookup\n",
    "def find_distance(origin, destination):\n",
    "    try:\n",
    "        i = origins.index(origin)\n",
    "    except ValueError:\n",
    "        not_found.add(origin)\n",
    "        return 0\n",
    "    try:\n",
    "        j = origins.index(destination)\n",
    "    except ValueError:\n",
    "        not_found.add(destination)\n",
    "        return 0\n",
    "    return dists[i*2392 + j] / 1000"
   ]
  },
  {
   "cell_type": "code",
   "execution_count": null,
   "metadata": {},
   "outputs": [],
   "source": [
    "# List of campus' TTS zones from Joven's MOE data\n",
    "campus_zones = [69, 566, 3631, 391, 225, 38, 67]\n",
    "\n",
    "# Load distances in dataframe\n",
    "for i in range(7):\n",
    "    df[\"Dist\" + str(i)] = df['HomeZone'].apply(lambda x: find_distance(x, campus_zones[i]))\n",
    "len(not_found)"
   ]
  },
  {
   "cell_type": "code",
   "execution_count": null,
   "metadata": {},
   "outputs": [],
   "source": [
    "df"
   ]
  },
  {
   "cell_type": "code",
   "execution_count": null,
   "metadata": {
    "scrolled": true
   },
   "outputs": [],
   "source": [
    "# Load data into Biogeme database\n",
    "database = db.Database(\"SMTO\", df)\n",
    "\n",
    "# Definition of new variables: adding columns to the database \n",
    "Available =  DefineVariable('Available', 1, database) # All schools available to all students\n",
    "\n",
    "# Make variable names global\n",
    "globals().update(database.variables)\n",
    "\n",
    "# Remove unknown zones\n",
    "database.remove(Dist0 == 0)\n",
    "database.data"
   ]
  },
  {
   "cell_type": "code",
   "execution_count": null,
   "metadata": {},
   "outputs": [],
   "source": [
    "\"\"\"\n",
    "# Here we use the \"biogeme\" way for backward compatibility\n",
    "exclude = HomeToMainCampusKM > 130\n",
    "database.remove(exclude)\n",
    "database.data\n",
    "\n",
    "# Parameters to be estimated\n",
    "ASC_CAR = Beta('ASC_CAR',0,None,None,0)\n",
    "ASC_TRAIN = Beta('ASC_TRAIN',0,None,None,0)\n",
    "ASC_SM = Beta('ASC_SM',0,None,None,1)\n",
    "B_TIME = Beta('B_TIME',0,None,None,0)\n",
    "B_COST = Beta('B_COST',0,None,None,0)\n",
    "\n",
    "# Definition of new variables\n",
    "SM_COST =  SM_CO   * (  GA   ==  0  ) \n",
    "TRAIN_COST =  TRAIN_CO   * (  GA   ==  0  )\n",
    "\n",
    "# Definition of new variables: adding columns to the database \n",
    "CAR_AV_SP =  DefineVariable('CAR_AV_SP',CAR_AV  * (  SP   !=  0  ),database)\n",
    "TRAIN_AV_SP =  DefineVariable('TRAIN_AV_SP',TRAIN_AV  * (  SP   !=  0  ),database)\n",
    "TRAIN_TT_SCALED = DefineVariable('TRAIN_TT_SCALED',\\\n",
    "                                 TRAIN_TT / 100.0,database)\n",
    "TRAIN_COST_SCALED = DefineVariable('TRAIN_COST_SCALED',\\\n",
    "                                   TRAIN_COST / 100,database)\n",
    "SM_TT_SCALED = DefineVariable('SM_TT_SCALED', SM_TT / 100.0,database)\n",
    "SM_COST_SCALED = DefineVariable('SM_COST_SCALED', SM_COST / 100,database)\n",
    "CAR_TT_SCALED = DefineVariable('CAR_TT_SCALED', CAR_TT / 100,database)\n",
    "CAR_CO_SCALED = DefineVariable('CAR_CO_SCALED', CAR_CO / 100,database)\n",
    "\n",
    "# Definition of the utility functions\n",
    "V1 = ASC_TRAIN + \\\n",
    "     B_TIME * TRAIN_TT_SCALED + \\\n",
    "     B_COST * TRAIN_COST_SCALED\n",
    "V2 = ASC_SM + \\\n",
    "     B_TIME * SM_TT_SCALED + \\\n",
    "     B_COST * SM_COST_SCALED\n",
    "V3 = ASC_CAR + \\\n",
    "     B_TIME * CAR_TT_SCALED + \\\n",
    "     B_COST * CAR_CO_SCALED\n",
    "\n",
    "# Associate utility functions with the numbering of alternatives\n",
    "V = {1: V1,\n",
    "     2: V2,\n",
    "     3: V3}\n",
    "\n",
    "# Associate the availability conditions with the alternatives\n",
    "av = {1: TRAIN_AV_SP,\n",
    "      2: SM_AV,\n",
    "      3: CAR_AV_SP}\n",
    "      \n",
    "# Definition of the model. This is the contribution of each\n",
    "# observation to the log likelihood function.\n",
    "logprob = models.loglogit(V,av,CHOICE)\n",
    "\n",
    "\"\"\"\n",
    "\n",
    "\n",
    "# Beta initialization: (name, value, lowerbound, upperbound, status, desc='')\n",
    "# Status 0 if estimated, 1 if maintained - reference choice should be 1\n",
    "ASC_SG = Beta('ASC_SG', 0, None, None, 0)\n",
    "ASC_SC = Beta('ASC_SC', 0, None, None, 0)\n",
    "ASC_MI = Beta('ASC_MI', 0, None, None, 0)\n",
    "ASC_YK = Beta('ASC_YK', 0, None, None, 0)\n",
    "ASC_YG = Beta('ASC_YG', 0, None, None, 1)\n",
    "ASC_RY = Beta('ASC_RY', 0, None, None, 0)\n",
    "ASC_OC = Beta('ASC_OC', 0, None, None, 0)\n",
    "B_DIST = Beta('B_DIST', 0, None, None, 0)\n",
    "\n",
    "# Variables: from columns in database\n",
    "AV = DefineVariable('AV', Available, database)\n",
    "SG_DIST = DefineVariable('SG_DIST', Dist0, database)\n",
    "SC_DIST = DefineVariable('SC_DIST', Dist1, database)\n",
    "MI_DIST = DefineVariable('MI_DIST', Dist2, database)\n",
    "YK_DIST = DefineVariable('YK_DIST', Dist3, database)\n",
    "YG_DIST = DefineVariable('YG_DIST', Dist4, database)\n",
    "RY_DIST = DefineVariable('RY_DIST', Dist5, database)\n",
    "OC_DIST = DefineVariable('OC_DIST', Dist6, database)\n",
    "\n",
    "# Utility Functions: note ASC_SG is 0\n",
    "V0 = ASC_SG + B_DIST * SG_DIST\n",
    "V1 = ASC_SC + B_DIST * SC_DIST\n",
    "V2 = ASC_MI + B_DIST * MI_DIST\n",
    "V3 = ASC_YK + B_DIST * YK_DIST\n",
    "V4 = ASC_YG + B_DIST * YG_DIST\n",
    "V5 = ASC_RY + B_DIST * RY_DIST\n",
    "V6 = ASC_OC + B_DIST * OC_DIST\n",
    "\n",
    "V  = {0: V0, 1: V1, 2: V2, 3: V3, 4: V4, 5: V5, 6: V6}\n",
    "av = {0: AV, 1: AV, 2: AV, 3: AV, 4: AV, 5: AV, 6: AV}"
   ]
  },
  {
   "cell_type": "code",
   "execution_count": null,
   "metadata": {},
   "outputs": [],
   "source": [
    "database.data"
   ]
  },
  {
   "cell_type": "code",
   "execution_count": null,
   "metadata": {},
   "outputs": [],
   "source": [
    "# Definition of the model. This is the contribution of each\n",
    "# observation to the log likelihood function.\n",
    "logprob = models.loglogit(V, av, Campus)\n",
    "\n",
    "# Define level of verbosity\n",
    "import biogeme.messaging as msg\n",
    "logger = msg.bioMessage()\n",
    "logger.setDebug()\n",
    "#logger.setWarning()\n",
    "#logger.setGeneral()\n",
    "#logger.setDetailed()\n",
    "\n",
    "# Create the Biogeme object\n",
    "biogeme  = bio.BIOGEME(database,logprob,numberOfThreads=1)\n",
    "biogeme.modelName = \"SMTO_Logit\"\n",
    "\n",
    "# Estimate the parameters\n",
    "results = biogeme.estimate(saveIterations=True)\n",
    "biogeme.createLogFile()\n",
    "\n",
    "# Print the estimated values\n",
    "betas = results.getBetaValues()\n",
    "for k,v in betas.items():\n",
    "    print(f\"{k:10}=\\t{v:.3g}\")\n",
    "\n",
    "# Get the results in a pandas table\n",
    "pandasResults = results.getEstimatedParameters()\n",
    "print(pandasResults)"
   ]
  },
  {
   "cell_type": "markdown",
   "metadata": {},
   "source": [
    "Upon running, this produces several output files. The most important is the html file.\n",
    "\n",
    "### Resources\n",
    "UT Austin example: https://www.youtube.com/watch?v=QeJgyBIaXMQ  \n",
    "Biogeme example: https://www.youtube.com/watch?v=OiM94B8WayA  \n",
    "Nested logit example: https://www.youtube.com/watch?v=vEhvf54IKvs"
   ]
  }
 ],
 "metadata": {
  "kernelspec": {
   "display_name": "Python 3",
   "language": "python",
   "name": "python3"
  },
  "language_info": {
   "codemirror_mode": {
    "name": "ipython",
    "version": 3
   },
   "file_extension": ".py",
   "mimetype": "text/x-python",
   "name": "python",
   "nbconvert_exporter": "python",
   "pygments_lexer": "ipython3",
   "version": "3.7.6"
  }
 },
 "nbformat": 4,
 "nbformat_minor": 4
}
