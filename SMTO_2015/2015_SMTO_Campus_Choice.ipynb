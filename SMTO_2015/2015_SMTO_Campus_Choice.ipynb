{
 "cells": [
  {
   "cell_type": "code",
   "execution_count": 1,
   "metadata": {
    "scrolled": true
   },
   "outputs": [],
   "source": [
    "import biogeme.database as db\n",
    "import biogeme.biogeme as bio\n",
    "import biogeme.models as models\n",
    "from biogeme.expressions import Beta, DefineVariable\n",
    "import pandas as pd\n",
    "import math\n",
    "import csv\n",
    "\n",
    "df = pd.read_csv('../../Data/SMTO_2015/SMTO_2015_Complete_Input.csv')\n",
    "df = df[df['Level'] != 'Other']\n",
    "school_codes = ['SG', 'SC', 'MI', 'YK','YG', 'RY','OC']\n",
    "df['School'] = df['School'].apply(lambda x: school_codes.index(x))\n",
    "df['Extra_Util'] = df['Closest_School'].replace({'SG':0, 'SC':1, 'MI':1, 'YK':1,'YG':0, 'RY':0,'OC':0})\n",
    "df['Closest_School_Code'] = df['Closest_School'].replace({'SG':1, 'SC':2, 'MI':3, 'YK':4,'YG':5, 'RY':6,'OC':7})\n",
    "\n",
    "for code in school_codes:\n",
    "    df['Enrol.' + code] = df.apply(lambda x: x['UG.' + code] if x['Level'] == 'UG' else x['Grad.' + code], axis=1)\n",
    "df.columns\n",
    "full_df = df.copy()"
   ]
  },
  {
   "cell_type": "code",
   "execution_count": 2,
   "metadata": {},
   "outputs": [],
   "source": [
    "def run_model(name, with_ASCs, combined = True):\n",
    "    database = db.Database(\"SMTO\", df.select_dtypes(include = 'number'))\n",
    "    ASCs, V, av = [], {}, {}\n",
    "    B_DIST = Beta('B_DIST', 0, None, None, 0)\n",
    "    B_ENROL = Beta('B_ENROL', 1, None, None, 1 if with_ASCs else 0)\n",
    "    B_FAM_DIST = Beta('B_FAM_DIST', 0, None, None, 0)\n",
    "    B_CLOSEST_SCHOOL = Beta('B_CLOSEST_SCHOOL', 0, None, None, 0)\n",
    "\n",
    "    for i in range(len(school_codes)):\n",
    "        code = school_codes[i]\n",
    "        ASCs.append(Beta('ASC_' + code, 0, None, None, 0 if with_ASCs and code != 'SG' else 1))\n",
    "        if combined:\n",
    "            V[i] = ASCs[i] + B_CLOSEST_SCHOOL * database.variables[\"Extra_Util\"] + B_ENROL *  database.variables[\"Enrol.\" + code] + B_DIST * database.variables['Dist.' + code] + B_FAM_DIST * database.variables[\"Dist.\" + code] * database.variables[\"Family\"]\n",
    "        else:\n",
    "            V[i] = ASCs[i] + B_CLOSEST_SCHOOL * database.variables[\"Extra_Util\"] + B_ENROL *  database.variables[\"Enrol.\" + code] + B_DIST * database.variables['Dist.' + code]\n",
    "        av[i] = 1   \n",
    "        \n",
    "    logprob = models.loglogit(V, av, database.variables[\"School\"])\n",
    "    test_dict = {'loglike': logprob, 'weight': database.variables[\"Exp_Segment\"]}\n",
    "    biogeme  = bio.BIOGEME(database,test_dict,numberOfThreads=1)\n",
    "    biogeme.modelName = name\n",
    "    results = biogeme.estimate(saveIterations=True)\n",
    "    betas = results.getBetaValues()\n",
    "    \n",
    "    print(\"Results for \" + name + \" model:\")\n",
    "    print(betas)\n",
    "    print()\n",
    "    return betas"
   ]
  },
  {
   "cell_type": "code",
   "execution_count": 3,
   "metadata": {},
   "outputs": [
    {
     "data": {
      "text/plain": [
       "['SG', 'SC', 'MI', 'YK', 'YG', 'RY', 'OC']"
      ]
     },
     "execution_count": 3,
     "metadata": {},
     "output_type": "execute_result"
    }
   ],
   "source": [
    "school_codes"
   ]
  },
  {
   "cell_type": "code",
   "execution_count": 4,
   "metadata": {},
   "outputs": [],
   "source": [
    "def get_cm(name, betas, with_ASCs, combined = True):\n",
    "    \n",
    "    school_code_nums = [1,2,3,4,5,6,7]\n",
    "    for i in range(len(school_codes)):\n",
    "        code = school_codes[i]\n",
    "        code_num = school_code_nums[i]\n",
    "        if with_ASCs:\n",
    "            if combined:\n",
    "                df['V_'+ code] = (betas['ASC_' + code] if code != 'SG' else 0) + ((betas['B_CLOSEST_SCHOOL'] * df['Extra_Util']) if (df['Closest_School_Code'] == code_num) else 0)  + betas['B_DIST'] * df['Dist.' + code] + betas['B_FAM_DIST'] * df['Dist.' + code] * df['Family'] + df['Total.' + code]\n",
    "            else:\n",
    "                df['V_'+ code] = (betas['ASC_' + code] if code != 'SG' else 0) + ((betas['B_CLOSEST_SCHOOL'] * df['Extra_Util']) if (df['Closest_School_Code'] == code_num) else 0) + betas['B_DIST'] * df['Dist.' + code] + df['Total.' + code]\n",
    "        else:\n",
    "            if combined:\n",
    "                df['V_'+ code] = ((betas['B_CLOSEST_SCHOOL'] * df['Extra_Util']) if (df['Closest_School_Code'] == code_num) else 0) + betas['B_DIST'] * df['Dist.' + code] + betas['B_FAM_DIST'] * df['Dist.' + code] * df['Family'] + df['Total.' + code] * betas['B_ENROL']\n",
    "            else:\n",
    "                df['V_'+ code] = ((betas['B_CLOSEST_SCHOOL'] * df['Extra_Util']) if (df['Closest_School_Code'] == code_num) else 0) + betas['B_DIST'] * df['Dist.' + code] + df['Total.' + code] * betas['B_ENROL']\n",
    "\n",
    "    utils = df.iloc[:,-7:]\n",
    "    for i in range(len(school_codes)):\n",
    "        code = school_codes[i]\n",
    "        df['P_' + code] = utils.apply(lambda x: math.exp(x['V_' + code]) / sum([math.exp(j) for j in x]), axis = 1)\n",
    "    probs = pd.concat((df['School'], df.iloc[:,-7:]), axis=1)\n",
    "    \n",
    "    print(\"Softmax confusion matrix for \" + name + \" model:\")\n",
    "    softmax_cm = []\n",
    "    for school in range(len(school_codes)):\n",
    "        softmax_cm.append(probs[probs['School'] == school][['P_' + i for i in school_codes]].sum().values.tolist())\n",
    "        print(*probs[probs['School'] == school][['P_' + i for i in school_codes]].sum().values)\n",
    "    \n",
    "    print(softmax_cm)\n",
    "    accuracy = 0\n",
    "    total = 0\n",
    "    for i in range(7):\n",
    "        total += sum(softmax_cm[i])\n",
    "        accuracy += softmax_cm[i][i]\n",
    "    accuracy = accuracy/total\n",
    "    print('\\nAccuracy: ' + str(accuracy))\n",
    "    \n",
    "    \n",
    "    print(\"\\nHardmax confusion matrix for \" + name + \" model:\")\n",
    "    for school in range(len(school_codes)):\n",
    "        print(*[(probs[probs['School'] == school][['P_' + i for i in school_codes]].idxmax(axis = 1) == 'P_' + j).sum() for j in school_codes])\n",
    "    \n",
    "    print()"
   ]
  },
  {
   "cell_type": "code",
   "execution_count": 5,
   "metadata": {},
   "outputs": [
    {
     "name": "stdout",
     "output_type": "stream",
     "text": [
      "----------- Combined ----------\n",
      "Results for Eric model:\n",
      "{'ASC_MI': 0.2011806898377365, 'ASC_OC': 0.06357656413189902, 'ASC_RY': 0.06470721849183579, 'ASC_SC': 0.3618409607319917, 'ASC_YG': 0.20797003569327974, 'ASC_YK': 0.2374327087295077, 'B_CLOSEST_SCHOOL': 0.0, 'B_DIST': -0.13582354467887925, 'B_FAM_DIST': 0.07077240285997809}\n",
      "\n"
     ]
    },
    {
     "ename": "ValueError",
     "evalue": "The truth value of a Series is ambiguous. Use a.empty, a.bool(), a.item(), a.any() or a.all().",
     "output_type": "error",
     "traceback": [
      "\u001b[1;31m---------------------------------------------------------------------------\u001b[0m",
      "\u001b[1;31mValueError\u001b[0m                                Traceback (most recent call last)",
      "\u001b[1;32m<ipython-input-5-754b179a8b11>\u001b[0m in \u001b[0;36m<module>\u001b[1;34m\u001b[0m\n\u001b[0;32m      2\u001b[0m     \u001b[0mdf\u001b[0m \u001b[1;33m=\u001b[0m \u001b[0mfull_df\u001b[0m\u001b[1;33m.\u001b[0m\u001b[0mcopy\u001b[0m\u001b[1;33m(\u001b[0m\u001b[1;33m)\u001b[0m\u001b[1;33m\u001b[0m\u001b[1;33m\u001b[0m\u001b[0m\n\u001b[0;32m      3\u001b[0m     \u001b[0mprint\u001b[0m\u001b[1;33m(\u001b[0m\u001b[1;34m\"----------- Combined ----------\"\u001b[0m\u001b[1;33m)\u001b[0m\u001b[1;33m\u001b[0m\u001b[1;33m\u001b[0m\u001b[0m\n\u001b[1;32m----> 4\u001b[1;33m     \u001b[0mget_cm\u001b[0m\u001b[1;33m(\u001b[0m\u001b[0mx\u001b[0m\u001b[1;33m,\u001b[0m \u001b[0mrun_model\u001b[0m\u001b[1;33m(\u001b[0m\u001b[0mx\u001b[0m\u001b[1;33m,\u001b[0m \u001b[0my\u001b[0m\u001b[1;33m)\u001b[0m\u001b[1;33m,\u001b[0m \u001b[0my\u001b[0m\u001b[1;33m)\u001b[0m\u001b[1;33m\u001b[0m\u001b[1;33m\u001b[0m\u001b[0m\n\u001b[0m\u001b[0;32m      5\u001b[0m \u001b[1;33m\u001b[0m\u001b[0m\n\u001b[0;32m      6\u001b[0m     \u001b[1;31m#print(\"----------- Family ----------\")\u001b[0m\u001b[1;33m\u001b[0m\u001b[1;33m\u001b[0m\u001b[1;33m\u001b[0m\u001b[0m\n",
      "\u001b[1;32m<ipython-input-4-7e8be3d813a4>\u001b[0m in \u001b[0;36mget_cm\u001b[1;34m(name, betas, with_ASCs, combined)\u001b[0m\n\u001b[0;32m      7\u001b[0m         \u001b[1;32mif\u001b[0m \u001b[0mwith_ASCs\u001b[0m\u001b[1;33m:\u001b[0m\u001b[1;33m\u001b[0m\u001b[1;33m\u001b[0m\u001b[0m\n\u001b[0;32m      8\u001b[0m             \u001b[1;32mif\u001b[0m \u001b[0mcombined\u001b[0m\u001b[1;33m:\u001b[0m\u001b[1;33m\u001b[0m\u001b[1;33m\u001b[0m\u001b[0m\n\u001b[1;32m----> 9\u001b[1;33m                 \u001b[0mdf\u001b[0m\u001b[1;33m[\u001b[0m\u001b[1;34m'V_'\u001b[0m\u001b[1;33m+\u001b[0m \u001b[0mcode\u001b[0m\u001b[1;33m]\u001b[0m \u001b[1;33m=\u001b[0m \u001b[1;33m(\u001b[0m\u001b[0mbetas\u001b[0m\u001b[1;33m[\u001b[0m\u001b[1;34m'ASC_'\u001b[0m \u001b[1;33m+\u001b[0m \u001b[0mcode\u001b[0m\u001b[1;33m]\u001b[0m \u001b[1;32mif\u001b[0m \u001b[0mcode\u001b[0m \u001b[1;33m!=\u001b[0m \u001b[1;34m'SG'\u001b[0m \u001b[1;32melse\u001b[0m \u001b[1;36m0\u001b[0m\u001b[1;33m)\u001b[0m \u001b[1;33m+\u001b[0m \u001b[1;33m(\u001b[0m\u001b[1;33m(\u001b[0m\u001b[0mbetas\u001b[0m\u001b[1;33m[\u001b[0m\u001b[1;34m'B_CLOSEST_SCHOOL'\u001b[0m\u001b[1;33m]\u001b[0m \u001b[1;33m*\u001b[0m \u001b[0mdf\u001b[0m\u001b[1;33m[\u001b[0m\u001b[1;34m'Extra_Util'\u001b[0m\u001b[1;33m]\u001b[0m\u001b[1;33m)\u001b[0m \u001b[1;32mif\u001b[0m \u001b[1;33m(\u001b[0m\u001b[0mdf\u001b[0m\u001b[1;33m[\u001b[0m\u001b[1;34m'Closest_School_Code'\u001b[0m\u001b[1;33m]\u001b[0m \u001b[1;33m==\u001b[0m \u001b[0mcode_nums\u001b[0m\u001b[1;33m)\u001b[0m \u001b[1;32melse\u001b[0m \u001b[1;36m0\u001b[0m\u001b[1;33m)\u001b[0m  \u001b[1;33m+\u001b[0m \u001b[0mbetas\u001b[0m\u001b[1;33m[\u001b[0m\u001b[1;34m'B_DIST'\u001b[0m\u001b[1;33m]\u001b[0m \u001b[1;33m*\u001b[0m \u001b[0mdf\u001b[0m\u001b[1;33m[\u001b[0m\u001b[1;34m'Dist.'\u001b[0m \u001b[1;33m+\u001b[0m \u001b[0mcode\u001b[0m\u001b[1;33m]\u001b[0m \u001b[1;33m+\u001b[0m \u001b[0mbetas\u001b[0m\u001b[1;33m[\u001b[0m\u001b[1;34m'B_FAM_DIST'\u001b[0m\u001b[1;33m]\u001b[0m \u001b[1;33m*\u001b[0m \u001b[0mdf\u001b[0m\u001b[1;33m[\u001b[0m\u001b[1;34m'Dist.'\u001b[0m \u001b[1;33m+\u001b[0m \u001b[0mcode\u001b[0m\u001b[1;33m]\u001b[0m \u001b[1;33m*\u001b[0m \u001b[0mdf\u001b[0m\u001b[1;33m[\u001b[0m\u001b[1;34m'Family'\u001b[0m\u001b[1;33m]\u001b[0m \u001b[1;33m+\u001b[0m \u001b[0mdf\u001b[0m\u001b[1;33m[\u001b[0m\u001b[1;34m'Total.'\u001b[0m \u001b[1;33m+\u001b[0m \u001b[0mcode\u001b[0m\u001b[1;33m]\u001b[0m\u001b[1;33m\u001b[0m\u001b[1;33m\u001b[0m\u001b[0m\n\u001b[0m\u001b[0;32m     10\u001b[0m             \u001b[1;32melse\u001b[0m\u001b[1;33m:\u001b[0m\u001b[1;33m\u001b[0m\u001b[1;33m\u001b[0m\u001b[0m\n\u001b[0;32m     11\u001b[0m                 \u001b[0mdf\u001b[0m\u001b[1;33m[\u001b[0m\u001b[1;34m'V_'\u001b[0m\u001b[1;33m+\u001b[0m \u001b[0mcode\u001b[0m\u001b[1;33m]\u001b[0m \u001b[1;33m=\u001b[0m \u001b[1;33m(\u001b[0m\u001b[0mbetas\u001b[0m\u001b[1;33m[\u001b[0m\u001b[1;34m'ASC_'\u001b[0m \u001b[1;33m+\u001b[0m \u001b[0mcode\u001b[0m\u001b[1;33m]\u001b[0m \u001b[1;32mif\u001b[0m \u001b[0mcode\u001b[0m \u001b[1;33m!=\u001b[0m \u001b[1;34m'SG'\u001b[0m \u001b[1;32melse\u001b[0m \u001b[1;36m0\u001b[0m\u001b[1;33m)\u001b[0m \u001b[1;33m+\u001b[0m \u001b[1;33m(\u001b[0m\u001b[1;33m(\u001b[0m\u001b[0mbetas\u001b[0m\u001b[1;33m[\u001b[0m\u001b[1;34m'B_CLOSEST_SCHOOL'\u001b[0m\u001b[1;33m]\u001b[0m \u001b[1;33m*\u001b[0m \u001b[0mdf\u001b[0m\u001b[1;33m[\u001b[0m\u001b[1;34m'Extra_Util'\u001b[0m\u001b[1;33m]\u001b[0m\u001b[1;33m)\u001b[0m \u001b[1;32mif\u001b[0m \u001b[1;33m(\u001b[0m\u001b[0mdf\u001b[0m\u001b[1;33m[\u001b[0m\u001b[1;34m'Closest_School_Code'\u001b[0m\u001b[1;33m]\u001b[0m \u001b[1;33m==\u001b[0m \u001b[0mcode_nums\u001b[0m\u001b[1;33m)\u001b[0m \u001b[1;32melse\u001b[0m \u001b[1;36m0\u001b[0m\u001b[1;33m)\u001b[0m \u001b[1;33m+\u001b[0m \u001b[0mbetas\u001b[0m\u001b[1;33m[\u001b[0m\u001b[1;34m'B_DIST'\u001b[0m\u001b[1;33m]\u001b[0m \u001b[1;33m*\u001b[0m \u001b[0mdf\u001b[0m\u001b[1;33m[\u001b[0m\u001b[1;34m'Dist.'\u001b[0m \u001b[1;33m+\u001b[0m \u001b[0mcode\u001b[0m\u001b[1;33m]\u001b[0m \u001b[1;33m+\u001b[0m \u001b[0mdf\u001b[0m\u001b[1;33m[\u001b[0m\u001b[1;34m'Total.'\u001b[0m \u001b[1;33m+\u001b[0m \u001b[0mcode\u001b[0m\u001b[1;33m]\u001b[0m\u001b[1;33m\u001b[0m\u001b[1;33m\u001b[0m\u001b[0m\n",
      "\u001b[1;32mC:\\Anaconda\\lib\\site-packages\\pandas\\core\\generic.py\u001b[0m in \u001b[0;36m__nonzero__\u001b[1;34m(self)\u001b[0m\n\u001b[0;32m   1476\u001b[0m         raise ValueError(\"The truth value of a {0} is ambiguous. \"\n\u001b[0;32m   1477\u001b[0m                          \u001b[1;34m\"Use a.empty, a.bool(), a.item(), a.any() or a.all().\"\u001b[0m\u001b[1;33m\u001b[0m\u001b[1;33m\u001b[0m\u001b[0m\n\u001b[1;32m-> 1478\u001b[1;33m                          .format(self.__class__.__name__))\n\u001b[0m\u001b[0;32m   1479\u001b[0m \u001b[1;33m\u001b[0m\u001b[0m\n\u001b[0;32m   1480\u001b[0m     \u001b[0m__bool__\u001b[0m \u001b[1;33m=\u001b[0m \u001b[0m__nonzero__\u001b[0m\u001b[1;33m\u001b[0m\u001b[1;33m\u001b[0m\u001b[0m\n",
      "\u001b[1;31mValueError\u001b[0m: The truth value of a Series is ambiguous. Use a.empty, a.bool(), a.item(), a.any() or a.all()."
     ]
    }
   ],
   "source": [
    "for (x, y) in (('Eric', True),('Proposed', False)):\n",
    "    df = full_df.copy()\n",
    "    print(\"----------- Combined ----------\")\n",
    "    get_cm(x, run_model(x, y), y)\n",
    "    \n",
    "    #print(\"----------- Family ----------\")\n",
    "    #df = full_df[full_df['Family'] == 1]\n",
    "    #get_cm(x, run_model(x, y, False), y, False)\n",
    "    \n",
    "    #print(\"----------- Non-Family ----------\")\n",
    "    #df = full_df[full_df['Family'] == 0]\n",
    "    #get_cm(x, run_model(x, y, False), y, False)"
   ]
  }
 ],
 "metadata": {
  "kernelspec": {
   "display_name": "Python 3",
   "language": "python",
   "name": "python3"
  },
  "language_info": {
   "codemirror_mode": {
    "name": "ipython",
    "version": 3
   },
   "file_extension": ".py",
   "mimetype": "text/x-python",
   "name": "python",
   "nbconvert_exporter": "python",
   "pygments_lexer": "ipython3",
   "version": "3.7.3"
  }
 },
 "nbformat": 4,
 "nbformat_minor": 2
}
