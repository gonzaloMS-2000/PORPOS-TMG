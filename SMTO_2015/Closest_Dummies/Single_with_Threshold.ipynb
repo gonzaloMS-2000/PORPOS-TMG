{
 "cells": [
  {
   "cell_type": "code",
   "execution_count": 1,
   "metadata": {
    "scrolled": true
   },
   "outputs": [],
   "source": [
    "# Import necessary packages\n",
    "import pandas as pd\n",
    "from math import log\n",
    "\n",
    "# Load data and remove Other students\n",
    "df = pd.read_csv('../../Data/SMTO_2015/Formatted.csv')\n",
    "\n",
    "# Convert school column to numeric\n",
    "school_codes = df['School'].unique().tolist()\n",
    "df['School'] = df['School'].apply(school_codes.index)\n",
    "\n",
    "# Enrollment columns based on student's level\n",
    "for code in school_codes:\n",
    "    df['Enrol.' + code] = df.apply(lambda x: log(x[x.Level + '.' + code]), axis=1)\n",
    "    \n",
    "num_rows = df.shape[0]"
   ]
  },
  {
   "cell_type": "code",
   "execution_count": 2,
   "metadata": {},
   "outputs": [],
   "source": [
    "# Function for confusion matrices\n",
    "def get_cm(probs, hardmax):\n",
    "    cm = []\n",
    "    if hardmax:\n",
    "        for school in range(len(school_codes)):\n",
    "            cm.append([(probs[df['School'] == school].idxmax(axis=1) == 'Prob.' + j).sum() for j in school_codes])\n",
    "    else:\n",
    "        for school in range(len(school_codes)):\n",
    "            cm.append((probs[df['School'] == school][['Prob.' + i for i in school_codes]].sum().values.tolist()))    \n",
    "    return cm\n",
    "\n",
    "# Function for accuracy from confusion matrix\n",
    "def get_accuracy(cm):\n",
    "    correct = sum([cm[i][i] for i in range(len(cm))])\n",
    "    return correct/sum(sum(cm,[])) * 100"
   ]
  },
  {
   "cell_type": "code",
   "execution_count": 3,
   "metadata": {},
   "outputs": [
    {
     "name": "stdout",
     "output_type": "stream",
     "text": [
      "49.88258046691532\n",
      "36.49709641351159\n"
     ]
    }
   ],
   "source": [
    "# Import Biogeme modules\n",
    "import biogeme.database as db\n",
    "import biogeme.biogeme as bio\n",
    "import biogeme.models as models\n",
    "from biogeme.expressions import Beta\n",
    "\n",
    "# Prepare dummy columns\n",
    "for code in school_codes:\n",
    "    df['Closest.' + code] = ((df['Closest.' + code]) & (df['Dist.' + code] <= 2)) * 1\n",
    "database = db.Database(\"SMTO\", df.select_dtypes(include = 'number'))\n",
    "\n",
    "# Specify model\n",
    "V, av = {}, {}\n",
    "B_CLOSEST = Beta('B_CLOSEST', 0, None, None, 0)\n",
    "B_DIST = Beta('B_DIST', 0, None, None, 0)\n",
    "B_FAM_DIST = Beta('B_FAM_DIST', 0, None, None, 0)\n",
    "B_ENROL = Beta('B_ENROL', 0, None, None, 0)\n",
    "for i in range(len(school_codes)):\n",
    "    code = school_codes[i]\n",
    "    V[i] = B_ENROL * database.variables[\"Enrol.\" + code] + B_CLOSEST * database.variables[\"Closest.\" + code] + database.variables['Dist.' + code] * (B_DIST + B_FAM_DIST * database.variables[\"Family\"])\n",
    "    av[i] = 1   \n",
    "\n",
    "# Run model\n",
    "logprob = models.loglogit(V, av, database.variables[\"School\"])\n",
    "biogeme = bio.BIOGEME(database, {'loglike': logprob, 'weight': database.variables[\"Exp_Factor\"]})\n",
    "biogeme.modelName = 'Singly_Constrained_2km'\n",
    "betas = biogeme.estimate().getBetaValues()    \n",
    "\n",
    "# Generate probabilities\n",
    "simulate = {'Prob.' + school_codes[i]: models.logit(V, av, i) for i in range(len(school_codes))}\n",
    "sim_biogeme = bio.BIOGEME(database, simulate)\n",
    "probs = sim_biogeme.simulate(betas).set_index(df.index)\n",
    "\n",
    "# Confusion matrices and metrics\n",
    "hard_cm = get_cm(probs, True)\n",
    "soft_cm = get_cm(probs, False)\n",
    "print(get_accuracy(hard_cm))\n",
    "print(get_accuracy(soft_cm))"
   ]
  },
  {
   "cell_type": "code",
   "execution_count": 4,
   "metadata": {},
   "outputs": [
    {
     "data": {
      "text/html": [
       "<html><head><script src='http://transp-or.epfl.ch/biogeme/sorttable.js'></script><meta http-equiv='Content-Type' content='text/html; charset=utf-8' /><title>Singly_Constrained_2km - Report from biogeme 3.2.5 [2020-08-12]</title><meta name='keywords' content='biogeme, discrete choice, random utility'><meta name='description' content='Report from biogeme 3.2.5 [2020-08-12]'><meta name='author' content='Michel Bierlaire'><style type=text/css>.biostyle\t{font-size:10.0pt;\tfont-weight:400;\tfont-style:normal;\tfont-family:Courier;}.boundstyle\t{font-size:10.0pt;\tfont-weight:400;\tfont-style:normal;\tfont-family:Courier;        color:red}</style></head><body bgcolor='#ffffff'><p>biogeme 3.2.5 [2020-08-12]</p>\n",
       "<p><a href='https://www.python.org/' target='_blank'>Python</a> package</p>\n",
       "<p>Home page: <a href='http://biogeme.epfl.ch' target='_blank'>http://biogeme.epfl.ch</a></p>\n",
       "<p>Submit questions to <a href='https://groups.google.com/d/forum/biogeme' target='_blank'>https://groups.google.com/d/forum/biogeme</a></p>\n",
       "<p><a href='http://people.epfl.ch/michel.bierlaire'>Michel Bierlaire</a>, <a href='http://transp-or.epfl.ch'>Transport and Mobility Laboratory</a>, <a href='http://www.epfl.ch'>Ecole Polytechnique F&#233;d&#233;rale de Lausanne (EPFL)</a></p>\n",
       "<p>This file has automatically been generated on 2020-08-12 11:10:17.790176</p>\n",
       "<p>If you drag this HTML file into the Calc application of <a href='http://www.openoffice.org/' target='_blank'>OpenOffice</a>, or the spreadsheet of <a href='https://www.libreoffice.org/' target='_blank'>LibreOffice</a>, you will be able to perform additional calculations.</p>\n",
       "<table>\n",
       "<tr class=biostyle><td align=right><strong>Report file</strong>:\t</td><td>Singly_Constrained_2km.html</td></tr>\n",
       "<tr class=biostyle><td align=right><strong>Database name</strong>:\t</td><td>SMTO</td></tr>\n",
       "</table>\n",
       "<h1>Estimation report</h1>\n",
       "<table border='0'>\n",
       "<tr class=biostyle><td align=right ><strong>Number of estimated parameters</strong>: </td> <td>4</td></tr>\n",
       "<tr class=biostyle><td align=right ><strong>Sample size</strong>: </td> <td>14478</td></tr>\n",
       "<tr class=biostyle><td align=right ><strong>Excluded observations</strong>: </td> <td>0</td></tr>\n",
       "<tr class=biostyle><td align=right ><strong>Init log likelihood</strong>: </td> <td>-28172.89</td></tr>\n",
       "<tr class=biostyle><td align=right ><strong>Final log likelihood</strong>: </td> <td>-19507.5</td></tr>\n",
       "<tr class=biostyle><td align=right ><strong>Likelihood ratio test for the init. model</strong>: </td> <td>17330.78</td></tr>\n",
       "<tr class=biostyle><td align=right ><strong>Rho-square for the init. model</strong>: </td> <td>0.308</td></tr>\n",
       "<tr class=biostyle><td align=right ><strong>Rho-square-bar for the init. model</strong>: </td> <td>0.307</td></tr>\n",
       "<tr class=biostyle><td align=right ><strong>Akaike Information Criterion</strong>: </td> <td>39022.99</td></tr>\n",
       "<tr class=biostyle><td align=right ><strong>Bayesian Information Criterion</strong>: </td> <td>39053.31</td></tr>\n",
       "<tr class=biostyle><td align=right ><strong>Final gradient norm</strong>: </td> <td>1.2966E-03</td></tr>\n",
       "<tr class=biostyle><td align=right ><strong>Diagnostic</strong>: </td> <td>b'CONVERGENCE: NORM_OF_PROJECTED_GRADIENT_<=_PGTOL'</td></tr>\n",
       "<tr class=biostyle><td align=right ><strong>Database readings</strong>: </td> <td>27</td></tr>\n",
       "<tr class=biostyle><td align=right ><strong>Iterations</strong>: </td> <td>23</td></tr>\n",
       "<tr class=biostyle><td align=right ><strong>Optimization time</strong>: </td> <td>0:00:04.634656</td></tr>\n",
       "<tr class=biostyle><td align=right ><strong>Nbr of threads</strong>: </td> <td>4</td></tr>\n",
       "</table>\n",
       "<h1>Estimated parameters</h1>\n",
       "<p><font size='-1'>Click on the headers of the columns to sort the table  [<a href='http://www.kryogenix.org/code/browser/sorttable/' target='_blank'>Credits</a>]</font></p>\n",
       "<table border='1' class='sortable'>\n",
       "<tr class=biostyle><th>Name</th><th>Value</th><th>Std err</th><th>t-test</th><th>p-value</th><th>Rob. Std err</th><th>Rob. t-test</th><th>Rob. p-value</th></tr>\n",
       "<tr class=biostyle><td>B_CLOSEST</td><td>1.02</td><td>0.0448</td><td>22.8</td><td>0</td><td>0.0419</td><td>24.4</td><td>0</td></tr>\n",
       "<tr class=biostyle><td>B_DIST</td><td>-0.095</td><td>0.00234</td><td>-40.5</td><td>0</td><td>0.00253</td><td>-37.5</td><td>0</td></tr>\n",
       "<tr class=biostyle><td>B_ENROL</td><td>0.767</td><td>0.0103</td><td>74.5</td><td>0</td><td>0.00951</td><td>80.7</td><td>0</td></tr>\n",
       "<tr class=biostyle><td>B_FAM_DIST</td><td>0.0315</td><td>0.00266</td><td>11.8</td><td>0</td><td>0.00281</td><td>11.2</td><td>0</td></tr>\n",
       "</table>\n",
       "<h2>Correlation of coefficients</h2>\n",
       "<p><font size='-1'>Click on the headers of the columns to sort the table [<a href='http://www.kryogenix.org/code/browser/sorttable/' target='_blank'>Credits</a>]</font></p>\n",
       "<table border='1' class='sortable'>\n",
       "<tr class=biostyle><th>Coefficient1</th><th>Coefficient2</th><th>Covariance</th><th>Correlation</th><th>t-test</th><th>p-value</th><th>Rob. cov.</th><th>Rob. corr.</th><th>Rob. t-test</th><th>Rob. p-value</th></tr>\n",
       "<tr class=biostyle><td>B_DIST</td><td>B_CLOSEST</td><td>3.84e-05</td><td>0.365</td><td>-25.3</td><td>0</td><td>4.42e-05</td><td>0.416</td><td>-27.3</td><td>0</td></tr>\n",
       "<tr class=biostyle><td>B_ENROL</td><td>B_CLOSEST</td><td>3.39e-05</td><td>0.0735</td><td>-5.59</td><td>2.21e-08</td><td>3.39e-05</td><td>0.0851</td><td>-6.01</td><td>1.9e-09</td></tr>\n",
       "<tr class=biostyle><td>B_ENROL</td><td>B_DIST</td><td>3.92e-07</td><td>0.0162</td><td>81.9</td><td>0</td><td>-2.15e-06</td><td>-0.0893</td><td>85.8</td><td>0</td></tr>\n",
       "<tr class=biostyle><td>B_FAM_DIST</td><td>B_CLOSEST</td><td>-3.58e-05</td><td>-0.3</td><td>-21.6</td><td>0</td><td>-4.24e-05</td><td>-0.361</td><td>-23</td><td>0</td></tr>\n",
       "<tr class=biostyle><td>B_FAM_DIST</td><td>B_DIST</td><td>-5.44e-06</td><td>-0.873</td><td>26.1</td><td>0</td><td>-6.33e-06</td><td>-0.89</td><td>24.4</td><td>0</td></tr>\n",
       "<tr class=biostyle><td>B_FAM_DIST</td><td>B_ENROL</td><td>-1.68e-06</td><td>-0.0614</td><td>-68.2</td><td>0</td><td>1.11e-06</td><td>0.0414</td><td>-75.1</td><td>0</td></tr>\n",
       "</table>\n",
       "<p>Smallest eigenvalue: 496.928</p>\n",
       "<p>Smallest singular value: 496.928</p>\n",
       "</html>"
      ],
      "text/plain": [
       "<IPython.core.display.HTML object>"
      ]
     },
     "execution_count": 4,
     "metadata": {},
     "output_type": "execute_result"
    }
   ],
   "source": [
    "from IPython.display import HTML\n",
    "HTML(filename= \"Singly_Constrained_2km.html\")"
   ]
  }
 ],
 "metadata": {
  "kernelspec": {
   "display_name": "Python 3",
   "language": "python",
   "name": "python3"
  },
  "language_info": {
   "codemirror_mode": {
    "name": "ipython",
    "version": 3
   },
   "file_extension": ".py",
   "mimetype": "text/x-python",
   "name": "python",
   "nbconvert_exporter": "python",
   "pygments_lexer": "ipython3",
   "version": "3.7.6"
  }
 },
 "nbformat": 4,
 "nbformat_minor": 2
}
