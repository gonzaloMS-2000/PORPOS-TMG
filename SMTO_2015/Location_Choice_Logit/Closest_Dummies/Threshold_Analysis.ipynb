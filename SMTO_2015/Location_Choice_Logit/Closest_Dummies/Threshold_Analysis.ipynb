{
 "cells": [
  {
   "cell_type": "markdown",
   "metadata": {},
   "source": [
    "## Threshold for Closest School Dummies\n",
    "\n",
    "Previously, we've seen some improvements over both the \"Proposed\" and \"Eric\" models when introducing a dummy variable for the closest school to each students' home zone. In this notebook, we explore whether including this dummy only for distances under a certain threshold can further improve our results.\n",
    "\n",
    "First, let's load the data."
   ]
  },
  {
   "cell_type": "code",
   "execution_count": 11,
   "metadata": {
    "scrolled": true
   },
   "outputs": [],
   "source": [
    "# Import necessary packages\n",
    "import pandas as pd\n",
    "from math import log\n",
    "\n",
    "# Load data\n",
    "df = pd.read_csv('../../Data/SMTO_2015/Formatted.csv')\n",
    "\n",
    "# Convert school column to numeric\n",
    "school_codes = df['School'].unique().tolist()\n",
    "df['School'] = df['School'].apply(school_codes.index)\n",
    "\n",
    "# Enrollment columns based on student's level\n",
    "for code in school_codes:\n",
    "    df['Enrol.' + code] = df.apply(lambda x: log(x[x.Level + '.' + code]), axis=1)\n",
    "    \n",
    "num_rows = df.shape[0]"
   ]
  },
  {
   "cell_type": "markdown",
   "metadata": {},
   "source": [
    "Now, we define several useful functions for calculating metrics."
   ]
  },
  {
   "cell_type": "code",
   "execution_count": 2,
   "metadata": {},
   "outputs": [],
   "source": [
    "# Function for confusion matrices\n",
    "def get_cm(probs, hardmax):\n",
    "    cm = []\n",
    "    if hardmax:\n",
    "        for school in range(len(school_codes)):\n",
    "            cm.append([(probs[df['School'] == school].idxmax(axis=1) == 'Prob.' + j).sum() for j in school_codes])\n",
    "    else:\n",
    "        for school in range(len(school_codes)):\n",
    "            cm.append((probs[df['School'] == school][['Prob.' + i for i in school_codes]].sum().values.tolist()))    \n",
    "    return cm\n",
    "\n",
    "# Function for accuracy from confusion matrix\n",
    "def get_accuracy(cm):\n",
    "    correct = sum([cm[i][i] for i in range(len(cm))])\n",
    "    return correct/sum(sum(cm,[])) * 100"
   ]
  },
  {
   "cell_type": "markdown",
   "metadata": {},
   "source": [
    "Now, we iterate over possible threshold values and store the metrics for each model. We begin with the Eric model since this will allow us to examine the results for statistical significance of the closest dummy for different schools."
   ]
  },
  {
   "cell_type": "code",
   "execution_count": 14,
   "metadata": {},
   "outputs": [
    {
     "name": "stdout",
     "output_type": "stream",
     "text": [
      "150\n",
      "30\n",
      "25\n",
      "20\n",
      "15\n",
      "10\n",
      "9\n",
      "8\n",
      "7\n",
      "6\n",
      "5\n",
      "4.5\n",
      "4.0\n",
      "3.5\n",
      "3.0\n",
      "2.5\n",
      "2.0\n",
      "1.5\n",
      "1.0\n",
      "0.5\n",
      "0.0\n"
     ]
    }
   ],
   "source": [
    "# Prepare lists for graphing\n",
    "import numpy as np\n",
    "ts = [150] + list(np.arange(30, 10, -5)) + list(np.arange(10, 4, -1)) + list(np.arange(4.5, -0.5, -0.5))\n",
    "num_closests, ACCs, APOs = [], [], []\n",
    "\n",
    "# Import Biogeme modules\n",
    "import biogeme.database as db\n",
    "import biogeme.biogeme as bio\n",
    "import biogeme.models as models\n",
    "from biogeme.expressions import Beta\n",
    "\n",
    "# Iterate over thresholds\n",
    "for t in ts:\n",
    "    print(t)\n",
    "    # Prepare dummy columns\n",
    "    for code in school_codes:\n",
    "        df['Closest.' + code] = ((df['Closest.' + code]) & (df['Dist.' + code] <= t)) * 1\n",
    "    num_closests.append(df[['Closest.' + code for code in school_codes]].sum().sum()) \n",
    "    database = db.Database(\"SMTO\", df.select_dtypes(include = 'number'))\n",
    "    \n",
    "    # Specify model\n",
    "    ASCs, B_CLOSESTs, V, av = [], [], {}, {}\n",
    "    B_DIST = Beta('B_DIST', 0, None, None, 0)\n",
    "    B_FAM_DIST = Beta('B_FAM_DIST', 0, None, None, 0)\n",
    "    for i in range(len(school_codes)):\n",
    "        code = school_codes[i]\n",
    "        ASCs.append(Beta('ASC_' + code, 0, None, None, 0 if code != 'SG' else 1))\n",
    "        B_CLOSESTs.append(Beta('B_CLOSEST_' + code, 0, None, None, 0))\n",
    "        V[i] = ASCs[i] + B_CLOSESTs[i] * database.variables[\"Closest.\" + code] + database.variables[\"Enrol.\" + code] + database.variables['Dist.' + code] * (B_DIST + B_FAM_DIST * database.variables[\"Family\"])\n",
    "        av[i] = 1   \n",
    "    \n",
    "    # Run model\n",
    "    logprob = models.loglogit(V, av, database.variables[\"School\"])\n",
    "    biogeme = bio.BIOGEME(database, {'loglike': logprob, 'weight': database.variables[\"Exp_Factor\"]})\n",
    "    biogeme.modelName = \"Eric_Closest_7_T=\" + str(t)\n",
    "    betas = biogeme.estimate().getBetaValues()    \n",
    "    \n",
    "    # Generate probabilities\n",
    "    simulate = {'Prob.' + school_codes[i]: models.logit(V, av, i) for i in range(len(school_codes))}\n",
    "    sim_biogeme = bio.BIOGEME(database, simulate)\n",
    "    probs = sim_biogeme.simulate(betas).set_index(df.index)\n",
    "\n",
    "    # Confusion matrices and metrics\n",
    "    hard_cm = get_cm(probs, True)\n",
    "    soft_cm = get_cm(probs, False)\n",
    "    ACCs.append(get_accuracy(hard_cm))\n",
    "    APOs.append(get_accuracy(soft_cm))"
   ]
  },
  {
   "cell_type": "markdown",
   "metadata": {},
   "source": [
    "First, let's plot the number of students for which the closest dummy is included for each threshold."
   ]
  },
  {
   "cell_type": "code",
   "execution_count": 15,
   "metadata": {},
   "outputs": [
    {
     "data": {
      "image/png": "[encoded data removed]",
      "text/plain": [
       "<Figure size 432x288 with 1 Axes>"
      ]
     },
     "metadata": {
      "needs_background": "light"
     },
     "output_type": "display_data"
    }
   ],
   "source": [
    "import matplotlib.pyplot as plt\n",
    "plt.scatter(ts[1:-1], num_closests[1:-1])\n",
    "plt.plot([0,  30], [num_rows, num_rows], '--')\n",
    "plt.title(\"# True Dummies\")\n",
    "plt.xlabel('Threshold (km)')\n",
    "plt.ylabel('Students')\n",
    "plt.legend(labels = ['No Threshold'])\n",
    "plt.show()"
   ]
  },
  {
   "cell_type": "markdown",
   "metadata": {},
   "source": [
    "Now, let's plot the hardmax accuracies and softmax APOs for different thresholds."
   ]
  },
  {
   "cell_type": "code",
   "execution_count": 17,
   "metadata": {
    "scrolled": true
   },
   "outputs": [
    {
     "data": {
      "image/png": "[encoded data removed]",
      "text/plain": [
       "<Figure size 864x288 with 2 Axes>"
      ]
     },
     "metadata": {
      "needs_background": "light"
     },
     "output_type": "display_data"
    }
   ],
   "source": [
    "plt.subplots(1, 2, figsize=(12, 4))\n",
    "\n",
    "# Plot hardmax accuracies\n",
    "plt.subplot(1, 2, 1)\n",
    "plt.scatter(ts[1:-1], ACCs[1:-1])\n",
    "plt.plot([0, 30], [ACCs[-1], ACCs[-1]], '--')\n",
    "plt.plot([0, 30], [ACCs[0], ACCs[0]], '--')\n",
    "plt.title(\"Hardmax Accuracy\")\n",
    "plt.xlabel('Threshold (km)')\n",
    "plt.ylabel('Accuracy')\n",
    "plt.legend(labels = ['No Dummies', 'No Threshold'])\n",
    "\n",
    "# Plot softmax APOs\n",
    "plt.subplot(1, 2, 2)\n",
    "plt.scatter(ts[1:-1], APOs[1:-1])\n",
    "plt.plot([0, 30], [APOs[-1], APOs[-1]], '--')\n",
    "plt.plot([0, 30], [APOs[0], APOs[0]], '--')\n",
    "plt.title(\"Softmax APOs\")\n",
    "plt.xlabel('Threshold (km)')\n",
    "plt.ylabel('APO')\n",
    "plt.legend(labels = ['No Dummies', 'No Threshold'])\n",
    "\n",
    "plt.tight_layout()\n",
    "plt.show()"
   ]
  },
  {
   "cell_type": "markdown",
   "metadata": {},
   "source": [
    "It seems that the best performing model is the one with a threshold of 2km. Let's look at the estimated parameters."
   ]
  },
  {
   "cell_type": "code",
   "execution_count": 18,
   "metadata": {},
   "outputs": [
    {
     "data": {
      "text/html": [
       "<html><head><script src='http://transp-or.epfl.ch/biogeme/sorttable.js'></script><meta http-equiv='Content-Type' content='text/html; charset=utf-8' /><title>Eric_Closest_7_T=2 - Report from biogeme 3.2.5 [2020-08-12]</title><meta name='keywords' content='biogeme, discrete choice, random utility'><meta name='description' content='Report from biogeme 3.2.5 [2020-08-12]'><meta name='author' content='Michel Bierlaire'><style type=text/css>.biostyle\t{font-size:10.0pt;\tfont-weight:400;\tfont-style:normal;\tfont-family:Courier;}.boundstyle\t{font-size:10.0pt;\tfont-weight:400;\tfont-style:normal;\tfont-family:Courier;        color:red}</style></head><body bgcolor='#ffffff'><p>biogeme 3.2.5 [2020-08-12]</p>\n",
       "<p><a href='https://www.python.org/' target='_blank'>Python</a> package</p>\n",
       "<p>Home page: <a href='http://biogeme.epfl.ch' target='_blank'>http://biogeme.epfl.ch</a></p>\n",
       "<p>Submit questions to <a href='https://groups.google.com/d/forum/biogeme' target='_blank'>https://groups.google.com/d/forum/biogeme</a></p>\n",
       "<p><a href='http://people.epfl.ch/michel.bierlaire'>Michel Bierlaire</a>, <a href='http://transp-or.epfl.ch'>Transport and Mobility Laboratory</a>, <a href='http://www.epfl.ch'>Ecole Polytechnique F&#233;d&#233;rale de Lausanne (EPFL)</a></p>\n",
       "<p>This file has automatically been generated on 2020-08-12 11:32:10.111461</p>\n",
       "<p>If you drag this HTML file into the Calc application of <a href='http://www.openoffice.org/' target='_blank'>OpenOffice</a>, or the spreadsheet of <a href='https://www.libreoffice.org/' target='_blank'>LibreOffice</a>, you will be able to perform additional calculations.</p>\n",
       "<table>\n",
       "<tr class=biostyle><td align=right><strong>Report file</strong>:\t</td><td>Eric_Closest_7_T=2.html</td></tr>\n",
       "<tr class=biostyle><td align=right><strong>Database name</strong>:\t</td><td>SMTO</td></tr>\n",
       "</table>\n",
       "<h1>Estimation report</h1>\n",
       "<table border='0'>\n",
       "<tr class=biostyle><td align=right ><strong>Number of estimated parameters</strong>: </td> <td>15</td></tr>\n",
       "<tr class=biostyle><td align=right ><strong>Sample size</strong>: </td> <td>14478</td></tr>\n",
       "<tr class=biostyle><td align=right ><strong>Excluded observations</strong>: </td> <td>0</td></tr>\n",
       "<tr class=biostyle><td align=right ><strong>Init log likelihood</strong>: </td> <td>-23235.09</td></tr>\n",
       "<tr class=biostyle><td align=right ><strong>Final log likelihood</strong>: </td> <td>-19112.95</td></tr>\n",
       "<tr class=biostyle><td align=right ><strong>Likelihood ratio test for the init. model</strong>: </td> <td>8244.281</td></tr>\n",
       "<tr class=biostyle><td align=right ><strong>Rho-square for the init. model</strong>: </td> <td>0.177</td></tr>\n",
       "<tr class=biostyle><td align=right ><strong>Rho-square-bar for the init. model</strong>: </td> <td>0.177</td></tr>\n",
       "<tr class=biostyle><td align=right ><strong>Akaike Information Criterion</strong>: </td> <td>38255.9</td></tr>\n",
       "<tr class=biostyle><td align=right ><strong>Bayesian Information Criterion</strong>: </td> <td>38369.6</td></tr>\n",
       "<tr class=biostyle><td align=right ><strong>Final gradient norm</strong>: </td> <td>2.5114E-03</td></tr>\n",
       "<tr class=biostyle><td align=right ><strong>Diagnostic</strong>: </td> <td>b'CONVERGENCE: REL_REDUCTION_OF_F_<=_FACTR*EPSMCH'</td></tr>\n",
       "<tr class=biostyle><td align=right ><strong>Database readings</strong>: </td> <td>875</td></tr>\n",
       "<tr class=biostyle><td align=right ><strong>Iterations</strong>: </td> <td>750</td></tr>\n",
       "<tr class=biostyle><td align=right ><strong>Optimization time</strong>: </td> <td>0:04:42.062898</td></tr>\n",
       "<tr class=biostyle><td align=right ><strong>Nbr of threads</strong>: </td> <td>4</td></tr>\n",
       "</table>\n",
       "<h1>Estimated parameters</h1>\n",
       "<p><font size='-1'>Click on the headers of the columns to sort the table  [<a href='http://www.kryogenix.org/code/browser/sorttable/' target='_blank'>Credits</a>]</font></p>\n",
       "<table border='1' class='sortable'>\n",
       "<tr class=biostyle><th>Name</th><th>Value</th><th>Std err</th><th>t-test</th><th>p-value</th><th>Rob. Std err</th><th>Rob. t-test</th><th>Rob. p-value</th></tr>\n",
       "<tr class=biostyle><td>ASC_MI</td><td>0.853</td><td>0.0387</td><td>22.1</td><td>0</td><td>0.0377</td><td>22.6</td><td>0</td></tr>\n",
       "<tr class=biostyle><td>ASC_OC</td><td>0.606</td><td>0.0596</td><td>10.2</td><td>0</td><td>0.0597</td><td>10.2</td><td>0</td></tr>\n",
       "<tr class=biostyle><td>ASC_RY</td><td>0.593</td><td>0.0278</td><td>21.4</td><td>0</td><td>0.0278</td><td>21.3</td><td>0</td></tr>\n",
       "<tr class=biostyle><td>ASC_SC</td><td>0.863</td><td>0.0386</td><td>22.3</td><td>0</td><td>0.0384</td><td>22.5</td><td>0</td></tr>\n",
       "<tr class=biostyle><td>ASC_YG</td><td>0.663</td><td>0.0681</td><td>9.74</td><td>0</td><td>0.0682</td><td>9.73</td><td>0</td></tr>\n",
       "<tr class=biostyle><td>ASC_YK</td><td>0.594</td><td>0.0264</td><td>22.5</td><td>0</td><td>0.0266</td><td>22.3</td><td>0</td></tr>\n",
       "<tr class=biostyle><td>B_CLOSEST_MI</td><td>2.24</td><td>0.38</td><td>5.88</td><td>4.06e-09</td><td>0.38</td><td>5.89</td><td>3.93e-09</td></tr>\n",
       "<tr class=biostyle><td>B_CLOSEST_OC</td><td>0.606</td><td>0.162</td><td>3.73</td><td>0.00019</td><td>0.162</td><td>3.73</td><td>0.000188</td></tr>\n",
       "<tr class=biostyle><td>B_CLOSEST_RY</td><td>0.126</td><td>0.0766</td><td>1.65</td><td>0.0997</td><td>0.0749</td><td>1.68</td><td>0.0924</td></tr>\n",
       "<tr class=biostyle><td>B_CLOSEST_SC</td><td>1.74</td><td>0.205</td><td>8.48</td><td>0</td><td>0.197</td><td>8.85</td><td>0</td></tr>\n",
       "<tr class=biostyle><td>B_CLOSEST_SG</td><td>1.76</td><td>0.0901</td><td>19.5</td><td>0</td><td>0.0945</td><td>18.6</td><td>0</td></tr>\n",
       "<tr class=biostyle><td>B_CLOSEST_YG</td><td>3.03</td><td>0.333</td><td>9.11</td><td>0</td><td>0.313</td><td>9.69</td><td>0</td></tr>\n",
       "<tr class=biostyle><td>B_CLOSEST_YK</td><td>2.51</td><td>0.255</td><td>9.86</td><td>0</td><td>0.256</td><td>9.83</td><td>0</td></tr>\n",
       "<tr class=biostyle><td>B_DIST</td><td>-0.0928</td><td>0.00237</td><td>-39.2</td><td>0</td><td>0.00251</td><td>-36.9</td><td>0</td></tr>\n",
       "<tr class=biostyle><td>B_FAM_DIST</td><td>0.0352</td><td>0.00269</td><td>13.1</td><td>0</td><td>0.00276</td><td>12.7</td><td>0</td></tr>\n",
       "</table>\n",
       "<h2>Correlation of coefficients</h2>\n",
       "<p><font size='-1'>Click on the headers of the columns to sort the table [<a href='http://www.kryogenix.org/code/browser/sorttable/' target='_blank'>Credits</a>]</font></p>\n",
       "<table border='1' class='sortable'>\n",
       "<tr class=biostyle><th>Coefficient1</th><th>Coefficient2</th><th>Covariance</th><th>Correlation</th><th>t-test</th><th>p-value</th><th>Rob. cov.</th><th>Rob. corr.</th><th>Rob. t-test</th><th>Rob. p-value</th></tr>\n",
       "<tr class=biostyle><td>ASC_OC</td><td>ASC_MI</td><td>0.000368</td><td>0.16</td><td>-3.75</td><td>0.000176</td><td>0.000382</td><td>0.17</td><td>-3.79</td><td>0.000149</td></tr>\n",
       "<tr class=biostyle><td>ASC_RY</td><td>ASC_MI</td><td>0.000363</td><td>0.338</td><td>-6.61</td><td>3.84e-11</td><td>0.000336</td><td>0.32</td><td>-6.64</td><td>3.11e-11</td></tr>\n",
       "<tr class=biostyle><td>ASC_RY</td><td>ASC_OC</td><td>0.000355</td><td>0.215</td><td>-0.218</td><td>0.828</td><td>0.00036</td><td>0.217</td><td>-0.218</td><td>0.828</td></tr>\n",
       "<tr class=biostyle><td>ASC_SC</td><td>ASC_MI</td><td>0.000392</td><td>0.263</td><td>0.219</td><td>0.827</td><td>0.00038</td><td>0.262</td><td>0.222</td><td>0.824</td></tr>\n",
       "<tr class=biostyle><td>ASC_SC</td><td>ASC_OC</td><td>0.000375</td><td>0.163</td><td>3.92</td><td>9.01e-05</td><td>0.000393</td><td>0.171</td><td>3.94</td><td>8.29e-05</td></tr>\n",
       "<tr class=biostyle><td>ASC_SC</td><td>ASC_RY</td><td>0.00038</td><td>0.355</td><td>6.96</td><td>3.45e-12</td><td>0.000368</td><td>0.344</td><td>6.93</td><td>4.27e-12</td></tr>\n",
       "<tr class=biostyle><td>ASC_YG</td><td>ASC_MI</td><td>0.000378</td><td>0.144</td><td>-2.58</td><td>0.0098</td><td>0.000362</td><td>0.141</td><td>-2.59</td><td>0.0096</td></tr>\n",
       "<tr class=biostyle><td>ASC_YG</td><td>ASC_OC</td><td>0.000368</td><td>0.0907</td><td>0.659</td><td>0.51</td><td>0.000379</td><td>0.0932</td><td>0.659</td><td>0.51</td></tr>\n",
       "<tr class=biostyle><td>ASC_YG</td><td>ASC_RY</td><td>0.000369</td><td>0.195</td><td>1.02</td><td>0.306</td><td>0.000361</td><td>0.19</td><td>1.02</td><td>0.307</td></tr>\n",
       "<tr class=biostyle><td>ASC_YG</td><td>ASC_SC</td><td>0.000444</td><td>0.169</td><td>-2.76</td><td>0.00582</td><td>0.000459</td><td>0.175</td><td>-2.77</td><td>0.00566</td></tr>\n",
       "<tr class=biostyle><td>ASC_YK</td><td>ASC_MI</td><td>0.000406</td><td>0.399</td><td>-6.97</td><td>3.09e-12</td><td>0.000392</td><td>0.391</td><td>-7.05</td><td>1.77e-12</td></tr>\n",
       "<tr class=biostyle><td>ASC_YK</td><td>ASC_OC</td><td>0.000358</td><td>0.228</td><td>-0.211</td><td>0.833</td><td>0.000383</td><td>0.241</td><td>-0.212</td><td>0.832</td></tr>\n",
       "<tr class=biostyle><td>ASC_YK</td><td>ASC_RY</td><td>0.000361</td><td>0.493</td><td>0.0203</td><td>0.984</td><td>0.000353</td><td>0.477</td><td>0.0199</td><td>0.984</td></tr>\n",
       "<tr class=biostyle><td>ASC_YK</td><td>ASC_SC</td><td>0.000416</td><td>0.409</td><td>-7.31</td><td>2.63e-13</td><td>0.000434</td><td>0.424</td><td>-7.41</td><td>1.23e-13</td></tr>\n",
       "<tr class=biostyle><td>ASC_YK</td><td>ASC_YG</td><td>0.000398</td><td>0.222</td><td>-1.03</td><td>0.303</td><td>0.000418</td><td>0.231</td><td>-1.03</td><td>0.302</td></tr>\n",
       "<tr class=biostyle><td>B_CLOSEST_MI</td><td>ASC_MI</td><td>-0.00123</td><td>-0.084</td><td>3.59</td><td>0.00033</td><td>-0.00129</td><td>-0.0902</td><td>3.59</td><td>0.000327</td></tr>\n",
       "<tr class=biostyle><td>B_CLOSEST_MI</td><td>ASC_OC</td><td>-5.47e-05</td><td>-0.00241</td><td>4.23</td><td>2.3e-05</td><td>-0.000268</td><td>-0.0118</td><td>4.23</td><td>2.32e-05</td></tr>\n",
       "<tr class=biostyle><td>B_CLOSEST_MI</td><td>ASC_RY</td><td>-8.54e-05</td><td>-0.0081</td><td>4.31</td><td>1.65e-05</td><td>-2.86e-05</td><td>-0.00271</td><td>4.31</td><td>1.61e-05</td></tr>\n",
       "<tr class=biostyle><td>B_CLOSEST_MI</td><td>ASC_SC</td><td>-0.000266</td><td>-0.0181</td><td>3.59</td><td>0.000334</td><td>-0.000496</td><td>-0.034</td><td>3.58</td><td>0.000337</td></tr>\n",
       "<tr class=biostyle><td>B_CLOSEST_MI</td><td>ASC_YG</td><td>-0.00024</td><td>-0.00925</td><td>4.07</td><td>4.78e-05</td><td>-0.000342</td><td>-0.0132</td><td>4.07</td><td>4.77e-05</td></tr>\n",
       "<tr class=biostyle><td>B_CLOSEST_MI</td><td>ASC_YK</td><td>-0.000302</td><td>-0.0301</td><td>4.3</td><td>1.7e-05</td><td>-0.000466</td><td>-0.0461</td><td>4.3</td><td>1.71e-05</td></tr>\n",
       "<tr class=biostyle><td>B_CLOSEST_OC</td><td>ASC_MI</td><td>-0.000125</td><td>-0.0199</td><td>-1.47</td><td>0.141</td><td>-4.54e-05</td><td>-0.00742</td><td>-1.48</td><td>0.139</td></tr>\n",
       "<tr class=biostyle><td>B_CLOSEST_OC</td><td>ASC_OC</td><td>-0.00335</td><td>-0.346</td><td>-0.00196</td><td>0.998</td><td>-0.00325</td><td>-0.335</td><td>-0.00197</td><td>0.998</td></tr>\n",
       "<tr class=biostyle><td>B_CLOSEST_OC</td><td>ASC_RY</td><td>7.63e-06</td><td>0.00169</td><td>0.0771</td><td>0.939</td><td>0.000201</td><td>0.0446</td><td>0.0777</td><td>0.938</td></tr>\n",
       "<tr class=biostyle><td>B_CLOSEST_OC</td><td>ASC_SC</td><td>-0.000143</td><td>-0.0228</td><td>-1.53</td><td>0.126</td><td>-5.05e-05</td><td>-0.0081</td><td>-1.54</td><td>0.124</td></tr>\n",
       "<tr class=biostyle><td>B_CLOSEST_OC</td><td>ASC_YG</td><td>-0.000117</td><td>-0.0106</td><td>-0.324</td><td>0.746</td><td>2.71e-05</td><td>0.00245</td><td>-0.326</td><td>0.745</td></tr>\n",
       "<tr class=biostyle><td>B_CLOSEST_OC</td><td>ASC_YK</td><td>-0.000138</td><td>-0.0323</td><td>0.0735</td><td>0.941</td><td>-3.94e-05</td><td>-0.00914</td><td>0.0738</td><td>0.941</td></tr>\n",
       "<tr class=biostyle><td>B_CLOSEST_OC</td><td>B_CLOSEST_MI</td><td>0.00041</td><td>0.00665</td><td>-3.95</td><td>7.72e-05</td><td>0.000979</td><td>0.0159</td><td>-3.97</td><td>7.2e-05</td></tr>\n",
       "<tr class=biostyle><td>B_CLOSEST_RY</td><td>ASC_MI</td><td>-0.000187</td><td>-0.0631</td><td>-8.26</td><td>2.22e-16</td><td>-0.000105</td><td>-0.0371</td><td>-8.53</td><td>0</td></tr>\n",
       "<tr class=biostyle><td>B_CLOSEST_RY</td><td>ASC_OC</td><td>-5.52e-06</td><td>-0.00121</td><td>-4.95</td><td>7.56e-07</td><td>-7.09e-05</td><td>-0.0159</td><td>-4.98</td><td>6.49e-07</td></tr>\n",
       "<tr class=biostyle><td>B_CLOSEST_RY</td><td>ASC_RY</td><td>-0.000649</td><td>-0.305</td><td>-5.25</td><td>1.56e-07</td><td>-0.000618</td><td>-0.296</td><td>-5.35</td><td>8.79e-08</td></tr>\n",
       "<tr class=biostyle><td>B_CLOSEST_RY</td><td>ASC_SC</td><td>-0.000214</td><td>-0.0724</td><td>-8.35</td><td>0</td><td>-0.000186</td><td>-0.0644</td><td>-8.53</td><td>0</td></tr>\n",
       "<tr class=biostyle><td>B_CLOSEST_RY</td><td>ASC_YG</td><td>-0.000162</td><td>-0.0312</td><td>-5.16</td><td>2.45e-07</td><td>-0.000106</td><td>-0.0208</td><td>-5.25</td><td>1.54e-07</td></tr>\n",
       "<tr class=biostyle><td>B_CLOSEST_RY</td><td>ASC_YK</td><td>-0.000211</td><td>-0.104</td><td>-5.6</td><td>2.17e-08</td><td>-0.000153</td><td>-0.0766</td><td>-5.75</td><td>9.19e-09</td></tr>\n",
       "<tr class=biostyle><td>B_CLOSEST_RY</td><td>B_CLOSEST_MI</td><td>0.000615</td><td>0.0211</td><td>-5.46</td><td>4.68e-08</td><td>0.00107</td><td>0.0378</td><td>-5.49</td><td>4.03e-08</td></tr>\n",
       "<tr class=biostyle><td>B_CLOSEST_RY</td><td>B_CLOSEST_OC</td><td>-0.000172</td><td>-0.0138</td><td>-2.66</td><td>0.00784</td><td>-0.000189</td><td>-0.0156</td><td>-2.67</td><td>0.00761</td></tr>\n",
       "<tr class=biostyle><td>B_CLOSEST_SC</td><td>ASC_MI</td><td>-3.95e-05</td><td>-0.00497</td><td>4.25</td><td>2.13e-05</td><td>-7.75e-05</td><td>-0.0104</td><td>4.43</td><td>9.47e-06</td></tr>\n",
       "<tr class=biostyle><td>B_CLOSEST_SC</td><td>ASC_OC</td><td>-4.11e-05</td><td>-0.00335</td><td>5.3</td><td>1.13e-07</td><td>-9.41e-05</td><td>-0.00801</td><td>5.51</td><td>3.6e-08</td></tr>\n",
       "<tr class=biostyle><td>B_CLOSEST_SC</td><td>ASC_RY</td><td>-4.59e-05</td><td>-0.00805</td><td>5.54</td><td>3.1e-08</td><td>-3.97e-05</td><td>-0.00725</td><td>5.77</td><td>7.79e-09</td></tr>\n",
       "<tr class=biostyle><td>B_CLOSEST_SC</td><td>ASC_SC</td><td>-0.00129</td><td>-0.162</td><td>4.09</td><td>4.38e-05</td><td>-0.00143</td><td>-0.189</td><td>4.24</td><td>2.28e-05</td></tr>\n",
       "<tr class=biostyle><td>B_CLOSEST_SC</td><td>ASC_YG</td><td>-7.2e-05</td><td>-0.00515</td><td>4.98</td><td>6.47e-07</td><td>1.09e-05</td><td>0.00081</td><td>5.18</td><td>2.22e-07</td></tr>\n",
       "<tr class=biostyle><td>B_CLOSEST_SC</td><td>ASC_YK</td><td>-0.000194</td><td>-0.0357</td><td>5.52</td><td>3.41e-08</td><td>-0.000274</td><td>-0.0524</td><td>5.74</td><td>9.42e-09</td></tr>\n",
       "<tr class=biostyle><td>B_CLOSEST_SC</td><td>B_CLOSEST_MI</td><td>0.00184</td><td>0.0236</td><td>-1.16</td><td>0.248</td><td>0.00395</td><td>0.0528</td><td>-1.18</td><td>0.237</td></tr>\n",
       "<tr class=biostyle><td>B_CLOSEST_SC</td><td>B_CLOSEST_OC</td><td>0.000287</td><td>0.00861</td><td>4.36</td><td>1.32e-05</td><td>0.000545</td><td>0.0171</td><td>4.49</td><td>7.09e-06</td></tr>\n",
       "<tr class=biostyle><td>B_CLOSEST_SC</td><td>B_CLOSEST_RY</td><td>0.000393</td><td>0.025</td><td>7.43</td><td>1.07e-13</td><td>0.000744</td><td>0.0504</td><td>7.8</td><td>6e-15</td></tr>\n",
       "<tr class=biostyle><td>B_CLOSEST_SG</td><td>ASC_MI</td><td>0.000399</td><td>0.115</td><td>9.66</td><td>0</td><td>0.000255</td><td>0.0714</td><td>9.14</td><td>0</td></tr>\n",
       "<tr class=biostyle><td>B_CLOSEST_SG</td><td>ASC_OC</td><td>0.000574</td><td>0.107</td><td>11.2</td><td>0</td><td>0.000606</td><td>0.107</td><td>10.9</td><td>0</td></tr>\n",
       "<tr class=biostyle><td>B_CLOSEST_SG</td><td>ASC_RY</td><td>0.000585</td><td>0.234</td><td>13.3</td><td>0</td><td>0.000727</td><td>0.276</td><td>12.8</td><td>0</td></tr>\n",
       "<tr class=biostyle><td>B_CLOSEST_SG</td><td>ASC_SC</td><td>0.000387</td><td>0.111</td><td>9.53</td><td>0</td><td>0.00037</td><td>0.102</td><td>9.12</td><td>0</td></tr>\n",
       "<tr class=biostyle><td>B_CLOSEST_SG</td><td>ASC_YG</td><td>0.000426</td><td>0.0694</td><td>10</td><td>0</td><td>0.000537</td><td>0.0833</td><td>9.8</td><td>0</td></tr>\n",
       "<tr class=biostyle><td>B_CLOSEST_SG</td><td>ASC_YK</td><td>0.000379</td><td>0.16</td><td>13</td><td>0</td><td>0.000418</td><td>0.166</td><td>12.4</td><td>0</td></tr>\n",
       "<tr class=biostyle><td>B_CLOSEST_SG</td><td>B_CLOSEST_MI</td><td>0.000554</td><td>0.0162</td><td>-1.22</td><td>0.221</td><td>0.000571</td><td>0.0159</td><td>-1.22</td><td>0.222</td></tr>\n",
       "<tr class=biostyle><td>B_CLOSEST_SG</td><td>B_CLOSEST_OC</td><td>-0.000154</td><td>-0.0105</td><td>6.18</td><td>6.24e-10</td><td>-5.41e-05</td><td>-0.00352</td><td>6.13</td><td>8.61e-10</td></tr>\n",
       "<tr class=biostyle><td>B_CLOSEST_SG</td><td>B_CLOSEST_RY</td><td>-0.000268</td><td>-0.0388</td><td>13.6</td><td>0</td><td>-0.000471</td><td>-0.0665</td><td>13.1</td><td>0</td></tr>\n",
       "<tr class=biostyle><td>B_CLOSEST_SG</td><td>B_CLOSEST_SC</td><td>0.000378</td><td>0.0204</td><td>0.0795</td><td>0.937</td><td>0.000295</td><td>0.0159</td><td>0.0816</td><td>0.935</td></tr>\n",
       "<tr class=biostyle><td>B_CLOSEST_YG</td><td>ASC_MI</td><td>-4.49e-05</td><td>-0.00349</td><td>6.5</td><td>7.81e-11</td><td>3.3e-05</td><td>0.0028</td><td>6.92</td><td>4.55e-12</td></tr>\n",
       "<tr class=biostyle><td>B_CLOSEST_YG</td><td>ASC_OC</td><td>-1.48e-05</td><td>-0.000748</td><td>7.18</td><td>7.18e-13</td><td>9.97e-05</td><td>0.00534</td><td>7.62</td><td>2.44e-14</td></tr>\n",
       "<tr class=biostyle><td>B_CLOSEST_YG</td><td>ASC_RY</td><td>-3.66e-06</td><td>-0.000396</td><td>7.3</td><td>2.78e-13</td><td>1.93e-05</td><td>0.00222</td><td>7.77</td><td>7.99e-15</td></tr>\n",
       "<tr class=biostyle><td>B_CLOSEST_YG</td><td>ASC_SC</td><td>-9.44e-05</td><td>-0.00735</td><td>6.47</td><td>9.75e-11</td><td>-0.000194</td><td>-0.0162</td><td>6.87</td><td>6.47e-12</td></tr>\n",
       "<tr class=biostyle><td>B_CLOSEST_YG</td><td>ASC_YG</td><td>-0.0044</td><td>-0.194</td><td>6.72</td><td>1.78e-11</td><td>-0.00439</td><td>-0.206</td><td>7.1</td><td>1.24e-12</td></tr>\n",
       "<tr class=biostyle><td>B_CLOSEST_YG</td><td>ASC_YK</td><td>-9.6e-05</td><td>-0.0109</td><td>7.3</td><td>2.89e-13</td><td>-3.52e-05</td><td>-0.00423</td><td>7.76</td><td>8.22e-15</td></tr>\n",
       "<tr class=biostyle><td>B_CLOSEST_YG</td><td>B_CLOSEST_MI</td><td>0.000832</td><td>0.00658</td><td>1.58</td><td>0.114</td><td>0.00131</td><td>0.0111</td><td>1.62</td><td>0.104</td></tr>\n",
       "<tr class=biostyle><td>B_CLOSEST_YG</td><td>B_CLOSEST_OC</td><td>8.83e-05</td><td>0.00163</td><td>6.56</td><td>5.48e-11</td><td>-2.46e-05</td><td>-0.000485</td><td>6.88</td><td>5.87e-12</td></tr>\n",
       "<tr class=biostyle><td>B_CLOSEST_YG</td><td>B_CLOSEST_RY</td><td>8.39e-05</td><td>0.00329</td><td>8.52</td><td>0</td><td>0.000131</td><td>0.00561</td><td>9.05</td><td>0</td></tr>\n",
       "<tr class=biostyle><td>B_CLOSEST_YG</td><td>B_CLOSEST_SC</td><td>0.000455</td><td>0.00666</td><td>3.31</td><td>0.000939</td><td>0.000739</td><td>0.012</td><td>3.51</td><td>0.00045</td></tr>\n",
       "<tr class=biostyle><td>B_CLOSEST_YG</td><td>B_CLOSEST_SG</td><td>0.000103</td><td>0.00343</td><td>3.69</td><td>0.000221</td><td>-8.48e-05</td><td>-0.00287</td><td>3.89</td><td>0.0001</td></tr>\n",
       "<tr class=biostyle><td>B_CLOSEST_YK</td><td>ASC_MI</td><td>-0.000182</td><td>-0.0185</td><td>6.42</td><td>1.32e-10</td><td>-0.000318</td><td>-0.033</td><td>6.39</td><td>1.65e-10</td></tr>\n",
       "<tr class=biostyle><td>B_CLOSEST_YK</td><td>ASC_OC</td><td>-7.24e-05</td><td>-0.00477</td><td>7.28</td><td>3.37e-13</td><td>-2.87e-05</td><td>-0.00188</td><td>7.26</td><td>3.99e-13</td></tr>\n",
       "<tr class=biostyle><td>B_CLOSEST_YK</td><td>ASC_RY</td><td>-8.71e-05</td><td>-0.0123</td><td>7.48</td><td>7.42e-14</td><td>-5.93e-05</td><td>-0.00833</td><td>7.45</td><td>9.02e-14</td></tr>\n",
       "<tr class=biostyle><td>B_CLOSEST_YK</td><td>ASC_SC</td><td>-0.000274</td><td>-0.0279</td><td>6.38</td><td>1.82e-10</td><td>-0.000523</td><td>-0.0533</td><td>6.33</td><td>2.46e-10</td></tr>\n",
       "<tr class=biostyle><td>B_CLOSEST_YK</td><td>ASC_YG</td><td>-0.00017</td><td>-0.00978</td><td>7</td><td>2.63e-12</td><td>-0.00167</td><td>-0.0959</td><td>6.83</td><td>8.72e-12</td></tr>\n",
       "<tr class=biostyle><td>B_CLOSEST_YK</td><td>ASC_YK</td><td>-0.000665</td><td>-0.0991</td><td>7.42</td><td>1.19e-13</td><td>-0.000825</td><td>-0.121</td><td>7.37</td><td>1.69e-13</td></tr>\n",
       "<tr class=biostyle><td>B_CLOSEST_YK</td><td>B_CLOSEST_MI</td><td>0.00199</td><td>0.0205</td><td>0.608</td><td>0.543</td><td>0.00436</td><td>0.0449</td><td>0.615</td><td>0.539</td></tr>\n",
       "<tr class=biostyle><td>B_CLOSEST_YK</td><td>B_CLOSEST_OC</td><td>0.000294</td><td>0.00712</td><td>6.33</td><td>2.43e-10</td><td>0.000391</td><td>0.00943</td><td>6.32</td><td>2.59e-10</td></tr>\n",
       "<tr class=biostyle><td>B_CLOSEST_YK</td><td>B_CLOSEST_RY</td><td>0.000424</td><td>0.0217</td><td>9.03</td><td>0</td><td>0.00066</td><td>0.0344</td><td>9.04</td><td>0</td></tr>\n",
       "<tr class=biostyle><td>B_CLOSEST_YK</td><td>B_CLOSEST_SC</td><td>0.00136</td><td>0.026</td><td>2.38</td><td>0.0171</td><td>0.00279</td><td>0.0554</td><td>2.45</td><td>0.0142</td></tr>\n",
       "<tr class=biostyle><td>B_CLOSEST_YK</td><td>B_CLOSEST_SG</td><td>0.000328</td><td>0.0143</td><td>2.8</td><td>0.00515</td><td>0.000135</td><td>0.00559</td><td>2.77</td><td>0.00569</td></tr>\n",
       "<tr class=biostyle><td>B_CLOSEST_YK</td><td>B_CLOSEST_YG</td><td>0.000504</td><td>0.00596</td><td>-1.24</td><td>0.214</td><td>0.00216</td><td>0.027</td><td>-1.3</td><td>0.193</td></tr>\n",
       "<tr class=biostyle><td>B_DIST</td><td>ASC_MI</td><td>-3.36e-06</td><td>-0.0368</td><td>-24.4</td><td>0</td><td>2.34e-06</td><td>0.0247</td><td>-25</td><td>0</td></tr>\n",
       "<tr class=biostyle><td>B_DIST</td><td>ASC_OC</td><td>-1.38e-06</td><td>-0.00981</td><td>-11.7</td><td>0</td><td>-6.68e-07</td><td>-0.00446</td><td>-11.7</td><td>0</td></tr>\n",
       "<tr class=biostyle><td>B_DIST</td><td>ASC_RY</td><td>-2.59e-06</td><td>-0.0394</td><td>-24.5</td><td>0</td><td>5.14e-07</td><td>0.00735</td><td>-24.6</td><td>0</td></tr>\n",
       "<tr class=biostyle><td>B_DIST</td><td>ASC_SC</td><td>-9.36e-06</td><td>-0.102</td><td>-24.5</td><td>0</td><td>-1.04e-05</td><td>-0.108</td><td>-24.6</td><td>0</td></tr>\n",
       "<tr class=biostyle><td>B_DIST</td><td>ASC_YG</td><td>-8.28e-06</td><td>-0.0513</td><td>-11.1</td><td>0</td><td>-9.24e-06</td><td>-0.054</td><td>-11.1</td><td>0</td></tr>\n",
       "<tr class=biostyle><td>B_DIST</td><td>ASC_YK</td><td>-1.13e-05</td><td>-0.182</td><td>-25.5</td><td>0</td><td>-8.76e-06</td><td>-0.131</td><td>-25.4</td><td>0</td></tr>\n",
       "<tr class=biostyle><td>B_DIST</td><td>B_CLOSEST_MI</td><td>0.000121</td><td>0.134</td><td>-6.13</td><td>8.75e-10</td><td>0.000209</td><td>0.219</td><td>-6.14</td><td>8.24e-10</td></tr>\n",
       "<tr class=biostyle><td>B_DIST</td><td>B_CLOSEST_OC</td><td>2.01e-05</td><td>0.0523</td><td>-4.31</td><td>1.66e-05</td><td>2.51e-05</td><td>0.0615</td><td>-4.31</td><td>1.63e-05</td></tr>\n",
       "<tr class=biostyle><td>B_DIST</td><td>B_CLOSEST_RY</td><td>2.95e-05</td><td>0.163</td><td>-2.87</td><td>0.00408</td><td>3.75e-05</td><td>0.199</td><td>-2.94</td><td>0.00329</td></tr>\n",
       "<tr class=biostyle><td>B_DIST</td><td>B_CLOSEST_SC</td><td>8.32e-05</td><td>0.171</td><td>-8.95</td><td>0</td><td>0.000139</td><td>0.282</td><td>-9.35</td><td>0</td></tr>\n",
       "<tr class=biostyle><td>B_DIST</td><td>B_CLOSEST_SG</td><td>2.92e-05</td><td>0.137</td><td>-20.6</td><td>0</td><td>6.23e-06</td><td>0.0262</td><td>-19.6</td><td>0</td></tr>\n",
       "<tr class=biostyle><td>B_DIST</td><td>B_CLOSEST_YG</td><td>3.76e-05</td><td>0.0477</td><td>-9.4</td><td>0</td><td>4.56e-05</td><td>0.058</td><td>-9.99</td><td>0</td></tr>\n",
       "<tr class=biostyle><td>B_DIST</td><td>B_CLOSEST_YK</td><td>9.27e-05</td><td>0.154</td><td>-10.2</td><td>0</td><td>0.000145</td><td>0.226</td><td>-10.2</td><td>0</td></tr>\n",
       "<tr class=biostyle><td>B_FAM_DIST</td><td>ASC_MI</td><td>1.38e-05</td><td>0.133</td><td>-21.3</td><td>0</td><td>4.32e-06</td><td>0.0415</td><td>-21.7</td><td>0</td></tr>\n",
       "<tr class=biostyle><td>B_FAM_DIST</td><td>ASC_OC</td><td>5.64e-07</td><td>0.00352</td><td>-9.57</td><td>0</td><td>7.69e-07</td><td>0.00467</td><td>-9.57</td><td>0</td></tr>\n",
       "<tr class=biostyle><td>B_FAM_DIST</td><td>ASC_RY</td><td>1.74e-06</td><td>0.0233</td><td>-20.1</td><td>0</td><td>3.96e-07</td><td>0.00516</td><td>-20</td><td>0</td></tr>\n",
       "<tr class=biostyle><td>B_FAM_DIST</td><td>ASC_SC</td><td>1.48e-05</td><td>0.143</td><td>-21.6</td><td>0</td><td>1.3e-05</td><td>0.123</td><td>-21.7</td><td>0</td></tr>\n",
       "<tr class=biostyle><td>B_FAM_DIST</td><td>ASC_YG</td><td>1.05e-05</td><td>0.0576</td><td>-9.23</td><td>0</td><td>1.27e-05</td><td>0.0673</td><td>-9.23</td><td>0</td></tr>\n",
       "<tr class=biostyle><td>B_FAM_DIST</td><td>ASC_YK</td><td>1.45e-05</td><td>0.204</td><td>-21.5</td><td>0</td><td>1.22e-05</td><td>0.166</td><td>-21.2</td><td>0</td></tr>\n",
       "<tr class=biostyle><td>B_FAM_DIST</td><td>B_CLOSEST_MI</td><td>-0.000116</td><td>-0.114</td><td>-5.78</td><td>7.28e-09</td><td>-0.000223</td><td>-0.213</td><td>-5.79</td><td>7.24e-09</td></tr>\n",
       "<tr class=biostyle><td>B_FAM_DIST</td><td>B_CLOSEST_OC</td><td>-1.76e-05</td><td>-0.0403</td><td>-3.51</td><td>0.000444</td><td>-2.26e-05</td><td>-0.0504</td><td>-3.51</td><td>0.000441</td></tr>\n",
       "<tr class=biostyle><td>B_FAM_DIST</td><td>B_CLOSEST_RY</td><td>-2.55e-05</td><td>-0.124</td><td>-1.18</td><td>0.237</td><td>-3.49e-05</td><td>-0.169</td><td>-1.21</td><td>0.228</td></tr>\n",
       "<tr class=biostyle><td>B_FAM_DIST</td><td>B_CLOSEST_SC</td><td>-7.13e-05</td><td>-0.129</td><td>-8.29</td><td>0</td><td>-0.000137</td><td>-0.252</td><td>-8.64</td><td>0</td></tr>\n",
       "<tr class=biostyle><td>B_FAM_DIST</td><td>B_CLOSEST_SG</td><td>-2.73e-05</td><td>-0.113</td><td>-19.1</td><td>0</td><td>-6.37e-06</td><td>-0.0244</td><td>-18.2</td><td>0</td></tr>\n",
       "<tr class=biostyle><td>B_FAM_DIST</td><td>B_CLOSEST_YG</td><td>-3.07e-05</td><td>-0.0344</td><td>-9.01</td><td>0</td><td>-3.98e-05</td><td>-0.0461</td><td>-9.58</td><td>0</td></tr>\n",
       "<tr class=biostyle><td>B_FAM_DIST</td><td>B_CLOSEST_YK</td><td>-9.1e-05</td><td>-0.133</td><td>-9.71</td><td>0</td><td>-0.000158</td><td>-0.223</td><td>-9.66</td><td>0</td></tr>\n",
       "<tr class=biostyle><td>B_FAM_DIST</td><td>B_DIST</td><td>-5.6e-06</td><td>-0.881</td><td>26.1</td><td>0</td><td>-6.3e-06</td><td>-0.908</td><td>24.9</td><td>0</td></tr>\n",
       "</table>\n",
       "<p>Smallest eigenvalue: 6.91205</p>\n",
       "<p>Smallest singular value: 6.91205</p>\n",
       "</html>"
      ],
      "text/plain": [
       "<IPython.core.display.HTML object>"
      ]
     },
     "execution_count": 18,
     "metadata": {},
     "output_type": "execute_result"
    }
   ],
   "source": [
    "from IPython.display import HTML\n",
    "\n",
    "best_threshold = 2\n",
    "HTML(filename= \"Eric_Closest_7_T=\" + str(best_threshold) + \".html\")"
   ]
  },
  {
   "cell_type": "markdown",
   "metadata": {},
   "source": [
    "As we can see, all of the `B_CLOSEST` coefficients are positive and mostly statistically significant. This is encouraging!\n",
    "\n",
    "Now, let's check if we obtain similar results for the proposed model, where only one `B_CLOSEST` is estimated for all seven campuses. We need to first reload the data."
   ]
  },
  {
   "cell_type": "code",
   "execution_count": 19,
   "metadata": {
    "scrolled": true
   },
   "outputs": [],
   "source": [
    "df = pd.read_csv('../../Data/SMTO_2015/Formatted.csv')\n",
    "school_codes = df['School'].unique().tolist()\n",
    "df['School'] = df['School'].apply(school_codes.index)\n",
    "for code in school_codes:\n",
    "    df['Enrol.' + code] = df.apply(lambda x: log(x[x.Level + '.' + code]), axis=1)"
   ]
  },
  {
   "cell_type": "markdown",
   "metadata": {},
   "source": [
    "Now let's run the model."
   ]
  },
  {
   "cell_type": "code",
   "execution_count": 22,
   "metadata": {},
   "outputs": [
    {
     "name": "stdout",
     "output_type": "stream",
     "text": [
      "150\n",
      "30\n",
      "25\n",
      "20\n",
      "15\n",
      "10\n",
      "9\n",
      "8\n",
      "7\n",
      "6\n",
      "5\n",
      "4.5\n",
      "4.0\n",
      "3.5\n",
      "3.0\n",
      "2.5\n",
      "2.0\n",
      "1.5\n",
      "1.0\n",
      "0.5\n",
      "0.0\n"
     ]
    }
   ],
   "source": [
    "ACCs, APOs = [], []\n",
    "\n",
    "for t in ts:\n",
    "    # Prepare dummy columns\n",
    "    for code in school_codes:\n",
    "        df['Closest.' + code] = ((df['Closest.' + code]) & (df['Dist.' + code] <= t)) * 1\n",
    "    database = db.Database(\"SMTO\", df.select_dtypes(include = 'number'))\n",
    "    \n",
    "    # Specify model\n",
    "    V, av = {}, {}\n",
    "    B_DIST = Beta('B_DIST', 0, None, None, 0)\n",
    "    B_CLOSEST = Beta('B_CLOSEST', 0, None, None, 0)\n",
    "    B_FAM_DIST = Beta('B_FAM_DIST', 0, None, None, 0)\n",
    "    B_ENROL = Beta('B_ENROL', 1, None, None, 0)\n",
    "    for i in range(len(school_codes)):\n",
    "        code = school_codes[i]\n",
    "        V[i] = B_CLOSEST * database.variables[\"Closest.\" + code] + B_ENROL * database.variables[\"Enrol.\" + code] + database.variables['Dist.' + code] * (B_DIST + B_FAM_DIST * database.variables[\"Family\"])\n",
    "        av[i] = 1    \n",
    "    \n",
    "    # Run model\n",
    "    logprob = models.loglogit(V, av, database.variables[\"School\"])\n",
    "    biogeme = bio.BIOGEME(database, {'loglike': logprob, 'weight': database.variables[\"Exp_Factor\"]})\n",
    "    biogeme.modelName = \"Prop_Closest_7_T=\" + str(t)\n",
    "    betas = biogeme.estimate().getBetaValues()    \n",
    "    \n",
    "    print(t)\n",
    "    \n",
    "    # Generate probabilities\n",
    "    simulate = {'Prob.' + school_codes[i]: models.logit(V, av, i) for i in range(len(school_codes))}\n",
    "    sim_biogeme = bio.BIOGEME(database, simulate)\n",
    "    probs = sim_biogeme.simulate(betas).set_index(df.index)\n",
    "\n",
    "    # Confusion matrices and metrics\n",
    "    hard_cm = get_cm(probs, True)\n",
    "    soft_cm = get_cm(probs, False)\n",
    "    ACCs.append(get_accuracy(hard_cm))\n",
    "    APOs.append(get_accuracy(soft_cm))"
   ]
  },
  {
   "cell_type": "markdown",
   "metadata": {},
   "source": [
    "Now, let's plot the hardmax accuracies and softmax APOs for different thresholds."
   ]
  },
  {
   "cell_type": "code",
   "execution_count": 23,
   "metadata": {
    "scrolled": true
   },
   "outputs": [
    {
     "data": {
      "image/png": "[encoded data removed]",
      "text/plain": [
       "<Figure size 864x288 with 2 Axes>"
      ]
     },
     "metadata": {
      "needs_background": "light"
     },
     "output_type": "display_data"
    }
   ],
   "source": [
    "plt.subplots(1, 2, figsize=(12, 4))\n",
    "\n",
    "# Plot hardmax accuracies\n",
    "plt.subplot(1, 2, 1)\n",
    "plt.scatter(ts[1:-1], ACCs[1:-1])\n",
    "plt.plot([0, 30], [ACCs[-1], ACCs[-1]], '--')\n",
    "plt.plot([0, 30], [ACCs[0], ACCs[0]], '--')\n",
    "plt.title(\"Hardmax Accuracy\")\n",
    "plt.xlabel('Threshold (km)')\n",
    "plt.ylabel('Accuracy')\n",
    "plt.legend(labels = ['No Dummies', 'No Threshold'])\n",
    "\n",
    "# Plot softmax APOs\n",
    "plt.subplot(1, 2, 2)\n",
    "plt.scatter(ts[1:-1], APOs[1:-1])\n",
    "plt.plot([0, 30], [APOs[-1], APOs[-1]], '--')\n",
    "plt.plot([0, 30], [APOs[0], APOs[0]], '--')\n",
    "plt.title(\"Softmax APOs\")\n",
    "plt.xlabel('Threshold (km)')\n",
    "plt.ylabel('APO')\n",
    "plt.legend(labels = ['No Dummies', 'No Threshold'])\n",
    "\n",
    "plt.tight_layout()\n",
    "plt.show()"
   ]
  },
  {
   "cell_type": "markdown",
   "metadata": {},
   "source": [
    "Again, it seems that a threshold of around 2km performs best. Let's look at the estimated parameters for that model."
   ]
  },
  {
   "cell_type": "code",
   "execution_count": 25,
   "metadata": {},
   "outputs": [
    {
     "data": {
      "text/html": [
       "<html><head><script src='http://transp-or.epfl.ch/biogeme/sorttable.js'></script><meta http-equiv='Content-Type' content='text/html; charset=utf-8' /><title>Prop_Closest_7_T=2.0 - Report from biogeme 3.2.5 [2020-08-12]</title><meta name='keywords' content='biogeme, discrete choice, random utility'><meta name='description' content='Report from biogeme 3.2.5 [2020-08-12]'><meta name='author' content='Michel Bierlaire'><style type=text/css>.biostyle\t{font-size:10.0pt;\tfont-weight:400;\tfont-style:normal;\tfont-family:Courier;}.boundstyle\t{font-size:10.0pt;\tfont-weight:400;\tfont-style:normal;\tfont-family:Courier;        color:red}</style></head><body bgcolor='#ffffff'><p>biogeme 3.2.5 [2020-08-12]</p>\n",
       "<p><a href='https://www.python.org/' target='_blank'>Python</a> package</p>\n",
       "<p>Home page: <a href='http://biogeme.epfl.ch' target='_blank'>http://biogeme.epfl.ch</a></p>\n",
       "<p>Submit questions to <a href='https://groups.google.com/d/forum/biogeme' target='_blank'>https://groups.google.com/d/forum/biogeme</a></p>\n",
       "<p><a href='http://people.epfl.ch/michel.bierlaire'>Michel Bierlaire</a>, <a href='http://transp-or.epfl.ch'>Transport and Mobility Laboratory</a>, <a href='http://www.epfl.ch'>Ecole Polytechnique F&#233;d&#233;rale de Lausanne (EPFL)</a></p>\n",
       "<p>This file has automatically been generated on 2020-08-12 12:59:31.466584</p>\n",
       "<p>If you drag this HTML file into the Calc application of <a href='http://www.openoffice.org/' target='_blank'>OpenOffice</a>, or the spreadsheet of <a href='https://www.libreoffice.org/' target='_blank'>LibreOffice</a>, you will be able to perform additional calculations.</p>\n",
       "<table>\n",
       "<tr class=biostyle><td align=right><strong>Report file</strong>:\t</td><td>Prop_Closest_7_T=2.0.html</td></tr>\n",
       "<tr class=biostyle><td align=right><strong>Database name</strong>:\t</td><td>SMTO</td></tr>\n",
       "</table>\n",
       "<h1>Estimation report</h1>\n",
       "<table border='0'>\n",
       "<tr class=biostyle><td align=right ><strong>Number of estimated parameters</strong>: </td> <td>4</td></tr>\n",
       "<tr class=biostyle><td align=right ><strong>Sample size</strong>: </td> <td>14478</td></tr>\n",
       "<tr class=biostyle><td align=right ><strong>Excluded observations</strong>: </td> <td>0</td></tr>\n",
       "<tr class=biostyle><td align=right ><strong>Init log likelihood</strong>: </td> <td>-23235.09</td></tr>\n",
       "<tr class=biostyle><td align=right ><strong>Final log likelihood</strong>: </td> <td>-19507.5</td></tr>\n",
       "<tr class=biostyle><td align=right ><strong>Likelihood ratio test for the init. model</strong>: </td> <td>7455.185</td></tr>\n",
       "<tr class=biostyle><td align=right ><strong>Rho-square for the init. model</strong>: </td> <td>0.16</td></tr>\n",
       "<tr class=biostyle><td align=right ><strong>Rho-square-bar for the init. model</strong>: </td> <td>0.16</td></tr>\n",
       "<tr class=biostyle><td align=right ><strong>Akaike Information Criterion</strong>: </td> <td>39022.99</td></tr>\n",
       "<tr class=biostyle><td align=right ><strong>Bayesian Information Criterion</strong>: </td> <td>39053.31</td></tr>\n",
       "<tr class=biostyle><td align=right ><strong>Final gradient norm</strong>: </td> <td>1.8685E-03</td></tr>\n",
       "<tr class=biostyle><td align=right ><strong>Diagnostic</strong>: </td> <td>b'CONVERGENCE: NORM_OF_PROJECTED_GRADIENT_<=_PGTOL'</td></tr>\n",
       "<tr class=biostyle><td align=right ><strong>Database readings</strong>: </td> <td>29</td></tr>\n",
       "<tr class=biostyle><td align=right ><strong>Iterations</strong>: </td> <td>24</td></tr>\n",
       "<tr class=biostyle><td align=right ><strong>Optimization time</strong>: </td> <td>0:00:05.012733</td></tr>\n",
       "<tr class=biostyle><td align=right ><strong>Nbr of threads</strong>: </td> <td>4</td></tr>\n",
       "</table>\n",
       "<h1>Estimated parameters</h1>\n",
       "<p><font size='-1'>Click on the headers of the columns to sort the table  [<a href='http://www.kryogenix.org/code/browser/sorttable/' target='_blank'>Credits</a>]</font></p>\n",
       "<table border='1' class='sortable'>\n",
       "<tr class=biostyle><th>Name</th><th>Value</th><th>Std err</th><th>t-test</th><th>p-value</th><th>Rob. Std err</th><th>Rob. t-test</th><th>Rob. p-value</th></tr>\n",
       "<tr class=biostyle><td>B_CLOSEST</td><td>1.02</td><td>0.0448</td><td>22.8</td><td>0</td><td>0.0419</td><td>24.4</td><td>0</td></tr>\n",
       "<tr class=biostyle><td>B_DIST</td><td>-0.095</td><td>0.00234</td><td>-40.5</td><td>0</td><td>0.00253</td><td>-37.5</td><td>0</td></tr>\n",
       "<tr class=biostyle><td>B_ENROL</td><td>0.767</td><td>0.0103</td><td>74.5</td><td>0</td><td>0.00951</td><td>80.7</td><td>0</td></tr>\n",
       "<tr class=biostyle><td>B_FAM_DIST</td><td>0.0315</td><td>0.00266</td><td>11.8</td><td>0</td><td>0.00281</td><td>11.2</td><td>0</td></tr>\n",
       "</table>\n",
       "<h2>Correlation of coefficients</h2>\n",
       "<p><font size='-1'>Click on the headers of the columns to sort the table [<a href='http://www.kryogenix.org/code/browser/sorttable/' target='_blank'>Credits</a>]</font></p>\n",
       "<table border='1' class='sortable'>\n",
       "<tr class=biostyle><th>Coefficient1</th><th>Coefficient2</th><th>Covariance</th><th>Correlation</th><th>t-test</th><th>p-value</th><th>Rob. cov.</th><th>Rob. corr.</th><th>Rob. t-test</th><th>Rob. p-value</th></tr>\n",
       "<tr class=biostyle><td>B_DIST</td><td>B_CLOSEST</td><td>3.84e-05</td><td>0.365</td><td>-25.3</td><td>0</td><td>4.42e-05</td><td>0.416</td><td>-27.3</td><td>0</td></tr>\n",
       "<tr class=biostyle><td>B_ENROL</td><td>B_CLOSEST</td><td>3.39e-05</td><td>0.0735</td><td>-5.59</td><td>2.21e-08</td><td>3.39e-05</td><td>0.0851</td><td>-6.01</td><td>1.9e-09</td></tr>\n",
       "<tr class=biostyle><td>B_ENROL</td><td>B_DIST</td><td>3.92e-07</td><td>0.0162</td><td>81.9</td><td>0</td><td>-2.15e-06</td><td>-0.0893</td><td>85.8</td><td>0</td></tr>\n",
       "<tr class=biostyle><td>B_FAM_DIST</td><td>B_CLOSEST</td><td>-3.58e-05</td><td>-0.3</td><td>-21.6</td><td>0</td><td>-4.24e-05</td><td>-0.361</td><td>-23</td><td>0</td></tr>\n",
       "<tr class=biostyle><td>B_FAM_DIST</td><td>B_DIST</td><td>-5.44e-06</td><td>-0.873</td><td>26.1</td><td>0</td><td>-6.33e-06</td><td>-0.89</td><td>24.4</td><td>0</td></tr>\n",
       "<tr class=biostyle><td>B_FAM_DIST</td><td>B_ENROL</td><td>-1.68e-06</td><td>-0.0614</td><td>-68.2</td><td>0</td><td>1.11e-06</td><td>0.0414</td><td>-75.1</td><td>0</td></tr>\n",
       "</table>\n",
       "<p>Smallest eigenvalue: 496.928</p>\n",
       "<p>Smallest singular value: 496.928</p>\n",
       "</html>"
      ],
      "text/plain": [
       "<IPython.core.display.HTML object>"
      ]
     },
     "execution_count": 25,
     "metadata": {},
     "output_type": "execute_result"
    }
   ],
   "source": [
    "HTML(filename= \"Prop_Closest_7_T=\" + str(float(best_threshold)) + \".html\")"
   ]
  },
  {
   "cell_type": "markdown",
   "metadata": {},
   "source": [
    "Once again, the parameters have the expected signs and are statistically significant."
   ]
  }
 ],
 "metadata": {
  "kernelspec": {
   "display_name": "Python 3",
   "language": "python",
   "name": "python3"
  },
  "language_info": {
   "codemirror_mode": {
    "name": "ipython",
    "version": 3
   },
   "file_extension": ".py",
   "mimetype": "text/x-python",
   "name": "python",
   "nbconvert_exporter": "python",
   "pygments_lexer": "ipython3",
   "version": "3.7.6"
  }
 },
 "nbformat": 4,
 "nbformat_minor": 2
}
