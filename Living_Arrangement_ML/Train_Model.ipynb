{
 "cells": [
  {
   "cell_type": "markdown",
   "metadata": {},
   "source": [
    "We had originally trained a classifier model using ML.NET's Model Builder tool in Visual Studio. The selected model was a `LightGbmBinary` classifier. That model had an accuracy of 91.65%, an AUC of 97%, and an F1-score of 92.47%.\n",
    "\n",
    "Here, we train our own light gradient-boosting machine using Python's `lightgbm` package. The documentation for this package is available at https://lightgbm.readthedocs.io/en/latest/index.html. We use the trained model to predict living arrangements for the 2016 TTS sample.\n",
    "\n",
    "First, we prepare the input data."
   ]
  },
  {
   "cell_type": "code",
   "execution_count": 1,
   "metadata": {},
   "outputs": [
    {
     "data": {
      "text/html": [
       "<div>\n",
       "<style scoped>\n",
       "    .dataframe tbody tr th:only-of-type {\n",
       "        vertical-align: middle;\n",
       "    }\n",
       "\n",
       "    .dataframe tbody tr th {\n",
       "        vertical-align: top;\n",
       "    }\n",
       "\n",
       "    .dataframe thead th {\n",
       "        text-align: right;\n",
       "    }\n",
       "</style>\n",
       "<table border=\"1\" class=\"dataframe\">\n",
       "  <thead>\n",
       "    <tr style=\"text-align: right;\">\n",
       "      <th></th>\n",
       "      <th>Cars</th>\n",
       "      <th>Children</th>\n",
       "      <th>Adults</th>\n",
       "      <th>Age</th>\n",
       "      <th>Licence</th>\n",
       "      <th>Distance</th>\n",
       "      <th>PD</th>\n",
       "      <th>Income_Lo</th>\n",
       "      <th>Income_Hi</th>\n",
       "      <th>Status_PT</th>\n",
       "      <th>Status_FT</th>\n",
       "      <th>Work_PT</th>\n",
       "      <th>Work_FT</th>\n",
       "      <th>Work_NW</th>\n",
       "      <th>Transit</th>\n",
       "      <th>Active</th>\n",
       "      <th>Auto</th>\n",
       "    </tr>\n",
       "  </thead>\n",
       "  <tbody>\n",
       "    <tr>\n",
       "      <th>count</th>\n",
       "      <td>14478.000000</td>\n",
       "      <td>14478.000000</td>\n",
       "      <td>14478.000000</td>\n",
       "      <td>14478.000000</td>\n",
       "      <td>14478.000000</td>\n",
       "      <td>14478.000000</td>\n",
       "      <td>14478.000000</td>\n",
       "      <td>14478.000000</td>\n",
       "      <td>14478.000000</td>\n",
       "      <td>14478.000000</td>\n",
       "      <td>14478.000000</td>\n",
       "      <td>14478.000000</td>\n",
       "      <td>14478.000000</td>\n",
       "      <td>14478.000000</td>\n",
       "      <td>14478.000000</td>\n",
       "      <td>14478.000000</td>\n",
       "      <td>14478.000000</td>\n",
       "    </tr>\n",
       "    <tr>\n",
       "      <th>mean</th>\n",
       "      <td>1.132822</td>\n",
       "      <td>0.363103</td>\n",
       "      <td>3.025970</td>\n",
       "      <td>23.330847</td>\n",
       "      <td>0.597665</td>\n",
       "      <td>14.632733</td>\n",
       "      <td>14.865106</td>\n",
       "      <td>0.233527</td>\n",
       "      <td>0.169153</td>\n",
       "      <td>0.071281</td>\n",
       "      <td>0.928719</td>\n",
       "      <td>0.107750</td>\n",
       "      <td>0.015748</td>\n",
       "      <td>0.107335</td>\n",
       "      <td>0.638141</td>\n",
       "      <td>0.262813</td>\n",
       "      <td>0.090758</td>\n",
       "    </tr>\n",
       "    <tr>\n",
       "      <th>std</th>\n",
       "      <td>1.057430</td>\n",
       "      <td>0.735251</td>\n",
       "      <td>1.428023</td>\n",
       "      <td>6.877053</td>\n",
       "      <td>0.490386</td>\n",
       "      <td>13.307684</td>\n",
       "      <td>13.708582</td>\n",
       "      <td>0.423089</td>\n",
       "      <td>0.374900</td>\n",
       "      <td>0.257302</td>\n",
       "      <td>0.257302</td>\n",
       "      <td>0.310075</td>\n",
       "      <td>0.124503</td>\n",
       "      <td>0.309550</td>\n",
       "      <td>0.480555</td>\n",
       "      <td>0.440177</td>\n",
       "      <td>0.287275</td>\n",
       "    </tr>\n",
       "    <tr>\n",
       "      <th>min</th>\n",
       "      <td>0.000000</td>\n",
       "      <td>0.000000</td>\n",
       "      <td>0.000000</td>\n",
       "      <td>0.000000</td>\n",
       "      <td>0.000000</td>\n",
       "      <td>0.000000</td>\n",
       "      <td>0.000000</td>\n",
       "      <td>0.000000</td>\n",
       "      <td>0.000000</td>\n",
       "      <td>0.000000</td>\n",
       "      <td>0.000000</td>\n",
       "      <td>0.000000</td>\n",
       "      <td>0.000000</td>\n",
       "      <td>0.000000</td>\n",
       "      <td>0.000000</td>\n",
       "      <td>0.000000</td>\n",
       "      <td>0.000000</td>\n",
       "    </tr>\n",
       "    <tr>\n",
       "      <th>25%</th>\n",
       "      <td>0.000000</td>\n",
       "      <td>0.000000</td>\n",
       "      <td>2.000000</td>\n",
       "      <td>19.000000</td>\n",
       "      <td>0.000000</td>\n",
       "      <td>3.165649</td>\n",
       "      <td>2.000000</td>\n",
       "      <td>0.000000</td>\n",
       "      <td>0.000000</td>\n",
       "      <td>0.000000</td>\n",
       "      <td>1.000000</td>\n",
       "      <td>0.000000</td>\n",
       "      <td>0.000000</td>\n",
       "      <td>0.000000</td>\n",
       "      <td>0.000000</td>\n",
       "      <td>0.000000</td>\n",
       "      <td>0.000000</td>\n",
       "    </tr>\n",
       "    <tr>\n",
       "      <th>50%</th>\n",
       "      <td>1.000000</td>\n",
       "      <td>0.000000</td>\n",
       "      <td>3.000000</td>\n",
       "      <td>21.000000</td>\n",
       "      <td>1.000000</td>\n",
       "      <td>11.743690</td>\n",
       "      <td>10.000000</td>\n",
       "      <td>0.000000</td>\n",
       "      <td>0.000000</td>\n",
       "      <td>0.000000</td>\n",
       "      <td>1.000000</td>\n",
       "      <td>0.000000</td>\n",
       "      <td>0.000000</td>\n",
       "      <td>0.000000</td>\n",
       "      <td>1.000000</td>\n",
       "      <td>0.000000</td>\n",
       "      <td>0.000000</td>\n",
       "    </tr>\n",
       "    <tr>\n",
       "      <th>75%</th>\n",
       "      <td>2.000000</td>\n",
       "      <td>1.000000</td>\n",
       "      <td>4.000000</td>\n",
       "      <td>25.000000</td>\n",
       "      <td>1.000000</td>\n",
       "      <td>23.085450</td>\n",
       "      <td>31.000000</td>\n",
       "      <td>0.000000</td>\n",
       "      <td>0.000000</td>\n",
       "      <td>0.000000</td>\n",
       "      <td>1.000000</td>\n",
       "      <td>0.000000</td>\n",
       "      <td>0.000000</td>\n",
       "      <td>0.000000</td>\n",
       "      <td>1.000000</td>\n",
       "      <td>1.000000</td>\n",
       "      <td>0.000000</td>\n",
       "    </tr>\n",
       "    <tr>\n",
       "      <th>max</th>\n",
       "      <td>9.000000</td>\n",
       "      <td>18.000000</td>\n",
       "      <td>16.000000</td>\n",
       "      <td>99.000000</td>\n",
       "      <td>1.000000</td>\n",
       "      <td>106.593800</td>\n",
       "      <td>46.000000</td>\n",
       "      <td>1.000000</td>\n",
       "      <td>1.000000</td>\n",
       "      <td>1.000000</td>\n",
       "      <td>1.000000</td>\n",
       "      <td>1.000000</td>\n",
       "      <td>1.000000</td>\n",
       "      <td>1.000000</td>\n",
       "      <td>1.000000</td>\n",
       "      <td>1.000000</td>\n",
       "      <td>1.000000</td>\n",
       "    </tr>\n",
       "  </tbody>\n",
       "</table>\n",
       "</div>"
      ],
      "text/plain": [
       "               Cars      Children        Adults           Age       Licence  \\\n",
       "count  14478.000000  14478.000000  14478.000000  14478.000000  14478.000000   \n",
       "mean       1.132822      0.363103      3.025970     23.330847      0.597665   \n",
       "std        1.057430      0.735251      1.428023      6.877053      0.490386   \n",
       "min        0.000000      0.000000      0.000000      0.000000      0.000000   \n",
       "25%        0.000000      0.000000      2.000000     19.000000      0.000000   \n",
       "50%        1.000000      0.000000      3.000000     21.000000      1.000000   \n",
       "75%        2.000000      1.000000      4.000000     25.000000      1.000000   \n",
       "max        9.000000     18.000000     16.000000     99.000000      1.000000   \n",
       "\n",
       "           Distance            PD     Income_Lo     Income_Hi     Status_PT  \\\n",
       "count  14478.000000  14478.000000  14478.000000  14478.000000  14478.000000   \n",
       "mean      14.632733     14.865106      0.233527      0.169153      0.071281   \n",
       "std       13.307684     13.708582      0.423089      0.374900      0.257302   \n",
       "min        0.000000      0.000000      0.000000      0.000000      0.000000   \n",
       "25%        3.165649      2.000000      0.000000      0.000000      0.000000   \n",
       "50%       11.743690     10.000000      0.000000      0.000000      0.000000   \n",
       "75%       23.085450     31.000000      0.000000      0.000000      0.000000   \n",
       "max      106.593800     46.000000      1.000000      1.000000      1.000000   \n",
       "\n",
       "          Status_FT       Work_PT       Work_FT       Work_NW       Transit  \\\n",
       "count  14478.000000  14478.000000  14478.000000  14478.000000  14478.000000   \n",
       "mean       0.928719      0.107750      0.015748      0.107335      0.638141   \n",
       "std        0.257302      0.310075      0.124503      0.309550      0.480555   \n",
       "min        0.000000      0.000000      0.000000      0.000000      0.000000   \n",
       "25%        1.000000      0.000000      0.000000      0.000000      0.000000   \n",
       "50%        1.000000      0.000000      0.000000      0.000000      1.000000   \n",
       "75%        1.000000      0.000000      0.000000      0.000000      1.000000   \n",
       "max        1.000000      1.000000      1.000000      1.000000      1.000000   \n",
       "\n",
       "             Active          Auto  \n",
       "count  14478.000000  14478.000000  \n",
       "mean       0.262813      0.090758  \n",
       "std        0.440177      0.287275  \n",
       "min        0.000000      0.000000  \n",
       "25%        0.000000      0.000000  \n",
       "50%        0.000000      0.000000  \n",
       "75%        1.000000      0.000000  \n",
       "max        1.000000      1.000000  "
      ]
     },
     "execution_count": 1,
     "metadata": {},
     "output_type": "execute_result"
    }
   ],
   "source": [
    "import pandas as pd\n",
    "df = pd.read_csv('../Data/SMTO_2015/Formatted.csv')\n",
    "y = df['Family'].values\n",
    "\n",
    "df['Distance'] = df.apply(lambda x: x['Dist.' + x['School']], axis=1)\n",
    "\n",
    "df = df[['Cars', 'Children', 'Adults', 'Income', 'Age', 'Status', 'Licence', 'Distance', 'Work', 'Mode', 'PD']]\n",
    "\n",
    "df['Income_Lo'] = (df['Income'] == 'Low').astype(int)\n",
    "df['Income_Hi'] = (df['Income'] == 'High').astype(int)\n",
    "\n",
    "df['Status_PT'] = (df['Status'] == 'PT').astype(int)\n",
    "df['Status_FT'] = (df['Status'] == 'FT').astype(int)\n",
    "\n",
    "df['Work_PT'] = (df['Work'].str.startswith('Yes, I work p')).astype(int)\n",
    "df['Work_FT'] = (df['Work'].str.startswith('Yes') & (df['Work_PT'] == 0)).astype(int)\n",
    "df['Work_NW'] = (df['Work'].str.startswith('No')).astype(int)\n",
    "\n",
    "df['Transit'] = (df['Mode'] == 'Transit').astype(int)\n",
    "df['Active'] = (df['Mode'] == 'Active').astype(int)\n",
    "df['Auto'] = (df['Mode'] == 'Auto').astype(int)\n",
    "\n",
    "df.drop(['Income', 'Status', 'Work', 'Mode'], inplace=True, axis=1) \n",
    "df.describe()"
   ]
  },
  {
   "cell_type": "markdown",
   "metadata": {},
   "source": [
    "We separate the data into training and testing sets."
   ]
  },
  {
   "cell_type": "code",
   "execution_count": 2,
   "metadata": {},
   "outputs": [],
   "source": [
    "from sklearn.model_selection import train_test_split\n",
    "x = df.values\n",
    "x_train, x_test, y_train, y_test = train_test_split(x, y, test_size=0.2)"
   ]
  },
  {
   "cell_type": "markdown",
   "metadata": {},
   "source": [
    "Now, we run the gradient-boosting machine."
   ]
  },
  {
   "cell_type": "code",
   "execution_count": 3,
   "metadata": {},
   "outputs": [
    {
     "name": "stdout",
     "output_type": "stream",
     "text": [
      "[1]\tvalid_0's auc: 0.955809\tvalid_0's binary_logloss: 0.615472\n",
      "Training until validation scores don't improve for 5 rounds\n",
      "[2]\tvalid_0's auc: 0.958698\tvalid_0's binary_logloss: 0.560801\n",
      "[3]\tvalid_0's auc: 0.959713\tvalid_0's binary_logloss: 0.515355\n",
      "[4]\tvalid_0's auc: 0.960434\tvalid_0's binary_logloss: 0.477378\n",
      "[5]\tvalid_0's auc: 0.960987\tvalid_0's binary_logloss: 0.445495\n",
      "[6]\tvalid_0's auc: 0.962319\tvalid_0's binary_logloss: 0.41705\n",
      "[7]\tvalid_0's auc: 0.962685\tvalid_0's binary_logloss: 0.39307\n",
      "[8]\tvalid_0's auc: 0.962749\tvalid_0's binary_logloss: 0.372882\n",
      "[9]\tvalid_0's auc: 0.962745\tvalid_0's binary_logloss: 0.355145\n",
      "[10]\tvalid_0's auc: 0.962952\tvalid_0's binary_logloss: 0.339703\n",
      "[11]\tvalid_0's auc: 0.963558\tvalid_0's binary_logloss: 0.325754\n",
      "[12]\tvalid_0's auc: 0.963672\tvalid_0's binary_logloss: 0.313817\n",
      "[13]\tvalid_0's auc: 0.963991\tvalid_0's binary_logloss: 0.302897\n",
      "[14]\tvalid_0's auc: 0.965214\tvalid_0's binary_logloss: 0.293517\n",
      "[15]\tvalid_0's auc: 0.966591\tvalid_0's binary_logloss: 0.285049\n",
      "[16]\tvalid_0's auc: 0.966701\tvalid_0's binary_logloss: 0.277442\n",
      "[17]\tvalid_0's auc: 0.966738\tvalid_0's binary_logloss: 0.270989\n",
      "[18]\tvalid_0's auc: 0.966907\tvalid_0's binary_logloss: 0.264996\n",
      "[19]\tvalid_0's auc: 0.967386\tvalid_0's binary_logloss: 0.259846\n",
      "[20]\tvalid_0's auc: 0.967561\tvalid_0's binary_logloss: 0.255245\n",
      "[21]\tvalid_0's auc: 0.968415\tvalid_0's binary_logloss: 0.250931\n",
      "[22]\tvalid_0's auc: 0.968672\tvalid_0's binary_logloss: 0.247078\n",
      "[23]\tvalid_0's auc: 0.969052\tvalid_0's binary_logloss: 0.24358\n",
      "[24]\tvalid_0's auc: 0.969105\tvalid_0's binary_logloss: 0.240565\n",
      "[25]\tvalid_0's auc: 0.969056\tvalid_0's binary_logloss: 0.238068\n",
      "[26]\tvalid_0's auc: 0.96969\tvalid_0's binary_logloss: 0.235514\n",
      "[27]\tvalid_0's auc: 0.969679\tvalid_0's binary_logloss: 0.233448\n",
      "[28]\tvalid_0's auc: 0.969825\tvalid_0's binary_logloss: 0.231643\n",
      "[29]\tvalid_0's auc: 0.969992\tvalid_0's binary_logloss: 0.229423\n",
      "[30]\tvalid_0's auc: 0.969997\tvalid_0's binary_logloss: 0.228138\n",
      "[31]\tvalid_0's auc: 0.970235\tvalid_0's binary_logloss: 0.226794\n",
      "[32]\tvalid_0's auc: 0.970465\tvalid_0's binary_logloss: 0.225524\n",
      "[33]\tvalid_0's auc: 0.970499\tvalid_0's binary_logloss: 0.224685\n",
      "[34]\tvalid_0's auc: 0.970502\tvalid_0's binary_logloss: 0.223978\n",
      "[35]\tvalid_0's auc: 0.970466\tvalid_0's binary_logloss: 0.22314\n",
      "[36]\tvalid_0's auc: 0.970559\tvalid_0's binary_logloss: 0.222475\n",
      "[37]\tvalid_0's auc: 0.970567\tvalid_0's binary_logloss: 0.221954\n",
      "[38]\tvalid_0's auc: 0.970516\tvalid_0's binary_logloss: 0.22163\n",
      "[39]\tvalid_0's auc: 0.970553\tvalid_0's binary_logloss: 0.221099\n",
      "[40]\tvalid_0's auc: 0.970616\tvalid_0's binary_logloss: 0.220662\n",
      "[41]\tvalid_0's auc: 0.970573\tvalid_0's binary_logloss: 0.22012\n",
      "[42]\tvalid_0's auc: 0.970794\tvalid_0's binary_logloss: 0.219275\n",
      "[43]\tvalid_0's auc: 0.970905\tvalid_0's binary_logloss: 0.218526\n",
      "[44]\tvalid_0's auc: 0.97091\tvalid_0's binary_logloss: 0.218094\n",
      "[45]\tvalid_0's auc: 0.970828\tvalid_0's binary_logloss: 0.218057\n",
      "[46]\tvalid_0's auc: 0.970905\tvalid_0's binary_logloss: 0.217728\n",
      "[47]\tvalid_0's auc: 0.970942\tvalid_0's binary_logloss: 0.217397\n",
      "[48]\tvalid_0's auc: 0.97085\tvalid_0's binary_logloss: 0.217188\n",
      "[49]\tvalid_0's auc: 0.970924\tvalid_0's binary_logloss: 0.216729\n",
      "[50]\tvalid_0's auc: 0.970943\tvalid_0's binary_logloss: 0.216514\n",
      "[51]\tvalid_0's auc: 0.970909\tvalid_0's binary_logloss: 0.216435\n",
      "[52]\tvalid_0's auc: 0.970996\tvalid_0's binary_logloss: 0.216181\n",
      "[53]\tvalid_0's auc: 0.971005\tvalid_0's binary_logloss: 0.216017\n",
      "[54]\tvalid_0's auc: 0.970996\tvalid_0's binary_logloss: 0.215683\n",
      "[55]\tvalid_0's auc: 0.970986\tvalid_0's binary_logloss: 0.215476\n",
      "[56]\tvalid_0's auc: 0.971142\tvalid_0's binary_logloss: 0.215207\n",
      "[57]\tvalid_0's auc: 0.971182\tvalid_0's binary_logloss: 0.214884\n",
      "[58]\tvalid_0's auc: 0.971223\tvalid_0's binary_logloss: 0.214705\n",
      "[59]\tvalid_0's auc: 0.971155\tvalid_0's binary_logloss: 0.214886\n",
      "[60]\tvalid_0's auc: 0.971\tvalid_0's binary_logloss: 0.215131\n",
      "[61]\tvalid_0's auc: 0.970996\tvalid_0's binary_logloss: 0.215022\n",
      "[62]\tvalid_0's auc: 0.970902\tvalid_0's binary_logloss: 0.215159\n",
      "[63]\tvalid_0's auc: 0.970892\tvalid_0's binary_logloss: 0.215107\n",
      "Early stopping, best iteration is:\n",
      "[58]\tvalid_0's auc: 0.971223\tvalid_0's binary_logloss: 0.214705\n"
     ]
    }
   ],
   "source": [
    "import lightgbm as lgb\n",
    "train = lgb.Dataset(x_train, label=y_train)\n",
    "test = lgb.Dataset(x_test, label=y_test)\n",
    "parameters = {'objective': 'binary', 'metric': ['auc', 'binary_logloss']}\n",
    "model = lgb.train(parameters, train, 1000, valid_sets=test, early_stopping_rounds=5)"
   ]
  },
  {
   "cell_type": "markdown",
   "metadata": {},
   "source": [
    "We use the trained model to predict living arrangement based on the testing set."
   ]
  },
  {
   "cell_type": "code",
   "execution_count": 4,
   "metadata": {},
   "outputs": [
    {
     "data": {
      "text/plain": [
       "array([0.98868852, 0.09815509, 0.06061947, ..., 0.9404712 , 0.01818379,\n",
       "       0.92960969])"
      ]
     },
     "execution_count": 4,
     "metadata": {},
     "output_type": "execute_result"
    }
   ],
   "source": [
    "y_pred = model.predict(x_test, num_iteration=model.best_iteration)\n",
    "y_pred"
   ]
  },
  {
   "cell_type": "markdown",
   "metadata": {},
   "source": [
    "Let us look at the confusion matrix and accuracy of our model."
   ]
  },
  {
   "cell_type": "code",
   "execution_count": 5,
   "metadata": {},
   "outputs": [
    {
     "name": "stdout",
     "output_type": "stream",
     "text": [
      "Accuracy:  91.75 %\n",
      "F-1 Score: 92.79 %\n"
     ]
    },
    {
     "data": {
      "text/html": [
       "<div>\n",
       "<style scoped>\n",
       "    .dataframe tbody tr th:only-of-type {\n",
       "        vertical-align: middle;\n",
       "    }\n",
       "\n",
       "    .dataframe tbody tr th {\n",
       "        vertical-align: top;\n",
       "    }\n",
       "\n",
       "    .dataframe thead th {\n",
       "        text-align: right;\n",
       "    }\n",
       "</style>\n",
       "<table border=\"1\" class=\"dataframe\">\n",
       "  <thead>\n",
       "    <tr style=\"text-align: right;\">\n",
       "      <th></th>\n",
       "      <th>0</th>\n",
       "      <th>1</th>\n",
       "    </tr>\n",
       "  </thead>\n",
       "  <tbody>\n",
       "    <tr>\n",
       "      <th>0</th>\n",
       "      <td>1118</td>\n",
       "      <td>122</td>\n",
       "    </tr>\n",
       "    <tr>\n",
       "      <th>1</th>\n",
       "      <td>117</td>\n",
       "      <td>1539</td>\n",
       "    </tr>\n",
       "  </tbody>\n",
       "</table>\n",
       "</div>"
      ],
      "text/plain": [
       "      0     1\n",
       "0  1118   122\n",
       "1   117  1539"
      ]
     },
     "execution_count": 5,
     "metadata": {},
     "output_type": "execute_result"
    }
   ],
   "source": [
    "from numpy import diag\n",
    "from sklearn.metrics import confusion_matrix, f1_score\n",
    "preds = [1 if i >= 0.5 else 0 for i in y_pred]\n",
    "cm = confusion_matrix(y_test, preds)\n",
    "print(\"Accuracy:  {:.2f} %\".format(sum(diag(cm))/sum(sum(cm)) * 100))\n",
    "print(\"F-1 Score: {:.2f} %\".format(f1_score(y_test, preds) * 100))\n",
    "pd.DataFrame(cm)"
   ]
  },
  {
   "cell_type": "markdown",
   "metadata": {},
   "source": [
    "Both our accuracy and F-1 score are comparable to our original model. Let us plot the ROC curve for our model and find the area under the curve."
   ]
  },
  {
   "cell_type": "code",
   "execution_count": 6,
   "metadata": {},
   "outputs": [
    {
     "name": "stdout",
     "output_type": "stream",
     "text": [
      "Area under the ROC curve: 0.971\n"
     ]
    },
    {
     "data": {
      "image/png": "[encoded data removed]",
      "text/plain": [
       "<Figure size 432x288 with 1 Axes>"
      ]
     },
     "metadata": {
      "needs_background": "light"
     },
     "output_type": "display_data"
    }
   ],
   "source": [
    "from sklearn.metrics import roc_curve, roc_auc_score\n",
    "import matplotlib.pyplot as plt\n",
    "\n",
    "results = roc_curve(y_test, y_pred)\n",
    "plt.plot(results[0], results[1])\n",
    "\n",
    "plt.xlabel('False Positive Rate')\n",
    "plt.ylabel('True Positive Rate')\n",
    "\n",
    "print('Area under the ROC curve: {:.3}'.format(roc_auc_score(y_test, y_pred)))"
   ]
  },
  {
   "cell_type": "markdown",
   "metadata": {},
   "source": [
    "The area under our ROC curve is also comparable to our previous results. As such, we can accept this model and save it as a `.txt` file."
   ]
  },
  {
   "cell_type": "code",
   "execution_count": 7,
   "metadata": {},
   "outputs": [
    {
     "data": {
      "text/plain": [
       "<lightgbm.basic.Booster at 0x1d91454da08>"
      ]
     },
     "execution_count": 7,
     "metadata": {},
     "output_type": "execute_result"
    }
   ],
   "source": [
    "model.save_model('model.txt')"
   ]
  }
 ],
 "metadata": {
  "kernelspec": {
   "display_name": "Python 3",
   "language": "python",
   "name": "python3"
  },
  "language_info": {
   "codemirror_mode": {
    "name": "ipython",
    "version": 3
   },
   "file_extension": ".py",
   "mimetype": "text/x-python",
   "name": "python",
   "nbconvert_exporter": "python",
   "pygments_lexer": "ipython3",
   "version": "3.7.6"
  }
 },
 "nbformat": 4,
 "nbformat_minor": 4
}
