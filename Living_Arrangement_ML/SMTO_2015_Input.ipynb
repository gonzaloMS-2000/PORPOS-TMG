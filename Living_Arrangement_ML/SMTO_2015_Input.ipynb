{
 "cells": [
  {
   "cell_type": "markdown",
   "metadata": {},
   "source": [
    "# SMTO 2015 Data Transformation\n",
    "\n",
    "In this notebook, I select relevant data from the StudentMoveTO 2015 survey and transofmr it into the format that will be used for the machine learning classification algorithm.\n",
    "\n",
    "This data will be used as training data for the algorithm, which will be a binary classifier to determine whether a given student is living with their family or not. The data used was selected and transformed so that it is directly comparable with data available from the TTS data, as this is the data we wish to use the classifier on.\n",
    "\n",
    "First, let's load the raw data from the `SMTO_2015_Households.csv` and `SMTO_2015_Households.csv` files."
   ]
  },
  {
   "cell_type": "code",
   "execution_count": 1,
   "metadata": {},
   "outputs": [],
   "source": [
    "import pandas as pd\n",
    "hh_df = pd.read_csv('../Data/SMTO_2015/Households.csv')\n",
    "ps_df = pd.read_csv('../Data/SMTO_2015/Respondents.csv')"
   ]
  },
  {
   "cell_type": "markdown",
   "metadata": {},
   "source": [
    "Now, let us take the columns we want and put them in a new dataframe with the data for the machine learning algorithm. We will rename the columns into shorter names in the process."
   ]
  },
  {
   "cell_type": "code",
   "execution_count": 2,
   "metadata": {},
   "outputs": [],
   "source": [
    "# Load Households columns\n",
    "hh_columns = {'hhlivingsituation': 'Family', 'HmTTS2006': 'HomeZone', 'hhcarnumber': 'Cars', 'hhnumyoungerthan18': 'Children', 'hhnumolderorequalto18': 'Adults', 'hhincomelevel': 'Income'}\n",
    "ML_df = hh_df[list(hh_columns.keys())]\n",
    "ML_df = ML_df.rename(columns=hh_columns)\n",
    "\n",
    "# Load Respondents columns\n",
    "ps_columns = {'pscmpgenderkey': 'Gender', 'psage': 'Age', 'personstatustime': 'Status', 'psdrivinglicenseownerflag': 'License', 'psmainmodefalltypical': 'Old_Mode', 'PsFallAllModesInclBus': 'Bus?', 'PsFallAllModesInclGOBus': 'Go Bus?', 'PsFallAllModesInclGOTrain': 'Go Train?', 'PsFallAllModesInclStreetcar': 'Streetcar?', 'PsFallAllModesInclSubway': 'Subway?', 'HomeToMainCampusKM': 'Distance', 'psworknumhoursperweek': 'Employment'}\n",
    "ML_df = ML_df.join(ps_df[list(ps_columns.keys())])\n",
    "ML_df = ML_df.rename(columns=ps_columns)\n",
    " \n",
    "# Clean missing values and values with wrong data type\n",
    "ML_df = ML_df.fillna(value={'Employment': 0})\n",
    "ML_df = ML_df[ML_df['Status'] != 'Other']\n",
    "ML_df = ML_df.dropna(subset=['HomeZone', 'Distance', 'Family'])\n",
    "ML_df['HomeZone'] = ML_df['HomeZone'].astype(int)"
   ]
  },
  {
   "cell_type": "markdown",
   "metadata": {},
   "source": [
    "### Employment Status\n",
    "\n",
    "We need to determine a student's employment status and classify the student according to the following legend:\n",
    "\n",
    "0 - Unknown  \n",
    "1 - Unemployed  \n",
    "2 - Part-time worker (up to 30 hours a week)  \n",
    "3 - Full-time worker (31 or more hours a week)"
   ]
  },
  {
   "cell_type": "code",
   "execution_count": 3,
   "metadata": {},
   "outputs": [
    {
     "data": {
      "text/plain": [
       "0    11267\n",
       "2     1586\n",
       "1     1567\n",
       "3      237\n",
       "Name: Employment, dtype: int64"
      ]
     },
     "execution_count": 3,
     "metadata": {},
     "output_type": "execute_result"
    }
   ],
   "source": [
    "employment_conversion = {'Employment': {\"No, I don't work\": 1, \"Yes, I work part time (<10 hours per week)\": 2, \"Yes, I work part time (11-20 hours per week)\": 2, \"Yes, I work part time (21-30 hours per week)\": 2, \"Yes, I work 31-40 hours per week\": 3, \"Yes, I work > 40 hours per week\": 3}}\n",
    "ML_df.replace(employment_conversion, inplace=True)\n",
    "ML_df['Employment'].value_counts()"
   ]
  },
  {
   "cell_type": "markdown",
   "metadata": {},
   "source": [
    "### Enrolment Status\n",
    "\n",
    "We need to determine a student's enrolment status and classify the student according to the following legend:\n",
    "\n",
    "0 - Other  \n",
    "1 - Part-time student  \n",
    "2 - Full-time student"
   ]
  },
  {
   "cell_type": "code",
   "execution_count": 4,
   "metadata": {},
   "outputs": [
    {
     "data": {
      "text/plain": [
       "2    13593\n",
       "1     1064\n",
       "Name: Status, dtype: int64"
      ]
     },
     "execution_count": 4,
     "metadata": {},
     "output_type": "execute_result"
    }
   ],
   "source": [
    "ML_df.replace({'Status': {'FT': 2, 'PT': 1, 'Other':0}}, inplace=True)\n",
    "ML_df['Status'].value_counts()"
   ]
  },
  {
   "cell_type": "markdown",
   "metadata": {},
   "source": [
    "### Household Income\n",
    "\n",
    "We need to classify students according to their reported household income. To align the income ranges with those from TTS, we partition the students into three brackets by income level as follows:\n",
    "\n",
    "0 - Unknown/unreported  \n",
    "1 - Low (up to 60,000)  \n",
    "2 - High (over 60,000)"
   ]
  },
  {
   "cell_type": "code",
   "execution_count": 5,
   "metadata": {},
   "outputs": [
    {
     "data": {
      "text/plain": [
       "0    8756\n",
       "1    3404\n",
       "2    2497\n",
       "Name: Income, dtype: int64"
      ]
     },
     "execution_count": 5,
     "metadata": {},
     "output_type": "execute_result"
    }
   ],
   "source": [
    "income_conversion = {'Income': {'Unknown': 0, 'Less than $ 30,000': 1, \"I donâ€™t know\": 0, \"$ 30,000 - 59,999\": 1, \"$ 60,000 - 89,999\": 2, \"$ 90,000 - 119,999\": 2, \"$ 120,000 - 149,999\": 2, \"$ 150,000 - 179,999\": 2, \"$ 240,000 +\": 2, \"$ 180,000 - 209,999\": 2, \"$ 210,000 - 239,999\": 2}}\n",
    "ML_df.replace(income_conversion, inplace=True)\n",
    "ML_df['Income'].value_counts()"
   ]
  },
  {
   "cell_type": "markdown",
   "metadata": {},
   "source": [
    "### Commute Mode Choice\n",
    "\n",
    "We need to classify students according to their typical commute mode. To align the modes with those from TTS, we use the following partition:\n",
    "\n",
    "0 - Unknown/Do not travel  \n",
    "1 - Public transit (not GO Rail)  \n",
    "2 - Bicycle  \n",
    "3 - Driver (alone or with a passenger)  \n",
    "4 - Only GO Train  \n",
    "5 - GO Train and other public transit  \n",
    "6 - Motorcycle  \n",
    "7 - Other (including paratransit and intercampus shuttle)  \n",
    "8 - Car passenger  \n",
    "9 - Taxi  \n",
    "10 - Walking"
   ]
  },
  {
   "cell_type": "code",
   "execution_count": 6,
   "metadata": {},
   "outputs": [
    {
     "data": {
      "text/plain": [
       "1     8182\n",
       "10    2805\n",
       "3     1066\n",
       "2     1002\n",
       "5      938\n",
       "8      313\n",
       "4      200\n",
       "7      109\n",
       "6       15\n",
       "0       15\n",
       "9       12\n",
       "Name: Mode, dtype: int64"
      ]
     },
     "execution_count": 6,
     "metadata": {},
     "output_type": "execute_result"
    }
   ],
   "source": [
    "mode_conversion = {'Old_Mode': {'Subway/RT': 1, \"Transit Bus\": 1, \"Walk\": 10, \"Bicycle\": 2, \"Car - Driver alone\": 3, \"GO Bus\": 1, \"Streetcar\": 1, \"Car - Passenger\": 8, \"Car - Driver with passenger(s)\": 3, \"Intercampus Shuttle\": 7, \"Other\": 7, \"I do not travel to the university (distance learners only)\": 0, \"Motorcycle, moped or scooter\": 6, \"Taxi\": 9, \"Paratransit\": 7}}\n",
    "ML_df.replace(mode_conversion, inplace=True)\n",
    "ML_df['OtherTransit?'] = (ML_df['Bus?']) | (ML_df['Go Bus?']) | (ML_df['Streetcar?']) | (ML_df['Subway?'])\n",
    "ML_df['Mode'] = ML_df.apply(lambda row: row['Old_Mode'] if (row['Old_Mode'] != 'GO Train') else (5 if row['OtherTransit?'] else 4), axis = 1)\n",
    "ML_df = ML_df.drop(columns=['Bus?', 'Go Bus?', 'Streetcar?', 'Subway?', 'Go Train?', 'OtherTransit?', 'Old_Mode'])\n",
    "ML_df['Mode'].value_counts()"
   ]
  },
  {
   "cell_type": "markdown",
   "metadata": {},
   "source": [
    "### Living Arrangment\n",
    "\n",
    "The label which the machine learning algorithm will predict is whether or not a student is living with their family. We store this data in a column containing Boolean values: 1 if the student is living with their family and 0 otherwise."
   ]
  },
  {
   "cell_type": "code",
   "execution_count": 7,
   "metadata": {},
   "outputs": [
    {
     "data": {
      "text/plain": [
       "1    8333\n",
       "0    6324\n",
       "Name: Family, dtype: int64"
      ]
     },
     "execution_count": 7,
     "metadata": {},
     "output_type": "execute_result"
    }
   ],
   "source": [
    "ML_df['Family'] = (ML_df['Family'] == \"Live with family/parents\") * 1\n",
    "ML_df['Family'].value_counts()"
   ]
  },
  {
   "cell_type": "markdown",
   "metadata": {},
   "source": [
    "## Exporting to File\n",
    "\n",
    "We have the following dataframe:"
   ]
  },
  {
   "cell_type": "code",
   "execution_count": 8,
   "metadata": {},
   "outputs": [
    {
     "data": {
      "text/html": [
       "<div>\n",
       "<style scoped>\n",
       "    .dataframe tbody tr th:only-of-type {\n",
       "        vertical-align: middle;\n",
       "    }\n",
       "\n",
       "    .dataframe tbody tr th {\n",
       "        vertical-align: top;\n",
       "    }\n",
       "\n",
       "    .dataframe thead th {\n",
       "        text-align: right;\n",
       "    }\n",
       "</style>\n",
       "<table border=\"1\" class=\"dataframe\">\n",
       "  <thead>\n",
       "    <tr style=\"text-align: right;\">\n",
       "      <th></th>\n",
       "      <th>Family</th>\n",
       "      <th>HomeZone</th>\n",
       "      <th>Cars</th>\n",
       "      <th>Children</th>\n",
       "      <th>Adults</th>\n",
       "      <th>Income</th>\n",
       "      <th>Gender</th>\n",
       "      <th>Age</th>\n",
       "      <th>Status</th>\n",
       "      <th>License</th>\n",
       "      <th>Distance</th>\n",
       "      <th>Employment</th>\n",
       "      <th>Mode</th>\n",
       "    </tr>\n",
       "  </thead>\n",
       "  <tbody>\n",
       "    <tr>\n",
       "      <th>0</th>\n",
       "      <td>1</td>\n",
       "      <td>261</td>\n",
       "      <td>1</td>\n",
       "      <td>3</td>\n",
       "      <td>4</td>\n",
       "      <td>0</td>\n",
       "      <td>1</td>\n",
       "      <td>20</td>\n",
       "      <td>2</td>\n",
       "      <td>0</td>\n",
       "      <td>14.00</td>\n",
       "      <td>0</td>\n",
       "      <td>1</td>\n",
       "    </tr>\n",
       "    <tr>\n",
       "      <th>1</th>\n",
       "      <td>0</td>\n",
       "      <td>71</td>\n",
       "      <td>0</td>\n",
       "      <td>0</td>\n",
       "      <td>2</td>\n",
       "      <td>2</td>\n",
       "      <td>1</td>\n",
       "      <td>25</td>\n",
       "      <td>2</td>\n",
       "      <td>1</td>\n",
       "      <td>0.75</td>\n",
       "      <td>0</td>\n",
       "      <td>10</td>\n",
       "    </tr>\n",
       "    <tr>\n",
       "      <th>2</th>\n",
       "      <td>1</td>\n",
       "      <td>3714</td>\n",
       "      <td>1</td>\n",
       "      <td>0</td>\n",
       "      <td>4</td>\n",
       "      <td>0</td>\n",
       "      <td>1</td>\n",
       "      <td>23</td>\n",
       "      <td>2</td>\n",
       "      <td>1</td>\n",
       "      <td>29.50</td>\n",
       "      <td>0</td>\n",
       "      <td>1</td>\n",
       "    </tr>\n",
       "    <tr>\n",
       "      <th>3</th>\n",
       "      <td>0</td>\n",
       "      <td>74</td>\n",
       "      <td>0</td>\n",
       "      <td>0</td>\n",
       "      <td>4</td>\n",
       "      <td>0</td>\n",
       "      <td>2</td>\n",
       "      <td>20</td>\n",
       "      <td>2</td>\n",
       "      <td>1</td>\n",
       "      <td>0.75</td>\n",
       "      <td>0</td>\n",
       "      <td>10</td>\n",
       "    </tr>\n",
       "    <tr>\n",
       "      <th>4</th>\n",
       "      <td>0</td>\n",
       "      <td>71</td>\n",
       "      <td>0</td>\n",
       "      <td>0</td>\n",
       "      <td>2</td>\n",
       "      <td>1</td>\n",
       "      <td>2</td>\n",
       "      <td>27</td>\n",
       "      <td>2</td>\n",
       "      <td>1</td>\n",
       "      <td>0.75</td>\n",
       "      <td>0</td>\n",
       "      <td>10</td>\n",
       "    </tr>\n",
       "    <tr>\n",
       "      <th>...</th>\n",
       "      <td>...</td>\n",
       "      <td>...</td>\n",
       "      <td>...</td>\n",
       "      <td>...</td>\n",
       "      <td>...</td>\n",
       "      <td>...</td>\n",
       "      <td>...</td>\n",
       "      <td>...</td>\n",
       "      <td>...</td>\n",
       "      <td>...</td>\n",
       "      <td>...</td>\n",
       "      <td>...</td>\n",
       "      <td>...</td>\n",
       "    </tr>\n",
       "    <tr>\n",
       "      <th>15221</th>\n",
       "      <td>0</td>\n",
       "      <td>212</td>\n",
       "      <td>2</td>\n",
       "      <td>0</td>\n",
       "      <td>2</td>\n",
       "      <td>1</td>\n",
       "      <td>1</td>\n",
       "      <td>27</td>\n",
       "      <td>2</td>\n",
       "      <td>1</td>\n",
       "      <td>11.75</td>\n",
       "      <td>0</td>\n",
       "      <td>1</td>\n",
       "    </tr>\n",
       "    <tr>\n",
       "      <th>15222</th>\n",
       "      <td>1</td>\n",
       "      <td>233</td>\n",
       "      <td>1</td>\n",
       "      <td>2</td>\n",
       "      <td>3</td>\n",
       "      <td>0</td>\n",
       "      <td>1</td>\n",
       "      <td>20</td>\n",
       "      <td>2</td>\n",
       "      <td>1</td>\n",
       "      <td>15.00</td>\n",
       "      <td>0</td>\n",
       "      <td>1</td>\n",
       "    </tr>\n",
       "    <tr>\n",
       "      <th>15223</th>\n",
       "      <td>0</td>\n",
       "      <td>95</td>\n",
       "      <td>0</td>\n",
       "      <td>0</td>\n",
       "      <td>3</td>\n",
       "      <td>0</td>\n",
       "      <td>1</td>\n",
       "      <td>25</td>\n",
       "      <td>2</td>\n",
       "      <td>1</td>\n",
       "      <td>13.75</td>\n",
       "      <td>0</td>\n",
       "      <td>1</td>\n",
       "    </tr>\n",
       "    <tr>\n",
       "      <th>15224</th>\n",
       "      <td>1</td>\n",
       "      <td>2221</td>\n",
       "      <td>2</td>\n",
       "      <td>1</td>\n",
       "      <td>2</td>\n",
       "      <td>0</td>\n",
       "      <td>1</td>\n",
       "      <td>22</td>\n",
       "      <td>2</td>\n",
       "      <td>0</td>\n",
       "      <td>17.50</td>\n",
       "      <td>0</td>\n",
       "      <td>1</td>\n",
       "    </tr>\n",
       "    <tr>\n",
       "      <th>15225</th>\n",
       "      <td>1</td>\n",
       "      <td>3686</td>\n",
       "      <td>2</td>\n",
       "      <td>0</td>\n",
       "      <td>4</td>\n",
       "      <td>2</td>\n",
       "      <td>2</td>\n",
       "      <td>25</td>\n",
       "      <td>2</td>\n",
       "      <td>1</td>\n",
       "      <td>22.75</td>\n",
       "      <td>0</td>\n",
       "      <td>1</td>\n",
       "    </tr>\n",
       "  </tbody>\n",
       "</table>\n",
       "<p>14657 rows × 13 columns</p>\n",
       "</div>"
      ],
      "text/plain": [
       "       Family  HomeZone  Cars  Children  Adults  Income  Gender  Age  Status  \\\n",
       "0           1       261     1         3       4       0       1   20       2   \n",
       "1           0        71     0         0       2       2       1   25       2   \n",
       "2           1      3714     1         0       4       0       1   23       2   \n",
       "3           0        74     0         0       4       0       2   20       2   \n",
       "4           0        71     0         0       2       1       2   27       2   \n",
       "...       ...       ...   ...       ...     ...     ...     ...  ...     ...   \n",
       "15221       0       212     2         0       2       1       1   27       2   \n",
       "15222       1       233     1         2       3       0       1   20       2   \n",
       "15223       0        95     0         0       3       0       1   25       2   \n",
       "15224       1      2221     2         1       2       0       1   22       2   \n",
       "15225       1      3686     2         0       4       2       2   25       2   \n",
       "\n",
       "       License  Distance  Employment  Mode  \n",
       "0            0     14.00           0     1  \n",
       "1            1      0.75           0    10  \n",
       "2            1     29.50           0     1  \n",
       "3            1      0.75           0    10  \n",
       "4            1      0.75           0    10  \n",
       "...        ...       ...         ...   ...  \n",
       "15221        1     11.75           0     1  \n",
       "15222        1     15.00           0     1  \n",
       "15223        1     13.75           0     1  \n",
       "15224        0     17.50           0     1  \n",
       "15225        1     22.75           0     1  \n",
       "\n",
       "[14657 rows x 13 columns]"
      ]
     },
     "execution_count": 8,
     "metadata": {},
     "output_type": "execute_result"
    }
   ],
   "source": [
    "ML_df"
   ]
  },
  {
   "cell_type": "markdown",
   "metadata": {},
   "source": [
    "We export this dataframe into a file called `SMTO_2015_ML_Format.csv`."
   ]
  },
  {
   "cell_type": "code",
   "execution_count": 9,
   "metadata": {},
   "outputs": [],
   "source": [
    "ML_df.to_csv('SMTO_2015_Input.csv', index=False)"
   ]
  }
 ],
 "metadata": {
  "kernelspec": {
   "display_name": "Python 3",
   "language": "python",
   "name": "python3"
  },
  "language_info": {
   "codemirror_mode": {
    "name": "ipython",
    "version": 3
   },
   "file_extension": ".py",
   "mimetype": "text/x-python",
   "name": "python",
   "nbconvert_exporter": "python",
   "pygments_lexer": "ipython3",
   "version": "3.7.6"
  }
 },
 "nbformat": 4,
 "nbformat_minor": 4
}
