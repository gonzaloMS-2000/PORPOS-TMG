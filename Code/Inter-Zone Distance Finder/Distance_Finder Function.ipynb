{
 "cells": [
  {
   "cell_type": "markdown",
   "metadata": {},
   "source": [
    "# Distance Finder Function"
   ]
  },
  {
   "cell_type": "code",
   "execution_count": null,
   "metadata": {},
   "outputs": [],
   "source": [
    "import pandas as pd\n",
    "import matplotlib\n",
    "import matplotlib.pyplot as plt\n",
    "import numpy as np\n",
    "\n",
    "df_path = pd.read_csv('../Data/LoS/Walk_Distances.csv')\n",
    "df_filt = pd.read_csv('../Data/TTS_2016_Filtered.csv')"
   ]
  },
  {
   "cell_type": "markdown",
   "metadata": {},
   "source": [
    "The function below takes an origin and a destination number (from TTS Traffic Zones) and returns the distance between the epicenters of each zone: "
   ]
  },
  {
   "cell_type": "code",
   "execution_count": null,
   "metadata": {},
   "outputs": [],
   "source": [
    "def find_distance(origin, destination):\n",
    "    \n",
    "    # Transforming important columns into lists\n",
    "    orig = list(df_path['Origin'])\n",
    "    dest = list(df_path['Destination'])\n",
    "    #home = list(df_filt['HomeZone'])\n",
    "    #school = list(df_filt['SchoolZone'])\n",
    "    distance = list(df_path['Data'])\n",
    "    # New list that will store each distance\n",
    "    distance_list = []\n",
    "\n",
    "    #for j in range(0,len(home),1):\n",
    "\n",
    "    temp_home = origin\n",
    "    temp_school = destination\n",
    "    orig_index = 0\n",
    "    temp_orig = orig[orig_index]\n",
    "    while temp_orig != temp_home:\n",
    "        orig_index += 2392\n",
    "        temp_orig = orig[orig_index]\n",
    "\n",
    "    # We know that HomeZone value is located from indices [orig_index, orig_index + 2392]\n",
    "    temp_dest = dest[orig_index]\n",
    "    for j in range(0,2391,1):\n",
    "        if temp_dest == temp_school:\n",
    "            temp_distance = distance[orig_index] \n",
    "        else:\n",
    "            orig_index += 1\n",
    "            temp_dest = dest[orig_index]\n",
    "\n",
    "    return temp_distance"
   ]
  },
  {
   "cell_type": "markdown",
   "metadata": {},
   "source": [
    "Try the function by chaning the inputs to the function call below:"
   ]
  },
  {
   "cell_type": "code",
   "execution_count": 7,
   "metadata": {},
   "outputs": [
    {
     "name": "stdout",
     "output_type": "stream",
     "text": [
      "33207.1\n"
     ]
    }
   ],
   "source": [
    "print(find_distance(1,2235))"
   ]
  }
 ],
 "metadata": {
  "kernelspec": {
   "display_name": "Python 3",
   "language": "python",
   "name": "python3"
  },
  "language_info": {
   "codemirror_mode": {
    "name": "ipython",
    "version": 3
   },
   "file_extension": ".py",
   "mimetype": "text/x-python",
   "name": "python",
   "nbconvert_exporter": "python",
   "pygments_lexer": "ipython3",
   "version": "3.7.3"
  }
 },
 "nbformat": 4,
 "nbformat_minor": 2
}
