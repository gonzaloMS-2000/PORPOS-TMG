{
 "cells": [
  {
   "cell_type": "markdown",
   "metadata": {},
   "source": [
    "# Distance Column Creator\n",
    "\n",
    "This code will create a new column for the `TTS_2016_Filtered.csv` data file that contains the distances from the Home Zone to the School Zone of each respondent. Distances are obtained from `Walk_Distances.csv`, from the LoS Matrices. "
   ]
  },
  {
   "cell_type": "code",
   "execution_count": 3,
   "metadata": {},
   "outputs": [],
   "source": [
    "import pandas as pd\n",
    "import matplotlib\n",
    "import matplotlib.pyplot as plt\n",
    "import numpy as np\n",
    "\n",
    "df_path = pd.read_csv('../../LoS/Walk_Distances.csv')\n",
    "df_filt = pd.read_csv('../Data/TTS_2016/TTS_2016_Filtered.csv')"
   ]
  },
  {
   "cell_type": "code",
   "execution_count": null,
   "metadata": {},
   "outputs": [],
   "source": [
    "# Transforming important columns into lists\n",
    "orig = list(df_path['Origin'])\n",
    "dest = list(df_path['Destination'])\n",
    "home = list(df_filt['HomeZone'])\n",
    "school = list(df_filt['SchoolZone'])\n",
    "distance = list(df_path['Data'])\n",
    "# New list that will store each distance\n",
    "distance_list = []\n",
    "\n",
    "for j in range(0,len(home),1):\n",
    "\n",
    "    temp_home = home[j]\n",
    "    temp_school = school[j]\n",
    "    orig_index = 0\n",
    "    temp_orig = orig[orig_index]\n",
    "    while temp_orig != temp_home:\n",
    "        orig_index += 2392\n",
    "        temp_orig = orig[orig_index]\n",
    "\n",
    "    # We know that HomeZone value is located from indices [orig_index, orig_index + 2392]\n",
    "    temp_dest = dest[orig_index]\n",
    "    for j in range(0,2391,1):\n",
    "        if temp_dest == temp_school:\n",
    "            temp_distance = distance[orig_index] \n",
    "        else:\n",
    "            orig_index += 1\n",
    "            temp_dest = dest[orig_index]\n",
    "\n",
    "    distance_list.append(temp_distance)\n",
    "\n",
    "# Transform distance list into dataframe column:\n",
    "\n",
    "# Define a dictionary containing Students data \n",
    "data = {'Distance': distance_list} \n",
    "# Convert the dictionary into DataFrame \n",
    "df = pd.DataFrame(data) \n",
    "df_filt.insert(2, \"Distance\", distance_list, True) \n",
    "df_filt.head()"
   ]
  },
  {
   "cell_type": "markdown",
   "metadata": {},
   "source": [
    "The code below will create a single column in a separate .csv file. __Change the address as needed__."
   ]
  },
  {
   "cell_type": "code",
   "execution_count": null,
   "metadata": {},
   "outputs": [],
   "source": [
    "df.to_csv(r'Filtered_distance.csv', index = False)"
   ]
  }
 ],
 "metadata": {
  "kernelspec": {
   "display_name": "Python 3",
   "language": "python",
   "name": "python3"
  },
  "language_info": {
   "codemirror_mode": {
    "name": "ipython",
    "version": 3
   },
   "file_extension": ".py",
   "mimetype": "text/x-python",
   "name": "python",
   "nbconvert_exporter": "python",
   "pygments_lexer": "ipython3",
   "version": "3.7.3"
  }
 },
 "nbformat": 4,
 "nbformat_minor": 2
}
