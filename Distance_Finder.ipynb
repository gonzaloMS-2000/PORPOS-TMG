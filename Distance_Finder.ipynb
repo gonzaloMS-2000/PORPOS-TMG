version https://git-lfs.github.com/spec/v1
oid sha256:2ecec98272df4f2e3563f634064f0283e1cbbe92b5fe6e4ea30e4633cfda8896
size 2735
