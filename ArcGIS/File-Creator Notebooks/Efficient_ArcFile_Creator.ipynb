{
 "cells": [
  {
   "cell_type": "code",
   "execution_count": 54,
   "metadata": {},
   "outputs": [],
   "source": [
    "import pandas as pd\n",
    "import math\n",
    "import csv"
   ]
  },
  {
   "cell_type": "code",
   "execution_count": 55,
   "metadata": {},
   "outputs": [
    {
     "data": {
      "text/html": [
       "<div>\n",
       "<style scoped>\n",
       "    .dataframe tbody tr th:only-of-type {\n",
       "        vertical-align: middle;\n",
       "    }\n",
       "\n",
       "    .dataframe tbody tr th {\n",
       "        vertical-align: top;\n",
       "    }\n",
       "\n",
       "    .dataframe thead th {\n",
       "        text-align: right;\n",
       "    }\n",
       "</style>\n",
       "<table border=\"1\" class=\"dataframe\">\n",
       "  <thead>\n",
       "    <tr style=\"text-align: right;\">\n",
       "      <th></th>\n",
       "      <th>FID</th>\n",
       "      <th>Shape</th>\n",
       "      <th>NUM</th>\n",
       "      <th>GTA06</th>\n",
       "      <th>PD</th>\n",
       "      <th>REGION</th>\n",
       "      <th>GTA01</th>\n",
       "      <th>AREA_M</th>\n",
       "      <th>AREA_H</th>\n",
       "      <th>UTMX_CENT</th>\n",
       "      <th>UTMY_CENT</th>\n",
       "    </tr>\n",
       "    <tr>\n",
       "      <th>GTA06</th>\n",
       "      <th></th>\n",
       "      <th></th>\n",
       "      <th></th>\n",
       "      <th></th>\n",
       "      <th></th>\n",
       "      <th></th>\n",
       "      <th></th>\n",
       "      <th></th>\n",
       "      <th></th>\n",
       "      <th></th>\n",
       "      <th></th>\n",
       "    </tr>\n",
       "  </thead>\n",
       "  <tbody>\n",
       "    <tr>\n",
       "      <th>1</th>\n",
       "      <td>2151</td>\n",
       "      <td>Polygon</td>\n",
       "      <td>1</td>\n",
       "      <td>1</td>\n",
       "      <td>1</td>\n",
       "      <td>1</td>\n",
       "      <td>359</td>\n",
       "      <td>0</td>\n",
       "      <td>0</td>\n",
       "      <td>0</td>\n",
       "      <td>0</td>\n",
       "    </tr>\n",
       "    <tr>\n",
       "      <th>2</th>\n",
       "      <td>1826</td>\n",
       "      <td>Polygon</td>\n",
       "      <td>2</td>\n",
       "      <td>2</td>\n",
       "      <td>1</td>\n",
       "      <td>1</td>\n",
       "      <td>360</td>\n",
       "      <td>0</td>\n",
       "      <td>0</td>\n",
       "      <td>0</td>\n",
       "      <td>0</td>\n",
       "    </tr>\n",
       "    <tr>\n",
       "      <th>3</th>\n",
       "      <td>2153</td>\n",
       "      <td>Polygon</td>\n",
       "      <td>3</td>\n",
       "      <td>3</td>\n",
       "      <td>1</td>\n",
       "      <td>1</td>\n",
       "      <td>359</td>\n",
       "      <td>0</td>\n",
       "      <td>0</td>\n",
       "      <td>0</td>\n",
       "      <td>0</td>\n",
       "    </tr>\n",
       "    <tr>\n",
       "      <th>4</th>\n",
       "      <td>1961</td>\n",
       "      <td>Polygon</td>\n",
       "      <td>4</td>\n",
       "      <td>4</td>\n",
       "      <td>1</td>\n",
       "      <td>1</td>\n",
       "      <td>478</td>\n",
       "      <td>0</td>\n",
       "      <td>0</td>\n",
       "      <td>0</td>\n",
       "      <td>0</td>\n",
       "    </tr>\n",
       "    <tr>\n",
       "      <th>5</th>\n",
       "      <td>1960</td>\n",
       "      <td>Polygon</td>\n",
       "      <td>5</td>\n",
       "      <td>5</td>\n",
       "      <td>1</td>\n",
       "      <td>1</td>\n",
       "      <td>478</td>\n",
       "      <td>0</td>\n",
       "      <td>0</td>\n",
       "      <td>0</td>\n",
       "      <td>0</td>\n",
       "    </tr>\n",
       "  </tbody>\n",
       "</table>\n",
       "</div>"
      ],
      "text/plain": [
       "        FID    Shape  NUM  GTA06  PD  REGION  GTA01  AREA_M  AREA_H  \\\n",
       "GTA06                                                                 \n",
       "1      2151  Polygon    1      1   1       1    359       0       0   \n",
       "2      1826  Polygon    2      2   1       1    360       0       0   \n",
       "3      2153  Polygon    3      3   1       1    359       0       0   \n",
       "4      1961  Polygon    4      4   1       1    478       0       0   \n",
       "5      1960  Polygon    5      5   1       1    478       0       0   \n",
       "\n",
       "       UTMX_CENT  UTMY_CENT  \n",
       "GTA06                        \n",
       "1              0          0  \n",
       "2              0          0  \n",
       "3              0          0  \n",
       "4              0          0  \n",
       "5              0          0  "
      ]
     },
     "execution_count": 55,
     "metadata": {},
     "output_type": "execute_result"
    }
   ],
   "source": [
    "zones_df = pd.read_csv('arcGis_data.csv')\n",
    "zones_df.set_index(zones_df['GTA06'], inplace=True)\n",
    "zones_df.head()"
   ]
  },
  {
   "cell_type": "code",
   "execution_count": 56,
   "metadata": {
    "scrolled": true
   },
   "outputs": [
    {
     "data": {
      "text/html": [
       "<div>\n",
       "<style scoped>\n",
       "    .dataframe tbody tr th:only-of-type {\n",
       "        vertical-align: middle;\n",
       "    }\n",
       "\n",
       "    .dataframe tbody tr th {\n",
       "        vertical-align: top;\n",
       "    }\n",
       "\n",
       "    .dataframe thead th {\n",
       "        text-align: right;\n",
       "    }\n",
       "</style>\n",
       "<table border=\"1\" class=\"dataframe\">\n",
       "  <thead>\n",
       "    <tr style=\"text-align: right;\">\n",
       "      <th></th>\n",
       "      <th>Origin</th>\n",
       "      <th>Dist.SG</th>\n",
       "      <th>Dist.SC</th>\n",
       "      <th>Dist.MI</th>\n",
       "      <th>Dist.YK</th>\n",
       "      <th>Dist.YG</th>\n",
       "      <th>Dist.RY</th>\n",
       "      <th>Dist.OC</th>\n",
       "      <th>HZ</th>\n",
       "      <th>Dists</th>\n",
       "    </tr>\n",
       "  </thead>\n",
       "  <tbody>\n",
       "    <tr>\n",
       "      <th>2387</th>\n",
       "      <td>8029</td>\n",
       "      <td>77.23938</td>\n",
       "      <td>93.74969</td>\n",
       "      <td>60.94601</td>\n",
       "      <td>69.60850</td>\n",
       "      <td>79.09734</td>\n",
       "      <td>78.75591</td>\n",
       "      <td>77.68904</td>\n",
       "      <td>YK</td>\n",
       "      <td>SG</td>\n",
       "    </tr>\n",
       "    <tr>\n",
       "      <th>2388</th>\n",
       "      <td>8030</td>\n",
       "      <td>87.71857</td>\n",
       "      <td>92.80574</td>\n",
       "      <td>89.03488</td>\n",
       "      <td>72.48661</td>\n",
       "      <td>82.65608</td>\n",
       "      <td>88.26360</td>\n",
       "      <td>89.03080</td>\n",
       "      <td>YK</td>\n",
       "      <td>YK</td>\n",
       "    </tr>\n",
       "    <tr>\n",
       "      <th>2389</th>\n",
       "      <td>8031</td>\n",
       "      <td>99.82174</td>\n",
       "      <td>116.33210</td>\n",
       "      <td>83.30616</td>\n",
       "      <td>92.19087</td>\n",
       "      <td>101.67970</td>\n",
       "      <td>101.33830</td>\n",
       "      <td>100.27140</td>\n",
       "      <td>YK</td>\n",
       "      <td>YK</td>\n",
       "    </tr>\n",
       "    <tr>\n",
       "      <th>2390</th>\n",
       "      <td>8032</td>\n",
       "      <td>54.63737</td>\n",
       "      <td>59.72455</td>\n",
       "      <td>65.54156</td>\n",
       "      <td>42.74821</td>\n",
       "      <td>49.57488</td>\n",
       "      <td>55.18241</td>\n",
       "      <td>55.94960</td>\n",
       "      <td>YK</td>\n",
       "      <td>SG</td>\n",
       "    </tr>\n",
       "    <tr>\n",
       "      <th>2391</th>\n",
       "      <td>8033</td>\n",
       "      <td>81.97251</td>\n",
       "      <td>87.05968</td>\n",
       "      <td>91.53315</td>\n",
       "      <td>70.08334</td>\n",
       "      <td>76.91002</td>\n",
       "      <td>82.51754</td>\n",
       "      <td>83.28473</td>\n",
       "      <td>YK</td>\n",
       "      <td>YK</td>\n",
       "    </tr>\n",
       "  </tbody>\n",
       "</table>\n",
       "</div>"
      ],
      "text/plain": [
       "      Origin   Dist.SG    Dist.SC   Dist.MI   Dist.YK    Dist.YG    Dist.RY  \\\n",
       "2387    8029  77.23938   93.74969  60.94601  69.60850   79.09734   78.75591   \n",
       "2388    8030  87.71857   92.80574  89.03488  72.48661   82.65608   88.26360   \n",
       "2389    8031  99.82174  116.33210  83.30616  92.19087  101.67970  101.33830   \n",
       "2390    8032  54.63737   59.72455  65.54156  42.74821   49.57488   55.18241   \n",
       "2391    8033  81.97251   87.05968  91.53315  70.08334   76.91002   82.51754   \n",
       "\n",
       "        Dist.OC  HZ Dists  \n",
       "2387   77.68904  YK    SG  \n",
       "2388   89.03080  YK    YK  \n",
       "2389  100.27140  YK    YK  \n",
       "2390   55.94960  YK    SG  \n",
       "2391   83.28473  YK    YK  "
      ]
     },
     "execution_count": 56,
     "metadata": {},
     "output_type": "execute_result"
    }
   ],
   "source": [
    "rf_df = pd.read_csv('../Data/SMTO_2015/RF_Predictions.csv')\n",
    "rf_df.tail()"
   ]
  },
  {
   "cell_type": "code",
   "execution_count": 57,
   "metadata": {},
   "outputs": [],
   "source": [
    "rf_df.set_index(rf_df['Origin'],inplace = True)"
   ]
  },
  {
   "cell_type": "code",
   "execution_count": 58,
   "metadata": {},
   "outputs": [],
   "source": [
    "series = pd.Series(rf_df['Dists'], index=zones_df.index)"
   ]
  },
  {
   "cell_type": "code",
   "execution_count": 59,
   "metadata": {
    "scrolled": true
   },
   "outputs": [
    {
     "data": {
      "text/plain": [
       "Origin\n",
       "8029    SG\n",
       "8030    YK\n",
       "8031    YK\n",
       "8032    SG\n",
       "8033    YK\n",
       "Name: Dists, dtype: object"
      ]
     },
     "execution_count": 59,
     "metadata": {},
     "output_type": "execute_result"
    }
   ],
   "source": [
    "rf_df['Dists'].tail()"
   ]
  },
  {
   "cell_type": "code",
   "execution_count": 60,
   "metadata": {},
   "outputs": [
    {
     "data": {
      "text/plain": [
       "'YK'"
      ]
     },
     "execution_count": 60,
     "metadata": {},
     "output_type": "execute_result"
    }
   ],
   "source": [
    "series.loc[3003]"
   ]
  },
  {
   "cell_type": "code",
   "execution_count": 61,
   "metadata": {},
   "outputs": [],
   "source": [
    "series.to_csv('ArcFile_Merge_Dists.csv', index = True, header = ['Prediction'])"
   ]
  }
 ],
 "metadata": {
  "kernelspec": {
   "display_name": "Python 3",
   "language": "python",
   "name": "python3"
  },
  "language_info": {
   "codemirror_mode": {
    "name": "ipython",
    "version": 3
   },
   "file_extension": ".py",
   "mimetype": "text/x-python",
   "name": "python",
   "nbconvert_exporter": "python",
   "pygments_lexer": "ipython3",
   "version": "3.7.3"
  }
 },
 "nbformat": 4,
 "nbformat_minor": 2
}
