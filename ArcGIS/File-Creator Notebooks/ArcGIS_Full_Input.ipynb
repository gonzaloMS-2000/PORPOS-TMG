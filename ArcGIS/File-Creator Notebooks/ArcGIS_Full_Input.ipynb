{
 "cells": [
  {
   "cell_type": "code",
   "execution_count": 1,
   "metadata": {},
   "outputs": [],
   "source": [
    "# Load packages\n",
    "import pandas as pd\n",
    "import math\n",
    "import csv\n",
    "import numpy as np"
   ]
  },
  {
   "cell_type": "code",
   "execution_count": 2,
   "metadata": {
    "scrolled": true
   },
   "outputs": [
    {
     "data": {
      "text/html": [
       "<div>\n",
       "<style scoped>\n",
       "    .dataframe tbody tr th:only-of-type {\n",
       "        vertical-align: middle;\n",
       "    }\n",
       "\n",
       "    .dataframe tbody tr th {\n",
       "        vertical-align: top;\n",
       "    }\n",
       "\n",
       "    .dataframe thead th {\n",
       "        text-align: right;\n",
       "    }\n",
       "</style>\n",
       "<table border=\"1\" class=\"dataframe\">\n",
       "  <thead>\n",
       "    <tr style=\"text-align: right;\">\n",
       "      <th></th>\n",
       "      <th>Campus</th>\n",
       "      <th>Level</th>\n",
       "      <th>Status</th>\n",
       "      <th>Mode_Actual</th>\n",
       "      <th>Gender</th>\n",
       "      <th>Licence</th>\n",
       "      <th>Work</th>\n",
       "      <th>Age</th>\n",
       "      <th>HomeZone</th>\n",
       "      <th>Family</th>\n",
       "      <th>...</th>\n",
       "      <th>Domestic.OC</th>\n",
       "      <th>Admission_Avg.SG</th>\n",
       "      <th>Admission_Avg.SC</th>\n",
       "      <th>Admission_Avg.MI</th>\n",
       "      <th>Admission_Avg.YK</th>\n",
       "      <th>Admission_Avg.YG</th>\n",
       "      <th>Admission_Avg.RY</th>\n",
       "      <th>Admission_Avg.OC</th>\n",
       "      <th>Exp_Segment</th>\n",
       "      <th>Exp_Level</th>\n",
       "    </tr>\n",
       "  </thead>\n",
       "  <tbody>\n",
       "    <tr>\n",
       "      <th>0</th>\n",
       "      <td>Scarborough (UTSC)</td>\n",
       "      <td>UG</td>\n",
       "      <td>FT</td>\n",
       "      <td>Transit Bus</td>\n",
       "      <td>Female</td>\n",
       "      <td>0</td>\n",
       "      <td>Unknown</td>\n",
       "      <td>20</td>\n",
       "      <td>261</td>\n",
       "      <td>1</td>\n",
       "      <td>...</td>\n",
       "      <td>0.8998</td>\n",
       "      <td>0.893</td>\n",
       "      <td>0.841</td>\n",
       "      <td>0.83</td>\n",
       "      <td>0.817</td>\n",
       "      <td>0.817</td>\n",
       "      <td>0.84</td>\n",
       "      <td>0.824</td>\n",
       "      <td>0.944738</td>\n",
       "      <td>0.944738</td>\n",
       "    </tr>\n",
       "    <tr>\n",
       "      <th>1</th>\n",
       "      <td>Downtown Toronto (St. George)</td>\n",
       "      <td>Grad</td>\n",
       "      <td>FT</td>\n",
       "      <td>Walk</td>\n",
       "      <td>Female</td>\n",
       "      <td>1</td>\n",
       "      <td>Unknown</td>\n",
       "      <td>25</td>\n",
       "      <td>71</td>\n",
       "      <td>0</td>\n",
       "      <td>...</td>\n",
       "      <td>0.6786</td>\n",
       "      <td>0.893</td>\n",
       "      <td>0.841</td>\n",
       "      <td>0.83</td>\n",
       "      <td>0.817</td>\n",
       "      <td>0.817</td>\n",
       "      <td>0.84</td>\n",
       "      <td>0.824</td>\n",
       "      <td>0.986085</td>\n",
       "      <td>0.986085</td>\n",
       "    </tr>\n",
       "    <tr>\n",
       "      <th>2</th>\n",
       "      <td>Downtown Toronto (St. George)</td>\n",
       "      <td>UG</td>\n",
       "      <td>FT</td>\n",
       "      <td>Transit Bus</td>\n",
       "      <td>Female</td>\n",
       "      <td>1</td>\n",
       "      <td>Unknown</td>\n",
       "      <td>23</td>\n",
       "      <td>3714</td>\n",
       "      <td>1</td>\n",
       "      <td>...</td>\n",
       "      <td>0.8998</td>\n",
       "      <td>0.893</td>\n",
       "      <td>0.841</td>\n",
       "      <td>0.83</td>\n",
       "      <td>0.817</td>\n",
       "      <td>0.817</td>\n",
       "      <td>0.84</td>\n",
       "      <td>0.824</td>\n",
       "      <td>0.919270</td>\n",
       "      <td>0.919270</td>\n",
       "    </tr>\n",
       "    <tr>\n",
       "      <th>3</th>\n",
       "      <td>Downtown Toronto (St. George)</td>\n",
       "      <td>UG</td>\n",
       "      <td>FT</td>\n",
       "      <td>Walk</td>\n",
       "      <td>Male</td>\n",
       "      <td>1</td>\n",
       "      <td>Unknown</td>\n",
       "      <td>20</td>\n",
       "      <td>74</td>\n",
       "      <td>0</td>\n",
       "      <td>...</td>\n",
       "      <td>0.8998</td>\n",
       "      <td>0.893</td>\n",
       "      <td>0.841</td>\n",
       "      <td>0.83</td>\n",
       "      <td>0.817</td>\n",
       "      <td>0.817</td>\n",
       "      <td>0.84</td>\n",
       "      <td>0.824</td>\n",
       "      <td>0.919270</td>\n",
       "      <td>0.919270</td>\n",
       "    </tr>\n",
       "    <tr>\n",
       "      <th>4</th>\n",
       "      <td>Downtown Toronto (St. George)</td>\n",
       "      <td>Grad</td>\n",
       "      <td>FT</td>\n",
       "      <td>Walk</td>\n",
       "      <td>Male</td>\n",
       "      <td>1</td>\n",
       "      <td>Unknown</td>\n",
       "      <td>27</td>\n",
       "      <td>71</td>\n",
       "      <td>0</td>\n",
       "      <td>...</td>\n",
       "      <td>0.6786</td>\n",
       "      <td>0.893</td>\n",
       "      <td>0.841</td>\n",
       "      <td>0.83</td>\n",
       "      <td>0.817</td>\n",
       "      <td>0.817</td>\n",
       "      <td>0.84</td>\n",
       "      <td>0.824</td>\n",
       "      <td>0.986085</td>\n",
       "      <td>0.986085</td>\n",
       "    </tr>\n",
       "  </tbody>\n",
       "</table>\n",
       "<p>5 rows × 89 columns</p>\n",
       "</div>"
      ],
      "text/plain": [
       "                          Campus Level Status  Mode_Actual  Gender  Licence  \\\n",
       "0             Scarborough (UTSC)    UG     FT  Transit Bus  Female        0   \n",
       "1  Downtown Toronto (St. George)  Grad     FT         Walk  Female        1   \n",
       "2  Downtown Toronto (St. George)    UG     FT  Transit Bus  Female        1   \n",
       "3  Downtown Toronto (St. George)    UG     FT         Walk    Male        1   \n",
       "4  Downtown Toronto (St. George)  Grad     FT         Walk    Male        1   \n",
       "\n",
       "      Work  Age  HomeZone  Family  ...  Domestic.OC  Admission_Avg.SG  \\\n",
       "0  Unknown   20       261       1  ...       0.8998             0.893   \n",
       "1  Unknown   25        71       0  ...       0.6786             0.893   \n",
       "2  Unknown   23      3714       1  ...       0.8998             0.893   \n",
       "3  Unknown   20        74       0  ...       0.8998             0.893   \n",
       "4  Unknown   27        71       0  ...       0.6786             0.893   \n",
       "\n",
       "   Admission_Avg.SC Admission_Avg.MI Admission_Avg.YK Admission_Avg.YG  \\\n",
       "0             0.841             0.83            0.817            0.817   \n",
       "1             0.841             0.83            0.817            0.817   \n",
       "2             0.841             0.83            0.817            0.817   \n",
       "3             0.841             0.83            0.817            0.817   \n",
       "4             0.841             0.83            0.817            0.817   \n",
       "\n",
       "   Admission_Avg.RY  Admission_Avg.OC  Exp_Segment  Exp_Level  \n",
       "0              0.84             0.824     0.944738   0.944738  \n",
       "1              0.84             0.824     0.986085   0.986085  \n",
       "2              0.84             0.824     0.919270   0.919270  \n",
       "3              0.84             0.824     0.919270   0.919270  \n",
       "4              0.84             0.824     0.986085   0.986085  \n",
       "\n",
       "[5 rows x 89 columns]"
      ]
     },
     "execution_count": 2,
     "metadata": {},
     "output_type": "execute_result"
    }
   ],
   "source": [
    "# Load SMTO 2015 data\n",
    "df = pd.read_csv('../../Data/SMTO_2015/SMTO_2015_Complete_Input.csv')\n",
    "df.head()"
   ]
  },
  {
   "cell_type": "code",
   "execution_count": 3,
   "metadata": {},
   "outputs": [],
   "source": [
    "# Dataframe for mapping with zones as indices\n",
    "map_df = pd.DataFrame()\n",
    "map_df['Origin'] = pd.read_csv('../Needed_Zones.csv')['Origin']\n",
    "map_df.set_index(map_df['Origin'], inplace = True)"
   ]
  },
  {
   "cell_type": "code",
   "execution_count": 4,
   "metadata": {},
   "outputs": [],
   "source": [
    "# Code adapted from https://intellipaat.com/community/20470/groupby-pandas-dataframe-and-select-most-common-value\n",
    "map_df['Sample_TopSchool'] = df.groupby('HomeZone')['School_Codes'].agg(lambda x: x.value_counts().index[0])"
   ]
  },
  {
   "cell_type": "code",
   "execution_count": 5,
   "metadata": {},
   "outputs": [
    {
     "data": {
      "text/plain": [
       "Index(['Origin', 'Sample_TopSchool', 'SC_Sample_Prob', 'SG_Sample_Prob',\n",
       "       'MI_Sample_Prob', 'OC_Sample_Prob', 'RY_Sample_Prob', 'YK_Sample_Prob',\n",
       "       'YG_Sample_Prob', 'SC_Family_Prob', 'SG_Family_Prob', 'MI_Family_Prob',\n",
       "       'OC_Family_Prob', 'RY_Family_Prob', 'YK_Family_Prob', 'YG_Family_Prob',\n",
       "       'SC_NonFam_Prob', 'SG_NonFam_Prob', 'MI_NonFam_Prob', 'OC_NonFam_Prob',\n",
       "       'RY_NonFam_Prob', 'YK_NonFam_Prob', 'YG_NonFam_Prob'],\n",
       "      dtype='object')"
      ]
     },
     "execution_count": 5,
     "metadata": {},
     "output_type": "execute_result"
    }
   ],
   "source": [
    "# School in-sample proportions\n",
    "def get_school_prop(zone, school, grouped):\n",
    "    if zone in grouped:\n",
    "        if school in grouped[zone]:\n",
    "            return grouped[zone][school]\n",
    "        else:\n",
    "            return 0\n",
    "    return None\n",
    "\n",
    "codes = df['School_Codes'].unique()\n",
    "for temp_df, name in ((df, 'Sample'), (df[df['Family'] == 1], 'Family'), (df[df['Family'] == 0], 'NonFam')):\n",
    "    counts = temp_df['School_Codes'].value_counts(normalize = True)\n",
    "    grouped = temp_df.groupby('HomeZone')['School_Codes'].value_counts(normalize=True)\n",
    "    for code in codes:\n",
    "        map_df[code + '_' + name + '_Prob'] = map_df['Origin'].apply(lambda x: get_school_prop(x, code, grouped)) / counts[code]\n",
    "        \n",
    "map_df.columns"
   ]
  },
  {
   "cell_type": "code",
   "execution_count": 6,
   "metadata": {
    "scrolled": true
   },
   "outputs": [
    {
     "data": {
      "text/plain": [
       "SG    0.405321\n",
       "YK    0.211937\n",
       "RY    0.195157\n",
       "SC    0.073602\n",
       "MI    0.061050\n",
       "OC    0.031105\n",
       "YG    0.021828\n",
       "Name: School_Codes, dtype: float64"
      ]
     },
     "execution_count": 6,
     "metadata": {},
     "output_type": "execute_result"
    }
   ],
   "source": [
    "sample_props = df['School_Codes'].value_counts(normalize = True)\n",
    "sample_props"
   ]
  },
  {
   "cell_type": "code",
   "execution_count": 7,
   "metadata": {
    "scrolled": true
   },
   "outputs": [
    {
     "data": {
      "text/plain": [
       "Index(['Origin', 'Sample_TopSchool', 'SC_Sample_Prob', 'SG_Sample_Prob',\n",
       "       'MI_Sample_Prob', 'OC_Sample_Prob', 'RY_Sample_Prob', 'YK_Sample_Prob',\n",
       "       'YG_Sample_Prob', 'SC_Family_Prob', 'SG_Family_Prob', 'MI_Family_Prob',\n",
       "       'OC_Family_Prob', 'RY_Family_Prob', 'YK_Family_Prob', 'YG_Family_Prob',\n",
       "       'SC_NonFam_Prob', 'SG_NonFam_Prob', 'MI_NonFam_Prob', 'OC_NonFam_Prob',\n",
       "       'RY_NonFam_Prob', 'YK_NonFam_Prob', 'YG_NonFam_Prob', 'Grav_Pred',\n",
       "       'SG_Norm_Grav', 'MI_Norm_Grav', 'OC_Norm_Grav', 'RY_Norm_Grav',\n",
       "       'SC_Norm_Grav', 'YG_Norm_Grav', 'YK_Norm_Grav', 'HZ_Pred', 'MI_Norm_HZ',\n",
       "       'OC_Norm_HZ', 'RY_Norm_HZ', 'SC_Norm_HZ', 'SG_Norm_HZ', 'YG_Norm_HZ',\n",
       "       'YK_Norm_HZ', 'Dist_Pred', 'MI_Norm_Dist', 'OC_Norm_Dist',\n",
       "       'RY_Norm_Dist', 'SC_Norm_Dist', 'SG_Norm_Dist', 'YG_Norm_Dist',\n",
       "       'YK_Norm_Dist'],\n",
       "      dtype='object')"
      ]
     },
     "execution_count": 7,
     "metadata": {},
     "output_type": "execute_result"
    }
   ],
   "source": [
    "for file, name in (('mlogit_prediction.csv', 'Grav'), ('RF_Probabilities_HZ.csv', 'HZ'), ('RF_Probabilities_dist.csv', 'Dist')):\n",
    "    file = '../Map Projects/SMTO_2015_Maps - Files/' + file\n",
    "    preds = pd.read_csv(file)\n",
    "    preds.drop(preds.index[2272:2392],inplace = True)\n",
    "    preds.set_index(map_df['Origin'], inplace = True)\n",
    "    if 'Origin' in preds.columns:\n",
    "        del preds['Origin']\n",
    "    map_df[name + '_Pred'] = preds.idxmax(axis=1)\n",
    "    for col in preds.columns:\n",
    "        map_df[col + '_Norm_' + name] = preds[col] / sample_props[col]\n",
    "\n",
    "map_df.columns"
   ]
  },
  {
   "cell_type": "code",
   "execution_count": 8,
   "metadata": {},
   "outputs": [],
   "source": [
    "map_df.to_csv('../Map_Inputs.csv', index = False)"
   ]
  }
 ],
 "metadata": {
  "kernelspec": {
   "display_name": "Python 3",
   "language": "python",
   "name": "python3"
  },
  "language_info": {
   "codemirror_mode": {
    "name": "ipython",
    "version": 3
   },
   "file_extension": ".py",
   "mimetype": "text/x-python",
   "name": "python",
   "nbconvert_exporter": "python",
   "pygments_lexer": "ipython3",
   "version": "3.7.6"
  }
 },
 "nbformat": 4,
 "nbformat_minor": 2
}
