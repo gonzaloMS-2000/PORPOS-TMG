{
 "cells": [
  {
   "cell_type": "code",
   "execution_count": 2,
   "metadata": {
    "scrolled": true
   },
   "outputs": [],
   "source": [
    "import biogeme.database as db\n",
    "import biogeme.biogeme as bio\n",
    "import biogeme.models as models\n",
    "from biogeme.expressions import Beta, DefineVariable\n",
    "import pandas as pd\n",
    "import math\n",
    "import csv\n",
    "\n",
    "df = pd.read_csv('../../Data/SMTO_2015/SMTO_2015_Complete_Input.csv')\n",
    "df = df[df['Level'] != 'Other']\n",
    "school_codes = ['SG', 'SC', 'MI', 'YK','YG', 'RY','OC']\n",
    "df['School'] = df['School'].apply(lambda x: school_codes.index(x))\n",
    "\n",
    "for code in school_codes:\n",
    "    df['Enrol.' + code] = df.apply(lambda x: x['UG.' + code] if x['Level'] == 'UG' else x['Grad.' + code], axis=1)\n",
    "df.columns\n",
    "full_df = df.copy()"
   ]
  },
  {
   "cell_type": "code",
   "execution_count": 8,
   "metadata": {},
   "outputs": [],
   "source": [
    "def run_model(name, with_ASCs, combined = True):\n",
    "    database = db.Database(\"SMTO\", df.select_dtypes(include = 'number'))\n",
    "    ASCs, V, av = [], {}, {}\n",
    "    B_DIST = Beta('B_DIST', 0, None, None, 0)\n",
    "    B_ENROL = Beta('B_ENROL', 1, None, None, 1 if with_ASCs else 1)\n",
    "    B_FAM_DIST = Beta('B_FAM_DIST', 0, None, None, 0)\n",
    "    #B_CLOSEST_SCHOOL = Beta('B_CLOSEST_SCHOOL', 0, None, None, 0)\n",
    "\n",
    "    for i in range(len(school_codes)):\n",
    "        code = school_codes[i]\n",
    "        ASCs.append(Beta('ASC_' + code, 0, None, None, 0 if with_ASCs and code != 'SG' else 1))\n",
    "        if combined:\n",
    "            V[i] = ASCs[i] + B_ENROL *  database.variables[\"Enrol.\" + code] + B_DIST * database.variables['Dist.' + code] + B_FAM_DIST * database.variables[\"Dist.\" + code] * database.variables[\"Family\"]\n",
    "        else:\n",
    "            V[i] = ASCs[i] + B_ENROL *  database.variables[\"Enrol.\" + code] + B_DIST * database.variables['Dist.' + code]\n",
    "        av[i] = 1   \n",
    "        \n",
    "    logprob = models.loglogit(V, av, database.variables[\"School\"])\n",
    "    test_dict = {'loglike': logprob, 'weight': database.variables[\"Exp_Segment\"]}\n",
    "    biogeme  = bio.BIOGEME(database,test_dict,numberOfThreads=1)\n",
    "    biogeme.modelName = name\n",
    "    results = biogeme.estimate(saveIterations=True)\n",
    "    betas = results.getBetaValues()\n",
    "    \n",
    "    print(\"Results for \" + name + \" model:\")\n",
    "    print(betas)\n",
    "    print()\n",
    "    return betas"
   ]
  },
  {
   "cell_type": "code",
   "execution_count": 3,
   "metadata": {},
   "outputs": [
    {
     "data": {
      "text/plain": [
       "['SG', 'SC', 'MI', 'YK', 'YG', 'RY', 'OC']"
      ]
     },
     "execution_count": 3,
     "metadata": {},
     "output_type": "execute_result"
    }
   ],
   "source": [
    "school_codes"
   ]
  },
  {
   "cell_type": "code",
   "execution_count": 10,
   "metadata": {},
   "outputs": [],
   "source": [
    "def get_cm(name, betas, with_ASCs, combined = True):\n",
    "    \n",
    "    for i in range(len(school_codes)):\n",
    "        code = school_codes[i]\n",
    "        if with_ASCs:\n",
    "            if combined:\n",
    "                df['V_'+ code] = (betas['ASC_' + code] if code != 'SG' else 0) + betas['B_DIST'] * df['Dist.' + code] + betas['B_FAM_DIST'] * df['Dist.' + code] * df['Family'] + df['Total.' + code]\n",
    "            else:\n",
    "                df['V_'+ code] = (betas['ASC_' + code] if code != 'SG' else 0) + betas['B_DIST'] * df['Dist.' + code] + df['Total.' + code]\n",
    "        else:\n",
    "            if combined:\n",
    "                df['V_'+ code] = betas['B_DIST'] * df['Dist.' + code] + betas['B_FAM_DIST'] * df['Dist.' + code] * df['Family'] + df['Total.' + code] #* betas['B_ENROL']\n",
    "            else:\n",
    "                df['V_'+ code] = betas['B_DIST'] * df['Dist.' + code] + df['Total.' + code] #* betas['B_ENROL']\n",
    "\n",
    "    utils = df.iloc[:,-(len(school_codes)):]\n",
    "    for i in range(len(school_codes)):\n",
    "        code = school_codes[i]\n",
    "        df['P_' + code] = utils.apply(lambda x: math.exp(x['V_' + code]) / sum([math.exp(j) for j in x]), axis = 1)\n",
    "    probs = pd.concat((df['School'], df.iloc[:,-(len(school_codes)):]), axis=1)\n",
    "    \n",
    "    print(\"Softmax confusion matrix for \" + name + \" model:\")\n",
    "    softmax_cm = []\n",
    "    for school in range(len(school_codes)):\n",
    "        softmax_cm.append(probs[probs['School'] == school][['P_' + i for i in school_codes]].sum().values.tolist())\n",
    "        print(*probs[probs['School'] == school][['P_' + i for i in school_codes]].sum().values)\n",
    "    \n",
    "    print(softmax_cm)\n",
    "    accuracy = 0\n",
    "    total = 0\n",
    "    for i in range(7):\n",
    "        total += sum(softmax_cm[i])\n",
    "        accuracy += softmax_cm[i][i]\n",
    "    accuracy = accuracy/total\n",
    "    print('\\nAccuracy: ' + str(accuracy))\n",
    "    \n",
    "    \n",
    "    print(\"\\nHardmax confusion matrix for \" + name + \" model:\")\n",
    "    for school in range(len(school_codes)):\n",
    "        print(*[(probs[probs['School'] == school][['P_' + i for i in school_codes]].idxmax(axis = 1) == 'P_' + j).sum() for j in school_codes])\n",
    "    \n",
    "    print()"
   ]
  },
  {
   "cell_type": "code",
   "execution_count": 4,
   "metadata": {
    "scrolled": true
   },
   "outputs": [
    {
     "data": {
      "text/plain": [
       "'\\nfor (x, y) in ((\\'Eric\\', True),(\\'Proposed\\', False)):\\n    df = full_df.copy()\\n    print(\"----------- Combined ----------\")\\n    get_cm(x, run_model(x, y), y)\\n    \\n    #print(\"----------- Family ----------\")\\n    #df = full_df[full_df[\\'Family\\'] == 1]\\n    #get_cm(x, run_model(x, y, False), y, False)\\n    \\n    #print(\"----------- Non-Family ----------\")\\n    #df = full_df[full_df[\\'Family\\'] == 0]\\n    #get_cm(x, run_model(x, y, False), y, False)\\n'"
      ]
     },
     "execution_count": 4,
     "metadata": {},
     "output_type": "execute_result"
    }
   ],
   "source": [
    "'''\n",
    "for (x, y) in (('Eric', True),('Proposed', False)):\n",
    "    df = full_df.copy()\n",
    "    print(\"----------- Combined ----------\")\n",
    "    get_cm(x, run_model(x, y), y)\n",
    "    \n",
    "    #print(\"----------- Family ----------\")\n",
    "    #df = full_df[full_df['Family'] == 1]\n",
    "    #get_cm(x, run_model(x, y, False), y, False)\n",
    "    \n",
    "    #print(\"----------- Non-Family ----------\")\n",
    "    #df = full_df[full_df['Family'] == 0]\n",
    "    #get_cm(x, run_model(x, y, False), y, False)\n",
    "'''"
   ]
  },
  {
   "cell_type": "code",
   "execution_count": 11,
   "metadata": {},
   "outputs": [
    {
     "name": "stdout",
     "output_type": "stream",
     "text": [
      "----------- Combined ----------\n",
      "Results for Proposed model:\n",
      "{'B_DIST': -0.13475000404502052, 'B_FAM_DIST': 0.06520057534791564}\n",
      "\n",
      "Softmax confusion matrix for Proposed model:\n",
      "2762.3145817186514 242.68737848017508 296.78443240017333 995.9139242013098 75.35036598480714 1369.4416187632023 169.5076984516492\n",
      "340.0421421758302 244.73785970551108 29.031502448625687 232.20974981521346 23.933729067630303 183.24417976639728 20.800837020791484\n",
      "289.7081690812989 18.28910492277937 260.2246722240281 196.7741579911264 8.144937867618069 138.1136461672136 18.745311745935535\n",
      "983.2537556531387 165.29098422194528 233.03801714021287 1110.5502476563101 46.749340267359145 484.96720762346905 60.15044743757616\n",
      "115.48317306725038 21.629641109970162 20.55869352945785 83.1328085073063 6.909393615960424 60.30111474840854 6.98517542164639\n",
      "1043.4266453978978 171.96296959196357 207.64587052688952 630.0236373440589 41.0079870219161 547.9988536333345 65.93403648393881\n",
      "196.78339465747308 23.799607735945237 27.450878215530462 86.08326641211431 6.176714571383066 101.9712000216745 12.734938385879298\n",
      "[[2762.3145817186514, 242.68737848017508, 296.78443240017333, 995.9139242013098, 75.35036598480714, 1369.4416187632023, 169.5076984516492], [340.0421421758302, 244.73785970551108, 29.031502448625687, 232.20974981521346, 23.933729067630303, 183.24417976639728, 20.800837020791484], [289.7081690812989, 18.28910492277937, 260.2246722240281, 196.7741579911264, 8.144937867618069, 138.1136461672136, 18.745311745935535], [983.2537556531387, 165.29098422194528, 233.03801714021287, 1110.5502476563101, 46.749340267359145, 484.96720762346905, 60.15044743757616], [115.48317306725038, 21.629641109970162, 20.55869352945785, 83.1328085073063, 6.909393615960424, 60.30111474840854, 6.98517542164639], [1043.4266453978978, 171.96296959196357, 207.64587052688952, 630.0236373440589, 41.0079870219161, 547.9988536333345, 65.93403648393881], [196.78339465747308, 23.799607735945237, 27.450878215530462, 86.08326641211431, 6.176714571383066, 101.9712000216745, 12.734938385879298]]\n",
      "\n",
      "Accuracy: 0.34158520147393856\n",
      "\n",
      "Hardmax confusion matrix for Proposed model:\n",
      "4616 184 75 1037 0 0 0\n",
      "450 334 1 289 0 0 0\n",
      "549 7 188 186 0 0 0\n",
      "1231 115 51 1687 0 0 0\n",
      "185 23 4 103 0 0 0\n",
      "1678 150 32 848 0 0 0\n",
      "324 16 8 107 0 0 0\n",
      "\n"
     ]
    }
   ],
   "source": [
    "df = full_df.copy()\n",
    "print(\"----------- Combined ----------\")\n",
    "get_cm('Proposed', run_model('Proposed', False), False)"
   ]
  }
 ],
 "metadata": {
  "kernelspec": {
   "display_name": "Python 3",
   "language": "python",
   "name": "python3"
  },
  "language_info": {
   "codemirror_mode": {
    "name": "ipython",
    "version": 3
   },
   "file_extension": ".py",
   "mimetype": "text/x-python",
   "name": "python",
   "nbconvert_exporter": "python",
   "pygments_lexer": "ipython3",
   "version": "3.7.3"
  }
 },
 "nbformat": 4,
 "nbformat_minor": 2
}
