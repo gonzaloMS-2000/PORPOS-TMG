{
 "cells": [
  {
   "cell_type": "code",
   "execution_count": 1,
   "metadata": {
    "scrolled": true
   },
   "outputs": [],
   "source": [
    "import biogeme.database as db\n",
    "import biogeme.biogeme as bio\n",
    "import biogeme.models as models\n",
    "from biogeme.expressions import Beta, DefineVariable\n",
    "import pandas as pd\n",
    "import math\n",
    "import csv\n",
    "\n",
    "df = pd.read_csv('../../../Data/SMTO_2015/SMTO_2015_Complete_Input.csv')\n",
    "df = df[df['Level'] != 'Other']\n",
    "school_codes = ['SG', 'SC', 'MI', 'YK','YG', 'RY','OC']\n",
    "df['School'] = df['School'].apply(lambda x: school_codes.index(x))\n",
    "\n",
    "for code in school_codes:\n",
    "    df['Enrol.' + code] = df.apply(lambda x: x['UG.' + code] if x['Level'] == 'UG' else x['Grad.' + code], axis=1)\n",
    "df.columns\n",
    "full_df = df.copy()"
   ]
  },
  {
   "cell_type": "code",
   "execution_count": 2,
   "metadata": {},
   "outputs": [],
   "source": [
    "def run_model(name, with_ASCs, combined = True, closest = [], alt_spec_closest = False):\n",
    "    \"\"\"\n",
    "    Run logit model with given specification and return pd.DataFrame with predicted probabilities.\n",
    "    name: String for output file names and printing\n",
    "    with_ASCS: Boolean, if True use ASCs and set B_ENROL = 1 else use B_ENROL\n",
    "    combined: Boolean, if True include B_FAM_DIST else set B_FAM_DIST = 0\n",
    "    closest: List of school clodes for which to use B_CLOSEST for closest dummies, if empty do not use set B_CLOSEST = 0 for all schoolds\n",
    "    alt_spec_closest: Boolean indicating whether the B_CLOSEST coefficient should be alternative-specific or generic\n",
    "    \"\"\"\n",
    "    database = db.Database(\"SMTO\", df.select_dtypes(include = 'number'))\n",
    "    ASCs, B_CLOSESTs, V, av = [], [], {}, {}\n",
    "    B_CLOSEST = Beta('B_CLOSEST', 0, None, None, 0 if closest else 1)\n",
    "    B_DIST = Beta('B_DIST', 0, None, None, 0)\n",
    "    B_ENROL = Beta('B_ENROL', 1, None, None, 1 if with_ASCs else 0)\n",
    "    B_FAM_DIST = Beta('B_FAM_DIST', 0, None, None, 0 if combined else 1)\n",
    "\n",
    "    for i in range(len(school_codes)):\n",
    "        code = school_codes[i]\n",
    "        ASCs.append(Beta('ASC_' + code, 0, None, None, 0 if with_ASCs and code != 'SG' else 1))\n",
    "        B_CLOSESTs.append(Beta('B_CLOSEST_' + code, 0, None, None, 0 if alt_spec_closest else 1))\n",
    "        if alt_spec_closest:\n",
    "            V[i] = ASCs[i] + (B_CLOSESTs[i] * database.variables[\"Closest.\" + code] if code in closest else 0) + B_ENROL *  database.variables[\"Enrol.\" + code] + B_DIST * database.variables['Dist.' + code] + B_FAM_DIST * database.variables[\"Dist.\" + code] * database.variables[\"Family\"]\n",
    "        else:\n",
    "            V[i] = ASCs[i] + (B_CLOSEST * database.variables[\"Closest.\" + code] if code in closest else 0) + B_ENROL *  database.variables[\"Enrol.\" + code] + B_DIST * database.variables['Dist.' + code] + B_FAM_DIST * database.variables[\"Dist.\" + code] * database.variables[\"Family\"]\n",
    "        av[i] = 1   \n",
    "    \n",
    "    logprob = models.loglogit(V, av, database.variables[\"School\"])\n",
    "    test_dict = {'loglike': logprob, 'weight': database.variables[\"Exp_Segment\"]}\n",
    "    biogeme  = bio.BIOGEME(database,test_dict,numberOfThreads=1)\n",
    "    biogeme.modelName = name\n",
    "    \n",
    "    results = biogeme.estimate()\n",
    "    betas = results.getBetaValues()    \n",
    "    print(\"Results for \" + name + \" model:\")\n",
    "    print(betas)\n",
    "\n",
    "    simulate = {'Prob.' + school_codes[i]: models.logit(V, av, i) for i in range(len(school_codes))}\n",
    "    sim_biogeme = bio.BIOGEME(database, simulate)\n",
    "    results = sim_biogeme.simulate(betas).set_index(df.index)\n",
    "    \n",
    "    return results"
   ]
  },
  {
   "cell_type": "code",
   "execution_count": 3,
   "metadata": {},
   "outputs": [],
   "source": [
    "def get_cm(probs, hardmax):\n",
    "    cm = []\n",
    "    if hardmax:\n",
    "        for school in range(len(school_codes)):\n",
    "            cm.append([(probs[df['School'] == school][['Prob.' + i for i in school_codes]].idxmax(axis = 1) == 'Prob.' + j).sum() for j in school_codes])\n",
    "    else:\n",
    "        for school in range(len(school_codes)):\n",
    "            cm.append((probs[df['School'] == school][['Prob.' + i for i in school_codes]].sum().values.tolist()))    \n",
    "    return cm\n",
    "\n",
    "def get_accuracy(cm):\n",
    "    correct = sum([cm[i][i] for i in range(len(school_codes))])\n",
    "    return correct/sum(sum(cm,[])) * 100"
   ]
  },
  {
   "cell_type": "code",
   "execution_count": null,
   "metadata": {},
   "outputs": [
    {
     "name": "stdout",
     "output_type": "stream",
     "text": [
      "Results for Prop_Closest_0 model:\n",
      "{'B_DIST': -0.13415780267314728, 'B_ENROL': 0.9202053070704863, 'B_FAM_DIST': 0.06594386641279779}\n",
      "Hardmax Accuracy: 49.59 %\n",
      "Softmax Accuracy: 36.79 %\n",
      "\n"
     ]
    }
   ],
   "source": [
    "df = full_df.copy()\n",
    "for (name, with_ASCs, combined, closest, alt_spec_closest) in (('Prop_Closest_0', False, True, [], False),\n",
    "                                                               ('Prop_Closest_2', False, True, ['MI', 'SG'], False),\n",
    "                                                               ('Prop_Closest_5', False, True, ['MI', 'YK', 'OC', 'SG', 'YG'], False),\n",
    "                                                               ('Prop_Closest_7', False, True, school_codes, False),\n",
    "                                                               ('Eric_Closest_0', True, True, [], False),\n",
    "                                                               ('Eric_Closest_2', True, True, ['MI', 'SG'], True),\n",
    "                                                               ('Eric_Closest_5', True, True, ['MI', 'YK', 'OC', 'SG', 'YG'], True),\n",
    "                                                               ('Eric_Closest_7', True, True, school_codes, True)):\n",
    "    probs = run_model(name, with_ASCs, combined, closest, alt_spec_closest)\n",
    "    hard_cm = get_cm(probs, True)\n",
    "    soft_cm = get_cm(probs, False)\n",
    "    print(\"Hardmax Accuracy: {:2.2f} %\".format(get_accuracy(hard_cm)))\n",
    "    print(\"Softmax Accuracy: {:2.2f} %\".format(get_accuracy(soft_cm)))\n",
    "    print()"
   ]
  }
 ],
 "metadata": {
  "kernelspec": {
   "display_name": "Python 3",
   "language": "python",
   "name": "python3"
  },
  "language_info": {
   "codemirror_mode": {
    "name": "ipython",
    "version": 3
   },
   "file_extension": ".py",
   "mimetype": "text/x-python",
   "name": "python",
   "nbconvert_exporter": "python",
   "pygments_lexer": "ipython3",
   "version": "3.7.6"
  }
 },
 "nbformat": 4,
 "nbformat_minor": 2
}
