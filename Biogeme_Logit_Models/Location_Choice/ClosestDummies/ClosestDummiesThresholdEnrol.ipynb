{
 "cells": [
  {
   "cell_type": "code",
   "execution_count": 2,
   "metadata": {
    "scrolled": true
   },
   "outputs": [],
   "source": [
    "# Import necessary packages\n",
    "import pandas as pd\n",
    "import csv\n",
    "\n",
    "# Load data and remove Other students\n",
    "df = pd.read_csv('../../../Data/SMTO_2015/SMTO_2015_Complete_Input.csv')\n",
    "df = df[df['Level'] != 'Other']\n",
    "\n",
    "# Convert school column to numeric\n",
    "school_codes = df.School.unique().tolist()\n",
    "df['School'] = df['School'].apply(lambda x: school_codes.index(x))\n",
    "\n",
    "# Enrollment columns based on student's level\n",
    "for code in school_codes:\n",
    "    df['Enrol.' + code] = df.apply(lambda x: x['UG.' + code] if x['Level'] == 'UG' else x['Grad.' + code], axis=1)\n",
    "    \n",
    "num_rows = df.shape[0]"
   ]
  },
  {
   "cell_type": "code",
   "execution_count": 3,
   "metadata": {},
   "outputs": [],
   "source": [
    "# Function for confusion matrices\n",
    "def get_cm(probs, hardmax):\n",
    "    cm = []\n",
    "    if hardmax:\n",
    "        for school in range(len(school_codes)):\n",
    "            cm.append([(probs[df['School'] == school][['Prob.' + i for i in school_codes]].idxmax(axis = 1) == 'Prob.' + j).sum() for j in school_codes])\n",
    "    else:\n",
    "        for school in range(len(school_codes)):\n",
    "            cm.append((probs[df['School'] == school][['Prob.' + i for i in school_codes]].sum().values.tolist()))    \n",
    "    return cm\n",
    "\n",
    "# Function for accuracy from confusion matrix\n",
    "def get_accuracy(cm):\n",
    "    correct = sum([cm[i][i] for i in range(len(cm))])\n",
    "    return correct/sum(sum(cm,[])) * 100"
   ]
  },
  {
   "cell_type": "code",
   "execution_count": 9,
   "metadata": {},
   "outputs": [
    {
     "name": "stdout",
     "output_type": "stream",
     "text": [
      "49.44743749136621\n",
      "38.00183550035435\n"
     ]
    }
   ],
   "source": [
    "# Import Biogeme modules\n",
    "import biogeme.database as db\n",
    "import biogeme.biogeme as bio\n",
    "import biogeme.models as models\n",
    "from biogeme.expressions import Beta\n",
    "\n",
    "# Prepare dummy columns\n",
    "for code in school_codes:\n",
    "    df['Closest.' + code] = ((df['Closest.' + code]) & (df['Dist.' + code] <= 2)) * 1\n",
    "database = db.Database(\"SMTO\", df.select_dtypes(include = 'number'))\n",
    "\n",
    "# Specify model\n",
    "V, av = {}, {}\n",
    "B_CLOSEST = Beta('B_CLOSEST', 0, None, None, 0)\n",
    "B_DIST = Beta('B_DIST', 0, None, None, 0)\n",
    "B_FAM_DIST = Beta('B_FAM_DIST', 0, None, None, 0)\n",
    "B_ENROL = Beta('B_ENROL', 0, None, None, 0)\n",
    "for i in range(len(school_codes)):\n",
    "    code = school_codes[i]\n",
    "    V[i] = B_ENROL * database.variables[\"Total.\" + code] + B_CLOSEST * database.variables[\"Closest.\" + code] + database.variables[\"Enrol.\" + code] + database.variables['Dist.' + code] * (B_DIST + B_FAM_DIST * database.variables[\"Family\"])\n",
    "    av[i] = 1   \n",
    "\n",
    "# Run model\n",
    "logprob = models.loglogit(V, av, database.variables[\"School\"])\n",
    "biogeme = bio.BIOGEME(database, {'loglike': logprob, 'weight': database.variables[\"Exp_Segment\"]})\n",
    "betas = biogeme.estimate().getBetaValues()    \n",
    "\n",
    "# Generate probabilities\n",
    "simulate = {'Prob.' + school_codes[i]: models.logit(V, av, i) for i in range(len(school_codes))}\n",
    "sim_biogeme = bio.BIOGEME(database, simulate)\n",
    "probs = sim_biogeme.simulate(betas).set_index(df.index)\n",
    "\n",
    "# Confusion matrices and metrics\n",
    "hard_cm = get_cm(probs, True)\n",
    "soft_cm = get_cm(probs, False)\n",
    "print(get_accuracy(hard_cm))\n",
    "print(get_accuracy(soft_cm))"
   ]
  },
  {
   "cell_type": "code",
   "execution_count": 10,
   "metadata": {},
   "outputs": [
    {
     "data": {
      "text/html": [
       "<html><head><script src='http://transp-or.epfl.ch/biogeme/sorttable.js'></script><meta http-equiv='Content-Type' content='text/html; charset=utf-8' /><title>biogemeModelDefaultName - Report from biogeme 3.2.5 [2020-08-04]</title><meta name='keywords' content='biogeme, discrete choice, random utility'><meta name='description' content='Report from biogeme 3.2.5 [2020-08-04]'><meta name='author' content='Michel Bierlaire'><style type=text/css>.biostyle\t{font-size:10.0pt;\tfont-weight:400;\tfont-style:normal;\tfont-family:Courier;}.boundstyle\t{font-size:10.0pt;\tfont-weight:400;\tfont-style:normal;\tfont-family:Courier;        color:red}</style></head><body bgcolor='#ffffff'><p>biogeme 3.2.5 [2020-08-04]</p>\n",
       "<p><a href='https://www.python.org/' target='_blank'>Python</a> package</p>\n",
       "<p>Home page: <a href='http://biogeme.epfl.ch' target='_blank'>http://biogeme.epfl.ch</a></p>\n",
       "<p>Submit questions to <a href='https://groups.google.com/d/forum/biogeme' target='_blank'>https://groups.google.com/d/forum/biogeme</a></p>\n",
       "<p><a href='http://people.epfl.ch/michel.bierlaire'>Michel Bierlaire</a>, <a href='http://transp-or.epfl.ch'>Transport and Mobility Laboratory</a>, <a href='http://www.epfl.ch'>Ecole Polytechnique F&#233;d&#233;rale de Lausanne (EPFL)</a></p>\n",
       "<p>This file has automatically been generated on 2020-08-04 14:10:12.203400</p>\n",
       "<p>If you drag this HTML file into the Calc application of <a href='http://www.openoffice.org/' target='_blank'>OpenOffice</a>, or the spreadsheet of <a href='https://www.libreoffice.org/' target='_blank'>LibreOffice</a>, you will be able to perform additional calculations.</p>\n",
       "<table>\n",
       "<tr class=biostyle><td align=right><strong>Report file</strong>:\t</td><td>biogemeModelDefaultName.html</td></tr>\n",
       "<tr class=biostyle><td align=right><strong>Database name</strong>:\t</td><td>SMTO</td></tr>\n",
       "</table>\n",
       "<h1>Estimation report</h1>\n",
       "<table border='0'>\n",
       "<tr class=biostyle><td align=right ><strong>Number of estimated parameters</strong>: </td> <td>4</td></tr>\n",
       "<tr class=biostyle><td align=right ><strong>Sample size</strong>: </td> <td>14478</td></tr>\n",
       "<tr class=biostyle><td align=right ><strong>Excluded observations</strong>: </td> <td>0</td></tr>\n",
       "<tr class=biostyle><td align=right ><strong>Init log likelihood</strong>: </td> <td>-21579.53</td></tr>\n",
       "<tr class=biostyle><td align=right ><strong>Final log likelihood</strong>: </td> <td>-18321.45</td></tr>\n",
       "<tr class=biostyle><td align=right ><strong>Likelihood ratio test for the init. model</strong>: </td> <td>6516.16</td></tr>\n",
       "<tr class=biostyle><td align=right ><strong>Rho-square for the init. model</strong>: </td> <td>0.151</td></tr>\n",
       "<tr class=biostyle><td align=right ><strong>Rho-square-bar for the init. model</strong>: </td> <td>0.151</td></tr>\n",
       "<tr class=biostyle><td align=right ><strong>Akaike Information Criterion</strong>: </td> <td>36650.9</td></tr>\n",
       "<tr class=biostyle><td align=right ><strong>Bayesian Information Criterion</strong>: </td> <td>36681.22</td></tr>\n",
       "<tr class=biostyle><td align=right ><strong>Final gradient norm</strong>: </td> <td>6.7268E-04</td></tr>\n",
       "<tr class=biostyle><td align=right ><strong>Diagnostic</strong>: </td> <td>b'CONVERGENCE: NORM_OF_PROJECTED_GRADIENT_<=_PGTOL'</td></tr>\n",
       "<tr class=biostyle><td align=right ><strong>Database readings</strong>: </td> <td>23</td></tr>\n",
       "<tr class=biostyle><td align=right ><strong>Iterations</strong>: </td> <td>21</td></tr>\n",
       "<tr class=biostyle><td align=right ><strong>Optimization time</strong>: </td> <td>0:00:04.534995</td></tr>\n",
       "<tr class=biostyle><td align=right ><strong>Nbr of threads</strong>: </td> <td>4</td></tr>\n",
       "</table>\n",
       "<h1>Estimated parameters</h1>\n",
       "<p><font size='-1'>Click on the headers of the columns to sort the table  [<a href='http://www.kryogenix.org/code/browser/sorttable/' target='_blank'>Credits</a>]</font></p>\n",
       "<table border='1' class='sortable'>\n",
       "<tr class=biostyle><th>Name</th><th>Value</th><th>Std err</th><th>t-test</th><th>p-value</th><th>Rob. Std err</th><th>Rob. t-test</th><th>Rob. p-value</th></tr>\n",
       "<tr class=biostyle><td>B_CLOSEST</td><td>0.922</td><td>0.045</td><td>20.5</td><td>0</td><td>0.0419</td><td>22</td><td>0</td></tr>\n",
       "<tr class=biostyle><td>B_DIST</td><td>-0.114</td><td>0.00273</td><td>-41.7</td><td>0</td><td>0.00294</td><td>-38.9</td><td>0</td></tr>\n",
       "<tr class=biostyle><td>B_ENROL</td><td>-0.0619</td><td>0.013</td><td>-4.74</td><td>2.11e-06</td><td>0.0125</td><td>-4.94</td><td>7.98e-07</td></tr>\n",
       "<tr class=biostyle><td>B_FAM_DIST</td><td>0.0476</td><td>0.00309</td><td>15.4</td><td>0</td><td>0.00325</td><td>14.6</td><td>0</td></tr>\n",
       "</table>\n",
       "<h2>Correlation of coefficients</h2>\n",
       "<p><font size='-1'>Click on the headers of the columns to sort the table [<a href='http://www.kryogenix.org/code/browser/sorttable/' target='_blank'>Credits</a>]</font></p>\n",
       "<table border='1' class='sortable'>\n",
       "<tr class=biostyle><th>Coefficient1</th><th>Coefficient2</th><th>Covariance</th><th>Correlation</th><th>t-test</th><th>p-value</th><th>Rob. cov.</th><th>Rob. corr.</th><th>Rob. t-test</th><th>Rob. p-value</th></tr>\n",
       "<tr class=biostyle><td>B_DIST</td><td>B_CLOSEST</td><td>4.24e-05</td><td>0.345</td><td>-23.5</td><td>0</td><td>4.95e-05</td><td>0.403</td><td>-25.4</td><td>0</td></tr>\n",
       "<tr class=biostyle><td>B_ENROL</td><td>B_CLOSEST</td><td>2.97e-05</td><td>0.0506</td><td>-21.3</td><td>0</td><td>2.36e-05</td><td>0.0449</td><td>-22.8</td><td>0</td></tr>\n",
       "<tr class=biostyle><td>B_ENROL</td><td>B_DIST</td><td>-2.69e-07</td><td>-0.00754</td><td>3.9</td><td>9.42e-05</td><td>-1.62e-06</td><td>-0.0439</td><td>4.01</td><td>6.07e-05</td></tr>\n",
       "<tr class=biostyle><td>B_FAM_DIST</td><td>B_CLOSEST</td><td>-3.85e-05</td><td>-0.277</td><td>-19</td><td>0</td><td>-4.64e-05</td><td>-0.341</td><td>-20.3</td><td>0</td></tr>\n",
       "<tr class=biostyle><td>B_FAM_DIST</td><td>B_DIST</td><td>-7.37e-06</td><td>-0.872</td><td>28.7</td><td>0</td><td>-8.49e-06</td><td>-0.89</td><td>26.9</td><td>0</td></tr>\n",
       "<tr class=biostyle><td>B_FAM_DIST</td><td>B_ENROL</td><td>-2.62e-06</td><td>-0.065</td><td>8.05</td><td>8.88e-16</td><td>-6.24e-07</td><td>-0.0153</td><td>8.42</td><td>0</td></tr>\n",
       "</table>\n",
       "<p>Smallest eigenvalue: 493.588</p>\n",
       "<p>Smallest singular value: 493.588</p>\n",
       "</html>"
      ],
      "text/plain": [
       "<IPython.core.display.HTML object>"
      ]
     },
     "execution_count": 10,
     "metadata": {},
     "output_type": "execute_result"
    }
   ],
   "source": [
    "from IPython.display import HTML\n",
    "HTML(filename= \"biogemeModelDefaultName.html\")"
   ]
  },
  {
   "cell_type": "code",
   "execution_count": null,
   "metadata": {},
   "outputs": [],
   "source": []
  }
 ],
 "metadata": {
  "kernelspec": {
   "display_name": "Python 3",
   "language": "python",
   "name": "python3"
  },
  "language_info": {
   "codemirror_mode": {
    "name": "ipython",
    "version": 3
   },
   "file_extension": ".py",
   "mimetype": "text/x-python",
   "name": "python",
   "nbconvert_exporter": "python",
   "pygments_lexer": "ipython3",
   "version": "3.7.6"
  }
 },
 "nbformat": 4,
 "nbformat_minor": 2
}
