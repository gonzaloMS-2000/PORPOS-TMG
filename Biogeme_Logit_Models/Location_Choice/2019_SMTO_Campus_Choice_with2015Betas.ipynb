{
 "cells": [
  {
   "cell_type": "code",
   "execution_count": 1,
   "metadata": {
    "scrolled": true
   },
   "outputs": [
    {
     "data": {
      "text/plain": [
       "Index(['Campus', 'Level', 'Status', 'Mode_Actual', 'Gender', 'Licence', 'Work',\n",
       "       'Age', 'HomeZone', 'Family',\n",
       "       ...\n",
       "       'Closest.YG', 'Closest.YK', 'PD', 'Enrol.SG', 'Enrol.SC', 'Enrol.MI',\n",
       "       'Enrol.YK', 'Enrol.YG', 'Enrol.RY', 'Enrol.OC'],\n",
       "      dtype='object', length=107)"
      ]
     },
     "execution_count": 1,
     "metadata": {},
     "output_type": "execute_result"
    }
   ],
   "source": [
    "import biogeme.database as db\n",
    "import biogeme.biogeme as bio\n",
    "import biogeme.models as models\n",
    "from biogeme.expressions import Beta, DefineVariable\n",
    "import pandas as pd\n",
    "import math\n",
    "import csv\n",
    "\n",
    "df = pd.read_csv('../../Data/SMTO_2015/SMTO_2015_Complete_Input.csv')\n",
    "df = df[df['Level'] != 'Other']\n",
    "school_codes = ['SG', 'SC', 'MI', 'YK','YG', 'RY','OC']\n",
    "df['School'] = df['School'].apply(lambda x: school_codes.index(x))\n",
    "\n",
    "for code in school_codes:\n",
    "    df['Enrol.' + code] = df.apply(lambda x: x['UG.' + code] if x['Level'] == 'UG' else x['Grad.' + code], axis=1)\n",
    "df.columns"
   ]
  },
  {
   "cell_type": "code",
   "execution_count": 2,
   "metadata": {},
   "outputs": [
    {
     "name": "stdout",
     "output_type": "stream",
     "text": [
      "Results for Proposed model:\n",
      "{'B_DIST': -0.13475000404502052, 'B_FAM_DIST': 0.06520057534791564}\n",
      "\n"
     ]
    }
   ],
   "source": [
    "name = 'Proposed'\n",
    "with_ASCs = False\n",
    "combined = True\n",
    "\n",
    "database = db.Database(\"SMTO\", df.select_dtypes(include = 'number'))\n",
    "ASCs, V, av = [], {}, {}\n",
    "B_DIST = Beta('B_DIST', 0, None, None, 0)\n",
    "B_ENROL = Beta('B_ENROL', 1, None, None, 1 if with_ASCs else 1)\n",
    "B_FAM_DIST = Beta('B_FAM_DIST', 0, None, None, 0)\n",
    "\n",
    "for i in range(len(school_codes)):\n",
    "    code = school_codes[i]\n",
    "    ASCs.append(Beta('ASC_' + code, 0, None, None, 0 if with_ASCs and code != 'SG' else 1))\n",
    "    if combined:\n",
    "        V[i] = ASCs[i] + B_ENROL *  database.variables[\"Enrol.\" + code] + B_DIST * database.variables['Dist.' + code] + B_FAM_DIST * database.variables[\"Dist.\" + code] * database.variables[\"Family\"]\n",
    "    else:\n",
    "        V[i] = ASCs[i] + B_ENROL *  database.variables[\"Enrol.\" + code] + B_DIST * database.variables['Dist.' + code]\n",
    "    av[i] = 1   \n",
    "\n",
    "logprob = models.loglogit(V, av, database.variables[\"School\"])\n",
    "test_dict = {'loglike': logprob, 'weight': database.variables[\"Exp_Segment\"]}\n",
    "biogeme  = bio.BIOGEME(database,test_dict,numberOfThreads=1)\n",
    "biogeme.modelName = name\n",
    "results = biogeme.estimate(saveIterations=True)\n",
    "betas = results.getBetaValues()\n",
    "\n",
    "print(\"Results for \" + name + \" model:\")\n",
    "print(betas)\n",
    "print()"
   ]
  },
  {
   "cell_type": "code",
   "execution_count": 3,
   "metadata": {},
   "outputs": [],
   "source": [
    "# Load 2019 Data\n",
    "full_df = pd.read_csv('../../Data/SMTO_2019/SMTO_2019_Complete_Input.csv')\n",
    "new_school_codes = full_df['School'].unique().tolist()\n",
    "uni_codes = full_df[full_df['School_Type'] == 'University']['School'].unique().tolist()\n",
    "col_codes = full_df[full_df['School_Type'] == 'College']['School'].unique().tolist()\n",
    "\n",
    "# Convert School column to numeric\n",
    "full_df['School'] = full_df['School'].apply(lambda x: new_school_codes.index(x))\n",
    "\n",
    "# Remove rows with missing information\n",
    "full_df = full_df.dropna(subset = ['Family'])\n",
    "full_df['Family'] = (full_df['Family'] * 1).astype(int)\n",
    "\n",
    "cols_to_keep = ['School', 'Family'] + ['Dist.' + code for code in new_school_codes]\n",
    "new_database = db.Database(\"SMTO_2019\", full_df[cols_to_keep])"
   ]
  },
  {
   "cell_type": "code",
   "execution_count": 4,
   "metadata": {
    "scrolled": true
   },
   "outputs": [],
   "source": [
    "# Load enrollment data\n",
    "enrol_df = pd.read_csv('../../Data/School_Info_2019_Pred_Enrol.csv').set_index('Code')\n",
    "\n",
    "def code_to_log_enrol(code):\n",
    "    \"\"\"\n",
    "    Return natural logarithm of total enrollment of campus with given code\n",
    "    If code is invalid, raise KeyError\n",
    "    If no enrollment information available for that code, return np.nan\n",
    "    \"\"\"\n",
    "    return math.log(enrol_df.loc[code]['Total'])"
   ]
  },
  {
   "cell_type": "code",
   "execution_count": null,
   "metadata": {},
   "outputs": [],
   "source": [
    "for i in range(len(new_school_codes)):\n",
    "    code = new_school_codes[i]\n",
    "    enrollment = code_to_log_enrol(code)\n",
    "    V[i] = code_to_log_enrol(code) + B_DIST * new_database.variables['Dist.' + code] + B_FAM_DIST * new_database.variables[\"Dist.\" + code] * new_database.variables[\"Family\"]\n",
    "    av[i] = 1\n",
    "           \n",
    "simulate = {'Prob.' + new_school_codes[i]: models.logit(V, av, i) for i in range(len(new_school_codes))}\n",
    "sim_biogeme = bio.BIOGEME(new_database, simulate)\n",
    "probs = sim_biogeme.simulate(betas).set_index(full_df.index)    \n",
    "hard_cm, soft_cm = [], []"
   ]
  },
  {
   "cell_type": "code",
   "execution_count": 14,
   "metadata": {},
   "outputs": [
    {
     "name": "stdout",
     "output_type": "stream",
     "text": [
      "Hardmax Accuracy: 34.33 %\n",
      "Softmax Accuracy: 24.94 %\n"
     ]
    }
   ],
   "source": [
    "for i in range(len(new_school_codes)):\n",
    "    hard_cm.append([(probs[full_df['School'] == i][['Prob.' + j for j in new_school_codes]].idxmax(axis = 1) == 'Prob.' + k).sum() for k in new_school_codes])\n",
    "    soft_cm.append((probs[full_df['School'] == i][['Prob.' + j for j in new_school_codes]].sum().values.tolist()))     \n",
    "\n",
    "print(\"Hardmax Accuracy: {:2.2f} %\".format(get_accuracy(hard_cm)))\n",
    "print(\"Softmax Accuracy: {:2.2f} %\".format(get_accuracy(soft_cm)))\n",
    "\n",
    "def get_accuracy(cm):\n",
    "    \"\"\"\n",
    "    Given confusion matrix as 2D array, return accuracy\n",
    "    \"\"\"\n",
    "    correct = sum([cm[i][i] for i in range(len(cm))])\n",
    "    return correct/sum(sum(cm,[])) * 100"
   ]
  },
  {
   "cell_type": "code",
   "execution_count": 10,
   "metadata": {
    "scrolled": true
   },
   "outputs": [
    {
     "data": {
      "text/plain": [
       "Prob.CEG       0.968568\n",
       "Prob.CDS       1.021997\n",
       "Prob.CPI       1.120589\n",
       "Prob.CDV       1.862359\n",
       "Prob.MOI       7.038287\n",
       "Prob.MCB      28.247471\n",
       "Prob.MOS      60.012749\n",
       "Prob.CST      68.320504\n",
       "Prob.DWH      70.854962\n",
       "Prob.OTN      76.301257\n",
       "Prob.CAS     104.138213\n",
       "Prob.YG      107.871307\n",
       "Prob.MCM     151.282823\n",
       "Prob.SHH     164.719527\n",
       "Prob.CMO     170.737135\n",
       "Prob.OC      181.751952\n",
       "Prob.OTD     213.942204\n",
       "Prob.SHD     340.141023\n",
       "Prob.SHT     350.197483\n",
       "Prob.DOS     393.129659\n",
       "Prob.SC      493.711189\n",
       "Prob.CPR     520.416063\n",
       "Prob.MI      599.352757\n",
       "Prob.MOF     746.401724\n",
       "Prob.RY     1487.914747\n",
       "Prob.YK     1747.985050\n",
       "Prob.SG     2915.558400\n",
       "dtype: float64"
      ]
     },
     "execution_count": 10,
     "metadata": {},
     "output_type": "execute_result"
    }
   ],
   "source": [
    "probs.sum().sort_values()"
   ]
  },
  {
   "cell_type": "code",
   "execution_count": 12,
   "metadata": {},
   "outputs": [
    {
     "data": {
      "text/plain": [
       "0      299\n",
       "8      509\n",
       "16     299\n",
       "24     523\n",
       "1      157\n",
       "9       63\n",
       "17      67\n",
       "25    1287\n",
       "2       59\n",
       "10    1033\n",
       "18    2288\n",
       "26      90\n",
       "3       39\n",
       "11      27\n",
       "19     280\n",
       "4       12\n",
       "12     260\n",
       "20     214\n",
       "5        2\n",
       "13      31\n",
       "21     150\n",
       "6        1\n",
       "14      11\n",
       "22    2498\n",
       "7       11\n",
       "15     258\n",
       "23     537\n",
       "Name: School, dtype: int64"
      ]
     },
     "execution_count": 12,
     "metadata": {},
     "output_type": "execute_result"
    }
   ],
   "source": [
    "full_df['School'].value_counts(sort=False)"
   ]
  }
 ],
 "metadata": {
  "kernelspec": {
   "display_name": "Python 3",
   "language": "python",
   "name": "python3"
  },
  "language_info": {
   "codemirror_mode": {
    "name": "ipython",
    "version": 3
   },
   "file_extension": ".py",
   "mimetype": "text/x-python",
   "name": "python",
   "nbconvert_exporter": "python",
   "pygments_lexer": "ipython3",
   "version": "3.7.3"
  }
 },
 "nbformat": 4,
 "nbformat_minor": 2
}
