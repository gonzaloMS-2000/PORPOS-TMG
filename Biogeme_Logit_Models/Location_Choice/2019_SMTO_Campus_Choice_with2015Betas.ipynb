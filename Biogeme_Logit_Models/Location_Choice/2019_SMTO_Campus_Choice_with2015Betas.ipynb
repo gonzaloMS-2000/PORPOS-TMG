{
 "cells": [
  {
   "cell_type": "code",
   "execution_count": 1,
   "metadata": {
    "scrolled": true
   },
   "outputs": [],
   "source": [
    "import biogeme.database as db\n",
    "import biogeme.biogeme as bio\n",
    "import biogeme.models as models\n",
    "from biogeme.expressions import Beta, DefineVariable\n",
    "import pandas as pd\n",
    "import math\n",
    "import csv\n",
    "\n",
    "df = pd.read_csv('../../Data/SMTO_2015/SMTO_2015_Complete_Input.csv')\n",
    "df = df[df['Level'] != 'Other']\n",
    "school_codes = ['SG', 'SC', 'MI', 'YK','YG', 'RY','OC']\n",
    "df['School'] = df['School'].apply(lambda x: school_codes.index(x))"
   ]
  },
  {
   "cell_type": "code",
   "execution_count": 2,
   "metadata": {
    "scrolled": true
   },
   "outputs": [
    {
     "data": {
      "text/plain": [
       "0    10460\n",
       "1     6056\n",
       "Name: Family, dtype: int64"
      ]
     },
     "execution_count": 2,
     "metadata": {},
     "output_type": "execute_result"
    }
   ],
   "source": [
    "# Load 2019 Data\n",
    "new_df = pd.read_csv('../../Data/SMTO_2019/SMTO_2019_Complete_Input.csv')\n",
    "new_school_codes = new_df['School'].unique().tolist()\n",
    "uni_codes = new_df[new_df['School_Type'] == 'University']['School'].unique().tolist()\n",
    "\n",
    "# Convert School column to numeric\n",
    "new_df['School'] = new_df['School'].apply(lambda x: new_school_codes.index(x))\n",
    "\n",
    "# Remove rows with missing information\n",
    "new_df['Family'] = (new_df['Family'] == True) * 1\n",
    "new_df['Family'].value_counts()"
   ]
  },
  {
   "cell_type": "code",
   "execution_count": 3,
   "metadata": {},
   "outputs": [],
   "source": [
    "for code in school_codes:\n",
    "    df['Closest.' + code] = ((df['Closest.' + code]) & (df['Dist.' + code] <= 2)).astype(int)\n",
    "    new_df['Closest.' + code] = ((new_df['Closest.' + code]) & (new_df['Dist.' + code] <= 2)).astype(int)"
   ]
  },
  {
   "cell_type": "code",
   "execution_count": 4,
   "metadata": {
    "scrolled": true
   },
   "outputs": [],
   "source": [
    "# Load enrollment data\n",
    "enrol_df = pd.read_csv('../../Data/School_Info_2019_Pred_Enrol.csv').set_index('Code')\n",
    "\n",
    "def code_to_log_enrol(code):\n",
    "    return math.log(enrol_df.loc[code]['Total'])\n",
    "\n",
    "def get_accuracy(cm):\n",
    "    correct = sum([cm[i][i] for i in range(len(cm))])\n",
    "    return correct/sum(sum(cm,[])) * 100"
   ]
  },
  {
   "cell_type": "code",
   "execution_count": 5,
   "metadata": {},
   "outputs": [
    {
     "data": {
      "text/plain": [
       "{'B_DIST': -0.13706131520670153,\n",
       " 'B_ENROL': 1.006296222787749,\n",
       " 'B_FAM_DIST': 0.06619384981254627}"
      ]
     },
     "execution_count": 5,
     "metadata": {},
     "output_type": "execute_result"
    }
   ],
   "source": [
    "# No Closest model\n",
    "database = db.Database(\"SMTO_2015\", df.select_dtypes(include = 'number'))\n",
    "V, av = {}, {}\n",
    "B_DIST = Beta('B_DIST', 0, None, None, 0)\n",
    "B_ENROL = Beta('B_ENROL', 1, None, None, 0)\n",
    "B_FAM_DIST = Beta('B_FAM_DIST', 0, None, None, 0)\n",
    "\n",
    "for i in range(len(school_codes)):\n",
    "    code = school_codes[i]\n",
    "    V[i] = B_ENROL * database.variables[\"Total.\" + code] + database.variables['Dist.' + code] * (B_DIST + B_FAM_DIST * database.variables[\"Family\"])\n",
    "    av[i] = 1   \n",
    "\n",
    "logprob = models.loglogit(V, av, database.variables[\"School\"])\n",
    "test_dict = {'loglike': logprob, 'weight': database.variables[\"Exp_Segment\"]}\n",
    "biogeme  = bio.BIOGEME(database, test_dict)\n",
    "results = biogeme.estimate()\n",
    "betas = results.getBetaValues()\n",
    "betas"
   ]
  },
  {
   "cell_type": "code",
   "execution_count": 6,
   "metadata": {},
   "outputs": [
    {
     "name": "stdout",
     "output_type": "stream",
     "text": [
      "Hardmax Accuracy: 47.15 %\n",
      "Softmax Accuracy: 34.31 %\n"
     ]
    }
   ],
   "source": [
    "simulate = {'Prob.' + school_codes[i]: models.logit(V, av, i) for i in range(len(school_codes))}\n",
    "sim_biogeme = bio.BIOGEME(database, simulate)\n",
    "probs = sim_biogeme.simulate(betas).set_index(df.index)    \n",
    "\n",
    "hard_cm, soft_cm = [], []\n",
    "for i in range(len(school_codes)):\n",
    "    hard_cm.append([(probs[df['School'] == i][['Prob.' + j for j in school_codes]].idxmax(axis = 1) == 'Prob.' + k).sum() for k in school_codes])\n",
    "    soft_cm.append((probs[df['School'] == i][['Prob.' + j for j in school_codes]].sum().values.tolist()))     \n",
    "\n",
    "print(\"Hardmax Accuracy: {:2.2f} %\".format(get_accuracy(hard_cm)))\n",
    "print(\"Softmax Accuracy: {:2.2f} %\".format(get_accuracy(soft_cm)))"
   ]
  },
  {
   "cell_type": "code",
   "execution_count": 7,
   "metadata": {},
   "outputs": [
    {
     "data": {
      "text/plain": [
       "{'B_CLOSEST': 0.8494102407297817,\n",
       " 'B_DIST': -0.11911691175045107,\n",
       " 'B_ENROL': 1.0067965524075508,\n",
       " 'B_FAM_DIST': 0.05008697540446607}"
      ]
     },
     "execution_count": 7,
     "metadata": {},
     "output_type": "execute_result"
    }
   ],
   "source": [
    "# Closest model\n",
    "B_DIST = Beta('B_DIST', 0, None, None, 0)\n",
    "B_ENROL = Beta('B_ENROL', 1, None, None, 0)\n",
    "B_FAM_DIST = Beta('B_FAM_DIST', 0, None, None, 0)\n",
    "B_CLOSEST = Beta('B_CLOSEST', 0, None, None, 0)\n",
    "\n",
    "for i in range(len(school_codes)):\n",
    "    code = school_codes[i]\n",
    "    V[i] = B_ENROL * database.variables[\"Total.\" + code] + database.variables['Dist.' + code] * (B_DIST + B_FAM_DIST * database.variables[\"Family\"]) + B_CLOSEST * database.variables['Closest.' + code]\n",
    "\n",
    "logprob = models.loglogit(V, av, database.variables[\"School\"])\n",
    "test_dict = {'loglike': logprob, 'weight': database.variables[\"Exp_Segment\"]}\n",
    "biogeme  = bio.BIOGEME(database, test_dict)\n",
    "results = biogeme.estimate()\n",
    "betas2 = results.getBetaValues()\n",
    "betas2"
   ]
  },
  {
   "cell_type": "code",
   "execution_count": 8,
   "metadata": {},
   "outputs": [
    {
     "name": "stdout",
     "output_type": "stream",
     "text": [
      "Hardmax Accuracy: 47.16 %\n",
      "Softmax Accuracy: 33.58 %\n"
     ]
    }
   ],
   "source": [
    "probs = sim_biogeme.simulate(betas2).set_index(df.index)    \n",
    "\n",
    "hard_cm, soft_cm = [], []\n",
    "for i in range(len(school_codes)):\n",
    "    hard_cm.append([(probs[df['School'] == i][['Prob.' + j for j in school_codes]].idxmax(axis = 1) == 'Prob.' + k).sum() for k in school_codes])\n",
    "    soft_cm.append((probs[df['School'] == i][['Prob.' + j for j in school_codes]].sum().values.tolist()))     \n",
    "\n",
    "print(\"Hardmax Accuracy: {:2.2f} %\".format(get_accuracy(hard_cm)))\n",
    "print(\"Softmax Accuracy: {:2.2f} %\".format(get_accuracy(soft_cm)))"
   ]
  },
  {
   "cell_type": "code",
   "execution_count": 9,
   "metadata": {},
   "outputs": [
    {
     "name": "stdout",
     "output_type": "stream",
     "text": [
      "Hardmax Accuracy: 33.06 %\n",
      "Softmax Accuracy: 24.68 %\n"
     ]
    }
   ],
   "source": [
    "cols = ['Dist.' + code for code in new_school_codes] + ['Closest.' + code for code in new_school_codes] + ['Family']\n",
    "new_database = db.Database(\"SMTO_2019\", new_df[cols])\n",
    "for i in range(len(new_school_codes)):\n",
    "    code = new_school_codes[i]\n",
    "    V[i] = B_ENROL * code_to_log_enrol(code) + new_database.variables['Dist.' + code] * (B_DIST + B_FAM_DIST * new_database.variables[\"Family\"])\n",
    "    av[i] = 1\n",
    "           \n",
    "simulate = {'Prob.' + new_school_codes[i]: models.logit(V, av, i) for i in range(len(new_school_codes))}\n",
    "sim_biogeme = bio.BIOGEME(new_database, simulate)\n",
    "probs = sim_biogeme.simulate(betas).set_index(new_df.index)    \n",
    "\n",
    "hard_cm, soft_cm = [], []\n",
    "for i in range(len(new_school_codes)):\n",
    "    hard_cm.append([(probs[new_df['School'] == i][['Prob.' + j for j in new_school_codes]].idxmax(axis = 1) == 'Prob.' + k).sum() for k in new_school_codes])\n",
    "    soft_cm.append((probs[new_df['School'] == i][['Prob.' + j for j in new_school_codes]].sum().values.tolist()))     \n",
    "\n",
    "print(\"Hardmax Accuracy: {:2.2f} %\".format(get_accuracy(hard_cm)))\n",
    "print(\"Softmax Accuracy: {:2.2f} %\".format(get_accuracy(soft_cm)))"
   ]
  },
  {
   "cell_type": "code",
   "execution_count": 10,
   "metadata": {},
   "outputs": [
    {
     "name": "stdout",
     "output_type": "stream",
     "text": [
      "Hardmax Accuracy: 32.21 %\n",
      "Softmax Accuracy: 25.54 %\n"
     ]
    }
   ],
   "source": [
    "for i in range(len(new_school_codes)):\n",
    "    code = new_school_codes[i]\n",
    "    V[i] = B_ENROL * code_to_log_enrol(code) + new_database.variables['Dist.' + code] * (B_DIST + B_FAM_DIST * new_database.variables[\"Family\"])+ B_CLOSEST * new_database.variables['Closest.' + code]\n",
    "           \n",
    "simulate = {'Prob.' + new_school_codes[i]: models.logit(V, av, i) for i in range(len(new_school_codes))}\n",
    "sim_biogeme = bio.BIOGEME(new_database, simulate)\n",
    "probs = sim_biogeme.simulate(betas2).set_index(new_df.index)    \n",
    "\n",
    "hard_cm, soft_cm = [], []\n",
    "for i in range(len(new_school_codes)):\n",
    "    hard_cm.append([(probs[new_df['School'] == i][['Prob.' + j for j in new_school_codes]].idxmax(axis = 1) == 'Prob.' + k).sum() for k in new_school_codes])\n",
    "    soft_cm.append((probs[new_df['School'] == i][['Prob.' + j for j in new_school_codes]].sum().values.tolist()))     \n",
    "\n",
    "print(\"Hardmax Accuracy: {:2.2f} %\".format(get_accuracy(hard_cm)))\n",
    "print(\"Softmax Accuracy: {:2.2f} %\".format(get_accuracy(soft_cm)))"
   ]
  }
 ],
 "metadata": {
  "kernelspec": {
   "display_name": "Python 3",
   "language": "python",
   "name": "python3"
  },
  "language_info": {
   "codemirror_mode": {
    "name": "ipython",
    "version": 3
   },
   "file_extension": ".py",
   "mimetype": "text/x-python",
   "name": "python",
   "nbconvert_exporter": "python",
   "pygments_lexer": "ipython3",
   "version": "3.7.6"
  }
 },
 "nbformat": 4,
 "nbformat_minor": 2
}
