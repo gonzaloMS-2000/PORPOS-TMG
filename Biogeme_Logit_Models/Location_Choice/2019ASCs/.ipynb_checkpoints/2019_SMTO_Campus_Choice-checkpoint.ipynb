{
 "cells": [
  {
   "cell_type": "code",
   "execution_count": 1,
   "metadata": {
    "scrolled": true
   },
   "outputs": [],
   "source": [
    "# Import packages\n",
    "import biogeme.database as db\n",
    "import biogeme.biogeme as bio\n",
    "import biogeme.models as models\n",
    "from biogeme.expressions import Beta, DefineVariable\n",
    "import pandas as pd\n",
    "import math\n",
    "import csv\n",
    "import numpy as np\n",
    "\n",
    "# Load data\n",
    "full_df = pd.read_csv('../../../Data/SMTO_2019/SMTO_2019_Complete_Input.csv')\n",
    "school_codes = full_df['School'].unique().tolist()\n",
    "uni_codes = full_df[full_df['School_Type'] == 'University']['School'].unique().tolist()\n",
    "col_codes = full_df[full_df['School_Type'] == 'College']['School'].unique().tolist()\n",
    "\n",
    "# Convert School column to numeric\n",
    "full_df['School'] = full_df['School'].apply(lambda x: school_codes.index(x))\n",
    "\n",
    "# Remove rows with missing information\n",
    "full_df = full_df.dropna(subset = ['Family'])\n",
    "full_df['Family'] = (full_df['Family'] * 1).astype(int)\n",
    "\n",
    "# Subsetted data\n",
    "uni_df = full_df[full_df['School_Type'] == 'University']\n",
    "col_df = full_df[full_df['School_Type'] == 'College']"
   ]
  },
  {
   "cell_type": "code",
   "execution_count": 2,
   "metadata": {},
   "outputs": [],
   "source": [
    "# Load enrollment data\n",
    "enrol_df = pd.read_csv('../../../Data/School_Info_2019.csv').set_index('Code')\n",
    "\n",
    "def code_to_log_enrol(code):\n",
    "    \"\"\"\n",
    "    Return natural logarithm of total enrollment of campus with given code\n",
    "    If code is invalid, raise KeyError\n",
    "    If no enrollment information available for that code, return np.nan\n",
    "    \"\"\"\n",
    "    return math.log(enrol_df.loc[code]['Total'])"
   ]
  },
  {
   "cell_type": "code",
   "execution_count": 3,
   "metadata": {},
   "outputs": [
    {
     "name": "stdout",
     "output_type": "stream",
     "text": [
      "{'ASC_MCB': 6.568446690609114, 'ASC_MCM': 15.311419116924002, 'ASC_OTD': 8.539491882651634, 'ASC_OTN': 9.8445093401701, 'B_DIST': -0.03991419819843938}\n"
     ]
    },
    {
     "name": "stderr",
     "output_type": "stream",
     "text": [
      "C:\\Users\\ethan\\anaconda3\\lib\\site-packages\\ipykernel_launcher.py:38: UserWarning: Boolean Series key will be reindexed to match DataFrame index.\n",
      "C:\\Users\\ethan\\anaconda3\\lib\\site-packages\\ipykernel_launcher.py:39: UserWarning: Boolean Series key will be reindexed to match DataFrame index.\n"
     ]
    },
    {
     "name": "stdout",
     "output_type": "stream",
     "text": [
      "Hardmax Accuracy: 32.63 %\n",
      "Softmax Accuracy: 22.73 %\n",
      "{'ASC_CDS': 3.3139764907658047, 'ASC_CDV': 3.9975966795800386, 'ASC_CMO': 8.297520463353072, 'B_DIST': -0.045314698199286706}\n",
      "Hardmax Accuracy: 50.86 %\n",
      "Softmax Accuracy: 30.82 %\n"
     ]
    }
   ],
   "source": [
    "def get_accuracy(cm):\n",
    "    \"\"\"\n",
    "    Given confusion matrix as 2D array, return accuracy\n",
    "    \"\"\"\n",
    "    correct = sum([cm[i][i] for i in range(len(cm))])\n",
    "    return correct/sum(sum(cm,[])) * 100\n",
    "\n",
    "for df, codes in ((uni_df, uni_codes), (col_df, col_codes)):\n",
    "    school_nums = df['School'].unique().tolist()    \n",
    "    cols_to_keep = ['School', 'Family'] + ['Dist.' + code for code in codes]\n",
    "    database = db.Database(\"SMTO_2019\", df[cols_to_keep])\n",
    "    ASCs, V, av = [], {}, {}\n",
    "    B_DIST = Beta('B_DIST', 0, None, None, 0)\n",
    "    #B_FAM_DIST = Beta('B_FAM_DIST', 0, None, None, 0)\n",
    "\n",
    "    for i in range(len(codes)):\n",
    "        code = codes[i]\n",
    "        enrollment = code_to_log_enrol(code)\n",
    "        if np.isnan(enrollment): # No enrollment information available\n",
    "            ASCs.append(Beta('ASC_' + code, 0, None, None, 0))\n",
    "        else: \n",
    "            ASCs.append(enrollment)\n",
    "        V[school_nums[i]] = ASCs[i] + B_DIST * database.variables['Dist.' + code]\n",
    "        #V[i] = ASCs[i] + B_DIST * database.variables['Dist.' + code] + B_FAM_DIST * database.variables[\"Dist.\" + code] * database.variables[\"Family\"]\n",
    "        av[school_nums[i]] = 1\n",
    "\n",
    "    logprob = models.loglogit(V, av, database.variables[\"School\"])\n",
    "    biogeme = bio.BIOGEME(database, logprob, numberOfThreads=1)\n",
    "    results = biogeme.estimate()\n",
    "    betas = results.getBetaValues()\n",
    "    print(betas)\n",
    "    \n",
    "    simulate = {'Prob.' + codes[i]: models.logit(V, av, school_nums[i]) for i in range(len(codes))}\n",
    "    sim_biogeme = bio.BIOGEME(database, simulate)\n",
    "    probs = sim_biogeme.simulate(betas).set_index(df.index)    \n",
    "    hard_cm, soft_cm = [], []\n",
    "    for i in range(len(codes)):\n",
    "        hard_cm.append([(probs[full_df['School'] == school_nums[i]][['Prob.' + j for j in codes]].idxmax(axis = 1) == 'Prob.' + k).sum() for k in codes])\n",
    "        soft_cm.append((probs[full_df['School'] == school_nums[i]][['Prob.' + j for j in codes]].sum().values.tolist()))    \n",
    "\n",
    "    print(\"Hardmax Accuracy: {:2.2f} %\".format(get_accuracy(hard_cm)))\n",
    "    print(\"Softmax Accuracy: {:2.2f} %\".format(get_accuracy(soft_cm)))"
   ]
  },
  {
   "cell_type": "code",
   "execution_count": 11,
   "metadata": {},
   "outputs": [
    {
     "data": {
      "text/plain": [
       "8.297520463353072"
      ]
     },
     "execution_count": 11,
     "metadata": {},
     "output_type": "execute_result"
    }
   ],
   "source": [
    "betas[str(ASCs[1]).split('(')[0]]"
   ]
  },
  {
   "cell_type": "code",
   "execution_count": null,
   "metadata": {},
   "outputs": [],
   "source": []
  }
 ],
 "metadata": {
  "kernelspec": {
   "display_name": "Python 3",
   "language": "python",
   "name": "python3"
  },
  "language_info": {
   "codemirror_mode": {
    "name": "ipython",
    "version": 3
   },
   "file_extension": ".py",
   "mimetype": "text/x-python",
   "name": "python",
   "nbconvert_exporter": "python",
   "pygments_lexer": "ipython3",
   "version": "3.7.3"
  }
 },
 "nbformat": 4,
 "nbformat_minor": 2
}
