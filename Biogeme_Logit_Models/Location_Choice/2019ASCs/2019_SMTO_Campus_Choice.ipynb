{
 "cells": [
  {
   "cell_type": "code",
   "execution_count": 1,
   "metadata": {
    "scrolled": true
   },
   "outputs": [],
   "source": [
    "# Import packages\n",
    "import biogeme.database as db\n",
    "import biogeme.biogeme as bio\n",
    "import biogeme.models as models\n",
    "from biogeme.expressions import Beta, DefineVariable\n",
    "import pandas as pd\n",
    "import math\n",
    "import csv\n",
    "import numpy as np\n",
    "\n",
    "# Load data\n",
    "full_df = pd.read_csv('../../../Data/SMTO_2019/SMTO_2019_Complete_Input.csv')\n",
    "school_codes = full_df['School'].unique().tolist()\n",
    "uni_codes = full_df[full_df['School_Type'] == 'University']['School'].unique().tolist()\n",
    "col_codes = full_df[full_df['School_Type'] == 'College']['School'].unique().tolist()\n",
    "\n",
    "# Convert School column to numeric\n",
    "full_df['School'] = full_df['School'].apply(lambda x: school_codes.index(x))\n",
    "\n",
    "# Remove rows with missing information\n",
    "full_df = full_df.dropna(subset = ['Family'])\n",
    "full_df['Family'] = (full_df['Family'] * 1).astype(int)\n",
    "\n",
    "# Subsetted data\n",
    "uni_df = full_df[full_df['School_Type'] == 'University']\n",
    "col_df = full_df[full_df['School_Type'] == 'College']"
   ]
  },
  {
   "cell_type": "code",
   "execution_count": 2,
   "metadata": {},
   "outputs": [],
   "source": [
    "# Load enrollment data\n",
    "enrol_df = pd.read_csv('../../../Data/School_Info_2019.csv').set_index('Code')\n",
    "\n",
    "def code_to_log_enrol(code):\n",
    "    \"\"\"\n",
    "    Return natural logarithm of total enrollment of campus with given code\n",
    "    If code is invalid, raise KeyError\n",
    "    If no enrollment information available for that code, return np.nan\n",
    "    \"\"\"\n",
    "    return math.log(enrol_df.loc[code]['Total'])"
   ]
  },
  {
   "cell_type": "code",
   "execution_count": 3,
   "metadata": {},
   "outputs": [],
   "source": [
    "def get_accuracy(cm):\n",
    "    \"\"\"\n",
    "    Given confusion matrix as 2D array, return accuracy\n",
    "    \"\"\"\n",
    "    correct = sum([cm[i][i] for i in range(len(cm))])\n",
    "    return correct/sum(sum(cm,[])) * 100"
   ]
  },
  {
   "cell_type": "code",
   "execution_count": 16,
   "metadata": {},
   "outputs": [
    {
     "name": "stdout",
     "output_type": "stream",
     "text": [
      "{'ASC_CDS': 3.024670519423971, 'ASC_CDV': 3.7427251877395284, 'ASC_CMO': 8.30295391970257, 'ASC_MCB': 6.679542367791751, 'ASC_MCM': 14.763427577264302, 'ASC_OTD': 8.248844567444067, 'ASC_OTN': 9.565721862253193, 'B_DIST': -0.036415079482295803, 'B_FAM_DIST': -0.002423058541245792}\n"
     ]
    }
   ],
   "source": [
    "for df, codes in ((full_df, school_codes),):\n",
    "    school_nums = df['School'].unique().tolist()    \n",
    "    cols_to_keep = ['School', 'Family'] + ['Dist.' + code for code in codes]\n",
    "    database = db.Database(\"SMTO_2019\", df[cols_to_keep])\n",
    "    ASCs, V, av = [], {}, {}\n",
    "    B_DIST = Beta('B_DIST', 0, None, None, 0)\n",
    "    B_FAM_DIST = Beta('B_FAM_DIST', 0, None, None, 0)\n",
    "\n",
    "    for i in range(len(codes)):\n",
    "        code = codes[i]\n",
    "        enrollment = code_to_log_enrol(code)\n",
    "        if np.isnan(enrollment): # No enrollment information available\n",
    "            ASCs.append(Beta('ASC_' + code, 0, None, None, 0))\n",
    "        else: \n",
    "            ASCs.append(enrollment)\n",
    "        V[school_nums[i]] = ASCs[i] + B_DIST * database.variables['Dist.' + code] + B_FAM_DIST * database.variables[\"Dist.\" + code] * database.variables[\"Family\"]\n",
    "        av[school_nums[i]] = 1\n",
    "\n",
    "    logprob = models.loglogit(V, av, database.variables[\"School\"])\n",
    "    biogeme = bio.BIOGEME(database, logprob, numberOfThreads=1)\n",
    "    results = biogeme.estimate()\n",
    "    betas = results.getBetaValues()\n",
    "    print(betas)\n",
    "    \n",
    "    \"\"\"simulate = {'Prob.' + codes[i]: models.logit(V, av, school_nums[i]) for i in range(len(codes))}\n",
    "    sim_biogeme = bio.BIOGEME(database, simulate)\n",
    "    probs = sim_biogeme.simulate(betas).set_index(df.index)    \n",
    "    hard_cm, soft_cm = [], []\n",
    "    for i in range(len(codes)):\n",
    "        hard_cm.append([(probs[full_df['School'] == school_nums[i]][['Prob.' + j for j in codes]].idxmax(axis = 1) == 'Prob.' + k).sum() for k in codes])\n",
    "        soft_cm.append((probs[full_df['School'] == school_nums[i]][['Prob.' + j for j in codes]].sum().values.tolist()))    \n",
    "\n",
    "    print(\"Hardmax Accuracy: {:2.2f} %\".format(get_accuracy(hard_cm)))\n",
    "    print(\"Softmax Accuracy: {:2.2f} %\".format(get_accuracy(soft_cm)))\"\"\""
   ]
  },
  {
   "cell_type": "code",
   "execution_count": 17,
   "metadata": {},
   "outputs": [
    {
     "name": "stdout",
     "output_type": "stream",
     "text": [
      "\tEstimated ASC\t\tEstimated Enrollment\n",
      "ASC_CMO\t8.30295391970257\t4035.7761624998\n",
      "ASC_CDV\t3.7427251877395284\t42.21287155723552\n",
      "ASC_CDS\t3.024670519423971\t20.5872205043546\n",
      "ASC_MCM\t14.763427577264302\t2580329.281556645\n",
      "ASC_MCB\t6.679542367791751\t795.9547741149407\n",
      "ASC_OTN\t9.565721862253193\t14267.248321270277\n",
      "ASC_OTD\t8.248844567444067\t3823.2058119570465\n"
     ]
    }
   ],
   "source": [
    "print(\"\\tEstimated ASC\\t\\tEstimated Enrollment\")\n",
    "for asc in ASCs:\n",
    "    if isinstance(asc, float):\n",
    "        pass\n",
    "    else:\n",
    "        name = str(asc).split(\"(\")[0]\n",
    "        print(name + \"\\t\" + str(betas[name]) + \"\\t\" + str(math.exp(betas[name])))"
   ]
  },
  {
   "cell_type": "code",
   "execution_count": null,
   "metadata": {},
   "outputs": [],
   "source": []
  }
 ],
 "metadata": {
  "kernelspec": {
   "display_name": "Python 3",
   "language": "python",
   "name": "python3"
  },
  "language_info": {
   "codemirror_mode": {
    "name": "ipython",
    "version": 3
   },
   "file_extension": ".py",
   "mimetype": "text/x-python",
   "name": "python",
   "nbconvert_exporter": "python",
   "pygments_lexer": "ipython3",
   "version": "3.7.6"
  }
 },
 "nbformat": 4,
 "nbformat_minor": 2
}
