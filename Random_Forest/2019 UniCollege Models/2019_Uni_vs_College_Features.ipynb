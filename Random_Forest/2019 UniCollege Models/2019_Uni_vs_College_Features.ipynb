{
 "cells": [
  {
   "cell_type": "markdown",
   "metadata": {},
   "source": [
    "# 2019 SMTO Uni/College Choice RF\n",
    "\n",
    "Load the full 2019 SMTO dataframe:"
   ]
  },
  {
   "cell_type": "code",
   "execution_count": 14,
   "metadata": {
    "scrolled": false
   },
   "outputs": [
    {
     "data": {
      "text/html": [
       "<div>\n",
       "<style scoped>\n",
       "    .dataframe tbody tr th:only-of-type {\n",
       "        vertical-align: middle;\n",
       "    }\n",
       "\n",
       "    .dataframe tbody tr th {\n",
       "        vertical-align: top;\n",
       "    }\n",
       "\n",
       "    .dataframe thead th {\n",
       "        text-align: right;\n",
       "    }\n",
       "</style>\n",
       "<table border=\"1\" class=\"dataframe\">\n",
       "  <thead>\n",
       "    <tr style=\"text-align: right;\">\n",
       "      <th></th>\n",
       "      <th>Liv_Arr</th>\n",
       "      <th>Children</th>\n",
       "      <th>Cars</th>\n",
       "      <th>Income</th>\n",
       "      <th>Home_Zone</th>\n",
       "      <th>School_Name</th>\n",
       "      <th>Campus</th>\n",
       "      <th>Work</th>\n",
       "      <th>Licence</th>\n",
       "      <th>Mode</th>\n",
       "      <th>...</th>\n",
       "      <th>Dist.SHH</th>\n",
       "      <th>Dist.SHT</th>\n",
       "      <th>Dist.MI</th>\n",
       "      <th>Dist.SC</th>\n",
       "      <th>Dist.SG</th>\n",
       "      <th>Dist.YK</th>\n",
       "      <th>Dist.YG</th>\n",
       "      <th>Dist.RY</th>\n",
       "      <th>Dist.OC</th>\n",
       "      <th>PD</th>\n",
       "    </tr>\n",
       "  </thead>\n",
       "  <tbody>\n",
       "    <tr>\n",
       "      <th>0</th>\n",
       "      <td>Live with family/parents</td>\n",
       "      <td>0.0</td>\n",
       "      <td>0.0</td>\n",
       "      <td>NaN</td>\n",
       "      <td>3851.0</td>\n",
       "      <td>Centennial College</td>\n",
       "      <td>Progress Campus</td>\n",
       "      <td>NW</td>\n",
       "      <td>False</td>\n",
       "      <td>Transit</td>\n",
       "      <td>...</td>\n",
       "      <td>4.821538</td>\n",
       "      <td>16.18253</td>\n",
       "      <td>19.03615</td>\n",
       "      <td>54.90925</td>\n",
       "      <td>32.749820</td>\n",
       "      <td>40.58064</td>\n",
       "      <td>43.982800</td>\n",
       "      <td>33.227630</td>\n",
       "      <td>31.525830</td>\n",
       "      <td>36</td>\n",
       "    </tr>\n",
       "    <tr>\n",
       "      <th>1</th>\n",
       "      <td>Live with family/parents</td>\n",
       "      <td>0.0</td>\n",
       "      <td>1.0</td>\n",
       "      <td>NaN</td>\n",
       "      <td>181.0</td>\n",
       "      <td>Centennial College</td>\n",
       "      <td>Morningside Campus</td>\n",
       "      <td>NW</td>\n",
       "      <td>False</td>\n",
       "      <td>Transit</td>\n",
       "      <td>...</td>\n",
       "      <td>43.017220</td>\n",
       "      <td>51.23784</td>\n",
       "      <td>22.93553</td>\n",
       "      <td>22.04248</td>\n",
       "      <td>8.990107</td>\n",
       "      <td>9.21471</td>\n",
       "      <td>8.279897</td>\n",
       "      <td>10.301550</td>\n",
       "      <td>10.302330</td>\n",
       "      <td>4</td>\n",
       "    </tr>\n",
       "    <tr>\n",
       "      <th>2</th>\n",
       "      <td>Live with family/parents</td>\n",
       "      <td>0.0</td>\n",
       "      <td>2.0</td>\n",
       "      <td>I don't know</td>\n",
       "      <td>1039.0</td>\n",
       "      <td>Centennial College</td>\n",
       "      <td>Progress Campus</td>\n",
       "      <td>NW</td>\n",
       "      <td>False</td>\n",
       "      <td>Transit</td>\n",
       "      <td>...</td>\n",
       "      <td>71.352090</td>\n",
       "      <td>81.92638</td>\n",
       "      <td>54.53982</td>\n",
       "      <td>13.64408</td>\n",
       "      <td>35.730980</td>\n",
       "      <td>40.61661</td>\n",
       "      <td>29.418650</td>\n",
       "      <td>35.055550</td>\n",
       "      <td>36.449570</td>\n",
       "      <td>20</td>\n",
       "    </tr>\n",
       "    <tr>\n",
       "      <th>3</th>\n",
       "      <td>NaN</td>\n",
       "      <td>NaN</td>\n",
       "      <td>NaN</td>\n",
       "      <td>NaN</td>\n",
       "      <td>191.0</td>\n",
       "      <td>Centennial College</td>\n",
       "      <td>Progress Campus</td>\n",
       "      <td>NW</td>\n",
       "      <td>False</td>\n",
       "      <td>NaN</td>\n",
       "      <td>...</td>\n",
       "      <td>40.200800</td>\n",
       "      <td>48.42141</td>\n",
       "      <td>20.66308</td>\n",
       "      <td>21.85741</td>\n",
       "      <td>5.659206</td>\n",
       "      <td>11.77978</td>\n",
       "      <td>8.357460</td>\n",
       "      <td>6.970653</td>\n",
       "      <td>6.971434</td>\n",
       "      <td>4</td>\n",
       "    </tr>\n",
       "    <tr>\n",
       "      <th>4</th>\n",
       "      <td>Live with family/parents</td>\n",
       "      <td>1.0</td>\n",
       "      <td>1.0</td>\n",
       "      <td>NaN</td>\n",
       "      <td>600.0</td>\n",
       "      <td>Centennial College</td>\n",
       "      <td>Progress Campus</td>\n",
       "      <td>NW</td>\n",
       "      <td>False</td>\n",
       "      <td>NaN</td>\n",
       "      <td>...</td>\n",
       "      <td>61.537790</td>\n",
       "      <td>69.75841</td>\n",
       "      <td>41.28113</td>\n",
       "      <td>11.49956</td>\n",
       "      <td>25.838390</td>\n",
       "      <td>18.81172</td>\n",
       "      <td>15.841280</td>\n",
       "      <td>25.162960</td>\n",
       "      <td>26.824060</td>\n",
       "      <td>16</td>\n",
       "    </tr>\n",
       "  </tbody>\n",
       "</table>\n",
       "<p>5 rows × 46 columns</p>\n",
       "</div>"
      ],
      "text/plain": [
       "                    Liv_Arr  Children  Cars        Income  Home_Zone  \\\n",
       "0  Live with family/parents       0.0   0.0           NaN     3851.0   \n",
       "1  Live with family/parents       0.0   1.0           NaN      181.0   \n",
       "2  Live with family/parents       0.0   2.0  I don't know     1039.0   \n",
       "3                       NaN       NaN   NaN           NaN      191.0   \n",
       "4  Live with family/parents       1.0   1.0           NaN      600.0   \n",
       "\n",
       "          School_Name              Campus Work Licence     Mode  ...  \\\n",
       "0  Centennial College     Progress Campus   NW   False  Transit  ...   \n",
       "1  Centennial College  Morningside Campus   NW   False  Transit  ...   \n",
       "2  Centennial College     Progress Campus   NW   False  Transit  ...   \n",
       "3  Centennial College     Progress Campus   NW   False      NaN  ...   \n",
       "4  Centennial College     Progress Campus   NW   False      NaN  ...   \n",
       "\n",
       "    Dist.SHH  Dist.SHT   Dist.MI   Dist.SC    Dist.SG   Dist.YK    Dist.YG  \\\n",
       "0   4.821538  16.18253  19.03615  54.90925  32.749820  40.58064  43.982800   \n",
       "1  43.017220  51.23784  22.93553  22.04248   8.990107   9.21471   8.279897   \n",
       "2  71.352090  81.92638  54.53982  13.64408  35.730980  40.61661  29.418650   \n",
       "3  40.200800  48.42141  20.66308  21.85741   5.659206  11.77978   8.357460   \n",
       "4  61.537790  69.75841  41.28113  11.49956  25.838390  18.81172  15.841280   \n",
       "\n",
       "     Dist.RY    Dist.OC  PD  \n",
       "0  33.227630  31.525830  36  \n",
       "1  10.301550  10.302330   4  \n",
       "2  35.055550  36.449570  20  \n",
       "3   6.970653   6.971434   4  \n",
       "4  25.162960  26.824060  16  \n",
       "\n",
       "[5 rows x 46 columns]"
      ]
     },
     "execution_count": 14,
     "metadata": {},
     "output_type": "execute_result"
    }
   ],
   "source": [
    "import pandas as pd\n",
    "from sklearn.model_selection import train_test_split\n",
    "from sklearn.ensemble import RandomForestClassifier\n",
    "from sklearn.metrics import precision_recall_fscore_support\n",
    "from sklearn.metrics import matthews_corrcoef\n",
    "from sklearn.metrics import f1_score\n",
    "from sklearn.metrics import confusion_matrix\n",
    "import statistics as stats\n",
    "\n",
    "full_df = pd.read_csv('../../Data/SMTO_2019/SMTO_2019_Complete_Input.csv')\n",
    "full_df.head()"
   ]
  },
  {
   "cell_type": "markdown",
   "metadata": {},
   "source": [
    "Transform the complex income variable into a High/Low/Unknown variable:"
   ]
  },
  {
   "cell_type": "code",
   "execution_count": 19,
   "metadata": {},
   "outputs": [],
   "source": [
    "def income_var(x):\n",
    "    if x == 'Less than $ 14,999':\n",
    "        return 'Low'\n",
    "    elif x == '$ 15,000 - 29,999':\n",
    "        return 'Low'\n",
    "    elif x == '$ 30,000 - 39,999':\n",
    "        return 'Low'\n",
    "    elif x == '$ 40,000 - 49,999':\n",
    "        return 'Low'\n",
    "    elif x == '$ 50,000 - 59,999':\n",
    "        return 'Low'\n",
    "    elif x == '$ 60,000 - 69,999':\n",
    "        return 'Low'\n",
    "    elif x == '$ 70,000 - 79,999':\n",
    "        return 'Low'\n",
    "    elif x == '$ 80,000 - 89,999':\n",
    "        return 'Low'\n",
    "    elif x == '$ 90,000 - 99,999':\n",
    "        return 'High'\n",
    "    elif x == '$ 90,000 - 99,999':\n",
    "        return 'High'\n",
    "    elif x == '$ 100,000 - 124,999':\n",
    "        return 'High'\n",
    "    elif x == '$ 125,000 - 149,999':\n",
    "        return 'High'\n",
    "    elif x == '$ 150,000 - 199,999':\n",
    "        return 'High'\n",
    "    elif x == '$ 200,000 +':\n",
    "        return 'High'\n",
    "    else:\n",
    "        return 'Unknown'\n",
    "    \n",
    "full_df['Income'] = full_df['Income'].apply(lambda x: income_var(x))"
   ]
  },
  {
   "cell_type": "markdown",
   "metadata": {},
   "source": [
    "Split our dataframe into a training set (75% of the original dataframe) and a testing set. For now we will just work with our new training set called `df`."
   ]
  },
  {
   "cell_type": "code",
   "execution_count": 16,
   "metadata": {
    "scrolled": false
   },
   "outputs": [
    {
     "name": "stdout",
     "output_type": "stream",
     "text": [
      "Index(['Liv_Arr', 'Children', 'Cars', 'Income', 'Home_Zone', 'School_Name',\n",
      "       'Campus', 'Work', 'Licence', 'Mode', 'Age', 'Faculty', 'School_Type',\n",
      "       'Family', 'Level', 'Status', 'Campus_Zone', 'School', 'Dist.CST',\n",
      "       'Dist.CAS', 'Dist.CPR', 'Dist.CMO', 'Dist.CDV', 'Dist.CEG', 'Dist.CPI',\n",
      "       'Dist.CDS', 'Dist.DOS', 'Dist.DWH', 'Dist.MCM', 'Dist.MCB', 'Dist.MOF',\n",
      "       'Dist.MOS', 'Dist.MOI', 'Dist.OTD', 'Dist.OTN', 'Dist.SHD', 'Dist.SHH',\n",
      "       'Dist.SHT', 'Dist.MI', 'Dist.SC', 'Dist.SG', 'Dist.YK', 'Dist.YG',\n",
      "       'Dist.RY', 'Dist.OC', 'PD'],\n",
      "      dtype='object')\n"
     ]
    }
   ],
   "source": [
    "# Split 2019 data into initial training and testing\n",
    "df = full_df.sample(frac=0.75, random_state=0)\n",
    "test_df = full_df.drop(df.index)\n",
    "print(df.columns)"
   ]
  },
  {
   "cell_type": "code",
   "execution_count": 17,
   "metadata": {},
   "outputs": [],
   "source": [
    "school_codes = df['School'].unique().tolist()\n",
    "uni_codes = df[df['School_Type'] == 'University']['School'].unique().tolist()"
   ]
  },
  {
   "cell_type": "markdown",
   "metadata": {},
   "source": [
    "#### Variables:"
   ]
  },
  {
   "cell_type": "code",
   "execution_count": 18,
   "metadata": {},
   "outputs": [
    {
     "ename": "NameError",
     "evalue": "name 'x' is not defined",
     "output_type": "error",
     "traceback": [
      "\u001b[1;31m---------------------------------------------------------------------------\u001b[0m",
      "\u001b[1;31mNameError\u001b[0m                                 Traceback (most recent call last)",
      "\u001b[1;32m<ipython-input-18-46a8d5840de7>\u001b[0m in \u001b[0;36m<module>\u001b[1;34m\u001b[0m\n\u001b[1;32m----> 1\u001b[1;33m \u001b[1;32mfor\u001b[0m \u001b[1;33m(\u001b[0m\u001b[0mdf\u001b[0m\u001b[1;33m,\u001b[0m\u001b[0mx\u001b[0m\u001b[1;33m,\u001b[0m\u001b[0my\u001b[0m\u001b[1;33m)\u001b[0m \u001b[1;32min\u001b[0m \u001b[1;33m[\u001b[0m\u001b[1;33m(\u001b[0m\u001b[0mdf\u001b[0m\u001b[1;33m,\u001b[0m \u001b[0mx\u001b[0m\u001b[1;33m,\u001b[0m \u001b[0my\u001b[0m\u001b[1;33m)\u001b[0m\u001b[1;33m,\u001b[0m \u001b[1;33m(\u001b[0m\u001b[0mtest_df\u001b[0m\u001b[1;33m,\u001b[0m \u001b[0mtest_x\u001b[0m\u001b[1;33m,\u001b[0m \u001b[0mtest_y\u001b[0m\u001b[1;33m)\u001b[0m\u001b[1;33m]\u001b[0m\u001b[1;33m:\u001b[0m\u001b[1;33m\u001b[0m\u001b[1;33m\u001b[0m\u001b[0m\n\u001b[0m\u001b[0;32m      2\u001b[0m \u001b[1;33m\u001b[0m\u001b[0m\n\u001b[0;32m      3\u001b[0m     \u001b[0mdf\u001b[0m\u001b[1;33m[\u001b[0m\u001b[1;34m'Closest'\u001b[0m\u001b[1;33m]\u001b[0m \u001b[1;33m=\u001b[0m \u001b[0mdf\u001b[0m\u001b[1;33m[\u001b[0m\u001b[1;33m[\u001b[0m\u001b[1;34m'Dist.'\u001b[0m \u001b[1;33m+\u001b[0m \u001b[0mcode\u001b[0m \u001b[1;32mfor\u001b[0m \u001b[0mcode\u001b[0m \u001b[1;32min\u001b[0m \u001b[0mschool_codes\u001b[0m\u001b[1;33m]\u001b[0m\u001b[1;33m]\u001b[0m\u001b[1;33m.\u001b[0m\u001b[0midxmin\u001b[0m\u001b[1;33m(\u001b[0m\u001b[0maxis\u001b[0m \u001b[1;33m=\u001b[0m \u001b[1;36m1\u001b[0m\u001b[1;33m)\u001b[0m\u001b[1;33m\u001b[0m\u001b[1;33m\u001b[0m\u001b[0m\n\u001b[0;32m      4\u001b[0m     \u001b[0mdf\u001b[0m\u001b[1;33m[\u001b[0m\u001b[1;34m'Closest_Type'\u001b[0m\u001b[1;33m]\u001b[0m \u001b[1;33m=\u001b[0m \u001b[0mdf\u001b[0m\u001b[1;33m[\u001b[0m\u001b[1;34m'Closest'\u001b[0m\u001b[1;33m]\u001b[0m\u001b[1;33m.\u001b[0m\u001b[0mstr\u001b[0m\u001b[1;33m.\u001b[0m\u001b[0msplit\u001b[0m\u001b[1;33m(\u001b[0m\u001b[1;34m'.'\u001b[0m\u001b[1;33m)\u001b[0m\u001b[1;33m.\u001b[0m\u001b[0mapply\u001b[0m\u001b[1;33m(\u001b[0m\u001b[1;32mlambda\u001b[0m \u001b[0mx\u001b[0m\u001b[1;33m:\u001b[0m \u001b[1;36m1\u001b[0m \u001b[1;32mif\u001b[0m \u001b[0mx\u001b[0m\u001b[1;33m[\u001b[0m\u001b[1;36m1\u001b[0m\u001b[1;33m]\u001b[0m \u001b[1;32min\u001b[0m \u001b[0muni_codes\u001b[0m \u001b[1;32melse\u001b[0m \u001b[1;36m0\u001b[0m\u001b[1;33m)\u001b[0m\u001b[1;33m\u001b[0m\u001b[1;33m\u001b[0m\u001b[0m\n\u001b[0;32m      5\u001b[0m     \u001b[0mdf\u001b[0m\u001b[1;33m[\u001b[0m\u001b[1;34m'Closest_College'\u001b[0m\u001b[1;33m]\u001b[0m \u001b[1;33m=\u001b[0m \u001b[1;33m(\u001b[0m\u001b[0mdf\u001b[0m\u001b[1;33m[\u001b[0m\u001b[1;34m'Closest_Type'\u001b[0m\u001b[1;33m]\u001b[0m \u001b[1;33m==\u001b[0m \u001b[1;36m0\u001b[0m\u001b[1;33m)\u001b[0m \u001b[1;33m&\u001b[0m \u001b[1;33m(\u001b[0m\u001b[0mdf\u001b[0m\u001b[1;33m[\u001b[0m\u001b[1;34m'Family'\u001b[0m\u001b[1;33m]\u001b[0m \u001b[1;33m==\u001b[0m \u001b[1;32mFalse\u001b[0m\u001b[1;33m)\u001b[0m\u001b[1;33m\u001b[0m\u001b[1;33m\u001b[0m\u001b[0m\n",
      "\u001b[1;31mNameError\u001b[0m: name 'x' is not defined"
     ]
    }
   ],
   "source": [
    "x = 0\n",
    "y = 0\n",
    "\n",
    "for (df,x,y) in [(df, x, y), (test_df, test_x, test_y)]:\n",
    "\n",
    "    df['Closest'] = df[['Dist.' + code for code in school_codes]].idxmin(axis = 1)\n",
    "    df['Closest_Type'] = df['Closest'].str.split('.').apply(lambda x: 1 if x[1] in uni_codes else 0)\n",
    "    df['Closest_College'] = (df['Closest_Type'] == 0) & (df['Family'] == False)\n",
    "    df['Closest_Uni'] = (df['Closest_Type'] == 1) & (df['Family'] == False)\n",
    "\n",
    "    # Filter df with our needed variables\n",
    "    variable_list = ['PD', 'Age', 'Cars', 'Family', 'Income', 'Closest_Type', 'Licence']\n",
    "    df = pd.concat((df['School_Type'], df[variable_list],), axis = 1)\n",
    "\n",
    "    # Define X and Y\n",
    "    y = df['School_Type']\n",
    "    x = df[variable_list]\n",
    "\n",
    "    # Make boolean variables\n",
    "    x = pd.concat((x, pd.get_dummies(x['Income'])), axis = 1)\n",
    "    del x['Income']\n",
    "    del x['Unknown']\n",
    "    x['Family'].fillna('Unknown', inplace = True)\n",
    "    x = pd.concat((x, pd.get_dummies(x['Family'])), axis = 1)\n",
    "    del x['Family']\n",
    "    del x['Unknown']\n",
    "    x['Cars2+'] = (x['Cars'] >= 2)*1\n",
    "    x['Cars1'] = (x['Cars'] == 1)*1\n",
    "    x['Cars0'] = (x['Cars'] == 0)*1\n",
    "    del x['Cars']\n",
    "    x['Licence_True']  = (x['Licence'] == 1)\n",
    "    x['Licence_False']  = (x['Licence'] == 0)\n",
    "    del x['Licence']\n",
    "\n",
    "    # Make X & Y the same length\n",
    "    x = x.dropna()\n",
    "    y = y.loc[x.index]"
   ]
  },
  {
   "cell_type": "code",
   "execution_count": null,
   "metadata": {
    "scrolled": true
   },
   "outputs": [],
   "source": [
    "f1s = []\n",
    "CMs = []\n",
    "\n",
    "for i in range(10):\n",
    "\n",
    "    # --- RUN Random Forest Model --- #\n",
    "    rf = RandomForestClassifier(n_estimators=100)\n",
    "    X_train, X_test, y_train, y_test = train_test_split(x, y, test_size=0.3)\n",
    "    rf.fit(X_train, y_train)\n",
    "    y_pred = rf.predict(X_test)\n",
    "\n",
    "    # --- Feature Importances ---\n",
    "    if i == 0:\n",
    "        features = pd.DataFrame(index = X_test.columns)\n",
    "        features['FeatImportance.0'] = rf.feature_importances_\n",
    "        #features.sort_values(by='FeatImportance' , inplace=True, ascending = False)\n",
    "    else:\n",
    "        temp_features = pd.DataFrame(index = X_test.columns)\n",
    "        temp_features['FeatImportance.' + str(i)] = rf.feature_importances_\n",
    "        features = pd.concat((features, temp_features), axis = 1)\n",
    "\n",
    "\n",
    "    # --- Confusion Matrix ---\n",
    "    CM = pd.DataFrame(confusion_matrix(y_test, y_pred))\n",
    "    CM.rename(columns = {0: 'Pred_Col', 1: 'Pred_Uni'}, index = {0: 'Obs_Col', 1: 'Obs_Uni'}, inplace = True)\n",
    "    CMs.append(CM)\n",
    "\n",
    "    # --- College F-1 Score ---\n",
    "    f1s.append(f1_score(y_test, y_pred, average=None)[0])"
   ]
  },
  {
   "cell_type": "code",
   "execution_count": null,
   "metadata": {},
   "outputs": [],
   "source": [
    "print(\"Average College F-1 Score: \\t\" + str(stats.mean(f1s)))\n",
    "print(\"MAX College F-1 Score: \\t\\t\" + str(max(f1s)))"
   ]
  },
  {
   "cell_type": "code",
   "execution_count": null,
   "metadata": {},
   "outputs": [],
   "source": [
    "index_max = f1s.index(max(f1s))\n",
    "print(\"\\nCONFUSION MATRIX for best F-1 Score:\")\n",
    "pd.DataFrame(CMs[index_max])"
   ]
  },
  {
   "cell_type": "code",
   "execution_count": null,
   "metadata": {
    "scrolled": false
   },
   "outputs": [],
   "source": [
    "print('\\nFeature Imporance Rank for best F-1 Score:')\n",
    "col_name = 'FeatImportance.' + str(index_max)\n",
    "best_feat = pd.DataFrame(features['FeatImportance.' + str(index_max)]).rename(columns = {col_name:'Feature Importance'})\n",
    "best_feat.sort_values(by = 'Feature Importance', inplace=True, ascending = False)\n",
    "best_feat"
   ]
  },
  {
   "cell_type": "code",
   "execution_count": null,
   "metadata": {
    "scrolled": true
   },
   "outputs": [],
   "source": [
    "pd.DataFrame(rf.predict_proba(X_test))"
   ]
  },
  {
   "cell_type": "markdown",
   "metadata": {},
   "source": [
    "Testing with separate tesing set:"
   ]
  },
  {
   "cell_type": "code",
   "execution_count": null,
   "metadata": {
    "scrolled": true
   },
   "outputs": [],
   "source": [
    "'''\n",
    "test_df['Closest'] = test_df[['Dist.' + code for code in school_codes]].idxmin(axis = 1)\n",
    "test_df['Closest_Type'] = test_df['Closest'].str.split('.').apply(lambda x: 1 if x[1] in uni_codes else 0)\n",
    "test_df['Closest_College'] = (test_df['Closest_Type'] == 0) & (test_df['Family'] == False)\n",
    "test_df['Closest_Uni'] = (test_df['Closest_Type'] == 1) & (test_df['Family'] == False)\n",
    "\n",
    "# Filter df with our needed variables\n",
    "variable_list = ['PD', 'Age', 'Cars', 'Family', 'Income', 'Closest_Type', 'Licence']\n",
    "test_df = pd.concat((test_df['School_Type'], test_df[variable_list],), axis = 1)\n",
    "\n",
    "# Define X and Y\n",
    "test_y = test_df['School_Type']\n",
    "test_x = test_df[variable_list]\n",
    "\n",
    "# Make boolean variables\n",
    "test_x = pd.concat((test_x, pd.get_dummies(test_x['Income'])), axis = 1)\n",
    "del test_x['Income']\n",
    "del test_x['Unknown']\n",
    "test_x['Family'].fillna('Unknown', inplace = True)\n",
    "test_x = pd.concat((test_x, pd.get_dummies(test_x['Family'])), axis = 1)\n",
    "del test_x['Family']\n",
    "del test_x['Unknown']\n",
    "test_x['Cars2+'] = (test_x['Cars'] >= 2)*1\n",
    "test_x['Cars1'] = (test_x['Cars'] == 1)*1\n",
    "test_x['Cars0'] = (test_x['Cars'] == 0)*1\n",
    "del test_x['Cars']\n",
    "test_x['Licence_True']  = (test_x['Licence'] == 1)\n",
    "test_x['Licence_False']  = (test_x['Licence'] == 0)\n",
    "del test_x['Licence']\n",
    "\n",
    "# Make X & Y the same length\n",
    "test_x = test_x.dropna()\n",
    "test_y = test_y.loc[test_x.index]\n",
    "'''\n",
    "# Run Model on Testing Data\n",
    "y_pred_new = rf.predict(test_x)"
   ]
  },
  {
   "cell_type": "code",
   "execution_count": null,
   "metadata": {},
   "outputs": [],
   "source": [
    "# --- Confusion Matrix ---\n",
    "test_CM = pd.DataFrame(confusion_matrix(test_y, y_pred_new))\n",
    "test_CM.rename(columns = {0: 'Pred_Col', 1: 'Pred_Uni'}, index = {0: 'Obs_Col', 1: 'Obs_Uni'}, inplace = True)\n",
    "test_CM"
   ]
  },
  {
   "cell_type": "code",
   "execution_count": null,
   "metadata": {},
   "outputs": [],
   "source": [
    "# --- College F-1 Score ---\n",
    "print(f1_score(test_y, y_pred_new, average=None)[0])"
   ]
  }
 ],
 "metadata": {
  "kernelspec": {
   "display_name": "Python 3",
   "language": "python",
   "name": "python3"
  },
  "language_info": {
   "codemirror_mode": {
    "name": "ipython",
    "version": 3
   },
   "file_extension": ".py",
   "mimetype": "text/x-python",
   "name": "python",
   "nbconvert_exporter": "python",
   "pygments_lexer": "ipython3",
   "version": "3.7.3"
  }
 },
 "nbformat": 4,
 "nbformat_minor": 4
}
