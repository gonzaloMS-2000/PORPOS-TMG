{
 "cells": [
  {
   "cell_type": "markdown",
   "metadata": {},
   "source": [
    "# 2019 SMTO Uni/College Choice RF\n",
    "\n",
    "The purpose of this notebook is to summarize the resutls of our initial exploration of Random Forest models as way to predict whether a student will attend University or College. We will be using the `2019 SMTO Survey` dataset. The data was previously reformated and split into two separate training (75%) and testing (25%) .csv files. We will develop our model using the Training file and later compare the results by running our model on the Testing file\n",
    "\n",
    "Let's begin by loading the Training and Testing 2019 SMTO dataframes:"
   ]
  },
  {
   "cell_type": "code",
   "execution_count": 1,
   "metadata": {
    "scrolled": true
   },
   "outputs": [
    {
     "data": {
      "text/html": [
       "<div>\n",
       "<style scoped>\n",
       "    .dataframe tbody tr th:only-of-type {\n",
       "        vertical-align: middle;\n",
       "    }\n",
       "\n",
       "    .dataframe tbody tr th {\n",
       "        vertical-align: top;\n",
       "    }\n",
       "\n",
       "    .dataframe thead th {\n",
       "        text-align: right;\n",
       "    }\n",
       "</style>\n",
       "<table border=\"1\" class=\"dataframe\">\n",
       "  <thead>\n",
       "    <tr style=\"text-align: right;\">\n",
       "      <th></th>\n",
       "      <th>Index</th>\n",
       "      <th>School_Type</th>\n",
       "      <th>PD</th>\n",
       "      <th>Age</th>\n",
       "      <th>Closest_Type</th>\n",
       "      <th>Income_High</th>\n",
       "      <th>Income_Low</th>\n",
       "      <th>Family_True</th>\n",
       "      <th>Family_False</th>\n",
       "      <th>Cars2+</th>\n",
       "      <th>Cars1</th>\n",
       "      <th>Cars0</th>\n",
       "      <th>Licence_True</th>\n",
       "      <th>Licence_False</th>\n",
       "    </tr>\n",
       "  </thead>\n",
       "  <tbody>\n",
       "    <tr>\n",
       "      <th>0</th>\n",
       "      <td>16062</td>\n",
       "      <td>University</td>\n",
       "      <td>31</td>\n",
       "      <td>18.0</td>\n",
       "      <td>1</td>\n",
       "      <td>0</td>\n",
       "      <td>1</td>\n",
       "      <td>1</td>\n",
       "      <td>0</td>\n",
       "      <td>1</td>\n",
       "      <td>0</td>\n",
       "      <td>0</td>\n",
       "      <td>1</td>\n",
       "      <td>0</td>\n",
       "    </tr>\n",
       "    <tr>\n",
       "      <th>1</th>\n",
       "      <td>12761</td>\n",
       "      <td>University</td>\n",
       "      <td>8</td>\n",
       "      <td>19.0</td>\n",
       "      <td>0</td>\n",
       "      <td>0</td>\n",
       "      <td>0</td>\n",
       "      <td>1</td>\n",
       "      <td>0</td>\n",
       "      <td>0</td>\n",
       "      <td>0</td>\n",
       "      <td>0</td>\n",
       "      <td>0</td>\n",
       "      <td>1</td>\n",
       "    </tr>\n",
       "    <tr>\n",
       "      <th>2</th>\n",
       "      <td>7609</td>\n",
       "      <td>University</td>\n",
       "      <td>33</td>\n",
       "      <td>18.0</td>\n",
       "      <td>1</td>\n",
       "      <td>0</td>\n",
       "      <td>0</td>\n",
       "      <td>0</td>\n",
       "      <td>0</td>\n",
       "      <td>0</td>\n",
       "      <td>0</td>\n",
       "      <td>0</td>\n",
       "      <td>1</td>\n",
       "      <td>0</td>\n",
       "    </tr>\n",
       "    <tr>\n",
       "      <th>3</th>\n",
       "      <td>10027</td>\n",
       "      <td>University</td>\n",
       "      <td>1</td>\n",
       "      <td>18.0</td>\n",
       "      <td>1</td>\n",
       "      <td>0</td>\n",
       "      <td>0</td>\n",
       "      <td>0</td>\n",
       "      <td>1</td>\n",
       "      <td>0</td>\n",
       "      <td>0</td>\n",
       "      <td>1</td>\n",
       "      <td>1</td>\n",
       "      <td>0</td>\n",
       "    </tr>\n",
       "    <tr>\n",
       "      <th>4</th>\n",
       "      <td>9417</td>\n",
       "      <td>College</td>\n",
       "      <td>35</td>\n",
       "      <td>28.0</td>\n",
       "      <td>0</td>\n",
       "      <td>0</td>\n",
       "      <td>1</td>\n",
       "      <td>0</td>\n",
       "      <td>1</td>\n",
       "      <td>0</td>\n",
       "      <td>0</td>\n",
       "      <td>1</td>\n",
       "      <td>0</td>\n",
       "      <td>1</td>\n",
       "    </tr>\n",
       "  </tbody>\n",
       "</table>\n",
       "</div>"
      ],
      "text/plain": [
       "   Index School_Type  PD   Age  Closest_Type  Income_High  Income_Low  \\\n",
       "0  16062  University  31  18.0             1            0           1   \n",
       "1  12761  University   8  19.0             0            0           0   \n",
       "2   7609  University  33  18.0             1            0           0   \n",
       "3  10027  University   1  18.0             1            0           0   \n",
       "4   9417     College  35  28.0             0            0           1   \n",
       "\n",
       "   Family_True  Family_False  Cars2+  Cars1  Cars0  Licence_True  \\\n",
       "0            1             0       1      0      0             1   \n",
       "1            1             0       0      0      0             0   \n",
       "2            0             0       0      0      0             1   \n",
       "3            0             1       0      0      1             1   \n",
       "4            0             1       0      0      1             0   \n",
       "\n",
       "   Licence_False  \n",
       "0              0  \n",
       "1              1  \n",
       "2              0  \n",
       "3              0  \n",
       "4              1  "
      ]
     },
     "execution_count": 1,
     "metadata": {},
     "output_type": "execute_result"
    }
   ],
   "source": [
    "import pandas as pd\n",
    "from sklearn.model_selection import train_test_split\n",
    "from sklearn.ensemble import RandomForestClassifier\n",
    "from sklearn.metrics import precision_recall_fscore_support\n",
    "from sklearn.metrics import matthews_corrcoef\n",
    "from sklearn.metrics import f1_score\n",
    "from sklearn.metrics import confusion_matrix\n",
    "import statistics as stats\n",
    "\n",
    "df = pd.read_csv('2019_SMTO_Training_Set.csv').rename(columns = {'Unnamed: 0': 'Index'})\n",
    "test_df = pd.read_csv('2019_SMTO_Testing_Set.csv').rename(columns = {'Unnamed: 0': 'Index'})\n",
    "df.head()"
   ]
  },
  {
   "cell_type": "markdown",
   "metadata": {},
   "source": [
    "### Feature Engineering Process:\n",
    "\n",
    "The variables that we will pass into our Random Forest model are the following:\n",
    "\n",
    "- __PD:__ Planning District from 2006 TTS.\n",
    "- __Age__\n",
    "- __Family:__ Living with Family / Not Living with Family\n",
    "- __Income:__ High/Low\n",
    "- __Cars:__ 0/1/2+ Cars\n",
    "- __Licence:__ Has Driver's Licence / Does not have Driver's Licence\n",
    "- __Closest Type:__ College (if their closest school is a College) / University (if their closest school is a University)\n",
    "\n",
    "These attributes were carefully selected throughout a prior feature engineering process. As you can see in the above chart, some of these variables are cardinal numbers while others are simple boolean dummie variables. However, these variables previously had the form of numeric or string data. For example, income was a variable where the options were a set of 10 different money ranges and we transformed it into two dummie features for High and Low income. Similarly, we found that the model performed best when the number of cars was split into 3 factors (0/1/2+) and a dummie column was created for each factor. By trying out several models with different combinations of variables in different formats and looking at how relevant each of the attributes were, we determined that this current dataset contained the features and format that optimized our model.   \n",
    "\n",
    "\n",
    "### Main Metric: `College F-1 Score`\n",
    "\n",
    "To understand the quality of our model we will be mainly look at College F-1 Scores. We have a much greater number of university students than college students in our sample, and innevitably, the model will be heavily biased towards predicting 'University'. For this reason, the College F-1 Scores will help us to know how well our model is identifying these minority college students by giving us a value that balances College Precision and College Recall.\n",
    "\n",
    "### Create RF Model\n",
    "\n",
    "We will now create our Random Forest model. This model further splits the training data into two X_train and X_test sets. We will run everything several times in order to get a set of metrics that we can later average to increase the reliability of the metric estimation. "
   ]
  },
  {
   "cell_type": "code",
   "execution_count": 2,
   "metadata": {
    "scrolled": true
   },
   "outputs": [],
   "source": [
    "# Define X and Y for the training set\n",
    "y = df['School_Type']\n",
    "x = df.drop(labels = ['School_Type', 'Index'], axis = 1)\n",
    "\n",
    "f1s = []\n",
    "CMs = []\n",
    "\n",
    "for i in range(15):\n",
    "\n",
    "    # --- RUN Random Forest Model --- #\n",
    "    rf = RandomForestClassifier(n_estimators=100)\n",
    "    X_train, X_test, y_train, y_test = train_test_split(x, y, test_size=0.3)\n",
    "    rf.fit(X_train, y_train)\n",
    "    y_pred = rf.predict(X_test)\n",
    "\n",
    "    # --- Feature Importances ---\n",
    "    if i == 0:\n",
    "        features = pd.DataFrame(index = X_test.columns)\n",
    "        features['FeatImportance.0'] = rf.feature_importances_\n",
    "        #features.sort_values(by='FeatImportance' , inplace=True, ascending = False)\n",
    "    else:\n",
    "        temp_features = pd.DataFrame(index = X_test.columns)\n",
    "        temp_features['FeatImportance.' + str(i)] = rf.feature_importances_\n",
    "        features = pd.concat((features, temp_features), axis = 1)\n",
    "\n",
    "\n",
    "    # --- Confusion Matrix ---\n",
    "    CM = pd.DataFrame(confusion_matrix(y_test, y_pred))\n",
    "    CM.rename(columns = {0: 'Pred_Col', 1: 'Pred_Uni'}, index = {0: 'Obs_Col', 1: 'Obs_Uni'}, inplace = True)\n",
    "    CMs.append(CM)\n",
    "\n",
    "    # --- College F-1 Score ---\n",
    "    f1s.append(f1_score(y_test, y_pred, average=None)[0])"
   ]
  },
  {
   "cell_type": "markdown",
   "metadata": {},
   "source": [
    "Below we can see the average College F-1 Scores as well as the maximum score out of all the trials:"
   ]
  },
  {
   "cell_type": "code",
   "execution_count": 3,
   "metadata": {
    "scrolled": true
   },
   "outputs": [
    {
     "name": "stdout",
     "output_type": "stream",
     "text": [
      "AVERAGE College F-1 Score: \t0.4317096564400723\n",
      "MAX College F-1 Score: \t\t0.4521615875265769\n"
     ]
    }
   ],
   "source": [
    "print(\"AVERAGE College F-1 Score: \\t\" + str(stats.mean(f1s)))\n",
    "print(\"MAX College F-1 Score: \\t\\t\" + str(max(f1s)))"
   ]
  },
  {
   "cell_type": "markdown",
   "metadata": {},
   "source": [
    "We can see that the College F-1 Scores are not incredibly good. Let's look at the confusion matrix displayed below:"
   ]
  },
  {
   "cell_type": "code",
   "execution_count": 4,
   "metadata": {},
   "outputs": [
    {
     "name": "stdout",
     "output_type": "stream",
     "text": [
      "\n",
      "CONFUSION MATRIX for best F-1 Score:\n"
     ]
    },
    {
     "data": {
      "text/html": [
       "<div>\n",
       "<style scoped>\n",
       "    .dataframe tbody tr th:only-of-type {\n",
       "        vertical-align: middle;\n",
       "    }\n",
       "\n",
       "    .dataframe tbody tr th {\n",
       "        vertical-align: top;\n",
       "    }\n",
       "\n",
       "    .dataframe thead th {\n",
       "        text-align: right;\n",
       "    }\n",
       "</style>\n",
       "<table border=\"1\" class=\"dataframe\">\n",
       "  <thead>\n",
       "    <tr style=\"text-align: right;\">\n",
       "      <th></th>\n",
       "      <th>Pred_Col</th>\n",
       "      <th>Pred_Uni</th>\n",
       "    </tr>\n",
       "  </thead>\n",
       "  <tbody>\n",
       "    <tr>\n",
       "      <th>Obs_Col</th>\n",
       "      <td>319</td>\n",
       "      <td>479</td>\n",
       "    </tr>\n",
       "    <tr>\n",
       "      <th>Obs_Uni</th>\n",
       "      <td>294</td>\n",
       "      <td>2711</td>\n",
       "    </tr>\n",
       "  </tbody>\n",
       "</table>\n",
       "</div>"
      ],
      "text/plain": [
       "         Pred_Col  Pred_Uni\n",
       "Obs_Col       319       479\n",
       "Obs_Uni       294      2711"
      ]
     },
     "execution_count": 4,
     "metadata": {},
     "output_type": "execute_result"
    }
   ],
   "source": [
    "index_max = f1s.index(max(f1s))\n",
    "print(\"\\nCONFUSION MATRIX for best F-1 Score:\")\n",
    "pd.DataFrame(CMs[index_max])"
   ]
  },
  {
   "cell_type": "markdown",
   "metadata": {},
   "source": [
    "As we can see, out of all the college students that we predict, only a little more than half actually go to college. However, out of all the students who actually go to college, the majority of them are predicted to go to university. This shows how this model is not yet as accurate as we need it to be. Out of curiosity, let's look at the feature importance (ie. which attribues were most significant when developing this RF model):"
   ]
  },
  {
   "cell_type": "code",
   "execution_count": 9,
   "metadata": {
    "scrolled": false
   },
   "outputs": [
    {
     "name": "stdout",
     "output_type": "stream",
     "text": [
      "\n",
      "Feature Importance Rank for best F-1 Score:\n"
     ]
    },
    {
     "data": {
      "text/html": [
       "<div>\n",
       "<style scoped>\n",
       "    .dataframe tbody tr th:only-of-type {\n",
       "        vertical-align: middle;\n",
       "    }\n",
       "\n",
       "    .dataframe tbody tr th {\n",
       "        vertical-align: top;\n",
       "    }\n",
       "\n",
       "    .dataframe thead th {\n",
       "        text-align: right;\n",
       "    }\n",
       "</style>\n",
       "<table border=\"1\" class=\"dataframe\">\n",
       "  <thead>\n",
       "    <tr style=\"text-align: right;\">\n",
       "      <th></th>\n",
       "      <th>Feature Importance</th>\n",
       "    </tr>\n",
       "  </thead>\n",
       "  <tbody>\n",
       "    <tr>\n",
       "      <th>PD</th>\n",
       "      <td>0.443216</td>\n",
       "    </tr>\n",
       "    <tr>\n",
       "      <th>Age</th>\n",
       "      <td>0.342477</td>\n",
       "    </tr>\n",
       "    <tr>\n",
       "      <th>Closest_Type</th>\n",
       "      <td>0.055019</td>\n",
       "    </tr>\n",
       "    <tr>\n",
       "      <th>Income_Low</th>\n",
       "      <td>0.028481</td>\n",
       "    </tr>\n",
       "    <tr>\n",
       "      <th>Family_True</th>\n",
       "      <td>0.018997</td>\n",
       "    </tr>\n",
       "    <tr>\n",
       "      <th>Licence_False</th>\n",
       "      <td>0.018484</td>\n",
       "    </tr>\n",
       "    <tr>\n",
       "      <th>Family_False</th>\n",
       "      <td>0.018285</td>\n",
       "    </tr>\n",
       "    <tr>\n",
       "      <th>Cars2+</th>\n",
       "      <td>0.016943</td>\n",
       "    </tr>\n",
       "    <tr>\n",
       "      <th>Income_High</th>\n",
       "      <td>0.015813</td>\n",
       "    </tr>\n",
       "    <tr>\n",
       "      <th>Licence_True</th>\n",
       "      <td>0.014790</td>\n",
       "    </tr>\n",
       "    <tr>\n",
       "      <th>Cars1</th>\n",
       "      <td>0.014508</td>\n",
       "    </tr>\n",
       "    <tr>\n",
       "      <th>Cars0</th>\n",
       "      <td>0.012987</td>\n",
       "    </tr>\n",
       "  </tbody>\n",
       "</table>\n",
       "</div>"
      ],
      "text/plain": [
       "               Feature Importance\n",
       "PD                       0.443216\n",
       "Age                      0.342477\n",
       "Closest_Type             0.055019\n",
       "Income_Low               0.028481\n",
       "Family_True              0.018997\n",
       "Licence_False            0.018484\n",
       "Family_False             0.018285\n",
       "Cars2+                   0.016943\n",
       "Income_High              0.015813\n",
       "Licence_True             0.014790\n",
       "Cars1                    0.014508\n",
       "Cars0                    0.012987"
      ]
     },
     "execution_count": 9,
     "metadata": {},
     "output_type": "execute_result"
    }
   ],
   "source": [
    "print('\\nFeature Importance Rank for best F-1 Score:')\n",
    "col_name = 'FeatImportance.' + str(index_max)\n",
    "best_feat = pd.DataFrame(features['FeatImportance.' + str(index_max)]).rename(columns = {col_name:'Feature Importance'})\n",
    "best_feat.sort_values(by = 'Feature Importance', inplace=True, ascending = False)\n",
    "best_feat"
   ]
  },
  {
   "cell_type": "markdown",
   "metadata": {},
   "source": [
    "Interestingly, the student's Planning District was the most relevant variable, followed by Age. The Closest Type variable was also slightly significant during the classification of students. Household income, Licence, and car number were not highly significant. Observe that high-cardinality variables, as expected, are more important but Closest_Type performs quite well for a dummy variable.\n",
    "\n",
    "### Running Model on Testing File:\n",
    "\n",
    "Next, we will use our previously created model to classify the students from our Testing file. We will look at the confusion matrix as well as its College F-1 Score and compare these to the ones obtained above."
   ]
  },
  {
   "cell_type": "code",
   "execution_count": 72,
   "metadata": {
    "scrolled": true
   },
   "outputs": [
    {
     "data": {
      "text/html": [
       "<div>\n",
       "<style scoped>\n",
       "    .dataframe tbody tr th:only-of-type {\n",
       "        vertical-align: middle;\n",
       "    }\n",
       "\n",
       "    .dataframe tbody tr th {\n",
       "        vertical-align: top;\n",
       "    }\n",
       "\n",
       "    .dataframe thead th {\n",
       "        text-align: right;\n",
       "    }\n",
       "</style>\n",
       "<table border=\"1\" class=\"dataframe\">\n",
       "  <thead>\n",
       "    <tr style=\"text-align: right;\">\n",
       "      <th></th>\n",
       "      <th>Pred_Col</th>\n",
       "      <th>Pred_Uni</th>\n",
       "    </tr>\n",
       "  </thead>\n",
       "  <tbody>\n",
       "    <tr>\n",
       "      <th>Obs_Col</th>\n",
       "      <td>348</td>\n",
       "      <td>535</td>\n",
       "    </tr>\n",
       "    <tr>\n",
       "      <th>Obs_Uni</th>\n",
       "      <td>334</td>\n",
       "      <td>3009</td>\n",
       "    </tr>\n",
       "  </tbody>\n",
       "</table>\n",
       "</div>"
      ],
      "text/plain": [
       "         Pred_Col  Pred_Uni\n",
       "Obs_Col       348       535\n",
       "Obs_Uni       334      3009"
      ]
     },
     "execution_count": 72,
     "metadata": {},
     "output_type": "execute_result"
    }
   ],
   "source": [
    "# Define X and Y for the training set\n",
    "test_y = test_df['School_Type']\n",
    "test_x = test_df.drop(labels = ['School_Type', 'Index'], axis = 1)\n",
    "\n",
    "# Predict School Type for testing data\n",
    "y_pred_test = rf.predict(test_x)\n",
    "\n",
    "# --- Confusion Matrix ---\n",
    "test_CM = pd.DataFrame(confusion_matrix(test_y, y_pred_test))\n",
    "test_CM.rename(columns = {0: 'Pred_Col', 1: 'Pred_Uni'}, index = {0: 'Obs_Col', 1: 'Obs_Uni'}, inplace = True)\n",
    "test_CM"
   ]
  },
  {
   "cell_type": "markdown",
   "metadata": {},
   "source": [
    "After running our model on the testing data, we can see that the model behaves as we expected because we are again underpredicting college students by a significant ammount. Looking at the College F-1 score now:"
   ]
  },
  {
   "cell_type": "code",
   "execution_count": 8,
   "metadata": {},
   "outputs": [
    {
     "name": "stdout",
     "output_type": "stream",
     "text": [
      "College F-1 Score -- Testing Data: 0.4447284345047923\n"
     ]
    }
   ],
   "source": [
    "# --- College F-1 Score ---\n",
    "print('College F-1 Score -- Testing Data: ' + str(f1_score(test_y, y_pred_test, average=None)[0]))"
   ]
  },
  {
   "cell_type": "markdown",
   "metadata": {},
   "source": [
    "When testing our model on this separate data file we can see that we obtain a slightly better result than our average College F-1 score above, where we obtained a value of __0.43__. Still, this model needs major improvement. "
   ]
  },
  {
   "cell_type": "code",
   "execution_count": 74,
   "metadata": {
    "scrolled": true
   },
   "outputs": [
    {
     "name": "stdout",
     "output_type": "stream",
     "text": [
      "Area under the ROC curve: 0.7696798198023015\n"
     ]
    },
    {
     "data": {
      "image/png": "[encoded data removed]",
      "text/plain": [
       "<Figure size 432x288 with 1 Axes>"
      ]
     },
     "metadata": {
      "needs_background": "light"
     },
     "output_type": "display_data"
    }
   ],
   "source": [
    "from sklearn import metrics\n",
    "import matplotlib.pyplot as plt\n",
    "\n",
    "probs = pd.DataFrame(rf.predict_proba(test_x))[0]\n",
    "results = metrics.roc_curve(test_y, probs, pos_label = 'College')\n",
    "plt.plot(results[0], results[1])\n",
    "plt.show\n",
    "\n",
    "plt.scatter(results[0][287], results[1][287])\n",
    "plt.xlabel('False Positive Rate') # how many of the pred college were uni\n",
    "plt.ylabel('True Possitive Rate') # how many college were actually college\n",
    "\n",
    "test_y_new = [1 * (element == 'College') for element in test_y]\n",
    "\n",
    "print('Area under the ROC curve: ' + str(metrics.roc_auc_score(test_y_new, probs)))"
   ]
  },
  {
   "cell_type": "code",
   "execution_count": 93,
   "metadata": {
    "scrolled": true
   },
   "outputs": [
    {
     "data": {
      "text/html": [
       "<div>\n",
       "<style scoped>\n",
       "    .dataframe tbody tr th:only-of-type {\n",
       "        vertical-align: middle;\n",
       "    }\n",
       "\n",
       "    .dataframe tbody tr th {\n",
       "        vertical-align: top;\n",
       "    }\n",
       "\n",
       "    .dataframe thead th {\n",
       "        text-align: right;\n",
       "    }\n",
       "</style>\n",
       "<table border=\"1\" class=\"dataframe\">\n",
       "  <thead>\n",
       "    <tr style=\"text-align: right;\">\n",
       "      <th></th>\n",
       "      <th>Pred_Uni</th>\n",
       "      <th>Pred_Col</th>\n",
       "    </tr>\n",
       "  </thead>\n",
       "  <tbody>\n",
       "    <tr>\n",
       "      <th>Obs_Uni</th>\n",
       "      <td>2632</td>\n",
       "      <td>711</td>\n",
       "    </tr>\n",
       "    <tr>\n",
       "      <th>Obs_Col</th>\n",
       "      <td>352</td>\n",
       "      <td>531</td>\n",
       "    </tr>\n",
       "  </tbody>\n",
       "</table>\n",
       "</div>"
      ],
      "text/plain": [
       "         Pred_Uni  Pred_Col\n",
       "Obs_Uni      2632       711\n",
       "Obs_Col       352       531"
      ]
     },
     "execution_count": 93,
     "metadata": {},
     "output_type": "execute_result"
    }
   ],
   "source": [
    "# Predict School Type for testing data\n",
    "y_pred_new = (probs >= results[2][np.where(results[1] >= 0.6)[0][0]])\n",
    "y_test_new = [element == 'College' for element in test_y]\n",
    "# --- Confusion Matrix ---\n",
    "test_CM = pd.DataFrame(confusion_matrix(y_test_new, y_pred_new))\n",
    "test_CM.rename(columns = {1: 'Pred_Col', 0: 'Pred_Uni'}, index = {1: 'Obs_Col', 0: 'Obs_Uni'}, inplace = True)\n",
    "test_CM"
   ]
  },
  {
   "cell_type": "code",
   "execution_count": 96,
   "metadata": {},
   "outputs": [
    {
     "data": {
      "text/plain": [
       "0.4997647058823529"
      ]
     },
     "execution_count": 96,
     "metadata": {},
     "output_type": "execute_result"
    }
   ],
   "source": [
    "f1_score(y_test_new, y_pred_new, average = None)[1]"
   ]
  },
  {
   "cell_type": "code",
   "execution_count": 92,
   "metadata": {
    "scrolled": true
   },
   "outputs": [
    {
     "data": {
      "text/plain": [
       "False    2984\n",
       "True     1242\n",
       "Name: 0, dtype: int64"
      ]
     },
     "execution_count": 92,
     "metadata": {},
     "output_type": "execute_result"
    }
   ],
   "source": [
    "y_pred_new.value_counts()"
   ]
  },
  {
   "cell_type": "code",
   "execution_count": 79,
   "metadata": {},
   "outputs": [
    {
     "data": {
      "text/plain": [
       "0.26099999999999995"
      ]
     },
     "execution_count": 79,
     "metadata": {},
     "output_type": "execute_result"
    }
   ],
   "source": [
    "results[2][np.where(results[1] >= 0.6)[0][0]]"
   ]
  },
  {
   "cell_type": "markdown",
   "metadata": {},
   "source": [
    "### Conclusion:\n",
    "\n",
    "In order to develop a robust school choice model, we need to be able to first accurately predict whether a student will choose to go to university or college. In conclusion, this model is far from perfect. Even though we selected our features carefully and formatted them in a way that would hopefully optimize the model, our model is not able to confidently identify the minority population of college students. This is mainly due to our much higher population of university students in our sample. \n",
    "\n",
    "A possible way to use the results from this model could be by obtaining the probabilities students going to University or College, rather than the predictions. The probabilities could be implemented into our Multinomial Logit Model utility functions as shown below:\n",
    "\n",
    "`B_UNI_PROB * P_UNI * SCHOOL_UNI + B_COL_PROB * P_COL * SCHOOL_COL` where:\n",
    "- `P_UNI` and `P_COL` are individual specific variables containing the probabilities produced by the Random Forest that the student is attending a university or college, respectively.\n",
    "- `SCHOOL_UNI` and `SCHOOL_COL` are alternative-specific dummy variables equal to 1 if the school is a university or college, respectively.\n",
    "- `B_UNI_PROB` and `B_COL_PROB` are the estimated parameters. We can test the hypothesis that they are the same parameter."
   ]
  }
 ],
 "metadata": {
  "kernelspec": {
   "display_name": "Python 3",
   "language": "python",
   "name": "python3"
  },
  "language_info": {
   "codemirror_mode": {
    "name": "ipython",
    "version": 3
   },
   "file_extension": ".py",
   "mimetype": "text/x-python",
   "name": "python",
   "nbconvert_exporter": "python",
   "pygments_lexer": "ipython3",
   "version": "3.7.3"
  }
 },
 "nbformat": 4,
 "nbformat_minor": 4
}
