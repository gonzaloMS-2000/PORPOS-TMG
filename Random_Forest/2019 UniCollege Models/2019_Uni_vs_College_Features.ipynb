{
 "cells": [
  {
   "cell_type": "markdown",
   "metadata": {},
   "source": [
    "# 2019 SMTO Uni/College Choice RF\n",
    "\n",
    "Load the full 2019 SMTO dataframe:"
   ]
  },
  {
   "cell_type": "code",
   "execution_count": 35,
   "metadata": {
    "scrolled": false
   },
   "outputs": [
    {
     "data": {
      "text/html": [
       "<div>\n",
       "<style scoped>\n",
       "    .dataframe tbody tr th:only-of-type {\n",
       "        vertical-align: middle;\n",
       "    }\n",
       "\n",
       "    .dataframe tbody tr th {\n",
       "        vertical-align: top;\n",
       "    }\n",
       "\n",
       "    .dataframe thead th {\n",
       "        text-align: right;\n",
       "    }\n",
       "</style>\n",
       "<table border=\"1\" class=\"dataframe\">\n",
       "  <thead>\n",
       "    <tr style=\"text-align: right;\">\n",
       "      <th></th>\n",
       "      <th>Index</th>\n",
       "      <th>School_Type</th>\n",
       "      <th>PD</th>\n",
       "      <th>Age</th>\n",
       "      <th>Closest_Type</th>\n",
       "      <th>Income_High</th>\n",
       "      <th>Income_Low</th>\n",
       "      <th>Family_True</th>\n",
       "      <th>Family_False</th>\n",
       "      <th>Cars2+</th>\n",
       "      <th>Cars1</th>\n",
       "      <th>Cars0</th>\n",
       "      <th>Licence_True</th>\n",
       "      <th>Licence_False</th>\n",
       "    </tr>\n",
       "  </thead>\n",
       "  <tbody>\n",
       "    <tr>\n",
       "      <th>0</th>\n",
       "      <td>16062</td>\n",
       "      <td>University</td>\n",
       "      <td>31</td>\n",
       "      <td>18.0</td>\n",
       "      <td>1</td>\n",
       "      <td>0</td>\n",
       "      <td>1</td>\n",
       "      <td>1</td>\n",
       "      <td>0</td>\n",
       "      <td>1</td>\n",
       "      <td>0</td>\n",
       "      <td>0</td>\n",
       "      <td>1</td>\n",
       "      <td>0</td>\n",
       "    </tr>\n",
       "    <tr>\n",
       "      <th>1</th>\n",
       "      <td>12761</td>\n",
       "      <td>University</td>\n",
       "      <td>8</td>\n",
       "      <td>19.0</td>\n",
       "      <td>0</td>\n",
       "      <td>0</td>\n",
       "      <td>0</td>\n",
       "      <td>1</td>\n",
       "      <td>0</td>\n",
       "      <td>0</td>\n",
       "      <td>0</td>\n",
       "      <td>0</td>\n",
       "      <td>0</td>\n",
       "      <td>1</td>\n",
       "    </tr>\n",
       "    <tr>\n",
       "      <th>2</th>\n",
       "      <td>7609</td>\n",
       "      <td>University</td>\n",
       "      <td>33</td>\n",
       "      <td>18.0</td>\n",
       "      <td>1</td>\n",
       "      <td>0</td>\n",
       "      <td>0</td>\n",
       "      <td>0</td>\n",
       "      <td>0</td>\n",
       "      <td>0</td>\n",
       "      <td>0</td>\n",
       "      <td>0</td>\n",
       "      <td>1</td>\n",
       "      <td>0</td>\n",
       "    </tr>\n",
       "    <tr>\n",
       "      <th>3</th>\n",
       "      <td>10027</td>\n",
       "      <td>University</td>\n",
       "      <td>1</td>\n",
       "      <td>18.0</td>\n",
       "      <td>1</td>\n",
       "      <td>0</td>\n",
       "      <td>0</td>\n",
       "      <td>0</td>\n",
       "      <td>1</td>\n",
       "      <td>0</td>\n",
       "      <td>0</td>\n",
       "      <td>1</td>\n",
       "      <td>1</td>\n",
       "      <td>0</td>\n",
       "    </tr>\n",
       "    <tr>\n",
       "      <th>4</th>\n",
       "      <td>9417</td>\n",
       "      <td>College</td>\n",
       "      <td>35</td>\n",
       "      <td>28.0</td>\n",
       "      <td>0</td>\n",
       "      <td>0</td>\n",
       "      <td>1</td>\n",
       "      <td>0</td>\n",
       "      <td>1</td>\n",
       "      <td>0</td>\n",
       "      <td>0</td>\n",
       "      <td>1</td>\n",
       "      <td>0</td>\n",
       "      <td>1</td>\n",
       "    </tr>\n",
       "  </tbody>\n",
       "</table>\n",
       "</div>"
      ],
      "text/plain": [
       "   Index School_Type  PD   Age  Closest_Type  Income_High  Income_Low  \\\n",
       "0  16062  University  31  18.0             1            0           1   \n",
       "1  12761  University   8  19.0             0            0           0   \n",
       "2   7609  University  33  18.0             1            0           0   \n",
       "3  10027  University   1  18.0             1            0           0   \n",
       "4   9417     College  35  28.0             0            0           1   \n",
       "\n",
       "   Family_True  Family_False  Cars2+  Cars1  Cars0  Licence_True  \\\n",
       "0            1             0       1      0      0             1   \n",
       "1            1             0       0      0      0             0   \n",
       "2            0             0       0      0      0             1   \n",
       "3            0             1       0      0      1             1   \n",
       "4            0             1       0      0      1             0   \n",
       "\n",
       "   Licence_False  \n",
       "0              0  \n",
       "1              1  \n",
       "2              0  \n",
       "3              0  \n",
       "4              1  "
      ]
     },
     "execution_count": 35,
     "metadata": {},
     "output_type": "execute_result"
    }
   ],
   "source": [
    "import pandas as pd\n",
    "from sklearn.model_selection import train_test_split\n",
    "from sklearn.ensemble import RandomForestClassifier\n",
    "from sklearn.metrics import precision_recall_fscore_support\n",
    "from sklearn.metrics import matthews_corrcoef\n",
    "from sklearn.metrics import f1_score\n",
    "from sklearn.metrics import confusion_matrix\n",
    "import statistics as stats\n",
    "\n",
    "df = pd.read_csv('2019_SMTO_Training_Set.csv').rename(columns = {'Unnamed: 0': 'Index'})\n",
    "test_df = pd.read_csv('2019_SMTO_Testing_Set.csv').rename(columns = {'Unnamed: 0': 'Index'})\n",
    "df.head()"
   ]
  },
  {
   "cell_type": "code",
   "execution_count": 40,
   "metadata": {
    "scrolled": true
   },
   "outputs": [],
   "source": [
    "# Define X and Y for the training set\n",
    "y = df['School_Type']\n",
    "x = df.drop(labels = ['School_Type', 'Index'], axis = 1)\n",
    "\n",
    "f1s = []\n",
    "CMs = []\n",
    "\n",
    "for i in range(10):\n",
    "\n",
    "    # --- RUN Random Forest Model --- #\n",
    "    rf = RandomForestClassifier(n_estimators=100)\n",
    "    X_train, X_test, y_train, y_test = train_test_split(x, y, test_size=0.3)\n",
    "    rf.fit(X_train, y_train)\n",
    "    y_pred = rf.predict(X_test)\n",
    "\n",
    "    # --- Feature Importances ---\n",
    "    if i == 0:\n",
    "        features = pd.DataFrame(index = X_test.columns)\n",
    "        features['FeatImportance.0'] = rf.feature_importances_\n",
    "        #features.sort_values(by='FeatImportance' , inplace=True, ascending = False)\n",
    "    else:\n",
    "        temp_features = pd.DataFrame(index = X_test.columns)\n",
    "        temp_features['FeatImportance.' + str(i)] = rf.feature_importances_\n",
    "        features = pd.concat((features, temp_features), axis = 1)\n",
    "\n",
    "\n",
    "    # --- Confusion Matrix ---\n",
    "    CM = pd.DataFrame(confusion_matrix(y_test, y_pred))\n",
    "    CM.rename(columns = {0: 'Pred_Col', 1: 'Pred_Uni'}, index = {0: 'Obs_Col', 1: 'Obs_Uni'}, inplace = True)\n",
    "    CMs.append(CM)\n",
    "\n",
    "    # --- College F-1 Score ---\n",
    "    f1s.append(f1_score(y_test, y_pred, average=None)[0])"
   ]
  },
  {
   "cell_type": "code",
   "execution_count": 41,
   "metadata": {},
   "outputs": [
    {
     "name": "stdout",
     "output_type": "stream",
     "text": [
      "Average College F-1 Score: \t0.42509765518495934\n",
      "MAX College F-1 Score: \t\t0.45526127415891193\n"
     ]
    }
   ],
   "source": [
    "print(\"Average College F-1 Score: \\t\" + str(stats.mean(f1s)))\n",
    "print(\"MAX College F-1 Score: \\t\\t\" + str(max(f1s)))"
   ]
  },
  {
   "cell_type": "code",
   "execution_count": 42,
   "metadata": {},
   "outputs": [
    {
     "name": "stdout",
     "output_type": "stream",
     "text": [
      "\n",
      "CONFUSION MATRIX for best F-1 Score:\n"
     ]
    },
    {
     "data": {
      "text/html": [
       "<div>\n",
       "<style scoped>\n",
       "    .dataframe tbody tr th:only-of-type {\n",
       "        vertical-align: middle;\n",
       "    }\n",
       "\n",
       "    .dataframe tbody tr th {\n",
       "        vertical-align: top;\n",
       "    }\n",
       "\n",
       "    .dataframe thead th {\n",
       "        text-align: right;\n",
       "    }\n",
       "</style>\n",
       "<table border=\"1\" class=\"dataframe\">\n",
       "  <thead>\n",
       "    <tr style=\"text-align: right;\">\n",
       "      <th></th>\n",
       "      <th>Pred_Col</th>\n",
       "      <th>Pred_Uni</th>\n",
       "    </tr>\n",
       "  </thead>\n",
       "  <tbody>\n",
       "    <tr>\n",
       "      <th>Obs_Col</th>\n",
       "      <td>318</td>\n",
       "      <td>495</td>\n",
       "    </tr>\n",
       "    <tr>\n",
       "      <th>Obs_Uni</th>\n",
       "      <td>266</td>\n",
       "      <td>2724</td>\n",
       "    </tr>\n",
       "  </tbody>\n",
       "</table>\n",
       "</div>"
      ],
      "text/plain": [
       "         Pred_Col  Pred_Uni\n",
       "Obs_Col       318       495\n",
       "Obs_Uni       266      2724"
      ]
     },
     "execution_count": 42,
     "metadata": {},
     "output_type": "execute_result"
    }
   ],
   "source": [
    "index_max = f1s.index(max(f1s))\n",
    "print(\"\\nCONFUSION MATRIX for best F-1 Score:\")\n",
    "pd.DataFrame(CMs[index_max])"
   ]
  },
  {
   "cell_type": "code",
   "execution_count": 43,
   "metadata": {
    "scrolled": false
   },
   "outputs": [
    {
     "name": "stdout",
     "output_type": "stream",
     "text": [
      "\n",
      "Feature Imporance Rank for best F-1 Score:\n"
     ]
    },
    {
     "data": {
      "text/html": [
       "<div>\n",
       "<style scoped>\n",
       "    .dataframe tbody tr th:only-of-type {\n",
       "        vertical-align: middle;\n",
       "    }\n",
       "\n",
       "    .dataframe tbody tr th {\n",
       "        vertical-align: top;\n",
       "    }\n",
       "\n",
       "    .dataframe thead th {\n",
       "        text-align: right;\n",
       "    }\n",
       "</style>\n",
       "<table border=\"1\" class=\"dataframe\">\n",
       "  <thead>\n",
       "    <tr style=\"text-align: right;\">\n",
       "      <th></th>\n",
       "      <th>Feature Importance</th>\n",
       "    </tr>\n",
       "  </thead>\n",
       "  <tbody>\n",
       "    <tr>\n",
       "      <th>PD</th>\n",
       "      <td>0.440434</td>\n",
       "    </tr>\n",
       "    <tr>\n",
       "      <th>Age</th>\n",
       "      <td>0.349482</td>\n",
       "    </tr>\n",
       "    <tr>\n",
       "      <th>Closest_Type</th>\n",
       "      <td>0.053848</td>\n",
       "    </tr>\n",
       "    <tr>\n",
       "      <th>Income_Low</th>\n",
       "      <td>0.028604</td>\n",
       "    </tr>\n",
       "    <tr>\n",
       "      <th>Family_False</th>\n",
       "      <td>0.018091</td>\n",
       "    </tr>\n",
       "    <tr>\n",
       "      <th>Family_True</th>\n",
       "      <td>0.018024</td>\n",
       "    </tr>\n",
       "    <tr>\n",
       "      <th>Licence_False</th>\n",
       "      <td>0.017399</td>\n",
       "    </tr>\n",
       "    <tr>\n",
       "      <th>Cars2+</th>\n",
       "      <td>0.015843</td>\n",
       "    </tr>\n",
       "    <tr>\n",
       "      <th>Income_High</th>\n",
       "      <td>0.015817</td>\n",
       "    </tr>\n",
       "    <tr>\n",
       "      <th>Cars1</th>\n",
       "      <td>0.014608</td>\n",
       "    </tr>\n",
       "    <tr>\n",
       "      <th>Licence_True</th>\n",
       "      <td>0.014479</td>\n",
       "    </tr>\n",
       "    <tr>\n",
       "      <th>Cars0</th>\n",
       "      <td>0.013371</td>\n",
       "    </tr>\n",
       "  </tbody>\n",
       "</table>\n",
       "</div>"
      ],
      "text/plain": [
       "               Feature Importance\n",
       "PD                       0.440434\n",
       "Age                      0.349482\n",
       "Closest_Type             0.053848\n",
       "Income_Low               0.028604\n",
       "Family_False             0.018091\n",
       "Family_True              0.018024\n",
       "Licence_False            0.017399\n",
       "Cars2+                   0.015843\n",
       "Income_High              0.015817\n",
       "Cars1                    0.014608\n",
       "Licence_True             0.014479\n",
       "Cars0                    0.013371"
      ]
     },
     "execution_count": 43,
     "metadata": {},
     "output_type": "execute_result"
    }
   ],
   "source": [
    "print('\\nFeature Imporance Rank for best F-1 Score:')\n",
    "col_name = 'FeatImportance.' + str(index_max)\n",
    "best_feat = pd.DataFrame(features['FeatImportance.' + str(index_max)]).rename(columns = {col_name:'Feature Importance'})\n",
    "best_feat.sort_values(by = 'Feature Importance', inplace=True, ascending = False)\n",
    "best_feat"
   ]
  },
  {
   "cell_type": "code",
   "execution_count": 47,
   "metadata": {},
   "outputs": [
    {
     "data": {
      "text/html": [
       "<div>\n",
       "<style scoped>\n",
       "    .dataframe tbody tr th:only-of-type {\n",
       "        vertical-align: middle;\n",
       "    }\n",
       "\n",
       "    .dataframe tbody tr th {\n",
       "        vertical-align: top;\n",
       "    }\n",
       "\n",
       "    .dataframe thead th {\n",
       "        text-align: right;\n",
       "    }\n",
       "</style>\n",
       "<table border=\"1\" class=\"dataframe\">\n",
       "  <thead>\n",
       "    <tr style=\"text-align: right;\">\n",
       "      <th></th>\n",
       "      <th>Pred_Col</th>\n",
       "      <th>Pred_Uni</th>\n",
       "    </tr>\n",
       "  </thead>\n",
       "  <tbody>\n",
       "    <tr>\n",
       "      <th>Obs_Col</th>\n",
       "      <td>329</td>\n",
       "      <td>554</td>\n",
       "    </tr>\n",
       "    <tr>\n",
       "      <th>Obs_Uni</th>\n",
       "      <td>303</td>\n",
       "      <td>3040</td>\n",
       "    </tr>\n",
       "  </tbody>\n",
       "</table>\n",
       "</div>"
      ],
      "text/plain": [
       "         Pred_Col  Pred_Uni\n",
       "Obs_Col       329       554\n",
       "Obs_Uni       303      3040"
      ]
     },
     "execution_count": 47,
     "metadata": {},
     "output_type": "execute_result"
    }
   ],
   "source": [
    "# Run Testing Data\n",
    "\n",
    "# Define X and Y for the training set\n",
    "test_y = test_df['School_Type']\n",
    "test_x = test_df.drop(labels = ['School_Type', 'Index'], axis = 1)\n",
    "\n",
    "# Predict School Type for testing data\n",
    "y_pred_test = rf.predict(test_x)\n",
    "\n",
    "# --- Confusion Matrix ---\n",
    "test_CM = pd.DataFrame(confusion_matrix(test_y, y_pred_test))\n",
    "test_CM.rename(columns = {0: 'Pred_Col', 1: 'Pred_Uni'}, index = {0: 'Obs_Col', 1: 'Obs_Uni'}, inplace = True)\n",
    "test_CM"
   ]
  },
  {
   "cell_type": "code",
   "execution_count": 48,
   "metadata": {},
   "outputs": [
    {
     "name": "stdout",
     "output_type": "stream",
     "text": [
      "0.43432343234323434\n"
     ]
    }
   ],
   "source": [
    "# --- College F-1 Score ---\n",
    "print(f1_score(test_y, y_pred_test, average=None)[0])"
   ]
  }
 ],
 "metadata": {
  "kernelspec": {
   "display_name": "Python 3",
   "language": "python",
   "name": "python3"
  },
  "language_info": {
   "codemirror_mode": {
    "name": "ipython",
    "version": 3
   },
   "file_extension": ".py",
   "mimetype": "text/x-python",
   "name": "python",
   "nbconvert_exporter": "python",
   "pygments_lexer": "ipython3",
   "version": "3.7.3"
  }
 },
 "nbformat": 4,
 "nbformat_minor": 4
}
