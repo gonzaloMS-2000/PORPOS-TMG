{
 "cells": [
  {
   "cell_type": "code",
   "execution_count": 1,
   "metadata": {},
   "outputs": [
    {
     "data": {
      "text/html": [
       "<div>\n",
       "<style scoped>\n",
       "    .dataframe tbody tr th:only-of-type {\n",
       "        vertical-align: middle;\n",
       "    }\n",
       "\n",
       "    .dataframe tbody tr th {\n",
       "        vertical-align: top;\n",
       "    }\n",
       "\n",
       "    .dataframe thead th {\n",
       "        text-align: right;\n",
       "    }\n",
       "</style>\n",
       "<table border=\"1\" class=\"dataframe\">\n",
       "  <thead>\n",
       "    <tr style=\"text-align: right;\">\n",
       "      <th></th>\n",
       "      <th>HmTTS2006</th>\n",
       "      <th>hhlivingsituation</th>\n",
       "      <th>hhcarnumber</th>\n",
       "      <th>hhnumyoungerthan18</th>\n",
       "      <th>hhnumolderorequalto18</th>\n",
       "      <th>hhincomelevel</th>\n",
       "      <th>pscampusattend</th>\n",
       "      <th>personstatusgrad</th>\n",
       "      <th>personstatustime</th>\n",
       "      <th>pscmpgender</th>\n",
       "      <th>psdrivinglicenseownerflag</th>\n",
       "      <th>psworknumhoursperweek</th>\n",
       "    </tr>\n",
       "  </thead>\n",
       "  <tbody>\n",
       "    <tr>\n",
       "      <th>0</th>\n",
       "      <td>261.0</td>\n",
       "      <td>Live with family/parents</td>\n",
       "      <td>1</td>\n",
       "      <td>3</td>\n",
       "      <td>4</td>\n",
       "      <td>Unknown</td>\n",
       "      <td>Scarborough (UTSC)</td>\n",
       "      <td>UG</td>\n",
       "      <td>FT</td>\n",
       "      <td>Female</td>\n",
       "      <td>0</td>\n",
       "      <td>NaN</td>\n",
       "    </tr>\n",
       "    <tr>\n",
       "      <th>1</th>\n",
       "      <td>71.0</td>\n",
       "      <td>Live with partner</td>\n",
       "      <td>0</td>\n",
       "      <td>0</td>\n",
       "      <td>2</td>\n",
       "      <td>$ 90,000 - 119,999</td>\n",
       "      <td>Downtown Toronto (St. George)</td>\n",
       "      <td>Grad</td>\n",
       "      <td>FT</td>\n",
       "      <td>Female</td>\n",
       "      <td>1</td>\n",
       "      <td>NaN</td>\n",
       "    </tr>\n",
       "    <tr>\n",
       "      <th>2</th>\n",
       "      <td>3714.0</td>\n",
       "      <td>Live with family/parents</td>\n",
       "      <td>1</td>\n",
       "      <td>0</td>\n",
       "      <td>4</td>\n",
       "      <td>Unknown</td>\n",
       "      <td>Downtown Toronto (St. George)</td>\n",
       "      <td>UG</td>\n",
       "      <td>FT</td>\n",
       "      <td>Female</td>\n",
       "      <td>1</td>\n",
       "      <td>NaN</td>\n",
       "    </tr>\n",
       "    <tr>\n",
       "      <th>3</th>\n",
       "      <td>74.0</td>\n",
       "      <td>Live with roommates</td>\n",
       "      <td>0</td>\n",
       "      <td>0</td>\n",
       "      <td>4</td>\n",
       "      <td>Unknown</td>\n",
       "      <td>Downtown Toronto (St. George)</td>\n",
       "      <td>UG</td>\n",
       "      <td>FT</td>\n",
       "      <td>Male</td>\n",
       "      <td>1</td>\n",
       "      <td>NaN</td>\n",
       "    </tr>\n",
       "    <tr>\n",
       "      <th>4</th>\n",
       "      <td>71.0</td>\n",
       "      <td>Live with partner</td>\n",
       "      <td>0</td>\n",
       "      <td>0</td>\n",
       "      <td>2</td>\n",
       "      <td>$ 30,000 - 59,999</td>\n",
       "      <td>Downtown Toronto (St. George)</td>\n",
       "      <td>Grad</td>\n",
       "      <td>FT</td>\n",
       "      <td>Male</td>\n",
       "      <td>1</td>\n",
       "      <td>NaN</td>\n",
       "    </tr>\n",
       "  </tbody>\n",
       "</table>\n",
       "</div>"
      ],
      "text/plain": [
       "   HmTTS2006         hhlivingsituation  hhcarnumber  hhnumyoungerthan18  \\\n",
       "0      261.0  Live with family/parents            1                   3   \n",
       "1       71.0         Live with partner            0                   0   \n",
       "2     3714.0  Live with family/parents            1                   0   \n",
       "3       74.0       Live with roommates            0                   0   \n",
       "4       71.0         Live with partner            0                   0   \n",
       "\n",
       "   hhnumolderorequalto18       hhincomelevel                 pscampusattend  \\\n",
       "0                      4             Unknown             Scarborough (UTSC)   \n",
       "1                      2  $ 90,000 - 119,999  Downtown Toronto (St. George)   \n",
       "2                      4             Unknown  Downtown Toronto (St. George)   \n",
       "3                      4             Unknown  Downtown Toronto (St. George)   \n",
       "4                      2   $ 30,000 - 59,999  Downtown Toronto (St. George)   \n",
       "\n",
       "  personstatusgrad personstatustime pscmpgender  psdrivinglicenseownerflag  \\\n",
       "0               UG               FT      Female                          0   \n",
       "1             Grad               FT      Female                          1   \n",
       "2               UG               FT      Female                          1   \n",
       "3               UG               FT        Male                          1   \n",
       "4             Grad               FT        Male                          1   \n",
       "\n",
       "  psworknumhoursperweek  \n",
       "0                   NaN  \n",
       "1                   NaN  \n",
       "2                   NaN  \n",
       "3                   NaN  \n",
       "4                   NaN  "
      ]
     },
     "execution_count": 1,
     "metadata": {},
     "output_type": "execute_result"
    }
   ],
   "source": [
    "import pandas as pd\n",
    "\n",
    "# Load data\n",
    "campus_info = pd.read_csv('../Data/SMTO_2015/Campus_Info.csv')\n",
    "df = pd.read_csv('../Data/SMTO_2015/SMTO_2015_Households.csv')[['HmTTS2006', 'hhlivingsituation', 'hhcarnumber','hhnumyoungerthan18','hhnumolderorequalto18','hhincomelevel']]\n",
    "df = df.join(pd.read_csv('../Data/SMTO_2015/SMTO_2015_Respondents.csv')[['pscampusattend', 'personstatusgrad', 'personstatustime', 'pscmpgender','psdrivinglicenseownerflag','psworknumhoursperweek']])\n",
    "df.head()"
   ]
  },
  {
   "cell_type": "code",
   "execution_count": 2,
   "metadata": {},
   "outputs": [
    {
     "data": {
      "text/plain": [
       "Index(['HomeZone', 'Family', 'Cars', 'Children', 'Adults', 'Income', 'Campus',\n",
       "       'Level', 'Status', 'Gender', 'Licence', 'Work'],\n",
       "      dtype='object')"
      ]
     },
     "execution_count": 2,
     "metadata": {},
     "output_type": "execute_result"
    }
   ],
   "source": [
    "df = df.rename(columns={'HmTTS2006': 'HomeZone', 'pscampusattend': 'Campus', 'hhlivingsituation': 'Family', \n",
    "                       'personstatusgrad': 'Level', 'personstatustime': 'Status', 'psuniversityinvolvednumyears': 'Years', 'hhcarnumber': 'Cars',\n",
    "                       'hhincomelevel': 'Income', 'pscmpgender': 'Gender', 'psdrivinglicenseownerflag': 'Licence', 'psworknumhoursperweek': 'Work',\n",
    "                       'hhnumyoungerthan18': 'Children', 'hhnumolderorequalto18':'Adults'})\n",
    "df.columns"
   ]
  },
  {
   "cell_type": "code",
   "execution_count": 3,
   "metadata": {},
   "outputs": [
    {
     "data": {
      "text/plain": [
       "Index(['HomeZone', 'Family', 'Cars', 'Children', 'Adults', 'Income', 'Campus',\n",
       "       'Level', 'Status', 'Gender', 'Licence', 'Work'],\n",
       "      dtype='object')"
      ]
     },
     "execution_count": 3,
     "metadata": {},
     "output_type": "execute_result"
    }
   ],
   "source": [
    "# Clean and reformat\n",
    "df = df[df['HomeZone'].notnull()]\n",
    "df = df[df['Campus'].notnull()]\n",
    "df['HomeZone'] = pd.to_numeric(df['HomeZone'], downcast='signed')\n",
    "df['Family'] = (df['Family'] == 'Live with family/parents')*1\n",
    "df.columns"
   ]
  },
  {
   "cell_type": "code",
   "execution_count": 4,
   "metadata": {},
   "outputs": [
    {
     "data": {
      "text/plain": [
       "Index(['HomeZone', 'Family', 'Cars', 'Children', 'Adults', 'Income', 'Campus',\n",
       "       'Level', 'Status', 'Gender', 'Licence', 'Work', 'Dist.SG', 'Dist.SC',\n",
       "       'Dist.MI', 'Dist.YK', 'Dist.YG', 'Dist.RY', 'Dist.OC'],\n",
       "      dtype='object')"
      ]
     },
     "execution_count": 4,
     "metadata": {},
     "output_type": "execute_result"
    }
   ],
   "source": [
    "# Dataframe with walk distances\n",
    "df_path = pd.read_csv('../../LoS/Walk_Distances.csv')\n",
    "origins = list(set(list(df_path['Origin'])))\n",
    "dists = list(df_path['Data'])\n",
    "\n",
    "# Function for distance lookup\n",
    "def find_distance(origin, destination):\n",
    "    try:\n",
    "        i = origins.index(origin)\n",
    "    except ValueError:\n",
    "        return -1\n",
    "    j = origins.index(destination)\n",
    "    return dists[i*2392 + j] / 1000\n",
    "\n",
    "# List of campus' TTS zones from Joven's MOE data\n",
    "campus_zones = list(campus_info['Zone'])\n",
    "school_codes = list(campus_info['Code'])\n",
    "\n",
    "# Load distances into dataframe\n",
    "for i in range(len(campus_zones)):\n",
    "    df[\"Dist.\" + school_codes[i]] = df['HomeZone'].apply(lambda x: find_distance(x, campus_zones[i]))\n",
    "df = df[df['Dist.SG'] != -1]\n",
    "df.columns"
   ]
  },
  {
   "cell_type": "code",
   "execution_count": 30,
   "metadata": {},
   "outputs": [
    {
     "data": {
      "text/html": [
       "<div>\n",
       "<style scoped>\n",
       "    .dataframe tbody tr th:only-of-type {\n",
       "        vertical-align: middle;\n",
       "    }\n",
       "\n",
       "    .dataframe tbody tr th {\n",
       "        vertical-align: top;\n",
       "    }\n",
       "\n",
       "    .dataframe thead th {\n",
       "        text-align: right;\n",
       "    }\n",
       "</style>\n",
       "<table border=\"1\" class=\"dataframe\">\n",
       "  <thead>\n",
       "    <tr style=\"text-align: right;\">\n",
       "      <th></th>\n",
       "      <th>Dist.SG</th>\n",
       "      <th>Dist.SC</th>\n",
       "      <th>Dist.MI</th>\n",
       "      <th>Dist.YK</th>\n",
       "      <th>Dist.YG</th>\n",
       "      <th>Dist.RY</th>\n",
       "      <th>Dist.OC</th>\n",
       "    </tr>\n",
       "  </thead>\n",
       "  <tbody>\n",
       "    <tr>\n",
       "      <th>0</th>\n",
       "      <td>10.256060</td>\n",
       "      <td>14.88098</td>\n",
       "      <td>29.20657</td>\n",
       "      <td>22.59214</td>\n",
       "      <td>9.218413</td>\n",
       "      <td>9.580635</td>\n",
       "      <td>11.241730</td>\n",
       "    </tr>\n",
       "    <tr>\n",
       "      <th>1</th>\n",
       "      <td>1.132351</td>\n",
       "      <td>23.03920</td>\n",
       "      <td>19.64290</td>\n",
       "      <td>15.87906</td>\n",
       "      <td>11.211150</td>\n",
       "      <td>2.675173</td>\n",
       "      <td>2.723838</td>\n",
       "    </tr>\n",
       "    <tr>\n",
       "      <th>2</th>\n",
       "      <td>23.319230</td>\n",
       "      <td>45.63271</td>\n",
       "      <td>4.51742</td>\n",
       "      <td>28.58045</td>\n",
       "      <td>32.555200</td>\n",
       "      <td>24.964000</td>\n",
       "      <td>23.686150</td>\n",
       "    </tr>\n",
       "    <tr>\n",
       "      <th>3</th>\n",
       "      <td>0.699414</td>\n",
       "      <td>24.11954</td>\n",
       "      <td>19.43932</td>\n",
       "      <td>16.81186</td>\n",
       "      <td>12.830410</td>\n",
       "      <td>2.314008</td>\n",
       "      <td>1.541276</td>\n",
       "    </tr>\n",
       "    <tr>\n",
       "      <th>4</th>\n",
       "      <td>1.132351</td>\n",
       "      <td>23.03920</td>\n",
       "      <td>19.64290</td>\n",
       "      <td>15.87906</td>\n",
       "      <td>11.211150</td>\n",
       "      <td>2.675173</td>\n",
       "      <td>2.723838</td>\n",
       "    </tr>\n",
       "  </tbody>\n",
       "</table>\n",
       "</div>"
      ],
      "text/plain": [
       "     Dist.SG   Dist.SC   Dist.MI   Dist.YK    Dist.YG    Dist.RY    Dist.OC\n",
       "0  10.256060  14.88098  29.20657  22.59214   9.218413   9.580635  11.241730\n",
       "1   1.132351  23.03920  19.64290  15.87906  11.211150   2.675173   2.723838\n",
       "2  23.319230  45.63271   4.51742  28.58045  32.555200  24.964000  23.686150\n",
       "3   0.699414  24.11954  19.43932  16.81186  12.830410   2.314008   1.541276\n",
       "4   1.132351  23.03920  19.64290  15.87906  11.211150   2.675173   2.723838"
      ]
     },
     "execution_count": 30,
     "metadata": {},
     "output_type": "execute_result"
    }
   ],
   "source": [
    "y = df['Campus']\n",
    "#x = df.drop(columns = ['HomeZone', 'Campus', 'Work'])\n",
    "x = df[['Dist.SG', 'Dist.SC', 'Dist.MI', 'Dist.YK', 'Dist.YG', 'Dist.RY', 'Dist.OC']]\n",
    "x = pd.get_dummies(x)\n",
    "x.head()"
   ]
  },
  {
   "cell_type": "code",
   "execution_count": 31,
   "metadata": {},
   "outputs": [
    {
     "name": "stdout",
     "output_type": "stream",
     "text": [
      "0 0\n"
     ]
    }
   ],
   "source": [
    "print(y.isnull().sum(), x.isnull().sum().sum())"
   ]
  },
  {
   "cell_type": "code",
   "execution_count": 32,
   "metadata": {},
   "outputs": [],
   "source": [
    "from sklearn.model_selection import train_test_split\n",
    "\n",
    "X_train, X_test, y_train, y_test = train_test_split(x, y, test_size=0.3)"
   ]
  },
  {
   "cell_type": "code",
   "execution_count": 40,
   "metadata": {},
   "outputs": [],
   "source": [
    "from sklearn.ensemble import RandomForestClassifier\n",
    "\n",
    "rf = RandomForestClassifier(n_estimators=100)\n",
    "rf.fit(X_train, y_train)\n",
    "y_pred = rf.predict(X_test)"
   ]
  },
  {
   "cell_type": "code",
   "execution_count": 41,
   "metadata": {},
   "outputs": [
    {
     "name": "stdout",
     "output_type": "stream",
     "text": [
      "Accuracy: 0.4507168458781362\n"
     ]
    }
   ],
   "source": [
    "from sklearn import metrics\n",
    "print(\"Accuracy:\", metrics.accuracy_score(y_test, y_pred))\n",
    "#print(\"Log-Lhood:\", metrics.log_loss(y_test, y_pred))"
   ]
  },
  {
   "cell_type": "code",
   "execution_count": 42,
   "metadata": {
    "scrolled": true
   },
   "outputs": [
    {
     "data": {
      "text/plain": [
       "Dist.SG    0.168129\n",
       "Dist.SC    0.155908\n",
       "Dist.YK    0.145238\n",
       "Dist.OC    0.144284\n",
       "Dist.RY    0.135290\n",
       "Dist.MI    0.130241\n",
       "Dist.YG    0.120912\n",
       "dtype: float64"
      ]
     },
     "execution_count": 42,
     "metadata": {},
     "output_type": "execute_result"
    }
   ],
   "source": [
    "pd.Series(rf.feature_importances_, index = x.columns).sort_values(ascending=False)"
   ]
  },
  {
   "cell_type": "code",
   "execution_count": null,
   "metadata": {},
   "outputs": [],
   "source": []
  },
  {
   "cell_type": "code",
   "execution_count": null,
   "metadata": {},
   "outputs": [],
   "source": []
  }
 ],
 "metadata": {
  "kernelspec": {
   "display_name": "Python 3",
   "language": "python",
   "name": "python3"
  },
  "language_info": {
   "codemirror_mode": {
    "name": "ipython",
    "version": 3
   },
   "file_extension": ".py",
   "mimetype": "text/x-python",
   "name": "python",
   "nbconvert_exporter": "python",
   "pygments_lexer": "ipython3",
   "version": "3.7.6"
  }
 },
 "nbformat": 4,
 "nbformat_minor": 4
}
