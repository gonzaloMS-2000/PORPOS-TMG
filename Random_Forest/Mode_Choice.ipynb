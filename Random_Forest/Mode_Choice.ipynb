{
 "cells": [
  {
   "cell_type": "code",
   "execution_count": 1,
   "metadata": {
    "scrolled": true
   },
   "outputs": [
    {
     "data": {
      "text/html": [
       "<div>\n",
       "<style scoped>\n",
       "    .dataframe tbody tr th:only-of-type {\n",
       "        vertical-align: middle;\n",
       "    }\n",
       "\n",
       "    .dataframe tbody tr th {\n",
       "        vertical-align: top;\n",
       "    }\n",
       "\n",
       "    .dataframe thead th {\n",
       "        text-align: right;\n",
       "    }\n",
       "</style>\n",
       "<table border=\"1\" class=\"dataframe\">\n",
       "  <thead>\n",
       "    <tr style=\"text-align: right;\">\n",
       "      <th></th>\n",
       "      <th>Level</th>\n",
       "      <th>Status</th>\n",
       "      <th>Mode</th>\n",
       "      <th>Gender</th>\n",
       "      <th>Licence</th>\n",
       "      <th>Work</th>\n",
       "      <th>Car_Avail</th>\n",
       "      <th>Family</th>\n",
       "      <th>Cars</th>\n",
       "      <th>Children</th>\n",
       "      <th>Adults</th>\n",
       "      <th>Income</th>\n",
       "      <th>Time.Auto</th>\n",
       "      <th>Time.Transit</th>\n",
       "      <th>Time.Active</th>\n",
       "    </tr>\n",
       "  </thead>\n",
       "  <tbody>\n",
       "    <tr>\n",
       "      <th>0</th>\n",
       "      <td>UG</td>\n",
       "      <td>FT</td>\n",
       "      <td>Transit</td>\n",
       "      <td>Female</td>\n",
       "      <td>0</td>\n",
       "      <td>Other</td>\n",
       "      <td>0</td>\n",
       "      <td>Family</td>\n",
       "      <td>1</td>\n",
       "      <td>3</td>\n",
       "      <td>4</td>\n",
       "      <td>Unknown</td>\n",
       "      <td>17.474220</td>\n",
       "      <td>75.468478</td>\n",
       "      <td>223.214700</td>\n",
       "    </tr>\n",
       "    <tr>\n",
       "      <th>1</th>\n",
       "      <td>Grad</td>\n",
       "      <td>FT</td>\n",
       "      <td>Active</td>\n",
       "      <td>Female</td>\n",
       "      <td>1</td>\n",
       "      <td>Other</td>\n",
       "      <td>0</td>\n",
       "      <td>Other</td>\n",
       "      <td>0</td>\n",
       "      <td>0</td>\n",
       "      <td>2</td>\n",
       "      <td>High</td>\n",
       "      <td>2.924953</td>\n",
       "      <td>24.128386</td>\n",
       "      <td>16.985265</td>\n",
       "    </tr>\n",
       "    <tr>\n",
       "      <th>2</th>\n",
       "      <td>UG</td>\n",
       "      <td>FT</td>\n",
       "      <td>Transit</td>\n",
       "      <td>Female</td>\n",
       "      <td>1</td>\n",
       "      <td>Other</td>\n",
       "      <td>1</td>\n",
       "      <td>Family</td>\n",
       "      <td>1</td>\n",
       "      <td>0</td>\n",
       "      <td>4</td>\n",
       "      <td>Unknown</td>\n",
       "      <td>50.171880</td>\n",
       "      <td>155.551170</td>\n",
       "      <td>349.788450</td>\n",
       "    </tr>\n",
       "    <tr>\n",
       "      <th>3</th>\n",
       "      <td>UG</td>\n",
       "      <td>FT</td>\n",
       "      <td>Active</td>\n",
       "      <td>Male</td>\n",
       "      <td>1</td>\n",
       "      <td>Other</td>\n",
       "      <td>1</td>\n",
       "      <td>Roommates</td>\n",
       "      <td>0</td>\n",
       "      <td>0</td>\n",
       "      <td>4</td>\n",
       "      <td>Unknown</td>\n",
       "      <td>1.049121</td>\n",
       "      <td>16.675728</td>\n",
       "      <td>10.491210</td>\n",
       "    </tr>\n",
       "    <tr>\n",
       "      <th>4</th>\n",
       "      <td>Grad</td>\n",
       "      <td>FT</td>\n",
       "      <td>Active</td>\n",
       "      <td>Male</td>\n",
       "      <td>1</td>\n",
       "      <td>Other</td>\n",
       "      <td>0</td>\n",
       "      <td>Other</td>\n",
       "      <td>0</td>\n",
       "      <td>0</td>\n",
       "      <td>2</td>\n",
       "      <td>Low</td>\n",
       "      <td>2.924953</td>\n",
       "      <td>24.128386</td>\n",
       "      <td>16.985265</td>\n",
       "    </tr>\n",
       "  </tbody>\n",
       "</table>\n",
       "</div>"
      ],
      "text/plain": [
       "  Level Status     Mode  Gender  Licence   Work  Car_Avail     Family  Cars  \\\n",
       "0    UG     FT  Transit  Female        0  Other          0     Family     1   \n",
       "1  Grad     FT   Active  Female        1  Other          0      Other     0   \n",
       "2    UG     FT  Transit  Female        1  Other          1     Family     1   \n",
       "3    UG     FT   Active    Male        1  Other          1  Roommates     0   \n",
       "4  Grad     FT   Active    Male        1  Other          0      Other     0   \n",
       "\n",
       "   Children  Adults   Income  Time.Auto  Time.Transit  Time.Active  \n",
       "0         3       4  Unknown  17.474220     75.468478   223.214700  \n",
       "1         0       2     High   2.924953     24.128386    16.985265  \n",
       "2         0       4  Unknown  50.171880    155.551170   349.788450  \n",
       "3         0       4  Unknown   1.049121     16.675728    10.491210  \n",
       "4         0       2      Low   2.924953     24.128386    16.985265  "
      ]
     },
     "execution_count": 1,
     "metadata": {},
     "output_type": "execute_result"
    }
   ],
   "source": [
    "import pandas as pd\n",
    "\n",
    "df = pd.read_csv('../R_Logit_Models/Mode Choice Models/MChInput_2015_withColumns_2.4.csv')\n",
    "df.head()"
   ]
  },
  {
   "cell_type": "code",
   "execution_count": 2,
   "metadata": {
    "scrolled": true
   },
   "outputs": [
    {
     "data": {
      "text/html": [
       "<div>\n",
       "<style scoped>\n",
       "    .dataframe tbody tr th:only-of-type {\n",
       "        vertical-align: middle;\n",
       "    }\n",
       "\n",
       "    .dataframe tbody tr th {\n",
       "        vertical-align: top;\n",
       "    }\n",
       "\n",
       "    .dataframe thead th {\n",
       "        text-align: right;\n",
       "    }\n",
       "</style>\n",
       "<table border=\"1\" class=\"dataframe\">\n",
       "  <thead>\n",
       "    <tr style=\"text-align: right;\">\n",
       "      <th></th>\n",
       "      <th>Time.Transit</th>\n",
       "      <th>Time.Auto</th>\n",
       "      <th>Time.Active</th>\n",
       "    </tr>\n",
       "  </thead>\n",
       "  <tbody>\n",
       "    <tr>\n",
       "      <th>0</th>\n",
       "      <td>75.468478</td>\n",
       "      <td>17.474220</td>\n",
       "      <td>223.214700</td>\n",
       "    </tr>\n",
       "    <tr>\n",
       "      <th>1</th>\n",
       "      <td>24.128386</td>\n",
       "      <td>2.924953</td>\n",
       "      <td>16.985265</td>\n",
       "    </tr>\n",
       "    <tr>\n",
       "      <th>2</th>\n",
       "      <td>155.551170</td>\n",
       "      <td>50.171880</td>\n",
       "      <td>349.788450</td>\n",
       "    </tr>\n",
       "    <tr>\n",
       "      <th>3</th>\n",
       "      <td>16.675728</td>\n",
       "      <td>1.049121</td>\n",
       "      <td>10.491210</td>\n",
       "    </tr>\n",
       "    <tr>\n",
       "      <th>4</th>\n",
       "      <td>24.128386</td>\n",
       "      <td>2.924953</td>\n",
       "      <td>16.985265</td>\n",
       "    </tr>\n",
       "  </tbody>\n",
       "</table>\n",
       "</div>"
      ],
      "text/plain": [
       "   Time.Transit  Time.Auto  Time.Active\n",
       "0     75.468478  17.474220   223.214700\n",
       "1     24.128386   2.924953    16.985265\n",
       "2    155.551170  50.171880   349.788450\n",
       "3     16.675728   1.049121    10.491210\n",
       "4     24.128386   2.924953    16.985265"
      ]
     },
     "execution_count": 2,
     "metadata": {},
     "output_type": "execute_result"
    }
   ],
   "source": [
    "y = df['Mode']\n",
    "# x = df.drop(columns = ['Mode', 'Car_Avail'])\n",
    "# x = pd.get_dummies(x)\n",
    "x = df[['Time.Transit', 'Time.Auto', 'Time.Active']]\n",
    "x.head()"
   ]
  },
  {
   "cell_type": "code",
   "execution_count": 3,
   "metadata": {},
   "outputs": [
    {
     "data": {
      "text/plain": [
       "['Level',\n",
       " 'Status',\n",
       " 'Mode',\n",
       " 'Gender',\n",
       " 'Licence',\n",
       " 'Work',\n",
       " 'Car_Avail',\n",
       " 'Family',\n",
       " 'Cars',\n",
       " 'Children',\n",
       " 'Adults',\n",
       " 'Income',\n",
       " 'Time.Auto',\n",
       " 'Time.Transit',\n",
       " 'Time.Active']"
      ]
     },
     "execution_count": 3,
     "metadata": {},
     "output_type": "execute_result"
    }
   ],
   "source": [
    "list(df.columns)"
   ]
  },
  {
   "cell_type": "code",
   "execution_count": 4,
   "metadata": {},
   "outputs": [],
   "source": [
    "from sklearn.model_selection import train_test_split\n",
    "\n",
    "X_train, X_test, y_train, y_test = train_test_split(x, y, test_size=0.3)"
   ]
  },
  {
   "cell_type": "code",
   "execution_count": 5,
   "metadata": {},
   "outputs": [],
   "source": [
    "from sklearn.ensemble import RandomForestClassifier\n",
    "\n",
    "rf = RandomForestClassifier(n_estimators=100)\n",
    "rf.fit(X_train,y_train)\n",
    "y_pred = rf.predict(X_test)"
   ]
  },
  {
   "cell_type": "code",
   "execution_count": 6,
   "metadata": {},
   "outputs": [
    {
     "name": "stdout",
     "output_type": "stream",
     "text": [
      "Accuracy: 0.8095021595817231\n"
     ]
    },
    {
     "data": {
      "text/plain": [
       "Time.Active     0.378011\n",
       "Time.Auto       0.324305\n",
       "Time.Transit    0.297685\n",
       "dtype: float64"
      ]
     },
     "execution_count": 6,
     "metadata": {},
     "output_type": "execute_result"
    }
   ],
   "source": [
    "print(\"Accuracy:\", rf.score(X_test, y_test))\n",
    "pd.Series(rf.feature_importances_, index = x.columns).sort_values(ascending=False)"
   ]
  },
  {
   "cell_type": "code",
   "execution_count": 7,
   "metadata": {
    "scrolled": true
   },
   "outputs": [
    {
     "data": {
      "image/png": "[encoded data removed]",
      "text/plain": [
       "<Figure size 864x864 with 2 Axes>"
      ]
     },
     "metadata": {},
     "output_type": "display_data"
    }
   ],
   "source": [
    "import matplotlib.pyplot as plt\n",
    "plt.figure(figsize = (12, 12))\n",
    "plt.tight_layout()\n",
    "plt.subplot(1, 2, 1)\n",
    "pd.Series(y_pred).value_counts().plot.pie()\n",
    "plt.title(\"Predicted Modes\")\n",
    "plt.subplot(1, 2, 2)\n",
    "pd.Series(y_test).value_counts().plot.pie()\n",
    "plt.title(\"Actual Modes\")\n",
    "plt.show()"
   ]
  },
  {
   "cell_type": "code",
   "execution_count": 8,
   "metadata": {},
   "outputs": [
    {
     "data": {
      "text/plain": [
       "0.7529207667790639"
      ]
     },
     "execution_count": 8,
     "metadata": {},
     "output_type": "execute_result"
    }
   ],
   "source": [
    "probs = rf.predict_proba(X_test)\n",
    "modes = list(rf.classes_)\n",
    "results = pd.concat((y_test.reset_index(drop=True), pd.DataFrame(probs)), axis=1)\n",
    "results.apply(lambda x: x[modes.index(x.Mode)], axis=1).mean()"
   ]
  },
  {
   "cell_type": "code",
   "execution_count": 9,
   "metadata": {},
   "outputs": [],
   "source": [
    "import pickle\n",
    "pickle.dump(rf, open('Mode_Choice_Model', 'wb'))\n",
    "\n",
    "# To open:\n",
    "# model = pickle.load(open(filename, 'rb'))"
   ]
  },
  {
   "cell_type": "code",
   "execution_count": null,
   "metadata": {},
   "outputs": [],
   "source": []
  }
 ],
 "metadata": {
  "kernelspec": {
   "display_name": "Python 3",
   "language": "python",
   "name": "python3"
  },
  "language_info": {
   "codemirror_mode": {
    "name": "ipython",
    "version": 3
   },
   "file_extension": ".py",
   "mimetype": "text/x-python",
   "name": "python",
   "nbconvert_exporter": "python",
   "pygments_lexer": "ipython3",
   "version": "3.7.6"
  }
 },
 "nbformat": 4,
 "nbformat_minor": 4
}
