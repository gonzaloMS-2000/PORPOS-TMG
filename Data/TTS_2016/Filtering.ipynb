{
 "cells": [
  {
   "cell_type": "markdown",
   "metadata": {},
   "source": [
    "# Filtering\n",
    "\n",
    "Before we start with segmentation, we will filter the TTS data so that we are including primarily post-secondary students. Specifically, we remove:\n",
    "- School codes where over half of the students are under 19.  \n",
    "- School zones where over half of the students are under 19.  \n",
    "- Students whose indicated commute mode is school bus."
   ]
  },
  {
   "cell_type": "code",
   "execution_count": 1,
   "metadata": {},
   "outputs": [
    {
     "name": "stdout",
     "output_type": "stream",
     "text": [
      "Dataframe size: 19855\n",
      "Students who do not commute.\n",
      "Dataframe size: 18830\n",
      "Removing students from school codes with over half of students under 19.\n",
      "Dataframe size: 15175\n",
      "Removing school bus students.\n",
      "Dataframe size: 15149\n"
     ]
    }
   ],
   "source": [
    "import pandas as pd\n",
    "\n",
    "df = pd.read_csv('Original.csv')\n",
    "original_df = df.copy()\n",
    "print(\"Dataframe size:\", df.shape[0])\n",
    "\n",
    "print(\"Students who do not commute.\")\n",
    "df = df[df['SchoolCode'] != '9998'] # Outside study area, homeschooled, or distance education\n",
    "print(\"Dataframe size:\", df.shape[0])\n",
    "\n",
    "grouped = df.groupby('SchoolCode')['Age'].quantile(0.5)\n",
    "ps_codes = grouped[grouped > 19].index.tolist()\n",
    "print(\"Removing students from school codes with over half of students under 19.\")\n",
    "df = df[df['SchoolCode'].isin(ps_codes)]\n",
    "print(\"Dataframe size:\", df.shape[0])\n",
    "\n",
    "print(\"Removing school bus students.\")\n",
    "df = df[df['ModeTakenToSchool'] != 'S'] # School bus\n",
    "print(\"Dataframe size:\", df.shape[0])"
   ]
  },
  {
   "cell_type": "code",
   "execution_count": 2,
   "metadata": {
    "scrolled": false
   },
   "outputs": [
    {
     "data": {
      "image/png": "[encoded data removed]",
      "text/plain": [
       "<Figure size 432x288 with 1 Axes>"
      ]
     },
     "metadata": {
      "needs_background": "light"
     },
     "output_type": "display_data"
    }
   ],
   "source": [
    "import matplotlib.pyplot as plt\n",
    "df['Age'].hist(bins=len(df['Age'].unique()))\n",
    "plt.xlabel('Age')\n",
    "plt.ylabel('Frequency')\n",
    "plt.show()"
   ]
  },
  {
   "cell_type": "markdown",
   "metadata": {},
   "source": [
    "As we can see, the updated age distribution seems much more reasonable, with fewer 17-year-olds relative to 18-, 19-, and 20-year-olds.\n",
    "\n",
    "Now let's load distances from the EMME LoS matrices:"
   ]
  },
  {
   "cell_type": "code",
   "execution_count": 3,
   "metadata": {},
   "outputs": [],
   "source": [
    "LoS = pd.read_csv('../../../LoS/Walk_Distances.csv')\n",
    "zones = LoS['Origin'].unique().tolist()\n",
    "dists = LoS['Data'].tolist()\n",
    "\n",
    "not_found = set()\n",
    "def find_distance(o, d):\n",
    "    try:\n",
    "        i = zones.index(o)\n",
    "    except ValueError:\n",
    "        not_found.add(o)\n",
    "        return -1\n",
    "    try:\n",
    "        j = zones.index(d)\n",
    "    except ValueError:\n",
    "        not_found.add(d)\n",
    "        return -1\n",
    "    return dists[i*2392 + j] / 1000\n",
    "\n",
    "df['Dist'] = df.apply(lambda x: find_distance(x.HomeZone, x.SchoolZone), axis =1)"
   ]
  },
  {
   "cell_type": "code",
   "execution_count": 4,
   "metadata": {},
   "outputs": [],
   "source": [
    "PD_df = pd.read_csv('../Zones.csv', index_col=0)\n",
    "\n",
    "def zone_to_PD(x):\n",
    "    try:\n",
    "        return PD_df['PD'][x]\n",
    "    except:\n",
    "        return -1\n",
    "\n",
    "df['PD'] = df['HomeZone'].apply(lambda x: zone_to_PD(x))"
   ]
  },
  {
   "cell_type": "code",
   "execution_count": 5,
   "metadata": {},
   "outputs": [],
   "source": [
    "df.to_csv('Filtered.csv', index=True)"
   ]
  }
 ],
 "metadata": {
  "kernelspec": {
   "display_name": "Python 3",
   "language": "python",
   "name": "python3"
  },
  "language_info": {
   "codemirror_mode": {
    "name": "ipython",
    "version": 3
   },
   "file_extension": ".py",
   "mimetype": "text/x-python",
   "name": "python",
   "nbconvert_exporter": "python",
   "pygments_lexer": "ipython3",
   "version": "3.7.6"
  }
 },
 "nbformat": 4,
 "nbformat_minor": 2
}
