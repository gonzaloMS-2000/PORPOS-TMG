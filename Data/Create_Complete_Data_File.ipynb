{
 "cells": [
  {
   "cell_type": "code",
   "execution_count": null,
   "metadata": {},
   "outputs": [],
   "source": [
    "import pandas as pd\n",
    "import math\n",
    "import csv\n",
    "\n",
    "hh_df = pd.read_csv('SMTO_2015/SMTO_2015_Households.csv')\n",
    "ps_df = pd.read_csv('SMTO_2015/SMTO_2015_Respondents.csv')\n",
    "campus_info = pd.read_csv('SMTO_2015/Campus_Info.csv')\n",
    "\n",
    "# List of campus' TTS zones from Joven's MOE data\n",
    "campus_zones = list(campus_info['Zone'])\n",
    "school_codes = list(campus_info['Code'])\n",
    "\n",
    "# List of University Information from OUAC\n",
    "uni_info = pd.read_csv('Uni_Info.csv')\n",
    "uni_info = uni_info.set_index('University')\n",
    "\n",
    "# Load relevant columns\n",
    "df = ps_df[['pscampusattend', 'personstatusgrad', 'personstatustime','psmainmodefalltypical', 'pscmpgender','psdrivinglicenseownerflag','psworknumhoursperweek','psage','psexpfactor']]\n",
    "df = df.join(hh_df[['HmTTS2006', 'hhlivingsituation', 'hhcarnumber','hhnumyoungerthan18','hhnumolderorequalto18','hhincomelevel']])\n",
    "\n",
    "df = df.rename(columns={'HmTTS2006': 'HomeZone', 'pscampusattend': 'Campus', 'hhlivingsituation': 'Family', 'psmainmodefalltypical': 'Mode_Actual', \n",
    "                       'personstatusgrad': 'Level', 'personstatustime': 'Status', 'psuniversityinvolvednumyears': 'Years', 'hhcarnumber': 'Cars',\n",
    "                       'hhincomelevel': 'Income', 'pscmpgender': 'Gender', 'psdrivinglicenseownerflag': 'Licence', 'psworknumhoursperweek': 'Work',\n",
    "                       'hhnumyoungerthan18': 'Children', 'hhnumolderorequalto18':'Adults', 'psage': 'Age','psexpfactor': 'Exp_SMTO'})\n",
    "\n",
    "\n",
    "mode_name_to_num = {\"Car - Driver alone\": \"Auto\", \"Car - Driver with passenger(s)\": \"Auto\", \"Car - Passenger\": \"Auto\", \"Taxi\": \"Auto\", \n",
    "                    \"Transit Bus\": \"Transit\", \"Streetcar\": \"Transit\", \"Subway/RT\": \"Transit\", \"GO Bus\": \"Transit\", \"GO Train\": \"Transit\", \n",
    "                    \"Walk\": \"Active\", \"Bicycle\": \"Active\"}\n",
    "print(df.shape)\n",
    "\n",
    "# Make Aggregate Mode Column\n",
    "df['Mode'] = df['Mode_Actual'].replace(mode_name_to_num)\n",
    "df = df[(df['Mode'] == \"Auto\") | (df['Mode'] == \"Transit\") | (df['Mode'] == \"Active\")]\n",
    "df.loc[~df['Mode'].isin(('Auto', 'Transit', 'Active')), 'Mode'] = 'Other'\n",
    "print(df.shape)\n",
    "\n",
    "df['Work'].fillna('Unknown', inplace=True) # Fill 11,000 Work NaNs with \"Unknowns\"\n",
    "df = df.dropna() # Remove rows with missing data\n",
    "print(df.shape)\n",
    "\n",
    "# Convert Campus column to numerical column\n",
    "df['CampusZone'] = df[\"Campus\"].apply(lambda x: campus_info.Zone[campus_info['School'] == x].tolist()[0])\n",
    "print(df.shape)\n",
    "\n",
    "# Convert columns to numerical\n",
    "df['HomeZone'] = pd.to_numeric(df['HomeZone'], downcast='signed')\n",
    "\n",
    "print(df.shape)\n",
    "\n",
    "# Add column with school codes\n",
    "df['School_Codes'] = df['Campus'].apply(lambda x: uni_info['Code'][x])\n",
    "\n",
    "df.head()"
   ]
  },
  {
   "cell_type": "code",
   "execution_count": null,
   "metadata": {},
   "outputs": [],
   "source": [
    "df['Work'].value_counts()"
   ]
  },
  {
   "cell_type": "code",
   "execution_count": null,
   "metadata": {},
   "outputs": [],
   "source": [
    "# Column Transformation functions\n",
    "\n",
    "def inc_transform(x):\n",
    "    if x == \"Less than $ 30,000\":\n",
    "        return \"Low\"\n",
    "    elif x == \"$ 30,000 - 59,999\":\n",
    "        return \"Low\"\n",
    "    elif x == \"$ 60,000 - 89,999\":\n",
    "        return \"Low\"\n",
    "    elif x == \"$ 90,000 - 119,999\":\n",
    "        return \"High\"\n",
    "    elif x == \"$ 120,000 - 149,999\":\n",
    "        return \"High\"\n",
    "    elif x == \"$ 150,000 - 179,999\":\n",
    "        return \"High\"\n",
    "    elif x == \"$ 180,000 - 209,999\":\n",
    "        return \"High\"\n",
    "    elif x == \"$ 210,000 - 239,999\":\n",
    "        return \"High\"\n",
    "    elif x == \"$ 240,000 +\":\n",
    "        return \"High\"\n",
    "    else:\n",
    "        return \"Unknown\"\n",
    "\n",
    "def log_inc(x):\n",
    "    if x == \"Less than $ 30,000\":\n",
    "        return math.log1p(15000)\n",
    "    elif x == \"$ 30,000 - 59,999\":\n",
    "        return math.log1p(45000)\n",
    "    elif x == \"$ 60,000 - 89,999\":\n",
    "        return math.log1p(75000)\n",
    "    elif x == \"$ 90,000 - 119,999\":\n",
    "        return math.log1p(105000)\n",
    "    elif x == \"$ 120,000 - 149,999\":\n",
    "        return math.log1p(135000)\n",
    "    elif x == \"$ 150,000 - 179,999\":\n",
    "        return math.log1p(165000)\n",
    "    elif x == \"$ 180,000 - 209,999\":\n",
    "        return math.log1p(195000)\n",
    "    elif x == \"$ 210,000 - 239,999\":\n",
    "        return math.log1p(225000)\n",
    "    elif x == \"$ 240,000 +\":\n",
    "        return math.log1p(255000)\n",
    "    else: # Unknown\n",
    "        return 0\n",
    "\n",
    "    \n",
    "def work_transform(x):\n",
    "    if x == \"Yes, I work > 40 hours per week\":\n",
    "        return \"FT\"\n",
    "    elif x == \"Yes, I work 31-40 hours per week\":\n",
    "        return \"FT\"\n",
    "    elif x == \"Yes, I work part time (21-30 hours per week)\":\n",
    "        return \"PT\"\n",
    "    elif x == \"Yes, I work part time (11-20 hours per week)\":\n",
    "        return \"PT\"\n",
    "    elif x == \"Yes, I work part time (<10 hours per week)\":\n",
    "        return \"PT\"\n",
    "    elif x == \"No, I don't work\":\n",
    "        return \"NW\"\n",
    "    else:\n",
    "        return \"Unknown\"\n",
    "    \n",
    "def fam_transform(x):\n",
    "    if x == \"Live with family/parents\":\n",
    "        return 1\n",
    "    else:\n",
    "        return 0\n",
    "'''\n",
    "def car_transform(x):\n",
    "    if x == 0:\n",
    "        return 0\n",
    "    elif x == 1: \n",
    "        return 1\n",
    "    else:\n",
    "        return 2\n",
    "'''"
   ]
  },
  {
   "cell_type": "code",
   "execution_count": null,
   "metadata": {},
   "outputs": [],
   "source": [
    "df['Work'] = df[\"Work\"].apply(lambda x: work_transform(x))\n",
    "df['Family'] = df[\"Family\"].apply(lambda x: fam_transform(x))\n",
    "#df['Cars'] = df[\"Cars\"].apply(lambda x: car_transform(x))\n",
    "df['LogIncome'] = df[\"Income\"].apply(log_inc)\n",
    "df['Income'] = df[\"Income\"].apply(lambda x: inc_transform(x))\n",
    "df.head()"
   ]
  },
  {
   "cell_type": "code",
   "execution_count": null,
   "metadata": {
    "scrolled": true
   },
   "outputs": [],
   "source": [
    "def row_to_segment(x):\n",
    "    \n",
    "    return {((x.Level == 'UG') & (x.Status == 'FT') & x.Family): 1,\n",
    "            ((x.Level == 'UG') & (x.Status == 'FT') & (not x.Family)): 2,\n",
    "            ((x.Level == 'UG') & (x.Status == 'PT')): 3,\n",
    "            ((x.Level == 'Grad') & (x.Status == 'FT') & x.Family): 4,\n",
    "            ((x.Level == 'Grad') & (x.Status == 'FT') & (not x.Family)): 5,\n",
    "            ((x.Level == 'Grad') & (x.Status == 'PT')): 6}.get(True, 0)\n",
    "\n",
    "df['Segment'] = df.apply(row_to_segment, axis=1)\n",
    "\n",
    "df.head()"
   ]
  },
  {
   "cell_type": "code",
   "execution_count": null,
   "metadata": {},
   "outputs": [],
   "source": [
    "# Dataframe with walk distances\n",
    "df_path = pd.read_csv('../../LoS/Walk_Distances.csv')\n",
    "origins = list(set(list(df_path['Origin'])))\n",
    "dists = list(df_path['Data'])\n",
    "\n",
    "# Dataframe with AutoTravelTimes\n",
    "df_att = pd.read_csv('../../LoS/Auto_Travel_Times.csv')\n",
    "AutoTravelTimes = list(df_att['Data'])\n",
    "\n",
    "# Dataframe with TransitTravelTimes\n",
    "df_ttt = pd.read_csv('../../LoS/Transit_Travel_Times.csv')\n",
    "TransitTravelTimes = list(df_ttt['Data'])\n",
    "\n",
    "# Function for distance lookup\n",
    "not_found = set()\n",
    "def find_distance(origin, destination, info_num):\n",
    "    # mode_num: 0 - to find Walking Distance\n",
    "    #           1 - to find Walking Time\n",
    "    #           2 - to find Auto Time  \n",
    "    #           3 - to find Transit Time\n",
    "    \n",
    "    try:\n",
    "        i = origins.index(origin)\n",
    "    except ValueError:\n",
    "        not_found.add(origin)\n",
    "        return -1\n",
    "    try:\n",
    "        j = origins.index(destination)\n",
    "    except ValueError:\n",
    "        not_found.add(destination)\n",
    "        return -1\n",
    "    \n",
    "    if info_num == 0:\n",
    "        return dists[i*2392 + j] / 1000\n",
    "    elif info_num == 1:\n",
    "        return dists[i*2392 + j] * 15 / 1000 \n",
    "    elif info_num == 2:\n",
    "        return AutoTravelTimes[i*2392 + j]\n",
    "    elif info_num == 3:\n",
    "        return TransitTravelTimes[i*2392 + j]\n",
    "    else:\n",
    "        print(\"ERROR: Enter correct info_num!\")\n",
    "        return False\n",
    "\n",
    "# Load distances into dataframe\n",
    "for i in range(len(campus_zones)):\n",
    "    df[\"Dist.\" + school_codes[i]] = df['HomeZone'].apply(lambda x: find_distance(x, campus_zones[i],0))\n",
    "for i in range(len(campus_zones)):\n",
    "    df[\"WTT.\" + school_codes[i]] = df['HomeZone'].apply(lambda x: find_distance(x, campus_zones[i],1))\n",
    "for i in range(len(campus_zones)):\n",
    "    df[\"AIVTT.\" + school_codes[i]] = df['HomeZone'].apply(lambda x: find_distance(x, campus_zones[i],2))\n",
    "for i in range(len(campus_zones)):\n",
    "    df[\"TPTT.\" + school_codes[i]] = df['HomeZone'].apply(lambda x: find_distance(x, campus_zones[i],3))\n",
    "    \n",
    "print(\"# of zones not found:\", len(not_found))\n",
    "\n",
    "df.head()"
   ]
  },
  {
   "cell_type": "code",
   "execution_count": null,
   "metadata": {},
   "outputs": [],
   "source": [
    "# Load enrollment data\n",
    "enrollment_df = pd.read_csv('Enrolment/Joven_Enrollment.csv').set_index('School')\n",
    "def get_log_enrollment(level, school):\n",
    "    return math.log1p(enrollment_df.loc[school][level]) # Level: UG, Grad, Total\n",
    "    \n",
    "for level in ('Total', 'UG', 'Grad'):\n",
    "    for i in range(len(campus_zones)):\n",
    "        df[level + \".\" + school_codes[i]] = get_log_enrollment(level, school_codes[i])"
   ]
  },
  {
   "cell_type": "code",
   "execution_count": null,
   "metadata": {},
   "outputs": [],
   "source": [
    "df.head()"
   ]
  },
  {
   "cell_type": "code",
   "execution_count": null,
   "metadata": {},
   "outputs": [],
   "source": [
    "# One column per campus tuition\n",
    "for i in range(len(campus_zones)):\n",
    "    df[\"Tuition.\" + school_codes[i]] = uni_info['Tuition'][i]\n",
    "    \n",
    "# One single tuition col\n",
    "#df['Tuition'] = df['Campus'].apply(lambda x: uni_info.loc[x]['Tuition'])"
   ]
  },
  {
   "cell_type": "code",
   "execution_count": null,
   "metadata": {},
   "outputs": [],
   "source": [
    "# Domestic Percentage Column\n",
    "for i in range(len(campus_zones)):\n",
    "    df[\"Domestic.\" + school_codes[i]] = df['Level'].apply(lambda x: uni_info['Domestic%_' + ('Grad' if (x == 'Grad') else 'UG')][i])"
   ]
  },
  {
   "cell_type": "code",
   "execution_count": null,
   "metadata": {},
   "outputs": [],
   "source": [
    "for i in range(len(campus_zones)):\n",
    "    df[\"Admission_Avg.\" + school_codes[i]] = uni_info['Admission'][i]"
   ]
  },
  {
   "cell_type": "code",
   "execution_count": null,
   "metadata": {},
   "outputs": [],
   "source": [
    "list(uni_info.index)"
   ]
  },
  {
   "cell_type": "code",
   "execution_count": null,
   "metadata": {},
   "outputs": [],
   "source": [
    "enrollment_df"
   ]
  },
  {
   "cell_type": "code",
   "execution_count": null,
   "metadata": {},
   "outputs": [],
   "source": [
    "exp_factors = {}\n",
    "schoolnames = list(uni_info.index)\n",
    "for i in range(len(campus_zones)):\n",
    "    exp_factors[schoolnames[i]] = [enrollment_df.loc[school_codes[i]]['UG'] / enrollment_df['UG'].sum() / df[df['Level'] == 'UG']['Campus'].value_counts(normalize=True)[i]]\n",
    "    exp_factors[schoolnames[i]].append(enrollment_df.loc[school_codes[i]]['Grad'] / enrollment_df['Grad'].sum() / df[df['Level'] == 'Grad']['Campus'].value_counts(normalize=True)[i]) \n",
    "    exp_factors[schoolnames[i]].append(enrollment_df.loc[school_codes[i]]['Total'] / enrollment_df['Total'].sum() / df[df['Level'] == 'Other']['Campus'].value_counts(normalize=True)[i])\n",
    "    \n",
    "def load_exp_factors_segment(x):\n",
    "    if x.Level == 'Other':\n",
    "        return x.Exp_SMTO\n",
    "    return exp_factors[x.Campus][0 if x.Level == 'UG' else 1]\n",
    "\n",
    "def load_exp_factors_level(x):\n",
    "    return {x.Level == 'UG': exp_factors[x.Campus][0], x.Level == 'Grad': exp_factors[x.Campus][1]}.get(True, exp_factors[x.Campus][2])\n",
    "\n",
    "df['Exp_Segment'] = df.apply(load_exp_factors_segment, axis = 1)\n",
    "df['Exp_Level'] = df.apply(load_exp_factors_level, axis = 1)"
   ]
  },
  {
   "cell_type": "code",
   "execution_count": null,
   "metadata": {},
   "outputs": [],
   "source": [
    "df.head()"
   ]
  },
  {
   "cell_type": "code",
   "execution_count": null,
   "metadata": {},
   "outputs": [],
   "source": [
    "# Remove columns we don't need anymore:\n",
    "del df['CampusZone']\n",
    "del df['HomeZone']\n",
    "del df['Exp_SMTO']"
   ]
  },
  {
   "cell_type": "code",
   "execution_count": null,
   "metadata": {},
   "outputs": [],
   "source": [
    "for i in school_codes:\n",
    "    df = df[df['WTT.' + i] != -1]\n",
    "    df = df[df['AIVTT.' + i] < 1000]"
   ]
  },
  {
   "cell_type": "code",
   "execution_count": null,
   "metadata": {},
   "outputs": [],
   "source": [
    "df.shape"
   ]
  },
  {
   "cell_type": "code",
   "execution_count": null,
   "metadata": {},
   "outputs": [],
   "source": [
    "df.columns"
   ]
  },
  {
   "cell_type": "code",
   "execution_count": null,
   "metadata": {},
   "outputs": [],
   "source": [
    "df['Segment'].value_counts()"
   ]
  },
  {
   "cell_type": "code",
   "execution_count": null,
   "metadata": {},
   "outputs": [],
   "source": [
    "df.to_csv('SMTO_2015/SMTO_2015_Complete_Input.csv', index = False)"
   ]
  }
 ],
 "metadata": {
  "kernelspec": {
   "display_name": "Python 3",
   "language": "python",
   "name": "python3"
  },
  "language_info": {
   "codemirror_mode": {
    "name": "ipython",
    "version": 3
   },
   "file_extension": ".py",
   "mimetype": "text/x-python",
   "name": "python",
   "nbconvert_exporter": "python",
   "pygments_lexer": "ipython3",
   "version": "3.7.6"
  }
 },
 "nbformat": 4,
 "nbformat_minor": 2
}
