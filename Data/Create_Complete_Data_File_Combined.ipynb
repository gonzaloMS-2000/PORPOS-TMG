{
 "cells": [
  {
   "cell_type": "code",
   "execution_count": 1,
   "metadata": {
    "scrolled": true
   },
   "outputs": [
    {
     "data": {
      "text/plain": [
       "Index(['Campus', 'Level', 'Status', 'Mode_Actual', 'Gender', 'Licence', 'Work',\n",
       "       'Age', 'HomeZone', 'Family', 'Cars', 'Children', 'Adults', 'Income',\n",
       "       'Mode', 'School', 'Segment', 'Dist.SG', 'Dist.SC', 'Dist.MI', 'Dist.YK',\n",
       "       'Dist.YG', 'Dist.RY', 'Dist.OC', 'WTT.SG', 'WTT.SC', 'WTT.MI', 'WTT.YK',\n",
       "       'WTT.YG', 'WTT.RY', 'WTT.OC', 'AIVTT.SG', 'AIVTT.SC', 'AIVTT.MI',\n",
       "       'AIVTT.YK', 'AIVTT.YG', 'AIVTT.RY', 'AIVTT.OC', 'TPTT.SG', 'TPTT.SC',\n",
       "       'TPTT.MI', 'TPTT.YK', 'TPTT.YG', 'TPTT.RY', 'TPTT.OC', 'Total.SG',\n",
       "       'Total.SC', 'Total.MI', 'Total.YK', 'Total.YG', 'Total.RY', 'Total.OC',\n",
       "       'UG.SG', 'UG.SC', 'UG.MI', 'UG.YK', 'UG.YG', 'UG.RY', 'UG.OC',\n",
       "       'Grad.SG', 'Grad.SC', 'Grad.MI', 'Grad.YK', 'Grad.YG', 'Grad.RY',\n",
       "       'Grad.OC', 'Tuition.SG', 'Tuition.SC', 'Tuition.MI', 'Tuition.YK',\n",
       "       'Tuition.YG', 'Tuition.RY', 'Tuition.OC', 'Domestic.SG', 'Domestic.SC',\n",
       "       'Domestic.MI', 'Domestic.YK', 'Domestic.YG', 'Domestic.RY',\n",
       "       'Domestic.OC', 'Admission_Avg.SG', 'Admission_Avg.SC',\n",
       "       'Admission_Avg.MI', 'Admission_Avg.YK', 'Admission_Avg.YG',\n",
       "       'Admission_Avg.RY', 'Admission_Avg.OC', 'Exp_Segment', 'Exp_Level',\n",
       "       'Time.Active', 'Time.Auto', 'Time.Transit', 'Closest.MI', 'Closest.OC',\n",
       "       'Closest.RY', 'Closest.SC', 'Closest.SG', 'Closest.YG', 'Closest.YK',\n",
       "       'PD'],\n",
       "      dtype='object')"
      ]
     },
     "execution_count": 1,
     "metadata": {},
     "output_type": "execute_result"
    }
   ],
   "source": [
    "import pandas as pd\n",
    "df_2015 = pd.read_csv('SMTO_2015/SMTO_2015_Complete_Input.csv')\n",
    "df_2015 = df_2015[df_2015['Level'] != 'Other']\n",
    "df_2015.columns"
   ]
  },
  {
   "cell_type": "code",
   "execution_count": 2,
   "metadata": {},
   "outputs": [
    {
     "data": {
      "text/plain": [
       "Index(['Liv_Arr', 'Children', 'Cars', 'Income', 'Home_Zone', 'School',\n",
       "       'Campus', 'Work', 'Licence', 'Mode', 'Age', 'School_Type', 'Family',\n",
       "       'Level', 'Status', 'Campus_Zone', 'Enrol.CST', 'Enrol.CAS', 'Enrol.CPR',\n",
       "       'Enrol.CMO', 'Enrol.CDV', 'Enrol.CEG', 'Enrol.CPI', 'Enrol.CDS',\n",
       "       'Enrol.DOS', 'Enrol.DWH', 'Enrol.MCM', 'Enrol.MCB', 'Enrol.MOF',\n",
       "       'Enrol.MOS', 'Enrol.MOI', 'Enrol.OTD', 'Enrol.OTN', 'Enrol.SHD',\n",
       "       'Enrol.SHH', 'Enrol.SHT', 'Enrol.MI', 'Enrol.SC', 'Enrol.SG',\n",
       "       'Enrol.YK', 'Enrol.YG', 'Enrol.RY', 'Enrol.OC', 'Dist.CST', 'Dist.CAS',\n",
       "       'Dist.CPR', 'Dist.CMO', 'Dist.CDV', 'Dist.CEG', 'Dist.CPI', 'Dist.CDS',\n",
       "       'Dist.DOS', 'Dist.DWH', 'Dist.MCM', 'Dist.MCB', 'Dist.MOF', 'Dist.MOS',\n",
       "       'Dist.MOI', 'Dist.OTD', 'Dist.OTN', 'Dist.SHD', 'Dist.SHH', 'Dist.SHT',\n",
       "       'Dist.MI', 'Dist.SC', 'Dist.SG', 'Dist.YK', 'Dist.YG', 'Dist.RY',\n",
       "       'Dist.OC', 'Closest', 'Closest.CST', 'Closest.CAS', 'Closest.CPR',\n",
       "       'Closest.CMO', 'Closest.CDV', 'Closest.CEG', 'Closest.CPI',\n",
       "       'Closest.CDS', 'Closest.DOS', 'Closest.DWH', 'Closest.MCM',\n",
       "       'Closest.MCB', 'Closest.MOF', 'Closest.MOS', 'Closest.MOI',\n",
       "       'Closest.OTD', 'Closest.OTN', 'Closest.SHD', 'Closest.SHH',\n",
       "       'Closest.SHT', 'Closest.MI', 'Closest.SC', 'Closest.SG', 'Closest.YK',\n",
       "       'Closest.YG', 'Closest.RY', 'Closest.OC'],\n",
       "      dtype='object')"
      ]
     },
     "execution_count": 2,
     "metadata": {},
     "output_type": "execute_result"
    }
   ],
   "source": [
    "df_2019 = pd.read_csv('SMTO_2019/SMTO_2019_Complete_Input.csv')\n",
    "df_2019.columns"
   ]
  },
  {
   "cell_type": "code",
   "execution_count": 3,
   "metadata": {},
   "outputs": [
    {
     "data": {
      "text/html": [
       "<div>\n",
       "<style scoped>\n",
       "    .dataframe tbody tr th:only-of-type {\n",
       "        vertical-align: middle;\n",
       "    }\n",
       "\n",
       "    .dataframe tbody tr th {\n",
       "        vertical-align: top;\n",
       "    }\n",
       "\n",
       "    .dataframe thead th {\n",
       "        text-align: right;\n",
       "    }\n",
       "</style>\n",
       "<table border=\"1\" class=\"dataframe\">\n",
       "  <thead>\n",
       "    <tr style=\"text-align: right;\">\n",
       "      <th></th>\n",
       "      <th>Source</th>\n",
       "      <th>Source_Index</th>\n",
       "      <th>School</th>\n",
       "      <th>School_Type</th>\n",
       "      <th>Mode</th>\n",
       "      <th>Home_Zone</th>\n",
       "    </tr>\n",
       "  </thead>\n",
       "  <tbody>\n",
       "    <tr>\n",
       "      <th>0</th>\n",
       "      <td>2015</td>\n",
       "      <td>0</td>\n",
       "      <td>SC</td>\n",
       "      <td>University</td>\n",
       "      <td>Transit</td>\n",
       "      <td>261</td>\n",
       "    </tr>\n",
       "    <tr>\n",
       "      <th>1</th>\n",
       "      <td>2015</td>\n",
       "      <td>1</td>\n",
       "      <td>SG</td>\n",
       "      <td>University</td>\n",
       "      <td>Active</td>\n",
       "      <td>71</td>\n",
       "    </tr>\n",
       "    <tr>\n",
       "      <th>2</th>\n",
       "      <td>2015</td>\n",
       "      <td>2</td>\n",
       "      <td>SG</td>\n",
       "      <td>University</td>\n",
       "      <td>Transit</td>\n",
       "      <td>3714</td>\n",
       "    </tr>\n",
       "    <tr>\n",
       "      <th>3</th>\n",
       "      <td>2015</td>\n",
       "      <td>3</td>\n",
       "      <td>SG</td>\n",
       "      <td>University</td>\n",
       "      <td>Active</td>\n",
       "      <td>74</td>\n",
       "    </tr>\n",
       "    <tr>\n",
       "      <th>4</th>\n",
       "      <td>2015</td>\n",
       "      <td>4</td>\n",
       "      <td>SG</td>\n",
       "      <td>University</td>\n",
       "      <td>Active</td>\n",
       "      <td>71</td>\n",
       "    </tr>\n",
       "    <tr>\n",
       "      <th>...</th>\n",
       "      <td>...</td>\n",
       "      <td>...</td>\n",
       "      <td>...</td>\n",
       "      <td>...</td>\n",
       "      <td>...</td>\n",
       "      <td>...</td>\n",
       "    </tr>\n",
       "    <tr>\n",
       "      <th>30989</th>\n",
       "      <td>2019</td>\n",
       "      <td>16511</td>\n",
       "      <td>YK</td>\n",
       "      <td>University</td>\n",
       "      <td>NaN</td>\n",
       "      <td>2133</td>\n",
       "    </tr>\n",
       "    <tr>\n",
       "      <th>30990</th>\n",
       "      <td>2019</td>\n",
       "      <td>16512</td>\n",
       "      <td>YK</td>\n",
       "      <td>University</td>\n",
       "      <td>Active</td>\n",
       "      <td>398</td>\n",
       "    </tr>\n",
       "    <tr>\n",
       "      <th>30991</th>\n",
       "      <td>2019</td>\n",
       "      <td>16513</td>\n",
       "      <td>YK</td>\n",
       "      <td>University</td>\n",
       "      <td>Transit</td>\n",
       "      <td>2763</td>\n",
       "    </tr>\n",
       "    <tr>\n",
       "      <th>30992</th>\n",
       "      <td>2019</td>\n",
       "      <td>16514</td>\n",
       "      <td>YG</td>\n",
       "      <td>University</td>\n",
       "      <td>Active</td>\n",
       "      <td>214</td>\n",
       "    </tr>\n",
       "    <tr>\n",
       "      <th>30993</th>\n",
       "      <td>2019</td>\n",
       "      <td>16515</td>\n",
       "      <td>YK</td>\n",
       "      <td>University</td>\n",
       "      <td>Transit</td>\n",
       "      <td>2613</td>\n",
       "    </tr>\n",
       "  </tbody>\n",
       "</table>\n",
       "<p>30994 rows × 6 columns</p>\n",
       "</div>"
      ],
      "text/plain": [
       "       Source  Source_Index School School_Type     Mode  Home_Zone\n",
       "0        2015             0     SC  University  Transit        261\n",
       "1        2015             1     SG  University   Active         71\n",
       "2        2015             2     SG  University  Transit       3714\n",
       "3        2015             3     SG  University   Active         74\n",
       "4        2015             4     SG  University   Active         71\n",
       "...       ...           ...    ...         ...      ...        ...\n",
       "30989    2019         16511     YK  University      NaN       2133\n",
       "30990    2019         16512     YK  University   Active        398\n",
       "30991    2019         16513     YK  University  Transit       2763\n",
       "30992    2019         16514     YG  University   Active        214\n",
       "30993    2019         16515     YK  University  Transit       2613\n",
       "\n",
       "[30994 rows x 6 columns]"
      ]
     },
     "execution_count": 3,
     "metadata": {},
     "output_type": "execute_result"
    }
   ],
   "source": [
    "df_2015['Source'] = 2015\n",
    "df_2019['Source'] = 2019\n",
    "\n",
    "df_2015['Source_Index'] = df_2015.index\n",
    "df_2019['Source_Index'] = df_2019.index\n",
    "\n",
    "df_2015['School_Type'] = 'University'\n",
    "df_2015 = df_2015.rename(columns = {'HomeZone': 'Home_Zone'})\n",
    "df_2019['Home_Zone'] = df_2019['Home_Zone'].astype(int)\n",
    "\n",
    "temp_2015 = df_2015[['Source', 'Source_Index', 'School', 'School_Type', 'Mode', 'Home_Zone']]\n",
    "temp_2019 = df_2019[['Source', 'Source_Index', 'School', 'School_Type', 'Mode', 'Home_Zone']]\n",
    "\n",
    "\n",
    "combined_df = pd.concat((temp_2015, temp_2019), ignore_index=True)\n",
    "combined_df"
   ]
  },
  {
   "cell_type": "code",
   "execution_count": 4,
   "metadata": {},
   "outputs": [
    {
     "data": {
      "text/plain": [
       "Index(['Source', 'Source_Index', 'School', 'School_Type', 'Mode', 'Home_Zone',\n",
       "       'PD'],\n",
       "      dtype='object')"
      ]
     },
     "execution_count": 4,
     "metadata": {},
     "output_type": "execute_result"
    }
   ],
   "source": [
    "PD_df = pd.read_csv('Zones.csv')\n",
    "PD_df.set_index(PD_df['Zone#'],inplace = True)\n",
    "\n",
    "combined_df['PD'] = combined_df['Home_Zone'].apply(lambda x: PD_df['PD'][x])\n",
    "combined_df.columns"
   ]
  },
  {
   "cell_type": "code",
   "execution_count": 5,
   "metadata": {},
   "outputs": [
    {
     "data": {
      "text/plain": [
       "Index(['Source', 'Source_Index', 'School', 'School_Type', 'Mode', 'Home_Zone',\n",
       "       'PD', 'Family', 'Cars', 'Income', 'Level', 'Status', 'Age', 'Licence',\n",
       "       'Work'],\n",
       "      dtype='object')"
      ]
     },
     "execution_count": 5,
     "metadata": {},
     "output_type": "execute_result"
    }
   ],
   "source": [
    "\"\"\"\n",
    "Enrol, Dist, Closest\n",
    "\"\"\"\n",
    "df_2015['Source'] = 2015\n",
    "df_2019['Source'] = 2019\n",
    "\n",
    "df_2015['Source_Index'] = df_2015.index\n",
    "df_2019['Source_Index'] = df_2019.index\n",
    "\n",
    "df_2015['Family'] = df_2015['Family'].astype(bool)\n",
    "df_2015['Licence'] = df_2015['Licence'].astype(bool)\n",
    "\n",
    "temp_2019 = df_2019[['Family', 'Cars', 'Income', 'Level', 'Status', 'Age', 'Licence', 'Work']]\n",
    "temp_2015 = df_2015[['Family', 'Cars', 'Income', 'Level', 'Status', 'Age', 'Licence', 'Work']]\n",
    "\n",
    "temp_combined_df = pd.concat((temp_2015, temp_2019), ignore_index=True)\n",
    "combined_df = pd.concat((combined_df, temp_combined_df), axis=1)\n",
    "combined_df.columns"
   ]
  },
  {
   "cell_type": "code",
   "execution_count": 6,
   "metadata": {},
   "outputs": [],
   "source": [
    "dists_df = pd.read_csv('../../LoS/Walk_Distances.csv')\n",
    "zones = dists_df['Origin'].unique().tolist()\n",
    "dists = dists_df['Data'].tolist()\n",
    "\n",
    "def get_distance(o, d):\n",
    "    if o in zones and d in zones:\n",
    "        i = zones.index(o)\n",
    "        j = zones.index(d)\n",
    "        return dists[i*2392 + j] / 1000\n",
    "    else:\n",
    "        return -1   "
   ]
  },
  {
   "cell_type": "code",
   "execution_count": 7,
   "metadata": {},
   "outputs": [
    {
     "data": {
      "text/html": [
       "<div>\n",
       "<style scoped>\n",
       "    .dataframe tbody tr th:only-of-type {\n",
       "        vertical-align: middle;\n",
       "    }\n",
       "\n",
       "    .dataframe tbody tr th {\n",
       "        vertical-align: top;\n",
       "    }\n",
       "\n",
       "    .dataframe thead th {\n",
       "        text-align: right;\n",
       "    }\n",
       "</style>\n",
       "<table border=\"1\" class=\"dataframe\">\n",
       "  <thead>\n",
       "    <tr style=\"text-align: right;\">\n",
       "      <th></th>\n",
       "      <th>Zone</th>\n",
       "      <th>Total</th>\n",
       "    </tr>\n",
       "    <tr>\n",
       "      <th>Code</th>\n",
       "      <th></th>\n",
       "      <th></th>\n",
       "    </tr>\n",
       "  </thead>\n",
       "  <tbody>\n",
       "    <tr>\n",
       "      <th>CST</th>\n",
       "      <td>282</td>\n",
       "      <td>1425.000000</td>\n",
       "    </tr>\n",
       "    <tr>\n",
       "      <th>CAS</th>\n",
       "      <td>526</td>\n",
       "      <td>2332.000000</td>\n",
       "    </tr>\n",
       "    <tr>\n",
       "      <th>CPR</th>\n",
       "      <td>493</td>\n",
       "      <td>11871.000000</td>\n",
       "    </tr>\n",
       "    <tr>\n",
       "      <th>CMO</th>\n",
       "      <td>564</td>\n",
       "      <td>4035.776162</td>\n",
       "    </tr>\n",
       "    <tr>\n",
       "      <th>CDV</th>\n",
       "      <td>419</td>\n",
       "      <td>42.212872</td>\n",
       "    </tr>\n",
       "  </tbody>\n",
       "</table>\n",
       "</div>"
      ],
      "text/plain": [
       "      Zone         Total\n",
       "Code                    \n",
       "CST    282   1425.000000\n",
       "CAS    526   2332.000000\n",
       "CPR    493  11871.000000\n",
       "CMO    564   4035.776162\n",
       "CDV    419     42.212872"
      ]
     },
     "execution_count": 7,
     "metadata": {},
     "output_type": "execute_result"
    }
   ],
   "source": [
    "campus_info = pd.read_csv('School_Info_2019_Pred_Enrol.csv')[['Code', 'Zone', 'Total']].set_index('Code')\n",
    "campus_info.head()"
   ]
  },
  {
   "cell_type": "code",
   "execution_count": 8,
   "metadata": {},
   "outputs": [],
   "source": [
    "schools = combined_df['School'].unique().tolist()\n",
    "for school in schools:\n",
    "    combined_df['Dist.' + school] = combined_df['Home_Zone'].apply(lambda x: get_distance(x, campus_info['Zone'].loc[school]))\n",
    "for school in schools:\n",
    "    combined_df['Enrol.' + school] = campus_info['Total'].loc[school]"
   ]
  },
  {
   "cell_type": "code",
   "execution_count": 15,
   "metadata": {},
   "outputs": [
    {
     "data": {
      "text/plain": [
       "Index(['Source', 'Source_Index', 'School', 'School_Type', 'Mode', 'Home_Zone',\n",
       "       'PD', 'Family', 'Cars', 'Income', 'Level', 'Status', 'Age', 'Licence',\n",
       "       'Work', 'Dist.SC', 'Dist.SG', 'Dist.MI', 'Dist.OC', 'Dist.RY',\n",
       "       'Dist.YK', 'Dist.YG', 'Dist.CPR', 'Dist.CMO', 'Dist.CAS', 'Dist.CST',\n",
       "       'Dist.CDV', 'Dist.CEG', 'Dist.CDS', 'Dist.CPI', 'Dist.DOS', 'Dist.DWH',\n",
       "       'Dist.MCM', 'Dist.MCB', 'Dist.MOF', 'Dist.MOI', 'Dist.MOS', 'Dist.OTN',\n",
       "       'Dist.OTD', 'Dist.SHT', 'Dist.SHD', 'Dist.SHH', 'Enrol.SC', 'Enrol.SG',\n",
       "       'Enrol.MI', 'Enrol.OC', 'Enrol.RY', 'Enrol.YK', 'Enrol.YG', 'Enrol.CPR',\n",
       "       'Enrol.CMO', 'Enrol.CAS', 'Enrol.CST', 'Enrol.CDV', 'Enrol.CEG',\n",
       "       'Enrol.CDS', 'Enrol.CPI', 'Enrol.DOS', 'Enrol.DWH', 'Enrol.MCM',\n",
       "       'Enrol.MCB', 'Enrol.MOF', 'Enrol.MOI', 'Enrol.MOS', 'Enrol.OTN',\n",
       "       'Enrol.OTD', 'Enrol.SHT', 'Enrol.SHD', 'Enrol.SHH'],\n",
       "      dtype='object')"
      ]
     },
     "execution_count": 15,
     "metadata": {},
     "output_type": "execute_result"
    }
   ],
   "source": [
    "combined_df.columns"
   ]
  },
  {
   "cell_type": "code",
   "execution_count": 14,
   "metadata": {},
   "outputs": [],
   "source": [
    "combined_df.to_csv('SMTO_Combined_Complete_Input.csv', index=False)"
   ]
  }
 ],
 "metadata": {
  "kernelspec": {
   "display_name": "Python 3",
   "language": "python",
   "name": "python3"
  },
  "language_info": {
   "codemirror_mode": {
    "name": "ipython",
    "version": 3
   },
   "file_extension": ".py",
   "mimetype": "text/x-python",
   "name": "python",
   "nbconvert_exporter": "python",
   "pygments_lexer": "ipython3",
   "version": "3.7.6"
  }
 },
 "nbformat": 4,
 "nbformat_minor": 2
}
