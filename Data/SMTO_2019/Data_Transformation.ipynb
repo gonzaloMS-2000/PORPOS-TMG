{
 "cells": [
  {
   "cell_type": "code",
   "execution_count": 1,
   "metadata": {
    "scrolled": true
   },
   "outputs": [],
   "source": [
    "import pandas as pd"
   ]
  },
  {
   "cell_type": "code",
   "execution_count": 2,
   "metadata": {},
   "outputs": [
    {
     "data": {
      "text/html": [
       "<div>\n",
       "<style scoped>\n",
       "    .dataframe tbody tr th:only-of-type {\n",
       "        vertical-align: middle;\n",
       "    }\n",
       "\n",
       "    .dataframe tbody tr th {\n",
       "        vertical-align: top;\n",
       "    }\n",
       "\n",
       "    .dataframe thead th {\n",
       "        text-align: right;\n",
       "    }\n",
       "</style>\n",
       "<table border=\"1\" class=\"dataframe\">\n",
       "  <thead>\n",
       "    <tr style=\"text-align: right;\">\n",
       "      <th></th>\n",
       "      <th>Liv_Arr</th>\n",
       "      <th>Children</th>\n",
       "      <th>Cars</th>\n",
       "      <th>Income</th>\n",
       "      <th>Home_Zone</th>\n",
       "    </tr>\n",
       "  </thead>\n",
       "  <tbody>\n",
       "    <tr>\n",
       "      <th>0</th>\n",
       "      <td>Live with family/parents</td>\n",
       "      <td>0.0</td>\n",
       "      <td>0.0</td>\n",
       "      <td>NaN</td>\n",
       "      <td>3851.0</td>\n",
       "    </tr>\n",
       "    <tr>\n",
       "      <th>1</th>\n",
       "      <td>Live with family/parents</td>\n",
       "      <td>0.0</td>\n",
       "      <td>1.0</td>\n",
       "      <td>NaN</td>\n",
       "      <td>181.0</td>\n",
       "    </tr>\n",
       "    <tr>\n",
       "      <th>2</th>\n",
       "      <td>Live with family/parents</td>\n",
       "      <td>0.0</td>\n",
       "      <td>2.0</td>\n",
       "      <td>I don't know</td>\n",
       "      <td>1039.0</td>\n",
       "    </tr>\n",
       "    <tr>\n",
       "      <th>3</th>\n",
       "      <td>NaN</td>\n",
       "      <td>NaN</td>\n",
       "      <td>NaN</td>\n",
       "      <td>NaN</td>\n",
       "      <td>191.0</td>\n",
       "    </tr>\n",
       "    <tr>\n",
       "      <th>4</th>\n",
       "      <td>Live with family/parents</td>\n",
       "      <td>1.0</td>\n",
       "      <td>1.0</td>\n",
       "      <td>NaN</td>\n",
       "      <td>600.0</td>\n",
       "    </tr>\n",
       "  </tbody>\n",
       "</table>\n",
       "</div>"
      ],
      "text/plain": [
       "                    Liv_Arr  Children  Cars        Income  Home_Zone\n",
       "0  Live with family/parents       0.0   0.0           NaN     3851.0\n",
       "1  Live with family/parents       0.0   1.0           NaN      181.0\n",
       "2  Live with family/parents       0.0   2.0  I don't know     1039.0\n",
       "3                       NaN       NaN   NaN           NaN      191.0\n",
       "4  Live with family/parents       1.0   1.0           NaN      600.0"
      ]
     },
     "execution_count": 2,
     "metadata": {},
     "output_type": "execute_result"
    }
   ],
   "source": [
    "hh_cols = ['hhlivingsituation', 'hhnumdependentchildren', 'hhvehiclenumber', 'familyincomelevel', 'HmTTS2006']\n",
    "hh_rename = ['Liv_Arr', 'Children', 'Cars', 'Income', 'Home_Zone']\n",
    "df = pd.read_csv('Households.csv', low_memory=False)[hh_cols]\n",
    "df = df.rename(columns = dict(zip(hh_cols, hh_rename)))\n",
    "df.head()"
   ]
  },
  {
   "cell_type": "code",
   "execution_count": 3,
   "metadata": {},
   "outputs": [
    {
     "data": {
      "text/html": [
       "<div>\n",
       "<style scoped>\n",
       "    .dataframe tbody tr th:only-of-type {\n",
       "        vertical-align: middle;\n",
       "    }\n",
       "\n",
       "    .dataframe tbody tr th {\n",
       "        vertical-align: top;\n",
       "    }\n",
       "\n",
       "    .dataframe thead th {\n",
       "        text-align: right;\n",
       "    }\n",
       "</style>\n",
       "<table border=\"1\" class=\"dataframe\">\n",
       "  <thead>\n",
       "    <tr style=\"text-align: right;\">\n",
       "      <th></th>\n",
       "      <th>Liv_Arr</th>\n",
       "      <th>Children</th>\n",
       "      <th>Cars</th>\n",
       "      <th>Income</th>\n",
       "      <th>Home_Zone</th>\n",
       "      <th>School</th>\n",
       "      <th>Uni_Level</th>\n",
       "      <th>Uni_Status</th>\n",
       "      <th>Col_Status</th>\n",
       "      <th>Campus</th>\n",
       "      <th>Work</th>\n",
       "      <th>Licence</th>\n",
       "      <th>Mode</th>\n",
       "      <th>Age</th>\n",
       "    </tr>\n",
       "  </thead>\n",
       "  <tbody>\n",
       "    <tr>\n",
       "      <th>0</th>\n",
       "      <td>Live with family/parents</td>\n",
       "      <td>0.0</td>\n",
       "      <td>0.0</td>\n",
       "      <td>NaN</td>\n",
       "      <td>3851.0</td>\n",
       "      <td>Centennial College</td>\n",
       "      <td>NaN</td>\n",
       "      <td>NaN</td>\n",
       "      <td>Full-Time</td>\n",
       "      <td>Progress Campus</td>\n",
       "      <td>I don't work</td>\n",
       "      <td>No</td>\n",
       "      <td>GO Bus</td>\n",
       "      <td>26.0</td>\n",
       "    </tr>\n",
       "    <tr>\n",
       "      <th>1</th>\n",
       "      <td>Live with family/parents</td>\n",
       "      <td>0.0</td>\n",
       "      <td>1.0</td>\n",
       "      <td>NaN</td>\n",
       "      <td>181.0</td>\n",
       "      <td>Centennial College</td>\n",
       "      <td>NaN</td>\n",
       "      <td>NaN</td>\n",
       "      <td>Part-Time</td>\n",
       "      <td>Morningside Campus</td>\n",
       "      <td>I don't work</td>\n",
       "      <td>No</td>\n",
       "      <td>Transit Bus</td>\n",
       "      <td>25.0</td>\n",
       "    </tr>\n",
       "    <tr>\n",
       "      <th>2</th>\n",
       "      <td>Live with family/parents</td>\n",
       "      <td>0.0</td>\n",
       "      <td>2.0</td>\n",
       "      <td>I don't know</td>\n",
       "      <td>1039.0</td>\n",
       "      <td>Centennial College</td>\n",
       "      <td>NaN</td>\n",
       "      <td>NaN</td>\n",
       "      <td>Full-Time</td>\n",
       "      <td>Progress Campus</td>\n",
       "      <td>I don't work</td>\n",
       "      <td>No</td>\n",
       "      <td>GO Bus</td>\n",
       "      <td>19.0</td>\n",
       "    </tr>\n",
       "    <tr>\n",
       "      <th>3</th>\n",
       "      <td>NaN</td>\n",
       "      <td>NaN</td>\n",
       "      <td>NaN</td>\n",
       "      <td>NaN</td>\n",
       "      <td>191.0</td>\n",
       "      <td>Centennial College</td>\n",
       "      <td>NaN</td>\n",
       "      <td>NaN</td>\n",
       "      <td>Full-Time</td>\n",
       "      <td>Progress Campus</td>\n",
       "      <td>I don't work</td>\n",
       "      <td>No</td>\n",
       "      <td>NaN</td>\n",
       "      <td>25.0</td>\n",
       "    </tr>\n",
       "    <tr>\n",
       "      <th>4</th>\n",
       "      <td>Live with family/parents</td>\n",
       "      <td>1.0</td>\n",
       "      <td>1.0</td>\n",
       "      <td>NaN</td>\n",
       "      <td>600.0</td>\n",
       "      <td>Centennial College</td>\n",
       "      <td>NaN</td>\n",
       "      <td>NaN</td>\n",
       "      <td>Full-Time</td>\n",
       "      <td>Progress Campus</td>\n",
       "      <td>I don't work</td>\n",
       "      <td>No</td>\n",
       "      <td>NaN</td>\n",
       "      <td>97.0</td>\n",
       "    </tr>\n",
       "  </tbody>\n",
       "</table>\n",
       "</div>"
      ],
      "text/plain": [
       "                    Liv_Arr  Children  Cars        Income  Home_Zone  \\\n",
       "0  Live with family/parents       0.0   0.0           NaN     3851.0   \n",
       "1  Live with family/parents       0.0   1.0           NaN      181.0   \n",
       "2  Live with family/parents       0.0   2.0  I don't know     1039.0   \n",
       "3                       NaN       NaN   NaN           NaN      191.0   \n",
       "4  Live with family/parents       1.0   1.0           NaN      600.0   \n",
       "\n",
       "               School Uni_Level Uni_Status  Col_Status              Campus  \\\n",
       "0  Centennial College       NaN        NaN   Full-Time     Progress Campus   \n",
       "1  Centennial College       NaN        NaN  Part-Time   Morningside Campus   \n",
       "2  Centennial College       NaN        NaN   Full-Time     Progress Campus   \n",
       "3  Centennial College       NaN        NaN   Full-Time     Progress Campus   \n",
       "4  Centennial College       NaN        NaN   Full-Time     Progress Campus   \n",
       "\n",
       "           Work Licence         Mode   Age  \n",
       "0  I don't work      No       GO Bus  26.0  \n",
       "1  I don't work      No  Transit Bus  25.0  \n",
       "2  I don't work      No       GO Bus  19.0  \n",
       "3  I don't work      No          NaN  25.0  \n",
       "4  I don't work      No          NaN  97.0  "
      ]
     },
     "execution_count": 3,
     "metadata": {},
     "output_type": "execute_result"
    }
   ],
   "source": [
    "ps_cols = ['psinstitution', 'personstatusgrad ', 'personstatustime', 'pscollegeaffiliation', 'pscampusmain',\n",
    "          'psworknumhoursperweek', 'psdrivinglicenseowner', 'psmainmodefalltypical', 'psage']\n",
    "ps_rename = ['School', 'Uni_Level', 'Uni_Status', 'Col_Status', 'Campus', 'Work', 'Licence', 'Mode', 'Age']\n",
    "df = df.join(pd.read_csv('Respondents.csv', low_memory=False)[ps_cols])\n",
    "df = df.rename(columns = dict(zip(ps_cols, ps_rename)))\n",
    "df.head()"
   ]
  },
  {
   "cell_type": "code",
   "execution_count": 4,
   "metadata": {},
   "outputs": [],
   "source": [
    "df['Campus'] = df.apply(lambda x: x.School if x.School in ('Ryerson University', 'OCAD University') else x.Campus, axis=1)\n",
    "df['School_Type'] = df['School'].apply(lambda x: 'College' if 'College' in x else 'University')\n",
    "df['Col_Status'].replace({'Full-Time': 'FT', 'Part-Time ':'PT', 'Continuing Education': 'Other'}, inplace=True)\n",
    "df['Work'].replace({\"I don't work\": 'NW', 'I work 11-20 hours per week': 'PT', 'I work < 11 hours per week': 'PT', 'I work 21-30 hours per week': 'PT', 'I work 31-40 hours per week': 'FT', 'I work > 40 hours per week': 'FT'}, inplace=True)\n",
    "df['Licence'] = df['Licence'].apply(lambda x: True if x==\"Yes\" else (False if x==\"No\" else None))\n",
    "df['Family'] = df['Liv_Arr'].apply(lambda x: (x == 'Live with family/parents') if isinstance(x, str) else None)"
   ]
  },
  {
   "cell_type": "code",
   "execution_count": 5,
   "metadata": {},
   "outputs": [],
   "source": [
    "def row_to_level(x):\n",
    "    return x.Uni_Level if isinstance(x.Uni_Level, str) else (\"College\" if x.School_Type == 'College' else None)\n",
    "def row_to_status(x):\n",
    "    return x.Uni_Status if isinstance(x.Uni_Status, str) else (x.Col_Status if isinstance(x.Col_Status, str) else None)\n",
    "\n",
    "df['Level'] = df.apply(row_to_level, axis=1)\n",
    "df['Status'] = df.apply(row_to_status, axis=1)\n",
    "df.drop(columns=['Uni_Level', 'Uni_Status', 'Col_Status'], inplace=True)"
   ]
  },
  {
   "cell_type": "code",
   "execution_count": 6,
   "metadata": {},
   "outputs": [],
   "source": [
    "active = ['Walk', 'Bicycle', 'Bikeshare']\n",
    "auto = ['Drive alone', 'Auto passenger (driver is a household member)', 'Drive with passenger(s) (household members only)',\n",
    "        'Accessibility adapted vehicle as driver', 'Drive with passenger(s) (including non-household members)', 'Accessibility adapted vehicle as passenger',\n",
    "       'Ride-hailing alone (UberX, Lyft etc.)', 'Auto passenger (driver is a non-household member)', 'Taxi', 'Ride-hailing with other passengers (Uberpool, Lyftpool etc.)']\n",
    "transit = ['Transit Bus', 'Subway/RT', 'GO Train', 'GO Bus', 'Paratransit service (e.g., bus transport for disabled persons)', 'Streetcar']\n",
    "def mode_to_aggr(mode):\n",
    "    if mode in active:\n",
    "        return 'Active'\n",
    "    elif mode in auto:\n",
    "        return 'Auto'\n",
    "    elif mode in transit:\n",
    "        return 'Transit'\n",
    "    elif mode == 'I do not travel to the university (distance learners only)':\n",
    "        return 'Do not travel'\n",
    "    elif isinstance(mode, str):\n",
    "        return 'Other'\n",
    "    else:\n",
    "        return None\n",
    "    \n",
    "df['Mode'] = df['Mode'].apply(mode_to_aggr)"
   ]
  },
  {
   "cell_type": "code",
   "execution_count": 7,
   "metadata": {},
   "outputs": [],
   "source": [
    "df = df[(df['Status'] == 'FT') | (df['Status'] == 'PT')]\n",
    "df = df[df['Campus'].notnull()]\n",
    "df = df[df['Mode'] != 'Do not travel']\n",
    "df = df[df['Home_Zone'].notnull()]"
   ]
  },
  {
   "cell_type": "code",
   "execution_count": 8,
   "metadata": {},
   "outputs": [],
   "source": [
    "income_low = ['Less than $ 14,999', '$ 15,000 - 29,999', '$ 30,000 - 39,999', '$ 40,000 - 49,999',\n",
    "              '$ 50,000 - 59,999', '$ 60,000 - 69,999', '$ 70,000 - 79,999', '$ 80,000 - 89,999']\n",
    "income_high = ['$ 90,000 - 99,999', '$ 100,000 - 124,999', '$ 125,000 - 149,999', '$ 150,000 - 199,999', '$ 200,000 +']\n",
    "\n",
    "def income_to_range(inc):\n",
    "    if inc in income_low:\n",
    "        return 'Low'\n",
    "    elif inc in income_high:\n",
    "        return 'High'\n",
    "    else:\n",
    "        return 'Unknown'\n",
    "df['Income'] = df['Income'].apply(income_to_range)"
   ]
  },
  {
   "cell_type": "code",
   "execution_count": 9,
   "metadata": {},
   "outputs": [],
   "source": [
    "# Load enrollment data\n",
    "campus_info = pd.read_csv('Campus_Info.csv', index_col=0)\n",
    "df['School'] = df['Campus'].apply(lambda x: campus_info['Code'].loc[x] if isinstance(x, str) else -1)\n",
    "df['Campus_Zone'] = df['Campus'].apply(lambda x: campus_info['Zone'].loc[x] if isinstance(x, str) else -1)\n",
    "campus_info = campus_info.set_index('Code')\n",
    "zones, codes = list(campus_info['Zone']), list(campus_info.index)"
   ]
  },
  {
   "cell_type": "code",
   "execution_count": 10,
   "metadata": {},
   "outputs": [],
   "source": [
    "def get_enrol(code):\n",
    "    return campus_info['Total'].loc[code]\n",
    "\n",
    "for code in codes:\n",
    "    df['Enrol.' + code] = get_enrol(code)"
   ]
  },
  {
   "cell_type": "code",
   "execution_count": 11,
   "metadata": {},
   "outputs": [],
   "source": [
    "df_path = pd.read_csv('../../../LoS/Walk_Distances.csv')\n",
    "origins = list(set(list(df_path['Origin'])))\n",
    "dists = list(df_path['Data'])"
   ]
  },
  {
   "cell_type": "code",
   "execution_count": 12,
   "metadata": {},
   "outputs": [],
   "source": [
    "def get_distance(o, d):\n",
    "    if o in origins and d in origins:\n",
    "        i = origins.index(o)\n",
    "        j = origins.index(d)\n",
    "        return dists[i*2392 + j] / 1000\n",
    "    else:\n",
    "        return -1    "
   ]
  },
  {
   "cell_type": "code",
   "execution_count": 13,
   "metadata": {},
   "outputs": [],
   "source": [
    "for i in range(len(codes)):\n",
    "    df['Dist.' + codes[i]] = df['Home_Zone'].apply(lambda x: get_distance(x, zones[i]))\n",
    "df = df[df['Dist.CST'] != -1]"
   ]
  },
  {
   "cell_type": "code",
   "execution_count": 14,
   "metadata": {},
   "outputs": [
    {
     "data": {
      "text/plain": [
       "Closest.CST     334\n",
       "Closest.CAS     698\n",
       "Closest.CPR    1068\n",
       "Closest.CMO     292\n",
       "Closest.CDV     458\n",
       "Closest.CEG     652\n",
       "Closest.CPI     449\n",
       "Closest.CDS     296\n",
       "Closest.DOS     866\n",
       "Closest.DWH     375\n",
       "Closest.MCM     199\n",
       "Closest.MCB     405\n",
       "Closest.MOF     997\n",
       "Closest.MOS     343\n",
       "Closest.MOI     199\n",
       "Closest.OTD      89\n",
       "Closest.OTN     866\n",
       "Closest.SHD    1054\n",
       "Closest.SHH     474\n",
       "Closest.SHT     328\n",
       "Closest.MI     1347\n",
       "Closest.SC      387\n",
       "Closest.SG     1283\n",
       "Closest.YK     1879\n",
       "Closest.YG      401\n",
       "Closest.RY      831\n",
       "Closest.OC     1011\n",
       "dtype: int64"
      ]
     },
     "execution_count": 14,
     "metadata": {},
     "output_type": "execute_result"
    }
   ],
   "source": [
    "df['Closest'] = df[['Dist.' + code for code in codes]].idxmin(axis=1).apply(lambda x: x.split('.')[1])\n",
    "for code in codes:\n",
    "    df['Closest.' + code] = (df['Closest'] == code).astype(int)\n",
    "df['Closest.OTN'] = df['Closest.DOS'] #DOS and OTN same zone\n",
    "df['Closest.MOI'] = df['Closest.MCM'] #MCM and MOI same zone\n",
    "\n",
    "df[['Closest.' + code for code in codes]].sum()"
   ]
  },
  {
   "cell_type": "code",
   "execution_count": 15,
   "metadata": {},
   "outputs": [
    {
     "data": {
      "text/plain": [
       "Index(['Liv_Arr', 'Children', 'Cars', 'Income', 'Home_Zone', 'School',\n",
       "       'Campus', 'Work', 'Licence', 'Mode', 'Age', 'School_Type', 'Family',\n",
       "       'Level', 'Status', 'Campus_Zone', 'Enrol.CST', 'Enrol.CAS', 'Enrol.CPR',\n",
       "       'Enrol.CMO', 'Enrol.CDV', 'Enrol.CEG', 'Enrol.CPI', 'Enrol.CDS',\n",
       "       'Enrol.DOS', 'Enrol.DWH', 'Enrol.MCM', 'Enrol.MCB', 'Enrol.MOF',\n",
       "       'Enrol.MOS', 'Enrol.MOI', 'Enrol.OTD', 'Enrol.OTN', 'Enrol.SHD',\n",
       "       'Enrol.SHH', 'Enrol.SHT', 'Enrol.MI', 'Enrol.SC', 'Enrol.SG',\n",
       "       'Enrol.YK', 'Enrol.YG', 'Enrol.RY', 'Enrol.OC', 'Dist.CST', 'Dist.CAS',\n",
       "       'Dist.CPR', 'Dist.CMO', 'Dist.CDV', 'Dist.CEG', 'Dist.CPI', 'Dist.CDS',\n",
       "       'Dist.DOS', 'Dist.DWH', 'Dist.MCM', 'Dist.MCB', 'Dist.MOF', 'Dist.MOS',\n",
       "       'Dist.MOI', 'Dist.OTD', 'Dist.OTN', 'Dist.SHD', 'Dist.SHH', 'Dist.SHT',\n",
       "       'Dist.MI', 'Dist.SC', 'Dist.SG', 'Dist.YK', 'Dist.YG', 'Dist.RY',\n",
       "       'Dist.OC', 'Closest', 'Closest.CST', 'Closest.CAS', 'Closest.CPR',\n",
       "       'Closest.CMO', 'Closest.CDV', 'Closest.CEG', 'Closest.CPI',\n",
       "       'Closest.CDS', 'Closest.DOS', 'Closest.DWH', 'Closest.MCM',\n",
       "       'Closest.MCB', 'Closest.MOF', 'Closest.MOS', 'Closest.MOI',\n",
       "       'Closest.OTD', 'Closest.OTN', 'Closest.SHD', 'Closest.SHH',\n",
       "       'Closest.SHT', 'Closest.MI', 'Closest.SC', 'Closest.SG', 'Closest.YK',\n",
       "       'Closest.YG', 'Closest.RY', 'Closest.OC'],\n",
       "      dtype='object')"
      ]
     },
     "execution_count": 15,
     "metadata": {},
     "output_type": "execute_result"
    }
   ],
   "source": [
    "df.columns"
   ]
  },
  {
   "cell_type": "code",
   "execution_count": 16,
   "metadata": {},
   "outputs": [],
   "source": [
    "df.to_csv('Formatted.csv', index = False)"
   ]
  }
 ],
 "metadata": {
  "kernelspec": {
   "display_name": "Python 3",
   "language": "python",
   "name": "python3"
  },
  "language_info": {
   "codemirror_mode": {
    "name": "ipython",
    "version": 3
   },
   "file_extension": ".py",
   "mimetype": "text/x-python",
   "name": "python",
   "nbconvert_exporter": "python",
   "pygments_lexer": "ipython3",
   "version": "3.7.6"
  }
 },
 "nbformat": 4,
 "nbformat_minor": 2
}
