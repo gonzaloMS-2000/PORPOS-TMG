{
 "cells": [
  {
   "cell_type": "code",
   "execution_count": 2,
   "metadata": {
    "scrolled": true
   },
   "outputs": [],
   "source": [
    "import pandas as pd\n",
    "import math\n",
    "import csv"
   ]
  },
  {
   "cell_type": "code",
   "execution_count": 3,
   "metadata": {},
   "outputs": [
    {
     "data": {
      "text/html": [
       "<div>\n",
       "<style scoped>\n",
       "    .dataframe tbody tr th:only-of-type {\n",
       "        vertical-align: middle;\n",
       "    }\n",
       "\n",
       "    .dataframe tbody tr th {\n",
       "        vertical-align: top;\n",
       "    }\n",
       "\n",
       "    .dataframe thead th {\n",
       "        text-align: right;\n",
       "    }\n",
       "</style>\n",
       "<table border=\"1\" class=\"dataframe\">\n",
       "  <thead>\n",
       "    <tr style=\"text-align: right;\">\n",
       "      <th></th>\n",
       "      <th>Liv_Arr</th>\n",
       "      <th>Children</th>\n",
       "      <th>Cars</th>\n",
       "      <th>Income</th>\n",
       "      <th>Home_Zone</th>\n",
       "    </tr>\n",
       "  </thead>\n",
       "  <tbody>\n",
       "    <tr>\n",
       "      <th>0</th>\n",
       "      <td>Live with family/parents</td>\n",
       "      <td>0.0</td>\n",
       "      <td>0.0</td>\n",
       "      <td>NaN</td>\n",
       "      <td>3851.0</td>\n",
       "    </tr>\n",
       "    <tr>\n",
       "      <th>1</th>\n",
       "      <td>Live with family/parents</td>\n",
       "      <td>0.0</td>\n",
       "      <td>1.0</td>\n",
       "      <td>NaN</td>\n",
       "      <td>181.0</td>\n",
       "    </tr>\n",
       "    <tr>\n",
       "      <th>2</th>\n",
       "      <td>Live with family/parents</td>\n",
       "      <td>0.0</td>\n",
       "      <td>2.0</td>\n",
       "      <td>I don't know</td>\n",
       "      <td>1039.0</td>\n",
       "    </tr>\n",
       "    <tr>\n",
       "      <th>3</th>\n",
       "      <td>NaN</td>\n",
       "      <td>NaN</td>\n",
       "      <td>NaN</td>\n",
       "      <td>NaN</td>\n",
       "      <td>191.0</td>\n",
       "    </tr>\n",
       "    <tr>\n",
       "      <th>4</th>\n",
       "      <td>Live with family/parents</td>\n",
       "      <td>1.0</td>\n",
       "      <td>1.0</td>\n",
       "      <td>NaN</td>\n",
       "      <td>600.0</td>\n",
       "    </tr>\n",
       "  </tbody>\n",
       "</table>\n",
       "</div>"
      ],
      "text/plain": [
       "                    Liv_Arr  Children  Cars        Income  Home_Zone\n",
       "0  Live with family/parents       0.0   0.0           NaN     3851.0\n",
       "1  Live with family/parents       0.0   1.0           NaN      181.0\n",
       "2  Live with family/parents       0.0   2.0  I don't know     1039.0\n",
       "3                       NaN       NaN   NaN           NaN      191.0\n",
       "4  Live with family/parents       1.0   1.0           NaN      600.0"
      ]
     },
     "execution_count": 3,
     "metadata": {},
     "output_type": "execute_result"
    }
   ],
   "source": [
    "hh_cols = ['hhlivingsituation', 'hhnumdependentchildren', 'hhvehiclenumber', 'familyincomelevel', 'HmTTS2006']\n",
    "hh_rename = ['Liv_Arr', 'Children', 'Cars', 'Income', 'Home_Zone']\n",
    "df = pd.read_csv('SMTO_2019/SMTO_2019_Households.csv', low_memory=False)[hh_cols]\n",
    "df = df.rename(columns = dict(zip(hh_cols, hh_rename)))\n",
    "df.head()"
   ]
  },
  {
   "cell_type": "code",
   "execution_count": 4,
   "metadata": {},
   "outputs": [
    {
     "data": {
      "text/html": [
       "<div>\n",
       "<style scoped>\n",
       "    .dataframe tbody tr th:only-of-type {\n",
       "        vertical-align: middle;\n",
       "    }\n",
       "\n",
       "    .dataframe tbody tr th {\n",
       "        vertical-align: top;\n",
       "    }\n",
       "\n",
       "    .dataframe thead th {\n",
       "        text-align: right;\n",
       "    }\n",
       "</style>\n",
       "<table border=\"1\" class=\"dataframe\">\n",
       "  <thead>\n",
       "    <tr style=\"text-align: right;\">\n",
       "      <th></th>\n",
       "      <th>Liv_Arr</th>\n",
       "      <th>Children</th>\n",
       "      <th>Cars</th>\n",
       "      <th>Income</th>\n",
       "      <th>Home_Zone</th>\n",
       "      <th>School</th>\n",
       "      <th>Uni_Level</th>\n",
       "      <th>Uni_Status</th>\n",
       "      <th>Col_Status</th>\n",
       "      <th>Campus</th>\n",
       "      <th>Work</th>\n",
       "      <th>Licence</th>\n",
       "      <th>Mode</th>\n",
       "      <th>Age</th>\n",
       "    </tr>\n",
       "  </thead>\n",
       "  <tbody>\n",
       "    <tr>\n",
       "      <th>0</th>\n",
       "      <td>Live with family/parents</td>\n",
       "      <td>0.0</td>\n",
       "      <td>0.0</td>\n",
       "      <td>NaN</td>\n",
       "      <td>3851.0</td>\n",
       "      <td>Centennial College</td>\n",
       "      <td>NaN</td>\n",
       "      <td>NaN</td>\n",
       "      <td>Full-Time</td>\n",
       "      <td>Progress Campus</td>\n",
       "      <td>I don't work</td>\n",
       "      <td>No</td>\n",
       "      <td>GO Bus</td>\n",
       "      <td>26.0</td>\n",
       "    </tr>\n",
       "    <tr>\n",
       "      <th>1</th>\n",
       "      <td>Live with family/parents</td>\n",
       "      <td>0.0</td>\n",
       "      <td>1.0</td>\n",
       "      <td>NaN</td>\n",
       "      <td>181.0</td>\n",
       "      <td>Centennial College</td>\n",
       "      <td>NaN</td>\n",
       "      <td>NaN</td>\n",
       "      <td>Part-Time</td>\n",
       "      <td>Morningside Campus</td>\n",
       "      <td>I don't work</td>\n",
       "      <td>No</td>\n",
       "      <td>Transit Bus</td>\n",
       "      <td>25.0</td>\n",
       "    </tr>\n",
       "    <tr>\n",
       "      <th>2</th>\n",
       "      <td>Live with family/parents</td>\n",
       "      <td>0.0</td>\n",
       "      <td>2.0</td>\n",
       "      <td>I don't know</td>\n",
       "      <td>1039.0</td>\n",
       "      <td>Centennial College</td>\n",
       "      <td>NaN</td>\n",
       "      <td>NaN</td>\n",
       "      <td>Full-Time</td>\n",
       "      <td>Progress Campus</td>\n",
       "      <td>I don't work</td>\n",
       "      <td>No</td>\n",
       "      <td>GO Bus</td>\n",
       "      <td>19.0</td>\n",
       "    </tr>\n",
       "    <tr>\n",
       "      <th>3</th>\n",
       "      <td>NaN</td>\n",
       "      <td>NaN</td>\n",
       "      <td>NaN</td>\n",
       "      <td>NaN</td>\n",
       "      <td>191.0</td>\n",
       "      <td>Centennial College</td>\n",
       "      <td>NaN</td>\n",
       "      <td>NaN</td>\n",
       "      <td>Full-Time</td>\n",
       "      <td>Progress Campus</td>\n",
       "      <td>I don't work</td>\n",
       "      <td>No</td>\n",
       "      <td>NaN</td>\n",
       "      <td>25.0</td>\n",
       "    </tr>\n",
       "    <tr>\n",
       "      <th>4</th>\n",
       "      <td>Live with family/parents</td>\n",
       "      <td>1.0</td>\n",
       "      <td>1.0</td>\n",
       "      <td>NaN</td>\n",
       "      <td>600.0</td>\n",
       "      <td>Centennial College</td>\n",
       "      <td>NaN</td>\n",
       "      <td>NaN</td>\n",
       "      <td>Full-Time</td>\n",
       "      <td>Progress Campus</td>\n",
       "      <td>I don't work</td>\n",
       "      <td>No</td>\n",
       "      <td>NaN</td>\n",
       "      <td>97.0</td>\n",
       "    </tr>\n",
       "  </tbody>\n",
       "</table>\n",
       "</div>"
      ],
      "text/plain": [
       "                    Liv_Arr  Children  Cars        Income  Home_Zone  \\\n",
       "0  Live with family/parents       0.0   0.0           NaN     3851.0   \n",
       "1  Live with family/parents       0.0   1.0           NaN      181.0   \n",
       "2  Live with family/parents       0.0   2.0  I don't know     1039.0   \n",
       "3                       NaN       NaN   NaN           NaN      191.0   \n",
       "4  Live with family/parents       1.0   1.0           NaN      600.0   \n",
       "\n",
       "               School Uni_Level Uni_Status  Col_Status              Campus  \\\n",
       "0  Centennial College       NaN        NaN   Full-Time     Progress Campus   \n",
       "1  Centennial College       NaN        NaN  Part-Time   Morningside Campus   \n",
       "2  Centennial College       NaN        NaN   Full-Time     Progress Campus   \n",
       "3  Centennial College       NaN        NaN   Full-Time     Progress Campus   \n",
       "4  Centennial College       NaN        NaN   Full-Time     Progress Campus   \n",
       "\n",
       "           Work Licence         Mode   Age  \n",
       "0  I don't work      No       GO Bus  26.0  \n",
       "1  I don't work      No  Transit Bus  25.0  \n",
       "2  I don't work      No       GO Bus  19.0  \n",
       "3  I don't work      No          NaN  25.0  \n",
       "4  I don't work      No          NaN  97.0  "
      ]
     },
     "execution_count": 4,
     "metadata": {},
     "output_type": "execute_result"
    }
   ],
   "source": [
    "ps_cols = ['psinstitution', 'personstatusgrad ', 'personstatustime', 'pscollegeaffiliation', 'pscampusmain',\n",
    "          'psworknumhoursperweek', 'psdrivinglicenseowner', 'psmainmodefalltypical', 'psage']\n",
    "ps_rename = ['School', 'Uni_Level', 'Uni_Status', 'Col_Status', 'Campus', 'Work', 'Licence', 'Mode', 'Age']\n",
    "df = df.join(pd.read_csv('SMTO_2019/SMTO_2019_Respondents.csv', low_memory=False)[ps_cols])\n",
    "df = df.rename(columns = dict(zip(ps_cols, ps_rename)))\n",
    "df.head()"
   ]
  },
  {
   "cell_type": "code",
   "execution_count": 5,
   "metadata": {},
   "outputs": [],
   "source": [
    "df['Campus'] = df.apply(lambda x: x.School if x.School in ('Ryerson University', 'OCAD University') else x.Campus, axis=1)\n",
    "df['School_Type'] = df['School'].apply(lambda x: 'College' if 'College' in x else 'University')\n",
    "df['Col_Status'].replace({'Full-Time': 'FT', 'Part-Time ':'PT', 'Continuing Education': 'Other'}, inplace=True)\n",
    "df['Work'].replace({\"I don't work\": 'NW', 'I work 11-20 hours per week': 'PT', 'I work < 11 hours per week': 'PT', 'I work 21-30 hours per week': 'PT', 'I work 31-40 hours per week': 'FT', 'I work > 40 hours per week': 'FT'}, inplace=True)\n",
    "df['Licence'] = df['Licence'].apply(lambda x: True if x==\"Yes\" else (False if x==\"No\" else None))\n",
    "df['Family'] = df['Liv_Arr'].apply(lambda x: (x == 'Live with family/parents') if isinstance(x, str) else None)\n"
   ]
  },
  {
   "cell_type": "code",
   "execution_count": 6,
   "metadata": {},
   "outputs": [],
   "source": [
    "def row_to_level(x):\n",
    "    return x.Uni_Level if isinstance(x.Uni_Level, str) else (\"College\" if x.School_Type == 'College' else None)\n",
    "def row_to_status(x):\n",
    "    return x.Uni_Status if isinstance(x.Uni_Status, str) else (x.Col_Status if isinstance(x.Col_Status, str) else None)\n",
    "\n",
    "df['Level'] = df.apply(row_to_level, axis=1)\n",
    "df['Status'] = df.apply(row_to_status, axis=1)\n",
    "df.drop(columns=['Uni_Level', 'Uni_Status', 'Col_Status'], inplace=True)"
   ]
  },
  {
   "cell_type": "code",
   "execution_count": 7,
   "metadata": {},
   "outputs": [],
   "source": [
    "active = ['Walk', 'Bicycle', 'Bikeshare']\n",
    "auto = ['Drive alone', 'Auto passenger (driver is a household member)', 'Drive with passenger(s) (household members only)',\n",
    "        'Accessibility adapted vehicle as driver', 'Drive with passenger(s) (including non-household members)', 'Accessibility adapted vehicle as passenger',\n",
    "       'Ride-hailing alone (UberX, Lyft etc.)', 'Auto passenger (driver is a non-household member)', 'Taxi', 'Ride-hailing with other passengers (Uberpool, Lyftpool etc.)']\n",
    "transit = ['Transit Bus', 'Subway/RT', 'GO Train', 'GO Bus', 'Paratransit service (e.g., bus transport for disabled persons)', 'Streetcar']\n",
    "def mode_to_aggr(mode):\n",
    "    if mode in active:\n",
    "        return 'Active'\n",
    "    elif mode in auto:\n",
    "        return 'Auto'\n",
    "    elif mode in transit:\n",
    "        return 'Transit'\n",
    "    elif mode == 'I do not travel to the university (distance learners only)':\n",
    "        return 'Do not travel'\n",
    "    elif isinstance(mode, str):\n",
    "        return 'Other'\n",
    "    else:\n",
    "        return None\n",
    "    \n",
    "df['Mode'] = df['Mode'].apply(mode_to_aggr)"
   ]
  },
  {
   "cell_type": "code",
   "execution_count": 8,
   "metadata": {},
   "outputs": [],
   "source": [
    "df = df[(df['Status'] == 'FT') | (df['Status'] == 'PT')]\n",
    "df = df[df['Campus'].notnull()]\n",
    "df = df[df['Mode'] != 'Do not travel']\n",
    "df = df[df['Home_Zone'].notnull()]"
   ]
  },
  {
   "cell_type": "markdown",
   "metadata": {},
   "source": [
    "Drop Status=Other, Campus=Unknown?, Do not travel, missing HZ\n",
    "Replace unknowns and np.nans\n",
    "Reformat income"
   ]
  },
  {
   "cell_type": "code",
   "execution_count": 9,
   "metadata": {},
   "outputs": [
    {
     "data": {
      "text/html": [
       "<div>\n",
       "<style scoped>\n",
       "    .dataframe tbody tr th:only-of-type {\n",
       "        vertical-align: middle;\n",
       "    }\n",
       "\n",
       "    .dataframe tbody tr th {\n",
       "        vertical-align: top;\n",
       "    }\n",
       "\n",
       "    .dataframe thead th {\n",
       "        text-align: right;\n",
       "    }\n",
       "</style>\n",
       "<table border=\"1\" class=\"dataframe\">\n",
       "  <thead>\n",
       "    <tr style=\"text-align: right;\">\n",
       "      <th></th>\n",
       "      <th>Code</th>\n",
       "      <th>Zone</th>\n",
       "      <th>UG</th>\n",
       "      <th>Grad</th>\n",
       "      <th>Total</th>\n",
       "      <th>Tuition</th>\n",
       "      <th>Domestic_UG</th>\n",
       "      <th>Domestic_Grad</th>\n",
       "      <th>Admission</th>\n",
       "    </tr>\n",
       "    <tr>\n",
       "      <th>Campus</th>\n",
       "      <th></th>\n",
       "      <th></th>\n",
       "      <th></th>\n",
       "      <th></th>\n",
       "      <th></th>\n",
       "      <th></th>\n",
       "      <th></th>\n",
       "      <th></th>\n",
       "      <th></th>\n",
       "    </tr>\n",
       "  </thead>\n",
       "  <tbody>\n",
       "    <tr>\n",
       "      <th>Story Arts Centre</th>\n",
       "      <td>CST</td>\n",
       "      <td>282</td>\n",
       "      <td>NaN</td>\n",
       "      <td>NaN</td>\n",
       "      <td>1,425</td>\n",
       "      <td>NaN</td>\n",
       "      <td>NaN</td>\n",
       "      <td>NaN</td>\n",
       "      <td>NaN</td>\n",
       "    </tr>\n",
       "    <tr>\n",
       "      <th>Ashtonbee Campus</th>\n",
       "      <td>CAS</td>\n",
       "      <td>526</td>\n",
       "      <td>NaN</td>\n",
       "      <td>NaN</td>\n",
       "      <td>2,332</td>\n",
       "      <td>NaN</td>\n",
       "      <td>NaN</td>\n",
       "      <td>NaN</td>\n",
       "      <td>NaN</td>\n",
       "    </tr>\n",
       "    <tr>\n",
       "      <th>Progress Campus</th>\n",
       "      <td>CPR</td>\n",
       "      <td>493</td>\n",
       "      <td>NaN</td>\n",
       "      <td>NaN</td>\n",
       "      <td>11,871</td>\n",
       "      <td>NaN</td>\n",
       "      <td>NaN</td>\n",
       "      <td>NaN</td>\n",
       "      <td>NaN</td>\n",
       "    </tr>\n",
       "    <tr>\n",
       "      <th>Morningside Campus</th>\n",
       "      <td>CMO</td>\n",
       "      <td>564</td>\n",
       "      <td>NaN</td>\n",
       "      <td>NaN</td>\n",
       "      <td>NaN</td>\n",
       "      <td>NaN</td>\n",
       "      <td>NaN</td>\n",
       "      <td>NaN</td>\n",
       "      <td>NaN</td>\n",
       "    </tr>\n",
       "    <tr>\n",
       "      <th>Downsview Campus</th>\n",
       "      <td>CDV</td>\n",
       "      <td>419</td>\n",
       "      <td>NaN</td>\n",
       "      <td>NaN</td>\n",
       "      <td>NaN</td>\n",
       "      <td>NaN</td>\n",
       "      <td>NaN</td>\n",
       "      <td>NaN</td>\n",
       "      <td>NaN</td>\n",
       "    </tr>\n",
       "  </tbody>\n",
       "</table>\n",
       "</div>"
      ],
      "text/plain": [
       "                   Code  Zone  UG  Grad   Total  Tuition  Domestic_UG  \\\n",
       "Campus                                                                  \n",
       "Story Arts Centre   CST   282 NaN   NaN   1,425      NaN          NaN   \n",
       "Ashtonbee Campus    CAS   526 NaN   NaN   2,332      NaN          NaN   \n",
       "Progress Campus     CPR   493 NaN   NaN  11,871      NaN          NaN   \n",
       "Morningside Campus  CMO   564 NaN   NaN     NaN      NaN          NaN   \n",
       "Downsview Campus    CDV   419 NaN   NaN     NaN      NaN          NaN   \n",
       "\n",
       "                    Domestic_Grad  Admission  \n",
       "Campus                                        \n",
       "Story Arts Centre             NaN        NaN  \n",
       "Ashtonbee Campus              NaN        NaN  \n",
       "Progress Campus               NaN        NaN  \n",
       "Morningside Campus            NaN        NaN  \n",
       "Downsview Campus              NaN        NaN  "
      ]
     },
     "execution_count": 9,
     "metadata": {},
     "output_type": "execute_result"
    }
   ],
   "source": [
    "campus_info = pd.read_csv('School_Info_2019.csv').set_index('Campus')\n",
    "zones, codes = list(campus_info['Zone']), list(campus_info['Code'])\n",
    "df['Campus_Zone'] = df['Campus'].apply(lambda x: campus_info['Zone'].loc[x] if isinstance(x, str) else -1)\n",
    "df['School'] = df['Campus'].apply(lambda x: campus_info['Code'].loc[x] if isinstance(x, str) else -1)\n",
    "campus_info.head()"
   ]
  },
  {
   "cell_type": "code",
   "execution_count": 83,
   "metadata": {},
   "outputs": [],
   "source": [
    "df_path = pd.read_csv('../../LoS/Walk_Distances.csv')\n",
    "origins = list(set(list(df_path['Origin'])))\n",
    "dists = list(df_path['Data'])"
   ]
  },
  {
   "cell_type": "code",
   "execution_count": 84,
   "metadata": {},
   "outputs": [],
   "source": [
    "def get_distance(o, d):\n",
    "    if o in origins and d in origins:\n",
    "        i = origins.index(o)\n",
    "        j = origins.index(d)\n",
    "        return dists[i*2392 + j] / 1000\n",
    "    else:\n",
    "        return -1    "
   ]
  },
  {
   "cell_type": "code",
   "execution_count": 85,
   "metadata": {},
   "outputs": [],
   "source": [
    "for i in range(len(codes)):\n",
    "    df['Dist.' + codes[i]] = df['Home_Zone'].apply(lambda x: get_distance(x, zones[i]))\n",
    "df = df[df['Dist.CST'] != -1]"
   ]
  },
  {
   "cell_type": "markdown",
   "metadata": {},
   "source": [
    "Load campus data from campus_info\n",
    "Take correct enrollment and domestic values by level/status\n",
    "Decide how to handle expansion factors"
   ]
  },
  {
   "cell_type": "code",
   "execution_count": 86,
   "metadata": {},
   "outputs": [],
   "source": [
    "grouped = df.groupby('Level')['School'].value_counts()\n",
    "school_counts = df['School'].value_counts()\n",
    "\n",
    "def level_count(school, level):\n",
    "    if \"College\" in school:\n",
    "        return grouped['College'][school] / grouped.sum()\n",
    "    if level != 'Total':\n",
    "        return grouped[level][school] / grouped.sum()\n",
    "    return school_counts[school]"
   ]
  },
  {
   "cell_type": "code",
   "execution_count": 21,
   "metadata": {},
   "outputs": [
    {
     "ename": "SyntaxError",
     "evalue": "invalid syntax (<ipython-input-21-ad774b608d35>, line 14)",
     "output_type": "error",
     "traceback": [
      "\u001b[1;36m  File \u001b[1;32m\"<ipython-input-21-ad774b608d35>\"\u001b[1;36m, line \u001b[1;32m14\u001b[0m\n\u001b[1;33m    exp_factors[school] = campus_info[]\u001b[0m\n\u001b[1;37m                                      ^\u001b[0m\n\u001b[1;31mSyntaxError\u001b[0m\u001b[1;31m:\u001b[0m invalid syntax\n"
     ]
    }
   ],
   "source": [
    "def get_log_enrollment(level, school):\n",
    "    return math.log1p(campus_info[level].loc[school]) # Level: UG, Grad, Total\n",
    "    \n",
    "exp_factors = {'Total': {}, 'UG': {}, 'Grad': {}}\n",
    "for school in campus_info.index:\n",
    "    code = campus_info['Code'][school]\n",
    "    for level in ('Total', 'UG', 'Grad'):\n",
    "        exp_factors[level][school] = campus_info[level][school] / campus_info[level].sum() / level_count(school, level)\n",
    "        df[level + \".\" + code] = get_log_enrollment(level, school)\n",
    "    df[\"Tuition.\" + code] = campus_info['Tuition'][school]\n",
    "    df[\"Domestic.\" + code] = df['Level'].apply(lambda x: campus_info['Domestic_' + ('Grad' if (x == 'Grad') else 'UG')][school])  \n",
    "    df[\"Adm_Ave.\" + code] = campus_info['Admission'][school]\n",
    "    \n",
    "    exp_factors[school] = campus_info[]"
   ]
  },
  {
   "cell_type": "code",
   "execution_count": 87,
   "metadata": {},
   "outputs": [],
   "source": [
    "campus_info.set_index(campus_info['Code'],inplace = True)"
   ]
  },
  {
   "cell_type": "code",
   "execution_count": 10,
   "metadata": {
    "scrolled": true
   },
   "outputs": [
    {
     "data": {
      "text/plain": [
       "<matplotlib.axes._subplots.AxesSubplot at 0x21a1129c488>"
      ]
     },
     "execution_count": 10,
     "metadata": {},
     "output_type": "execute_result"
    },
    {
     "data": {
      "image/png": "[encoded data removed]",
      "text/plain": [
       "<Figure size 432x288 with 1 Axes>"
      ]
     },
     "metadata": {
      "needs_background": "light"
     },
     "output_type": "display_data"
    }
   ],
   "source": [
    "df[df['Level'] == 'UG']['Age'].value_counts(normalize = True).sort_index().plot.area(xlim = [0,70], ylim = [0,0.2])\n",
    "df[df['Level'] == 'Grad']['Age'].value_counts(normalize = True).sort_index().plot.area(xlim = [0,70], ylim = [0,0.2])\n",
    "df[df['Level'] == 'College']['Age'].value_counts(normalize = True).sort_index().plot.area(xlim = [0,70], ylim = [0,0.2])"
   ]
  },
  {
   "cell_type": "code",
   "execution_count": 21,
   "metadata": {},
   "outputs": [],
   "source": [
    "xs = df['Age'].unique()\n",
    "xs.sort()\n",
    "UGs, Grads, Colleges = [], [], []\n",
    "for age in xs:\n",
    "    temp = df[df['Age'] == age]['Level'].value_counts(normalize=True)\n",
    "    UGs.append(temp['UG'] if 'UG' in temp else 0)\n",
    "    Grads.append(temp['Grad'] if 'Grad' in temp else 0)\n",
    "    Colleges.append(temp['College'] if 'College' in temp else 0)"
   ]
  },
  {
   "cell_type": "code",
   "execution_count": 29,
   "metadata": {},
   "outputs": [
    {
     "data": {
      "image/png": "[encoded data removed]",
      "text/plain": [
       "<Figure size 432x288 with 1 Axes>"
      ]
     },
     "metadata": {
      "needs_background": "light"
     },
     "output_type": "display_data"
    }
   ],
   "source": [
    "import matplotlib.pyplot as plt\n",
    "plt.plot(xs, UGs)\n",
    "plt.plot(xs, Grads)\n",
    "plt.plot(xs, Colleges)\n",
    "plt.xlim(16, 50)\n",
    "plt.legend(labels=['UG', 'Grad', 'College'])\n",
    "plt.title('Distribution of Level by Age')\n",
    "plt.show()"
   ]
  },
  {
   "cell_type": "code",
   "execution_count": 30,
   "metadata": {},
   "outputs": [
    {
     "data": {
      "image/png": "[encoded data removed]",
      "text/plain": [
       "<Figure size 432x288 with 1 Axes>"
      ]
     },
     "metadata": {
      "needs_background": "light"
     },
     "output_type": "display_data"
    }
   ],
   "source": [
    "import matplotlib.pyplot as plt\n",
    "plt.stackplot(xs, UGs)\n",
    "plt.stackplot(xs, Grads)\n",
    "plt.stackplot(xs, Colleges)\n",
    "plt.xlim(16, 50)\n",
    "plt.legend(labels=['UG', 'Grad', 'College'])\n",
    "plt.title('Distribution of Level by Age')\n",
    "plt.show()"
   ]
  },
  {
   "cell_type": "code",
   "execution_count": 33,
   "metadata": {},
   "outputs": [],
   "source": [
    "xs = df['Age'].unique()\n",
    "xs.sort()\n",
    "UGs, Grads, Colleges = [], [], []\n",
    "for age in xs:\n",
    "    temp = df[df['Age'] == age]['Level'].value_counts(normalize=True)\n",
    "    UG, Grad, College = temp['UG'] if 'UG' in temp else 0, temp['Grad'] if 'Grad' in temp else 0, temp['College'] if 'College' in temp else 0\n",
    "    UGs.append(UG)\n",
    "    Grads.append(UG + Grad)\n",
    "    Colleges.append(UG + Grad + College)"
   ]
  },
  {
   "cell_type": "code",
   "execution_count": 36,
   "metadata": {},
   "outputs": [
    {
     "data": {
      "image/png": "[encoded data removed]",
      "text/plain": [
       "<Figure size 432x288 with 1 Axes>"
      ]
     },
     "metadata": {
      "needs_background": "light"
     },
     "output_type": "display_data"
    }
   ],
   "source": [
    "import matplotlib.pyplot as plt\n",
    "plt.stackplot(xs, Colleges)\n",
    "plt.stackplot(xs, Grads)\n",
    "plt.stackplot(xs, UGs)\n",
    "plt.xlim(16, 50)\n",
    "plt.legend(labels=['Colleges', 'Grad', 'UG'])\n",
    "plt.title('Distribution of Level by Age')\n",
    "plt.show()"
   ]
  },
  {
   "cell_type": "code",
   "execution_count": 37,
   "metadata": {},
   "outputs": [],
   "source": [
    "xs = df['Age'].unique()\n",
    "xs.sort()\n",
    "UGs, Grads, Colleges = [], [], []\n",
    "for age in xs:\n",
    "    temp = df[df['Age'] == age]['Level'].value_counts()\n",
    "    UG, Grad, College = temp['UG'] if 'UG' in temp else 0, temp['Grad'] if 'Grad' in temp else 0, temp['College'] if 'College' in temp else 0\n",
    "    UGs.append(UG)\n",
    "    Grads.append(UG + Grad)\n",
    "    Colleges.append(UG + Grad + College)"
   ]
  },
  {
   "cell_type": "code",
   "execution_count": 38,
   "metadata": {},
   "outputs": [
    {
     "data": {
      "image/png": "[encoded data removed]",
      "text/plain": [
       "<Figure size 432x288 with 1 Axes>"
      ]
     },
     "metadata": {
      "needs_background": "light"
     },
     "output_type": "display_data"
    }
   ],
   "source": [
    "import matplotlib.pyplot as plt\n",
    "plt.stackplot(xs, Colleges)\n",
    "plt.stackplot(xs, Grads)\n",
    "plt.stackplot(xs, UGs)\n",
    "plt.xlim(16, 50)\n",
    "plt.legend(labels=['Colleges', 'Grad', 'UG'])\n",
    "plt.title('Distribution of Level by Age')\n",
    "plt.show()"
   ]
  },
  {
   "cell_type": "code",
   "execution_count": 95,
   "metadata": {
    "scrolled": true
   },
   "outputs": [
    {
     "data": {
      "text/plain": [
       "RY     3352\n",
       "SG     3270\n",
       "YK     1846\n",
       "MCM    1399\n",
       "DOS     837\n",
       "SC      724\n",
       "MI      702\n",
       "OTN     490\n",
       "CPR     486\n",
       "MOF     417\n",
       "SHT     395\n",
       "OC      361\n",
       "SHD     313\n",
       "CMO     250\n",
       "SHH     220\n",
       "YG      139\n",
       "DWH     125\n",
       "OTD     124\n",
       "CAS      87\n",
       "CST      68\n",
       "MOI      49\n",
       "MCB      29\n",
       "CDV      26\n",
       "MOS      23\n",
       "CPI      20\n",
       "CEG       4\n",
       "CDS       2\n",
       "Name: School, dtype: int64"
      ]
     },
     "execution_count": 95,
     "metadata": {},
     "output_type": "execute_result"
    }
   ],
   "source": [
    "temp_enroll = df[df['Status'] == 'FT']['School'].value_counts()\n",
    "temp_enroll"
   ]
  },
  {
   "cell_type": "code",
   "execution_count": 127,
   "metadata": {},
   "outputs": [],
   "source": [
    "campus_info['Sample_Total'] = df['School'].value_counts()\n",
    "campus_info['Sample_UG'] = df[df['Level'] == 'UG']['School'].value_counts()\n",
    "campus_info['Sample_Grad'] = df[df['Level'] == 'Grad']['School'].value_counts()\n",
    "campus_info['Sample_College'] = df[df['Level'] == 'College']['School'].value_counts()\n",
    "campus_info['Sample_FT'] = df[df['Status'] == 'FT']['School'].value_counts()\n",
    "campus_info['Sample_PT'] = df[df['Status'] == 'PT']['School'].value_counts()\n",
    "\n",
    "\n",
    "campus_info[['Sample_Total', 'Sample_UG', 'Sample_Grad', 'Sample_College','Sample_PT', 'Sample_FT']] = campus_info[['Sample_Total', 'Sample_UG', 'Sample_Grad', 'Sample_College','Sample_PT', 'Sample_FT']].fillna(0)"
   ]
  },
  {
   "cell_type": "code",
   "execution_count": 151,
   "metadata": {},
   "outputs": [
    {
     "data": {
      "text/plain": [
       "1.3131858892992523"
      ]
     },
     "execution_count": 151,
     "metadata": {},
     "output_type": "execute_result"
    }
   ],
   "source": [
    "math.log1p(2.718)"
   ]
  },
  {
   "cell_type": "code",
   "execution_count": 152,
   "metadata": {},
   "outputs": [],
   "source": [
    "for i in campus_info['Code'].tolist():\n",
    "    df['Sample_Total.' + i] = math.log1p(campus_info['Sample_Total'][i])\n",
    "for i in campus_info['Code'].tolist():\n",
    "    df['Sample_UG.' + i] = math.log1p(campus_info['Sample_UG'][i])\n",
    "for i in campus_info['Code'].tolist():\n",
    "    df['Sample_Grad.' + i] = math.log1p(campus_info['Sample_Grad'][i])\n",
    "for i in campus_info['Code'].tolist():\n",
    "    df['Sample_College.' + i] = math.log1p(campus_info['Sample_College'][i])\n",
    "for i in campus_info['Code'].tolist():\n",
    "    df['Sample_FT.' + i] = math.log1p(campus_info['Sample_FT'][i])\n",
    "for i in campus_info['Code'].tolist():\n",
    "    df['Sample_PT.' + i] = math.log1p(campus_info['Sample_PT'][i])   "
   ]
  },
  {
   "cell_type": "code",
   "execution_count": 153,
   "metadata": {},
   "outputs": [
    {
     "data": {
      "text/html": [
       "<div>\n",
       "<style scoped>\n",
       "    .dataframe tbody tr th:only-of-type {\n",
       "        vertical-align: middle;\n",
       "    }\n",
       "\n",
       "    .dataframe tbody tr th {\n",
       "        vertical-align: top;\n",
       "    }\n",
       "\n",
       "    .dataframe thead th {\n",
       "        text-align: right;\n",
       "    }\n",
       "</style>\n",
       "<table border=\"1\" class=\"dataframe\">\n",
       "  <thead>\n",
       "    <tr style=\"text-align: right;\">\n",
       "      <th></th>\n",
       "      <th>Liv_Arr</th>\n",
       "      <th>Children</th>\n",
       "      <th>Cars</th>\n",
       "      <th>Income</th>\n",
       "      <th>Home_Zone</th>\n",
       "      <th>School</th>\n",
       "      <th>Campus</th>\n",
       "      <th>Work</th>\n",
       "      <th>Licence</th>\n",
       "      <th>Mode</th>\n",
       "      <th>...</th>\n",
       "      <th>Sample_PT.SHD</th>\n",
       "      <th>Sample_PT.SHH</th>\n",
       "      <th>Sample_PT.SHT</th>\n",
       "      <th>Sample_PT.MI</th>\n",
       "      <th>Sample_PT.SC</th>\n",
       "      <th>Sample_PT.SG</th>\n",
       "      <th>Sample_PT.YK</th>\n",
       "      <th>Sample_PT.YG</th>\n",
       "      <th>Sample_PT.RY</th>\n",
       "      <th>Sample_PT.OC</th>\n",
       "    </tr>\n",
       "  </thead>\n",
       "  <tbody>\n",
       "    <tr>\n",
       "      <th>0</th>\n",
       "      <td>Live with family/parents</td>\n",
       "      <td>0.0</td>\n",
       "      <td>0.0</td>\n",
       "      <td>NaN</td>\n",
       "      <td>3851.0</td>\n",
       "      <td>CPR</td>\n",
       "      <td>Progress Campus</td>\n",
       "      <td>NW</td>\n",
       "      <td>False</td>\n",
       "      <td>Transit</td>\n",
       "      <td>...</td>\n",
       "      <td>3.091042</td>\n",
       "      <td>2.397895</td>\n",
       "      <td>2.944439</td>\n",
       "      <td>3.218876</td>\n",
       "      <td>3.178054</td>\n",
       "      <td>5.298317</td>\n",
       "      <td>4.736198</td>\n",
       "      <td>1.386294</td>\n",
       "      <td>5.062595</td>\n",
       "      <td>3.555348</td>\n",
       "    </tr>\n",
       "    <tr>\n",
       "      <th>1</th>\n",
       "      <td>Live with family/parents</td>\n",
       "      <td>0.0</td>\n",
       "      <td>1.0</td>\n",
       "      <td>NaN</td>\n",
       "      <td>181.0</td>\n",
       "      <td>CMO</td>\n",
       "      <td>Morningside Campus</td>\n",
       "      <td>NW</td>\n",
       "      <td>False</td>\n",
       "      <td>Transit</td>\n",
       "      <td>...</td>\n",
       "      <td>3.091042</td>\n",
       "      <td>2.397895</td>\n",
       "      <td>2.944439</td>\n",
       "      <td>3.218876</td>\n",
       "      <td>3.178054</td>\n",
       "      <td>5.298317</td>\n",
       "      <td>4.736198</td>\n",
       "      <td>1.386294</td>\n",
       "      <td>5.062595</td>\n",
       "      <td>3.555348</td>\n",
       "    </tr>\n",
       "    <tr>\n",
       "      <th>2</th>\n",
       "      <td>Live with family/parents</td>\n",
       "      <td>0.0</td>\n",
       "      <td>2.0</td>\n",
       "      <td>I don't know</td>\n",
       "      <td>1039.0</td>\n",
       "      <td>CPR</td>\n",
       "      <td>Progress Campus</td>\n",
       "      <td>NW</td>\n",
       "      <td>False</td>\n",
       "      <td>Transit</td>\n",
       "      <td>...</td>\n",
       "      <td>3.091042</td>\n",
       "      <td>2.397895</td>\n",
       "      <td>2.944439</td>\n",
       "      <td>3.218876</td>\n",
       "      <td>3.178054</td>\n",
       "      <td>5.298317</td>\n",
       "      <td>4.736198</td>\n",
       "      <td>1.386294</td>\n",
       "      <td>5.062595</td>\n",
       "      <td>3.555348</td>\n",
       "    </tr>\n",
       "    <tr>\n",
       "      <th>3</th>\n",
       "      <td>NaN</td>\n",
       "      <td>NaN</td>\n",
       "      <td>NaN</td>\n",
       "      <td>NaN</td>\n",
       "      <td>191.0</td>\n",
       "      <td>CPR</td>\n",
       "      <td>Progress Campus</td>\n",
       "      <td>NW</td>\n",
       "      <td>False</td>\n",
       "      <td>None</td>\n",
       "      <td>...</td>\n",
       "      <td>3.091042</td>\n",
       "      <td>2.397895</td>\n",
       "      <td>2.944439</td>\n",
       "      <td>3.218876</td>\n",
       "      <td>3.178054</td>\n",
       "      <td>5.298317</td>\n",
       "      <td>4.736198</td>\n",
       "      <td>1.386294</td>\n",
       "      <td>5.062595</td>\n",
       "      <td>3.555348</td>\n",
       "    </tr>\n",
       "    <tr>\n",
       "      <th>4</th>\n",
       "      <td>Live with family/parents</td>\n",
       "      <td>1.0</td>\n",
       "      <td>1.0</td>\n",
       "      <td>NaN</td>\n",
       "      <td>600.0</td>\n",
       "      <td>CPR</td>\n",
       "      <td>Progress Campus</td>\n",
       "      <td>NW</td>\n",
       "      <td>False</td>\n",
       "      <td>None</td>\n",
       "      <td>...</td>\n",
       "      <td>3.091042</td>\n",
       "      <td>2.397895</td>\n",
       "      <td>2.944439</td>\n",
       "      <td>3.218876</td>\n",
       "      <td>3.178054</td>\n",
       "      <td>5.298317</td>\n",
       "      <td>4.736198</td>\n",
       "      <td>1.386294</td>\n",
       "      <td>5.062595</td>\n",
       "      <td>3.555348</td>\n",
       "    </tr>\n",
       "  </tbody>\n",
       "</table>\n",
       "<p>5 rows × 205 columns</p>\n",
       "</div>"
      ],
      "text/plain": [
       "                    Liv_Arr  Children  Cars        Income  Home_Zone School  \\\n",
       "0  Live with family/parents       0.0   0.0           NaN     3851.0    CPR   \n",
       "1  Live with family/parents       0.0   1.0           NaN      181.0    CMO   \n",
       "2  Live with family/parents       0.0   2.0  I don't know     1039.0    CPR   \n",
       "3                       NaN       NaN   NaN           NaN      191.0    CPR   \n",
       "4  Live with family/parents       1.0   1.0           NaN      600.0    CPR   \n",
       "\n",
       "               Campus Work Licence     Mode  ...  Sample_PT.SHD Sample_PT.SHH  \\\n",
       "0     Progress Campus   NW   False  Transit  ...       3.091042      2.397895   \n",
       "1  Morningside Campus   NW   False  Transit  ...       3.091042      2.397895   \n",
       "2     Progress Campus   NW   False  Transit  ...       3.091042      2.397895   \n",
       "3     Progress Campus   NW   False     None  ...       3.091042      2.397895   \n",
       "4     Progress Campus   NW   False     None  ...       3.091042      2.397895   \n",
       "\n",
       "  Sample_PT.SHT Sample_PT.MI Sample_PT.SC  Sample_PT.SG  Sample_PT.YK  \\\n",
       "0      2.944439     3.218876     3.178054      5.298317      4.736198   \n",
       "1      2.944439     3.218876     3.178054      5.298317      4.736198   \n",
       "2      2.944439     3.218876     3.178054      5.298317      4.736198   \n",
       "3      2.944439     3.218876     3.178054      5.298317      4.736198   \n",
       "4      2.944439     3.218876     3.178054      5.298317      4.736198   \n",
       "\n",
       "   Sample_PT.YG  Sample_PT.RY  Sample_PT.OC  \n",
       "0      1.386294      5.062595      3.555348  \n",
       "1      1.386294      5.062595      3.555348  \n",
       "2      1.386294      5.062595      3.555348  \n",
       "3      1.386294      5.062595      3.555348  \n",
       "4      1.386294      5.062595      3.555348  \n",
       "\n",
       "[5 rows x 205 columns]"
      ]
     },
     "execution_count": 153,
     "metadata": {},
     "output_type": "execute_result"
    }
   ],
   "source": [
    "df.head()"
   ]
  },
  {
   "cell_type": "code",
   "execution_count": 154,
   "metadata": {},
   "outputs": [],
   "source": [
    "df.to_csv('SMTO_2019/SMTO_2019_Complete_Input.csv', index = False)"
   ]
  }
 ],
 "metadata": {
  "kernelspec": {
   "display_name": "Python 3",
   "language": "python",
   "name": "python3"
  },
  "language_info": {
   "codemirror_mode": {
    "name": "ipython",
    "version": 3
   },
   "file_extension": ".py",
   "mimetype": "text/x-python",
   "name": "python",
   "nbconvert_exporter": "python",
   "pygments_lexer": "ipython3",
   "version": "3.7.6"
  }
 },
 "nbformat": 4,
 "nbformat_minor": 2
}
