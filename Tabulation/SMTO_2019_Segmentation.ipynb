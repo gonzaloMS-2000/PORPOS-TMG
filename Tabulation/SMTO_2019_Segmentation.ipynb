{
 "cells": [
  {
   "cell_type": "markdown",
   "metadata": {},
   "source": [
    "# 2019 StudentMoveTO Survey Data - Tabulation and Segmentation\n",
    "\n",
    "In this notebook, we tabulate the data from the 2019 StudentMoveTO Survey. This includes paying specific attention to factors such as age, gender, and the distribution of respondents by affiliated university and campus."
   ]
  },
  {
   "cell_type": "code",
   "execution_count": 1,
   "metadata": {},
   "outputs": [
    {
     "name": "stderr",
     "output_type": "stream",
     "text": [
      "C:\\Users\\ethan\\anaconda3\\lib\\site-packages\\IPython\\core\\interactiveshell.py:3063: DtypeWarning: Columns (10,11,12) have mixed types.Specify dtype option on import or set low_memory=False.\n",
      "  interactivity=interactivity, compiler=compiler, result=result)\n"
     ]
    }
   ],
   "source": [
    "import pandas as pd\n",
    "import matplotlib\n",
    "import matplotlib.pyplot as plt\n",
    "\n",
    "df = pd.read_csv('../Data/SMTO_2019/SMTO_2019_Respondents.csv')\n",
    "df1 = pd.read_csv('../Data/SMTO_2019/SMTO_2019_Households.csv')"
   ]
  },
  {
   "cell_type": "markdown",
   "metadata": {},
   "source": [
    "\n",
    "# 1. Respondents File\n",
    "\n",
    "This section of the tabulation was done with data from `SMTO_2019_Respondents.csv`."
   ]
  },
  {
   "cell_type": "code",
   "execution_count": 2,
   "metadata": {
    "scrolled": true
   },
   "outputs": [
    {
     "data": {
      "text/html": [
       "<div>\n",
       "<style scoped>\n",
       "    .dataframe tbody tr th:only-of-type {\n",
       "        vertical-align: middle;\n",
       "    }\n",
       "\n",
       "    .dataframe tbody tr th {\n",
       "        vertical-align: top;\n",
       "    }\n",
       "\n",
       "    .dataframe thead th {\n",
       "        text-align: right;\n",
       "    }\n",
       "</style>\n",
       "<table border=\"1\" class=\"dataframe\">\n",
       "  <thead>\n",
       "    <tr style=\"text-align: right;\">\n",
       "      <th></th>\n",
       "      <th>UniquePsKey_</th>\n",
       "      <th>PsKey_</th>\n",
       "      <th>psgender</th>\n",
       "      <th>psage</th>\n",
       "      <th>psinstitution</th>\n",
       "      <th>psinternationalstudent</th>\n",
       "      <th>psdisability</th>\n",
       "      <th>psuniversityaffiliation</th>\n",
       "      <th>personstatusgrad</th>\n",
       "      <th>personstatustime</th>\n",
       "      <th>...</th>\n",
       "      <th>psfrequencycommute</th>\n",
       "      <th>psfrequencytelecommute</th>\n",
       "      <th>pswenttoschoolinpastmonth</th>\n",
       "      <th>PsPastMonthRidehailFrequency</th>\n",
       "      <th>PsPastMonthBikeFrequency</th>\n",
       "      <th>PsPastMonthTransitFrequency</th>\n",
       "      <th>PsPastMonthWalkFrequency</th>\n",
       "      <th>PsPastMonthDriveFrequency</th>\n",
       "      <th>psagreeothersurveys</th>\n",
       "      <th>psparticipateprize</th>\n",
       "    </tr>\n",
       "  </thead>\n",
       "  <tbody>\n",
       "    <tr>\n",
       "      <th>0</th>\n",
       "      <td>1</td>\n",
       "      <td>9</td>\n",
       "      <td>Male</td>\n",
       "      <td>26.0</td>\n",
       "      <td>Centennial College</td>\n",
       "      <td>Yes</td>\n",
       "      <td>No</td>\n",
       "      <td>NaN</td>\n",
       "      <td>NaN</td>\n",
       "      <td>NaN</td>\n",
       "      <td>...</td>\n",
       "      <td>4.0</td>\n",
       "      <td>0.0</td>\n",
       "      <td>Yes</td>\n",
       "      <td>Not at all</td>\n",
       "      <td>Not at all</td>\n",
       "      <td>Almost everyday</td>\n",
       "      <td>Not at all</td>\n",
       "      <td>Not at all</td>\n",
       "      <td>Yes</td>\n",
       "      <td>NaN</td>\n",
       "    </tr>\n",
       "    <tr>\n",
       "      <th>1</th>\n",
       "      <td>2</td>\n",
       "      <td>11</td>\n",
       "      <td>Female</td>\n",
       "      <td>25.0</td>\n",
       "      <td>Centennial College</td>\n",
       "      <td>No</td>\n",
       "      <td>No</td>\n",
       "      <td>NaN</td>\n",
       "      <td>NaN</td>\n",
       "      <td>NaN</td>\n",
       "      <td>...</td>\n",
       "      <td>2.0</td>\n",
       "      <td>0.0</td>\n",
       "      <td>Yes</td>\n",
       "      <td>Not at all</td>\n",
       "      <td>Not at all</td>\n",
       "      <td>Once or more a week</td>\n",
       "      <td>Not at all</td>\n",
       "      <td>Not at all</td>\n",
       "      <td>No</td>\n",
       "      <td>NaN</td>\n",
       "    </tr>\n",
       "    <tr>\n",
       "      <th>2</th>\n",
       "      <td>3</td>\n",
       "      <td>14</td>\n",
       "      <td>Male</td>\n",
       "      <td>19.0</td>\n",
       "      <td>Centennial College</td>\n",
       "      <td>No</td>\n",
       "      <td>No</td>\n",
       "      <td>NaN</td>\n",
       "      <td>NaN</td>\n",
       "      <td>NaN</td>\n",
       "      <td>...</td>\n",
       "      <td>5.0</td>\n",
       "      <td>1.0</td>\n",
       "      <td>Yes</td>\n",
       "      <td>Not at all</td>\n",
       "      <td>Not at all</td>\n",
       "      <td>Almost everyday</td>\n",
       "      <td>Not at all</td>\n",
       "      <td>Not at all</td>\n",
       "      <td>No</td>\n",
       "      <td>No</td>\n",
       "    </tr>\n",
       "    <tr>\n",
       "      <th>3</th>\n",
       "      <td>4</td>\n",
       "      <td>16</td>\n",
       "      <td>Female</td>\n",
       "      <td>25.0</td>\n",
       "      <td>Centennial College</td>\n",
       "      <td>Yes</td>\n",
       "      <td>No</td>\n",
       "      <td>NaN</td>\n",
       "      <td>NaN</td>\n",
       "      <td>NaN</td>\n",
       "      <td>...</td>\n",
       "      <td>NaN</td>\n",
       "      <td>NaN</td>\n",
       "      <td>NaN</td>\n",
       "      <td>NaN</td>\n",
       "      <td>NaN</td>\n",
       "      <td>NaN</td>\n",
       "      <td>NaN</td>\n",
       "      <td>NaN</td>\n",
       "      <td>No</td>\n",
       "      <td>NaN</td>\n",
       "    </tr>\n",
       "    <tr>\n",
       "      <th>4</th>\n",
       "      <td>5</td>\n",
       "      <td>17</td>\n",
       "      <td>Female</td>\n",
       "      <td>97.0</td>\n",
       "      <td>Centennial College</td>\n",
       "      <td>No</td>\n",
       "      <td>No</td>\n",
       "      <td>NaN</td>\n",
       "      <td>NaN</td>\n",
       "      <td>NaN</td>\n",
       "      <td>...</td>\n",
       "      <td>NaN</td>\n",
       "      <td>NaN</td>\n",
       "      <td>NaN</td>\n",
       "      <td>NaN</td>\n",
       "      <td>NaN</td>\n",
       "      <td>NaN</td>\n",
       "      <td>NaN</td>\n",
       "      <td>NaN</td>\n",
       "      <td>No</td>\n",
       "      <td>NaN</td>\n",
       "    </tr>\n",
       "  </tbody>\n",
       "</table>\n",
       "<p>5 rows × 61 columns</p>\n",
       "</div>"
      ],
      "text/plain": [
       "   UniquePsKey_  PsKey_ psgender  psage       psinstitution  \\\n",
       "0             1       9     Male   26.0  Centennial College   \n",
       "1             2      11   Female   25.0  Centennial College   \n",
       "2             3      14     Male   19.0  Centennial College   \n",
       "3             4      16   Female   25.0  Centennial College   \n",
       "4             5      17   Female   97.0  Centennial College   \n",
       "\n",
       "  psinternationalstudent psdisability psuniversityaffiliation  \\\n",
       "0                    Yes           No                     NaN   \n",
       "1                     No           No                     NaN   \n",
       "2                     No           No                     NaN   \n",
       "3                    Yes           No                     NaN   \n",
       "4                     No           No                     NaN   \n",
       "\n",
       "  personstatusgrad  personstatustime  ... psfrequencycommute  \\\n",
       "0               NaN              NaN  ...                4.0   \n",
       "1               NaN              NaN  ...                2.0   \n",
       "2               NaN              NaN  ...                5.0   \n",
       "3               NaN              NaN  ...                NaN   \n",
       "4               NaN              NaN  ...                NaN   \n",
       "\n",
       "  psfrequencytelecommute pswenttoschoolinpastmonth  \\\n",
       "0                    0.0                       Yes   \n",
       "1                    0.0                       Yes   \n",
       "2                    1.0                       Yes   \n",
       "3                    NaN                       NaN   \n",
       "4                    NaN                       NaN   \n",
       "\n",
       "  PsPastMonthRidehailFrequency PsPastMonthBikeFrequency  \\\n",
       "0                   Not at all               Not at all   \n",
       "1                   Not at all               Not at all   \n",
       "2                   Not at all               Not at all   \n",
       "3                          NaN                      NaN   \n",
       "4                          NaN                      NaN   \n",
       "\n",
       "  PsPastMonthTransitFrequency PsPastMonthWalkFrequency  \\\n",
       "0             Almost everyday               Not at all   \n",
       "1         Once or more a week               Not at all   \n",
       "2             Almost everyday               Not at all   \n",
       "3                         NaN                      NaN   \n",
       "4                         NaN                      NaN   \n",
       "\n",
       "  PsPastMonthDriveFrequency  psagreeothersurveys psparticipateprize  \n",
       "0                Not at all                  Yes                NaN  \n",
       "1                Not at all                   No                NaN  \n",
       "2                Not at all                   No                 No  \n",
       "3                       NaN                   No                NaN  \n",
       "4                       NaN                   No                NaN  \n",
       "\n",
       "[5 rows x 61 columns]"
      ]
     },
     "execution_count": 2,
     "metadata": {},
     "output_type": "execute_result"
    }
   ],
   "source": [
    "df.head()"
   ]
  },
  {
   "cell_type": "code",
   "execution_count": 3,
   "metadata": {},
   "outputs": [
    {
     "data": {
      "text/plain": [
       "(19135, 61)"
      ]
     },
     "execution_count": 3,
     "metadata": {},
     "output_type": "execute_result"
    }
   ],
   "source": [
    "df.shape"
   ]
  },
  {
   "cell_type": "markdown",
   "metadata": {},
   "source": [
    "The sample size has increased from 2015 where we had __15,226__ respondents to 2019 where we now have __19,135__.\n",
    "\n",
    "To look at distributions, we will used the the following function:"
   ]
  },
  {
   "cell_type": "code",
   "execution_count": 4,
   "metadata": {},
   "outputs": [],
   "source": [
    "def show_distribution(col_name,attribute):\n",
    "    # Include quotations on col_name and attribute\n",
    "    attrib = list(df[col_name].value_counts().index)\n",
    "    counts = list(df[col_name].value_counts())\n",
    "    percnt = list(df[col_name].value_counts(normalize = True))\n",
    "    print(attribute + \"\\t\\tCounts\\tPercentage(%)\\n\")\n",
    "    for i in range(len(attrib)):\n",
    "        print(str(attrib[i])[:7] + '\\t\\t' + str(counts[i]) + '\\t' + str(percnt[i]))"
   ]
  },
  {
   "cell_type": "markdown",
   "metadata": {},
   "source": [
    "### 1.5 University Affiliation Distribution:"
   ]
  },
  {
   "cell_type": "code",
   "execution_count": 10,
   "metadata": {
    "scrolled": true
   },
   "outputs": [
    {
     "data": {
      "text/plain": [
       "Full-Time Undergraduate              10230\n",
       "Full-Time Graduate                    2515\n",
       "Part-Time Undergraduate                416\n",
       "Part-Time Graduate                     239\n",
       "Continuing Education                   183\n",
       "Other, e.g. exchange student            96\n",
       "Not applicable / No longer attend       15\n",
       "Name: psuniversityaffiliation, dtype: int64"
      ]
     },
     "execution_count": 10,
     "metadata": {},
     "output_type": "execute_result"
    }
   ],
   "source": [
    "df['psuniversityaffiliation'].value_counts()"
   ]
  },
  {
   "cell_type": "markdown",
   "metadata": {},
   "source": [
    "### 1.6 College Affiliation Distribution:"
   ]
  },
  {
   "cell_type": "code",
   "execution_count": 11,
   "metadata": {
    "scrolled": false
   },
   "outputs": [
    {
     "data": {
      "text/plain": [
       "Full-Time               3521\n",
       "Part-Time                158\n",
       "Continuing Education      96\n",
       "Name: pscollegeaffiliation, dtype: int64"
      ]
     },
     "execution_count": 11,
     "metadata": {},
     "output_type": "execute_result"
    }
   ],
   "source": [
    "df['pscollegeaffiliation'].value_counts()"
   ]
  },
  {
   "cell_type": "markdown",
   "metadata": {},
   "source": [
    "## 2.1. Living Situation Distribution"
   ]
  },
  {
   "cell_type": "code",
   "execution_count": 15,
   "metadata": {
    "scrolled": true
   },
   "outputs": [
    {
     "data": {
      "image/png": "[encoded data removed]",
      "text/plain": [
       "<Figure size 432x288 with 1 Axes>"
      ]
     },
     "metadata": {},
     "output_type": "display_data"
    }
   ],
   "source": [
    "fig, ax = plt.subplots()\n",
    "labels= list(df1['hhlivingsituation'].value_counts().index)\n",
    "ax.pie(df1['hhlivingsituation'].value_counts(), labels=labels, autopct='%1.1f%%')\n",
    "ax.axis('equal')  # Equal aspect ratio ensures the pie chart is circular.\n",
    "ax.set_title('Living Situation')\n",
    "plt.show()"
   ]
  },
  {
   "cell_type": "markdown",
   "metadata": {},
   "source": [
    "## 2.1. Family Structure Distribution"
   ]
  },
  {
   "cell_type": "code",
   "execution_count": 16,
   "metadata": {},
   "outputs": [
    {
     "data": {
      "image/png": "[encoded data removed]",
      "text/plain": [
       "<Figure size 432x288 with 1 Axes>"
      ]
     },
     "metadata": {},
     "output_type": "display_data"
    }
   ],
   "source": [
    "fig, ax = plt.subplots()\n",
    "labels= list(df1['hhstructure'].value_counts().index)\n",
    "ax.pie(df1['hhstructure'].value_counts(), labels=labels, autopct='%1.1f%%')\n",
    "ax.axis('equal')  # Equal aspect ratio ensures the pie chart is circular.\n",
    "ax.set_title('Family Structures')\n",
    "plt.show()"
   ]
  },
  {
   "cell_type": "code",
   "execution_count": 54,
   "metadata": {},
   "outputs": [
    {
     "data": {
      "text/plain": [
       "Single detached house                 4668\n",
       "Apartment or Condo                    3311\n",
       "Row/Townhouse (attached)              1161\n",
       "Semi-detached house                   1086\n",
       "On-campus residence                    678\n",
       "Prefer not to answer                   256\n",
       "I don't know                           206\n",
       "Other (Ex: mobile home, chalet...)      97\n",
       "Name: hhbuildingtype, dtype: int64"
      ]
     },
     "execution_count": 54,
     "metadata": {},
     "output_type": "execute_result"
    }
   ],
   "source": [
    "df1['hhbuildingtype'].value_counts()"
   ]
  },
  {
   "cell_type": "code",
   "execution_count": 55,
   "metadata": {},
   "outputs": [
    {
     "data": {
      "text/plain": [
       "11463"
      ]
     },
     "execution_count": 55,
     "metadata": {},
     "output_type": "execute_result"
    }
   ],
   "source": [
    "df1['hhbuildingtype'].count()"
   ]
  },
  {
   "cell_type": "code",
   "execution_count": 22,
   "metadata": {},
   "outputs": [
    {
     "data": {
      "text/plain": [
       "Index(['UniquePsKey_', 'PsKey_', 'psgender', 'psage', 'psinstitution',\n",
       "       'psinternationalstudent', 'psdisability', 'psuniversityaffiliation',\n",
       "       'personstatusgrad ', 'personstatustime', 'pscollegeaffiliation',\n",
       "       'pscredentialtoreceive', 'psyearofstudy', 'ps_faculty_school',\n",
       "       'pscampusmain', 'psinstitutioninvolvedyears', 'psworknumhoursperweek',\n",
       "       'psdrivinglicenseowner', 'psagefirstdrivinglicense',\n",
       "       'psconsideringtohavedrivinglicenseinfuture', 'psautoavailability',\n",
       "       'psautotype', 'psautofueltechnology', 'psautomodelyear',\n",
       "       'pstransitpassowner', 'psbikeowner', 'psbikesharemember',\n",
       "       'psbikeshareusefrequency', 'psinstalledridehailingapp',\n",
       "       'psridehailusefrequency', 'psinstalledtripplanningapp',\n",
       "       'pstripplanningappusefrequency', 'pscarsharemember',\n",
       "       'psmonthlytravelcost', 'PsMadeTripsYesterday', 'PsNoTripReason',\n",
       "       'familysupporteducation', 'psmainmodefalltypical',\n",
       "       'pstypicalfalltransitaccessmode', 'pstypicalfalltransitegressmode',\n",
       "       'pscarpoolinsteadofdriving', 'pstypicalcarparkfall',\n",
       "       'pstypicalbikeparkfall', 'psbikeparkingdifficultyfall',\n",
       "       'psalternatefallmodepreference', 'psmainmodewintersame',\n",
       "       'psmainmodewintertypical', 'pstypicalwintertransitaccessmode',\n",
       "       'pstypicalwintertransitegressmode', 'pstypicalcarparkwinter',\n",
       "       'psalternatewintermodepreference', 'psfrequencycommute',\n",
       "       'psfrequencytelecommute', 'pswenttoschoolinpastmonth',\n",
       "       'PsPastMonthRidehailFrequency', 'PsPastMonthBikeFrequency',\n",
       "       'PsPastMonthTransitFrequency', 'PsPastMonthWalkFrequency',\n",
       "       'PsPastMonthDriveFrequency', 'psagreeothersurveys',\n",
       "       'psparticipateprize'],\n",
       "      dtype='object')"
      ]
     },
     "execution_count": 22,
     "metadata": {},
     "output_type": "execute_result"
    }
   ],
   "source": [
    "df.columns"
   ]
  },
  {
   "cell_type": "code",
   "execution_count": 23,
   "metadata": {},
   "outputs": [
    {
     "data": {
      "text/plain": [
       "19135"
      ]
     },
     "execution_count": 23,
     "metadata": {},
     "output_type": "execute_result"
    }
   ],
   "source": [
    "df.shape[0]"
   ]
  },
  {
   "cell_type": "code",
   "execution_count": 24,
   "metadata": {},
   "outputs": [
    {
     "data": {
      "text/plain": [
       "13694"
      ]
     },
     "execution_count": 24,
     "metadata": {},
     "output_type": "execute_result"
    }
   ],
   "source": [
    "df['psuniversityaffiliation'].count()"
   ]
  },
  {
   "cell_type": "code",
   "execution_count": 25,
   "metadata": {},
   "outputs": [
    {
     "data": {
      "text/plain": [
       "3775"
      ]
     },
     "execution_count": 25,
     "metadata": {},
     "output_type": "execute_result"
    }
   ],
   "source": [
    "df['pscollegeaffiliation'].count()"
   ]
  },
  {
   "cell_type": "code",
   "execution_count": 27,
   "metadata": {},
   "outputs": [
    {
     "data": {
      "text/plain": [
       "19135"
      ]
     },
     "execution_count": 27,
     "metadata": {},
     "output_type": "execute_result"
    }
   ],
   "source": [
    "df['psinstitution'].count()"
   ]
  },
  {
   "cell_type": "code",
   "execution_count": 26,
   "metadata": {},
   "outputs": [
    {
     "data": {
      "text/plain": [
       "17469"
      ]
     },
     "execution_count": 26,
     "metadata": {},
     "output_type": "execute_result"
    }
   ],
   "source": [
    "df['psuniversityaffiliation'].count() + df['pscollegeaffiliation'].count()"
   ]
  },
  {
   "cell_type": "code",
   "execution_count": 52,
   "metadata": {},
   "outputs": [
    {
     "data": {
      "text/plain": [
       "19.0     220\n",
       "20.0     205\n",
       "18.0     171\n",
       "21.0     134\n",
       "22.0     100\n",
       "23.0      81\n",
       "999.0     67\n",
       "24.0      51\n",
       "25.0      46\n",
       "26.0      40\n",
       "28.0      30\n",
       "17.0      28\n",
       "29.0      23\n",
       "27.0      22\n",
       "30.0      19\n",
       "32.0      13\n",
       "38.0      12\n",
       "35.0      12\n",
       "2.0       11\n",
       "1.0       10\n",
       "33.0      10\n",
       "34.0      10\n",
       "31.0       9\n",
       "37.0       9\n",
       "36.0       9\n",
       "44.0       8\n",
       "40.0       8\n",
       "39.0       8\n",
       "45.0       7\n",
       "52.0       6\n",
       "49.0       6\n",
       "43.0       5\n",
       "53.0       5\n",
       "47.0       4\n",
       "59.0       3\n",
       "42.0       3\n",
       "55.0       3\n",
       "46.0       3\n",
       "60.0       2\n",
       "61.0       2\n",
       "48.0       2\n",
       "56.0       2\n",
       "16.0       1\n",
       "4.0        1\n",
       "54.0       1\n",
       "50.0       1\n",
       "57.0       1\n",
       "88.0       1\n",
       "68.0       1\n",
       "41.0       1\n",
       "11.0       1\n",
       "80.0       1\n",
       "63.0       1\n",
       "79.0       1\n",
       "64.0       1\n",
       "65.0       1\n",
       "Name: psage, dtype: int64"
      ]
     },
     "execution_count": 52,
     "metadata": {},
     "output_type": "execute_result"
    }
   ],
   "source": [
    "temp = df[df['psuniversityaffiliation'].isnull() & df['pscollegeaffiliation'].isnull()]\n",
    "temp['psage'].value_counts()"
   ]
  },
  {
   "cell_type": "code",
   "execution_count": 30,
   "metadata": {},
   "outputs": [
    {
     "data": {
      "text/plain": [
       "19135"
      ]
     },
     "execution_count": 30,
     "metadata": {},
     "output_type": "execute_result"
    }
   ],
   "source": [
    "1666+13694+3775"
   ]
  },
  {
   "cell_type": "code",
   "execution_count": null,
   "metadata": {},
   "outputs": [],
   "source": []
  },
  {
   "cell_type": "code",
   "execution_count": 36,
   "metadata": {},
   "outputs": [
    {
     "name": "stdout",
     "output_type": "stream",
     "text": [
      "13694\n"
     ]
    },
    {
     "data": {
      "text/plain": [
       "UG       10646\n",
       "Grad      2754\n",
       "Other      294\n",
       "Name: personstatusgrad , dtype: int64"
      ]
     },
     "execution_count": 36,
     "metadata": {},
     "output_type": "execute_result"
    }
   ],
   "source": [
    "print(df['personstatusgrad '].count())\n",
    "df['personstatusgrad '].value_counts()"
   ]
  },
  {
   "cell_type": "code",
   "execution_count": 38,
   "metadata": {},
   "outputs": [
    {
     "name": "stdout",
     "output_type": "stream",
     "text": [
      "13694\n"
     ]
    },
    {
     "data": {
      "text/plain": [
       "FT       12745\n",
       "PT         655\n",
       "Other      294\n",
       "Name: personstatustime, dtype: int64"
      ]
     },
     "execution_count": 38,
     "metadata": {},
     "output_type": "execute_result"
    }
   ],
   "source": [
    "print(df['personstatustime'].count())\n",
    "df['personstatustime'].value_counts()"
   ]
  },
  {
   "cell_type": "code",
   "execution_count": 45,
   "metadata": {},
   "outputs": [
    {
     "data": {
      "text/html": [
       "<div>\n",
       "<style scoped>\n",
       "    .dataframe tbody tr th:only-of-type {\n",
       "        vertical-align: middle;\n",
       "    }\n",
       "\n",
       "    .dataframe tbody tr th {\n",
       "        vertical-align: top;\n",
       "    }\n",
       "\n",
       "    .dataframe thead th {\n",
       "        text-align: right;\n",
       "    }\n",
       "</style>\n",
       "<table border=\"1\" class=\"dataframe\">\n",
       "  <thead>\n",
       "    <tr style=\"text-align: right;\">\n",
       "      <th></th>\n",
       "      <th>UniquePsKey_</th>\n",
       "      <th>PsKey_</th>\n",
       "      <th>psgender</th>\n",
       "      <th>psage</th>\n",
       "      <th>psinstitution</th>\n",
       "      <th>psinternationalstudent</th>\n",
       "      <th>psdisability</th>\n",
       "      <th>psuniversityaffiliation</th>\n",
       "      <th>personstatusgrad</th>\n",
       "      <th>personstatustime</th>\n",
       "      <th>...</th>\n",
       "      <th>psfrequencycommute</th>\n",
       "      <th>psfrequencytelecommute</th>\n",
       "      <th>pswenttoschoolinpastmonth</th>\n",
       "      <th>PsPastMonthRidehailFrequency</th>\n",
       "      <th>PsPastMonthBikeFrequency</th>\n",
       "      <th>PsPastMonthTransitFrequency</th>\n",
       "      <th>PsPastMonthWalkFrequency</th>\n",
       "      <th>PsPastMonthDriveFrequency</th>\n",
       "      <th>psagreeothersurveys</th>\n",
       "      <th>psparticipateprize</th>\n",
       "    </tr>\n",
       "  </thead>\n",
       "  <tbody>\n",
       "    <tr>\n",
       "      <th>0</th>\n",
       "      <td>1</td>\n",
       "      <td>9</td>\n",
       "      <td>Male</td>\n",
       "      <td>26.0</td>\n",
       "      <td>Centennial College</td>\n",
       "      <td>Yes</td>\n",
       "      <td>No</td>\n",
       "      <td>NaN</td>\n",
       "      <td>NaN</td>\n",
       "      <td>NaN</td>\n",
       "      <td>...</td>\n",
       "      <td>4.0</td>\n",
       "      <td>0.0</td>\n",
       "      <td>Yes</td>\n",
       "      <td>Not at all</td>\n",
       "      <td>Not at all</td>\n",
       "      <td>Almost everyday</td>\n",
       "      <td>Not at all</td>\n",
       "      <td>Not at all</td>\n",
       "      <td>Yes</td>\n",
       "      <td>NaN</td>\n",
       "    </tr>\n",
       "    <tr>\n",
       "      <th>1</th>\n",
       "      <td>2</td>\n",
       "      <td>11</td>\n",
       "      <td>Female</td>\n",
       "      <td>25.0</td>\n",
       "      <td>Centennial College</td>\n",
       "      <td>No</td>\n",
       "      <td>No</td>\n",
       "      <td>NaN</td>\n",
       "      <td>NaN</td>\n",
       "      <td>NaN</td>\n",
       "      <td>...</td>\n",
       "      <td>2.0</td>\n",
       "      <td>0.0</td>\n",
       "      <td>Yes</td>\n",
       "      <td>Not at all</td>\n",
       "      <td>Not at all</td>\n",
       "      <td>Once or more a week</td>\n",
       "      <td>Not at all</td>\n",
       "      <td>Not at all</td>\n",
       "      <td>No</td>\n",
       "      <td>NaN</td>\n",
       "    </tr>\n",
       "    <tr>\n",
       "      <th>2</th>\n",
       "      <td>3</td>\n",
       "      <td>14</td>\n",
       "      <td>Male</td>\n",
       "      <td>19.0</td>\n",
       "      <td>Centennial College</td>\n",
       "      <td>No</td>\n",
       "      <td>No</td>\n",
       "      <td>NaN</td>\n",
       "      <td>NaN</td>\n",
       "      <td>NaN</td>\n",
       "      <td>...</td>\n",
       "      <td>5.0</td>\n",
       "      <td>1.0</td>\n",
       "      <td>Yes</td>\n",
       "      <td>Not at all</td>\n",
       "      <td>Not at all</td>\n",
       "      <td>Almost everyday</td>\n",
       "      <td>Not at all</td>\n",
       "      <td>Not at all</td>\n",
       "      <td>No</td>\n",
       "      <td>No</td>\n",
       "    </tr>\n",
       "    <tr>\n",
       "      <th>3</th>\n",
       "      <td>4</td>\n",
       "      <td>16</td>\n",
       "      <td>Female</td>\n",
       "      <td>25.0</td>\n",
       "      <td>Centennial College</td>\n",
       "      <td>Yes</td>\n",
       "      <td>No</td>\n",
       "      <td>NaN</td>\n",
       "      <td>NaN</td>\n",
       "      <td>NaN</td>\n",
       "      <td>...</td>\n",
       "      <td>NaN</td>\n",
       "      <td>NaN</td>\n",
       "      <td>NaN</td>\n",
       "      <td>NaN</td>\n",
       "      <td>NaN</td>\n",
       "      <td>NaN</td>\n",
       "      <td>NaN</td>\n",
       "      <td>NaN</td>\n",
       "      <td>No</td>\n",
       "      <td>NaN</td>\n",
       "    </tr>\n",
       "    <tr>\n",
       "      <th>4</th>\n",
       "      <td>5</td>\n",
       "      <td>17</td>\n",
       "      <td>Female</td>\n",
       "      <td>97.0</td>\n",
       "      <td>Centennial College</td>\n",
       "      <td>No</td>\n",
       "      <td>No</td>\n",
       "      <td>NaN</td>\n",
       "      <td>NaN</td>\n",
       "      <td>NaN</td>\n",
       "      <td>...</td>\n",
       "      <td>NaN</td>\n",
       "      <td>NaN</td>\n",
       "      <td>NaN</td>\n",
       "      <td>NaN</td>\n",
       "      <td>NaN</td>\n",
       "      <td>NaN</td>\n",
       "      <td>NaN</td>\n",
       "      <td>NaN</td>\n",
       "      <td>No</td>\n",
       "      <td>NaN</td>\n",
       "    </tr>\n",
       "    <tr>\n",
       "      <th>...</th>\n",
       "      <td>...</td>\n",
       "      <td>...</td>\n",
       "      <td>...</td>\n",
       "      <td>...</td>\n",
       "      <td>...</td>\n",
       "      <td>...</td>\n",
       "      <td>...</td>\n",
       "      <td>...</td>\n",
       "      <td>...</td>\n",
       "      <td>...</td>\n",
       "      <td>...</td>\n",
       "      <td>...</td>\n",
       "      <td>...</td>\n",
       "      <td>...</td>\n",
       "      <td>...</td>\n",
       "      <td>...</td>\n",
       "      <td>...</td>\n",
       "      <td>...</td>\n",
       "      <td>...</td>\n",
       "      <td>...</td>\n",
       "      <td>...</td>\n",
       "    </tr>\n",
       "    <tr>\n",
       "      <th>19065</th>\n",
       "      <td>19066</td>\n",
       "      <td>2543</td>\n",
       "      <td>Female</td>\n",
       "      <td>18.0</td>\n",
       "      <td>York University</td>\n",
       "      <td>NaN</td>\n",
       "      <td>NaN</td>\n",
       "      <td>NaN</td>\n",
       "      <td>NaN</td>\n",
       "      <td>NaN</td>\n",
       "      <td>...</td>\n",
       "      <td>NaN</td>\n",
       "      <td>NaN</td>\n",
       "      <td>NaN</td>\n",
       "      <td>NaN</td>\n",
       "      <td>NaN</td>\n",
       "      <td>NaN</td>\n",
       "      <td>NaN</td>\n",
       "      <td>NaN</td>\n",
       "      <td>NaN</td>\n",
       "      <td>NaN</td>\n",
       "    </tr>\n",
       "    <tr>\n",
       "      <th>19085</th>\n",
       "      <td>19086</td>\n",
       "      <td>2566</td>\n",
       "      <td>Female</td>\n",
       "      <td>23.0</td>\n",
       "      <td>York University</td>\n",
       "      <td>NaN</td>\n",
       "      <td>No</td>\n",
       "      <td>NaN</td>\n",
       "      <td>NaN</td>\n",
       "      <td>NaN</td>\n",
       "      <td>...</td>\n",
       "      <td>NaN</td>\n",
       "      <td>NaN</td>\n",
       "      <td>NaN</td>\n",
       "      <td>NaN</td>\n",
       "      <td>NaN</td>\n",
       "      <td>NaN</td>\n",
       "      <td>NaN</td>\n",
       "      <td>NaN</td>\n",
       "      <td>NaN</td>\n",
       "      <td>NaN</td>\n",
       "    </tr>\n",
       "    <tr>\n",
       "      <th>19103</th>\n",
       "      <td>19104</td>\n",
       "      <td>2586</td>\n",
       "      <td>Female</td>\n",
       "      <td>NaN</td>\n",
       "      <td>York University</td>\n",
       "      <td>NaN</td>\n",
       "      <td>NaN</td>\n",
       "      <td>NaN</td>\n",
       "      <td>NaN</td>\n",
       "      <td>NaN</td>\n",
       "      <td>...</td>\n",
       "      <td>NaN</td>\n",
       "      <td>NaN</td>\n",
       "      <td>NaN</td>\n",
       "      <td>NaN</td>\n",
       "      <td>NaN</td>\n",
       "      <td>NaN</td>\n",
       "      <td>NaN</td>\n",
       "      <td>NaN</td>\n",
       "      <td>NaN</td>\n",
       "      <td>NaN</td>\n",
       "    </tr>\n",
       "    <tr>\n",
       "      <th>19119</th>\n",
       "      <td>19120</td>\n",
       "      <td>2602</td>\n",
       "      <td>Female</td>\n",
       "      <td>19.0</td>\n",
       "      <td>York University</td>\n",
       "      <td>NaN</td>\n",
       "      <td>NaN</td>\n",
       "      <td>NaN</td>\n",
       "      <td>NaN</td>\n",
       "      <td>NaN</td>\n",
       "      <td>...</td>\n",
       "      <td>NaN</td>\n",
       "      <td>NaN</td>\n",
       "      <td>NaN</td>\n",
       "      <td>NaN</td>\n",
       "      <td>NaN</td>\n",
       "      <td>NaN</td>\n",
       "      <td>NaN</td>\n",
       "      <td>NaN</td>\n",
       "      <td>NaN</td>\n",
       "      <td>NaN</td>\n",
       "    </tr>\n",
       "    <tr>\n",
       "      <th>19134</th>\n",
       "      <td>19135</td>\n",
       "      <td>2619</td>\n",
       "      <td>Female</td>\n",
       "      <td>23.0</td>\n",
       "      <td>York University</td>\n",
       "      <td>No</td>\n",
       "      <td>No</td>\n",
       "      <td>NaN</td>\n",
       "      <td>NaN</td>\n",
       "      <td>NaN</td>\n",
       "      <td>...</td>\n",
       "      <td>NaN</td>\n",
       "      <td>NaN</td>\n",
       "      <td>NaN</td>\n",
       "      <td>NaN</td>\n",
       "      <td>NaN</td>\n",
       "      <td>NaN</td>\n",
       "      <td>NaN</td>\n",
       "      <td>NaN</td>\n",
       "      <td>Yes</td>\n",
       "      <td>Yes</td>\n",
       "    </tr>\n",
       "  </tbody>\n",
       "</table>\n",
       "<p>5441 rows × 61 columns</p>\n",
       "</div>"
      ],
      "text/plain": [
       "       UniquePsKey_  PsKey_ psgender  psage       psinstitution  \\\n",
       "0                 1       9     Male   26.0  Centennial College   \n",
       "1                 2      11   Female   25.0  Centennial College   \n",
       "2                 3      14     Male   19.0  Centennial College   \n",
       "3                 4      16   Female   25.0  Centennial College   \n",
       "4                 5      17   Female   97.0  Centennial College   \n",
       "...             ...     ...      ...    ...                 ...   \n",
       "19065         19066    2543   Female   18.0     York University   \n",
       "19085         19086    2566   Female   23.0     York University   \n",
       "19103         19104    2586   Female    NaN     York University   \n",
       "19119         19120    2602   Female   19.0     York University   \n",
       "19134         19135    2619   Female   23.0     York University   \n",
       "\n",
       "      psinternationalstudent psdisability psuniversityaffiliation  \\\n",
       "0                        Yes           No                     NaN   \n",
       "1                         No           No                     NaN   \n",
       "2                         No           No                     NaN   \n",
       "3                        Yes           No                     NaN   \n",
       "4                         No           No                     NaN   \n",
       "...                      ...          ...                     ...   \n",
       "19065                    NaN          NaN                     NaN   \n",
       "19085                    NaN           No                     NaN   \n",
       "19103                    NaN          NaN                     NaN   \n",
       "19119                    NaN          NaN                     NaN   \n",
       "19134                     No           No                     NaN   \n",
       "\n",
       "      personstatusgrad  personstatustime  ... psfrequencycommute  \\\n",
       "0                   NaN              NaN  ...                4.0   \n",
       "1                   NaN              NaN  ...                2.0   \n",
       "2                   NaN              NaN  ...                5.0   \n",
       "3                   NaN              NaN  ...                NaN   \n",
       "4                   NaN              NaN  ...                NaN   \n",
       "...                 ...              ...  ...                ...   \n",
       "19065               NaN              NaN  ...                NaN   \n",
       "19085               NaN              NaN  ...                NaN   \n",
       "19103               NaN              NaN  ...                NaN   \n",
       "19119               NaN              NaN  ...                NaN   \n",
       "19134               NaN              NaN  ...                NaN   \n",
       "\n",
       "      psfrequencytelecommute pswenttoschoolinpastmonth  \\\n",
       "0                        0.0                       Yes   \n",
       "1                        0.0                       Yes   \n",
       "2                        1.0                       Yes   \n",
       "3                        NaN                       NaN   \n",
       "4                        NaN                       NaN   \n",
       "...                      ...                       ...   \n",
       "19065                    NaN                       NaN   \n",
       "19085                    NaN                       NaN   \n",
       "19103                    NaN                       NaN   \n",
       "19119                    NaN                       NaN   \n",
       "19134                    NaN                       NaN   \n",
       "\n",
       "      PsPastMonthRidehailFrequency PsPastMonthBikeFrequency  \\\n",
       "0                       Not at all               Not at all   \n",
       "1                       Not at all               Not at all   \n",
       "2                       Not at all               Not at all   \n",
       "3                              NaN                      NaN   \n",
       "4                              NaN                      NaN   \n",
       "...                            ...                      ...   \n",
       "19065                          NaN                      NaN   \n",
       "19085                          NaN                      NaN   \n",
       "19103                          NaN                      NaN   \n",
       "19119                          NaN                      NaN   \n",
       "19134                          NaN                      NaN   \n",
       "\n",
       "      PsPastMonthTransitFrequency PsPastMonthWalkFrequency  \\\n",
       "0                 Almost everyday               Not at all   \n",
       "1             Once or more a week               Not at all   \n",
       "2                 Almost everyday               Not at all   \n",
       "3                             NaN                      NaN   \n",
       "4                             NaN                      NaN   \n",
       "...                           ...                      ...   \n",
       "19065                         NaN                      NaN   \n",
       "19085                         NaN                      NaN   \n",
       "19103                         NaN                      NaN   \n",
       "19119                         NaN                      NaN   \n",
       "19134                         NaN                      NaN   \n",
       "\n",
       "      PsPastMonthDriveFrequency  psagreeothersurveys psparticipateprize  \n",
       "0                    Not at all                  Yes                NaN  \n",
       "1                    Not at all                   No                NaN  \n",
       "2                    Not at all                   No                 No  \n",
       "3                           NaN                   No                NaN  \n",
       "4                           NaN                   No                NaN  \n",
       "...                         ...                  ...                ...  \n",
       "19065                       NaN                  NaN                NaN  \n",
       "19085                       NaN                  NaN                NaN  \n",
       "19103                       NaN                  NaN                NaN  \n",
       "19119                       NaN                  NaN                NaN  \n",
       "19134                       NaN                  Yes                Yes  \n",
       "\n",
       "[5441 rows x 61 columns]"
      ]
     },
     "execution_count": 45,
     "metadata": {},
     "output_type": "execute_result"
    }
   ],
   "source": [
    "df[df['personstatusgrad '].isnull() & df['personstatustime'].isnull()]"
   ]
  },
  {
   "cell_type": "code",
   "execution_count": 40,
   "metadata": {},
   "outputs": [
    {
     "data": {
      "text/plain": [
       "19135"
      ]
     },
     "execution_count": 40,
     "metadata": {},
     "output_type": "execute_result"
    }
   ],
   "source": [
    "5441 + 13694"
   ]
  },
  {
   "cell_type": "code",
   "execution_count": 41,
   "metadata": {},
   "outputs": [
    {
     "data": {
      "text/plain": [
       "17506"
      ]
     },
     "execution_count": 41,
     "metadata": {},
     "output_type": "execute_result"
    }
   ],
   "source": [
    "df['psinstitutioninvolvedyears'].count()"
   ]
  },
  {
   "cell_type": "code",
   "execution_count": 42,
   "metadata": {},
   "outputs": [
    {
     "data": {
      "text/plain": [
       "Full-Time Undergraduate              10230\n",
       "Full-Time Graduate                    2515\n",
       "Part-Time Undergraduate                416\n",
       "Part-Time Graduate                     239\n",
       "Continuing Education                   183\n",
       "Other, e.g. exchange student            96\n",
       "Not applicable / No longer attend       15\n",
       "Name: psuniversityaffiliation, dtype: int64"
      ]
     },
     "execution_count": 42,
     "metadata": {},
     "output_type": "execute_result"
    }
   ],
   "source": [
    "df['psuniversityaffiliation'].value_counts()"
   ]
  },
  {
   "cell_type": "code",
   "execution_count": 43,
   "metadata": {},
   "outputs": [
    {
     "data": {
      "text/plain": [
       "Full-Time               3521\n",
       "Part-Time                158\n",
       "Continuing Education      96\n",
       "Name: pscollegeaffiliation, dtype: int64"
      ]
     },
     "execution_count": 43,
     "metadata": {},
     "output_type": "execute_result"
    }
   ],
   "source": [
    "df['pscollegeaffiliation'].value_counts()"
   ]
  },
  {
   "cell_type": "code",
   "execution_count": 58,
   "metadata": {},
   "outputs": [
    {
     "data": {
      "text/html": [
       "<div>\n",
       "<style scoped>\n",
       "    .dataframe tbody tr th:only-of-type {\n",
       "        vertical-align: middle;\n",
       "    }\n",
       "\n",
       "    .dataframe tbody tr th {\n",
       "        vertical-align: top;\n",
       "    }\n",
       "\n",
       "    .dataframe thead th {\n",
       "        text-align: right;\n",
       "    }\n",
       "</style>\n",
       "<table border=\"1\" class=\"dataframe\">\n",
       "  <thead>\n",
       "    <tr style=\"text-align: right;\">\n",
       "      <th></th>\n",
       "      <th>UniquePsKey_</th>\n",
       "      <th>PsKey_</th>\n",
       "      <th>hhlivingsituation</th>\n",
       "      <th>hhstructure</th>\n",
       "      <th>hhsize</th>\n",
       "      <th>hhnumdependentchildren</th>\n",
       "      <th>numroommates</th>\n",
       "      <th>hhvehiclenumber</th>\n",
       "      <th>hhbuildingtype</th>\n",
       "      <th>yearslivingincurrentresidence</th>\n",
       "      <th>...</th>\n",
       "      <th>hhownership</th>\n",
       "      <th>familyincomelevel</th>\n",
       "      <th>HmCTuid</th>\n",
       "      <th>HmTTS2006</th>\n",
       "      <th>HmPD</th>\n",
       "      <th>HmRegion</th>\n",
       "      <th>HmFSA2016</th>\n",
       "      <th>tripsdatekey</th>\n",
       "      <th>TolTp</th>\n",
       "      <th>surveyComplDate</th>\n",
       "    </tr>\n",
       "  </thead>\n",
       "  <tbody>\n",
       "    <tr>\n",
       "      <th>31</th>\n",
       "      <td>32</td>\n",
       "      <td>51</td>\n",
       "      <td>Live alone</td>\n",
       "      <td>NaN</td>\n",
       "      <td>NaN</td>\n",
       "      <td>NaN</td>\n",
       "      <td>NaN</td>\n",
       "      <td>0.0</td>\n",
       "      <td>On-campus residence</td>\n",
       "      <td>Less than 1 year</td>\n",
       "      <td>...</td>\n",
       "      <td>Unknown</td>\n",
       "      <td>Prefer not to answer</td>\n",
       "      <td>5350363.07</td>\n",
       "      <td>493.0</td>\n",
       "      <td>13.0</td>\n",
       "      <td>1.0</td>\n",
       "      <td>M1G</td>\n",
       "      <td>10/6/2019</td>\n",
       "      <td>NaN</td>\n",
       "      <td>10/7/2019</td>\n",
       "    </tr>\n",
       "    <tr>\n",
       "      <th>80</th>\n",
       "      <td>81</td>\n",
       "      <td>114</td>\n",
       "      <td>Live with roommates</td>\n",
       "      <td>NaN</td>\n",
       "      <td>NaN</td>\n",
       "      <td>NaN</td>\n",
       "      <td>3.0</td>\n",
       "      <td>0.0</td>\n",
       "      <td>On-campus residence</td>\n",
       "      <td>Less than 1 year</td>\n",
       "      <td>...</td>\n",
       "      <td>Tenant</td>\n",
       "      <td>$ 60,000 - 69,999</td>\n",
       "      <td>5350363.07</td>\n",
       "      <td>493.0</td>\n",
       "      <td>13.0</td>\n",
       "      <td>1.0</td>\n",
       "      <td>M1G</td>\n",
       "      <td>10/9/2019</td>\n",
       "      <td>2.0</td>\n",
       "      <td>10/10/2019</td>\n",
       "    </tr>\n",
       "    <tr>\n",
       "      <th>179</th>\n",
       "      <td>180</td>\n",
       "      <td>232</td>\n",
       "      <td>Live with roommates</td>\n",
       "      <td>NaN</td>\n",
       "      <td>NaN</td>\n",
       "      <td>NaN</td>\n",
       "      <td>3.0</td>\n",
       "      <td>0.0</td>\n",
       "      <td>On-campus residence</td>\n",
       "      <td>Less than 1 year</td>\n",
       "      <td>...</td>\n",
       "      <td>Tenant</td>\n",
       "      <td>NaN</td>\n",
       "      <td>5350363.07</td>\n",
       "      <td>493.0</td>\n",
       "      <td>13.0</td>\n",
       "      <td>1.0</td>\n",
       "      <td>M1G</td>\n",
       "      <td>10/15/2019</td>\n",
       "      <td>NaN</td>\n",
       "      <td>10/16/2019</td>\n",
       "    </tr>\n",
       "    <tr>\n",
       "      <th>210</th>\n",
       "      <td>211</td>\n",
       "      <td>270</td>\n",
       "      <td>Live with roommates</td>\n",
       "      <td>NaN</td>\n",
       "      <td>NaN</td>\n",
       "      <td>NaN</td>\n",
       "      <td>3.0</td>\n",
       "      <td>0.0</td>\n",
       "      <td>On-campus residence</td>\n",
       "      <td>2-3 years</td>\n",
       "      <td>...</td>\n",
       "      <td>Tenant</td>\n",
       "      <td>NaN</td>\n",
       "      <td>5350363.07</td>\n",
       "      <td>493.0</td>\n",
       "      <td>13.0</td>\n",
       "      <td>1.0</td>\n",
       "      <td>M1G</td>\n",
       "      <td>10/17/2019</td>\n",
       "      <td>1.0</td>\n",
       "      <td>10/18/2019</td>\n",
       "    </tr>\n",
       "    <tr>\n",
       "      <th>239</th>\n",
       "      <td>240</td>\n",
       "      <td>307</td>\n",
       "      <td>Live alone</td>\n",
       "      <td>NaN</td>\n",
       "      <td>NaN</td>\n",
       "      <td>NaN</td>\n",
       "      <td>NaN</td>\n",
       "      <td>0.0</td>\n",
       "      <td>On-campus residence</td>\n",
       "      <td>Less than 1 year</td>\n",
       "      <td>...</td>\n",
       "      <td>Tenant</td>\n",
       "      <td>$ 15,000 - 29,999</td>\n",
       "      <td>5350363.07</td>\n",
       "      <td>493.0</td>\n",
       "      <td>13.0</td>\n",
       "      <td>1.0</td>\n",
       "      <td>M1G</td>\n",
       "      <td>10/20/2019</td>\n",
       "      <td>NaN</td>\n",
       "      <td>10/21/2019</td>\n",
       "    </tr>\n",
       "    <tr>\n",
       "      <th>...</th>\n",
       "      <td>...</td>\n",
       "      <td>...</td>\n",
       "      <td>...</td>\n",
       "      <td>...</td>\n",
       "      <td>...</td>\n",
       "      <td>...</td>\n",
       "      <td>...</td>\n",
       "      <td>...</td>\n",
       "      <td>...</td>\n",
       "      <td>...</td>\n",
       "      <td>...</td>\n",
       "      <td>...</td>\n",
       "      <td>...</td>\n",
       "      <td>...</td>\n",
       "      <td>...</td>\n",
       "      <td>...</td>\n",
       "      <td>...</td>\n",
       "      <td>...</td>\n",
       "      <td>...</td>\n",
       "      <td>...</td>\n",
       "      <td>...</td>\n",
       "    </tr>\n",
       "    <tr>\n",
       "      <th>19028</th>\n",
       "      <td>19029</td>\n",
       "      <td>2503</td>\n",
       "      <td>Live with roommates</td>\n",
       "      <td>NaN</td>\n",
       "      <td>NaN</td>\n",
       "      <td>NaN</td>\n",
       "      <td>1.0</td>\n",
       "      <td>0.0</td>\n",
       "      <td>On-campus residence</td>\n",
       "      <td>Less than 1 year</td>\n",
       "      <td>...</td>\n",
       "      <td>Tenant</td>\n",
       "      <td>$ 150,000 - 199,999</td>\n",
       "      <td>5350311.06</td>\n",
       "      <td>391.0</td>\n",
       "      <td>10.0</td>\n",
       "      <td>1.0</td>\n",
       "      <td>M3J</td>\n",
       "      <td>11/18/2019</td>\n",
       "      <td>2.0</td>\n",
       "      <td>11/19/2019</td>\n",
       "    </tr>\n",
       "    <tr>\n",
       "      <th>19052</th>\n",
       "      <td>19053</td>\n",
       "      <td>2528</td>\n",
       "      <td>Live with partner</td>\n",
       "      <td>Couple</td>\n",
       "      <td>2.0</td>\n",
       "      <td>NaN</td>\n",
       "      <td>NaN</td>\n",
       "      <td>1.0</td>\n",
       "      <td>On-campus residence</td>\n",
       "      <td>1-2 years</td>\n",
       "      <td>...</td>\n",
       "      <td>Tenant</td>\n",
       "      <td>NaN</td>\n",
       "      <td>5350311.06</td>\n",
       "      <td>398.0</td>\n",
       "      <td>10.0</td>\n",
       "      <td>1.0</td>\n",
       "      <td>M3J</td>\n",
       "      <td>11/18/2019</td>\n",
       "      <td>2.0</td>\n",
       "      <td>11/19/2019</td>\n",
       "    </tr>\n",
       "    <tr>\n",
       "      <th>19056</th>\n",
       "      <td>19057</td>\n",
       "      <td>2532</td>\n",
       "      <td>Live alone</td>\n",
       "      <td>NaN</td>\n",
       "      <td>NaN</td>\n",
       "      <td>NaN</td>\n",
       "      <td>NaN</td>\n",
       "      <td>0.0</td>\n",
       "      <td>On-campus residence</td>\n",
       "      <td>4-5 years</td>\n",
       "      <td>...</td>\n",
       "      <td>Tenant</td>\n",
       "      <td>$ 30,000 - 39,999</td>\n",
       "      <td>5350311.06</td>\n",
       "      <td>391.0</td>\n",
       "      <td>10.0</td>\n",
       "      <td>1.0</td>\n",
       "      <td>M3J</td>\n",
       "      <td>11/18/2019</td>\n",
       "      <td>NaN</td>\n",
       "      <td>11/19/2019</td>\n",
       "    </tr>\n",
       "    <tr>\n",
       "      <th>19079</th>\n",
       "      <td>19080</td>\n",
       "      <td>2558</td>\n",
       "      <td>Live alone</td>\n",
       "      <td>NaN</td>\n",
       "      <td>NaN</td>\n",
       "      <td>NaN</td>\n",
       "      <td>NaN</td>\n",
       "      <td>0.0</td>\n",
       "      <td>On-campus residence</td>\n",
       "      <td>Less than 1 year</td>\n",
       "      <td>...</td>\n",
       "      <td>Tenant</td>\n",
       "      <td>NaN</td>\n",
       "      <td>5350311.06</td>\n",
       "      <td>398.0</td>\n",
       "      <td>10.0</td>\n",
       "      <td>1.0</td>\n",
       "      <td>M3J</td>\n",
       "      <td>11/20/2019</td>\n",
       "      <td>1.0</td>\n",
       "      <td>11/21/2019</td>\n",
       "    </tr>\n",
       "    <tr>\n",
       "      <th>19132</th>\n",
       "      <td>19133</td>\n",
       "      <td>2616</td>\n",
       "      <td>Live alone</td>\n",
       "      <td>NaN</td>\n",
       "      <td>NaN</td>\n",
       "      <td>NaN</td>\n",
       "      <td>NaN</td>\n",
       "      <td>0.0</td>\n",
       "      <td>On-campus residence</td>\n",
       "      <td>Less than 1 year</td>\n",
       "      <td>...</td>\n",
       "      <td>Owner</td>\n",
       "      <td>$ 70,000 - 79,999</td>\n",
       "      <td>5350142</td>\n",
       "      <td>214.0</td>\n",
       "      <td>4.0</td>\n",
       "      <td>1.0</td>\n",
       "      <td>M4N</td>\n",
       "      <td>12/18/2019</td>\n",
       "      <td>NaN</td>\n",
       "      <td>12/19/2019</td>\n",
       "    </tr>\n",
       "  </tbody>\n",
       "</table>\n",
       "<p>678 rows × 28 columns</p>\n",
       "</div>"
      ],
      "text/plain": [
       "       UniquePsKey_  PsKey_    hhlivingsituation hhstructure  hhsize  \\\n",
       "31               32      51           Live alone         NaN     NaN   \n",
       "80               81     114  Live with roommates         NaN     NaN   \n",
       "179             180     232  Live with roommates         NaN     NaN   \n",
       "210             211     270  Live with roommates         NaN     NaN   \n",
       "239             240     307           Live alone         NaN     NaN   \n",
       "...             ...     ...                  ...         ...     ...   \n",
       "19028         19029    2503  Live with roommates         NaN     NaN   \n",
       "19052         19053    2528    Live with partner      Couple     2.0   \n",
       "19056         19057    2532           Live alone         NaN     NaN   \n",
       "19079         19080    2558           Live alone         NaN     NaN   \n",
       "19132         19133    2616           Live alone         NaN     NaN   \n",
       "\n",
       "       hhnumdependentchildren  numroommates  hhvehiclenumber  \\\n",
       "31                        NaN           NaN              0.0   \n",
       "80                        NaN           3.0              0.0   \n",
       "179                       NaN           3.0              0.0   \n",
       "210                       NaN           3.0              0.0   \n",
       "239                       NaN           NaN              0.0   \n",
       "...                       ...           ...              ...   \n",
       "19028                     NaN           1.0              0.0   \n",
       "19052                     NaN           NaN              1.0   \n",
       "19056                     NaN           NaN              0.0   \n",
       "19079                     NaN           NaN              0.0   \n",
       "19132                     NaN           NaN              0.0   \n",
       "\n",
       "            hhbuildingtype yearslivingincurrentresidence  ...  hhownership  \\\n",
       "31     On-campus residence              Less than 1 year  ...      Unknown   \n",
       "80     On-campus residence              Less than 1 year  ...       Tenant   \n",
       "179    On-campus residence              Less than 1 year  ...       Tenant   \n",
       "210    On-campus residence                     2-3 years  ...       Tenant   \n",
       "239    On-campus residence              Less than 1 year  ...       Tenant   \n",
       "...                    ...                           ...  ...          ...   \n",
       "19028  On-campus residence              Less than 1 year  ...       Tenant   \n",
       "19052  On-campus residence                     1-2 years  ...       Tenant   \n",
       "19056  On-campus residence                     4-5 years  ...       Tenant   \n",
       "19079  On-campus residence              Less than 1 year  ...       Tenant   \n",
       "19132  On-campus residence              Less than 1 year  ...        Owner   \n",
       "\n",
       "          familyincomelevel     HmCTuid  HmTTS2006  HmPD  HmRegion  HmFSA2016  \\\n",
       "31     Prefer not to answer  5350363.07      493.0  13.0       1.0        M1G   \n",
       "80        $ 60,000 - 69,999  5350363.07      493.0  13.0       1.0        M1G   \n",
       "179                     NaN  5350363.07      493.0  13.0       1.0        M1G   \n",
       "210                     NaN  5350363.07      493.0  13.0       1.0        M1G   \n",
       "239       $ 15,000 - 29,999  5350363.07      493.0  13.0       1.0        M1G   \n",
       "...                     ...         ...        ...   ...       ...        ...   \n",
       "19028   $ 150,000 - 199,999  5350311.06      391.0  10.0       1.0        M3J   \n",
       "19052                   NaN  5350311.06      398.0  10.0       1.0        M3J   \n",
       "19056     $ 30,000 - 39,999  5350311.06      391.0  10.0       1.0        M3J   \n",
       "19079                   NaN  5350311.06      398.0  10.0       1.0        M3J   \n",
       "19132     $ 70,000 - 79,999     5350142      214.0   4.0       1.0        M4N   \n",
       "\n",
       "       tripsdatekey TolTp surveyComplDate  \n",
       "31        10/6/2019   NaN       10/7/2019  \n",
       "80        10/9/2019   2.0      10/10/2019  \n",
       "179      10/15/2019   NaN      10/16/2019  \n",
       "210      10/17/2019   1.0      10/18/2019  \n",
       "239      10/20/2019   NaN      10/21/2019  \n",
       "...             ...   ...             ...  \n",
       "19028    11/18/2019   2.0      11/19/2019  \n",
       "19052    11/18/2019   2.0      11/19/2019  \n",
       "19056    11/18/2019   NaN      11/19/2019  \n",
       "19079    11/20/2019   1.0      11/21/2019  \n",
       "19132    12/18/2019   NaN      12/19/2019  \n",
       "\n",
       "[678 rows x 28 columns]"
      ]
     },
     "execution_count": 58,
     "metadata": {},
     "output_type": "execute_result"
    }
   ],
   "source": [
    "temp = df1[df1['hhbuildingtype'] == \"On-campus residence\"]\n",
    "temp"
   ]
  },
  {
   "cell_type": "code",
   "execution_count": null,
   "metadata": {},
   "outputs": [],
   "source": [
    "merged_df = "
   ]
  }
 ],
 "metadata": {
  "kernelspec": {
   "display_name": "Python 3",
   "language": "python",
   "name": "python3"
  },
  "language_info": {
   "codemirror_mode": {
    "name": "ipython",
    "version": 3
   },
   "file_extension": ".py",
   "mimetype": "text/x-python",
   "name": "python",
   "nbconvert_exporter": "python",
   "pygments_lexer": "ipython3",
   "version": "3.7.6"
  }
 },
 "nbformat": 4,
 "nbformat_minor": 2
}
