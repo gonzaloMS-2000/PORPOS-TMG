{
 "cells": [
  {
   "cell_type": "markdown",
   "metadata": {},
   "source": [
    "# Filtering\n",
    "\n",
    "Before we start with segmentation, we will filter the TTS data so that we are including primarily post-secondary students. Specifically, we remove:\n",
    "- School codes where over half of the students are under 19.  \n",
    "- School zones where over half of the students are under 19.  \n",
    "- Students whose indicated commute mode is school bus."
   ]
  },
  {
   "cell_type": "code",
   "execution_count": 1,
   "metadata": {},
   "outputs": [
    {
     "name": "stdout",
     "output_type": "stream",
     "text": [
      "Dataframe size: 19855\n",
      "Removing students from school codes with over half of students under 19.\n",
      "Dataframe size: 16200\n",
      "Removing students from school zones with over half of students under 19.\n",
      "Dataframe size: 16151\n",
      "Removing school bus students.\n",
      "Dataframe size: 16125\n"
     ]
    }
   ],
   "source": [
    "import pandas as pd\n",
    "\n",
    "df = pd.read_csv('../../Data/TTS_2016/TTS_2016_Students.csv')\n",
    "original_df = df.copy()\n",
    "print(\"Dataframe size:\", df.shape[0])\n",
    "\n",
    "grouped = df.groupby('SchoolCode')['Age'].quantile(0.5)\n",
    "ps_codes = grouped[grouped > 19].index.tolist()\n",
    "print(\"Removing students from school codes with over half of students under 19.\")\n",
    "df = df[df['SchoolCode'].isin(ps_codes)]\n",
    "print(\"Dataframe size:\", df.shape[0])\n",
    "\n",
    "grouped = df.groupby('SchoolZone')['Age'].quantile(0.5)\n",
    "ps_zones = grouped[grouped > 19].index.tolist()\n",
    "print(\"Removing students from school zones with over half of students under 19.\")\n",
    "df = df[df['SchoolZone'].isin(ps_zones)]\n",
    "print(\"Dataframe size:\", df.shape[0])\n",
    "\n",
    "print(\"Removing school bus students.\")\n",
    "df = df[df['ModeTakenToSchool'] != 'S'] # School bus\n",
    "print(\"Dataframe size:\", df.shape[0])"
   ]
  },
  {
   "cell_type": "markdown",
   "metadata": {},
   "source": [
    "From Joven's files, we have a list of elementary and secondary schools by their school codes. Let us see how many rows in our sample attend these schools before and after filtering."
   ]
  },
  {
   "cell_type": "code",
   "execution_count": 2,
   "metadata": {},
   "outputs": [
    {
     "name": "stdout",
     "output_type": "stream",
     "text": [
      "# of elementary/secondary school codes: 3385\n",
      "# of rows in original data from these codes: 4049\n",
      "# of rows in filtered data from these codes: 470\n"
     ]
    }
   ],
   "source": [
    "actual_hs_codes = set(pd.read_csv('../../Data/TTS_2016/SchoolCodes.csv')['sch_code__'])\n",
    "print(\"# of elementary/secondary school codes:\", len(actual_hs_codes))\n",
    "print(\"# of rows in original data from these codes:\", original_df[original_df['SchoolCode'].isin(actual_hs_codes)].shape[0])\n",
    "print(\"# of rows in filtered data from these codes:\", df[df['SchoolCode'].isin(actual_hs_codes)].shape[0])"
   ]
  },
  {
   "cell_type": "markdown",
   "metadata": {},
   "source": [
    "It seems we've successfully removed a large amount of high schools from our list. Let us take a look at the most common school codes from this list that remain in our data:"
   ]
  },
  {
   "cell_type": "code",
   "execution_count": 3,
   "metadata": {},
   "outputs": [
    {
     "data": {
      "text/html": [
       "<div>\n",
       "<style scoped>\n",
       "    .dataframe tbody tr th:only-of-type {\n",
       "        vertical-align: middle;\n",
       "    }\n",
       "\n",
       "    .dataframe tbody tr th {\n",
       "        vertical-align: top;\n",
       "    }\n",
       "\n",
       "    .dataframe thead th {\n",
       "        text-align: right;\n",
       "    }\n",
       "</style>\n",
       "<table border=\"1\" class=\"dataframe\">\n",
       "  <thead>\n",
       "    <tr style=\"text-align: right;\">\n",
       "      <th></th>\n",
       "      <th>count</th>\n",
       "      <th>mean</th>\n",
       "      <th>std</th>\n",
       "      <th>min</th>\n",
       "      <th>25%</th>\n",
       "      <th>50%</th>\n",
       "      <th>75%</th>\n",
       "      <th>max</th>\n",
       "    </tr>\n",
       "    <tr>\n",
       "      <th>SchoolCode</th>\n",
       "      <th></th>\n",
       "      <th></th>\n",
       "      <th></th>\n",
       "      <th></th>\n",
       "      <th></th>\n",
       "      <th></th>\n",
       "      <th></th>\n",
       "      <th></th>\n",
       "    </tr>\n",
       "  </thead>\n",
       "  <tbody>\n",
       "    <tr>\n",
       "      <th>2450</th>\n",
       "      <td>189.0</td>\n",
       "      <td>25.264550</td>\n",
       "      <td>8.518682</td>\n",
       "      <td>17.0</td>\n",
       "      <td>20.00</td>\n",
       "      <td>22.0</td>\n",
       "      <td>28.00</td>\n",
       "      <td>62.0</td>\n",
       "    </tr>\n",
       "    <tr>\n",
       "      <th>7290</th>\n",
       "      <td>41.0</td>\n",
       "      <td>26.341463</td>\n",
       "      <td>10.046417</td>\n",
       "      <td>17.0</td>\n",
       "      <td>20.00</td>\n",
       "      <td>23.0</td>\n",
       "      <td>31.00</td>\n",
       "      <td>65.0</td>\n",
       "    </tr>\n",
       "    <tr>\n",
       "      <th>C403</th>\n",
       "      <td>35.0</td>\n",
       "      <td>26.885714</td>\n",
       "      <td>12.256502</td>\n",
       "      <td>18.0</td>\n",
       "      <td>20.50</td>\n",
       "      <td>24.0</td>\n",
       "      <td>29.50</td>\n",
       "      <td>88.0</td>\n",
       "    </tr>\n",
       "    <tr>\n",
       "      <th>9524</th>\n",
       "      <td>28.0</td>\n",
       "      <td>31.250000</td>\n",
       "      <td>13.522615</td>\n",
       "      <td>18.0</td>\n",
       "      <td>20.00</td>\n",
       "      <td>24.5</td>\n",
       "      <td>43.25</td>\n",
       "      <td>59.0</td>\n",
       "    </tr>\n",
       "    <tr>\n",
       "      <th>1654</th>\n",
       "      <td>16.0</td>\n",
       "      <td>27.750000</td>\n",
       "      <td>7.886698</td>\n",
       "      <td>18.0</td>\n",
       "      <td>21.00</td>\n",
       "      <td>27.5</td>\n",
       "      <td>32.75</td>\n",
       "      <td>46.0</td>\n",
       "    </tr>\n",
       "    <tr>\n",
       "      <th>1706</th>\n",
       "      <td>14.0</td>\n",
       "      <td>31.642857</td>\n",
       "      <td>12.887723</td>\n",
       "      <td>17.0</td>\n",
       "      <td>18.00</td>\n",
       "      <td>35.5</td>\n",
       "      <td>42.50</td>\n",
       "      <td>50.0</td>\n",
       "    </tr>\n",
       "    <tr>\n",
       "      <th>845</th>\n",
       "      <td>11.0</td>\n",
       "      <td>35.545455</td>\n",
       "      <td>8.536552</td>\n",
       "      <td>24.0</td>\n",
       "      <td>31.00</td>\n",
       "      <td>35.0</td>\n",
       "      <td>38.00</td>\n",
       "      <td>56.0</td>\n",
       "    </tr>\n",
       "    <tr>\n",
       "      <th>9112</th>\n",
       "      <td>8.0</td>\n",
       "      <td>29.875000</td>\n",
       "      <td>17.771868</td>\n",
       "      <td>18.0</td>\n",
       "      <td>19.50</td>\n",
       "      <td>22.0</td>\n",
       "      <td>30.25</td>\n",
       "      <td>66.0</td>\n",
       "    </tr>\n",
       "    <tr>\n",
       "      <th>844</th>\n",
       "      <td>8.0</td>\n",
       "      <td>41.125000</td>\n",
       "      <td>12.287479</td>\n",
       "      <td>18.0</td>\n",
       "      <td>35.75</td>\n",
       "      <td>41.5</td>\n",
       "      <td>48.50</td>\n",
       "      <td>59.0</td>\n",
       "    </tr>\n",
       "    <tr>\n",
       "      <th>S438</th>\n",
       "      <td>6.0</td>\n",
       "      <td>35.166667</td>\n",
       "      <td>12.560520</td>\n",
       "      <td>22.0</td>\n",
       "      <td>24.75</td>\n",
       "      <td>33.0</td>\n",
       "      <td>46.50</td>\n",
       "      <td>50.0</td>\n",
       "    </tr>\n",
       "  </tbody>\n",
       "</table>\n",
       "</div>"
      ],
      "text/plain": [
       "            count       mean        std   min    25%   50%    75%   max\n",
       "SchoolCode                                                             \n",
       "2450        189.0  25.264550   8.518682  17.0  20.00  22.0  28.00  62.0\n",
       "7290         41.0  26.341463  10.046417  17.0  20.00  23.0  31.00  65.0\n",
       "C403         35.0  26.885714  12.256502  18.0  20.50  24.0  29.50  88.0\n",
       "9524         28.0  31.250000  13.522615  18.0  20.00  24.5  43.25  59.0\n",
       "1654         16.0  27.750000   7.886698  18.0  21.00  27.5  32.75  46.0\n",
       "1706         14.0  31.642857  12.887723  17.0  18.00  35.5  42.50  50.0\n",
       "845          11.0  35.545455   8.536552  24.0  31.00  35.0  38.00  56.0\n",
       "9112          8.0  29.875000  17.771868  18.0  19.50  22.0  30.25  66.0\n",
       "844           8.0  41.125000  12.287479  18.0  35.75  41.5  48.50  59.0\n",
       "S438          6.0  35.166667  12.560520  22.0  24.75  33.0  46.50  50.0"
      ]
     },
     "execution_count": 3,
     "metadata": {},
     "output_type": "execute_result"
    }
   ],
   "source": [
    "df[df['SchoolCode'].isin(actual_hs_codes)].groupby('SchoolCode')['Age'].describe().sort_values('count', ascending=False).head(10)"
   ]
  },
  {
   "cell_type": "markdown",
   "metadata": {},
   "source": [
    "Almost half of these are listed as attending the University of Toronto Schools, a high school located on the University of Toronto's St. George campus. It is likely that some students listed here are actually students at the University of Toronto. We confirm this by looking at the age distribution for these students.\n",
    "For the other codes, they seem to correspond with high schools located on postsecondary campuses (e.g. Father John Redmond Catholic SS and Humber College, New Oriental International College and Seneca Scarborough) or adult learning schools (e.g. Yorkdale Adult Learning School). It seems reasonable to keep these records in the data."
   ]
  },
  {
   "cell_type": "code",
   "execution_count": 4,
   "metadata": {
    "scrolled": false
   },
   "outputs": [
    {
     "data": {
      "image/png": "[encoded data removed]",
      "text/plain": [
       "<Figure size 432x288 with 1 Axes>"
      ]
     },
     "metadata": {
      "needs_background": "light"
     },
     "output_type": "display_data"
    }
   ],
   "source": [
    "import matplotlib.pyplot as plt\n",
    "df['Age'].hist(bins=len(df['Age'].unique()))\n",
    "plt.show()"
   ]
  },
  {
   "cell_type": "markdown",
   "metadata": {},
   "source": [
    "As we can see, the updated age distribution seems much more reasonable, with fewer 17-year-olds relative to 18-, 19-, and 20-year-olds.\n",
    "\n",
    "Now, let's export the filtered dataset into a new CSV file."
   ]
  },
  {
   "cell_type": "code",
   "execution_count": 5,
   "metadata": {},
   "outputs": [],
   "source": [
    "df.to_csv('../../Data/TTS_2016/TTS_2016_Filtered.csv', index=False)"
   ]
  }
 ],
 "metadata": {
  "kernelspec": {
   "display_name": "Python 3",
   "language": "python",
   "name": "python3"
  },
  "language_info": {
   "codemirror_mode": {
    "name": "ipython",
    "version": 3
   },
   "file_extension": ".py",
   "mimetype": "text/x-python",
   "name": "python",
   "nbconvert_exporter": "python",
   "pygments_lexer": "ipython3",
   "version": "3.7.6"
  }
 },
 "nbformat": 4,
 "nbformat_minor": 2
}
