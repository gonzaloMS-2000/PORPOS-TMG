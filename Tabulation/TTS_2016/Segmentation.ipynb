{
 "cells": [
  {
   "cell_type": "markdown",
   "metadata": {},
   "source": [
    "# 2016 TTS Survey Data - Segmentation\n",
    "\n",
    "## Background and Data\n",
    "\n",
    "In this notebook, we begin thinking about labelling the entries in the TTS survey data into segments, as was done for SMTO data. Note that this file uses the filtered dataset, where we have attempted to remove entries with missing information and those who are not post-secondary students."
   ]
  },
  {
   "cell_type": "code",
   "execution_count": 1,
   "metadata": {},
   "outputs": [],
   "source": [
    "import pandas as pd\n",
    "import matplotlib\n",
    "import matplotlib.pyplot as plt"
   ]
  },
  {
   "cell_type": "code",
   "execution_count": 2,
   "metadata": {},
   "outputs": [
    {
     "data": {
      "text/html": [
       "<div>\n",
       "<style scoped>\n",
       "    .dataframe tbody tr th:only-of-type {\n",
       "        vertical-align: middle;\n",
       "    }\n",
       "\n",
       "    .dataframe tbody tr th {\n",
       "        vertical-align: top;\n",
       "    }\n",
       "\n",
       "    .dataframe thead th {\n",
       "        text-align: right;\n",
       "    }\n",
       "</style>\n",
       "<table border=\"1\" class=\"dataframe\">\n",
       "  <thead>\n",
       "    <tr style=\"text-align: right;\">\n",
       "      <th></th>\n",
       "      <th>Unnamed: 0</th>\n",
       "      <th>HomeZone</th>\n",
       "      <th>SchoolZone</th>\n",
       "      <th>SchoolCode</th>\n",
       "      <th>Age</th>\n",
       "      <th>Sex</th>\n",
       "      <th>License</th>\n",
       "      <th>Occupation</th>\n",
       "      <th>EmploymentStatus</th>\n",
       "      <th>StudentStatus</th>\n",
       "      <th>Vehicles</th>\n",
       "      <th>IncomeClass</th>\n",
       "      <th>Adults</th>\n",
       "      <th>Children</th>\n",
       "      <th>ExpansionFactor</th>\n",
       "      <th>ModeTakenToSchool</th>\n",
       "      <th>TripToSchoolTime</th>\n",
       "      <th>Dist</th>\n",
       "    </tr>\n",
       "  </thead>\n",
       "  <tbody>\n",
       "    <tr>\n",
       "      <th>0</th>\n",
       "      <td>1</td>\n",
       "      <td>264</td>\n",
       "      <td>25</td>\n",
       "      <td>9244</td>\n",
       "      <td>19</td>\n",
       "      <td>M</td>\n",
       "      <td>N</td>\n",
       "      <td>O</td>\n",
       "      <td>O</td>\n",
       "      <td>S</td>\n",
       "      <td>2</td>\n",
       "      <td>3</td>\n",
       "      <td>5</td>\n",
       "      <td>0</td>\n",
       "      <td>42.03</td>\n",
       "      <td>B</td>\n",
       "      <td>1300</td>\n",
       "      <td>5.801714</td>\n",
       "    </tr>\n",
       "    <tr>\n",
       "      <th>1</th>\n",
       "      <td>2</td>\n",
       "      <td>38</td>\n",
       "      <td>25</td>\n",
       "      <td>9243</td>\n",
       "      <td>22</td>\n",
       "      <td>M</td>\n",
       "      <td>Y</td>\n",
       "      <td>S</td>\n",
       "      <td>P</td>\n",
       "      <td>S</td>\n",
       "      <td>0</td>\n",
       "      <td>3</td>\n",
       "      <td>2</td>\n",
       "      <td>0</td>\n",
       "      <td>21.01</td>\n",
       "      <td>W</td>\n",
       "      <td>1000</td>\n",
       "      <td>1.529490</td>\n",
       "    </tr>\n",
       "    <tr>\n",
       "      <th>2</th>\n",
       "      <td>3</td>\n",
       "      <td>1039</td>\n",
       "      <td>25</td>\n",
       "      <td>9244</td>\n",
       "      <td>26</td>\n",
       "      <td>M</td>\n",
       "      <td>Y</td>\n",
       "      <td>O</td>\n",
       "      <td>O</td>\n",
       "      <td>S</td>\n",
       "      <td>3</td>\n",
       "      <td>7</td>\n",
       "      <td>5</td>\n",
       "      <td>1</td>\n",
       "      <td>16.17</td>\n",
       "      <td>D</td>\n",
       "      <td>700</td>\n",
       "      <td>32.200970</td>\n",
       "    </tr>\n",
       "    <tr>\n",
       "      <th>3</th>\n",
       "      <td>4</td>\n",
       "      <td>613</td>\n",
       "      <td>25</td>\n",
       "      <td>9244</td>\n",
       "      <td>19</td>\n",
       "      <td>M</td>\n",
       "      <td>Y</td>\n",
       "      <td>O</td>\n",
       "      <td>O</td>\n",
       "      <td>S</td>\n",
       "      <td>1</td>\n",
       "      <td>2</td>\n",
       "      <td>4</td>\n",
       "      <td>0</td>\n",
       "      <td>44.06</td>\n",
       "      <td>B</td>\n",
       "      <td>645</td>\n",
       "      <td>23.502050</td>\n",
       "    </tr>\n",
       "    <tr>\n",
       "      <th>4</th>\n",
       "      <td>7</td>\n",
       "      <td>2053</td>\n",
       "      <td>25</td>\n",
       "      <td>9244</td>\n",
       "      <td>31</td>\n",
       "      <td>F</td>\n",
       "      <td>Y</td>\n",
       "      <td>G</td>\n",
       "      <td>F</td>\n",
       "      <td>P</td>\n",
       "      <td>1</td>\n",
       "      <td>7</td>\n",
       "      <td>2</td>\n",
       "      <td>0</td>\n",
       "      <td>12.52</td>\n",
       "      <td>9</td>\n",
       "      <td>-1</td>\n",
       "      <td>32.690450</td>\n",
       "    </tr>\n",
       "  </tbody>\n",
       "</table>\n",
       "</div>"
      ],
      "text/plain": [
       "   Unnamed: 0  HomeZone  SchoolZone SchoolCode  Age Sex License Occupation  \\\n",
       "0           1       264          25       9244   19   M       N          O   \n",
       "1           2        38          25       9243   22   M       Y          S   \n",
       "2           3      1039          25       9244   26   M       Y          O   \n",
       "3           4       613          25       9244   19   M       Y          O   \n",
       "4           7      2053          25       9244   31   F       Y          G   \n",
       "\n",
       "  EmploymentStatus StudentStatus  Vehicles  IncomeClass  Adults  Children  \\\n",
       "0                O             S         2            3       5         0   \n",
       "1                P             S         0            3       2         0   \n",
       "2                O             S         3            7       5         1   \n",
       "3                O             S         1            2       4         0   \n",
       "4                F             P         1            7       2         0   \n",
       "\n",
       "   ExpansionFactor ModeTakenToSchool  TripToSchoolTime       Dist  \n",
       "0            42.03                 B              1300   5.801714  \n",
       "1            21.01                 W              1000   1.529490  \n",
       "2            16.17                 D               700  32.200970  \n",
       "3            44.06                 B               645  23.502050  \n",
       "4            12.52                 9                -1  32.690450  "
      ]
     },
     "execution_count": 2,
     "metadata": {},
     "output_type": "execute_result"
    }
   ],
   "source": [
    "df = pd.read_csv('../../Data/TTS_2016/Filtered.csv')\n",
    "df.head()"
   ]
  },
  {
   "cell_type": "markdown",
   "metadata": {},
   "source": [
    "Now, we are going to use this data to segment the respondents into the 13 categories. The labels used for each segment are listed in the table below:\n",
    "\n",
    "| Level | Full Time | | Part Time | |\n",
    "| --- | --- | --- | --- | --- |\n",
    "| | Family | Not | Family | Not |\n",
    "| First-year UG | 1 | 2 | 3 | 4 |\n",
    "| Upper-year UG | 5 | 6 | 7 | 8 |\n",
    "| Grad | 9 | 10 | 11 | 12 |\n",
    "| Other | 0 | 0 | 0 | 0 |\n",
    "\n",
    "To guide our segmentation, we will refer to the patterns from SMTO data."
   ]
  },
  {
   "cell_type": "code",
   "execution_count": 3,
   "metadata": {
    "scrolled": true
   },
   "outputs": [
    {
     "data": {
      "text/html": [
       "<div>\n",
       "<style scoped>\n",
       "    .dataframe tbody tr th:only-of-type {\n",
       "        vertical-align: middle;\n",
       "    }\n",
       "\n",
       "    .dataframe tbody tr th {\n",
       "        vertical-align: top;\n",
       "    }\n",
       "\n",
       "    .dataframe thead th {\n",
       "        text-align: right;\n",
       "    }\n",
       "</style>\n",
       "<table border=\"1\" class=\"dataframe\">\n",
       "  <thead>\n",
       "    <tr style=\"text-align: right;\">\n",
       "      <th></th>\n",
       "      <th>Campus</th>\n",
       "      <th>Level</th>\n",
       "      <th>Status</th>\n",
       "      <th>Mode_Actual</th>\n",
       "      <th>Gender</th>\n",
       "      <th>Licence</th>\n",
       "      <th>Work</th>\n",
       "      <th>Age</th>\n",
       "      <th>HomeZone</th>\n",
       "      <th>Family</th>\n",
       "      <th>...</th>\n",
       "      <th>Closest.OC</th>\n",
       "      <th>Closest.RY</th>\n",
       "      <th>Closest.SC</th>\n",
       "      <th>Closest.SG</th>\n",
       "      <th>Closest.YG</th>\n",
       "      <th>Closest.YK</th>\n",
       "      <th>Time.Active</th>\n",
       "      <th>Time.Auto</th>\n",
       "      <th>Time.Transit</th>\n",
       "      <th>Exp_Factor</th>\n",
       "    </tr>\n",
       "  </thead>\n",
       "  <tbody>\n",
       "    <tr>\n",
       "      <th>0</th>\n",
       "      <td>Scarborough (UTSC)</td>\n",
       "      <td>UG</td>\n",
       "      <td>FT</td>\n",
       "      <td>Transit Bus</td>\n",
       "      <td>Female</td>\n",
       "      <td>0</td>\n",
       "      <td>Unknown</td>\n",
       "      <td>20</td>\n",
       "      <td>261</td>\n",
       "      <td>1</td>\n",
       "      <td>...</td>\n",
       "      <td>0</td>\n",
       "      <td>0</td>\n",
       "      <td>0</td>\n",
       "      <td>0</td>\n",
       "      <td>1</td>\n",
       "      <td>0</td>\n",
       "      <td>223.214700</td>\n",
       "      <td>17.474220</td>\n",
       "      <td>75.468478</td>\n",
       "      <td>[1.180745526182362]</td>\n",
       "    </tr>\n",
       "    <tr>\n",
       "      <th>1</th>\n",
       "      <td>Downtown Toronto (St. George)</td>\n",
       "      <td>Grad</td>\n",
       "      <td>FT</td>\n",
       "      <td>Walk</td>\n",
       "      <td>Female</td>\n",
       "      <td>1</td>\n",
       "      <td>Unknown</td>\n",
       "      <td>25</td>\n",
       "      <td>71</td>\n",
       "      <td>0</td>\n",
       "      <td>...</td>\n",
       "      <td>0</td>\n",
       "      <td>0</td>\n",
       "      <td>0</td>\n",
       "      <td>1</td>\n",
       "      <td>0</td>\n",
       "      <td>0</td>\n",
       "      <td>16.985265</td>\n",
       "      <td>2.924953</td>\n",
       "      <td>24.128386</td>\n",
       "      <td>[0.7276973429613323]</td>\n",
       "    </tr>\n",
       "    <tr>\n",
       "      <th>2</th>\n",
       "      <td>Downtown Toronto (St. George)</td>\n",
       "      <td>UG</td>\n",
       "      <td>FT</td>\n",
       "      <td>Transit Bus</td>\n",
       "      <td>Female</td>\n",
       "      <td>1</td>\n",
       "      <td>Unknown</td>\n",
       "      <td>23</td>\n",
       "      <td>3714</td>\n",
       "      <td>1</td>\n",
       "      <td>...</td>\n",
       "      <td>0</td>\n",
       "      <td>0</td>\n",
       "      <td>0</td>\n",
       "      <td>0</td>\n",
       "      <td>0</td>\n",
       "      <td>0</td>\n",
       "      <td>495.534450</td>\n",
       "      <td>67.715080</td>\n",
       "      <td>124.643180</td>\n",
       "      <td>[0.7276973429613323]</td>\n",
       "    </tr>\n",
       "    <tr>\n",
       "      <th>3</th>\n",
       "      <td>Downtown Toronto (St. George)</td>\n",
       "      <td>UG</td>\n",
       "      <td>FT</td>\n",
       "      <td>Walk</td>\n",
       "      <td>Male</td>\n",
       "      <td>1</td>\n",
       "      <td>Unknown</td>\n",
       "      <td>20</td>\n",
       "      <td>74</td>\n",
       "      <td>0</td>\n",
       "      <td>...</td>\n",
       "      <td>0</td>\n",
       "      <td>0</td>\n",
       "      <td>0</td>\n",
       "      <td>1</td>\n",
       "      <td>0</td>\n",
       "      <td>0</td>\n",
       "      <td>10.491210</td>\n",
       "      <td>1.049121</td>\n",
       "      <td>16.675728</td>\n",
       "      <td>[0.7276973429613323]</td>\n",
       "    </tr>\n",
       "    <tr>\n",
       "      <th>4</th>\n",
       "      <td>Downtown Toronto (St. George)</td>\n",
       "      <td>Grad</td>\n",
       "      <td>FT</td>\n",
       "      <td>Walk</td>\n",
       "      <td>Male</td>\n",
       "      <td>1</td>\n",
       "      <td>Unknown</td>\n",
       "      <td>27</td>\n",
       "      <td>71</td>\n",
       "      <td>0</td>\n",
       "      <td>...</td>\n",
       "      <td>0</td>\n",
       "      <td>0</td>\n",
       "      <td>0</td>\n",
       "      <td>1</td>\n",
       "      <td>0</td>\n",
       "      <td>0</td>\n",
       "      <td>16.985265</td>\n",
       "      <td>2.924953</td>\n",
       "      <td>24.128386</td>\n",
       "      <td>[0.7276973429613323]</td>\n",
       "    </tr>\n",
       "  </tbody>\n",
       "</table>\n",
       "<p>5 rows × 99 columns</p>\n",
       "</div>"
      ],
      "text/plain": [
       "                          Campus Level Status  Mode_Actual  Gender  Licence  \\\n",
       "0             Scarborough (UTSC)    UG     FT  Transit Bus  Female        0   \n",
       "1  Downtown Toronto (St. George)  Grad     FT         Walk  Female        1   \n",
       "2  Downtown Toronto (St. George)    UG     FT  Transit Bus  Female        1   \n",
       "3  Downtown Toronto (St. George)    UG     FT         Walk    Male        1   \n",
       "4  Downtown Toronto (St. George)  Grad     FT         Walk    Male        1   \n",
       "\n",
       "      Work  Age  HomeZone  Family  ...  Closest.OC  Closest.RY  Closest.SC  \\\n",
       "0  Unknown   20       261       1  ...           0           0           0   \n",
       "1  Unknown   25        71       0  ...           0           0           0   \n",
       "2  Unknown   23      3714       1  ...           0           0           0   \n",
       "3  Unknown   20        74       0  ...           0           0           0   \n",
       "4  Unknown   27        71       0  ...           0           0           0   \n",
       "\n",
       "  Closest.SG Closest.YG  Closest.YK  Time.Active  Time.Auto  Time.Transit  \\\n",
       "0          0          1           0   223.214700  17.474220     75.468478   \n",
       "1          1          0           0    16.985265   2.924953     24.128386   \n",
       "2          0          0           0   495.534450  67.715080    124.643180   \n",
       "3          1          0           0    10.491210   1.049121     16.675728   \n",
       "4          1          0           0    16.985265   2.924953     24.128386   \n",
       "\n",
       "             Exp_Factor  \n",
       "0   [1.180745526182362]  \n",
       "1  [0.7276973429613323]  \n",
       "2  [0.7276973429613323]  \n",
       "3  [0.7276973429613323]  \n",
       "4  [0.7276973429613323]  \n",
       "\n",
       "[5 rows x 99 columns]"
      ]
     },
     "execution_count": 3,
     "metadata": {},
     "output_type": "execute_result"
    }
   ],
   "source": [
    "SMTO_df = pd.read_csv('../../Data/SMTO_2015/Formatted.csv')\n",
    "SMTO_df.head()"
   ]
  },
  {
   "cell_type": "markdown",
   "metadata": {},
   "source": [
    "## Predicting Living Arrangment\n",
    "\n",
    "Let's attempt to estalish whether a student is living with their family.\n",
    "\n",
    "### Household Composition\n",
    "\n",
    "We assume any student whose household does not include any adults, except, possibly for the student themselves, are not living with their parents/family."
   ]
  },
  {
   "cell_type": "code",
   "execution_count": 4,
   "metadata": {},
   "outputs": [
    {
     "data": {
      "text/plain": [
       "False    14121\n",
       "True      1028\n",
       "Name: NoOtherAdults, dtype: int64"
      ]
     },
     "execution_count": 4,
     "metadata": {},
     "output_type": "execute_result"
    }
   ],
   "source": [
    "df['NoOtherAdults'] = ((df['Age'] >= 18) & (df['Adults'] == 1)) | ((df['Age'] < 18) & (df['Adults'] == 0))\n",
    "df['NoOtherAdults'].value_counts()"
   ]
  },
  {
   "cell_type": "markdown",
   "metadata": {},
   "source": [
    "For students with other adults in the household thing are trickier. We need to identify whether the other adults are the students' parents/family or roommates/partner.\n",
    "\n",
    "First let's look only at students 18 or older. From the SMTO data, we can check how many of those who have children under 18 in the household are listed as living with family."
   ]
  },
  {
   "cell_type": "code",
   "execution_count": 5,
   "metadata": {},
   "outputs": [
    {
     "data": {
      "text/plain": [
       "1    0.871589\n",
       "0    0.128411\n",
       "Name: Family, dtype: float64"
      ]
     },
     "execution_count": 5,
     "metadata": {},
     "output_type": "execute_result"
    }
   ],
   "source": [
    "temp = SMTO_df[(SMTO_df['Age'] >= 18) & (SMTO_df['Children'] >= 1)]\n",
    "temp['Family'].value_counts(normalize=True)"
   ]
  },
  {
   "cell_type": "markdown",
   "metadata": {},
   "source": [
    "It seems that most students are 18 or over but have children under 18 in the household are living with family/parents, but not all. Perhaps seeing the number of adults for those who are vs. those who aren't can help."
   ]
  },
  {
   "cell_type": "code",
   "execution_count": 6,
   "metadata": {},
   "outputs": [
    {
     "name": "stdout",
     "output_type": "stream",
     "text": [
      "# Adults\t% Family\n",
      "1\t\t 0.3673469387755102\n",
      "2\t\t 0.6045016077170418\n",
      "3\t\t 0.9610999329309189\n",
      "4\t\t 0.9634146341463414\n",
      "5\t\t 0.9235880398671097\n",
      "6\t\t 0.9\n",
      "7\t\t 0.8604651162790697\n",
      "8\t\t 0.6923076923076923\n",
      "9\t\t 0.3333333333333333\n",
      "10\t\t 0.3333333333333333\n",
      "11\t\t 0.2\n",
      "14\t\t 0.0\n",
      "15\t\t 0.0\n"
     ]
    }
   ],
   "source": [
    "print(\"# Adults\\t% Family\")\n",
    "for numAdults in set(temp['Adults']):\n",
    "    total = len(temp[temp['Adults'] == numAdults])\n",
    "    print(str(numAdults) + \"\\t\\t\", len(temp[(temp['Family'] == 1) & (temp['Adults'] == numAdults)]) / total)"
   ]
  },
  {
   "cell_type": "markdown",
   "metadata": {},
   "source": [
    "This shows mixed results for those with 1 or 2 adults in their household. For respondents with 3-8 adults in the household, the respondent was usually living with their family. For respondents with more than 8 adults, the respondents were usually not living with their family.\n",
    "\n",
    "Let's perform a similar check for number of children in the household."
   ]
  },
  {
   "cell_type": "code",
   "execution_count": 7,
   "metadata": {},
   "outputs": [
    {
     "name": "stdout",
     "output_type": "stream",
     "text": [
      "# Children\t% Family\n",
      "1\t\t 0.8746887966804979\n",
      "2\t\t 0.866421568627451\n",
      "3\t\t 0.8391959798994975\n",
      "4\t\t 0.9534883720930233\n",
      "5\t\t 0.8888888888888888\n",
      "6\t\t 1.0\n",
      "7\t\t 1.0\n",
      "18\t\t 0.0\n"
     ]
    }
   ],
   "source": [
    "print(\"# Children\\t% Family\")\n",
    "for numChildren in set(temp['Children']):\n",
    "    total = len(temp[temp['Children'] == numChildren])\n",
    "    print(str(numChildren) + \"\\t\\t\", len(temp[(temp['Family'] == 1) & (temp['Children'] == numChildren)]) / total)"
   ]
  },
  {
   "cell_type": "markdown",
   "metadata": {},
   "source": [
    "For every number of children less than 8, students were very likely to be living with their family (especially for 4 or more children.\n",
    "\n",
    "It seems that household composition can be a very good indicator for whether a student is living with their family or not, in certain conditions.\n",
    "\n",
    "### Household Income\n",
    "\n",
    "Let's see whether income level can help predict living arrangement. Unfortunately, the income ranges used by SMTO and TTS are different. Therefore, only if this seems to be an excellent predictor of living arrangement should income range be considered.\n",
    "\n",
    "Here are the income levels reported:"
   ]
  },
  {
   "cell_type": "code",
   "execution_count": 8,
   "metadata": {},
   "outputs": [
    {
     "data": {
      "text/plain": [
       "Unknown    8745\n",
       "Low        4338\n",
       "High       1570\n",
       "Name: Income, dtype: int64"
      ]
     },
     "execution_count": 8,
     "metadata": {},
     "output_type": "execute_result"
    }
   ],
   "source": [
    "SMTO_df['Income'].value_counts()"
   ]
  },
  {
   "cell_type": "code",
   "execution_count": 9,
   "metadata": {},
   "outputs": [
    {
     "name": "stdout",
     "output_type": "stream",
     "text": [
      "Income\t % Family\n",
      "Unknown\t 0.5997712978845054\n",
      "High\t 0.6554140127388535\n",
      "Low\t 0.47325956662056246\n"
     ]
    }
   ],
   "source": [
    "print(\"Income\\t % Family\")\n",
    "for income in set(SMTO_df['Income']):\n",
    "    total = len(SMTO_df[SMTO_df['Income'] == income])\n",
    "    print(income + \"\\t\", len(SMTO_df[(SMTO_df['Family'] == 1) & (SMTO_df['Income'] == income)]) / total)"
   ]
  },
  {
   "cell_type": "markdown",
   "metadata": {},
   "source": [
    "For the most part, income level is not a strong predictor of whether a students lives with their family or not. The income level with the greatest variation from the sample mean is the lowest one - students whose household income level was less than #30,000 were much less likely to be living with their family, at 34%. This is not surprising, since students living with their family  would include their family members' income in the household income.\n",
    "However, even this income level is not a reliable indicator of whether a student is living away from their family. Perhaps it will be a stronger indicator in combination with enrolment status."
   ]
  },
  {
   "cell_type": "code",
   "execution_count": 10,
   "metadata": {},
   "outputs": [
    {
     "name": "stdout",
     "output_type": "stream",
     "text": [
      "FT    0.932227\n",
      "PT    0.067773\n",
      "Name: Status, dtype: float64\n",
      "\n",
      "FT    0.927523\n",
      "PT    0.072477\n",
      "Name: Status, dtype: float64\n"
     ]
    }
   ],
   "source": [
    "temp_df = SMTO_df[SMTO_df['Income'] == 'Low']\n",
    "\n",
    "print(temp_df['Status'].value_counts(normalize=True))\n",
    "print()\n",
    "print(SMTO_df['Status'].value_counts(normalize=True))"
   ]
  },
  {
   "cell_type": "markdown",
   "metadata": {},
   "source": [
    "Important to note is that the distribution by enrolment status of students in the lowest household income level is similar to that of the entire sample."
   ]
  },
  {
   "cell_type": "code",
   "execution_count": 11,
   "metadata": {},
   "outputs": [
    {
     "name": "stdout",
     "output_type": "stream",
     "text": [
      "For the lowest income range:\n",
      "Status\t% Family\n",
      "FT\t 0.4794757665677547\n",
      "PT\t 0.3877551020408163\n",
      "\n",
      "For the entire data set:\n",
      "Status\t% Family\n",
      "FT\t 0.5764108601280259\n",
      "PT\t 0.4642184557438795\n"
     ]
    }
   ],
   "source": [
    "print(\"For the lowest income range:\")\n",
    "print(\"Status\\t% Family\")\n",
    "for status in set(temp_df['Status']):\n",
    "    total = len(temp_df[temp_df['Status'] == status])\n",
    "    print(status + \"\\t\", len(temp_df[(temp_df['Family'] == 1) & (temp_df['Status'] == status)]) / total)\n",
    "\n",
    "print(\"\\nFor the entire data set:\")\n",
    "print(\"Status\\t% Family\")\n",
    "for status in set(SMTO_df['Status']):\n",
    "    total = len(SMTO_df[SMTO_df['Status'] == status])\n",
    "    print(status + \"\\t\", len(SMTO_df[(SMTO_df['Family'] == 1) & (SMTO_df['Status'] == status)]) / total)"
   ]
  },
  {
   "cell_type": "markdown",
   "metadata": {},
   "source": [
    "As we can see, enrolment status is not a good indicator for a students' living arrangements for students in this particular range or for the sample as a whole.\n",
    "\n",
    "In conclusion, it does not seem that household income level is not a very useful predictor of students' living arrangements in isolation.\n",
    "\n",
    "### Vehicle Information\n",
    "\n",
    "Here we check how vehicle and licence ownership are correlated with living arrangement. First, let's see how the number of cars owned can help predict whether a student is living with their family/parents:"
   ]
  },
  {
   "cell_type": "code",
   "execution_count": 12,
   "metadata": {
    "scrolled": true
   },
   "outputs": [
    {
     "name": "stdout",
     "output_type": "stream",
     "text": [
      "% of students with 0 cars who live with Family/Parents: 0.14245187436676798\n",
      "% of students with 1 cars who live with Family/Parents: 0.6631578947368421\n",
      "% of students with 2 cars who live with Family/Parents: 0.8796769851951548\n",
      "% of students with 3 cars who live with Family/Parents: 0.9233511586452763\n",
      "% of students with 4 cars who live with Family/Parents: 0.9212598425196851\n",
      "% of students with 5 cars who live with Family/Parents: 0.9245283018867925\n",
      "% of students with 6 cars who live with Family/Parents: 1.0\n",
      "% of students with 7 cars who live with Family/Parents: 1.0\n",
      "% of students with 8 cars who live with Family/Parents: 1.0\n",
      "% of students with 9 cars who live with Family/Parents: 0.5\n"
     ]
    }
   ],
   "source": [
    "car_nums = set(SMTO_df['Cars'])\n",
    "for i in car_nums:\n",
    "    print(\"% of students with \" + str(i) + \" cars who live with Family/Parents:\", end=' ')\n",
    "    car_percent = ((SMTO_df['Cars'] == i) & (SMTO_df['Family'] == 1)).sum()/(SMTO_df['Cars'] == i).sum()\n",
    "    print(car_percent)"
   ]
  },
  {
   "cell_type": "markdown",
   "metadata": {},
   "source": [
    "The more cars a person has, the more likely they are living with their families. Students with 2 or more cars are probably living at home, while students who do not own any cars are most likely living without their families. \n",
    "\n",
    "Now let's look at licence ownership:"
   ]
  },
  {
   "cell_type": "code",
   "execution_count": 13,
   "metadata": {},
   "outputs": [
    {
     "data": {
      "text/plain": [
       "1    8796\n",
       "0    5857\n",
       "Name: Licence, dtype: int64"
      ]
     },
     "execution_count": 13,
     "metadata": {},
     "output_type": "execute_result"
    }
   ],
   "source": [
    "SMTO_df['Licence'].value_counts()"
   ]
  },
  {
   "cell_type": "code",
   "execution_count": 14,
   "metadata": {},
   "outputs": [
    {
     "name": "stdout",
     "output_type": "stream",
     "text": [
      "% of students with Driving_Licence = TRUE who live with Family/Parents: 0.6158442888850948\n",
      "% of students with Driving_Licence = FALSE who live with Family/Parents: 0.5366075488858572\n"
     ]
    }
   ],
   "source": [
    "licence = set(SMTO_df['Licence'])\n",
    "for i in licence:\n",
    "    if i == 0:\n",
    "        temp = 'TRUE'\n",
    "    else:\n",
    "        temp = 'FALSE'\n",
    "    print(\"% of students with Driving_Licence = \" + temp + \" who live with Family/Parents:\", end=' ')\n",
    "    licence_percent = ((SMTO_df['Licence'] == i) & (SMTO_df['Family'] == 1)).sum()/(SMTO_df['Licence'] == i).sum()\n",
    "    print(licence_percent)"
   ]
  },
  {
   "cell_type": "markdown",
   "metadata": {},
   "source": [
    "Drivers' licence ownership in isolation does not accurately predict living with family.\n",
    "\n",
    "It would make sense that most students that does not have a drivers' licence but whose household owns at least one car are libing with their family/parents. Let us check if this is true:"
   ]
  },
  {
   "cell_type": "code",
   "execution_count": 15,
   "metadata": {},
   "outputs": [
    {
     "name": "stdout",
     "output_type": "stream",
     "text": [
      "% of students that own at least a car, do not have a licence, and live at home:\n",
      "0.8877020785219399\n"
     ]
    }
   ],
   "source": [
    "print('% of students that own at least a car, do not have a licence, and live at home:')\n",
    "print(((SMTO_df['Cars'] > 0) & (SMTO_df['Family'] == 1) & (SMTO_df['Licence'] == 0)).sum()/((SMTO_df['Cars'] > 0) & (SMTO_df['Licence'] == 0)).sum())"
   ]
  },
  {
   "cell_type": "markdown",
   "metadata": {},
   "source": [
    "Indeed, students that own at least one car but who do not have a licence are most likely living at home.\n",
    "\n",
    "Finally, let us see if enrolment status (full-time vs. part-time) in conjunction with vehicle ownership better predicts living arrangement."
   ]
  },
  {
   "cell_type": "code",
   "execution_count": 16,
   "metadata": {},
   "outputs": [
    {
     "name": "stdout",
     "output_type": "stream",
     "text": [
      "% of Full-time students who own at least one car and live at home:\n",
      "0.8039347194276771\n",
      "\n",
      "% of Part-time students who own at least one car and live at home:\n",
      "0.5595854922279793\n"
     ]
    }
   ],
   "source": [
    "print('% of Full-time students who own at least one car and live at home:')\n",
    "print(((SMTO_df['Cars'] > 0) & (SMTO_df['Family'] == 1) & (SMTO_df['Status'] == 'FT')).sum()/((SMTO_df['Cars'] > 0) & (SMTO_df['Status'] == 'FT')).sum())\n",
    "print()\n",
    "print('% of Part-time students who own at least one car and live at home:')\n",
    "print(((SMTO_df['Cars'] > 0) & (SMTO_df['Family'] == 1) & (SMTO_df['Status'] == 'PT')).sum()/((SMTO_df['Cars'] > 0) & (SMTO_df['Status'] == 'PT')).sum())"
   ]
  },
  {
   "cell_type": "markdown",
   "metadata": {},
   "source": [
    "Full-time students who own at least one car are a lot more likely to live with their families than part-time students that own at least one car. This might be connected to the students' socioeconomic status, or simply that full-time students are more likely to be living at home."
   ]
  },
  {
   "cell_type": "markdown",
   "metadata": {},
   "source": [
    "## Predicting Level of Study\n",
    "\n",
    "We must also label students based on whether they are first-year undergrads, upper-year undergrads, grads, or other.\n",
    "\n",
    "### Age\n",
    "\n",
    "Age is the most obvious factor which can be used to predict level of study. Let us see the proportion of students who are first-year undergrad from each age."
   ]
  },
  {
   "cell_type": "markdown",
   "metadata": {},
   "source": [
    "Most 17 and 18 year-olds are indeed in their First-year of Undergrad education. We can see that there are various outliers in both ends of the age range.\n",
    "\n",
    "Now let's check upper-year undergrads:"
   ]
  },
  {
   "cell_type": "code",
   "execution_count": 17,
   "metadata": {},
   "outputs": [
    {
     "name": "stdout",
     "output_type": "stream",
     "text": [
      "Percentage of 0 year-olds in Other Undergrad: 1.0\n",
      "Percentage of 2 year-olds in Other Undergrad: 1.0\n",
      "Percentage of 3 year-olds in Other Undergrad: 1.0\n",
      "Percentage of 4 year-olds in Other Undergrad: 0.0\n",
      "Percentage of 5 year-olds in Other Undergrad: 0.0\n",
      "Percentage of 15 year-olds in Other Undergrad: 1.0\n",
      "Percentage of 16 year-olds in Other Undergrad: 1.0\n",
      "Percentage of 17 year-olds in Other Undergrad: 1.0\n",
      "Percentage of 18 year-olds in Other Undergrad: 0.99795605518651\n",
      "Percentage of 19 year-olds in Other Undergrad: 0.9994314951677089\n",
      "Percentage of 20 year-olds in Other Undergrad: 0.979948586118252\n",
      "Percentage of 21 year-olds in Other Undergrad: 0.9552319309600863\n",
      "Percentage of 22 year-olds in Other Undergrad: 0.7913561847988078\n",
      "Percentage of 23 year-olds in Other Undergrad: 0.5969664138678223\n",
      "Percentage of 24 year-olds in Other Undergrad: 0.5156037991858887\n",
      "Percentage of 25 year-olds in Other Undergrad: 0.442572741194487\n",
      "Percentage of 26 year-olds in Other Undergrad: 0.42714570858283435\n",
      "Percentage of 27 year-olds in Other Undergrad: 0.3524590163934426\n",
      "Percentage of 28 year-olds in Other Undergrad: 0.3425076452599388\n",
      "Percentage of 29 year-olds in Other Undergrad: 0.3041825095057034\n",
      "Percentage of 30 year-olds in Other Undergrad: 0.3277310924369748\n",
      "Percentage of 31 year-olds in Other Undergrad: 0.36018957345971564\n",
      "Percentage of 32 year-olds in Other Undergrad: 0.2625\n",
      "Percentage of 33 year-olds in Other Undergrad: 0.38016528925619836\n",
      "Percentage of 34 year-olds in Other Undergrad: 0.36363636363636365\n",
      "Percentage of 35 year-olds in Other Undergrad: 0.42045454545454547\n",
      "Percentage of 36 year-olds in Other Undergrad: 0.4050632911392405\n",
      "Percentage of 37 year-olds in Other Undergrad: 0.3108108108108108\n",
      "Percentage of 38 year-olds in Other Undergrad: 0.25\n",
      "Percentage of 39 year-olds in Other Undergrad: 0.46511627906976744\n",
      "Percentage of 40 year-olds in Other Undergrad: 0.2711864406779661\n",
      "Percentage of 41 year-olds in Other Undergrad: 0.38095238095238093\n",
      "Percentage of 42 year-olds in Other Undergrad: 0.47058823529411764\n",
      "Percentage of 43 year-olds in Other Undergrad: 0.42857142857142855\n",
      "Percentage of 44 year-olds in Other Undergrad: 0.5185185185185185\n",
      "Percentage of 45 year-olds in Other Undergrad: 0.3939393939393939\n",
      "Percentage of 46 year-olds in Other Undergrad: 0.3\n",
      "Percentage of 47 year-olds in Other Undergrad: 0.41379310344827586\n",
      "Percentage of 48 year-olds in Other Undergrad: 0.6666666666666666\n",
      "Percentage of 49 year-olds in Other Undergrad: 0.5454545454545454\n",
      "Percentage of 50 year-olds in Other Undergrad: 0.6111111111111112\n",
      "Percentage of 51 year-olds in Other Undergrad: 0.5357142857142857\n",
      "Percentage of 52 year-olds in Other Undergrad: 0.47368421052631576\n",
      "Percentage of 53 year-olds in Other Undergrad: 0.4\n",
      "Percentage of 54 year-olds in Other Undergrad: 0.35294117647058826\n",
      "Percentage of 55 year-olds in Other Undergrad: 0.5652173913043478\n",
      "Percentage of 56 year-olds in Other Undergrad: 0.2727272727272727\n",
      "Percentage of 57 year-olds in Other Undergrad: 0.6111111111111112\n",
      "Percentage of 58 year-olds in Other Undergrad: 0.6666666666666666\n",
      "Percentage of 59 year-olds in Other Undergrad: 0.5555555555555556\n",
      "Percentage of 60 year-olds in Other Undergrad: 0.7647058823529411\n",
      "Percentage of 61 year-olds in Other Undergrad: 0.5\n",
      "Percentage of 62 year-olds in Other Undergrad: 0.5555555555555556\n",
      "Percentage of 63 year-olds in Other Undergrad: 0.6666666666666666\n",
      "Percentage of 64 year-olds in Other Undergrad: 1.0\n",
      "Percentage of 65 year-olds in Other Undergrad: 0.0\n",
      "Percentage of 66 year-olds in Other Undergrad: 0.2222222222222222\n",
      "Percentage of 67 year-olds in Other Undergrad: 0.8\n",
      "Percentage of 68 year-olds in Other Undergrad: 1.0\n",
      "Percentage of 70 year-olds in Other Undergrad: 1.0\n",
      "Percentage of 71 year-olds in Other Undergrad: 1.0\n",
      "Percentage of 72 year-olds in Other Undergrad: 1.0\n",
      "Percentage of 73 year-olds in Other Undergrad: 0.5\n",
      "Percentage of 75 year-olds in Other Undergrad: 0.0\n",
      "Percentage of 76 year-olds in Other Undergrad: 1.0\n",
      "Percentage of 78 year-olds in Other Undergrad: 1.0\n",
      "Percentage of 81 year-olds in Other Undergrad: 1.0\n",
      "Percentage of 86 year-olds in Other Undergrad: 1.0\n",
      "Percentage of 99 year-olds in Other Undergrad: 1.0\n"
     ]
    },
    {
     "data": {
      "image/png": "[encoded data removed]",
      "text/plain": [
       "<Figure size 432x288 with 1 Axes>"
      ]
     },
     "metadata": {
      "needs_background": "light"
     },
     "output_type": "display_data"
    }
   ],
   "source": [
    "ages = set(SMTO_df['Age'])\n",
    "percent_list = []\n",
    "for i in ages:\n",
    "    print(\"Percentage of \" + str(i) + \" year-olds in Other Undergrad: \", end='')\n",
    "    age_percent = ((SMTO_df['Age'] == i) & (SMTO_df['Level'] == 'UG')).sum()/(SMTO_df['Age'] == i).sum()\n",
    "    print(age_percent)\n",
    "    percent_list.append(age_percent)\n",
    "\n",
    "plt.bar(list(ages), percent_list)\n",
    "plt.xlabel('Age')\n",
    "plt.ylabel('Percentage')\n",
    "plt.title('Other Undergrads')\n",
    "plt.show()"
   ]
  },
  {
   "cell_type": "markdown",
   "metadata": {},
   "source": [
    "Most respondents between the ages of 19 and 22 correspond to upper-year Undergraduate students. There are again many outliers at both ends of the age range.\n",
    "\n",
    "Moving on to graduate students:"
   ]
  },
  {
   "cell_type": "code",
   "execution_count": 18,
   "metadata": {},
   "outputs": [
    {
     "name": "stdout",
     "output_type": "stream",
     "text": [
      "Percentage of 0 year-olds in GRAD: 0.0\n",
      "Percentage of 2 year-olds in GRAD: 0.0\n",
      "Percentage of 3 year-olds in GRAD: 0.0\n",
      "Percentage of 4 year-olds in GRAD: 1.0\n",
      "Percentage of 5 year-olds in GRAD: 1.0\n",
      "Percentage of 15 year-olds in GRAD: 0.0\n",
      "Percentage of 16 year-olds in GRAD: 0.0\n",
      "Percentage of 17 year-olds in GRAD: 0.0\n",
      "Percentage of 18 year-olds in GRAD: 0.002043944813490036\n",
      "Percentage of 19 year-olds in GRAD: 0.0005685048322910744\n",
      "Percentage of 20 year-olds in GRAD: 0.02005141388174807\n",
      "Percentage of 21 year-olds in GRAD: 0.0447680690399137\n",
      "Percentage of 22 year-olds in GRAD: 0.20864381520119224\n",
      "Percentage of 23 year-olds in GRAD: 0.40303358613217766\n",
      "Percentage of 24 year-olds in GRAD: 0.4843962008141113\n",
      "Percentage of 25 year-olds in GRAD: 0.557427258805513\n",
      "Percentage of 26 year-olds in GRAD: 0.5728542914171657\n",
      "Percentage of 27 year-olds in GRAD: 0.6475409836065574\n",
      "Percentage of 28 year-olds in GRAD: 0.6574923547400612\n",
      "Percentage of 29 year-olds in GRAD: 0.6958174904942965\n",
      "Percentage of 30 year-olds in GRAD: 0.6722689075630253\n",
      "Percentage of 31 year-olds in GRAD: 0.6398104265402843\n",
      "Percentage of 32 year-olds in GRAD: 0.7375\n",
      "Percentage of 33 year-olds in GRAD: 0.6198347107438017\n",
      "Percentage of 34 year-olds in GRAD: 0.6363636363636364\n",
      "Percentage of 35 year-olds in GRAD: 0.5795454545454546\n",
      "Percentage of 36 year-olds in GRAD: 0.5949367088607594\n",
      "Percentage of 37 year-olds in GRAD: 0.6891891891891891\n",
      "Percentage of 38 year-olds in GRAD: 0.75\n",
      "Percentage of 39 year-olds in GRAD: 0.5348837209302325\n",
      "Percentage of 40 year-olds in GRAD: 0.7288135593220338\n",
      "Percentage of 41 year-olds in GRAD: 0.6190476190476191\n",
      "Percentage of 42 year-olds in GRAD: 0.5294117647058824\n",
      "Percentage of 43 year-olds in GRAD: 0.5714285714285714\n",
      "Percentage of 44 year-olds in GRAD: 0.48148148148148145\n",
      "Percentage of 45 year-olds in GRAD: 0.6060606060606061\n",
      "Percentage of 46 year-olds in GRAD: 0.7\n",
      "Percentage of 47 year-olds in GRAD: 0.5862068965517241\n",
      "Percentage of 48 year-olds in GRAD: 0.3333333333333333\n",
      "Percentage of 49 year-olds in GRAD: 0.45454545454545453\n",
      "Percentage of 50 year-olds in GRAD: 0.3888888888888889\n",
      "Percentage of 51 year-olds in GRAD: 0.4642857142857143\n",
      "Percentage of 52 year-olds in GRAD: 0.5263157894736842\n",
      "Percentage of 53 year-olds in GRAD: 0.6\n",
      "Percentage of 54 year-olds in GRAD: 0.6470588235294118\n",
      "Percentage of 55 year-olds in GRAD: 0.43478260869565216\n",
      "Percentage of 56 year-olds in GRAD: 0.7272727272727273\n",
      "Percentage of 57 year-olds in GRAD: 0.3888888888888889\n",
      "Percentage of 58 year-olds in GRAD: 0.3333333333333333\n",
      "Percentage of 59 year-olds in GRAD: 0.4444444444444444\n",
      "Percentage of 60 year-olds in GRAD: 0.23529411764705882\n",
      "Percentage of 61 year-olds in GRAD: 0.5\n",
      "Percentage of 62 year-olds in GRAD: 0.4444444444444444\n",
      "Percentage of 63 year-olds in GRAD: 0.3333333333333333\n",
      "Percentage of 64 year-olds in GRAD: 0.0\n",
      "Percentage of 65 year-olds in GRAD: 1.0\n",
      "Percentage of 66 year-olds in GRAD: 0.7777777777777778\n",
      "Percentage of 67 year-olds in GRAD: 0.2\n",
      "Percentage of 68 year-olds in GRAD: 0.0\n",
      "Percentage of 70 year-olds in GRAD: 0.0\n",
      "Percentage of 71 year-olds in GRAD: 0.0\n",
      "Percentage of 72 year-olds in GRAD: 0.0\n",
      "Percentage of 73 year-olds in GRAD: 0.5\n",
      "Percentage of 75 year-olds in GRAD: 1.0\n",
      "Percentage of 76 year-olds in GRAD: 0.0\n",
      "Percentage of 78 year-olds in GRAD: 0.0\n",
      "Percentage of 81 year-olds in GRAD: 0.0\n",
      "Percentage of 86 year-olds in GRAD: 0.0\n",
      "Percentage of 99 year-olds in GRAD: 0.0\n"
     ]
    },
    {
     "data": {
      "image/png": "[encoded data removed]",
      "text/plain": [
       "<Figure size 432x288 with 1 Axes>"
      ]
     },
     "metadata": {
      "needs_background": "light"
     },
     "output_type": "display_data"
    }
   ],
   "source": [
    "ages = set(SMTO_df['Age'])\n",
    "percent_list = []\n",
    "for i in ages:\n",
    "    print(\"Percentage of \" + str(i) + \" year-olds in GRAD: \", end='')\n",
    "    age_percent = ((SMTO_df['Age'] == i) & (SMTO_df['Level'] == 'Grad')).sum()/(SMTO_df['Age'] == i).sum()\n",
    "    print(age_percent)\n",
    "    percent_list.append(age_percent)\n",
    "\n",
    "plt.bar(list(ages),percent_list)\n",
    "plt.xlabel('Age')\n",
    "plt.ylabel('Percentage')\n",
    "plt.title('Grads')\n",
    "plt.show()"
   ]
  },
  {
   "cell_type": "markdown",
   "metadata": {},
   "source": [
    "Around the age of 27 years, most respondents begin to identify as Graduate students.\n",
    "\n",
    "Finally, let us look at those students whose status was 'Other':"
   ]
  },
  {
   "cell_type": "markdown",
   "metadata": {},
   "source": [
    "The percentage of repondents who claim to be studying \"Other\" forms of education is very evenly distributed among the age range. Maybe a little lower around the 17-25 years.\n",
    "\n",
    "## Segmentation Methods\n",
    "\n",
    "There are several options we can consider to segment the TTS data:\n",
    "\n",
    "1. Apply rules to TTS data based on SMTO data. For instance, all students who live with children under 18 are said to be living with their family.\n",
    "2. Randomly assigning segments to TTS data based on a weighted probability distribution of similar students from the SMTO data.\n",
    "3. Some combination of 1 and 2.\n",
    "4. Change the segmentation approach so that the information is implictly available (e.g. replace \"living with family\" segments with \"living with 1+ children or 2+ adults\")\n",
    "5. Use a machine learning approach such as clustering on the samples and compare results to establish a common segmentation approach.\n",
    "\n",
    "Upon discussing these options, we decided to use a machine learning algorthm to classify students from the TTS data according to living arrangement. That is our next step."
   ]
  }
 ],
 "metadata": {
  "kernelspec": {
   "display_name": "Python 3",
   "language": "python",
   "name": "python3"
  },
  "language_info": {
   "codemirror_mode": {
    "name": "ipython",
    "version": 3
   },
   "file_extension": ".py",
   "mimetype": "text/x-python",
   "name": "python",
   "nbconvert_exporter": "python",
   "pygments_lexer": "ipython3",
   "version": "3.7.6"
  }
 },
 "nbformat": 4,
 "nbformat_minor": 2
}
