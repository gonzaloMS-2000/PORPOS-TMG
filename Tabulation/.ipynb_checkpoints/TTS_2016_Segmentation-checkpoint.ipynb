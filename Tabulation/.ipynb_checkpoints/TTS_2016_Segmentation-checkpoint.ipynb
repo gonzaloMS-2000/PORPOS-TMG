{
 "cells": [
  {
   "cell_type": "markdown",
   "metadata": {},
   "source": [
    "# 2016 TTS Survey Data - Segmentation\n",
    "\n",
    "## Background and Data\n",
    "\n",
    "In this notebook, we begin thinking about labelling the entries in the TTS survey data into segments, as was done for SMTO data. Note that this file uses the filtered dataset, where we have attempted to remove entries with missing information and those who are not post-secondary students."
   ]
  },
  {
   "cell_type": "code",
   "execution_count": 1,
   "metadata": {},
   "outputs": [],
   "source": [
    "import pandas as pd\n",
    "import matplotlib\n",
    "import matplotlib.pyplot as plt"
   ]
  },
  {
   "cell_type": "code",
   "execution_count": 2,
   "metadata": {},
   "outputs": [
    {
     "data": {
      "text/html": [
       "<div>\n",
       "<style scoped>\n",
       "    .dataframe tbody tr th:only-of-type {\n",
       "        vertical-align: middle;\n",
       "    }\n",
       "\n",
       "    .dataframe tbody tr th {\n",
       "        vertical-align: top;\n",
       "    }\n",
       "\n",
       "    .dataframe thead th {\n",
       "        text-align: right;\n",
       "    }\n",
       "</style>\n",
       "<table border=\"1\" class=\"dataframe\">\n",
       "  <thead>\n",
       "    <tr style=\"text-align: right;\">\n",
       "      <th></th>\n",
       "      <th>HomeZone</th>\n",
       "      <th>SchoolZone</th>\n",
       "      <th>Distance</th>\n",
       "      <th>SchoolCode</th>\n",
       "      <th>Age</th>\n",
       "      <th>Sex</th>\n",
       "      <th>License</th>\n",
       "      <th>Occupation</th>\n",
       "      <th>EmploymentStatus</th>\n",
       "      <th>StudentStatus</th>\n",
       "      <th>...</th>\n",
       "      <th>Adults</th>\n",
       "      <th>Children</th>\n",
       "      <th>ExpansionFactor</th>\n",
       "      <th>ModeTakenToSchool</th>\n",
       "      <th>TripToSchoolTime</th>\n",
       "      <th>AutoTravelTime</th>\n",
       "      <th>TransitTravelTime</th>\n",
       "      <th>tivtt</th>\n",
       "      <th>WalkingTime</th>\n",
       "      <th>WaitingTime</th>\n",
       "    </tr>\n",
       "  </thead>\n",
       "  <tbody>\n",
       "    <tr>\n",
       "      <th>0</th>\n",
       "      <td>264</td>\n",
       "      <td>25</td>\n",
       "      <td>5801.714</td>\n",
       "      <td>9244</td>\n",
       "      <td>19</td>\n",
       "      <td>M</td>\n",
       "      <td>N</td>\n",
       "      <td>O</td>\n",
       "      <td>O</td>\n",
       "      <td>S</td>\n",
       "      <td>...</td>\n",
       "      <td>5</td>\n",
       "      <td>0</td>\n",
       "      <td>42.03</td>\n",
       "      <td>B</td>\n",
       "      <td>1300</td>\n",
       "      <td>11.615760</td>\n",
       "      <td>60.605938</td>\n",
       "      <td>32.576380</td>\n",
       "      <td>24.31781</td>\n",
       "      <td>3.711748</td>\n",
       "    </tr>\n",
       "    <tr>\n",
       "      <th>1</th>\n",
       "      <td>38</td>\n",
       "      <td>25</td>\n",
       "      <td>1529.490</td>\n",
       "      <td>9243</td>\n",
       "      <td>22</td>\n",
       "      <td>M</td>\n",
       "      <td>Y</td>\n",
       "      <td>S</td>\n",
       "      <td>P</td>\n",
       "      <td>S</td>\n",
       "      <td>...</td>\n",
       "      <td>2</td>\n",
       "      <td>0</td>\n",
       "      <td>21.01</td>\n",
       "      <td>W</td>\n",
       "      <td>1000</td>\n",
       "      <td>2.480557</td>\n",
       "      <td>24.588772</td>\n",
       "      <td>4.126601</td>\n",
       "      <td>18.90577</td>\n",
       "      <td>1.556401</td>\n",
       "    </tr>\n",
       "    <tr>\n",
       "      <th>2</th>\n",
       "      <td>1039</td>\n",
       "      <td>25</td>\n",
       "      <td>32200.970</td>\n",
       "      <td>9244</td>\n",
       "      <td>26</td>\n",
       "      <td>M</td>\n",
       "      <td>Y</td>\n",
       "      <td>O</td>\n",
       "      <td>O</td>\n",
       "      <td>S</td>\n",
       "      <td>...</td>\n",
       "      <td>5</td>\n",
       "      <td>1</td>\n",
       "      <td>16.17</td>\n",
       "      <td>D</td>\n",
       "      <td>700</td>\n",
       "      <td>65.384220</td>\n",
       "      <td>106.615743</td>\n",
       "      <td>49.900650</td>\n",
       "      <td>51.87509</td>\n",
       "      <td>4.840003</td>\n",
       "    </tr>\n",
       "    <tr>\n",
       "      <th>3</th>\n",
       "      <td>613</td>\n",
       "      <td>25</td>\n",
       "      <td>23502.050</td>\n",
       "      <td>9244</td>\n",
       "      <td>19</td>\n",
       "      <td>M</td>\n",
       "      <td>Y</td>\n",
       "      <td>O</td>\n",
       "      <td>O</td>\n",
       "      <td>S</td>\n",
       "      <td>...</td>\n",
       "      <td>4</td>\n",
       "      <td>0</td>\n",
       "      <td>44.06</td>\n",
       "      <td>B</td>\n",
       "      <td>645</td>\n",
       "      <td>48.753190</td>\n",
       "      <td>131.465220</td>\n",
       "      <td>98.223270</td>\n",
       "      <td>25.16745</td>\n",
       "      <td>8.074500</td>\n",
       "    </tr>\n",
       "    <tr>\n",
       "      <th>4</th>\n",
       "      <td>5129</td>\n",
       "      <td>5198</td>\n",
       "      <td>6428.893</td>\n",
       "      <td>9011</td>\n",
       "      <td>22</td>\n",
       "      <td>M</td>\n",
       "      <td>Y</td>\n",
       "      <td>O</td>\n",
       "      <td>O</td>\n",
       "      <td>S</td>\n",
       "      <td>...</td>\n",
       "      <td>4</td>\n",
       "      <td>0</td>\n",
       "      <td>110.40</td>\n",
       "      <td>B</td>\n",
       "      <td>840</td>\n",
       "      <td>14.465400</td>\n",
       "      <td>138.866278</td>\n",
       "      <td>105.854500</td>\n",
       "      <td>26.00103</td>\n",
       "      <td>7.010748</td>\n",
       "    </tr>\n",
       "  </tbody>\n",
       "</table>\n",
       "<p>5 rows × 22 columns</p>\n",
       "</div>"
      ],
      "text/plain": [
       "   HomeZone  SchoolZone   Distance SchoolCode  Age Sex License Occupation  \\\n",
       "0       264          25   5801.714       9244   19   M       N          O   \n",
       "1        38          25   1529.490       9243   22   M       Y          S   \n",
       "2      1039          25  32200.970       9244   26   M       Y          O   \n",
       "3       613          25  23502.050       9244   19   M       Y          O   \n",
       "4      5129        5198   6428.893       9011   22   M       Y          O   \n",
       "\n",
       "  EmploymentStatus StudentStatus  ...  Adults  Children  ExpansionFactor  \\\n",
       "0                O             S  ...       5         0            42.03   \n",
       "1                P             S  ...       2         0            21.01   \n",
       "2                O             S  ...       5         1            16.17   \n",
       "3                O             S  ...       4         0            44.06   \n",
       "4                O             S  ...       4         0           110.40   \n",
       "\n",
       "   ModeTakenToSchool  TripToSchoolTime AutoTravelTime  TransitTravelTime  \\\n",
       "0                  B              1300      11.615760          60.605938   \n",
       "1                  W              1000       2.480557          24.588772   \n",
       "2                  D               700      65.384220         106.615743   \n",
       "3                  B               645      48.753190         131.465220   \n",
       "4                  B               840      14.465400         138.866278   \n",
       "\n",
       "        tivtt  WalkingTime  WaitingTime  \n",
       "0   32.576380     24.31781     3.711748  \n",
       "1    4.126601     18.90577     1.556401  \n",
       "2   49.900650     51.87509     4.840003  \n",
       "3   98.223270     25.16745     8.074500  \n",
       "4  105.854500     26.00103     7.010748  \n",
       "\n",
       "[5 rows x 22 columns]"
      ]
     },
     "execution_count": 2,
     "metadata": {},
     "output_type": "execute_result"
    }
   ],
   "source": [
    "df = pd.read_csv('../Data/TTS_2016_Filtered.csv')\n",
    "df.head()"
   ]
  },
  {
   "cell_type": "markdown",
   "metadata": {},
   "source": [
    "Now, we are going to use this data to segment the respondents into the 13 categories. The labels used for each segment are listed in the table below:\n",
    "\n",
    "| Level | Full Time | | Part Time | |\n",
    "| --- | --- | --- | --- | --- |\n",
    "| | Family | Not | Family | Not |\n",
    "| First-year UG | 1 | 2 | 3 | 4 |\n",
    "| Upper-year UG | 5 | 6 | 7 | 8 |\n",
    "| Grad | 9 | 10 | 11 | 12 |\n",
    "| Other | 0 | 0 | 0 | 0 |\n",
    "\n",
    "To guide our segmentation, we will refer to the patterns from SMTO data."
   ]
  },
  {
   "cell_type": "code",
   "execution_count": 3,
   "metadata": {
    "scrolled": true
   },
   "outputs": [
    {
     "data": {
      "text/html": [
       "<div>\n",
       "<style scoped>\n",
       "    .dataframe tbody tr th:only-of-type {\n",
       "        vertical-align: middle;\n",
       "    }\n",
       "\n",
       "    .dataframe tbody tr th {\n",
       "        vertical-align: top;\n",
       "    }\n",
       "\n",
       "    .dataframe thead th {\n",
       "        text-align: right;\n",
       "    }\n",
       "</style>\n",
       "<table border=\"1\" class=\"dataframe\">\n",
       "  <thead>\n",
       "    <tr style=\"text-align: right;\">\n",
       "      <th></th>\n",
       "      <th>HHKey_</th>\n",
       "      <th>PsKey_</th>\n",
       "      <th>psage</th>\n",
       "      <th>psuniversityinvolvednumyears</th>\n",
       "      <th>personstatusgrad</th>\n",
       "      <th>personstatustime</th>\n",
       "      <th>hhlivingsituation</th>\n",
       "      <th>First-year</th>\n",
       "      <th>psmainmodefalltypicalaggr</th>\n",
       "      <th>HomeToMainCampusKM</th>\n",
       "      <th>Segment</th>\n",
       "      <th>hhsize</th>\n",
       "      <th>hhnumyoungerthan18</th>\n",
       "      <th>hhnumolderorequalto18</th>\n",
       "      <th>hhcarnumber</th>\n",
       "      <th>psdrivinglicenseownerflag</th>\n",
       "      <th>hhincomelevelshortname</th>\n",
       "    </tr>\n",
       "  </thead>\n",
       "  <tbody>\n",
       "    <tr>\n",
       "      <th>0</th>\n",
       "      <td>1</td>\n",
       "      <td>5</td>\n",
       "      <td>20</td>\n",
       "      <td>2.0</td>\n",
       "      <td>UG</td>\n",
       "      <td>FT</td>\n",
       "      <td>Live with family/parents</td>\n",
       "      <td>False</td>\n",
       "      <td>Local Transit</td>\n",
       "      <td>14.00</td>\n",
       "      <td>5</td>\n",
       "      <td>7</td>\n",
       "      <td>3</td>\n",
       "      <td>4</td>\n",
       "      <td>1</td>\n",
       "      <td>0</td>\n",
       "      <td>unknown</td>\n",
       "    </tr>\n",
       "    <tr>\n",
       "      <th>1</th>\n",
       "      <td>2</td>\n",
       "      <td>25908</td>\n",
       "      <td>25</td>\n",
       "      <td>3.0</td>\n",
       "      <td>Grad</td>\n",
       "      <td>FT</td>\n",
       "      <td>Live with partner</td>\n",
       "      <td>False</td>\n",
       "      <td>Walk</td>\n",
       "      <td>0.75</td>\n",
       "      <td>10</td>\n",
       "      <td>2</td>\n",
       "      <td>0</td>\n",
       "      <td>2</td>\n",
       "      <td>0</td>\n",
       "      <td>1</td>\n",
       "      <td>household_income_level__90000_119999</td>\n",
       "    </tr>\n",
       "    <tr>\n",
       "      <th>2</th>\n",
       "      <td>3</td>\n",
       "      <td>25363</td>\n",
       "      <td>23</td>\n",
       "      <td>5.0</td>\n",
       "      <td>UG</td>\n",
       "      <td>FT</td>\n",
       "      <td>Live with family/parents</td>\n",
       "      <td>False</td>\n",
       "      <td>Local Transit</td>\n",
       "      <td>29.50</td>\n",
       "      <td>5</td>\n",
       "      <td>4</td>\n",
       "      <td>0</td>\n",
       "      <td>4</td>\n",
       "      <td>1</td>\n",
       "      <td>1</td>\n",
       "      <td>unknown</td>\n",
       "    </tr>\n",
       "    <tr>\n",
       "      <th>3</th>\n",
       "      <td>4</td>\n",
       "      <td>25948</td>\n",
       "      <td>20</td>\n",
       "      <td>2.0</td>\n",
       "      <td>UG</td>\n",
       "      <td>FT</td>\n",
       "      <td>Live with roommates</td>\n",
       "      <td>False</td>\n",
       "      <td>Walk</td>\n",
       "      <td>0.75</td>\n",
       "      <td>6</td>\n",
       "      <td>4</td>\n",
       "      <td>0</td>\n",
       "      <td>4</td>\n",
       "      <td>0</td>\n",
       "      <td>1</td>\n",
       "      <td>unknown</td>\n",
       "    </tr>\n",
       "    <tr>\n",
       "      <th>4</th>\n",
       "      <td>5</td>\n",
       "      <td>25329</td>\n",
       "      <td>27</td>\n",
       "      <td>6.0</td>\n",
       "      <td>Grad</td>\n",
       "      <td>FT</td>\n",
       "      <td>Live with partner</td>\n",
       "      <td>False</td>\n",
       "      <td>Walk</td>\n",
       "      <td>0.75</td>\n",
       "      <td>10</td>\n",
       "      <td>2</td>\n",
       "      <td>0</td>\n",
       "      <td>2</td>\n",
       "      <td>0</td>\n",
       "      <td>1</td>\n",
       "      <td>household_income_level__30000_59999</td>\n",
       "    </tr>\n",
       "  </tbody>\n",
       "</table>\n",
       "</div>"
      ],
      "text/plain": [
       "   HHKey_  PsKey_  psage  psuniversityinvolvednumyears personstatusgrad  \\\n",
       "0       1       5     20                           2.0               UG   \n",
       "1       2   25908     25                           3.0             Grad   \n",
       "2       3   25363     23                           5.0               UG   \n",
       "3       4   25948     20                           2.0               UG   \n",
       "4       5   25329     27                           6.0             Grad   \n",
       "\n",
       "  personstatustime         hhlivingsituation  First-year  \\\n",
       "0               FT  Live with family/parents       False   \n",
       "1               FT         Live with partner       False   \n",
       "2               FT  Live with family/parents       False   \n",
       "3               FT       Live with roommates       False   \n",
       "4               FT         Live with partner       False   \n",
       "\n",
       "  psmainmodefalltypicalaggr  HomeToMainCampusKM  Segment  hhsize  \\\n",
       "0             Local Transit               14.00        5       7   \n",
       "1                      Walk                0.75       10       2   \n",
       "2             Local Transit               29.50        5       4   \n",
       "3                      Walk                0.75        6       4   \n",
       "4                      Walk                0.75       10       2   \n",
       "\n",
       "   hhnumyoungerthan18  hhnumolderorequalto18  hhcarnumber  \\\n",
       "0                   3                      4            1   \n",
       "1                   0                      2            0   \n",
       "2                   0                      4            1   \n",
       "3                   0                      4            0   \n",
       "4                   0                      2            0   \n",
       "\n",
       "   psdrivinglicenseownerflag                hhincomelevelshortname  \n",
       "0                          0                               unknown  \n",
       "1                          1  household_income_level__90000_119999  \n",
       "2                          1                               unknown  \n",
       "3                          1                               unknown  \n",
       "4                          1   household_income_level__30000_59999  "
      ]
     },
     "execution_count": 3,
     "metadata": {},
     "output_type": "execute_result"
    }
   ],
   "source": [
    "SMTO_df = pd.read_csv('../Data/SMTO_2015_Segmented.csv')\n",
    "SMTO_df.head()"
   ]
  },
  {
   "cell_type": "markdown",
   "metadata": {},
   "source": [
    "## Predicting Living Arrangment\n",
    "\n",
    "Let's attempt to estalish whether a student is living with their family.\n",
    "\n",
    "### Household Composition\n",
    "\n",
    "We assume any student whose household does not include any adults, except, possibly for the student themselves, are not living with their parents/family."
   ]
  },
  {
   "cell_type": "code",
   "execution_count": 4,
   "metadata": {},
   "outputs": [
    {
     "data": {
      "text/plain": [
       "False    8657\n",
       "True      473\n",
       "Name: NoOtherAdults, dtype: int64"
      ]
     },
     "execution_count": 4,
     "metadata": {},
     "output_type": "execute_result"
    }
   ],
   "source": [
    "df['NoOtherAdults'] = ((df['Age'] >= 18) & (df['Adults'] == 1)) | ((df['Age'] < 18) & (df['Adults'] == 0))\n",
    "df['NoOtherAdults'].value_counts()"
   ]
  },
  {
   "cell_type": "markdown",
   "metadata": {},
   "source": [
    "For students with other adults in the household thing are trickier. We need to identify whether the other adults are the students' parents/family or roommates/partner.\n",
    "\n",
    "First let's look only at students 18 or older. From the SMTO data, we can check how many of those who have children under 18 in the household are listed as living with family."
   ]
  },
  {
   "cell_type": "code",
   "execution_count": 5,
   "metadata": {},
   "outputs": [
    {
     "data": {
      "text/plain": [
       "Live with family/parents    0.867373\n",
       "Live with partner           0.073837\n",
       "Live with roommates         0.046810\n",
       "Live alone                  0.011981\n",
       "Name: hhlivingsituation, dtype: float64"
      ]
     },
     "execution_count": 5,
     "metadata": {},
     "output_type": "execute_result"
    }
   ],
   "source": [
    "temp = SMTO_df[(SMTO_df['psage'] >= 18) & (SMTO_df['hhnumyoungerthan18'] >= 1)]\n",
    "temp['hhlivingsituation'].value_counts(normalize=True)"
   ]
  },
  {
   "cell_type": "markdown",
   "metadata": {},
   "source": [
    "It seems that most students are 18 or over but have children under 18 in the household are living with family/parents, but not all. Perhaps seeing the number of adults for those who are vs. those who aren't can help."
   ]
  },
  {
   "cell_type": "code",
   "execution_count": 6,
   "metadata": {},
   "outputs": [
    {
     "name": "stdout",
     "output_type": "stream",
     "text": [
      "# Adults\t% Family\n",
      "1\t\t 0.3786407766990291\n",
      "2\t\t 0.5955223880597015\n",
      "3\t\t 0.9519792342634653\n",
      "4\t\t 0.9581339712918661\n",
      "5\t\t 0.9123376623376623\n",
      "6\t\t 0.8953488372093024\n",
      "7\t\t 0.8604651162790697\n",
      "8\t\t 0.6923076923076923\n",
      "9\t\t 0.3333333333333333\n",
      "10\t\t 0.25\n",
      "11\t\t 0.2\n",
      "14\t\t 0.0\n",
      "15\t\t 0.0\n"
     ]
    }
   ],
   "source": [
    "print(\"# Adults\\t% Family\")\n",
    "for numAdults in set(temp['hhnumolderorequalto18']):\n",
    "    total = len(temp[temp['hhnumolderorequalto18'] == numAdults])\n",
    "    print(str(numAdults) + \"\\t\\t\", len(temp[(temp['hhlivingsituation'] == 'Live with family/parents') & (temp['hhnumolderorequalto18'] == numAdults)]) / total)\n"
   ]
  },
  {
   "cell_type": "markdown",
   "metadata": {},
   "source": [
    "This shows mixed results for those with 1 or 2 adults in their household. For respondents with 3-8 adults in the household, the respondent was usually living with their family. For respondents with more than 8 adults, the respondents were usually not living with their family.\n",
    "\n",
    "Let's perform a similar check for number of children in the household."
   ]
  },
  {
   "cell_type": "code",
   "execution_count": 7,
   "metadata": {},
   "outputs": [
    {
     "name": "stdout",
     "output_type": "stream",
     "text": [
      "# Children\t% Family\n",
      "1\t\t 0.8626901521216973\n",
      "2\t\t 0.8632075471698113\n",
      "3\t\t 0.8181818181818182\n",
      "4\t\t 0.9545454545454546\n",
      "5\t\t 0.9090909090909091\n",
      "6\t\t 1.0\n",
      "7\t\t 1.0\n",
      "18\t\t 0.0\n"
     ]
    }
   ],
   "source": [
    "print(\"# Children\\t% Family\")\n",
    "for numChildren in set(temp['hhnumyoungerthan18']):\n",
    "    total = len(temp[temp['hhnumyoungerthan18'] == numChildren])\n",
    "    print(str(numChildren) + \"\\t\\t\", len(temp[(temp['hhlivingsituation'] == 'Live with family/parents') & (temp['hhnumyoungerthan18'] == numChildren)]) / total)"
   ]
  },
  {
   "cell_type": "markdown",
   "metadata": {},
   "source": [
    "For every number of children less than 8, students were very likely to be living with their family (especially for 4 or more children.\n",
    "\n",
    "It seems that household composition can be a very good indicator for whether a student is living with their family or not, in certain conditions.\n",
    "\n",
    "### Household Income\n",
    "\n",
    "Let's see whether income level can help predict living arrangement. Unfortunately, the income ranges used by SMTO and TTS are different. Therefore, only if this seems to be an excellent predictor of living arrangement should income range be considered.\n",
    "\n",
    "Here are the income levels reported:"
   ]
  },
  {
   "cell_type": "code",
   "execution_count": 8,
   "metadata": {},
   "outputs": [
    {
     "data": {
      "text/plain": [
       "household_income_level__i_dont_know      9081\n",
       "household_income_level__0_29999          2182\n",
       "household_income_level__30000_59999      1340\n",
       "household_income_level__60000_89999       971\n",
       "household_income_level__90000_119999      675\n",
       "household_income_level__120000_149999     377\n",
       "household_income_level__150000_179999     239\n",
       "household_income_level__240000_plus       160\n",
       "household_income_level__180000_209999     136\n",
       "household_income_level__210000_239999      65\n",
       "Name: hhincomelevelshortname, dtype: int64"
      ]
     },
     "execution_count": 8,
     "metadata": {},
     "output_type": "execute_result"
    }
   ],
   "source": [
    "SMTO_df = SMTO_df.replace({'hhincomelevelshortname': {'unknown': 'household_income_level__i_dont_know'}})\n",
    "SMTO_df['hhincomelevelshortname'].value_counts()"
   ]
  },
  {
   "cell_type": "code",
   "execution_count": 9,
   "metadata": {},
   "outputs": [
    {
     "name": "stdout",
     "output_type": "stream",
     "text": [
      "Income Range\t\t\t\t% Family\n",
      "household_income_level__240000_plus  \t 0.55625\n",
      "household_income_level__30000_59999  \t 0.5492537313432836\n",
      "household_income_level__90000_119999  \t 0.6488888888888888\n",
      "household_income_level__0_29999  \t 0.3446379468377635\n",
      "household_income_level__60000_89999  \t 0.6323377960865088\n",
      "household_income_level__150000_179999  \t 0.694560669456067\n",
      "household_income_level__120000_149999  \t 0.636604774535809\n",
      "household_income_level__i_dont_know  \t 0.592555885915648\n",
      "household_income_level__210000_239999  \t 0.6923076923076923\n",
      "household_income_level__180000_209999  \t 0.6397058823529411\n"
     ]
    }
   ],
   "source": [
    "print(\"Income Range\\t\\t\\t\\t% Family\")\n",
    "for income in set(SMTO_df['hhincomelevelshortname']):\n",
    "    total = len(SMTO_df[SMTO_df['hhincomelevelshortname'] == income])\n",
    "    print(income + \"  \\t\", len(SMTO_df[(SMTO_df['hhlivingsituation'] == 'Live with family/parents') & (SMTO_df['hhincomelevelshortname'] == income)]) / total)"
   ]
  },
  {
   "cell_type": "markdown",
   "metadata": {},
   "source": [
    "For the most part, income level is not a strong predictor of whether a students lives with their family or not. The income level with the greatest variation from the sample mean is the lowest one - students whose household income level was less than #30,000 were much less likely to be living with their family, at 34%. This is not surprising, since students living with their family  would include their family members' income in the household income.\n",
    "However, even this income level is not a reliable indicator of whether a student is living away from their family. Perhaps it will be a stronger indicator in combination with enrolment status."
   ]
  },
  {
   "cell_type": "code",
   "execution_count": 10,
   "metadata": {},
   "outputs": [
    {
     "name": "stdout",
     "output_type": "stream",
     "text": [
      "FT       0.939047\n",
      "PT       0.045371\n",
      "Other    0.015582\n",
      "Name: personstatustime, dtype: float64\n",
      "\n",
      "FT       0.905688\n",
      "PT       0.071588\n",
      "Other    0.022724\n",
      "Name: personstatustime, dtype: float64\n"
     ]
    }
   ],
   "source": [
    "temp_df = SMTO_df[SMTO_df['hhincomelevelshortname'] == 'household_income_level__0_29999']\n",
    "\n",
    "print(temp_df['personstatustime'].value_counts(normalize=True))\n",
    "print()\n",
    "print(SMTO_df['personstatustime'].value_counts(normalize=True))"
   ]
  },
  {
   "cell_type": "markdown",
   "metadata": {},
   "source": [
    "Important to note is that the distribution by enrolment status of students in the lowest household income level is similar to that of the entire sample."
   ]
  },
  {
   "cell_type": "code",
   "execution_count": 11,
   "metadata": {},
   "outputs": [
    {
     "name": "stdout",
     "output_type": "stream",
     "text": [
      "For the lowest income range:\n",
      "Status\t% Family\n",
      "FT\t 0.345046364080039\n",
      "Other\t 0.35294117647058826\n",
      "PT\t 0.3333333333333333\n",
      "\n",
      "For the entire data set:\n",
      "Status\t% Family\n",
      "FT\t 0.5733139956490211\n",
      "Other\t 0.40173410404624277\n",
      "PT\t 0.4614678899082569\n"
     ]
    }
   ],
   "source": [
    "print(\"For the lowest income range:\")\n",
    "print(\"Status\\t% Family\")\n",
    "for status in set(temp_df['personstatustime']):\n",
    "    total = len(temp_df[temp_df['personstatustime'] == status])\n",
    "    print(status + \"\\t\", len(temp_df[(temp_df['hhlivingsituation'] == 'Live with family/parents') & (temp_df['personstatustime'] == status)]) / total)\n",
    "\n",
    "print(\"\\nFor the entire data set:\")\n",
    "print(\"Status\\t% Family\")\n",
    "for status in set(SMTO_df['personstatustime']):\n",
    "    total = len(SMTO_df[SMTO_df['personstatustime'] == status])\n",
    "    print(status + \"\\t\", len(SMTO_df[(SMTO_df['hhlivingsituation'] == 'Live with family/parents') & (SMTO_df['personstatustime'] == status)]) / total)\n"
   ]
  },
  {
   "cell_type": "markdown",
   "metadata": {},
   "source": [
    "As we can see, enrolment status is not a good indicator for a students' living arrangements for students in this particular range or for the sample as a whole.\n",
    "\n",
    "In conclusion, it does not seem that household income level is not a very useful predictor of students' living arrangements in isolation.\n",
    "\n",
    "### Vehicle Information\n",
    "\n",
    "Here we check how vehicle and licence ownership are correlated with living arrangement. First, let's see how the number of cars owned can help predict whether a student is living with their family/parents:"
   ]
  },
  {
   "cell_type": "code",
   "execution_count": 12,
   "metadata": {
    "scrolled": true
   },
   "outputs": [
    {
     "name": "stdout",
     "output_type": "stream",
     "text": [
      "% of students with 0 cars who live with Family/Parents: 0.1424390243902439\n",
      "% of students with 1 cars who live with Family/Parents: 0.6523478627079385\n",
      "% of students with 2 cars who live with Family/Parents: 0.8690228690228691\n",
      "% of students with 3 cars who live with Family/Parents: 0.9156626506024096\n",
      "% of students with 4 cars who live with Family/Parents: 0.9104477611940298\n",
      "% of students with 5 cars who live with Family/Parents: 0.9152542372881356\n",
      "% of students with 6 cars who live with Family/Parents: 1.0\n",
      "% of students with 7 cars who live with Family/Parents: 1.0\n",
      "% of students with 8 cars who live with Family/Parents: 1.0\n",
      "% of students with 9 cars who live with Family/Parents: 0.5\n",
      "% of students with 12 cars who live with Family/Parents: 1.0\n"
     ]
    }
   ],
   "source": [
    "car_nums = set(SMTO_df['hhcarnumber'])\n",
    "for i in car_nums:\n",
    "    print(\"% of students with \" + str(i) + \" cars who live with Family/Parents:\", end=' ')\n",
    "    car_percent = ((SMTO_df['hhcarnumber'] == i) & (SMTO_df['hhlivingsituation'] == 'Live with family/parents')).sum()/(SMTO_df['hhcarnumber'] == i).sum()\n",
    "    print(car_percent)"
   ]
  },
  {
   "cell_type": "markdown",
   "metadata": {},
   "source": [
    "The more cars a person has, the more likely they are living with their families. Students with 2 or more cars are probably living at home, while students who do not own any cars are most likely living without their families. \n",
    "\n",
    "Now let's look at licence ownership:"
   ]
  },
  {
   "cell_type": "code",
   "execution_count": 13,
   "metadata": {},
   "outputs": [
    {
     "data": {
      "text/plain": [
       "1    9189\n",
       "0    6037\n",
       "Name: psdrivinglicenseownerflag, dtype: int64"
      ]
     },
     "execution_count": 13,
     "metadata": {},
     "output_type": "execute_result"
    }
   ],
   "source": [
    "SMTO_df['psdrivinglicenseownerflag'].value_counts()"
   ]
  },
  {
   "cell_type": "code",
   "execution_count": 14,
   "metadata": {},
   "outputs": [
    {
     "name": "stdout",
     "output_type": "stream",
     "text": [
      "% of students with Driving_Licence = TRUE who live with Family/Parents: 0.6099055822428359\n",
      "% of students with Driving_Licence = FALSE who live with Family/Parents: 0.5295461965393405\n"
     ]
    }
   ],
   "source": [
    "licence = set(SMTO_df['psdrivinglicenseownerflag'])\n",
    "for i in licence:\n",
    "    if i == 0:\n",
    "        temp = 'TRUE'\n",
    "    else:\n",
    "        temp = 'FALSE'\n",
    "    print(\"% of students with Driving_Licence = \" + temp + \" who live with Family/Parents:\", end=' ')\n",
    "    licence_percent = ((SMTO_df['psdrivinglicenseownerflag'] == i) & (SMTO_df['hhlivingsituation'] == 'Live with family/parents')).sum()/(SMTO_df['psdrivinglicenseownerflag'] == i).sum()\n",
    "    print(licence_percent)"
   ]
  },
  {
   "cell_type": "markdown",
   "metadata": {},
   "source": [
    "Drivers' licence ownership in isolation does not accurately predict living with family.\n",
    "\n",
    "It would make sense that most students that does not have a drivers' licence but whose household owns at least one car are libing with their family/parents. Let us check if this is true:"
   ]
  },
  {
   "cell_type": "code",
   "execution_count": 15,
   "metadata": {},
   "outputs": [
    {
     "name": "stdout",
     "output_type": "stream",
     "text": [
      "% of students that own at least a car, do not have a licence, and live at home:\n",
      "0.8811936936936937\n"
     ]
    }
   ],
   "source": [
    "print('% of students that own at least a car, do not have a licence, and live at home:')\n",
    "print(((SMTO_df['hhcarnumber'] > 0) & (SMTO_df['hhlivingsituation'] == 'Live with family/parents') & (SMTO_df['psdrivinglicenseownerflag'] == 0)).sum()/((SMTO_df['hhcarnumber'] > 0) & (SMTO_df['psdrivinglicenseownerflag'] == 0)).sum())"
   ]
  },
  {
   "cell_type": "markdown",
   "metadata": {},
   "source": [
    "Indeed, students that own at least one car but who do not have a licence are most likely living at home.\n",
    "\n",
    "Finally, let us see if enrolment status (full-time vs. part-time) in conjunction with vehicle ownership better predicts living arrangement."
   ]
  },
  {
   "cell_type": "code",
   "execution_count": 16,
   "metadata": {},
   "outputs": [
    {
     "name": "stdout",
     "output_type": "stream",
     "text": [
      "% of Full-time students who own at least one car and live at home:\n",
      "0.799206961119066\n",
      "\n",
      "% of Part-time students who own at least one car and live at home:\n",
      "0.5552763819095478\n"
     ]
    }
   ],
   "source": [
    "print('% of Full-time students who own at least one car and live at home:')\n",
    "print(((SMTO_df['hhcarnumber'] > 0) & (SMTO_df['hhlivingsituation'] == 'Live with family/parents') & (SMTO_df['personstatustime'] == 'FT')).sum()/((SMTO_df['hhcarnumber'] > 0) & (SMTO_df['personstatustime'] == 'FT')).sum())\n",
    "print()\n",
    "print('% of Part-time students who own at least one car and live at home:')\n",
    "print(((SMTO_df['hhcarnumber'] > 0) & (SMTO_df['hhlivingsituation'] == 'Live with family/parents') & (SMTO_df['personstatustime'] == 'PT')).sum()/((SMTO_df['hhcarnumber'] > 0) & (SMTO_df['personstatustime'] == 'PT')).sum())"
   ]
  },
  {
   "cell_type": "markdown",
   "metadata": {},
   "source": [
    "Full-time students who own at least one car are a lot more likely to live with their families than part-time students that own at least one car. This might be connected to the students' socioeconomic status, or simply that full-time students are more likely to be living at home."
   ]
  },
  {
   "cell_type": "markdown",
   "metadata": {},
   "source": [
    "## Predicting Level of Study\n",
    "\n",
    "We must also label students based on whether they are first-year undergrads, upper-year undergrads, grads, or other.\n",
    "\n",
    "### Age\n",
    "\n",
    "Age is the most obvious factor which can be used to predict level of study. Let us see the proportion of students who are first-year undergrad from each age."
   ]
  },
  {
   "cell_type": "code",
   "execution_count": 17,
   "metadata": {},
   "outputs": [
    {
     "name": "stdout",
     "output_type": "stream",
     "text": [
      "Percentage of 0 year-olds in First Year:  0.75\n",
      "Percentage of 2 year-olds in First Year:  0.0\n",
      "Percentage of 3 year-olds in First Year:  0.0\n",
      "Percentage of 4 year-olds in First Year:  0.0\n",
      "Percentage of 5 year-olds in First Year:  0.0\n",
      "Percentage of 15 year-olds in First Year:  1.0\n",
      "Percentage of 16 year-olds in First Year:  0.6666666666666666\n",
      "Percentage of 17 year-olds in First Year:  0.937007874015748\n",
      "Percentage of 18 year-olds in First Year:  0.8458083832335329\n",
      "Percentage of 19 year-olds in First Year:  0.22234574763757642\n",
      "Percentage of 20 year-olds in First Year:  0.09223057644110276\n",
      "Percentage of 21 year-olds in First Year:  0.0861067089276281\n",
      "Percentage of 22 year-olds in First Year:  0.07625272331154684\n",
      "Percentage of 23 year-olds in First Year:  0.07820646506777894\n",
      "Percentage of 24 year-olds in First Year:  0.07532467532467532\n",
      "Percentage of 25 year-olds in First Year:  0.08333333333333333\n",
      "Percentage of 26 year-olds in First Year:  0.06427221172022685\n",
      "Percentage of 27 year-olds in First Year:  0.08051948051948052\n",
      "Percentage of 28 year-olds in First Year:  0.08908045977011494\n",
      "Percentage of 29 year-olds in First Year:  0.054945054945054944\n",
      "Percentage of 30 year-olds in First Year:  0.078125\n",
      "Percentage of 31 year-olds in First Year:  0.07758620689655173\n",
      "Percentage of 32 year-olds in First Year:  0.06432748538011696\n",
      "Percentage of 33 year-olds in First Year:  0.07751937984496124\n",
      "Percentage of 34 year-olds in First Year:  0.0847457627118644\n",
      "Percentage of 35 year-olds in First Year:  0.09574468085106383\n",
      "Percentage of 36 year-olds in First Year:  0.08045977011494253\n",
      "Percentage of 37 year-olds in First Year:  0.16455696202531644\n",
      "Percentage of 38 year-olds in First Year:  0.01639344262295082\n",
      "Percentage of 39 year-olds in First Year:  0.1702127659574468\n",
      "Percentage of 40 year-olds in First Year:  0.046153846153846156\n",
      "Percentage of 41 year-olds in First Year:  0.12\n",
      "Percentage of 42 year-olds in First Year:  0.12195121951219512\n",
      "Percentage of 43 year-olds in First Year:  0.10416666666666667\n",
      "Percentage of 44 year-olds in First Year:  0.12903225806451613\n",
      "Percentage of 45 year-olds in First Year:  0.027777777777777776\n",
      "Percentage of 46 year-olds in First Year:  0.02857142857142857\n",
      "Percentage of 47 year-olds in First Year:  0.11764705882352941\n",
      "Percentage of 48 year-olds in First Year:  0.2222222222222222\n",
      "Percentage of 49 year-olds in First Year:  0.125\n",
      "Percentage of 50 year-olds in First Year:  0.16216216216216217\n",
      "Percentage of 51 year-olds in First Year:  0.034482758620689655\n",
      "Percentage of 52 year-olds in First Year:  0.09523809523809523\n",
      "Percentage of 53 year-olds in First Year:  0.0\n",
      "Percentage of 54 year-olds in First Year:  0.2\n",
      "Percentage of 55 year-olds in First Year:  0.08\n",
      "Percentage of 56 year-olds in First Year:  0.0\n",
      "Percentage of 57 year-olds in First Year:  0.05\n",
      "Percentage of 58 year-olds in First Year:  0.0625\n",
      "Percentage of 59 year-olds in First Year:  0.1111111111111111\n",
      "Percentage of 60 year-olds in First Year:  0.05555555555555555\n",
      "Percentage of 61 year-olds in First Year:  0.0\n",
      "Percentage of 62 year-olds in First Year:  0.1111111111111111\n",
      "Percentage of 63 year-olds in First Year:  0.3333333333333333\n",
      "Percentage of 64 year-olds in First Year:  0.0\n",
      "Percentage of 65 year-olds in First Year:  0.0\n",
      "Percentage of 66 year-olds in First Year:  0.1\n",
      "Percentage of 67 year-olds in First Year:  0.16666666666666666\n",
      "Percentage of 68 year-olds in First Year:  0.0\n",
      "Percentage of 70 year-olds in First Year:  1.0\n",
      "Percentage of 71 year-olds in First Year:  0.0\n",
      "Percentage of 72 year-olds in First Year:  0.0\n",
      "Percentage of 73 year-olds in First Year:  0.0\n",
      "Percentage of 75 year-olds in First Year:  0.0\n",
      "Percentage of 76 year-olds in First Year:  0.0\n",
      "Percentage of 77 year-olds in First Year:  0.0\n",
      "Percentage of 78 year-olds in First Year:  0.0\n",
      "Percentage of 81 year-olds in First Year:  0.0\n",
      "Percentage of 86 year-olds in First Year:  0.0\n",
      "Percentage of 99 year-olds in First Year:  0.0\n"
     ]
    },
    {
     "data": {
      "image/png": "[encoded data removed]",
      "text/plain": [
       "<Figure size 432x288 with 1 Axes>"
      ]
     },
     "metadata": {
      "needs_background": "light"
     },
     "output_type": "display_data"
    }
   ],
   "source": [
    "ages = set(SMTO_df['psage'])\n",
    "percent_list = []\n",
    "for i in ages:\n",
    "    print(\"Percentage of \" + str(i) + \" year-olds in First Year:  \", end='')\n",
    "    age_percent = ((SMTO_df['psage'] == i) & (SMTO_df['First-year']) & (SMTO_df['personstatusgrad'] == 'UG')).sum()/(SMTO_df['psage'] == i).sum()\n",
    "    print(age_percent)\n",
    "    percent_list.append(age_percent)\n",
    "\n",
    "plt.bar(list(ages),percent_list)\n",
    "plt.xlabel('Age')\n",
    "plt.ylabel('Percentage')\n",
    "plt.title('First-Year Undergrads')\n",
    "plt.show()"
   ]
  },
  {
   "cell_type": "markdown",
   "metadata": {},
   "source": [
    "Most 17 and 18 year-olds are indeed in their First-year of Undergrad education. We can see that there are various outliers in both ends of the age range.\n",
    "\n",
    "Now let's check upper-year undergrads:"
   ]
  },
  {
   "cell_type": "code",
   "execution_count": 18,
   "metadata": {},
   "outputs": [
    {
     "name": "stdout",
     "output_type": "stream",
     "text": [
      "Percentage of 0 year-olds in Other Undergrad: 0.25\n",
      "Percentage of 2 year-olds in Other Undergrad: 1.0\n",
      "Percentage of 3 year-olds in Other Undergrad: 1.0\n",
      "Percentage of 4 year-olds in Other Undergrad: 0.0\n",
      "Percentage of 5 year-olds in Other Undergrad: 0.0\n",
      "Percentage of 15 year-olds in Other Undergrad: 0.0\n",
      "Percentage of 16 year-olds in Other Undergrad: 0.3333333333333333\n",
      "Percentage of 17 year-olds in Other Undergrad: 0.03937007874015748\n",
      "Percentage of 18 year-olds in Other Undergrad: 0.1467065868263473\n",
      "Percentage of 19 year-olds in Other Undergrad: 0.7720956086714842\n",
      "Percentage of 20 year-olds in Other Undergrad: 0.8781954887218045\n",
      "Percentage of 21 year-olds in Other Undergrad: 0.8615953512942419\n",
      "Percentage of 22 year-olds in Other Undergrad: 0.7037037037037037\n",
      "Percentage of 23 year-olds in Other Undergrad: 0.502606882168926\n",
      "Percentage of 24 year-olds in Other Undergrad: 0.42467532467532465\n",
      "Percentage of 25 year-olds in Other Undergrad: 0.34502923976608185\n",
      "Percentage of 26 year-olds in Other Undergrad: 0.34593572778827975\n",
      "Percentage of 27 year-olds in Other Undergrad: 0.2571428571428571\n",
      "Percentage of 28 year-olds in Other Undergrad: 0.23563218390804597\n",
      "Percentage of 29 year-olds in Other Undergrad: 0.23809523809523808\n",
      "Percentage of 30 year-olds in Other Undergrad: 0.23828125\n",
      "Percentage of 31 year-olds in Other Undergrad: 0.25\n",
      "Percentage of 32 year-olds in Other Undergrad: 0.1871345029239766\n",
      "Percentage of 33 year-olds in Other Undergrad: 0.27906976744186046\n",
      "Percentage of 34 year-olds in Other Undergrad: 0.2542372881355932\n",
      "Percentage of 35 year-olds in Other Undergrad: 0.2978723404255319\n",
      "Percentage of 36 year-olds in Other Undergrad: 0.3103448275862069\n",
      "Percentage of 37 year-olds in Other Undergrad: 0.12658227848101267\n",
      "Percentage of 38 year-olds in Other Undergrad: 0.19672131147540983\n",
      "Percentage of 39 year-olds in Other Undergrad: 0.2553191489361702\n",
      "Percentage of 40 year-olds in Other Undergrad: 0.2153846153846154\n",
      "Percentage of 41 year-olds in Other Undergrad: 0.2\n",
      "Percentage of 42 year-olds in Other Undergrad: 0.2682926829268293\n",
      "Percentage of 43 year-olds in Other Undergrad: 0.2708333333333333\n",
      "Percentage of 44 year-olds in Other Undergrad: 0.3225806451612903\n",
      "Percentage of 45 year-olds in Other Undergrad: 0.3333333333333333\n",
      "Percentage of 46 year-olds in Other Undergrad: 0.22857142857142856\n",
      "Percentage of 47 year-olds in Other Undergrad: 0.23529411764705882\n",
      "Percentage of 48 year-olds in Other Undergrad: 0.3333333333333333\n",
      "Percentage of 49 year-olds in Other Undergrad: 0.375\n",
      "Percentage of 50 year-olds in Other Undergrad: 0.43243243243243246\n",
      "Percentage of 51 year-olds in Other Undergrad: 0.4827586206896552\n",
      "Percentage of 52 year-olds in Other Undergrad: 0.3333333333333333\n",
      "Percentage of 53 year-olds in Other Undergrad: 0.3333333333333333\n",
      "Percentage of 54 year-olds in Other Undergrad: 0.15\n",
      "Percentage of 55 year-olds in Other Undergrad: 0.44\n",
      "Percentage of 56 year-olds in Other Undergrad: 0.3333333333333333\n",
      "Percentage of 57 year-olds in Other Undergrad: 0.5\n",
      "Percentage of 58 year-olds in Other Undergrad: 0.4375\n",
      "Percentage of 59 year-olds in Other Undergrad: 0.4444444444444444\n",
      "Percentage of 60 year-olds in Other Undergrad: 0.6666666666666666\n",
      "Percentage of 61 year-olds in Other Undergrad: 0.42857142857142855\n",
      "Percentage of 62 year-olds in Other Undergrad: 0.4444444444444444\n",
      "Percentage of 63 year-olds in Other Undergrad: 0.3333333333333333\n",
      "Percentage of 64 year-olds in Other Undergrad: 0.75\n",
      "Percentage of 65 year-olds in Other Undergrad: 0.0\n",
      "Percentage of 66 year-olds in Other Undergrad: 0.1\n",
      "Percentage of 67 year-olds in Other Undergrad: 0.5\n",
      "Percentage of 68 year-olds in Other Undergrad: 1.0\n",
      "Percentage of 70 year-olds in Other Undergrad: 0.0\n",
      "Percentage of 71 year-olds in Other Undergrad: 1.0\n",
      "Percentage of 72 year-olds in Other Undergrad: 1.0\n",
      "Percentage of 73 year-olds in Other Undergrad: 0.3333333333333333\n",
      "Percentage of 75 year-olds in Other Undergrad: 0.0\n",
      "Percentage of 76 year-olds in Other Undergrad: 1.0\n",
      "Percentage of 77 year-olds in Other Undergrad: 0.0\n",
      "Percentage of 78 year-olds in Other Undergrad: 1.0\n",
      "Percentage of 81 year-olds in Other Undergrad: 1.0\n",
      "Percentage of 86 year-olds in Other Undergrad: 0.5\n",
      "Percentage of 99 year-olds in Other Undergrad: 1.0\n"
     ]
    },
    {
     "data": {
      "image/png": "[encoded data removed]",
      "text/plain": [
       "<Figure size 432x288 with 1 Axes>"
      ]
     },
     "metadata": {
      "needs_background": "light"
     },
     "output_type": "display_data"
    }
   ],
   "source": [
    "ages = set(SMTO_df['psage'])\n",
    "percent_list = []\n",
    "for i in ages:\n",
    "    print(\"Percentage of \" + str(i) + \" year-olds in Other Undergrad: \", end='')\n",
    "    age_percent = ((SMTO_df['psage'] == i) & (SMTO_df['personstatusgrad'] == 'UG') & ~(SMTO_df['First-year'])).sum()/(SMTO_df['psage'] == i).sum()\n",
    "    print(age_percent)\n",
    "    percent_list.append(age_percent)\n",
    "\n",
    "plt.bar(list(ages),percent_list)\n",
    "plt.xlabel('Age')\n",
    "plt.ylabel('Percentage')\n",
    "plt.title('Other Undergrads')\n",
    "plt.show()"
   ]
  },
  {
   "cell_type": "markdown",
   "metadata": {},
   "source": [
    "Most respondents between the ages of 19 and 22 correspond to upper-year Undergraduate students. There are again many outliers at both ends of the age range.\n",
    "\n",
    "Moving on to graduate students:"
   ]
  },
  {
   "cell_type": "code",
   "execution_count": 19,
   "metadata": {},
   "outputs": [
    {
     "name": "stdout",
     "output_type": "stream",
     "text": [
      "Percentage of 0 year-olds in GRAD: 0.0\n",
      "Percentage of 2 year-olds in GRAD: 0.0\n",
      "Percentage of 3 year-olds in GRAD: 0.0\n",
      "Percentage of 4 year-olds in GRAD: 0.5\n",
      "Percentage of 5 year-olds in GRAD: 1.0\n",
      "Percentage of 15 year-olds in GRAD: 0.0\n",
      "Percentage of 16 year-olds in GRAD: 0.0\n",
      "Percentage of 17 year-olds in GRAD: 0.0\n",
      "Percentage of 18 year-olds in GRAD: 0.001996007984031936\n",
      "Percentage of 19 year-olds in GRAD: 0.0005558643690939411\n",
      "Percentage of 20 year-olds in GRAD: 0.019548872180451128\n",
      "Percentage of 21 year-olds in GRAD: 0.044374009508716325\n",
      "Percentage of 22 year-olds in GRAD: 0.2047930283224401\n",
      "Percentage of 23 year-olds in GRAD: 0.3899895724713243\n",
      "Percentage of 24 year-olds in GRAD: 0.474025974025974\n",
      "Percentage of 25 year-olds in GRAD: 0.5409356725146199\n",
      "Percentage of 26 year-olds in GRAD: 0.5482041587901701\n",
      "Percentage of 27 year-olds in GRAD: 0.625974025974026\n",
      "Percentage of 28 year-olds in GRAD: 0.6293103448275862\n",
      "Percentage of 29 year-olds in GRAD: 0.684981684981685\n",
      "Percentage of 30 year-olds in GRAD: 0.63671875\n",
      "Percentage of 31 year-olds in GRAD: 0.603448275862069\n",
      "Percentage of 32 year-olds in GRAD: 0.7076023391812866\n",
      "Percentage of 33 year-olds in GRAD: 0.5891472868217055\n",
      "Percentage of 34 year-olds in GRAD: 0.6101694915254238\n",
      "Percentage of 35 year-olds in GRAD: 0.5531914893617021\n",
      "Percentage of 36 year-olds in GRAD: 0.5402298850574713\n",
      "Percentage of 37 year-olds in GRAD: 0.6455696202531646\n",
      "Percentage of 38 year-olds in GRAD: 0.639344262295082\n",
      "Percentage of 39 year-olds in GRAD: 0.48936170212765956\n",
      "Percentage of 40 year-olds in GRAD: 0.676923076923077\n",
      "Percentage of 41 year-olds in GRAD: 0.54\n",
      "Percentage of 42 year-olds in GRAD: 0.4634146341463415\n",
      "Percentage of 43 year-olds in GRAD: 0.5625\n",
      "Percentage of 44 year-olds in GRAD: 0.45161290322580644\n",
      "Percentage of 45 year-olds in GRAD: 0.5833333333333334\n",
      "Percentage of 46 year-olds in GRAD: 0.6\n",
      "Percentage of 47 year-olds in GRAD: 0.5588235294117647\n",
      "Percentage of 48 year-olds in GRAD: 0.3333333333333333\n",
      "Percentage of 49 year-olds in GRAD: 0.4166666666666667\n",
      "Percentage of 50 year-olds in GRAD: 0.3783783783783784\n",
      "Percentage of 51 year-olds in GRAD: 0.4482758620689655\n",
      "Percentage of 52 year-olds in GRAD: 0.47619047619047616\n",
      "Percentage of 53 year-olds in GRAD: 0.5\n",
      "Percentage of 54 year-olds in GRAD: 0.6\n",
      "Percentage of 55 year-olds in GRAD: 0.4\n",
      "Percentage of 56 year-olds in GRAD: 0.6666666666666666\n",
      "Percentage of 57 year-olds in GRAD: 0.35\n",
      "Percentage of 58 year-olds in GRAD: 0.3125\n",
      "Percentage of 59 year-olds in GRAD: 0.4444444444444444\n",
      "Percentage of 60 year-olds in GRAD: 0.2222222222222222\n",
      "Percentage of 61 year-olds in GRAD: 0.42857142857142855\n",
      "Percentage of 62 year-olds in GRAD: 0.4444444444444444\n",
      "Percentage of 63 year-olds in GRAD: 0.3333333333333333\n",
      "Percentage of 64 year-olds in GRAD: 0.0\n",
      "Percentage of 65 year-olds in GRAD: 1.0\n",
      "Percentage of 66 year-olds in GRAD: 0.7\n",
      "Percentage of 67 year-olds in GRAD: 0.16666666666666666\n",
      "Percentage of 68 year-olds in GRAD: 0.0\n",
      "Percentage of 70 year-olds in GRAD: 0.0\n",
      "Percentage of 71 year-olds in GRAD: 0.0\n",
      "Percentage of 72 year-olds in GRAD: 0.0\n",
      "Percentage of 73 year-olds in GRAD: 0.3333333333333333\n",
      "Percentage of 75 year-olds in GRAD: 1.0\n",
      "Percentage of 76 year-olds in GRAD: 0.0\n",
      "Percentage of 77 year-olds in GRAD: 0.0\n",
      "Percentage of 78 year-olds in GRAD: 0.0\n",
      "Percentage of 81 year-olds in GRAD: 0.0\n",
      "Percentage of 86 year-olds in GRAD: 0.0\n",
      "Percentage of 99 year-olds in GRAD: 0.0\n"
     ]
    },
    {
     "data": {
      "image/png": "[encoded data removed]",
      "text/plain": [
       "<Figure size 432x288 with 1 Axes>"
      ]
     },
     "metadata": {
      "needs_background": "light"
     },
     "output_type": "display_data"
    }
   ],
   "source": [
    "ages = set(SMTO_df['psage'])\n",
    "percent_list = []\n",
    "for i in ages:\n",
    "    print(\"Percentage of \" + str(i) + \" year-olds in GRAD: \", end='')\n",
    "    age_percent = ((SMTO_df['psage'] == i) & (SMTO_df['personstatusgrad'] == 'Grad')).sum()/(SMTO_df['psage'] == i).sum()\n",
    "    print(age_percent)\n",
    "    percent_list.append(age_percent)\n",
    "\n",
    "plt.bar(list(ages),percent_list)\n",
    "plt.xlabel('Age')\n",
    "plt.ylabel('Percentage')\n",
    "plt.title('Grads')\n",
    "plt.show()"
   ]
  },
  {
   "cell_type": "markdown",
   "metadata": {},
   "source": [
    "Around the age of 27 years, most respondents begin to identify as Graduate students.\n",
    "\n",
    "Finally, let us look at those students whose status was 'Other':"
   ]
  },
  {
   "cell_type": "code",
   "execution_count": 20,
   "metadata": {},
   "outputs": [
    {
     "name": "stdout",
     "output_type": "stream",
     "text": [
      "Percentage of 0 year-olds in Other: 0.0\n",
      "Percentage of 2 year-olds in Other: 0.0\n",
      "Percentage of 3 year-olds in Other: 0.0\n",
      "Percentage of 4 year-olds in Other: 0.5\n",
      "Percentage of 5 year-olds in Other: 0.0\n",
      "Percentage of 15 year-olds in Other: 0.0\n",
      "Percentage of 16 year-olds in Other: 0.0\n",
      "Percentage of 17 year-olds in Other: 0.023622047244094488\n",
      "Percentage of 18 year-olds in Other: 0.0054890219560878245\n",
      "Percentage of 19 year-olds in Other: 0.005002779321845469\n",
      "Percentage of 20 year-olds in Other: 0.010025062656641603\n",
      "Percentage of 21 year-olds in Other: 0.00792393026941363\n",
      "Percentage of 22 year-olds in Other: 0.015250544662309368\n",
      "Percentage of 23 year-olds in Other: 0.029197080291970802\n",
      "Percentage of 24 year-olds in Other: 0.025974025974025976\n",
      "Percentage of 25 year-olds in Other: 0.03070175438596491\n",
      "Percentage of 26 year-olds in Other: 0.04158790170132325\n",
      "Percentage of 27 year-olds in Other: 0.03636363636363636\n",
      "Percentage of 28 year-olds in Other: 0.04597701149425287\n",
      "Percentage of 29 year-olds in Other: 0.02197802197802198\n",
      "Percentage of 30 year-olds in Other: 0.046875\n",
      "Percentage of 31 year-olds in Other: 0.06896551724137931\n",
      "Percentage of 32 year-olds in Other: 0.04093567251461988\n",
      "Percentage of 33 year-olds in Other: 0.05426356589147287\n",
      "Percentage of 34 year-olds in Other: 0.05084745762711865\n",
      "Percentage of 35 year-olds in Other: 0.05319148936170213\n",
      "Percentage of 36 year-olds in Other: 0.06896551724137931\n",
      "Percentage of 37 year-olds in Other: 0.06329113924050633\n",
      "Percentage of 38 year-olds in Other: 0.14754098360655737\n",
      "Percentage of 39 year-olds in Other: 0.0851063829787234\n",
      "Percentage of 40 year-olds in Other: 0.06153846153846154\n",
      "Percentage of 41 year-olds in Other: 0.14\n",
      "Percentage of 42 year-olds in Other: 0.14634146341463414\n",
      "Percentage of 43 year-olds in Other: 0.0625\n",
      "Percentage of 44 year-olds in Other: 0.0967741935483871\n",
      "Percentage of 45 year-olds in Other: 0.05555555555555555\n",
      "Percentage of 46 year-olds in Other: 0.14285714285714285\n",
      "Percentage of 47 year-olds in Other: 0.08823529411764706\n",
      "Percentage of 48 year-olds in Other: 0.1111111111111111\n",
      "Percentage of 49 year-olds in Other: 0.08333333333333333\n",
      "Percentage of 50 year-olds in Other: 0.02702702702702703\n",
      "Percentage of 51 year-olds in Other: 0.034482758620689655\n",
      "Percentage of 52 year-olds in Other: 0.09523809523809523\n",
      "Percentage of 53 year-olds in Other: 0.16666666666666666\n",
      "Percentage of 54 year-olds in Other: 0.05\n",
      "Percentage of 55 year-olds in Other: 0.08\n",
      "Percentage of 56 year-olds in Other: 0.0\n",
      "Percentage of 57 year-olds in Other: 0.1\n",
      "Percentage of 58 year-olds in Other: 0.1875\n",
      "Percentage of 59 year-olds in Other: 0.0\n",
      "Percentage of 60 year-olds in Other: 0.05555555555555555\n",
      "Percentage of 61 year-olds in Other: 0.14285714285714285\n",
      "Percentage of 62 year-olds in Other: 0.0\n",
      "Percentage of 63 year-olds in Other: 0.0\n",
      "Percentage of 64 year-olds in Other: 0.25\n",
      "Percentage of 65 year-olds in Other: 0.0\n",
      "Percentage of 66 year-olds in Other: 0.1\n",
      "Percentage of 67 year-olds in Other: 0.16666666666666666\n",
      "Percentage of 68 year-olds in Other: 0.0\n",
      "Percentage of 70 year-olds in Other: 0.0\n",
      "Percentage of 71 year-olds in Other: 0.0\n",
      "Percentage of 72 year-olds in Other: 0.0\n",
      "Percentage of 73 year-olds in Other: 0.3333333333333333\n",
      "Percentage of 75 year-olds in Other: 0.0\n",
      "Percentage of 76 year-olds in Other: 0.0\n",
      "Percentage of 77 year-olds in Other: 1.0\n",
      "Percentage of 78 year-olds in Other: 0.0\n",
      "Percentage of 81 year-olds in Other: 0.0\n",
      "Percentage of 86 year-olds in Other: 0.5\n",
      "Percentage of 99 year-olds in Other: 0.0\n"
     ]
    },
    {
     "data": {
      "image/png": "[encoded data removed]",
      "text/plain": [
       "<Figure size 432x288 with 1 Axes>"
      ]
     },
     "metadata": {
      "needs_background": "light"
     },
     "output_type": "display_data"
    }
   ],
   "source": [
    "ages = set(SMTO_df['psage'])\n",
    "percent_list = []\n",
    "for i in ages:\n",
    "    print(\"Percentage of \" + str(i) + \" year-olds in Other: \", end='')\n",
    "    age_percent = ((SMTO_df['psage'] == i) & (SMTO_df['personstatusgrad'] == 'Other')).sum()/(SMTO_df['psage'] == i).sum()\n",
    "    print(age_percent)\n",
    "    percent_list.append(age_percent)\n",
    "\n",
    "plt.bar(list(ages),percent_list)\n",
    "plt.xlabel('Age')\n",
    "plt.ylabel('Percentage')\n",
    "plt.title('Other')\n",
    "plt.show()"
   ]
  },
  {
   "cell_type": "markdown",
   "metadata": {},
   "source": [
    "The percentage of repondents who claim to be studying \"Other\" forms of education is very evenly distributed among the age range. Maybe a little lower around the 17-25 years.\n",
    "\n",
    "## Segmentation Methods\n",
    "\n",
    "There are several options we can consider to segment the TTS data:\n",
    "\n",
    "1. Apply rules to TTS data based on SMTO data. For instance, all students who live with children under 18 are said to be living with their family.\n",
    "2. Randomly assigning segments to TTS data based on a weighted probability distribution of similar students from the SMTO data.\n",
    "3. Some combination of 1 and 2.\n",
    "4. Change the segmentation approach so that the information is implictly available (e.g. replace \"living with family\" segments with \"living with 1+ children or 2+ adults\")\n",
    "5. Use a machine learning approach such as clustering on the samples and compare results to establish a common segmentation approach.\n",
    "\n",
    "Upon discussing these options, we decided to use a machine learning algorthm to classify students from the TTS data according to living arrangement. That is our next step."
   ]
  }
 ],
 "metadata": {
  "kernelspec": {
   "display_name": "Python 3",
   "language": "python",
   "name": "python3"
  },
  "language_info": {
   "codemirror_mode": {
    "name": "ipython",
    "version": 3
   },
   "file_extension": ".py",
   "mimetype": "text/x-python",
   "name": "python",
   "nbconvert_exporter": "python",
   "pygments_lexer": "ipython3",
   "version": "3.7.3"
  }
 },
 "nbformat": 4,
 "nbformat_minor": 2
}
