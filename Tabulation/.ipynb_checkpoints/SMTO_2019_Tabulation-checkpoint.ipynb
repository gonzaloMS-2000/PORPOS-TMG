{
 "cells": [
  {
   "cell_type": "markdown",
   "metadata": {},
   "source": [
    "# 2019 StudentMoveTO Survey Data - Tabulation and Segmentation\n",
    "\n",
    "In this notebook, we tabulate the data from the 2019 StudentMoveTO Survey. This includes paying specific attention to factors such as age, gender, and the distribution of respondents by affiliated university and campus."
   ]
  },
  {
   "cell_type": "code",
   "execution_count": 19,
   "metadata": {},
   "outputs": [
    {
     "name": "stderr",
     "output_type": "stream",
     "text": [
      "C:\\Anaconda\\lib\\site-packages\\IPython\\core\\interactiveshell.py:3049: DtypeWarning: Columns (10,11,12) have mixed types. Specify dtype option on import or set low_memory=False.\n",
      "  interactivity=interactivity, compiler=compiler, result=result)\n"
     ]
    }
   ],
   "source": [
    "import pandas as pd\n",
    "import matplotlib\n",
    "import matplotlib.pyplot as plt\n",
    "\n",
    "df = pd.read_csv('../Data/SMTO_2019/SMTO_2019_Respondents.csv')\n",
    "df1 = pd.read_csv('../Data/SMTO_2019/SMTO_2019_Households.csv')"
   ]
  },
  {
   "cell_type": "markdown",
   "metadata": {},
   "source": [
    "\n",
    "# 1. Respondents File\n",
    "\n",
    "This section of the tabulation was done with data from `SMTO_2019_Respondents.csv`."
   ]
  },
  {
   "cell_type": "code",
   "execution_count": 2,
   "metadata": {
    "scrolled": true
   },
   "outputs": [
    {
     "data": {
      "text/html": [
       "<div>\n",
       "<style scoped>\n",
       "    .dataframe tbody tr th:only-of-type {\n",
       "        vertical-align: middle;\n",
       "    }\n",
       "\n",
       "    .dataframe tbody tr th {\n",
       "        vertical-align: top;\n",
       "    }\n",
       "\n",
       "    .dataframe thead th {\n",
       "        text-align: right;\n",
       "    }\n",
       "</style>\n",
       "<table border=\"1\" class=\"dataframe\">\n",
       "  <thead>\n",
       "    <tr style=\"text-align: right;\">\n",
       "      <th></th>\n",
       "      <th>UniquePsKey_</th>\n",
       "      <th>PsKey_</th>\n",
       "      <th>psgender</th>\n",
       "      <th>psage</th>\n",
       "      <th>psinstitution</th>\n",
       "      <th>psinternationalstudent</th>\n",
       "      <th>psdisability</th>\n",
       "      <th>psuniversityaffiliation</th>\n",
       "      <th>personstatusgrad</th>\n",
       "      <th>personstatustime</th>\n",
       "      <th>...</th>\n",
       "      <th>psfrequencycommute</th>\n",
       "      <th>psfrequencytelecommute</th>\n",
       "      <th>pswenttoschoolinpastmonth</th>\n",
       "      <th>PsPastMonthRidehailFrequency</th>\n",
       "      <th>PsPastMonthBikeFrequency</th>\n",
       "      <th>PsPastMonthTransitFrequency</th>\n",
       "      <th>PsPastMonthWalkFrequency</th>\n",
       "      <th>PsPastMonthDriveFrequency</th>\n",
       "      <th>psagreeothersurveys</th>\n",
       "      <th>psparticipateprize</th>\n",
       "    </tr>\n",
       "  </thead>\n",
       "  <tbody>\n",
       "    <tr>\n",
       "      <th>0</th>\n",
       "      <td>1</td>\n",
       "      <td>9</td>\n",
       "      <td>Male</td>\n",
       "      <td>26.0</td>\n",
       "      <td>Centennial College</td>\n",
       "      <td>Yes</td>\n",
       "      <td>No</td>\n",
       "      <td>NaN</td>\n",
       "      <td>NaN</td>\n",
       "      <td>NaN</td>\n",
       "      <td>...</td>\n",
       "      <td>4.0</td>\n",
       "      <td>0.0</td>\n",
       "      <td>Yes</td>\n",
       "      <td>Not at all</td>\n",
       "      <td>Not at all</td>\n",
       "      <td>Almost everyday</td>\n",
       "      <td>Not at all</td>\n",
       "      <td>Not at all</td>\n",
       "      <td>Yes</td>\n",
       "      <td>NaN</td>\n",
       "    </tr>\n",
       "    <tr>\n",
       "      <th>1</th>\n",
       "      <td>2</td>\n",
       "      <td>11</td>\n",
       "      <td>Female</td>\n",
       "      <td>25.0</td>\n",
       "      <td>Centennial College</td>\n",
       "      <td>No</td>\n",
       "      <td>No</td>\n",
       "      <td>NaN</td>\n",
       "      <td>NaN</td>\n",
       "      <td>NaN</td>\n",
       "      <td>...</td>\n",
       "      <td>2.0</td>\n",
       "      <td>0.0</td>\n",
       "      <td>Yes</td>\n",
       "      <td>Not at all</td>\n",
       "      <td>Not at all</td>\n",
       "      <td>Once or more a week</td>\n",
       "      <td>Not at all</td>\n",
       "      <td>Not at all</td>\n",
       "      <td>No</td>\n",
       "      <td>NaN</td>\n",
       "    </tr>\n",
       "    <tr>\n",
       "      <th>2</th>\n",
       "      <td>3</td>\n",
       "      <td>14</td>\n",
       "      <td>Male</td>\n",
       "      <td>19.0</td>\n",
       "      <td>Centennial College</td>\n",
       "      <td>No</td>\n",
       "      <td>No</td>\n",
       "      <td>NaN</td>\n",
       "      <td>NaN</td>\n",
       "      <td>NaN</td>\n",
       "      <td>...</td>\n",
       "      <td>5.0</td>\n",
       "      <td>1.0</td>\n",
       "      <td>Yes</td>\n",
       "      <td>Not at all</td>\n",
       "      <td>Not at all</td>\n",
       "      <td>Almost everyday</td>\n",
       "      <td>Not at all</td>\n",
       "      <td>Not at all</td>\n",
       "      <td>No</td>\n",
       "      <td>No</td>\n",
       "    </tr>\n",
       "    <tr>\n",
       "      <th>3</th>\n",
       "      <td>4</td>\n",
       "      <td>16</td>\n",
       "      <td>Female</td>\n",
       "      <td>25.0</td>\n",
       "      <td>Centennial College</td>\n",
       "      <td>Yes</td>\n",
       "      <td>No</td>\n",
       "      <td>NaN</td>\n",
       "      <td>NaN</td>\n",
       "      <td>NaN</td>\n",
       "      <td>...</td>\n",
       "      <td>NaN</td>\n",
       "      <td>NaN</td>\n",
       "      <td>NaN</td>\n",
       "      <td>NaN</td>\n",
       "      <td>NaN</td>\n",
       "      <td>NaN</td>\n",
       "      <td>NaN</td>\n",
       "      <td>NaN</td>\n",
       "      <td>No</td>\n",
       "      <td>NaN</td>\n",
       "    </tr>\n",
       "    <tr>\n",
       "      <th>4</th>\n",
       "      <td>5</td>\n",
       "      <td>17</td>\n",
       "      <td>Female</td>\n",
       "      <td>97.0</td>\n",
       "      <td>Centennial College</td>\n",
       "      <td>No</td>\n",
       "      <td>No</td>\n",
       "      <td>NaN</td>\n",
       "      <td>NaN</td>\n",
       "      <td>NaN</td>\n",
       "      <td>...</td>\n",
       "      <td>NaN</td>\n",
       "      <td>NaN</td>\n",
       "      <td>NaN</td>\n",
       "      <td>NaN</td>\n",
       "      <td>NaN</td>\n",
       "      <td>NaN</td>\n",
       "      <td>NaN</td>\n",
       "      <td>NaN</td>\n",
       "      <td>No</td>\n",
       "      <td>NaN</td>\n",
       "    </tr>\n",
       "  </tbody>\n",
       "</table>\n",
       "<p>5 rows × 61 columns</p>\n",
       "</div>"
      ],
      "text/plain": [
       "   UniquePsKey_  PsKey_ psgender  psage       psinstitution  \\\n",
       "0             1       9     Male   26.0  Centennial College   \n",
       "1             2      11   Female   25.0  Centennial College   \n",
       "2             3      14     Male   19.0  Centennial College   \n",
       "3             4      16   Female   25.0  Centennial College   \n",
       "4             5      17   Female   97.0  Centennial College   \n",
       "\n",
       "  psinternationalstudent psdisability psuniversityaffiliation  \\\n",
       "0                    Yes           No                     NaN   \n",
       "1                     No           No                     NaN   \n",
       "2                     No           No                     NaN   \n",
       "3                    Yes           No                     NaN   \n",
       "4                     No           No                     NaN   \n",
       "\n",
       "  personstatusgrad  personstatustime  ... psfrequencycommute  \\\n",
       "0               NaN              NaN  ...                4.0   \n",
       "1               NaN              NaN  ...                2.0   \n",
       "2               NaN              NaN  ...                5.0   \n",
       "3               NaN              NaN  ...                NaN   \n",
       "4               NaN              NaN  ...                NaN   \n",
       "\n",
       "  psfrequencytelecommute pswenttoschoolinpastmonth  \\\n",
       "0                    0.0                       Yes   \n",
       "1                    0.0                       Yes   \n",
       "2                    1.0                       Yes   \n",
       "3                    NaN                       NaN   \n",
       "4                    NaN                       NaN   \n",
       "\n",
       "  PsPastMonthRidehailFrequency PsPastMonthBikeFrequency  \\\n",
       "0                   Not at all               Not at all   \n",
       "1                   Not at all               Not at all   \n",
       "2                   Not at all               Not at all   \n",
       "3                          NaN                      NaN   \n",
       "4                          NaN                      NaN   \n",
       "\n",
       "  PsPastMonthTransitFrequency PsPastMonthWalkFrequency  \\\n",
       "0             Almost everyday               Not at all   \n",
       "1         Once or more a week               Not at all   \n",
       "2             Almost everyday               Not at all   \n",
       "3                         NaN                      NaN   \n",
       "4                         NaN                      NaN   \n",
       "\n",
       "  PsPastMonthDriveFrequency  psagreeothersurveys psparticipateprize  \n",
       "0                Not at all                  Yes                NaN  \n",
       "1                Not at all                   No                NaN  \n",
       "2                Not at all                   No                 No  \n",
       "3                       NaN                   No                NaN  \n",
       "4                       NaN                   No                NaN  \n",
       "\n",
       "[5 rows x 61 columns]"
      ]
     },
     "execution_count": 2,
     "metadata": {},
     "output_type": "execute_result"
    }
   ],
   "source": [
    "df.head()"
   ]
  },
  {
   "cell_type": "code",
   "execution_count": 3,
   "metadata": {},
   "outputs": [
    {
     "data": {
      "text/plain": [
       "(19135, 61)"
      ]
     },
     "execution_count": 3,
     "metadata": {},
     "output_type": "execute_result"
    }
   ],
   "source": [
    "df.shape"
   ]
  },
  {
   "cell_type": "markdown",
   "metadata": {},
   "source": [
    "The sample size has increased from 2015 where we had __15,226__ respondents to 2019 where we now have __19,135__.\n",
    "\n",
    "To look at distributions, we will used the the following function:"
   ]
  },
  {
   "cell_type": "code",
   "execution_count": 4,
   "metadata": {},
   "outputs": [],
   "source": [
    "def show_distribution(col_name,attribute):\n",
    "    # Include quotations on col_name and attribute\n",
    "    attrib = list(df[col_name].value_counts().index)\n",
    "    counts = list(df[col_name].value_counts())\n",
    "    percnt = list(df[col_name].value_counts(normalize = True))\n",
    "    print(attribute + \"\\t\\tCounts\\tPercentage(%)\\n\")\n",
    "    for i in range(len(attrib)):\n",
    "        print(str(attrib[i])[:7] + '\\t\\t' + str(counts[i]) + '\\t' + str(percnt[i]))"
   ]
  },
  {
   "cell_type": "markdown",
   "metadata": {},
   "source": [
    "### 1.1 Gender Distribution:"
   ]
  },
  {
   "cell_type": "code",
   "execution_count": 5,
   "metadata": {
    "scrolled": true
   },
   "outputs": [
    {
     "name": "stdout",
     "output_type": "stream",
     "text": [
      "Gender\t\tCounts\tPercentage(%)\n",
      "\n",
      "Female\t\t12744\t0.6660047034230467\n",
      "Male\t\t5905\t0.3085968121243794\n",
      "Prefer \t\t253\t0.013221844787039456\n",
      "Non bin\t\t233\t0.012176639665534362\n"
     ]
    },
    {
     "data": {
      "text/plain": [
       "['Male', 'Female', 'Prefer not to answer', 'Non binary / third gender']"
      ]
     },
     "execution_count": 5,
     "metadata": {},
     "output_type": "execute_result"
    }
   ],
   "source": [
    "show_distribution('psgender','Gender')\n",
    "list(df['psgender'].unique())"
   ]
  },
  {
   "cell_type": "markdown",
   "metadata": {},
   "source": [
    "We still have a much higher number of females than males in this dataset. In 2015 we had a 67/32% of Female/Male respondents and in 2019 we have a 67/31%. We also have the Addition of a 'Prefer not to answer' option.\n",
    "\n",
    "### 1.2 Age Distribution:"
   ]
  },
  {
   "cell_type": "code",
   "execution_count": 6,
   "metadata": {},
   "outputs": [
    {
     "data": {
      "image/png": "[encoded data removed]",
      "text/plain": [
       "<Figure size 432x288 with 1 Axes>"
      ]
     },
     "metadata": {
      "needs_background": "light"
     },
     "output_type": "display_data"
    }
   ],
   "source": [
    "temp_df = df[df['psage'] < 200]\n",
    "numBins = 100\n",
    "plt.figure()\n",
    "temp_df['psage'].plot.hist(bins=numBins)\n",
    "plt.xlabel('Ages')\n",
    "plt.show()"
   ]
  },
  {
   "cell_type": "code",
   "execution_count": 7,
   "metadata": {},
   "outputs": [
    {
     "data": {
      "text/plain": [
       "False    19068\n",
       "True        67\n",
       "Name: psage, dtype: int64"
      ]
     },
     "execution_count": 7,
     "metadata": {},
     "output_type": "execute_result"
    }
   ],
   "source": [
    "(df[\"psage\"] == 999).value_counts()"
   ]
  },
  {
   "cell_type": "markdown",
   "metadata": {},
   "source": [
    "We see that the majority of respondents reported ages between 19 and 25 years old. However, there are reported ages ranging from 0 to 99. Respondents who reported such ages may have been relucatant to report their actual age.\n",
    "\n",
    "Since we also have access to the repondent's reported age group, let's see if the reported age groups accurately reflect the reported ages:"
   ]
  },
  {
   "cell_type": "markdown",
   "metadata": {},
   "source": [
    "### 1.3 University/College & Campus Distributions:"
   ]
  },
  {
   "cell_type": "code",
   "execution_count": 8,
   "metadata": {
    "scrolled": false
   },
   "outputs": [
    {
     "name": "stdout",
     "output_type": "stream",
     "text": [
      "\n",
      "-> psinstitution:\n",
      "University of Toronto      5413\n",
      "Ryerson University         4090\n",
      "York University            2386\n",
      "McMaster University        1756\n",
      "Centennial College         1234\n",
      "Durham College             1225\n",
      "Sheridan College           1168\n",
      "Ontario Tech University     738\n",
      "Mohawk College              687\n",
      "OCAD University             438\n",
      "Name: psinstitution, dtype: int64\n",
      "\n",
      "\n",
      "-> pscampusmain:\n",
      "St. George Campus                              3571\n",
      "Keele Campus                                   2062\n",
      "McMaster Campus                                1601\n",
      "Oshawa Campus                                   916\n",
      "Scarborough Campus                              761\n",
      "Mississauga Campus                              740\n",
      "Progress Campus                                 530\n",
      "Fennell Campus (Main Campus)                    522\n",
      "North Oshawa Campus                             522\n",
      "Trafalgar Road Campus, Oakville                 443\n",
      "Davis Campus, Brampton                          361\n",
      "Morningside Campus                              281\n",
      "Hazel McCallion Campus, Mississauga             240\n",
      "Glendon Campus                                  150\n",
      "Whitby Campus                                   148\n",
      "Downtown Oshawa Campus                          128\n",
      "Ashtonbee Campus                                114\n",
      "Story Arts Centre                                72\n",
      "Institute for Applied Health Sciences            61\n",
      "Burlington Campus/Ron Joyce Centre               39\n",
      "Stoney Creek Campus                              38\n",
      "Downsview Campus                                 29\n",
      "Pickering Learning Site                          23\n",
      "Eglinton Learning Site                            6\n",
      "Performing Arts Commons at Daniels Spectrum       3\n",
      "Name: pscampusmain, dtype: int64\n",
      "\n"
     ]
    }
   ],
   "source": [
    "headers = ['psinstitution','pscampusmain']\n",
    "for i in range(2):\n",
    "    print(\"\\n-> \" + headers[i] + \":\")\n",
    "    print(df[headers[i]].value_counts())\n",
    "    print(\"\")"
   ]
  },
  {
   "cell_type": "markdown",
   "metadata": {},
   "source": [
    "### 1.4 International Students Distribution:"
   ]
  },
  {
   "cell_type": "code",
   "execution_count": 9,
   "metadata": {
    "scrolled": false
   },
   "outputs": [
    {
     "name": "stdout",
     "output_type": "stream",
     "text": [
      "\t\tCounts\tPercentage(%)\n",
      "\n",
      "No\t\t15644\t0.8535573985159319\n",
      "Yes\t\t2684\t0.1464426014840681\n"
     ]
    }
   ],
   "source": [
    "show_distribution('psinternationalstudent','')"
   ]
  },
  {
   "cell_type": "markdown",
   "metadata": {},
   "source": [
    "### 1.5 University Affiliation Distribution:"
   ]
  },
  {
   "cell_type": "code",
   "execution_count": 10,
   "metadata": {
    "scrolled": true
   },
   "outputs": [
    {
     "data": {
      "text/plain": [
       "Full-Time Undergraduate              10230\n",
       "Full-Time Graduate                    2515\n",
       "Part-Time Undergraduate                416\n",
       "Part-Time Graduate                     239\n",
       "Continuing Education                   183\n",
       "Other, e.g. exchange student            96\n",
       "Not applicable / No longer attend       15\n",
       "Name: psuniversityaffiliation, dtype: int64"
      ]
     },
     "execution_count": 10,
     "metadata": {},
     "output_type": "execute_result"
    }
   ],
   "source": [
    "df['psuniversityaffiliation'].value_counts()"
   ]
  },
  {
   "cell_type": "markdown",
   "metadata": {},
   "source": [
    "### 1.6 College Affiliation Distribution:"
   ]
  },
  {
   "cell_type": "code",
   "execution_count": 11,
   "metadata": {
    "scrolled": true
   },
   "outputs": [
    {
     "data": {
      "text/plain": [
       "Full-Time               3521\n",
       "Part-Time                158\n",
       "Continuing Education      96\n",
       "Name: pscollegeaffiliation, dtype: int64"
      ]
     },
     "execution_count": 11,
     "metadata": {},
     "output_type": "execute_result"
    }
   ],
   "source": [
    "df['pscollegeaffiliation'].value_counts()"
   ]
  },
  {
   "cell_type": "markdown",
   "metadata": {},
   "source": [
    "### 1.7 Transportation Mode Distribution:"
   ]
  },
  {
   "cell_type": "code",
   "execution_count": 12,
   "metadata": {
    "scrolled": false
   },
   "outputs": [
    {
     "name": "stdout",
     "output_type": "stream",
     "text": [
      "Mode\t\tCounts\tPercentage(%)\n",
      "\n",
      "Transit\t\t2811\t0.2519042924993279\n",
      "Subway/\t\t2129\t0.1907877049914867\n",
      "Walk\t\t2036\t0.18245362487678107\n",
      "Drive a\t\t1104\t0.09893359620037638\n",
      "GO Trai\t\t880\t0.0788601129133435\n",
      "GO Bus\t\t560\t0.050183708217582224\n",
      "Bicycle\t\t373\t0.03342593422349673\n",
      "Paratra\t\t262\t0.02347880634465454\n",
      "Auto pa\t\t202\t0.0181019804641993\n",
      "Streetc\t\t170\t0.015234339994623173\n",
      "Drive w\t\t149\t0.01335245093646384\n",
      "Accessi\t\t100\t0.008961376467425397\n",
      "Drive w\t\t93\t0.008334080114705619\n",
      "Accessi\t\t73\t0.0065418048212205395\n",
      "Other\t\t46\t0.004122233175015683\n",
      "Inter-c\t\t38\t0.0034053230576216505\n",
      "I do no\t\t38\t0.0034053230576216505\n",
      "Bikesha\t\t34\t0.003046867998924635\n",
      "Ride-ha\t\t26\t0.002329957881530603\n",
      "Auto pa\t\t21\t0.0018818890581593333\n",
      "Motorcy\t\t7\t0.0006272963527197777\n",
      "Taxi\t\t4\t0.00035845505869701587\n",
      "Ride-ha\t\t3\t0.0002688412940227619\n"
     ]
    },
    {
     "data": {
      "image/png": "[encoded data removed]",
      "text/plain": [
       "<Figure size 1152x432 with 1 Axes>"
      ]
     },
     "metadata": {
      "needs_background": "light"
     },
     "output_type": "display_data"
    },
    {
     "data": {
      "image/png": "[encoded data removed]",
      "text/plain": [
       "<Figure size 432x288 with 1 Axes>"
      ]
     },
     "metadata": {},
     "output_type": "display_data"
    }
   ],
   "source": [
    "show_distribution('psmainmodefalltypical','Mode')\n",
    "\n",
    "plt.figure(figsize=(16,6))\n",
    "plt.subplot(1,2,1)\n",
    "plt.title('Mode choice frequency for entire dataset')\n",
    "df['psmainmodefalltypical'].value_counts().sort_index().plot(kind='bar')\n",
    "plt.show()\n",
    "\n",
    "fig, ax = plt.subplots()\n",
    "labels= list(df['psmainmodefalltypical'].value_counts().index)\n",
    "ax.pie(df['psmainmodefalltypical'].value_counts(), labels=labels, autopct='%1.1f%%')\n",
    "ax.axis('equal')  # Equal aspect ratio ensures the pie chart is circular.\n",
    "ax.set_title('Modes of Transportation')\n",
    "plt.show()"
   ]
  },
  {
   "cell_type": "markdown",
   "metadata": {},
   "source": [
    "### 1.8 Transportation Costs:"
   ]
  },
  {
   "cell_type": "code",
   "execution_count": 13,
   "metadata": {},
   "outputs": [
    {
     "name": "stdout",
     "output_type": "stream",
     "text": [
      "count    16918.000000\n",
      "mean       221.530618\n",
      "std        207.558443\n",
      "min          0.000000\n",
      "25%         90.000000\n",
      "50%        150.000000\n",
      "75%        300.000000\n",
      "max       1500.000000\n",
      "Name: psmonthlytravelcost, dtype: float64\n"
     ]
    }
   ],
   "source": [
    "print(df['psmonthlytravelcost'].describe())"
   ]
  },
  {
   "cell_type": "markdown",
   "metadata": {},
   "source": [
    "# 2. Household File\n",
    "\n",
    "This section of the tabulation was done with data from *SMTO_2015_Segmented.csv*. We created this file from specific columns in the respondents and household data, ensuring that the order of respondents is the same in both files. We then added a column 'Segment' identifying each respondents' segment, as explained below."
   ]
  },
  {
   "cell_type": "code",
   "execution_count": 14,
   "metadata": {},
   "outputs": [
    {
     "data": {
      "text/html": [
       "<div>\n",
       "<style scoped>\n",
       "    .dataframe tbody tr th:only-of-type {\n",
       "        vertical-align: middle;\n",
       "    }\n",
       "\n",
       "    .dataframe tbody tr th {\n",
       "        vertical-align: top;\n",
       "    }\n",
       "\n",
       "    .dataframe thead th {\n",
       "        text-align: right;\n",
       "    }\n",
       "</style>\n",
       "<table border=\"1\" class=\"dataframe\">\n",
       "  <thead>\n",
       "    <tr style=\"text-align: right;\">\n",
       "      <th></th>\n",
       "      <th>UniquePsKey_</th>\n",
       "      <th>PsKey_</th>\n",
       "      <th>hhlivingsituation</th>\n",
       "      <th>hhstructure</th>\n",
       "      <th>hhsize</th>\n",
       "      <th>hhnumdependentchildren</th>\n",
       "      <th>numroommates</th>\n",
       "      <th>hhvehiclenumber</th>\n",
       "      <th>hhbuildingtype</th>\n",
       "      <th>yearslivingincurrentresidence</th>\n",
       "      <th>...</th>\n",
       "      <th>hhownership</th>\n",
       "      <th>familyincomelevel</th>\n",
       "      <th>HmCTuid</th>\n",
       "      <th>HmTTS2006</th>\n",
       "      <th>HmPD</th>\n",
       "      <th>HmRegion</th>\n",
       "      <th>HmFSA2016</th>\n",
       "      <th>tripsdatekey</th>\n",
       "      <th>TolTp</th>\n",
       "      <th>surveyComplDate</th>\n",
       "    </tr>\n",
       "  </thead>\n",
       "  <tbody>\n",
       "    <tr>\n",
       "      <th>0</th>\n",
       "      <td>1</td>\n",
       "      <td>9</td>\n",
       "      <td>Live with family/parents</td>\n",
       "      <td>Non-family adults residing together</td>\n",
       "      <td>6.0</td>\n",
       "      <td>0.0</td>\n",
       "      <td>NaN</td>\n",
       "      <td>0.0</td>\n",
       "      <td>Single detached house</td>\n",
       "      <td>Less than 1 year</td>\n",
       "      <td>...</td>\n",
       "      <td>Unknown</td>\n",
       "      <td>NaN</td>\n",
       "      <td>5350527.01</td>\n",
       "      <td>3851.0</td>\n",
       "      <td>36.0</td>\n",
       "      <td>4.0</td>\n",
       "      <td>L5B</td>\n",
       "      <td>10/2/2019</td>\n",
       "      <td>NaN</td>\n",
       "      <td>10/3/2019</td>\n",
       "    </tr>\n",
       "    <tr>\n",
       "      <th>1</th>\n",
       "      <td>2</td>\n",
       "      <td>11</td>\n",
       "      <td>Live with family/parents</td>\n",
       "      <td>Other</td>\n",
       "      <td>2.0</td>\n",
       "      <td>0.0</td>\n",
       "      <td>NaN</td>\n",
       "      <td>1.0</td>\n",
       "      <td>Apartment or Condo</td>\n",
       "      <td>More than 10 years</td>\n",
       "      <td>...</td>\n",
       "      <td>Tenant</td>\n",
       "      <td>NaN</td>\n",
       "      <td>5350287.02</td>\n",
       "      <td>181.0</td>\n",
       "      <td>4.0</td>\n",
       "      <td>1.0</td>\n",
       "      <td>M6A</td>\n",
       "      <td>10/2/2019</td>\n",
       "      <td>3.0</td>\n",
       "      <td>10/3/2019</td>\n",
       "    </tr>\n",
       "    <tr>\n",
       "      <th>2</th>\n",
       "      <td>3</td>\n",
       "      <td>14</td>\n",
       "      <td>Live with family/parents</td>\n",
       "      <td>Single person with one or more children</td>\n",
       "      <td>4.0</td>\n",
       "      <td>0.0</td>\n",
       "      <td>NaN</td>\n",
       "      <td>2.0</td>\n",
       "      <td>Row/Townhouse (attached)</td>\n",
       "      <td>1-2 years</td>\n",
       "      <td>...</td>\n",
       "      <td>Tenant</td>\n",
       "      <td>I don't know</td>\n",
       "      <td>5350804.07</td>\n",
       "      <td>1039.0</td>\n",
       "      <td>20.0</td>\n",
       "      <td>2.0</td>\n",
       "      <td>L1V</td>\n",
       "      <td>10/2/2019</td>\n",
       "      <td>2.0</td>\n",
       "      <td>10/3/2019</td>\n",
       "    </tr>\n",
       "    <tr>\n",
       "      <th>3</th>\n",
       "      <td>4</td>\n",
       "      <td>16</td>\n",
       "      <td>NaN</td>\n",
       "      <td>NaN</td>\n",
       "      <td>NaN</td>\n",
       "      <td>NaN</td>\n",
       "      <td>NaN</td>\n",
       "      <td>NaN</td>\n",
       "      <td>NaN</td>\n",
       "      <td>NaN</td>\n",
       "      <td>...</td>\n",
       "      <td>NaN</td>\n",
       "      <td>NaN</td>\n",
       "      <td>5350133</td>\n",
       "      <td>191.0</td>\n",
       "      <td>4.0</td>\n",
       "      <td>1.0</td>\n",
       "      <td>M5N</td>\n",
       "      <td>10/2/2019</td>\n",
       "      <td>NaN</td>\n",
       "      <td>10/3/2019</td>\n",
       "    </tr>\n",
       "    <tr>\n",
       "      <th>4</th>\n",
       "      <td>5</td>\n",
       "      <td>17</td>\n",
       "      <td>Live with family/parents</td>\n",
       "      <td>Non-family adults residing together</td>\n",
       "      <td>6.0</td>\n",
       "      <td>1.0</td>\n",
       "      <td>NaN</td>\n",
       "      <td>1.0</td>\n",
       "      <td>I don't know</td>\n",
       "      <td>4-5 years</td>\n",
       "      <td>...</td>\n",
       "      <td>Owner</td>\n",
       "      <td>NaN</td>\n",
       "      <td>5350378.22</td>\n",
       "      <td>600.0</td>\n",
       "      <td>16.0</td>\n",
       "      <td>1.0</td>\n",
       "      <td>M1V</td>\n",
       "      <td>10/2/2019</td>\n",
       "      <td>2.0</td>\n",
       "      <td>10/3/2019</td>\n",
       "    </tr>\n",
       "  </tbody>\n",
       "</table>\n",
       "<p>5 rows × 28 columns</p>\n",
       "</div>"
      ],
      "text/plain": [
       "   UniquePsKey_  PsKey_         hhlivingsituation  \\\n",
       "0             1       9  Live with family/parents   \n",
       "1             2      11  Live with family/parents   \n",
       "2             3      14  Live with family/parents   \n",
       "3             4      16                       NaN   \n",
       "4             5      17  Live with family/parents   \n",
       "\n",
       "                               hhstructure  hhsize  hhnumdependentchildren  \\\n",
       "0      Non-family adults residing together     6.0                     0.0   \n",
       "1                                    Other     2.0                     0.0   \n",
       "2  Single person with one or more children     4.0                     0.0   \n",
       "3                                      NaN     NaN                     NaN   \n",
       "4      Non-family adults residing together     6.0                     1.0   \n",
       "\n",
       "   numroommates  hhvehiclenumber            hhbuildingtype  \\\n",
       "0           NaN              0.0     Single detached house   \n",
       "1           NaN              1.0        Apartment or Condo   \n",
       "2           NaN              2.0  Row/Townhouse (attached)   \n",
       "3           NaN              NaN                       NaN   \n",
       "4           NaN              1.0              I don't know   \n",
       "\n",
       "  yearslivingincurrentresidence  ...  hhownership  familyincomelevel  \\\n",
       "0              Less than 1 year  ...      Unknown                NaN   \n",
       "1            More than 10 years  ...       Tenant                NaN   \n",
       "2                     1-2 years  ...       Tenant       I don't know   \n",
       "3                           NaN  ...          NaN                NaN   \n",
       "4                     4-5 years  ...        Owner                NaN   \n",
       "\n",
       "      HmCTuid  HmTTS2006  HmPD  HmRegion  HmFSA2016  tripsdatekey TolTp  \\\n",
       "0  5350527.01     3851.0  36.0       4.0        L5B     10/2/2019   NaN   \n",
       "1  5350287.02      181.0   4.0       1.0        M6A     10/2/2019   3.0   \n",
       "2  5350804.07     1039.0  20.0       2.0        L1V     10/2/2019   2.0   \n",
       "3     5350133      191.0   4.0       1.0        M5N     10/2/2019   NaN   \n",
       "4  5350378.22      600.0  16.0       1.0        M1V     10/2/2019   2.0   \n",
       "\n",
       "  surveyComplDate  \n",
       "0       10/3/2019  \n",
       "1       10/3/2019  \n",
       "2       10/3/2019  \n",
       "3       10/3/2019  \n",
       "4       10/3/2019  \n",
       "\n",
       "[5 rows x 28 columns]"
      ]
     },
     "execution_count": 14,
     "metadata": {},
     "output_type": "execute_result"
    }
   ],
   "source": [
    "df1.head()"
   ]
  },
  {
   "cell_type": "markdown",
   "metadata": {},
   "source": [
    "## 2.1. Living Situation Distribution"
   ]
  },
  {
   "cell_type": "code",
   "execution_count": 15,
   "metadata": {
    "scrolled": true
   },
   "outputs": [
    {
     "data": {
      "image/png": "[encoded data removed]",
      "text/plain": [
       "<Figure size 432x288 with 1 Axes>"
      ]
     },
     "metadata": {},
     "output_type": "display_data"
    }
   ],
   "source": [
    "fig, ax = plt.subplots()\n",
    "labels= list(df1['hhlivingsituation'].value_counts().index)\n",
    "ax.pie(df1['hhlivingsituation'].value_counts(), labels=labels, autopct='%1.1f%%')\n",
    "ax.axis('equal')  # Equal aspect ratio ensures the pie chart is circular.\n",
    "ax.set_title('Living Situation')\n",
    "plt.show()"
   ]
  },
  {
   "cell_type": "markdown",
   "metadata": {},
   "source": [
    "## 2.1. Family Structure Distribution"
   ]
  },
  {
   "cell_type": "code",
   "execution_count": 16,
   "metadata": {},
   "outputs": [
    {
     "data": {
      "image/png": "[encoded data removed]",
      "text/plain": [
       "<Figure size 432x288 with 1 Axes>"
      ]
     },
     "metadata": {},
     "output_type": "display_data"
    }
   ],
   "source": [
    "fig, ax = plt.subplots()\n",
    "labels= list(df1['hhstructure'].value_counts().index)\n",
    "ax.pie(df1['hhstructure'].value_counts(), labels=labels, autopct='%1.1f%%')\n",
    "ax.axis('equal')  # Equal aspect ratio ensures the pie chart is circular.\n",
    "ax.set_title('Family Structures')\n",
    "plt.show()"
   ]
  },
  {
   "cell_type": "markdown",
   "metadata": {},
   "source": [
    "## 2.2. Building Type Distribution"
   ]
  },
  {
   "cell_type": "code",
   "execution_count": 28,
   "metadata": {},
   "outputs": [
    {
     "data": {
      "text/plain": [
       "Single detached house                 4668\n",
       "Apartment or Condo                    3311\n",
       "Row/Townhouse (attached)              1161\n",
       "Semi-detached house                   1086\n",
       "On-campus residence                    678\n",
       "Prefer not to answer                   256\n",
       "I don't know                           206\n",
       "Other (Ex: mobile home, chalet...)      97\n",
       "Name: hhbuildingtype, dtype: int64"
      ]
     },
     "execution_count": 28,
     "metadata": {},
     "output_type": "execute_result"
    }
   ],
   "source": [
    "df1['hhbuildingtype'].value_counts(sort = True)"
   ]
  },
  {
   "cell_type": "markdown",
   "metadata": {},
   "source": [
    "## 2.3. Income Distribution"
   ]
  },
  {
   "cell_type": "code",
   "execution_count": 24,
   "metadata": {
    "scrolled": true
   },
   "outputs": [
    {
     "data": {
      "text/plain": [
       "I don't know            1290\n",
       "Prefer not to answer     807\n",
       "$ 15,000 - 29,999        647\n",
       "$ 100,000 - 124,999      623\n",
       "$ 50,000 - 59,999        541\n",
       "Less than $ 14,999       512\n",
       "$ 40,000 - 49,999        491\n",
       "$ 30,000 - 39,999        483\n",
       "$ 60,000 - 69,999        457\n",
       "$ 70,000 - 79,999        357\n",
       "$ 80,000 - 89,999        340\n",
       "$ 200,000 +              333\n",
       "$ 90,000 - 99,999        330\n",
       "$ 150,000 - 199,999      319\n",
       "$ 125,000 - 149,999      319\n",
       "Name: familyincomelevel, dtype: int64"
      ]
     },
     "execution_count": 24,
     "metadata": {},
     "output_type": "execute_result"
    }
   ],
   "source": [
    "df1['familyincomelevel'].value_counts(sort = True)"
   ]
  },
  {
   "cell_type": "markdown",
   "metadata": {},
   "source": [
    "\n",
    "\n",
    "# Next Steps\n",
    "\n"
   ]
  }
 ],
 "metadata": {
  "kernelspec": {
   "display_name": "Python 3",
   "language": "python",
   "name": "python3"
  },
  "language_info": {
   "codemirror_mode": {
    "name": "ipython",
    "version": 3
   },
   "file_extension": ".py",
   "mimetype": "text/x-python",
   "name": "python",
   "nbconvert_exporter": "python",
   "pygments_lexer": "ipython3",
   "version": "3.7.3"
  }
 },
 "nbformat": 4,
 "nbformat_minor": 2
}
