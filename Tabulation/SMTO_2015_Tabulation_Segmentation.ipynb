version https://git-lfs.github.com/spec/v1
oid sha256:ddd9790d72261de5f0946367dea87a430193d2e11abf59555688b8626905112c
size 50967
