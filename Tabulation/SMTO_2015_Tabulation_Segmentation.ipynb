{
 "cells": [
  {
   "cell_type": "markdown",
   "metadata": {},
   "source": [
    "# 2015 StudentMoveTO Survey Data - Tabulation and Segmentation\n",
    "\n",
    "In this notebook, we tabulate the data from the 2015 StudentMoveTO Survey. This includes paying specific attention to factors such as age, gender, and the distribution of respondents by affiliated university and campus.\n",
    "\n",
    "After performing a literature review and discussing our findings, we have hypothesized that running the gravity model with  different groups of students may yield very different results. For instance, the model may result in a better fit for students who live away from home rather than at home. One Danish study in particular used this as a key differentiating factor in university choices. As a result, we have labelled the data into a number of segments. We explain this process below.\n",
    "\n",
    "## Tabulation Part 1: Gender, Age, Campus \n",
    "\n",
    "This section of the tabulation was done with data from *SMTO_2015_Respondents.csv*."
   ]
  },
  {
   "cell_type": "code",
   "execution_count": 3,
   "metadata": {},
   "outputs": [],
   "source": [
    "import pandas as pd\n",
    "import matplotlib\n",
    "import matplotlib.pyplot as plt"
   ]
  },
  {
   "cell_type": "code",
   "execution_count": 4,
   "metadata": {},
   "outputs": [
    {
     "data": {
      "text/html": [
       "<div>\n",
       "<style scoped>\n",
       "    .dataframe tbody tr th:only-of-type {\n",
       "        vertical-align: middle;\n",
       "    }\n",
       "\n",
       "    .dataframe tbody tr th {\n",
       "        vertical-align: top;\n",
       "    }\n",
       "\n",
       "    .dataframe thead th {\n",
       "        text-align: right;\n",
       "    }\n",
       "</style>\n",
       "<table border=\"1\" class=\"dataframe\">\n",
       "  <thead>\n",
       "    <tr style=\"text-align: right;\">\n",
       "      <th></th>\n",
       "      <th>HHKey_</th>\n",
       "      <th>PsKey_</th>\n",
       "      <th>pscmpgender</th>\n",
       "      <th>pscmpgenderkey</th>\n",
       "      <th>pscmpgendershortname</th>\n",
       "      <th>psage</th>\n",
       "      <th>pscmpagegroup</th>\n",
       "      <th>pscmpagegroupkey</th>\n",
       "      <th>psuniversity</th>\n",
       "      <th>psuniversityaffiliation</th>\n",
       "      <th>...</th>\n",
       "      <th>pspersonalincome</th>\n",
       "      <th>pspersonalincomeshortname</th>\n",
       "      <th>psparticipateprize</th>\n",
       "      <th>psagreeothersurveysflag</th>\n",
       "      <th>psagreeothersurveys</th>\n",
       "      <th>pssingleweight</th>\n",
       "      <th>psexpfactor</th>\n",
       "      <th>expansionwkdyend</th>\n",
       "      <th>expansionday</th>\n",
       "      <th>surveyshortname</th>\n",
       "    </tr>\n",
       "  </thead>\n",
       "  <tbody>\n",
       "    <tr>\n",
       "      <th>0</th>\n",
       "      <td>1</td>\n",
       "      <td>5</td>\n",
       "      <td>Female</td>\n",
       "      <td>1</td>\n",
       "      <td>F</td>\n",
       "      <td>20</td>\n",
       "      <td>20 - 24 years old</td>\n",
       "      <td>5</td>\n",
       "      <td>University of Toronto</td>\n",
       "      <td>Full-Time Undergraduate</td>\n",
       "      <td>...</td>\n",
       "      <td>Unknown</td>\n",
       "      <td>unknown</td>\n",
       "      <td>NaN</td>\n",
       "      <td>NaN</td>\n",
       "      <td>Unknown</td>\n",
       "      <td>1</td>\n",
       "      <td>9.70</td>\n",
       "      <td>0.862723</td>\n",
       "      <td>0.850810</td>\n",
       "      <td>od_studentmoveto_2015_uoft</td>\n",
       "    </tr>\n",
       "    <tr>\n",
       "      <th>1</th>\n",
       "      <td>2</td>\n",
       "      <td>25908</td>\n",
       "      <td>Female</td>\n",
       "      <td>1</td>\n",
       "      <td>F</td>\n",
       "      <td>25</td>\n",
       "      <td>25 - 29 years old</td>\n",
       "      <td>6</td>\n",
       "      <td>University of Toronto</td>\n",
       "      <td>Full-Time Graduate</td>\n",
       "      <td>...</td>\n",
       "      <td>$ 10,000 - 19,999</td>\n",
       "      <td>personal_income_level__10000_19999</td>\n",
       "      <td>0.0</td>\n",
       "      <td>0.0</td>\n",
       "      <td>Do not want to participate to other studies</td>\n",
       "      <td>1</td>\n",
       "      <td>5.79</td>\n",
       "      <td>1.067975</td>\n",
       "      <td>1.042488</td>\n",
       "      <td>od_studentmoveto_2015_uoft</td>\n",
       "    </tr>\n",
       "    <tr>\n",
       "      <th>2</th>\n",
       "      <td>3</td>\n",
       "      <td>25363</td>\n",
       "      <td>Female</td>\n",
       "      <td>1</td>\n",
       "      <td>F</td>\n",
       "      <td>23</td>\n",
       "      <td>20 - 24 years old</td>\n",
       "      <td>5</td>\n",
       "      <td>University of Toronto</td>\n",
       "      <td>Full-Time Undergraduate</td>\n",
       "      <td>...</td>\n",
       "      <td>Unknown</td>\n",
       "      <td>unknown</td>\n",
       "      <td>1.0</td>\n",
       "      <td>0.0</td>\n",
       "      <td>Do not want to participate to other studies</td>\n",
       "      <td>1</td>\n",
       "      <td>9.06</td>\n",
       "      <td>1.067975</td>\n",
       "      <td>0.980498</td>\n",
       "      <td>od_studentmoveto_2015_uoft</td>\n",
       "    </tr>\n",
       "    <tr>\n",
       "      <th>3</th>\n",
       "      <td>4</td>\n",
       "      <td>25948</td>\n",
       "      <td>Male</td>\n",
       "      <td>2</td>\n",
       "      <td>M</td>\n",
       "      <td>20</td>\n",
       "      <td>20 - 24 years old</td>\n",
       "      <td>5</td>\n",
       "      <td>University of Toronto</td>\n",
       "      <td>Full-Time Undergraduate</td>\n",
       "      <td>...</td>\n",
       "      <td>Unknown</td>\n",
       "      <td>unknown</td>\n",
       "      <td>1.0</td>\n",
       "      <td>1.0</td>\n",
       "      <td>Would like to participate to other studies</td>\n",
       "      <td>1</td>\n",
       "      <td>14.67</td>\n",
       "      <td>0.862723</td>\n",
       "      <td>0.874973</td>\n",
       "      <td>od_studentmoveto_2015_uoft</td>\n",
       "    </tr>\n",
       "    <tr>\n",
       "      <th>4</th>\n",
       "      <td>5</td>\n",
       "      <td>25329</td>\n",
       "      <td>Male</td>\n",
       "      <td>2</td>\n",
       "      <td>M</td>\n",
       "      <td>27</td>\n",
       "      <td>25 - 29 years old</td>\n",
       "      <td>6</td>\n",
       "      <td>University of Toronto</td>\n",
       "      <td>Full-Time Graduate</td>\n",
       "      <td>...</td>\n",
       "      <td>$ 10,000 - 19,999</td>\n",
       "      <td>personal_income_level__10000_19999</td>\n",
       "      <td>1.0</td>\n",
       "      <td>1.0</td>\n",
       "      <td>Would like to participate to other studies</td>\n",
       "      <td>1</td>\n",
       "      <td>9.11</td>\n",
       "      <td>0.862723</td>\n",
       "      <td>0.874973</td>\n",
       "      <td>od_studentmoveto_2015_uoft</td>\n",
       "    </tr>\n",
       "  </tbody>\n",
       "</table>\n",
       "<p>5 rows × 174 columns</p>\n",
       "</div>"
      ],
      "text/plain": [
       "   HHKey_  PsKey_ pscmpgender  pscmpgenderkey pscmpgendershortname  psage  \\\n",
       "0       1       5      Female               1                    F     20   \n",
       "1       2   25908      Female               1                    F     25   \n",
       "2       3   25363      Female               1                    F     23   \n",
       "3       4   25948        Male               2                    M     20   \n",
       "4       5   25329        Male               2                    M     27   \n",
       "\n",
       "       pscmpagegroup  pscmpagegroupkey           psuniversity  \\\n",
       "0  20 - 24 years old                 5  University of Toronto   \n",
       "1  25 - 29 years old                 6  University of Toronto   \n",
       "2  20 - 24 years old                 5  University of Toronto   \n",
       "3  20 - 24 years old                 5  University of Toronto   \n",
       "4  25 - 29 years old                 6  University of Toronto   \n",
       "\n",
       "   psuniversityaffiliation  ...   pspersonalincome  \\\n",
       "0  Full-Time Undergraduate  ...            Unknown   \n",
       "1       Full-Time Graduate  ...  $ 10,000 - 19,999   \n",
       "2  Full-Time Undergraduate  ...            Unknown   \n",
       "3  Full-Time Undergraduate  ...            Unknown   \n",
       "4       Full-Time Graduate  ...  $ 10,000 - 19,999   \n",
       "\n",
       "            pspersonalincomeshortname psparticipateprize  \\\n",
       "0                             unknown                NaN   \n",
       "1  personal_income_level__10000_19999                0.0   \n",
       "2                             unknown                1.0   \n",
       "3                             unknown                1.0   \n",
       "4  personal_income_level__10000_19999                1.0   \n",
       "\n",
       "  psagreeothersurveysflag                          psagreeothersurveys  \\\n",
       "0                     NaN                                      Unknown   \n",
       "1                     0.0  Do not want to participate to other studies   \n",
       "2                     0.0  Do not want to participate to other studies   \n",
       "3                     1.0   Would like to participate to other studies   \n",
       "4                     1.0   Would like to participate to other studies   \n",
       "\n",
       "  pssingleweight  psexpfactor expansionwkdyend expansionday  \\\n",
       "0              1         9.70         0.862723     0.850810   \n",
       "1              1         5.79         1.067975     1.042488   \n",
       "2              1         9.06         1.067975     0.980498   \n",
       "3              1        14.67         0.862723     0.874973   \n",
       "4              1         9.11         0.862723     0.874973   \n",
       "\n",
       "              surveyshortname  \n",
       "0  od_studentmoveto_2015_uoft  \n",
       "1  od_studentmoveto_2015_uoft  \n",
       "2  od_studentmoveto_2015_uoft  \n",
       "3  od_studentmoveto_2015_uoft  \n",
       "4  od_studentmoveto_2015_uoft  \n",
       "\n",
       "[5 rows x 174 columns]"
      ]
     },
     "execution_count": 4,
     "metadata": {},
     "output_type": "execute_result"
    }
   ],
   "source": [
    "df = pd.read_csv('../Data/SMTO_2015/SMTO_2015_Respondents.csv')\n",
    "df.head()"
   ]
  },
  {
   "cell_type": "markdown",
   "metadata": {},
   "source": [
    "### Data Used (from StudentMoveTO Survey 2015)\n",
    "\n",
    "We look at the following columns in this step of the analysis:\n",
    "\n",
    "- __pscmpgender__: Gender\n",
    "- __psage__: Person age\n",
    "- __pscmpagegroup__: Respondent age in bins\n",
    "- __psuniversity__: University currently attending\n",
    "- __psuniversityaffiliation__: Affiliation to university\n",
    "- __pscampusattend__: Campus registered at\n",
    "- __pscampusmain__: Campus where the respondent spends the most time\n",
    "\n",
    "Below we look at some distributions from the respondents' data, starting with gender:"
   ]
  },
  {
   "cell_type": "code",
   "execution_count": 3,
   "metadata": {
    "scrolled": false
   },
   "outputs": [
    {
     "data": {
      "text/plain": [
       "Female    10203\n",
       "Male       4891\n",
       "Other       132\n",
       "Name: pscmpgender, dtype: int64"
      ]
     },
     "execution_count": 3,
     "metadata": {},
     "output_type": "execute_result"
    }
   ],
   "source": [
    "df['pscmpgender'].value_counts()"
   ]
  },
  {
   "cell_type": "markdown",
   "metadata": {},
   "source": [
    "We have a much higher number of respondents who identified as female rather than male, and 132 respondents who identified as 'Other'.\n",
    "\n",
    "Let's now look at age distribution:"
   ]
  },
  {
   "cell_type": "code",
   "execution_count": 4,
   "metadata": {},
   "outputs": [
    {
     "data": {
      "image/png": "[encoded data removed]",
      "text/plain": [
       "<Figure size 432x288 with 1 Axes>"
      ]
     },
     "metadata": {
      "needs_background": "light"
     },
     "output_type": "display_data"
    }
   ],
   "source": [
    "numBins = 100\n",
    "plt.figure()\n",
    "df['psage'].plot.hist(bins=numBins)\n",
    "plt.xlabel('Ages')\n",
    "plt.show()"
   ]
  },
  {
   "cell_type": "markdown",
   "metadata": {},
   "source": [
    "We see that the majority of respondents reported ages between 19 and 25 years old. However, there are reported ages ranging from 0 to 99. Respondents who reported such ages may have been relucatant to report their actual age.\n",
    "\n",
    "Since we also have access to the repondent's reported age group, let's see if the reported age groups accurately reflect the reported ages:"
   ]
  },
  {
   "cell_type": "code",
   "execution_count": 5,
   "metadata": {},
   "outputs": [
    {
     "name": "stdout",
     "output_type": "stream",
     "text": [
      "Age ranges selected:\n",
      "20 - 24 years old     6996\n",
      "15 - 19 years old     4071\n",
      "25 - 29 years old     2220\n",
      "30 - 34 years old      906\n",
      "35 - 39 years old      368\n",
      "40 - 44 years old      237\n",
      "45 - 49 years old      148\n",
      "50 - 54 years old      118\n",
      "55 - 59 years old       82\n",
      "60 - 64 years old       43\n",
      "65 - 69 years old       17\n",
      "75 years old and +       9\n",
      "70 - 74 years old        9\n",
      "0 - 4 years old          2\n",
      "Name: pscmpagegroup, dtype: int64\n",
      "\n",
      "Counts of ranges according to identified age:\n",
      "Between 0 and 4: 13\n",
      "Between 5 and 9: 1\n",
      "Between 10 and 14: 0\n",
      "Between 15 and 19: 4067\n",
      "Between 20 and 24: 6994\n",
      "Between 25 and 29: 2219\n",
      "Between 30 and 34: 906\n",
      "Between 35 and 39: 368\n",
      "Between 40 and 44: 235\n",
      "Between 45 and 49: 147\n",
      "Between 50 and 54: 119\n",
      "Between 55 and 59: 82\n",
      "Between 60 and 64: 41\n",
      "Between 65 and 69: 18\n",
      "Between 70 and 74: 7\n",
      "75 years old and +: 9\n"
     ]
    }
   ],
   "source": [
    "print(\"Age ranges selected:\")\n",
    "print(df['pscmpagegroup'].value_counts())\n",
    "\n",
    "print(\"\\nCounts of ranges according to identified age:\")\n",
    "for i in range(0, 75, 5):\n",
    "    print(\"Between \" + str(i) + \" and \" + str(i+4) +\": \" + str((df['psage'].between(i, i+4).sum())))\n",
    "print(\"75 years old and +: \" + str((df['psage'].between(75, 100).sum())))"
   ]
  },
  {
   "cell_type": "markdown",
   "metadata": {},
   "source": [
    "We see that the reported age and reported age range were quite close, but not exactly corresponding. For instance, the number of respondents that reported an age between 0 and 14 is 14, but only two respondents selected ranges between 0 and 14. This suggests that some respondents may have felt uncomfortable sharing their exact age, but more comfortable identifying their age range.\n",
    "\n",
    "However, the small difference between the information in these two columns suggests that we can safely work with the 'psage' column, removing outliers, in future analysis. Perhaps we could remove any respondents whose reported age does not correspond to the age range they selected.\n",
    "\n",
    "Let's now look at the university and campus that each student attends:"
   ]
  },
  {
   "cell_type": "code",
   "execution_count": 6,
   "metadata": {
    "scrolled": true
   },
   "outputs": [
    {
     "name": "stdout",
     "output_type": "stream",
     "text": [
      "\n",
      "-> psuniversity:\n",
      "University of Toronto              8195\n",
      "York University                    3577\n",
      "Ryerson University                 2925\n",
      "OCAD University                     467\n",
      "None / Other / No longer attend      22\n",
      "Name: psuniversity, dtype: int64\n",
      "\n",
      "\n",
      "-> pscampusattend:\n",
      "Downtown Toronto (St. George)    6123\n",
      "Keele                            3233\n",
      "RyersonU                         2923\n",
      "Scarborough (UTSC)               1092\n",
      "Mississauga (UTM)                 957\n",
      "OCADu                             470\n",
      "Glendon                           342\n",
      "Name: pscampusattend, dtype: int64\n",
      "\n",
      "\n",
      "-> pscampusmain:\n",
      "Downtown Toronto (St. George)    6163\n",
      "Keele                            3243\n",
      "RyersonU                         2923\n",
      "Scarborough (UTSC)               1063\n",
      "Mississauga (UTM)                 943\n",
      "OCADu                             470\n",
      "Glendon                           324\n",
      "Name: pscampusmain, dtype: int64\n",
      "\n"
     ]
    }
   ],
   "source": [
    "headers = ['psuniversity','pscampusattend', 'pscampusmain']\n",
    "for header in headers:\n",
    "    print(\"\\n-> \" + header + \":\")\n",
    "    print(df[header].value_counts())\n",
    "    print(\"\")"
   ]
  },
  {
   "cell_type": "markdown",
   "metadata": {},
   "source": [
    "Notice that there are two columns indicating the respondent's campus, 'pscampusattend' and 'pscampusmain', with slightly differen resutls. Let's compare these columns."
   ]
  },
  {
   "cell_type": "code",
   "execution_count": 7,
   "metadata": {
    "scrolled": true
   },
   "outputs": [
    {
     "data": {
      "text/plain": [
       "True     14921\n",
       "False      305\n",
       "Name: sameCampus, dtype: int64"
      ]
     },
     "execution_count": 7,
     "metadata": {},
     "output_type": "execute_result"
    }
   ],
   "source": [
    "df['sameCampus'] = (df['pscampusattend'] == df['pscampusmain'])\n",
    "df['sameCampus'].value_counts()"
   ]
  },
  {
   "cell_type": "markdown",
   "metadata": {},
   "source": [
    "Therefore, for the majority of students, the campus they said they attend and the campus they reported spending most of their time on is the same. However, this is not true for all respondents. We will have to consider what to do with these respondents in the future."
   ]
  },
  {
   "cell_type": "markdown",
   "metadata": {},
   "source": [
    "## Tabulation Part 2: Enrolment Status, Living Arrangement\n",
    "\n",
    "This section of the tabulation was done with data from *SMTO_2015_Segmented.csv*. We created this file from specific columns in the respondents and household data, ensuring that the order of respondents is the same in both files. We then added a column 'Segment' identifying each respondents' segment, as explained below."
   ]
  },
  {
   "cell_type": "code",
   "execution_count": 8,
   "metadata": {},
   "outputs": [
    {
     "data": {
      "text/html": [
       "<div>\n",
       "<style scoped>\n",
       "    .dataframe tbody tr th:only-of-type {\n",
       "        vertical-align: middle;\n",
       "    }\n",
       "\n",
       "    .dataframe tbody tr th {\n",
       "        vertical-align: top;\n",
       "    }\n",
       "\n",
       "    .dataframe thead th {\n",
       "        text-align: right;\n",
       "    }\n",
       "</style>\n",
       "<table border=\"1\" class=\"dataframe\">\n",
       "  <thead>\n",
       "    <tr style=\"text-align: right;\">\n",
       "      <th></th>\n",
       "      <th>HHKey_</th>\n",
       "      <th>PsKey_</th>\n",
       "      <th>psage</th>\n",
       "      <th>psuniversityinvolvednumyears</th>\n",
       "      <th>personstatusgrad</th>\n",
       "      <th>personstatustime</th>\n",
       "      <th>hhlivingsituation</th>\n",
       "      <th>First-year</th>\n",
       "      <th>psmainmodefalltypicalaggr</th>\n",
       "      <th>HomeToMainCampusKM</th>\n",
       "      <th>Segment</th>\n",
       "      <th>hhsize</th>\n",
       "      <th>hhnumyoungerthan18</th>\n",
       "      <th>hhnumolderorequalto18</th>\n",
       "      <th>hhcarnumber</th>\n",
       "      <th>psdrivinglicenseownerflag</th>\n",
       "      <th>hhincomelevelshortname</th>\n",
       "    </tr>\n",
       "  </thead>\n",
       "  <tbody>\n",
       "    <tr>\n",
       "      <th>0</th>\n",
       "      <td>1</td>\n",
       "      <td>5</td>\n",
       "      <td>20</td>\n",
       "      <td>2.0</td>\n",
       "      <td>UG</td>\n",
       "      <td>FT</td>\n",
       "      <td>Live with family/parents</td>\n",
       "      <td>False</td>\n",
       "      <td>Local Transit</td>\n",
       "      <td>14.00</td>\n",
       "      <td>5</td>\n",
       "      <td>7</td>\n",
       "      <td>3</td>\n",
       "      <td>4</td>\n",
       "      <td>1</td>\n",
       "      <td>0</td>\n",
       "      <td>unknown</td>\n",
       "    </tr>\n",
       "    <tr>\n",
       "      <th>1</th>\n",
       "      <td>2</td>\n",
       "      <td>25908</td>\n",
       "      <td>25</td>\n",
       "      <td>3.0</td>\n",
       "      <td>Grad</td>\n",
       "      <td>FT</td>\n",
       "      <td>Live with partner</td>\n",
       "      <td>False</td>\n",
       "      <td>Walk</td>\n",
       "      <td>0.75</td>\n",
       "      <td>10</td>\n",
       "      <td>2</td>\n",
       "      <td>0</td>\n",
       "      <td>2</td>\n",
       "      <td>0</td>\n",
       "      <td>1</td>\n",
       "      <td>household_income_level__90000_119999</td>\n",
       "    </tr>\n",
       "    <tr>\n",
       "      <th>2</th>\n",
       "      <td>3</td>\n",
       "      <td>25363</td>\n",
       "      <td>23</td>\n",
       "      <td>5.0</td>\n",
       "      <td>UG</td>\n",
       "      <td>FT</td>\n",
       "      <td>Live with family/parents</td>\n",
       "      <td>False</td>\n",
       "      <td>Local Transit</td>\n",
       "      <td>29.50</td>\n",
       "      <td>5</td>\n",
       "      <td>4</td>\n",
       "      <td>0</td>\n",
       "      <td>4</td>\n",
       "      <td>1</td>\n",
       "      <td>1</td>\n",
       "      <td>unknown</td>\n",
       "    </tr>\n",
       "    <tr>\n",
       "      <th>3</th>\n",
       "      <td>4</td>\n",
       "      <td>25948</td>\n",
       "      <td>20</td>\n",
       "      <td>2.0</td>\n",
       "      <td>UG</td>\n",
       "      <td>FT</td>\n",
       "      <td>Live with roommates</td>\n",
       "      <td>False</td>\n",
       "      <td>Walk</td>\n",
       "      <td>0.75</td>\n",
       "      <td>6</td>\n",
       "      <td>4</td>\n",
       "      <td>0</td>\n",
       "      <td>4</td>\n",
       "      <td>0</td>\n",
       "      <td>1</td>\n",
       "      <td>unknown</td>\n",
       "    </tr>\n",
       "    <tr>\n",
       "      <th>4</th>\n",
       "      <td>5</td>\n",
       "      <td>25329</td>\n",
       "      <td>27</td>\n",
       "      <td>6.0</td>\n",
       "      <td>Grad</td>\n",
       "      <td>FT</td>\n",
       "      <td>Live with partner</td>\n",
       "      <td>False</td>\n",
       "      <td>Walk</td>\n",
       "      <td>0.75</td>\n",
       "      <td>10</td>\n",
       "      <td>2</td>\n",
       "      <td>0</td>\n",
       "      <td>2</td>\n",
       "      <td>0</td>\n",
       "      <td>1</td>\n",
       "      <td>household_income_level__30000_59999</td>\n",
       "    </tr>\n",
       "  </tbody>\n",
       "</table>\n",
       "</div>"
      ],
      "text/plain": [
       "   HHKey_  PsKey_  psage  psuniversityinvolvednumyears personstatusgrad  \\\n",
       "0       1       5     20                           2.0               UG   \n",
       "1       2   25908     25                           3.0             Grad   \n",
       "2       3   25363     23                           5.0               UG   \n",
       "3       4   25948     20                           2.0               UG   \n",
       "4       5   25329     27                           6.0             Grad   \n",
       "\n",
       "  personstatustime         hhlivingsituation  First-year  \\\n",
       "0               FT  Live with family/parents       False   \n",
       "1               FT         Live with partner       False   \n",
       "2               FT  Live with family/parents       False   \n",
       "3               FT       Live with roommates       False   \n",
       "4               FT         Live with partner       False   \n",
       "\n",
       "  psmainmodefalltypicalaggr  HomeToMainCampusKM  Segment  hhsize  \\\n",
       "0             Local Transit               14.00        5       7   \n",
       "1                      Walk                0.75       10       2   \n",
       "2             Local Transit               29.50        5       4   \n",
       "3                      Walk                0.75        6       4   \n",
       "4                      Walk                0.75       10       2   \n",
       "\n",
       "   hhnumyoungerthan18  hhnumolderorequalto18  hhcarnumber  \\\n",
       "0                   3                      4            1   \n",
       "1                   0                      2            0   \n",
       "2                   0                      4            1   \n",
       "3                   0                      4            0   \n",
       "4                   0                      2            0   \n",
       "\n",
       "   psdrivinglicenseownerflag                hhincomelevelshortname  \n",
       "0                          0                               unknown  \n",
       "1                          1  household_income_level__90000_119999  \n",
       "2                          1                               unknown  \n",
       "3                          1                               unknown  \n",
       "4                          1   household_income_level__30000_59999  "
      ]
     },
     "execution_count": 8,
     "metadata": {},
     "output_type": "execute_result"
    }
   ],
   "source": [
    "df = pd.read_csv('../Data/SMTO_2015_Segmented.csv')\n",
    "df.head()"
   ]
  },
  {
   "cell_type": "markdown",
   "metadata": {},
   "source": [
    "### Data Used (from StudentMoveTO Survey 2015)\n",
    "\n",
    "This dataframe includes the following columns:\n",
    "\n",
    "- __psuniveristyinvolvednumyears__: Number of years since began involvement with the university\n",
    "- __personstatusgrad__: Status of the respondent at the university\n",
    "- __personstatustime__: Full time / Part time\n",
    "- __hhlivingsituation__: Student's living arrangement (with family, alone, ...)\n",
    "- __First-year__: If they are in first year\n",
    "- __Segment__: Number from 0-12 assigned based on level of education AND living arrangement\n",
    "\n",
    "Below we are going to look at some distributions from the respondent information:\n",
    "\n",
    "- Respondents' university levels\n",
    "- How many of the student respondents are in their First Year of university\n",
    "- Full-time and Part-time students\n",
    "- Students' living arrangement\n",
    "\n",
    "A student was labelled as a First-Year if the number of years since they began involvement with thier university was 0."
   ]
  },
  {
   "cell_type": "code",
   "execution_count": 9,
   "metadata": {},
   "outputs": [
    {
     "name": "stdout",
     "output_type": "stream",
     "text": [
      "\n",
      "-> personstatusgrad:\n",
      "UG       11317\n",
      "Grad      3563\n",
      "Other      346\n",
      "Name: personstatusgrad, dtype: int64\n",
      "\n",
      "-> First-year:\n",
      "False    10705\n",
      "True      4521\n",
      "Name: First-year, dtype: int64\n",
      "\n",
      "-> personstatustime:\n",
      "FT       13790\n",
      "PT        1090\n",
      "Other      346\n",
      "Name: personstatustime, dtype: int64\n",
      "\n",
      "-> hhlivingsituation:\n",
      "Live with family/parents    8548\n",
      "Live with roommates         3145\n",
      "Live with partner           1828\n",
      "Live alone                  1624\n",
      "Name: hhlivingsituation, dtype: int64\n"
     ]
    }
   ],
   "source": [
    "df['First-year'] = (df['psuniversityinvolvednumyears'] == 0)\n",
    "headers = ['personstatusgrad', 'First-year', 'personstatustime', 'hhlivingsituation']\n",
    "for header in headers:\n",
    "    print(\"\\n-> \" + header + \":\")\n",
    "    print(df[header].value_counts())"
   ]
  },
  {
   "cell_type": "markdown",
   "metadata": {},
   "source": [
    "#### Important Observations:\n",
    "\n",
    "- __74%__ of respondents are studying their undergrad.\n",
    "- __30%__ of respondants are in First Year, suggesting that our method for determining whether a student is a First-Year or not was sound.\n",
    "- __91%__ of respondents are Full-time students.\n",
    "- __56%__ of the respondents claim to be living with their families/parents (at home), while the other half live in other types of living arrangements.\n"
   ]
  },
  {
   "cell_type": "markdown",
   "metadata": {},
   "source": [
    "# Segmentation\n",
    "\n",
    "Now, we are going to use this data to segment the respondents into 13 categories (from 0 to 12). First, respondents are labelled according to their level of education (first-year undergrad, upper-year undergrad, grad, other). We hypothesize that the gravity model might have different results for first-year undergrads (due to guarantted on-campus housing) than upper-year undergrads and graduate students. Respondents of other affiliations (Continuing Studies, Faculty, etc.) were labelled as segment 0, as we will not be analyzing this group. Within each student group, we segmented the respondents according to their enrolment status (full-time or part-time) and whether they identified that they liveds with their parents/family or in another living arrangement. The labels used for each segment are listed in the table below:\n",
    "\n",
    "| Level | Full Time | | Part Time | |\n",
    "| --- | --- | --- | --- | --- |\n",
    "| | Family | Not | Family | Not |\n",
    "| First-year UG | 1 | 2 | 3 | 4 |\n",
    "| Upper-year UG | 5 | 6 | 7 | 8 |\n",
    "| Grad | 9 | 10 | 11 | 12 |\n",
    "| Other | 0 | 0 | 0 | 0 |\n",
    "\n",
    "The segmented distribution of the respondents is:"
   ]
  },
  {
   "cell_type": "code",
   "execution_count": 10,
   "metadata": {},
   "outputs": [
    {
     "data": {
      "text/plain": [
       "5     4953\n",
       "6     2492\n",
       "10    2312\n",
       "1     2063\n",
       "2     1080\n",
       "9      890\n",
       "0      346\n",
       "7      319\n",
       "8      287\n",
       "12     249\n",
       "11     112\n",
       "3       72\n",
       "4       51\n",
       "Name: Segment, dtype: int64"
      ]
     },
     "execution_count": 10,
     "metadata": {},
     "output_type": "execute_result"
    }
   ],
   "source": [
    "df['Segment'].value_counts()"
   ]
  },
  {
   "cell_type": "code",
   "execution_count": 11,
   "metadata": {},
   "outputs": [
    {
     "data": {
      "image/png": "[encoded data removed]",
      "text/plain": [
       "<Figure size 432x288 with 1 Axes>"
      ]
     },
     "metadata": {
      "needs_background": "light"
     },
     "output_type": "display_data"
    }
   ],
   "source": [
    "numBins = 25\n",
    "plt.figure()\n",
    "df['Segment'].plot.hist(bins=numBins)\n",
    "plt.xlabel('Segment Number')\n",
    "plt.show()"
   ]
  },
  {
   "cell_type": "markdown",
   "metadata": {},
   "source": [
    "Some interesting observations from this segmented distribution of respondents:\n",
    "\n",
    "- For those in First Year and studying Full-time, about __2/3__ of students live with their families/parents.\n",
    "- A similar thing can be said for Undergrads not-in-first-year who study Full-time, where about __2/3__ of them live at home.\n",
    "- For those enrolled Full-time Graduate studies, about __72%__ of them live without their families/parents, which makes sense considering their older age compared to typical undergraduate students.\n",
    "- Because there are a lot less Part-time students than there are Full-time sutdens, the difference between part-time students that live at home vs those who don't (from each \"level\" group) do not show a very significanct difference. However, one thing we can observe from this group is that approximately __31%__ of Part-time grad students live at home, which also makes sense due to their age and the high probability that they are working while they study.\n",
    "\n",
    "# Next Steps\n",
    "\n",
    "We are planning to run a doubly-constrained gravity model, as was done by Joven using TTS data, on the different segments and combinations thereof. With some luck, we might find that the gravity-based model is acceptable for specific types of students (e.g. those living at/away from home, undergrads/grads) and compare these results to those from TTS. If the gravity model appears more promising after segmenting the population of students, we will attempt to perform a similar segmentation analysis on TTS data and compare our findings with Joven's results.\n",
    "\n",
    "Furthermore, we can consider a number of other factors that can help predict university choice. From our literature review, we have identified that factors such as income level and university characteristics (tuition, selectivity, etc.) may be correlated with this choice. Incorporating these factors into the analysis may yield more accurate results."
   ]
  }
 ],
 "metadata": {
  "kernelspec": {
   "display_name": "Python 3",
   "language": "python",
   "name": "python3"
  },
  "language_info": {
   "codemirror_mode": {
    "name": "ipython",
    "version": 3
   },
   "file_extension": ".py",
   "mimetype": "text/x-python",
   "name": "python",
   "nbconvert_exporter": "python",
   "pygments_lexer": "ipython3",
   "version": "3.7.6"
  }
 },
 "nbformat": 4,
 "nbformat_minor": 2
}
