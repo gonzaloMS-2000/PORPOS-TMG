{
 "cells": [
  {
   "cell_type": "markdown",
   "metadata": {},
   "source": [
    "# 2019 StudentMoveTO Survey Data - Tabulation\n",
    "\n",
    "In this notebook, we tabulate the data from the __2019 StudentMoveTO Survey__. This includes paying specific attention to factors such as age, gender, the distribution of respondents by affiliated university and campus, their main mode of transportation, or their family structure. This report is divided into 4 main parts:\n",
    "\n",
    "1. Tabulation of Respondents File\n",
    "2. Tabulation of Household File\n",
    "3. Main Conclusions from Respondents and Households files\n",
    "4. Notes about Trip Diaries"
   ]
  },
  {
   "cell_type": "code",
   "execution_count": 78,
   "metadata": {},
   "outputs": [],
   "source": [
    "import pandas as pd\n",
    "import matplotlib\n",
    "import matplotlib.pyplot as plt\n",
    "\n",
    "ps_df = pd.read_csv('../Data/SMTO_2019/SMTO_2019_Respondents.csv', low_memory=False)\n",
    "hh_df = pd.read_csv('../Data/SMTO_2019/SMTO_2019_Households.csv')\n",
    "df = pd.concat([ps_df, hh_df], axis=1)"
   ]
  },
  {
   "cell_type": "markdown",
   "metadata": {},
   "source": [
    "We'll use the following function to display value counts."
   ]
  },
  {
   "cell_type": "code",
   "execution_count": 79,
   "metadata": {},
   "outputs": [],
   "source": [
    "def show_distribution(df, col_name, attribute):\n",
    "    def max_len(values):\n",
    "        return len(max(values, key=len))\n",
    "    \n",
    "    def str_to_len(string, length):\n",
    "        return string[:length-2] if len(string) >= length else \" \" * (length - len(string) - 2) + string\n",
    "    \n",
    "    # Include quotations on col_name and attribute\n",
    "    attrib = list(df[col_name].value_counts().index)\n",
    "    counts = list(df[col_name].value_counts())\n",
    "    percnt = list(df[col_name].value_counts(normalize = True))\n",
    "\n",
    "    max_len = ((int((max_len(attrib + [attribute]) + 1)/8)) + 1) * 8\n",
    "    \n",
    "    print(str_to_len(attribute, max_len + 1) + \"\\t Count\\tPercentage\")\n",
    "    for i in range(len(attrib)):\n",
    "        print(str_to_len(str(attrib[i]), max_len + 1) + '\\t ' + str(counts[i]) + '\\t' + \"{:2.2%}\".format(percnt[i]))"
   ]
  },
  {
   "cell_type": "markdown",
   "metadata": {},
   "source": [
    "\n",
    "# 1. Tabulation of Respondents File\n",
    "\n",
    "This section of the tabulation was done with data from `SMTO_2019_Respondents.csv`."
   ]
  },
  {
   "cell_type": "code",
   "execution_count": 3,
   "metadata": {
    "scrolled": true
   },
   "outputs": [
    {
     "data": {
      "text/html": [
       "<div>\n",
       "<style scoped>\n",
       "    .dataframe tbody tr th:only-of-type {\n",
       "        vertical-align: middle;\n",
       "    }\n",
       "\n",
       "    .dataframe tbody tr th {\n",
       "        vertical-align: top;\n",
       "    }\n",
       "\n",
       "    .dataframe thead th {\n",
       "        text-align: right;\n",
       "    }\n",
       "</style>\n",
       "<table border=\"1\" class=\"dataframe\">\n",
       "  <thead>\n",
       "    <tr style=\"text-align: right;\">\n",
       "      <th></th>\n",
       "      <th>UniquePsKey_</th>\n",
       "      <th>PsKey_</th>\n",
       "      <th>psgender</th>\n",
       "      <th>psage</th>\n",
       "      <th>psinstitution</th>\n",
       "      <th>psinternationalstudent</th>\n",
       "      <th>psdisability</th>\n",
       "      <th>psuniversityaffiliation</th>\n",
       "      <th>personstatusgrad</th>\n",
       "      <th>personstatustime</th>\n",
       "      <th>...</th>\n",
       "      <th>hhownership</th>\n",
       "      <th>familyincomelevel</th>\n",
       "      <th>HmCTuid</th>\n",
       "      <th>HmTTS2006</th>\n",
       "      <th>HmPD</th>\n",
       "      <th>HmRegion</th>\n",
       "      <th>HmFSA2016</th>\n",
       "      <th>tripsdatekey</th>\n",
       "      <th>TolTp</th>\n",
       "      <th>surveyComplDate</th>\n",
       "    </tr>\n",
       "  </thead>\n",
       "  <tbody>\n",
       "    <tr>\n",
       "      <th>0</th>\n",
       "      <td>1</td>\n",
       "      <td>9</td>\n",
       "      <td>Male</td>\n",
       "      <td>26.0</td>\n",
       "      <td>Centennial College</td>\n",
       "      <td>Yes</td>\n",
       "      <td>No</td>\n",
       "      <td>NaN</td>\n",
       "      <td>NaN</td>\n",
       "      <td>NaN</td>\n",
       "      <td>...</td>\n",
       "      <td>Unknown</td>\n",
       "      <td>NaN</td>\n",
       "      <td>5350527.01</td>\n",
       "      <td>3851.0</td>\n",
       "      <td>36.0</td>\n",
       "      <td>4.0</td>\n",
       "      <td>L5B</td>\n",
       "      <td>10/2/2019</td>\n",
       "      <td>NaN</td>\n",
       "      <td>10/3/2019</td>\n",
       "    </tr>\n",
       "    <tr>\n",
       "      <th>1</th>\n",
       "      <td>2</td>\n",
       "      <td>11</td>\n",
       "      <td>Female</td>\n",
       "      <td>25.0</td>\n",
       "      <td>Centennial College</td>\n",
       "      <td>No</td>\n",
       "      <td>No</td>\n",
       "      <td>NaN</td>\n",
       "      <td>NaN</td>\n",
       "      <td>NaN</td>\n",
       "      <td>...</td>\n",
       "      <td>Tenant</td>\n",
       "      <td>NaN</td>\n",
       "      <td>5350287.02</td>\n",
       "      <td>181.0</td>\n",
       "      <td>4.0</td>\n",
       "      <td>1.0</td>\n",
       "      <td>M6A</td>\n",
       "      <td>10/2/2019</td>\n",
       "      <td>3.0</td>\n",
       "      <td>10/3/2019</td>\n",
       "    </tr>\n",
       "    <tr>\n",
       "      <th>2</th>\n",
       "      <td>3</td>\n",
       "      <td>14</td>\n",
       "      <td>Male</td>\n",
       "      <td>19.0</td>\n",
       "      <td>Centennial College</td>\n",
       "      <td>No</td>\n",
       "      <td>No</td>\n",
       "      <td>NaN</td>\n",
       "      <td>NaN</td>\n",
       "      <td>NaN</td>\n",
       "      <td>...</td>\n",
       "      <td>Tenant</td>\n",
       "      <td>I don't know</td>\n",
       "      <td>5350804.07</td>\n",
       "      <td>1039.0</td>\n",
       "      <td>20.0</td>\n",
       "      <td>2.0</td>\n",
       "      <td>L1V</td>\n",
       "      <td>10/2/2019</td>\n",
       "      <td>2.0</td>\n",
       "      <td>10/3/2019</td>\n",
       "    </tr>\n",
       "    <tr>\n",
       "      <th>3</th>\n",
       "      <td>4</td>\n",
       "      <td>16</td>\n",
       "      <td>Female</td>\n",
       "      <td>25.0</td>\n",
       "      <td>Centennial College</td>\n",
       "      <td>Yes</td>\n",
       "      <td>No</td>\n",
       "      <td>NaN</td>\n",
       "      <td>NaN</td>\n",
       "      <td>NaN</td>\n",
       "      <td>...</td>\n",
       "      <td>NaN</td>\n",
       "      <td>NaN</td>\n",
       "      <td>5350133</td>\n",
       "      <td>191.0</td>\n",
       "      <td>4.0</td>\n",
       "      <td>1.0</td>\n",
       "      <td>M5N</td>\n",
       "      <td>10/2/2019</td>\n",
       "      <td>NaN</td>\n",
       "      <td>10/3/2019</td>\n",
       "    </tr>\n",
       "    <tr>\n",
       "      <th>4</th>\n",
       "      <td>5</td>\n",
       "      <td>17</td>\n",
       "      <td>Female</td>\n",
       "      <td>97.0</td>\n",
       "      <td>Centennial College</td>\n",
       "      <td>No</td>\n",
       "      <td>No</td>\n",
       "      <td>NaN</td>\n",
       "      <td>NaN</td>\n",
       "      <td>NaN</td>\n",
       "      <td>...</td>\n",
       "      <td>Owner</td>\n",
       "      <td>NaN</td>\n",
       "      <td>5350378.22</td>\n",
       "      <td>600.0</td>\n",
       "      <td>16.0</td>\n",
       "      <td>1.0</td>\n",
       "      <td>M1V</td>\n",
       "      <td>10/2/2019</td>\n",
       "      <td>2.0</td>\n",
       "      <td>10/3/2019</td>\n",
       "    </tr>\n",
       "  </tbody>\n",
       "</table>\n",
       "<p>5 rows × 89 columns</p>\n",
       "</div>"
      ],
      "text/plain": [
       "   UniquePsKey_  PsKey_ psgender  psage       psinstitution  \\\n",
       "0             1       9     Male   26.0  Centennial College   \n",
       "1             2      11   Female   25.0  Centennial College   \n",
       "2             3      14     Male   19.0  Centennial College   \n",
       "3             4      16   Female   25.0  Centennial College   \n",
       "4             5      17   Female   97.0  Centennial College   \n",
       "\n",
       "  psinternationalstudent psdisability psuniversityaffiliation  \\\n",
       "0                    Yes           No                     NaN   \n",
       "1                     No           No                     NaN   \n",
       "2                     No           No                     NaN   \n",
       "3                    Yes           No                     NaN   \n",
       "4                     No           No                     NaN   \n",
       "\n",
       "  personstatusgrad  personstatustime  ... hhownership familyincomelevel  \\\n",
       "0               NaN              NaN  ...     Unknown               NaN   \n",
       "1               NaN              NaN  ...      Tenant               NaN   \n",
       "2               NaN              NaN  ...      Tenant      I don't know   \n",
       "3               NaN              NaN  ...         NaN               NaN   \n",
       "4               NaN              NaN  ...       Owner               NaN   \n",
       "\n",
       "      HmCTuid HmTTS2006  HmPD HmRegion HmFSA2016 tripsdatekey  TolTp  \\\n",
       "0  5350527.01    3851.0  36.0      4.0       L5B    10/2/2019    NaN   \n",
       "1  5350287.02     181.0   4.0      1.0       M6A    10/2/2019    3.0   \n",
       "2  5350804.07    1039.0  20.0      2.0       L1V    10/2/2019    2.0   \n",
       "3     5350133     191.0   4.0      1.0       M5N    10/2/2019    NaN   \n",
       "4  5350378.22     600.0  16.0      1.0       M1V    10/2/2019    2.0   \n",
       "\n",
       "  surveyComplDate  \n",
       "0       10/3/2019  \n",
       "1       10/3/2019  \n",
       "2       10/3/2019  \n",
       "3       10/3/2019  \n",
       "4       10/3/2019  \n",
       "\n",
       "[5 rows x 89 columns]"
      ]
     },
     "execution_count": 3,
     "metadata": {},
     "output_type": "execute_result"
    }
   ],
   "source": [
    "df.head()"
   ]
  },
  {
   "cell_type": "code",
   "execution_count": 4,
   "metadata": {},
   "outputs": [
    {
     "data": {
      "text/plain": [
       "(19135, 89)"
      ]
     },
     "execution_count": 4,
     "metadata": {},
     "output_type": "execute_result"
    }
   ],
   "source": [
    "df.shape"
   ]
  },
  {
   "cell_type": "markdown",
   "metadata": {},
   "source": [
    "The sample size has increased from 2015 where we had __15,226__ respondents to 2019 where we now have __19,135__."
   ]
  },
  {
   "cell_type": "markdown",
   "metadata": {},
   "source": [
    "### 1.1 Gender Distribution"
   ]
  },
  {
   "cell_type": "code",
   "execution_count": 5,
   "metadata": {
    "scrolled": true
   },
   "outputs": [
    {
     "name": "stdout",
     "output_type": "stream",
     "text": [
      "                         Gender\t Count\tPercentage\n",
      "                         Female\t 12744\t66.60%\n",
      "                           Male\t 5905\t30.86%\n",
      "           Prefer not to answer\t 253\t1.32%\n",
      "      Non binary / third gender\t 233\t1.22%\n"
     ]
    }
   ],
   "source": [
    "show_distribution(df, 'psgender', 'Gender')"
   ]
  },
  {
   "cell_type": "markdown",
   "metadata": {},
   "source": [
    "We still have a much higher number of females than males in this dataset - an almost identical split by gender to the 2015 dataset. We also have the Addition of a 'Prefer not to answer' option.\n",
    "\n",
    "### 1.2 Age Distribution"
   ]
  },
  {
   "cell_type": "code",
   "execution_count": 6,
   "metadata": {},
   "outputs": [
    {
     "data": {
      "image/png": "[encoded data removed]",
      "text/plain": [
       "<Figure size 432x288 with 1 Axes>"
      ]
     },
     "metadata": {
      "needs_background": "light"
     },
     "output_type": "display_data"
    }
   ],
   "source": [
    "temp_df = df[df['psage'] < 200]\n",
    "numBins = 100\n",
    "plt.figure()\n",
    "temp_df['psage'].plot.hist(bins=numBins)\n",
    "plt.xlabel('Ages')\n",
    "plt.show()"
   ]
  },
  {
   "cell_type": "code",
   "execution_count": 7,
   "metadata": {},
   "outputs": [
    {
     "data": {
      "text/plain": [
       "67"
      ]
     },
     "execution_count": 7,
     "metadata": {},
     "output_type": "execute_result"
    }
   ],
   "source": [
    "(df[\"psage\"] == 999).sum()"
   ]
  },
  {
   "cell_type": "markdown",
   "metadata": {},
   "source": [
    "Same as in the 2015 SMTO data, we see that the majority of respondents reported ages between 19 and 25 years old. The 2019 SMTO age distribution is almost identical to the 2015 distribution. Note that 67 rows have unknown ages, reported as 999."
   ]
  },
  {
   "cell_type": "markdown",
   "metadata": {},
   "source": [
    "### 1.3 University/College & Campus Distributions"
   ]
  },
  {
   "cell_type": "code",
   "execution_count": 8,
   "metadata": {
    "scrolled": true
   },
   "outputs": [
    {
     "name": "stdout",
     "output_type": "stream",
     "text": [
      "                         School\t Count\tPercentage\n",
      "          University of Toronto\t 5413\t28.29%\n",
      "             Ryerson University\t 4090\t21.37%\n",
      "                York University\t 2386\t12.47%\n",
      "            McMaster University\t 1756\t9.18%\n",
      "             Centennial College\t 1234\t6.45%\n",
      "                 Durham College\t 1225\t6.40%\n",
      "               Sheridan College\t 1168\t6.10%\n",
      "        Ontario Tech University\t 738\t3.86%\n",
      "                 Mohawk College\t 687\t3.59%\n",
      "                OCAD University\t 438\t2.29%\n"
     ]
    }
   ],
   "source": [
    "show_distribution(df, 'psinstitution', 'School')"
   ]
  },
  {
   "cell_type": "markdown",
   "metadata": {},
   "source": [
    "Unlike the 2015 SMTO dataset, the 2019 survey included additional university options as well as the inclusion of colleges. The newly represented institutions are:\n",
    "\n",
    "- McMaster University\n",
    "- Centennial College         \n",
    "- Durham College             \n",
    "- Sheridan College           \n",
    "- Ontario Tech University (UOIT)     \n",
    "- Mohawk College     \n",
    "\n",
    "With the addition of these universities and colleges, we have a much longer list of campuses, as displayed below. "
   ]
  },
  {
   "cell_type": "code",
   "execution_count": 9,
   "metadata": {
    "scrolled": false
   },
   "outputs": [
    {
     "name": "stdout",
     "output_type": "stream",
     "text": [
      "                                         Campus\t Count\tPercentage\n",
      "                              St. George Campus\t 3571\t26.73%\n",
      "                                   Keele Campus\t 2062\t15.43%\n",
      "                                McMaster Campus\t 1601\t11.98%\n",
      "                                  Oshawa Campus\t 916\t6.86%\n",
      "                             Scarborough Campus\t 761\t5.70%\n",
      "                             Mississauga Campus\t 740\t5.54%\n",
      "                                Progress Campus\t 530\t3.97%\n",
      "                   Fennell Campus (Main Campus)\t 522\t3.91%\n",
      "                            North Oshawa Campus\t 522\t3.91%\n",
      "                Trafalgar Road Campus, Oakville\t 443\t3.32%\n",
      "                         Davis Campus, Brampton\t 361\t2.70%\n",
      "                             Morningside Campus\t 281\t2.10%\n",
      "            Hazel McCallion Campus, Mississauga\t 240\t1.80%\n",
      "                                 Glendon Campus\t 150\t1.12%\n",
      "                                  Whitby Campus\t 148\t1.11%\n",
      "                         Downtown Oshawa Campus\t 128\t0.96%\n",
      "                               Ashtonbee Campus\t 114\t0.85%\n",
      "                             Story Arts Centre \t 72\t0.54%\n",
      "          Institute for Applied Health Sciences\t 61\t0.46%\n",
      "             Burlington Campus/Ron Joyce Centre\t 39\t0.29%\n",
      "                           Stoney Creek Campus \t 38\t0.28%\n",
      "                               Downsview Campus\t 29\t0.22%\n",
      "                        Pickering Learning Site\t 23\t0.17%\n",
      "                         Eglinton Learning Site\t 6\t0.04%\n",
      "    Performing Arts Commons at Daniels Spectrum\t 3\t0.02%\n"
     ]
    }
   ],
   "source": [
    "show_distribution(df, 'pscampusmain', 'Campus')"
   ]
  },
  {
   "cell_type": "markdown",
   "metadata": {},
   "source": [
    "Let us see the breakdown by institution type:"
   ]
  },
  {
   "cell_type": "code",
   "execution_count": 10,
   "metadata": {},
   "outputs": [
    {
     "name": "stdout",
     "output_type": "stream",
     "text": [
      "Number of University Students: 14821\n",
      "Number of College Students: 4314\n"
     ]
    }
   ],
   "source": [
    "num_uni = df['psinstitution'].apply(lambda x: \"University\" in x).sum()\n",
    "print(\"Number of University Students:\", num_uni)\n",
    "print(\"Number of College Students:\", len(df['psinstitution']) - num_uni)"
   ]
  },
  {
   "cell_type": "markdown",
   "metadata": {},
   "source": [
    "Even though college students were also surveyed, we can see that they represent only __23%__ of respondents, making university students a much more represented group. Also note that affiliation information was only available for 17469 of the 19135 students surveyed. There does not seem to be a pattern for which students did not indicate their affiliations."
   ]
  },
  {
   "cell_type": "markdown",
   "metadata": {},
   "source": [
    "### 1.4 International Students Distribution"
   ]
  },
  {
   "cell_type": "code",
   "execution_count": 11,
   "metadata": {
    "scrolled": false
   },
   "outputs": [
    {
     "name": "stdout",
     "output_type": "stream",
     "text": [
      "  Intl?\t Count\tPercentage\n",
      "     No\t 15644\t85.36%\n",
      "    Yes\t 2684\t14.64%\n"
     ]
    }
   ],
   "source": [
    "show_distribution(df, 'psinternationalstudent', \"Intl?\")"
   ]
  },
  {
   "cell_type": "markdown",
   "metadata": {},
   "source": [
    "This survey asked about whether the students were international or not, and we can see that the number of domestic students is much greater than the international ones. "
   ]
  },
  {
   "cell_type": "markdown",
   "metadata": {},
   "source": [
    "### 1.5 University Affiliation Distribution"
   ]
  },
  {
   "cell_type": "code",
   "execution_count": 12,
   "metadata": {
    "scrolled": true
   },
   "outputs": [
    {
     "name": "stdout",
     "output_type": "stream",
     "text": [
      " Status\t Count\tPercentage\n",
      "     FT\t 12745\t93.07%\n",
      "     PT\t 655\t4.78%\n",
      "  Other\t 294\t2.15%\n"
     ]
    }
   ],
   "source": [
    "show_distribution(df, 'personstatustime', 'Status')"
   ]
  },
  {
   "cell_type": "markdown",
   "metadata": {},
   "source": [
    "For university students, we have a very similar FT/PT distribution in comparison to 2015."
   ]
  },
  {
   "cell_type": "code",
   "execution_count": 13,
   "metadata": {
    "scrolled": true
   },
   "outputs": [
    {
     "name": "stdout",
     "output_type": "stream",
     "text": [
      "                            Affiliation\t Count\tPercentage\n",
      "                Full-Time Undergraduate\t 10230\t74.70%\n",
      "                     Full-Time Graduate\t 2515\t18.37%\n",
      "                Part-Time Undergraduate\t 416\t3.04%\n",
      "                     Part-Time Graduate\t 239\t1.75%\n",
      "                   Continuing Education\t 183\t1.34%\n",
      "           Other, e.g. exchange student\t 96\t0.70%\n",
      "      Not applicable / No longer attend\t 15\t0.11%\n"
     ]
    }
   ],
   "source": [
    "show_distribution(df, 'psuniversityaffiliation', 'Affiliation')"
   ]
  },
  {
   "cell_type": "markdown",
   "metadata": {},
   "source": [
    "Similar to 2015, the most represented groups of university sutdents are those full-time undergrad and graduate students, with a much higher number of undergraduate full-time students (as expected)."
   ]
  },
  {
   "cell_type": "code",
   "execution_count": 14,
   "metadata": {
    "scrolled": true
   },
   "outputs": [
    {
     "name": "stdout",
     "output_type": "stream",
     "text": [
      "        Enrollment Year\t Count\tPercentage\n",
      "                   2019\t 6067\t34.66%\n",
      "                   2018\t 4110\t23.48%\n",
      "                   2017\t 2873\t16.41%\n",
      "                   2016\t 2116\t12.09%\n",
      "                   2015\t 1028\t5.87%\n",
      "        2013 or earlier\t 846\t4.83%\n",
      "                   2014\t 466\t2.66%\n",
      "\n",
      "Number of First-Year Undergrads: 3025\n"
     ]
    }
   ],
   "source": [
    "show_distribution(df, 'psinstitutioninvolvedyears', \"Enrollment Year\")\n",
    "numOfFY = (((df['psuniversityaffiliation'] == 'Full-Time Undergraduate') | (df['psuniversityaffiliation'] == 'Part-Time Undergraduate')) & (df['psinstitutioninvolvedyears'] == '2019')).sum()\n",
    "print(\"\\nNumber of First-Year Undergrads:\", numOfFY)"
   ]
  },
  {
   "cell_type": "markdown",
   "metadata": {},
   "source": [
    "We were able to find the number of first-year undergrads by counting how many undergraduate students enrolled in 2019. We found that we have pretty much the same distribution of First-year undergrad studets in the 2019 SMTO survey as in 2015."
   ]
  },
  {
   "cell_type": "markdown",
   "metadata": {},
   "source": [
    "### 1.6 College Affiliation Distribution"
   ]
  },
  {
   "cell_type": "code",
   "execution_count": 15,
   "metadata": {},
   "outputs": [
    {
     "name": "stdout",
     "output_type": "stream",
     "text": [
      "                  FT/PT\t Count\tPercentage\n",
      "              Full-Time\t 3521\t93.27%\n",
      "             Part-Time \t 158\t4.19%\n",
      "   Continuing Education\t 96\t2.54%\n"
     ]
    }
   ],
   "source": [
    "show_distribution(df, 'pscollegeaffiliation', 'FT/PT')"
   ]
  },
  {
   "cell_type": "markdown",
   "metadata": {},
   "source": [
    "For our smaller sample college students, most of them are full-time."
   ]
  },
  {
   "cell_type": "code",
   "execution_count": 16,
   "metadata": {},
   "outputs": [
    {
     "name": "stdout",
     "output_type": "stream",
     "text": [
      "                   Year\t Count\tPercentage\n",
      "               1st year\t 2006\t53.17%\n",
      "               2nd year\t 1259\t33.37%\n",
      "               3rd year\t 378\t10.02%\n",
      "     4th year or higher\t 130\t3.45%\n"
     ]
    }
   ],
   "source": [
    "show_distribution(df, 'psyearofstudy', 'Year')"
   ]
  },
  {
   "cell_type": "markdown",
   "metadata": {},
   "source": [
    "Also, more than half of them are in their first year of college."
   ]
  },
  {
   "cell_type": "markdown",
   "metadata": {},
   "source": [
    "### 1.7 Transportation Mode Distribution"
   ]
  },
  {
   "cell_type": "code",
   "execution_count": 17,
   "metadata": {
    "scrolled": false
   },
   "outputs": [
    {
     "name": "stdout",
     "output_type": "stream",
     "text": [
      "                                                           Mode\t Count\tPercentage\n",
      "                                                    Transit Bus\t 2811\t25.19%\n",
      "                                                      Subway/RT\t 2129\t19.08%\n",
      "                                                           Walk\t 2036\t18.25%\n",
      "                                                    Drive alone\t 1104\t9.89%\n",
      "                                                       GO Train\t 880\t7.89%\n",
      "                                                         GO Bus\t 560\t5.02%\n",
      "                                                        Bicycle\t 373\t3.34%\n",
      " Paratransit service (e.g., bus transport for disabled persons)\t 262\t2.35%\n",
      "                  Auto passenger (driver is a household member)\t 202\t1.81%\n",
      "                                                      Streetcar\t 170\t1.52%\n",
      "               Drive with passenger(s) (household members only)\t 149\t1.34%\n",
      "                        Accessibility adapted vehicle as driver\t 100\t0.90%\n",
      "      Drive with passenger(s) (including non-household members)\t 93\t0.83%\n",
      "                     Accessibility adapted vehicle as passenger\t 73\t0.65%\n",
      "                                                          Other\t 46\t0.41%\n",
      "     I do not travel to the university (distance learners only)\t 38\t0.34%\n",
      "                                           Inter-campus shuttle\t 38\t0.34%\n",
      "                                                      Bikeshare\t 34\t0.30%\n",
      "                          Ride-hailing alone (UberX, Lyft etc.)\t 26\t0.23%\n",
      "              Auto passenger (driver is a non-household member)\t 21\t0.19%\n",
      "                                   Motorcycle, moped or scooter\t 7\t0.06%\n",
      "                                                           Taxi\t 4\t0.04%\n",
      "   Ride-hailing with other passengers (Uberpool, Lyftpool etc.)\t 3\t0.03%\n"
     ]
    },
    {
     "data": {
      "image/png": "[encoded data removed]",
      "text/plain": [
       "<Figure size 1152x432 with 2 Axes>"
      ]
     },
     "metadata": {
      "needs_background": "light"
     },
     "output_type": "display_data"
    }
   ],
   "source": [
    "show_distribution(df, 'psmainmodefalltypical', 'Mode')\n",
    "\n",
    "plt.figure(figsize=(16,6))\n",
    "plt.subplot(1,2,1)\n",
    "plt.title('Mode choice frequency for entire dataset')\n",
    "df['psmainmodefalltypical'].value_counts().plot(kind='bar')\n",
    "plt.subplot(1,2,2)\n",
    "df['psmainmodefalltypical'].value_counts().plot.pie(labeldistance=None)\n",
    "plt.legend(bbox_to_anchor=(0, -1), loc=\"lower left\")\n",
    "plt.title('Mode choice distribution for entire dataset')\n",
    "plt.show()"
   ]
  },
  {
   "cell_type": "markdown",
   "metadata": {},
   "source": [
    "Ther first thing to note is that the 2019 Survey has a few more mode choice options. These new options that did not appear in 2015 are:\n",
    "\n",
    "- Accessibility adapted vehicle as driver\n",
    "- Accessibility adapted vehicle as passenger\n",
    "- Bikeshare\n",
    "- Drive with passenger(s) (household members only)\n",
    "- Drive with passenger(s) (including non-household members)\n",
    "- Auto passenger (driver is a household member)\n",
    "- Auto passenger (driver is a non-household member)\n",
    "- Ride-hailing alone (UberX, Lyft etc.)\n",
    "- Ride-hailing with other passengers (Uberpool, Lyftpool etc.)\n",
    "\n",
    "As we can see, most of these new modes are different ways of driving to school. A possible next step coule be to aggregate the modes a bit more, so that modes with similar characteristics are joined (eg. adding up different driving methods), and that way we will be able to get more relevant distributions. \n",
    "\n",
    "Anyway, we can see that local transit (transit bus and Subway/RT) have the biggest distributions followed by walking and driving, and regional transit (GO Train and GO Bus). It is also curious to see that the percentage of cyclists has gone down from 2019 to 2015 from __6.8%__ to __3.3%__. This could be due to the increased number of campuses that are not located in large city cores. "
   ]
  },
  {
   "cell_type": "markdown",
   "metadata": {},
   "source": [
    "### 1.8 Transportation Costs"
   ]
  },
  {
   "cell_type": "code",
   "execution_count": 18,
   "metadata": {
    "scrolled": true
   },
   "outputs": [
    {
     "data": {
      "text/plain": [
       "count    16918.000000\n",
       "mean       221.530618\n",
       "std        207.558443\n",
       "min          0.000000\n",
       "25%         90.000000\n",
       "50%        150.000000\n",
       "75%        300.000000\n",
       "max       1500.000000\n",
       "Name: psmonthlytravelcost, dtype: float64"
      ]
     },
     "execution_count": 18,
     "metadata": {},
     "output_type": "execute_result"
    }
   ],
   "source": [
    "df['psmonthlytravelcost'].describe()"
   ]
  },
  {
   "cell_type": "markdown",
   "metadata": {},
   "source": [
    "This survey also provides us with the monthly transportation cost for each respondent. __This information may be really useful when introducing cost variables into our mode choice logit models__."
   ]
  },
  {
   "cell_type": "markdown",
   "metadata": {},
   "source": [
    "### 1.9 Car Availability"
   ]
  },
  {
   "cell_type": "code",
   "execution_count": 19,
   "metadata": {
    "scrolled": true
   },
   "outputs": [
    {
     "name": "stdout",
     "output_type": "stream",
     "text": [
      " Car Available?\t Count\tPercentage\n",
      "             No\t 11292\t65.54%\n",
      "            Yes\t 5936\t34.46%\n"
     ]
    }
   ],
   "source": [
    "show_distribution(df, 'psautoavailability', 'Car Available?')"
   ]
  },
  {
   "cell_type": "code",
   "execution_count": 86,
   "metadata": {},
   "outputs": [
    {
     "name": "stdout",
     "output_type": "stream",
     "text": [
      "# Cars  Counts\n"
     ]
    },
    {
     "data": {
      "text/plain": [
       "0.0     3649\n",
       "1.0     3182\n",
       "2.0     2941\n",
       "3.0     1190\n",
       "4.0      390\n",
       "5.0       81\n",
       "6.0       21\n",
       "7.0        3\n",
       "8.0        3\n",
       "20.0       2\n",
       "10.0       1\n",
       "Name: hhvehiclenumber, dtype: int64"
      ]
     },
     "execution_count": 86,
     "metadata": {},
     "output_type": "execute_result"
    }
   ],
   "source": [
    "print(\"# Cars  Counts\")\n",
    "df['hhvehiclenumber'].value_counts()"
   ]
  },
  {
   "cell_type": "markdown",
   "metadata": {},
   "source": [
    "We have a higher number of studetns who claim to have one or more cars than students who say that they have an available vehicle, meaning that not every respondents who owns a car is able to use if for commuting purposes. "
   ]
  },
  {
   "cell_type": "markdown",
   "metadata": {},
   "source": [
    "### 1.10 Financial Support"
   ]
  },
  {
   "cell_type": "code",
   "execution_count": 20,
   "metadata": {},
   "outputs": [
    {
     "name": "stdout",
     "output_type": "stream",
     "text": [
      "         Family Support\t Count\tPercentage\n",
      "        Partial support\t 4549\t39.92%\n",
      "           Full support\t 3441\t30.19%\n",
      "             No support\t 3406\t29.89%\n"
     ]
    }
   ],
   "source": [
    "show_distribution(df, 'familysupporteducation', 'Family Support')"
   ]
  },
  {
   "cell_type": "markdown",
   "metadata": {},
   "source": [
    "Financial support was a new attribute introduced in the 2019 survey, which may be an interesting variable to work with. "
   ]
  },
  {
   "cell_type": "markdown",
   "metadata": {},
   "source": [
    "# 2. Tabulation of Household File\n",
    "This section of the tabulation was done with data from `SMTO_2019_Households.csv`."
   ]
  },
  {
   "cell_type": "markdown",
   "metadata": {},
   "source": [
    "### 2.1 Living Situation"
   ]
  },
  {
   "cell_type": "code",
   "execution_count": 22,
   "metadata": {
    "scrolled": true
   },
   "outputs": [
    {
     "data": {
      "image/png": "[encoded data removed]",
      "text/plain": [
       "<Figure size 432x288 with 1 Axes>"
      ]
     },
     "metadata": {},
     "output_type": "display_data"
    }
   ],
   "source": [
    "fig, ax = plt.subplots()\n",
    "labels= list(df['hhlivingsituation'].value_counts().index)\n",
    "ax.pie(df['hhlivingsituation'].value_counts(), labels=labels, autopct='%1.1f%%')\n",
    "ax.axis('equal')  # Equal aspect ratio ensures the pie chart is circular.\n",
    "ax.set_title('Living Situation')\n",
    "plt.show()"
   ]
  },
  {
   "cell_type": "markdown",
   "metadata": {},
   "source": [
    "Living arrangement distribution in the 2019 Survery looks very similar to the 2015 one with the exception that there is a new option for living with host family or at friend's house. "
   ]
  },
  {
   "cell_type": "markdown",
   "metadata": {},
   "source": [
    "### 2.2 Family Structure"
   ]
  },
  {
   "cell_type": "code",
   "execution_count": 23,
   "metadata": {},
   "outputs": [
    {
     "data": {
      "image/png": "[encoded data removed]",
      "text/plain": [
       "<Figure size 432x288 with 1 Axes>"
      ]
     },
     "metadata": {},
     "output_type": "display_data"
    }
   ],
   "source": [
    "fig, ax = plt.subplots()\n",
    "labels= list(df['hhstructure'].value_counts().index)\n",
    "ax.pie(df['hhstructure'].value_counts(), labels=labels, autopct='%1.1f%%')\n",
    "ax.axis('equal')  # Equal aspect ratio ensures the pie chart is circular.\n",
    "ax.set_title('Family Structures')\n",
    "plt.show()"
   ]
  },
  {
   "cell_type": "markdown",
   "metadata": {},
   "source": [
    "This survey also gives us information about the family structures of those students who claim to live with their families or partners. We can see that more than half of these students live in traditional households with a couple that have one or more children. Out of the 7565 respondents that said they lived with their families or with a partner, 7539 of them gave an answer for the family structure question. So only 26 did not respond.\n",
    "\n",
    "This family structure may be used for segmentation purposes because those students living with parents, for example, may live in very different areas that those living as a couple, and their commutes may differ a lot. "
   ]
  },
  {
   "cell_type": "markdown",
   "metadata": {},
   "source": [
    "### 2.3 Building Type"
   ]
  },
  {
   "cell_type": "code",
   "execution_count": 24,
   "metadata": {},
   "outputs": [
    {
     "name": "stdout",
     "output_type": "stream",
     "text": [
      "                              Home Type\t Count\tPercentage\n",
      "                  Single detached house\t 4668\t40.72%\n",
      "                     Apartment or Condo\t 3311\t28.88%\n",
      "               Row/Townhouse (attached)\t 1161\t10.13%\n",
      "                    Semi-detached house\t 1086\t9.47%\n",
      "                    On-campus residence\t 678\t5.91%\n",
      "                   Prefer not to answer\t 256\t2.23%\n",
      "                           I don't know\t 206\t1.80%\n",
      "     Other (Ex: mobile home, chalet...)\t 97\t0.85%\n"
     ]
    }
   ],
   "source": [
    "show_distribution(df, 'hhbuildingtype', 'Home Type')"
   ]
  },
  {
   "cell_type": "markdown",
   "metadata": {},
   "source": [
    "We also obtained information about the building type of each student. An important thing to note is that out of the 19,135 student respondents, only 11,463 of them provided an answer for this question. \n",
    "\n",
    "The most useful thing here is that we now have information about how many students live on campus. There are __678__ students who claim to live on residence. Let us quickly analyze only this group.\n",
    "\n",
    "#### 2.3.1 On-Campus Residents"
   ]
  },
  {
   "cell_type": "code",
   "execution_count": 25,
   "metadata": {},
   "outputs": [
    {
     "name": "stdout",
     "output_type": "stream",
     "text": [
      "                         School\t Count\tPercentage\n",
      "          University of Toronto\t 304\t44.84%\n",
      "            McMaster University\t 92\t13.57%\n",
      "                York University\t 83\t12.24%\n",
      "             Ryerson University\t 67\t9.88%\n",
      "               Sheridan College\t 48\t7.08%\n",
      "        Ontario Tech University\t 27\t3.98%\n",
      "                 Durham College\t 26\t3.83%\n",
      "             Centennial College\t 23\t3.39%\n",
      "                 Mohawk College\t 4\t0.59%\n",
      "                OCAD University\t 4\t0.59%\n"
     ]
    }
   ],
   "source": [
    "on_res = df[df['hhbuildingtype'] == \"On-campus residence\"]\n",
    "show_distribution(on_res, 'psinstitution', 'School')"
   ]
  },
  {
   "cell_type": "markdown",
   "metadata": {},
   "source": [
    "First, we see that the University of Toronto is the largest source of on-campus residents, with almost half. However, all ten institutions had respondents who listed themselves as on-campus residents."
   ]
  },
  {
   "cell_type": "code",
   "execution_count": 26,
   "metadata": {},
   "outputs": [
    {
     "name": "stdout",
     "output_type": "stream",
     "text": [
      "  Intl?\t Count\tPercentage\n",
      "     No\t 479\t70.65%\n",
      "    Yes\t 199\t29.35%\n"
     ]
    }
   ],
   "source": [
    "show_distribution(on_res, 'psinternationalstudent', 'Intl?')"
   ]
  },
  {
   "cell_type": "markdown",
   "metadata": {},
   "source": [
    "As could be expected, the proportion of international students is higher for students living on-campus. However, it remains relatively small at 30%, suggesting a possible underrepresentation of this group."
   ]
  },
  {
   "cell_type": "code",
   "execution_count": 27,
   "metadata": {},
   "outputs": [
    {
     "name": "stdout",
     "output_type": "stream",
     "text": [
      "                    Affiliation\t Count\tPercentage\n",
      "        Full-Time Undergraduate\t 511\t88.56%\n",
      "             Full-Time Graduate\t 55\t9.53%\n",
      "   Other, e.g. exchange student\t 6\t1.04%\n",
      "             Part-Time Graduate\t 3\t0.52%\n",
      "        Part-Time Undergraduate\t 2\t0.35%\n"
     ]
    }
   ],
   "source": [
    "show_distribution(on_res, 'psuniversityaffiliation', 'Affiliation')"
   ]
  },
  {
   "cell_type": "markdown",
   "metadata": {},
   "source": [
    "The majority of university students living on-campus are undergraduates, and the vast majority are full-time students."
   ]
  },
  {
   "cell_type": "code",
   "execution_count": 28,
   "metadata": {},
   "outputs": [
    {
     "name": "stdout",
     "output_type": "stream",
     "text": [
      "         Status\t Count\tPercentage\n",
      "      Full-Time\t 100\t99.01%\n",
      "     Part-Time \t 1\t0.99%\n"
     ]
    }
   ],
   "source": [
    "show_distribution(on_res, 'pscollegeaffiliation', 'Status')"
   ]
  },
  {
   "cell_type": "markdown",
   "metadata": {},
   "source": [
    "This pattern holds true for college students as well."
   ]
  },
  {
   "cell_type": "code",
   "execution_count": 29,
   "metadata": {},
   "outputs": [
    {
     "name": "stdout",
     "output_type": "stream",
     "text": [
      "        Enrollment Year\t Count\tPercentage\n",
      "                   2019\t 469\t69.17%\n",
      "                   2018\t 107\t15.78%\n",
      "                   2017\t 54\t7.96%\n",
      "                   2016\t 31\t4.57%\n",
      "                   2015\t 12\t1.77%\n",
      "        2013 or earlier\t 5\t0.74%\n"
     ]
    }
   ],
   "source": [
    "show_distribution(on_res, 'psinstitutioninvolvedyears', 'Enrollment Year')"
   ]
  },
  {
   "cell_type": "markdown",
   "metadata": {},
   "source": [
    "According to this, the majority of on-campus residents at universities are first-years. This is expected, as residence is often guaranteed for this group and upper-year students choose to live off-campus. Let us make a similar query for college on-campus residents."
   ]
  },
  {
   "cell_type": "code",
   "execution_count": 30,
   "metadata": {},
   "outputs": [
    {
     "name": "stdout",
     "output_type": "stream",
     "text": [
      "           Year\t Count\tPercentage\n",
      "       1st year\t 78\t77.23%\n",
      "       2nd year\t 16\t15.84%\n",
      "       3rd year\t 7\t6.93%\n"
     ]
    }
   ],
   "source": [
    "show_distribution(on_res, 'psyearofstudy', 'Year')"
   ]
  },
  {
   "cell_type": "markdown",
   "metadata": {},
   "source": [
    "Again, first-year students are overrepresented among those students living on-campus."
   ]
  },
  {
   "cell_type": "code",
   "execution_count": 31,
   "metadata": {},
   "outputs": [
    {
     "name": "stdout",
     "output_type": "stream",
     "text": [
      "                                                           Mode\t Count\tPercentage\n",
      "                                                           Walk\t 500\t75.64%\n",
      "                                                    Transit Bus\t 57\t8.62%\n",
      "                                                      Subway/RT\t 25\t3.78%\n",
      "     I do not travel to the university (distance learners only)\t 14\t2.12%\n",
      " Paratransit service (e.g., bus transport for disabled persons)\t 13\t1.97%\n",
      "                                                        Bicycle\t 10\t1.51%\n",
      "                                                         GO Bus\t 7\t1.06%\n",
      "                                           Inter-campus shuttle\t 6\t0.91%\n",
      "                  Auto passenger (driver is a household member)\t 5\t0.76%\n",
      "                                                    Drive alone\t 5\t0.76%\n",
      "                                                          Other\t 5\t0.76%\n",
      "                          Ride-hailing alone (UberX, Lyft etc.)\t 3\t0.45%\n",
      "                                                      Bikeshare\t 3\t0.45%\n",
      "                                                       GO Train\t 3\t0.45%\n",
      "                        Accessibility adapted vehicle as driver\t 1\t0.15%\n",
      "                                                           Taxi\t 1\t0.15%\n",
      "                                                      Streetcar\t 1\t0.15%\n",
      "               Drive with passenger(s) (household members only)\t 1\t0.15%\n",
      "                     Accessibility adapted vehicle as passenger\t 1\t0.15%\n"
     ]
    }
   ],
   "source": [
    "show_distribution(on_res, 'psmainmodefalltypical', 'Mode')"
   ]
  },
  {
   "cell_type": "markdown",
   "metadata": {},
   "source": [
    "Predictably, the majority of on-campus residents walk to campus. Several more use local transit, while a handful of students use other modes."
   ]
  },
  {
   "cell_type": "code",
   "execution_count": 32,
   "metadata": {},
   "outputs": [
    {
     "data": {
      "text/plain": [
       "1.0     255\n",
       "3.0     112\n",
       "5.0      32\n",
       "2.0      23\n",
       "4.0      22\n",
       "7.0       5\n",
       "6.0       3\n",
       "50.0      3\n",
       "15.0      1\n",
       "12.0      1\n",
       "20.0      1\n",
       "35.0      1\n",
       "11.0      1\n",
       "Name: numroommates, dtype: int64"
      ]
     },
     "execution_count": 32,
     "metadata": {},
     "output_type": "execute_result"
    }
   ],
   "source": [
    "on_res['numroommates'].value_counts()"
   ]
  },
  {
   "cell_type": "markdown",
   "metadata": {},
   "source": [
    "460 on-campus residents indicated having roommates. Most of these had one other roommate, and the majority had five or fewer roommates."
   ]
  },
  {
   "cell_type": "code",
   "execution_count": 33,
   "metadata": {},
   "outputs": [
    {
     "data": {
      "text/plain": [
       "5198.0    82\n",
       "70.0      62\n",
       "69.0      60\n",
       "47.0      55\n",
       "38.0      47\n",
       "          ..\n",
       "1124.0     1\n",
       "490.0      1\n",
       "4016.0     1\n",
       "52.0       1\n",
       "2257.0     1\n",
       "Name: HmTTS2006, Length: 62, dtype: int64"
      ]
     },
     "execution_count": 33,
     "metadata": {},
     "output_type": "execute_result"
    }
   ],
   "source": [
    "on_res['HmTTS2006'].value_counts()"
   ]
  },
  {
   "cell_type": "markdown",
   "metadata": {},
   "source": [
    "We would expect that only several zones be included in this column for students indicating they lived on campus, but a total of 62 zones are listed. The most frequent zones can be attributed to McMaster University, the University of Toronto, or Ryerson University. It would be interesting to verify how good of an indicator living in one of these zones is of attending a certain school."
   ]
  },
  {
   "cell_type": "markdown",
   "metadata": {},
   "source": [
    "### 2.4 Family Income Distribution"
   ]
  },
  {
   "cell_type": "code",
   "execution_count": 34,
   "metadata": {
    "scrolled": true
   },
   "outputs": [
    {
     "name": "stdout",
     "output_type": "stream",
     "text": [
      "          Family Income\t Count\tPercentage\n",
      "           I don't know\t 1290\t16.44%\n",
      "   Prefer not to answer\t 807\t10.28%\n",
      "      $ 15,000 - 29,999\t 647\t8.24%\n",
      "    $ 100,000 - 124,999\t 623\t7.94%\n",
      "      $ 50,000 - 59,999\t 541\t6.89%\n",
      "     Less than $ 14,999\t 512\t6.52%\n",
      "      $ 40,000 - 49,999\t 491\t6.26%\n",
      "      $ 30,000 - 39,999\t 483\t6.15%\n",
      "      $ 60,000 - 69,999\t 457\t5.82%\n",
      "      $ 70,000 - 79,999\t 357\t4.55%\n",
      "      $ 80,000 - 89,999\t 340\t4.33%\n",
      "            $ 200,000 +\t 333\t4.24%\n",
      "      $ 90,000 - 99,999\t 330\t4.20%\n",
      "    $ 150,000 - 199,999\t 319\t4.06%\n",
      "    $ 125,000 - 149,999\t 319\t4.06%\n"
     ]
    }
   ],
   "source": [
    "show_distribution(df, 'familyincomelevel', 'Family Income')"
   ]
  },
  {
   "cell_type": "markdown",
   "metadata": {},
   "source": [
    "In 2019, the number of income classes has increased, with students being able to select a lot more specific ranges. A large portion of students either do not know their income class or preferred not to indicate it. This question was only asked to respondents who receive financial support (either full or partial) from family for their education and other related costs. As we saw earlier, only about 2/3 of the respondents received financial support.\n",
    "\n",
    "__NOTE:__ In the 2015 survey we have information about __Household Income__, but we do not know if it was only asked to those respondents living with families or not.We also do not know if the question asked about their family’s household OR their current household.This makes a big difference because if by household they meant \"current household\", then many of the low incomes might have been due to the fact that many students living alone do not have jobs, and if they do, they are usually lower paid jobs. However, for 2019 we know that the question specifically asked:  _\"Please indicate your gross family income level (before taxes) in 2018\"_. This means that this time, the question about income particularly asks about thier family household income.  "
   ]
  },
  {
   "cell_type": "markdown",
   "metadata": {},
   "source": [
    "# 3. Main Conclusions from `Respondents` and `Households` files\n",
    "\n",
    "- From 2015 to 2019 we have gained a broader set of university of college campuses represented, meaning we can more completely model post-secondary students from across the GTHA.\n",
    "- We have gained more detailed information about travel modes and costs, which may prove to be helpful.\n",
    "- We have lost information about reported travel times and home to school distances. However, these can be obtained from the LoS matrices since we have information about Home Zone and School Zone. \n",
    "- We now know about students who live on residence. If these students can be identified in TTS, their school location choice will be easier to identify. Furthermore, after excluding these students, the segmentation between first-year undergraduates and upper-year undergraduates may not be as relevant.\n",
    "- The 2019 income classes are a lot more specific. We may be able to better compare them with TTS income ranges for use in future analyses on TTS data."
   ]
  },
  {
   "cell_type": "markdown",
   "metadata": {},
   "source": [
    "# 4. Notes about the `Trip Diaries`\n",
    "\n",
    "- Diaries available for about 40% of students, 19229 trips in total\n",
    "- Over 2000 (12%) of respondents only have one trip, with the mean near 2.5 and max 13.\n",
    "- Most common modes are transit (6400), walk (4500) and various car arrangements\n",
    "- Transit trips are mostly subway or bus, followed by Go Bus and Train, then streetcar\n",
    "- Home most frequent purpose for both origin and destination, followed by education. Shopping and work are next. Unfortunately, the purposes don’t quite balance: home was an origin 2000 times more than a destination. It is likely that people submitted incomplete diaries, but SMTO marked over 400 of these, which I had removed from the analysis.\n",
    "- There are 3452 home > school trips (18%) and 2100 school > home (11%).\n",
    "- There are 370 school > school trips, of which 138 were intrazonal by TTS zones.\n",
    "- The diary entries were spread across the week, including significant weekend responses.\n",
    "- The vast majority of trips included only one unique mode, with the most including 5.\n",
    "- Most trips included only one mode, some were 2 or 3 (not necessarily unique), up to 6."
   ]
  }
 ],
 "metadata": {
  "kernelspec": {
   "display_name": "Python 3",
   "language": "python",
   "name": "python3"
  },
  "language_info": {
   "codemirror_mode": {
    "name": "ipython",
    "version": 3
   },
   "file_extension": ".py",
   "mimetype": "text/x-python",
   "name": "python",
   "nbconvert_exporter": "python",
   "pygments_lexer": "ipython3",
   "version": "3.7.3"
  }
 },
 "nbformat": 4,
 "nbformat_minor": 2
}
