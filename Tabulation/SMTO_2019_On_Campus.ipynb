{
 "cells": [
  {
   "cell_type": "markdown",
   "metadata": {},
   "source": [
    "# 2019 StudentMoveTO Survey Data - Tabulation and Segmentation\n",
    "\n",
    "In this notebook, we tabulate the data from the 2019 StudentMoveTO Survey. This includes paying specific attention to factors such as age, gender, and the distribution of respondents by affiliated university and campus."
   ]
  },
  {
   "cell_type": "code",
   "execution_count": 1,
   "metadata": {},
   "outputs": [
    {
     "name": "stderr",
     "output_type": "stream",
     "text": [
      "C:\\Users\\ethan\\anaconda3\\lib\\site-packages\\IPython\\core\\interactiveshell.py:3063: DtypeWarning: Columns (10,11,12) have mixed types.Specify dtype option on import or set low_memory=False.\n",
      "  interactivity=interactivity, compiler=compiler, result=result)\n"
     ]
    }
   ],
   "source": [
    "import pandas as pd\n",
    "import matplotlib\n",
    "import matplotlib.pyplot as plt\n",
    "\n",
    "df = pd.read_csv('../Data/SMTO_2019/SMTO_2019_Respondents.csv')\n",
    "df1 = pd.read_csv('../Data/SMTO_2019/SMTO_2019_Households.csv')"
   ]
  },
  {
   "cell_type": "code",
   "execution_count": 97,
   "metadata": {},
   "outputs": [
    {
     "ename": "KeyError",
     "evalue": "\"None of ['UniquePsKey_'] are in the columns\"",
     "output_type": "error",
     "traceback": [
      "\u001b[1;31m---------------------------------------------------------------------------\u001b[0m",
      "\u001b[1;31mKeyError\u001b[0m                                  Traceback (most recent call last)",
      "\u001b[1;32m<ipython-input-97-9c41dd79aa46>\u001b[0m in \u001b[0;36m<module>\u001b[1;34m\u001b[0m\n\u001b[1;32m----> 1\u001b[1;33m \u001b[0mdf\u001b[0m \u001b[1;33m=\u001b[0m \u001b[0mdf\u001b[0m\u001b[1;33m.\u001b[0m\u001b[0mset_index\u001b[0m\u001b[1;33m(\u001b[0m\u001b[1;34m'UniquePsKey_'\u001b[0m\u001b[1;33m)\u001b[0m\u001b[1;33m\u001b[0m\u001b[1;33m\u001b[0m\u001b[0m\n\u001b[0m\u001b[0;32m      2\u001b[0m \u001b[0mdf1\u001b[0m \u001b[1;33m=\u001b[0m \u001b[0mdf1\u001b[0m\u001b[1;33m.\u001b[0m\u001b[0mset_index\u001b[0m\u001b[1;33m(\u001b[0m\u001b[1;34m'UniquePsKey_'\u001b[0m\u001b[1;33m)\u001b[0m\u001b[1;33m\u001b[0m\u001b[1;33m\u001b[0m\u001b[0m\n\u001b[0;32m      3\u001b[0m \u001b[0mtemp\u001b[0m \u001b[1;33m=\u001b[0m \u001b[0mpd\u001b[0m\u001b[1;33m.\u001b[0m\u001b[0mconcat\u001b[0m\u001b[1;33m(\u001b[0m\u001b[1;33m[\u001b[0m\u001b[0mdf\u001b[0m\u001b[1;33m,\u001b[0m \u001b[0mdf1\u001b[0m\u001b[1;33m]\u001b[0m\u001b[1;33m,\u001b[0m \u001b[0maxis\u001b[0m\u001b[1;33m=\u001b[0m\u001b[1;36m1\u001b[0m\u001b[1;33m)\u001b[0m\u001b[1;33m\u001b[0m\u001b[1;33m\u001b[0m\u001b[0m\n",
      "\u001b[1;32m~\\anaconda3\\lib\\site-packages\\pandas\\core\\frame.py\u001b[0m in \u001b[0;36mset_index\u001b[1;34m(self, keys, drop, append, inplace, verify_integrity)\u001b[0m\n\u001b[0;32m   4301\u001b[0m \u001b[1;33m\u001b[0m\u001b[0m\n\u001b[0;32m   4302\u001b[0m         \u001b[1;32mif\u001b[0m \u001b[0mmissing\u001b[0m\u001b[1;33m:\u001b[0m\u001b[1;33m\u001b[0m\u001b[1;33m\u001b[0m\u001b[0m\n\u001b[1;32m-> 4303\u001b[1;33m             \u001b[1;32mraise\u001b[0m \u001b[0mKeyError\u001b[0m\u001b[1;33m(\u001b[0m\u001b[1;34mf\"None of {missing} are in the columns\"\u001b[0m\u001b[1;33m)\u001b[0m\u001b[1;33m\u001b[0m\u001b[1;33m\u001b[0m\u001b[0m\n\u001b[0m\u001b[0;32m   4304\u001b[0m \u001b[1;33m\u001b[0m\u001b[0m\n\u001b[0;32m   4305\u001b[0m         \u001b[1;32mif\u001b[0m \u001b[0minplace\u001b[0m\u001b[1;33m:\u001b[0m\u001b[1;33m\u001b[0m\u001b[1;33m\u001b[0m\u001b[0m\n",
      "\u001b[1;31mKeyError\u001b[0m: \"None of ['UniquePsKey_'] are in the columns\""
     ]
    }
   ],
   "source": [
    "df = df.set_index('UniquePsKey_')\n",
    "df1 = df1.set_index('UniquePsKey_')\n",
    "temp = pd.concat([df, df1], axis=1)"
   ]
  },
  {
   "cell_type": "code",
   "execution_count": 80,
   "metadata": {},
   "outputs": [
    {
     "data": {
      "text/html": [
       "<div>\n",
       "<style scoped>\n",
       "    .dataframe tbody tr th:only-of-type {\n",
       "        vertical-align: middle;\n",
       "    }\n",
       "\n",
       "    .dataframe tbody tr th {\n",
       "        vertical-align: top;\n",
       "    }\n",
       "\n",
       "    .dataframe thead th {\n",
       "        text-align: right;\n",
       "    }\n",
       "</style>\n",
       "<table border=\"1\" class=\"dataframe\">\n",
       "  <thead>\n",
       "    <tr style=\"text-align: right;\">\n",
       "      <th></th>\n",
       "      <th>PsKey_</th>\n",
       "      <th>psgender</th>\n",
       "      <th>psage</th>\n",
       "      <th>psinstitution</th>\n",
       "      <th>psinternationalstudent</th>\n",
       "      <th>psdisability</th>\n",
       "      <th>psuniversityaffiliation</th>\n",
       "      <th>personstatusgrad</th>\n",
       "      <th>personstatustime</th>\n",
       "      <th>pscollegeaffiliation</th>\n",
       "      <th>...</th>\n",
       "      <th>hhownership</th>\n",
       "      <th>familyincomelevel</th>\n",
       "      <th>HmCTuid</th>\n",
       "      <th>HmTTS2006</th>\n",
       "      <th>HmPD</th>\n",
       "      <th>HmRegion</th>\n",
       "      <th>HmFSA2016</th>\n",
       "      <th>tripsdatekey</th>\n",
       "      <th>TolTp</th>\n",
       "      <th>surveyComplDate</th>\n",
       "    </tr>\n",
       "    <tr>\n",
       "      <th>UniquePsKey_</th>\n",
       "      <th></th>\n",
       "      <th></th>\n",
       "      <th></th>\n",
       "      <th></th>\n",
       "      <th></th>\n",
       "      <th></th>\n",
       "      <th></th>\n",
       "      <th></th>\n",
       "      <th></th>\n",
       "      <th></th>\n",
       "      <th></th>\n",
       "      <th></th>\n",
       "      <th></th>\n",
       "      <th></th>\n",
       "      <th></th>\n",
       "      <th></th>\n",
       "      <th></th>\n",
       "      <th></th>\n",
       "      <th></th>\n",
       "      <th></th>\n",
       "      <th></th>\n",
       "    </tr>\n",
       "  </thead>\n",
       "  <tbody>\n",
       "    <tr>\n",
       "      <th>32</th>\n",
       "      <td>51</td>\n",
       "      <td>Female</td>\n",
       "      <td>19.0</td>\n",
       "      <td>Centennial College</td>\n",
       "      <td>Yes</td>\n",
       "      <td>No</td>\n",
       "      <td>NaN</td>\n",
       "      <td>NaN</td>\n",
       "      <td>NaN</td>\n",
       "      <td>Full-Time</td>\n",
       "      <td>...</td>\n",
       "      <td>Unknown</td>\n",
       "      <td>Prefer not to answer</td>\n",
       "      <td>5350363.07</td>\n",
       "      <td>493.0</td>\n",
       "      <td>13.0</td>\n",
       "      <td>1.0</td>\n",
       "      <td>M1G</td>\n",
       "      <td>10/6/2019</td>\n",
       "      <td>NaN</td>\n",
       "      <td>10/7/2019</td>\n",
       "    </tr>\n",
       "    <tr>\n",
       "      <th>81</th>\n",
       "      <td>114</td>\n",
       "      <td>Male</td>\n",
       "      <td>39.0</td>\n",
       "      <td>Centennial College</td>\n",
       "      <td>Yes</td>\n",
       "      <td>No</td>\n",
       "      <td>NaN</td>\n",
       "      <td>NaN</td>\n",
       "      <td>NaN</td>\n",
       "      <td>Full-Time</td>\n",
       "      <td>...</td>\n",
       "      <td>Tenant</td>\n",
       "      <td>$ 60,000 - 69,999</td>\n",
       "      <td>5350363.07</td>\n",
       "      <td>493.0</td>\n",
       "      <td>13.0</td>\n",
       "      <td>1.0</td>\n",
       "      <td>M1G</td>\n",
       "      <td>10/9/2019</td>\n",
       "      <td>2.0</td>\n",
       "      <td>10/10/2019</td>\n",
       "    </tr>\n",
       "    <tr>\n",
       "      <th>180</th>\n",
       "      <td>232</td>\n",
       "      <td>Male</td>\n",
       "      <td>18.0</td>\n",
       "      <td>Centennial College</td>\n",
       "      <td>Yes</td>\n",
       "      <td>No</td>\n",
       "      <td>NaN</td>\n",
       "      <td>NaN</td>\n",
       "      <td>NaN</td>\n",
       "      <td>Full-Time</td>\n",
       "      <td>...</td>\n",
       "      <td>Tenant</td>\n",
       "      <td>NaN</td>\n",
       "      <td>5350363.07</td>\n",
       "      <td>493.0</td>\n",
       "      <td>13.0</td>\n",
       "      <td>1.0</td>\n",
       "      <td>M1G</td>\n",
       "      <td>10/15/2019</td>\n",
       "      <td>NaN</td>\n",
       "      <td>10/16/2019</td>\n",
       "    </tr>\n",
       "    <tr>\n",
       "      <th>211</th>\n",
       "      <td>270</td>\n",
       "      <td>Female</td>\n",
       "      <td>20.0</td>\n",
       "      <td>Centennial College</td>\n",
       "      <td>No</td>\n",
       "      <td>No</td>\n",
       "      <td>NaN</td>\n",
       "      <td>NaN</td>\n",
       "      <td>NaN</td>\n",
       "      <td>Full-Time</td>\n",
       "      <td>...</td>\n",
       "      <td>Tenant</td>\n",
       "      <td>NaN</td>\n",
       "      <td>5350363.07</td>\n",
       "      <td>493.0</td>\n",
       "      <td>13.0</td>\n",
       "      <td>1.0</td>\n",
       "      <td>M1G</td>\n",
       "      <td>10/17/2019</td>\n",
       "      <td>1.0</td>\n",
       "      <td>10/18/2019</td>\n",
       "    </tr>\n",
       "    <tr>\n",
       "      <th>240</th>\n",
       "      <td>307</td>\n",
       "      <td>Male</td>\n",
       "      <td>21.0</td>\n",
       "      <td>Centennial College</td>\n",
       "      <td>Yes</td>\n",
       "      <td>No</td>\n",
       "      <td>NaN</td>\n",
       "      <td>NaN</td>\n",
       "      <td>NaN</td>\n",
       "      <td>Part-Time</td>\n",
       "      <td>...</td>\n",
       "      <td>Tenant</td>\n",
       "      <td>$ 15,000 - 29,999</td>\n",
       "      <td>5350363.07</td>\n",
       "      <td>493.0</td>\n",
       "      <td>13.0</td>\n",
       "      <td>1.0</td>\n",
       "      <td>M1G</td>\n",
       "      <td>10/20/2019</td>\n",
       "      <td>NaN</td>\n",
       "      <td>10/21/2019</td>\n",
       "    </tr>\n",
       "    <tr>\n",
       "      <th>...</th>\n",
       "      <td>...</td>\n",
       "      <td>...</td>\n",
       "      <td>...</td>\n",
       "      <td>...</td>\n",
       "      <td>...</td>\n",
       "      <td>...</td>\n",
       "      <td>...</td>\n",
       "      <td>...</td>\n",
       "      <td>...</td>\n",
       "      <td>...</td>\n",
       "      <td>...</td>\n",
       "      <td>...</td>\n",
       "      <td>...</td>\n",
       "      <td>...</td>\n",
       "      <td>...</td>\n",
       "      <td>...</td>\n",
       "      <td>...</td>\n",
       "      <td>...</td>\n",
       "      <td>...</td>\n",
       "      <td>...</td>\n",
       "      <td>...</td>\n",
       "    </tr>\n",
       "    <tr>\n",
       "      <th>19029</th>\n",
       "      <td>2503</td>\n",
       "      <td>Female</td>\n",
       "      <td>19.0</td>\n",
       "      <td>York University</td>\n",
       "      <td>No</td>\n",
       "      <td>No</td>\n",
       "      <td>Full-Time Undergraduate</td>\n",
       "      <td>UG</td>\n",
       "      <td>FT</td>\n",
       "      <td>NaN</td>\n",
       "      <td>...</td>\n",
       "      <td>Tenant</td>\n",
       "      <td>$ 150,000 - 199,999</td>\n",
       "      <td>5350311.06</td>\n",
       "      <td>391.0</td>\n",
       "      <td>10.0</td>\n",
       "      <td>1.0</td>\n",
       "      <td>M3J</td>\n",
       "      <td>11/18/2019</td>\n",
       "      <td>2.0</td>\n",
       "      <td>11/19/2019</td>\n",
       "    </tr>\n",
       "    <tr>\n",
       "      <th>19053</th>\n",
       "      <td>2528</td>\n",
       "      <td>Male</td>\n",
       "      <td>35.0</td>\n",
       "      <td>York University</td>\n",
       "      <td>No</td>\n",
       "      <td>No</td>\n",
       "      <td>Full-Time Graduate</td>\n",
       "      <td>Grad</td>\n",
       "      <td>FT</td>\n",
       "      <td>NaN</td>\n",
       "      <td>...</td>\n",
       "      <td>Tenant</td>\n",
       "      <td>NaN</td>\n",
       "      <td>5350311.06</td>\n",
       "      <td>398.0</td>\n",
       "      <td>10.0</td>\n",
       "      <td>1.0</td>\n",
       "      <td>M3J</td>\n",
       "      <td>11/18/2019</td>\n",
       "      <td>2.0</td>\n",
       "      <td>11/19/2019</td>\n",
       "    </tr>\n",
       "    <tr>\n",
       "      <th>19057</th>\n",
       "      <td>2532</td>\n",
       "      <td>Prefer not to answer</td>\n",
       "      <td>22.0</td>\n",
       "      <td>York University</td>\n",
       "      <td>Yes</td>\n",
       "      <td>No</td>\n",
       "      <td>Full-Time Undergraduate</td>\n",
       "      <td>UG</td>\n",
       "      <td>FT</td>\n",
       "      <td>NaN</td>\n",
       "      <td>...</td>\n",
       "      <td>Tenant</td>\n",
       "      <td>$ 30,000 - 39,999</td>\n",
       "      <td>5350311.06</td>\n",
       "      <td>391.0</td>\n",
       "      <td>10.0</td>\n",
       "      <td>1.0</td>\n",
       "      <td>M3J</td>\n",
       "      <td>11/18/2019</td>\n",
       "      <td>NaN</td>\n",
       "      <td>11/19/2019</td>\n",
       "    </tr>\n",
       "    <tr>\n",
       "      <th>19080</th>\n",
       "      <td>2558</td>\n",
       "      <td>Female</td>\n",
       "      <td>21.0</td>\n",
       "      <td>York University</td>\n",
       "      <td>No</td>\n",
       "      <td>No</td>\n",
       "      <td>Full-Time Graduate</td>\n",
       "      <td>Grad</td>\n",
       "      <td>FT</td>\n",
       "      <td>NaN</td>\n",
       "      <td>...</td>\n",
       "      <td>Tenant</td>\n",
       "      <td>NaN</td>\n",
       "      <td>5350311.06</td>\n",
       "      <td>398.0</td>\n",
       "      <td>10.0</td>\n",
       "      <td>1.0</td>\n",
       "      <td>M3J</td>\n",
       "      <td>11/20/2019</td>\n",
       "      <td>1.0</td>\n",
       "      <td>11/21/2019</td>\n",
       "    </tr>\n",
       "    <tr>\n",
       "      <th>19133</th>\n",
       "      <td>2616</td>\n",
       "      <td>Female</td>\n",
       "      <td>18.0</td>\n",
       "      <td>York University</td>\n",
       "      <td>No</td>\n",
       "      <td>No</td>\n",
       "      <td>Full-Time Undergraduate</td>\n",
       "      <td>UG</td>\n",
       "      <td>FT</td>\n",
       "      <td>NaN</td>\n",
       "      <td>...</td>\n",
       "      <td>Owner</td>\n",
       "      <td>$ 70,000 - 79,999</td>\n",
       "      <td>5350142</td>\n",
       "      <td>214.0</td>\n",
       "      <td>4.0</td>\n",
       "      <td>1.0</td>\n",
       "      <td>M4N</td>\n",
       "      <td>12/18/2019</td>\n",
       "      <td>NaN</td>\n",
       "      <td>12/19/2019</td>\n",
       "    </tr>\n",
       "  </tbody>\n",
       "</table>\n",
       "<p>678 rows × 87 columns</p>\n",
       "</div>"
      ],
      "text/plain": [
       "              PsKey_              psgender  psage       psinstitution  \\\n",
       "UniquePsKey_                                                            \n",
       "32                51                Female   19.0  Centennial College   \n",
       "81               114                  Male   39.0  Centennial College   \n",
       "180              232                  Male   18.0  Centennial College   \n",
       "211              270                Female   20.0  Centennial College   \n",
       "240              307                  Male   21.0  Centennial College   \n",
       "...              ...                   ...    ...                 ...   \n",
       "19029           2503                Female   19.0     York University   \n",
       "19053           2528                  Male   35.0     York University   \n",
       "19057           2532  Prefer not to answer   22.0     York University   \n",
       "19080           2558                Female   21.0     York University   \n",
       "19133           2616                Female   18.0     York University   \n",
       "\n",
       "             psinternationalstudent psdisability  psuniversityaffiliation  \\\n",
       "UniquePsKey_                                                                \n",
       "32                              Yes           No                      NaN   \n",
       "81                              Yes           No                      NaN   \n",
       "180                             Yes           No                      NaN   \n",
       "211                              No           No                      NaN   \n",
       "240                             Yes           No                      NaN   \n",
       "...                             ...          ...                      ...   \n",
       "19029                            No           No  Full-Time Undergraduate   \n",
       "19053                            No           No       Full-Time Graduate   \n",
       "19057                           Yes           No  Full-Time Undergraduate   \n",
       "19080                            No           No       Full-Time Graduate   \n",
       "19133                            No           No  Full-Time Undergraduate   \n",
       "\n",
       "             personstatusgrad  personstatustime pscollegeaffiliation  ...  \\\n",
       "UniquePsKey_                                                          ...   \n",
       "32                         NaN              NaN            Full-Time  ...   \n",
       "81                         NaN              NaN            Full-Time  ...   \n",
       "180                        NaN              NaN            Full-Time  ...   \n",
       "211                        NaN              NaN            Full-Time  ...   \n",
       "240                        NaN              NaN           Part-Time   ...   \n",
       "...                        ...              ...                  ...  ...   \n",
       "19029                       UG               FT                  NaN  ...   \n",
       "19053                     Grad               FT                  NaN  ...   \n",
       "19057                       UG               FT                  NaN  ...   \n",
       "19080                     Grad               FT                  NaN  ...   \n",
       "19133                       UG               FT                  NaN  ...   \n",
       "\n",
       "             hhownership     familyincomelevel     HmCTuid HmTTS2006  HmPD  \\\n",
       "UniquePsKey_                                                                 \n",
       "32               Unknown  Prefer not to answer  5350363.07     493.0  13.0   \n",
       "81                Tenant     $ 60,000 - 69,999  5350363.07     493.0  13.0   \n",
       "180               Tenant                   NaN  5350363.07     493.0  13.0   \n",
       "211               Tenant                   NaN  5350363.07     493.0  13.0   \n",
       "240               Tenant     $ 15,000 - 29,999  5350363.07     493.0  13.0   \n",
       "...                  ...                   ...         ...       ...   ...   \n",
       "19029             Tenant   $ 150,000 - 199,999  5350311.06     391.0  10.0   \n",
       "19053             Tenant                   NaN  5350311.06     398.0  10.0   \n",
       "19057             Tenant     $ 30,000 - 39,999  5350311.06     391.0  10.0   \n",
       "19080             Tenant                   NaN  5350311.06     398.0  10.0   \n",
       "19133              Owner     $ 70,000 - 79,999     5350142     214.0   4.0   \n",
       "\n",
       "             HmRegion HmFSA2016  tripsdatekey TolTp surveyComplDate  \n",
       "UniquePsKey_                                                         \n",
       "32                1.0       M1G     10/6/2019   NaN       10/7/2019  \n",
       "81                1.0       M1G     10/9/2019   2.0      10/10/2019  \n",
       "180               1.0       M1G    10/15/2019   NaN      10/16/2019  \n",
       "211               1.0       M1G    10/17/2019   1.0      10/18/2019  \n",
       "240               1.0       M1G    10/20/2019   NaN      10/21/2019  \n",
       "...               ...       ...           ...   ...             ...  \n",
       "19029             1.0       M3J    11/18/2019   2.0      11/19/2019  \n",
       "19053             1.0       M3J    11/18/2019   2.0      11/19/2019  \n",
       "19057             1.0       M3J    11/18/2019   NaN      11/19/2019  \n",
       "19080             1.0       M3J    11/20/2019   1.0      11/21/2019  \n",
       "19133             1.0       M4N    12/18/2019   NaN      12/19/2019  \n",
       "\n",
       "[678 rows x 87 columns]"
      ]
     },
     "execution_count": 80,
     "metadata": {},
     "output_type": "execute_result"
    }
   ],
   "source": [
    "temp2 = temp[temp['hhbuildingtype'] == \"On-campus residence\"]\n",
    "temp2"
   ]
  },
  {
   "cell_type": "code",
   "execution_count": 77,
   "metadata": {},
   "outputs": [
    {
     "data": {
      "text/plain": [
       "University of Toronto      304\n",
       "McMaster University         92\n",
       "York University             83\n",
       "Ryerson University          67\n",
       "Sheridan College            48\n",
       "Ontario Tech University     27\n",
       "Durham College              26\n",
       "Centennial College          23\n",
       "Mohawk College               4\n",
       "OCAD University              4\n",
       "Name: psinstitution, dtype: int64"
      ]
     },
     "execution_count": 77,
     "metadata": {},
     "output_type": "execute_result"
    }
   ],
   "source": [
    "temp2['psinstitution'].value_counts()"
   ]
  },
  {
   "cell_type": "code",
   "execution_count": 81,
   "metadata": {},
   "outputs": [
    {
     "data": {
      "text/plain": [
       "No     0.70649\n",
       "Yes    0.29351\n",
       "Name: psinternationalstudent, dtype: float64"
      ]
     },
     "execution_count": 81,
     "metadata": {},
     "output_type": "execute_result"
    }
   ],
   "source": [
    "temp2['psinternationalstudent'].value_counts(normalize=True)"
   ]
  },
  {
   "cell_type": "code",
   "execution_count": 88,
   "metadata": {},
   "outputs": [
    {
     "data": {
      "text/plain": [
       "2019               469\n",
       "2018               107\n",
       "2017                54\n",
       "2016                31\n",
       "2015                12\n",
       "2013 or earlier      5\n",
       "Name: psinstitutioninvolvedyears, dtype: int64"
      ]
     },
     "execution_count": 88,
     "metadata": {},
     "output_type": "execute_result"
    }
   ],
   "source": [
    "temp2['psinstitutioninvolvedyears'].value_counts()"
   ]
  },
  {
   "cell_type": "code",
   "execution_count": 95,
   "metadata": {},
   "outputs": [
    {
     "data": {
      "text/plain": [
       "1st year    78\n",
       "2nd year    16\n",
       "3rd year     7\n",
       "Name: psyearofstudy, dtype: int64"
      ]
     },
     "execution_count": 95,
     "metadata": {},
     "output_type": "execute_result"
    }
   ],
   "source": [
    "temp2['psyearofstudy'].value_counts()"
   ]
  },
  {
   "cell_type": "code",
   "execution_count": 90,
   "metadata": {},
   "outputs": [
    {
     "data": {
      "text/plain": [
       "UG       513\n",
       "Grad      58\n",
       "Other      6\n",
       "Name: personstatusgrad , dtype: int64"
      ]
     },
     "execution_count": 90,
     "metadata": {},
     "output_type": "execute_result"
    }
   ],
   "source": [
    "temp2['personstatusgrad '].value_counts()"
   ]
  },
  {
   "cell_type": "code",
   "execution_count": 91,
   "metadata": {},
   "outputs": [
    {
     "data": {
      "text/plain": [
       "5198.0    82\n",
       "70.0      62\n",
       "69.0      60\n",
       "47.0      55\n",
       "38.0      47\n",
       "          ..\n",
       "1124.0     1\n",
       "490.0      1\n",
       "4016.0     1\n",
       "52.0       1\n",
       "2257.0     1\n",
       "Name: HmTTS2006, Length: 62, dtype: int64"
      ]
     },
     "execution_count": 91,
     "metadata": {},
     "output_type": "execute_result"
    }
   ],
   "source": [
    "temp2['HmTTS2006'].value_counts()"
   ]
  },
  {
   "cell_type": "code",
   "execution_count": 92,
   "metadata": {},
   "outputs": [
    {
     "data": {
      "text/plain": [
       "Full-Time Undergraduate         511\n",
       "Full-Time Graduate               55\n",
       "Other, e.g. exchange student      6\n",
       "Part-Time Graduate                3\n",
       "Part-Time Undergraduate           2\n",
       "Name: psuniversityaffiliation, dtype: int64"
      ]
     },
     "execution_count": 92,
     "metadata": {},
     "output_type": "execute_result"
    }
   ],
   "source": [
    "temp2['psuniversityaffiliation'].value_counts()"
   ]
  },
  {
   "cell_type": "code",
   "execution_count": 93,
   "metadata": {},
   "outputs": [
    {
     "data": {
      "text/plain": [
       "Full-Time     100\n",
       "Part-Time       1\n",
       "Name: pscollegeaffiliation, dtype: int64"
      ]
     },
     "execution_count": 93,
     "metadata": {},
     "output_type": "execute_result"
    }
   ],
   "source": [
    "temp2['pscollegeaffiliation'].value_counts()"
   ]
  },
  {
   "cell_type": "code",
   "execution_count": 96,
   "metadata": {},
   "outputs": [
    {
     "data": {
      "text/plain": [
       "Walk                                                              500\n",
       "Transit Bus                                                        57\n",
       "Subway/RT                                                          25\n",
       "I do not travel to the university (distance learners only)         14\n",
       "Paratransit service (e.g., bus transport for disabled persons)     13\n",
       "Bicycle                                                            10\n",
       "GO Bus                                                              7\n",
       "Inter-campus shuttle                                                6\n",
       "Auto passenger (driver is a household member)                       5\n",
       "Drive alone                                                         5\n",
       "Other                                                               5\n",
       "GO Train                                                            3\n",
       "Ride-hailing alone (UberX, Lyft etc.)                               3\n",
       "Bikeshare                                                           3\n",
       "Drive with passenger(s) (household members only)                    1\n",
       "Accessibility adapted vehicle as passenger                          1\n",
       "Taxi                                                                1\n",
       "Streetcar                                                           1\n",
       "Accessibility adapted vehicle as driver                             1\n",
       "Name: psmainmodefalltypical, dtype: int64"
      ]
     },
     "execution_count": 96,
     "metadata": {},
     "output_type": "execute_result"
    }
   ],
   "source": [
    "temp2['psmainmodefalltypical'].value_counts()"
   ]
  },
  {
   "cell_type": "code",
   "execution_count": 98,
   "metadata": {},
   "outputs": [
    {
     "data": {
      "text/plain": [
       "1.0     255\n",
       "3.0     112\n",
       "5.0      32\n",
       "2.0      23\n",
       "4.0      22\n",
       "7.0       5\n",
       "6.0       3\n",
       "50.0      3\n",
       "15.0      1\n",
       "12.0      1\n",
       "20.0      1\n",
       "35.0      1\n",
       "11.0      1\n",
       "Name: numroommates, dtype: int64"
      ]
     },
     "execution_count": 98,
     "metadata": {},
     "output_type": "execute_result"
    }
   ],
   "source": [
    "temp2['numroommates'].value_counts()"
   ]
  },
  {
   "cell_type": "code",
   "execution_count": null,
   "metadata": {},
   "outputs": [],
   "source": []
  },
  {
   "cell_type": "code",
   "execution_count": 87,
   "metadata": {},
   "outputs": [
    {
     "name": "stdout",
     "output_type": "stream",
     "text": [
      "PsKey_    678\n",
      "PsKey_    678\n",
      "dtype: int64 PsKey_\n",
      "678 psgender\n",
      "678 psage\n",
      "678 psinstitution\n",
      "678 psinternationalstudent\n",
      "678 psdisability\n",
      "577 psuniversityaffiliation\n",
      "577 personstatusgrad \n",
      "577 personstatustime\n",
      "101 pscollegeaffiliation\n",
      "101 pscredentialtoreceive\n",
      "101 psyearofstudy\n",
      "678 ps_faculty_school\n",
      "607 pscampusmain\n",
      "678 psinstitutioninvolvedyears\n",
      "678 psworknumhoursperweek\n",
      "678 psdrivinglicenseowner\n",
      "344 psagefirstdrivinglicense\n",
      "334 psconsideringtohavedrivinglicenseinfuture\n",
      "678 psautoavailability\n",
      "77 psautotype\n",
      "77 psautofueltechnology\n",
      "76 psautomodelyear\n",
      "678 pstransitpassowner\n",
      "678 psbikeowner\n",
      "678 psbikesharemember\n",
      "21 psbikeshareusefrequency\n",
      "678 psinstalledridehailingapp\n",
      "429 psridehailusefrequency\n",
      "678 psinstalledtripplanningapp\n",
      "209 pstripplanningappusefrequency\n",
      "344 pscarsharemember\n",
      "678 psmonthlytravelcost\n",
      "678 PsMadeTripsYesterday\n",
      "340 PsNoTripReason\n",
      "675 familysupporteducation\n",
      "661 psmainmodefalltypical\n",
      "92 pstypicalfalltransitaccessmode\n",
      "88 pstypicalfalltransitegressmode\n",
      "5 pscarpoolinsteadofdriving\n",
      "7 pstypicalcarparkfall\n",
      "13 pstypicalbikeparkfall\n",
      "13 psbikeparkingdifficultyfall\n",
      "545 psalternatefallmodepreference\n",
      "642 psmainmodewintersame\n",
      "27 psmainmodewintertypical\n",
      "14 pstypicalwintertransitaccessmode\n",
      "14 pstypicalwintertransitegressmode\n",
      "0 pstypicalcarparkwinter\n",
      "27 psalternatewintermodepreference\n",
      "634 psfrequencycommute\n",
      "627 psfrequencytelecommute\n",
      "631 pswenttoschoolinpastmonth\n",
      "610 PsPastMonthRidehailFrequency\n",
      "602 PsPastMonthBikeFrequency\n",
      "601 PsPastMonthTransitFrequency\n",
      "595 PsPastMonthWalkFrequency\n",
      "593 PsPastMonthDriveFrequency\n",
      "678 psagreeothersurveys\n",
      "215 psparticipateprize\n",
      "PsKey_    678\n",
      "PsKey_    678\n",
      "dtype: int64 PsKey_\n",
      "678 hhlivingsituation\n",
      "34 hhstructure\n",
      "34 hhsize\n",
      "12 hhnumdependentchildren\n",
      "460 numroommates\n",
      "677 hhvehiclenumber\n",
      "678 hhbuildingtype\n",
      "675 yearslivingincurrentresidence\n",
      "675 hhlocationchoicereason1_noroleonchoice\n",
      "675 hhlocationchoicereason2_housingcost\n",
      "675 hhlocationchoicereason3_proximitytofamily\n",
      "675 hhlocationchoicereason4_proximitytotransit\n",
      "675 hhlocationchoicereason5_walkabilitybikabilityofneighbourhood\n",
      "675 hhlocationchoicereason6_convenienceofdriving\n",
      "675 hhlocationchoicereason7_neighbourhoodamenities\n",
      "675 hhlocationchoicereason8_otherreason\n",
      "677 hhownership\n",
      "566 familyincomelevel\n",
      "678 HmCTuid\n",
      "678 HmTTS2006\n",
      "678 HmPD\n",
      "678 HmRegion\n",
      "678 HmFSA2016\n",
      "678 tripsdatekey\n",
      "336 TolTp\n",
      "678 surveyComplDate\n"
     ]
    }
   ],
   "source": [
    "for col in temp2:\n",
    "    print(temp2[col].count(), col)"
   ]
  },
  {
   "cell_type": "code",
   "execution_count": null,
   "metadata": {},
   "outputs": [],
   "source": []
  }
 ],
 "metadata": {
  "kernelspec": {
   "display_name": "Python 3",
   "language": "python",
   "name": "python3"
  },
  "language_info": {
   "codemirror_mode": {
    "name": "ipython",
    "version": 3
   },
   "file_extension": ".py",
   "mimetype": "text/x-python",
   "name": "python",
   "nbconvert_exporter": "python",
   "pygments_lexer": "ipython3",
   "version": "3.7.6"
  }
 },
 "nbformat": 4,
 "nbformat_minor": 2
}
