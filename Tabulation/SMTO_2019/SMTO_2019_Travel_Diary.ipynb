{
 "cells": [
  {
   "cell_type": "code",
   "execution_count": 1,
   "metadata": {},
   "outputs": [
    {
     "data": {
      "text/html": [
       "<div>\n",
       "<style scoped>\n",
       "    .dataframe tbody tr th:only-of-type {\n",
       "        vertical-align: middle;\n",
       "    }\n",
       "\n",
       "    .dataframe tbody tr th {\n",
       "        vertical-align: top;\n",
       "    }\n",
       "\n",
       "    .dataframe thead th {\n",
       "        text-align: right;\n",
       "    }\n",
       "</style>\n",
       "<table border=\"1\" class=\"dataframe\">\n",
       "  <thead>\n",
       "    <tr style=\"text-align: right;\">\n",
       "      <th></th>\n",
       "      <th>UniquePsKey_</th>\n",
       "      <th>PsKey_</th>\n",
       "      <th>TpNum_</th>\n",
       "      <th>TpOrigTTS2006</th>\n",
       "      <th>TpOrigPD</th>\n",
       "      <th>TpOrigRegion</th>\n",
       "      <th>TpDestTTS2006</th>\n",
       "      <th>TpDestPD</th>\n",
       "      <th>TpDestRegion</th>\n",
       "      <th>cmpmultimodecatkey</th>\n",
       "      <th>...</th>\n",
       "      <th>TpStartTimeExt</th>\n",
       "      <th>tpmodes</th>\n",
       "      <th>tpnumuniquemodes</th>\n",
       "      <th>single_tripdiary_flag</th>\n",
       "      <th>incomplete_diary</th>\n",
       "      <th>institution</th>\n",
       "      <th>est_trip_travel_Time</th>\n",
       "      <th>est_error_flag</th>\n",
       "      <th>est_straightline_distance</th>\n",
       "      <th>est_network_distance</th>\n",
       "    </tr>\n",
       "  </thead>\n",
       "  <tbody>\n",
       "    <tr>\n",
       "      <th>0</th>\n",
       "      <td>2</td>\n",
       "      <td>11</td>\n",
       "      <td>1</td>\n",
       "      <td>181.0</td>\n",
       "      <td>4.0</td>\n",
       "      <td>1.0</td>\n",
       "      <td>458.0</td>\n",
       "      <td>11.0</td>\n",
       "      <td>1.0</td>\n",
       "      <td>6</td>\n",
       "      <td>...</td>\n",
       "      <td>730</td>\n",
       "      <td>Transit Bus,Transit Bus,Transit Bus</td>\n",
       "      <td>1.0</td>\n",
       "      <td>0</td>\n",
       "      <td>0</td>\n",
       "      <td>Centennial College</td>\n",
       "      <td>2625</td>\n",
       "      <td>0</td>\n",
       "      <td>7006</td>\n",
       "      <td>9048</td>\n",
       "    </tr>\n",
       "    <tr>\n",
       "      <th>1</th>\n",
       "      <td>2</td>\n",
       "      <td>11</td>\n",
       "      <td>2</td>\n",
       "      <td>458.0</td>\n",
       "      <td>11.0</td>\n",
       "      <td>1.0</td>\n",
       "      <td>182.0</td>\n",
       "      <td>4.0</td>\n",
       "      <td>1.0</td>\n",
       "      <td>6</td>\n",
       "      <td>...</td>\n",
       "      <td>1600</td>\n",
       "      <td>Transit Bus,Subway/RT,Transit Bus</td>\n",
       "      <td>2.0</td>\n",
       "      <td>0</td>\n",
       "      <td>0</td>\n",
       "      <td>Centennial College</td>\n",
       "      <td>2548</td>\n",
       "      <td>0</td>\n",
       "      <td>7779</td>\n",
       "      <td>9737</td>\n",
       "    </tr>\n",
       "    <tr>\n",
       "      <th>2</th>\n",
       "      <td>2</td>\n",
       "      <td>11</td>\n",
       "      <td>3</td>\n",
       "      <td>182.0</td>\n",
       "      <td>4.0</td>\n",
       "      <td>1.0</td>\n",
       "      <td>181.0</td>\n",
       "      <td>4.0</td>\n",
       "      <td>1.0</td>\n",
       "      <td>6</td>\n",
       "      <td>...</td>\n",
       "      <td>1830</td>\n",
       "      <td>Transit Bus,Transit Bus</td>\n",
       "      <td>1.0</td>\n",
       "      <td>0</td>\n",
       "      <td>0</td>\n",
       "      <td>Centennial College</td>\n",
       "      <td>1111</td>\n",
       "      <td>0</td>\n",
       "      <td>1263</td>\n",
       "      <td>1533</td>\n",
       "    </tr>\n",
       "    <tr>\n",
       "      <th>3</th>\n",
       "      <td>3</td>\n",
       "      <td>14</td>\n",
       "      <td>1</td>\n",
       "      <td>1039.0</td>\n",
       "      <td>20.0</td>\n",
       "      <td>2.0</td>\n",
       "      <td>493.0</td>\n",
       "      <td>13.0</td>\n",
       "      <td>1.0</td>\n",
       "      <td>6</td>\n",
       "      <td>...</td>\n",
       "      <td>1220</td>\n",
       "      <td>Transit Bus,GO Bus</td>\n",
       "      <td>2.0</td>\n",
       "      <td>0</td>\n",
       "      <td>0</td>\n",
       "      <td>Centennial College</td>\n",
       "      <td>2946</td>\n",
       "      <td>0</td>\n",
       "      <td>14112</td>\n",
       "      <td>16524</td>\n",
       "    </tr>\n",
       "    <tr>\n",
       "      <th>4</th>\n",
       "      <td>3</td>\n",
       "      <td>14</td>\n",
       "      <td>2</td>\n",
       "      <td>493.0</td>\n",
       "      <td>13.0</td>\n",
       "      <td>1.0</td>\n",
       "      <td>1039.0</td>\n",
       "      <td>20.0</td>\n",
       "      <td>2.0</td>\n",
       "      <td>11</td>\n",
       "      <td>...</td>\n",
       "      <td>2100</td>\n",
       "      <td>GO Bus,Car passenger (driver is a household me...</td>\n",
       "      <td>2.0</td>\n",
       "      <td>0</td>\n",
       "      <td>0</td>\n",
       "      <td>Centennial College</td>\n",
       "      <td>2677</td>\n",
       "      <td>0</td>\n",
       "      <td>14112</td>\n",
       "      <td>16524</td>\n",
       "    </tr>\n",
       "  </tbody>\n",
       "</table>\n",
       "<p>5 rows × 38 columns</p>\n",
       "</div>"
      ],
      "text/plain": [
       "   UniquePsKey_  PsKey_  TpNum_  TpOrigTTS2006  TpOrigPD  TpOrigRegion  \\\n",
       "0             2      11       1          181.0       4.0           1.0   \n",
       "1             2      11       2          458.0      11.0           1.0   \n",
       "2             2      11       3          182.0       4.0           1.0   \n",
       "3             3      14       1         1039.0      20.0           2.0   \n",
       "4             3      14       2          493.0      13.0           1.0   \n",
       "\n",
       "   TpDestTTS2006  TpDestPD  TpDestRegion  cmpmultimodecatkey  ...  \\\n",
       "0          458.0      11.0           1.0                   6  ...   \n",
       "1          182.0       4.0           1.0                   6  ...   \n",
       "2          181.0       4.0           1.0                   6  ...   \n",
       "3          493.0      13.0           1.0                   6  ...   \n",
       "4         1039.0      20.0           2.0                  11  ...   \n",
       "\n",
       "  TpStartTimeExt                                            tpmodes  \\\n",
       "0            730                Transit Bus,Transit Bus,Transit Bus   \n",
       "1           1600                  Transit Bus,Subway/RT,Transit Bus   \n",
       "2           1830                            Transit Bus,Transit Bus   \n",
       "3           1220                                 Transit Bus,GO Bus   \n",
       "4           2100  GO Bus,Car passenger (driver is a household me...   \n",
       "\n",
       "   tpnumuniquemodes  single_tripdiary_flag  incomplete_diary  \\\n",
       "0               1.0                      0                 0   \n",
       "1               2.0                      0                 0   \n",
       "2               1.0                      0                 0   \n",
       "3               2.0                      0                 0   \n",
       "4               2.0                      0                 0   \n",
       "\n",
       "          institution  est_trip_travel_Time  est_error_flag  \\\n",
       "0  Centennial College                  2625               0   \n",
       "1  Centennial College                  2548               0   \n",
       "2  Centennial College                  1111               0   \n",
       "3  Centennial College                  2946               0   \n",
       "4  Centennial College                  2677               0   \n",
       "\n",
       "  est_straightline_distance  est_network_distance  \n",
       "0                      7006                  9048  \n",
       "1                      7779                  9737  \n",
       "2                      1263                  1533  \n",
       "3                     14112                 16524  \n",
       "4                     14112                 16524  \n",
       "\n",
       "[5 rows x 38 columns]"
      ]
     },
     "execution_count": 1,
     "metadata": {},
     "output_type": "execute_result"
    }
   ],
   "source": [
    "import pandas as pd\n",
    "\n",
    "df = pd.read_csv(\"../../Data/SMTO_2019/SMTO_2019_Travel_Diary.csv\")\n",
    "df.head()"
   ]
  },
  {
   "cell_type": "code",
   "execution_count": 2,
   "metadata": {},
   "outputs": [
    {
     "name": "stdout",
     "output_type": "stream",
     "text": [
      "\t Rows\t % of Students\t\t Trips/Student\n",
      "Before\t 19229 \t 0.41228116017768485 \t 2.437444543034605\n",
      "After\t 18824 \t 0.3935197282466684 \t 2.499867197875166\n"
     ]
    }
   ],
   "source": [
    "print(\"\\t Rows\\t % of Students\\t\\t Trips/Student\")\n",
    "print(\"Before\\t\", df.shape[0], \"\\t\", len(df['UniquePsKey_'].unique())/19135, \"\\t\", df.shape[0] / len(df['UniquePsKey_'].unique()))\n",
    "df = df[df['incomplete_diary'] != 1]  # Remove 405 rows with incomplete diaries as identified by SMTO (e.g. never return home)\n",
    "print(\"After\\t\", df.shape[0], \"\\t\", len(df['UniquePsKey_'].unique())/19135, \"\\t\", df.shape[0] / len(df['UniquePsKey_'].unique()))"
   ]
  },
  {
   "cell_type": "code",
   "execution_count": 3,
   "metadata": {},
   "outputs": [
    {
     "data": {
      "text/plain": [
       "0    16497\n",
       "1     2327\n",
       "Name: single_tripdiary_flag, dtype: int64"
      ]
     },
     "execution_count": 3,
     "metadata": {},
     "output_type": "execute_result"
    }
   ],
   "source": [
    "df['single_tripdiary_flag'].value_counts()"
   ]
  },
  {
   "cell_type": "code",
   "execution_count": 4,
   "metadata": {},
   "outputs": [
    {
     "data": {
      "text/plain": [
       "1     7530\n",
       "2     5203\n",
       "3     2876\n",
       "4     1664\n",
       "5      810\n",
       "6      402\n",
       "7      180\n",
       "8       87\n",
       "9       44\n",
       "10      19\n",
       "11       6\n",
       "12       2\n",
       "13       1\n",
       "Name: TpNum_, dtype: int64"
      ]
     },
     "execution_count": 4,
     "metadata": {},
     "output_type": "execute_result"
    }
   ],
   "source": [
    "df['TpNum_'].value_counts()"
   ]
  },
  {
   "cell_type": "code",
   "execution_count": 5,
   "metadata": {},
   "outputs": [
    {
     "data": {
      "text/plain": [
       "University of Toronto      0.367563\n",
       "Ryerson University         0.193423\n",
       "York University            0.112994\n",
       "McMaster University        0.110657\n",
       "Sheridan College           0.047864\n",
       "Centennial College         0.040905\n",
       "Durham College             0.037133\n",
       "Ontario Tech University    0.035540\n",
       "Mohawk College             0.029006\n",
       "OCAD University            0.024915\n",
       "Name: institution, dtype: float64"
      ]
     },
     "execution_count": 5,
     "metadata": {},
     "output_type": "execute_result"
    }
   ],
   "source": [
    "df['institution'].value_counts(normalize=True)\n",
    "# Compare to sample-wide distribution?"
   ]
  },
  {
   "cell_type": "code",
   "execution_count": 6,
   "metadata": {},
   "outputs": [
    {
     "data": {
      "text/plain": [
       "Transit                                                            6418\n",
       "Walk                                                               4472\n",
       "Car driving alone                                                  2770\n",
       "Car driving with passenger(s) (household members only)             1433\n",
       "Car passenger (driver is a household member)                       1034\n",
       "Car passenger (driver is a non-household member)                    555\n",
       "Car driving with passenger(s) (including non-household members)     534\n",
       "Cycling (personal bike)                                             498\n",
       "K+R                                                                 300\n",
       "P+R                                                                 295\n",
       "Ridehailing alone                                                   241\n",
       "Cycling (bikeshare)                                                  66\n",
       "Ridehailing with other passengers                                    53\n",
       "Other                                                                33\n",
       "Bimodal other                                                        27\n",
       "Taxi                                                                 20\n",
       "R+R                                                                  19\n",
       "Accessible car driver                                                13\n",
       "Motorcycle / Scooter                                                 13\n",
       "B+R                                                                  11\n",
       "Multimodal other (3+ modes)                                           8\n",
       "Intercity transit                                                     6\n",
       "Airplane                                                              2\n",
       "Accessible car passenger                                              2\n",
       "Accessible paratransit                                                1\n",
       "Name: cmpmultimodecatname, dtype: int64"
      ]
     },
     "execution_count": 6,
     "metadata": {},
     "output_type": "execute_result"
    }
   ],
   "source": [
    "df['cmpmultimodecatname'].value_counts()"
   ]
  },
  {
   "cell_type": "code",
   "execution_count": 7,
   "metadata": {},
   "outputs": [
    {
     "data": {
      "text/plain": [
       "Transit         6418\n",
       "Car driving     4737\n",
       "Walk            4472\n",
       "Car passager    1589\n",
       "P&R/K&R/R&R      614\n",
       "Cycling          564\n",
       "Other modes      430\n",
       "Name: cmpmultimodecatmaingroup, dtype: int64"
      ]
     },
     "execution_count": 7,
     "metadata": {},
     "output_type": "execute_result"
    }
   ],
   "source": [
    "df['cmpmultimodecatmaingroup'].value_counts()"
   ]
  },
  {
   "cell_type": "code",
   "execution_count": 8,
   "metadata": {},
   "outputs": [
    {
     "name": "stdout",
     "output_type": "stream",
     "text": [
      "7070\n"
     ]
    },
    {
     "data": {
      "text/plain": [
       "Subway       3202\n",
       "Bus          2181\n",
       "GO Bus        705\n",
       "GO Train      611\n",
       "Streetcar     371\n",
       "Name: tpmainptmode, dtype: int64"
      ]
     },
     "execution_count": 8,
     "metadata": {},
     "output_type": "execute_result"
    }
   ],
   "source": [
    "print(df['tpmainptmode'].value_counts().sum())\n",
    "df['tpmainptmode'].value_counts()"
   ]
  },
  {
   "cell_type": "code",
   "execution_count": 9,
   "metadata": {},
   "outputs": [
    {
     "data": {
      "text/plain": [
       "home                                                                                  7921\n",
       "education (including TA/RA work)                                                      3703\n",
       "shopping and errands (groceries, corner store, shopping center, gas station, etc.)    1399\n",
       "usual work location                                                                   1367\n",
       "restaurant, bar, coffee                                                                943\n",
       "visiting friends, family                                                               869\n",
       "recreation, sports, leisure, arts                                                      736\n",
       "other                                                                                  542\n",
       "work-related/business meeting                                                          523\n",
       "health and personal care                                                               243\n",
       "drop someone off                                                                       207\n",
       "pick someone up                                                                        197\n",
       "services (bank, hairdresser, lawyer, notary, mechanic, etc.)                           126\n",
       "daycare                                                                                 48\n",
       "Name: TpOriPurp, dtype: int64"
      ]
     },
     "execution_count": 9,
     "metadata": {},
     "output_type": "execute_result"
    }
   ],
   "source": [
    "df.TpOriPurp.value_counts()"
   ]
  },
  {
   "cell_type": "code",
   "execution_count": 10,
   "metadata": {},
   "outputs": [
    {
     "data": {
      "text/plain": [
       "home                                                                                  6101\n",
       "education (including TA/RA work)                                                      4443\n",
       "usual work location                                                                   1656\n",
       "shopping and errands (groceries, corner store, shopping center, gas station, etc.)    1558\n",
       "visiting friends, family                                                              1039\n",
       "restaurant, bar, coffee                                                               1032\n",
       "recreation, sports, leisure, arts                                                      830\n",
       "work-related/business meeting                                                          650\n",
       "other                                                                                  631\n",
       "health and personal care                                                               268\n",
       "pick someone up                                                                        218\n",
       "drop someone off                                                                       213\n",
       "services (bank, hairdresser, lawyer, notary, mechanic, etc.)                           137\n",
       "daycare                                                                                 48\n",
       "Name: TpDestPurp, dtype: int64"
      ]
     },
     "execution_count": 10,
     "metadata": {},
     "output_type": "execute_result"
    }
   ],
   "source": [
    "df.TpDestPurp.value_counts()"
   ]
  },
  {
   "cell_type": "code",
   "execution_count": 11,
   "metadata": {},
   "outputs": [
    {
     "data": {
      "text/plain": [
       "3452"
      ]
     },
     "execution_count": 11,
     "metadata": {},
     "output_type": "execute_result"
    }
   ],
   "source": [
    "df[(df['TpOriPurp'] == 'home') & (df['TpDestPurp'] == 'education (including TA/RA work)')].shape[0]"
   ]
  },
  {
   "cell_type": "code",
   "execution_count": 12,
   "metadata": {},
   "outputs": [
    {
     "data": {
      "text/plain": [
       "0.18338291542711432"
      ]
     },
     "execution_count": 12,
     "metadata": {},
     "output_type": "execute_result"
    }
   ],
   "source": [
    "df[(df['TpOriPurp'] == 'home') & (df['TpDestPurp'] == 'education (including TA/RA work)')].shape[0] / 18824"
   ]
  },
  {
   "cell_type": "code",
   "execution_count": 13,
   "metadata": {},
   "outputs": [
    {
     "data": {
      "text/plain": [
       "2100"
      ]
     },
     "execution_count": 13,
     "metadata": {},
     "output_type": "execute_result"
    }
   ],
   "source": [
    "df[(df['TpOriPurp'] == 'education (including TA/RA work)') & (df['TpDestPurp'] == 'home')].shape[0]"
   ]
  },
  {
   "cell_type": "code",
   "execution_count": 14,
   "metadata": {},
   "outputs": [
    {
     "data": {
      "text/plain": [
       "0.11155971100722482"
      ]
     },
     "execution_count": 14,
     "metadata": {},
     "output_type": "execute_result"
    }
   ],
   "source": [
    "df[(df['TpOriPurp'] == 'education (including TA/RA work)') & (df['TpDestPurp'] == 'home')].shape[0] / 18824"
   ]
  },
  {
   "cell_type": "code",
   "execution_count": 15,
   "metadata": {},
   "outputs": [
    {
     "data": {
      "text/plain": [
       "(379, 138)"
      ]
     },
     "execution_count": 15,
     "metadata": {},
     "output_type": "execute_result"
    }
   ],
   "source": [
    "temp = df[(df['TpOriPurp'] == 'education (including TA/RA work)') & (df['TpDestPurp'] == 'education (including TA/RA work)')]\n",
    "temp.shape[0], (temp['TpOrigTTS2006'] == temp['TpDestTTS2006']).sum()"
   ]
  },
  {
   "cell_type": "code",
   "execution_count": 16,
   "metadata": {},
   "outputs": [
    {
     "data": {
      "text/plain": [
       "Tue    3231\n",
       "Mon    3231\n",
       "Sun    2930\n",
       "Wed    2897\n",
       "Thu    2468\n",
       "Fri    2133\n",
       "Sat    1934\n",
       "Name: TpDayExt, dtype: int64"
      ]
     },
     "execution_count": 16,
     "metadata": {},
     "output_type": "execute_result"
    }
   ],
   "source": [
    "df['TpDayExt'].value_counts()"
   ]
  },
  {
   "cell_type": "code",
   "execution_count": 17,
   "metadata": {},
   "outputs": [
    {
     "data": {
      "text/plain": [
       "Tue    753\n",
       "Mon    730\n",
       "Wed    659\n",
       "Thu    579\n",
       "Fri    410\n",
       "Sun    193\n",
       "Sat    128\n",
       "Name: TpDayExt, dtype: int64"
      ]
     },
     "execution_count": 17,
     "metadata": {},
     "output_type": "execute_result"
    }
   ],
   "source": [
    "df[(df['TpOriPurp'] == 'home') & (df['TpDestPurp'] == 'education (including TA/RA work)')]['TpDayExt'].value_counts()"
   ]
  },
  {
   "cell_type": "code",
   "execution_count": 18,
   "metadata": {},
   "outputs": [
    {
     "data": {
      "text/plain": [
       "1.0    15380\n",
       "2.0     2639\n",
       "3.0      767\n",
       "4.0       31\n",
       "5.0        2\n",
       "Name: tpnumuniquemodes, dtype: int64"
      ]
     },
     "execution_count": 18,
     "metadata": {},
     "output_type": "execute_result"
    }
   ],
   "source": [
    "df['tpnumuniquemodes'].value_counts()"
   ]
  },
  {
   "cell_type": "code",
   "execution_count": 19,
   "metadata": {},
   "outputs": [
    {
     "data": {
      "text/plain": [
       "1.0    14065\n",
       "2.0     2772\n",
       "3.0     1605\n",
       "4.0      337\n",
       "5.0       36\n",
       "6.0        4\n",
       "Name: tpmodes, dtype: int64"
      ]
     },
     "execution_count": 19,
     "metadata": {},
     "output_type": "execute_result"
    }
   ],
   "source": [
    "df['tpmodes'].str.split(',').str.len().value_counts()"
   ]
  },
  {
   "cell_type": "code",
   "execution_count": 21,
   "metadata": {},
   "outputs": [
    {
     "data": {
      "text/html": [
       "<div>\n",
       "<style scoped>\n",
       "    .dataframe tbody tr th:only-of-type {\n",
       "        vertical-align: middle;\n",
       "    }\n",
       "\n",
       "    .dataframe tbody tr th {\n",
       "        vertical-align: top;\n",
       "    }\n",
       "\n",
       "    .dataframe thead th {\n",
       "        text-align: right;\n",
       "    }\n",
       "</style>\n",
       "<table border=\"1\" class=\"dataframe\">\n",
       "  <thead>\n",
       "    <tr style=\"text-align: right;\">\n",
       "      <th></th>\n",
       "      <th>UniquePsKey_</th>\n",
       "      <th>PsKey_</th>\n",
       "      <th>TpNum_</th>\n",
       "      <th>TpOrigTTS2006</th>\n",
       "      <th>TpOrigPD</th>\n",
       "      <th>TpOrigRegion</th>\n",
       "      <th>TpDestTTS2006</th>\n",
       "      <th>TpDestPD</th>\n",
       "      <th>TpDestRegion</th>\n",
       "      <th>cmpmultimodecatkey</th>\n",
       "      <th>...</th>\n",
       "      <th>TpStartTimeExt</th>\n",
       "      <th>tpmodes</th>\n",
       "      <th>tpnumuniquemodes</th>\n",
       "      <th>single_tripdiary_flag</th>\n",
       "      <th>incomplete_diary</th>\n",
       "      <th>institution</th>\n",
       "      <th>est_trip_travel_Time</th>\n",
       "      <th>est_error_flag</th>\n",
       "      <th>est_straightline_distance</th>\n",
       "      <th>est_network_distance</th>\n",
       "    </tr>\n",
       "  </thead>\n",
       "  <tbody>\n",
       "    <tr>\n",
       "      <th>0</th>\n",
       "      <td>2</td>\n",
       "      <td>11</td>\n",
       "      <td>1</td>\n",
       "      <td>181.0</td>\n",
       "      <td>4.0</td>\n",
       "      <td>1.0</td>\n",
       "      <td>458.0</td>\n",
       "      <td>11.0</td>\n",
       "      <td>1.0</td>\n",
       "      <td>6</td>\n",
       "      <td>...</td>\n",
       "      <td>730</td>\n",
       "      <td>Transit Bus,Transit Bus,Transit Bus</td>\n",
       "      <td>1.0</td>\n",
       "      <td>0</td>\n",
       "      <td>0</td>\n",
       "      <td>Centennial College</td>\n",
       "      <td>2625</td>\n",
       "      <td>0</td>\n",
       "      <td>7006</td>\n",
       "      <td>9048</td>\n",
       "    </tr>\n",
       "    <tr>\n",
       "      <th>1</th>\n",
       "      <td>2</td>\n",
       "      <td>11</td>\n",
       "      <td>2</td>\n",
       "      <td>458.0</td>\n",
       "      <td>11.0</td>\n",
       "      <td>1.0</td>\n",
       "      <td>182.0</td>\n",
       "      <td>4.0</td>\n",
       "      <td>1.0</td>\n",
       "      <td>6</td>\n",
       "      <td>...</td>\n",
       "      <td>1600</td>\n",
       "      <td>Transit Bus,Subway/RT,Transit Bus</td>\n",
       "      <td>2.0</td>\n",
       "      <td>0</td>\n",
       "      <td>0</td>\n",
       "      <td>Centennial College</td>\n",
       "      <td>2548</td>\n",
       "      <td>0</td>\n",
       "      <td>7779</td>\n",
       "      <td>9737</td>\n",
       "    </tr>\n",
       "    <tr>\n",
       "      <th>2</th>\n",
       "      <td>2</td>\n",
       "      <td>11</td>\n",
       "      <td>3</td>\n",
       "      <td>182.0</td>\n",
       "      <td>4.0</td>\n",
       "      <td>1.0</td>\n",
       "      <td>181.0</td>\n",
       "      <td>4.0</td>\n",
       "      <td>1.0</td>\n",
       "      <td>6</td>\n",
       "      <td>...</td>\n",
       "      <td>1830</td>\n",
       "      <td>Transit Bus,Transit Bus</td>\n",
       "      <td>1.0</td>\n",
       "      <td>0</td>\n",
       "      <td>0</td>\n",
       "      <td>Centennial College</td>\n",
       "      <td>1111</td>\n",
       "      <td>0</td>\n",
       "      <td>1263</td>\n",
       "      <td>1533</td>\n",
       "    </tr>\n",
       "    <tr>\n",
       "      <th>3</th>\n",
       "      <td>3</td>\n",
       "      <td>14</td>\n",
       "      <td>1</td>\n",
       "      <td>1039.0</td>\n",
       "      <td>20.0</td>\n",
       "      <td>2.0</td>\n",
       "      <td>493.0</td>\n",
       "      <td>13.0</td>\n",
       "      <td>1.0</td>\n",
       "      <td>6</td>\n",
       "      <td>...</td>\n",
       "      <td>1220</td>\n",
       "      <td>Transit Bus,GO Bus</td>\n",
       "      <td>2.0</td>\n",
       "      <td>0</td>\n",
       "      <td>0</td>\n",
       "      <td>Centennial College</td>\n",
       "      <td>2946</td>\n",
       "      <td>0</td>\n",
       "      <td>14112</td>\n",
       "      <td>16524</td>\n",
       "    </tr>\n",
       "    <tr>\n",
       "      <th>4</th>\n",
       "      <td>3</td>\n",
       "      <td>14</td>\n",
       "      <td>2</td>\n",
       "      <td>493.0</td>\n",
       "      <td>13.0</td>\n",
       "      <td>1.0</td>\n",
       "      <td>1039.0</td>\n",
       "      <td>20.0</td>\n",
       "      <td>2.0</td>\n",
       "      <td>11</td>\n",
       "      <td>...</td>\n",
       "      <td>2100</td>\n",
       "      <td>GO Bus,Car passenger (driver is a household me...</td>\n",
       "      <td>2.0</td>\n",
       "      <td>0</td>\n",
       "      <td>0</td>\n",
       "      <td>Centennial College</td>\n",
       "      <td>2677</td>\n",
       "      <td>0</td>\n",
       "      <td>14112</td>\n",
       "      <td>16524</td>\n",
       "    </tr>\n",
       "  </tbody>\n",
       "</table>\n",
       "<p>5 rows × 38 columns</p>\n",
       "</div>"
      ],
      "text/plain": [
       "   UniquePsKey_  PsKey_  TpNum_  TpOrigTTS2006  TpOrigPD  TpOrigRegion  \\\n",
       "0             2      11       1          181.0       4.0           1.0   \n",
       "1             2      11       2          458.0      11.0           1.0   \n",
       "2             2      11       3          182.0       4.0           1.0   \n",
       "3             3      14       1         1039.0      20.0           2.0   \n",
       "4             3      14       2          493.0      13.0           1.0   \n",
       "\n",
       "   TpDestTTS2006  TpDestPD  TpDestRegion  cmpmultimodecatkey  ...  \\\n",
       "0          458.0      11.0           1.0                   6  ...   \n",
       "1          182.0       4.0           1.0                   6  ...   \n",
       "2          181.0       4.0           1.0                   6  ...   \n",
       "3          493.0      13.0           1.0                   6  ...   \n",
       "4         1039.0      20.0           2.0                  11  ...   \n",
       "\n",
       "  TpStartTimeExt                                            tpmodes  \\\n",
       "0            730                Transit Bus,Transit Bus,Transit Bus   \n",
       "1           1600                  Transit Bus,Subway/RT,Transit Bus   \n",
       "2           1830                            Transit Bus,Transit Bus   \n",
       "3           1220                                 Transit Bus,GO Bus   \n",
       "4           2100  GO Bus,Car passenger (driver is a household me...   \n",
       "\n",
       "   tpnumuniquemodes  single_tripdiary_flag  incomplete_diary  \\\n",
       "0               1.0                      0                 0   \n",
       "1               2.0                      0                 0   \n",
       "2               1.0                      0                 0   \n",
       "3               2.0                      0                 0   \n",
       "4               2.0                      0                 0   \n",
       "\n",
       "          institution  est_trip_travel_Time  est_error_flag  \\\n",
       "0  Centennial College                  2625               0   \n",
       "1  Centennial College                  2548               0   \n",
       "2  Centennial College                  1111               0   \n",
       "3  Centennial College                  2946               0   \n",
       "4  Centennial College                  2677               0   \n",
       "\n",
       "  est_straightline_distance  est_network_distance  \n",
       "0                      7006                  9048  \n",
       "1                      7779                  9737  \n",
       "2                      1263                  1533  \n",
       "3                     14112                 16524  \n",
       "4                     14112                 16524  \n",
       "\n",
       "[5 rows x 38 columns]"
      ]
     },
     "execution_count": 21,
     "metadata": {},
     "output_type": "execute_result"
    }
   ],
   "source": [
    "df.head()"
   ]
  },
  {
   "cell_type": "code",
   "execution_count": 22,
   "metadata": {},
   "outputs": [
    {
     "data": {
      "text/plain": [
       "0    18039\n",
       "2      482\n",
       "1      174\n",
       "5       76\n",
       "4       37\n",
       "3       16\n",
       "Name: est_error_flag, dtype: int64"
      ]
     },
     "execution_count": 22,
     "metadata": {},
     "output_type": "execute_result"
    }
   ],
   "source": [
    "df['est_error_flag'].value_counts()"
   ]
  },
  {
   "cell_type": "code",
   "execution_count": 26,
   "metadata": {},
   "outputs": [
    {
     "data": {
      "text/plain": [
       "Index(['UniquePsKey_', 'PsKey_', 'TpNum_', 'TpOrigTTS2006', 'TpOrigPD',\n",
       "       'TpOrigRegion', 'TpDestTTS2006', 'TpDestPD', 'TpDestRegion',\n",
       "       'cmpmultimodecatkey', 'cmpmultimodecatname', 'cmpmultimodecatmaingroup',\n",
       "       'TpInclDriv', 'TpInclPass', 'TpInclPT', 'TpInclWalk', 'TpInclBike',\n",
       "       'TpInclOtherMode', 'tpmainptmode', 'TpInclPTBus', 'TpInclPTStreetcar',\n",
       "       'TpInclPTSubway', 'TpInclPTGOBus', 'TpInclPTGOTrain', 'TpOriPurp',\n",
       "       'TpDestPurp', 'TpDateExt', 'TpDayExt', 'TpStartTimeExt', 'tpmodes',\n",
       "       'tpnumuniquemodes', 'single_tripdiary_flag', 'incomplete_diary',\n",
       "       'institution', 'est_trip_travel_Time', 'est_error_flag',\n",
       "       'est_straightline_distance', 'est_network_distance'],\n",
       "      dtype='object')"
      ]
     },
     "execution_count": 26,
     "metadata": {},
     "output_type": "execute_result"
    }
   ],
   "source": [
    "df2 = df[df['est_error_flag'] == 0]\n",
    "df2.columns"
   ]
  },
  {
   "cell_type": "code",
   "execution_count": 67,
   "metadata": {},
   "outputs": [],
   "source": [
    "import matplotlib.pyplot as plt"
   ]
  },
  {
   "cell_type": "code",
   "execution_count": 69,
   "metadata": {
    "scrolled": true
   },
   "outputs": [
    {
     "data": {
      "image/png": "[encoded data removed]",
      "text/plain": [
       "<Figure size 1152x576 with 7 Axes>"
      ]
     },
     "metadata": {
      "needs_background": "light"
     },
     "output_type": "display_data"
    }
   ],
   "source": [
    "plt.figure(figsize=(16, 8))\n",
    "modes = df2['cmpmultimodecatmaingroup'].unique()\n",
    "for i in range(len(modes)):\n",
    "    temp = df2[df2['cmpmultimodecatmaingroup'] == modes[i]]\n",
    "    plt.subplot(2, 4, i + 1)\n",
    "    plt.tight_layout()\n",
    "    plt.scatter(temp['est_network_distance']/1000, temp['est_trip_travel_Time']/3600)\n",
    "    plt.title(modes[i])\n",
    "    plt.xlabel('Network Distance (km)')\n",
    "    plt.ylabel('Travel Time (hr)')\n",
    "    plt.xlim(0, 120)\n",
    "    plt.ylim(0, 125000/3600)"
   ]
  },
  {
   "cell_type": "markdown",
   "metadata": {},
   "source": [
    "Several notes:\n",
    "\n",
    "- The trends for walking and cycling appear very close to linear, but not exactly.  \n",
    "- The travel times for transit include many outliers and are generally quite high.  \n",
    "- The estimated network distanced for the cycling trips seem mostly reasonable, but many walking trips are unreasonably long."
   ]
  },
  {
   "cell_type": "code",
   "execution_count": 65,
   "metadata": {},
   "outputs": [
    {
     "name": "stdout",
     "output_type": "stream",
     "text": [
      "Mode\t\tSpeed (km/hr)\t\tY-int\n",
      "Transit    \t11.788204193002509\t2.668431089452586\n",
      "P&R/K&R/R&R    \t24.675783786841585\t2.5815247025673447\n",
      "Car driving    \t55.89980794745344\t-7.85292701364034\n",
      "Walk    \t4.654361618104284\t-0.041585090103952546\n",
      "Cycling    \t16.15274582820546\t-1.1854353399837934\n",
      "Car passage    \t55.68084754788573\t-8.170723430415638\n",
      "Other modes    \t41.339234099034854\t-3.310834427629776\n"
     ]
    }
   ],
   "source": [
    "import numpy as np\n",
    "print('Mode\\t\\tSpeed (km/hr)\\t\\tY-int')\n",
    "for mode in modes:\n",
    "    temp = df2[df2['cmpmultimodecatmaingroup'] == mode]\n",
    "    x = np.array(temp['est_trip_travel_Time']/3600)\n",
    "    y = np.array(temp['est_network_distance']/1000)\n",
    "    m, b = np.polyfit(x, y, 1)\n",
    "    print(mode[:11] + \"    \\t\" + str(m) + \"\\t\" + str(b))"
   ]
  },
  {
   "cell_type": "markdown",
   "metadata": {},
   "source": [
    "Interesting is that walking and cycling speeds were not set to 4km/h and 15km/h respectively. Also, transit speeds were significantly slower than expected, though this may have been influenced by the outliers."
   ]
  }
 ],
 "metadata": {
  "kernelspec": {
   "display_name": "Python 3",
   "language": "python",
   "name": "python3"
  },
  "language_info": {
   "codemirror_mode": {
    "name": "ipython",
    "version": 3
   },
   "file_extension": ".py",
   "mimetype": "text/x-python",
   "name": "python",
   "nbconvert_exporter": "python",
   "pygments_lexer": "ipython3",
   "version": "3.7.6"
  }
 },
 "nbformat": 4,
 "nbformat_minor": 4
}
