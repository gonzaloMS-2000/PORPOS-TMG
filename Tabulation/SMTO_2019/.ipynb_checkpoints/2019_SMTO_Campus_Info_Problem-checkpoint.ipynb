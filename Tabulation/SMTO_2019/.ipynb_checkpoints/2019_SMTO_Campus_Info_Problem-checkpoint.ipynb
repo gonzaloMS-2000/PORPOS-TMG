{
 "cells": [
  {
   "cell_type": "markdown",
   "metadata": {},
   "source": [
    "# 2019 SMTO Campus Tabulation\n",
    "\n",
    "This notebook gives us some insight regarding the number of students who did not provide any information about the campus they attend in the __2019 SMTO Survey__ as well as some possible solutions to move forward with this dataset. "
   ]
  },
  {
   "cell_type": "code",
   "execution_count": 1,
   "metadata": {
    "scrolled": true
   },
   "outputs": [
    {
     "data": {
      "text/html": [
       "<div>\n",
       "<style scoped>\n",
       "    .dataframe tbody tr th:only-of-type {\n",
       "        vertical-align: middle;\n",
       "    }\n",
       "\n",
       "    .dataframe tbody tr th {\n",
       "        vertical-align: top;\n",
       "    }\n",
       "\n",
       "    .dataframe thead th {\n",
       "        text-align: right;\n",
       "    }\n",
       "</style>\n",
       "<table border=\"1\" class=\"dataframe\">\n",
       "  <thead>\n",
       "    <tr style=\"text-align: right;\">\n",
       "      <th></th>\n",
       "      <th>Liv_Arr</th>\n",
       "      <th>Children</th>\n",
       "      <th>Cars</th>\n",
       "      <th>Income</th>\n",
       "      <th>Home_Zone</th>\n",
       "      <th>School_Name</th>\n",
       "      <th>Campus</th>\n",
       "      <th>Work</th>\n",
       "      <th>Licence</th>\n",
       "      <th>Mode</th>\n",
       "      <th>...</th>\n",
       "      <th>Dist.SHD</th>\n",
       "      <th>Dist.SHH</th>\n",
       "      <th>Dist.SHT</th>\n",
       "      <th>Dist.MI</th>\n",
       "      <th>Dist.SC</th>\n",
       "      <th>Dist.SG</th>\n",
       "      <th>Dist.YK</th>\n",
       "      <th>Dist.YG</th>\n",
       "      <th>Dist.RY</th>\n",
       "      <th>Dist.OC</th>\n",
       "    </tr>\n",
       "  </thead>\n",
       "  <tbody>\n",
       "    <tr>\n",
       "      <th>0</th>\n",
       "      <td>Live with family/parents</td>\n",
       "      <td>0.0</td>\n",
       "      <td>0.0</td>\n",
       "      <td>NaN</td>\n",
       "      <td>3851.0</td>\n",
       "      <td>Centennial College</td>\n",
       "      <td>Progress Campus</td>\n",
       "      <td>NW</td>\n",
       "      <td>False</td>\n",
       "      <td>Transit</td>\n",
       "      <td>...</td>\n",
       "      <td>29.60268</td>\n",
       "      <td>4.821538</td>\n",
       "      <td>16.18253</td>\n",
       "      <td>19.03615</td>\n",
       "      <td>54.90925</td>\n",
       "      <td>32.749820</td>\n",
       "      <td>40.58064</td>\n",
       "      <td>43.982800</td>\n",
       "      <td>33.227630</td>\n",
       "      <td>31.525830</td>\n",
       "    </tr>\n",
       "    <tr>\n",
       "      <th>1</th>\n",
       "      <td>Live with family/parents</td>\n",
       "      <td>0.0</td>\n",
       "      <td>1.0</td>\n",
       "      <td>NaN</td>\n",
       "      <td>181.0</td>\n",
       "      <td>Centennial College</td>\n",
       "      <td>Morningside Campus</td>\n",
       "      <td>NW</td>\n",
       "      <td>False</td>\n",
       "      <td>Transit</td>\n",
       "      <td>...</td>\n",
       "      <td>35.02901</td>\n",
       "      <td>43.017220</td>\n",
       "      <td>51.23784</td>\n",
       "      <td>22.93553</td>\n",
       "      <td>22.04248</td>\n",
       "      <td>8.990107</td>\n",
       "      <td>9.21471</td>\n",
       "      <td>8.279897</td>\n",
       "      <td>10.301550</td>\n",
       "      <td>10.302330</td>\n",
       "    </tr>\n",
       "    <tr>\n",
       "      <th>2</th>\n",
       "      <td>Live with family/parents</td>\n",
       "      <td>0.0</td>\n",
       "      <td>2.0</td>\n",
       "      <td>I don't know</td>\n",
       "      <td>1039.0</td>\n",
       "      <td>Centennial College</td>\n",
       "      <td>Progress Campus</td>\n",
       "      <td>NW</td>\n",
       "      <td>False</td>\n",
       "      <td>Transit</td>\n",
       "      <td>...</td>\n",
       "      <td>68.36338</td>\n",
       "      <td>71.352090</td>\n",
       "      <td>81.92638</td>\n",
       "      <td>54.53982</td>\n",
       "      <td>13.64408</td>\n",
       "      <td>35.730980</td>\n",
       "      <td>40.61661</td>\n",
       "      <td>29.418650</td>\n",
       "      <td>35.055550</td>\n",
       "      <td>36.449570</td>\n",
       "    </tr>\n",
       "    <tr>\n",
       "      <th>3</th>\n",
       "      <td>NaN</td>\n",
       "      <td>NaN</td>\n",
       "      <td>NaN</td>\n",
       "      <td>NaN</td>\n",
       "      <td>191.0</td>\n",
       "      <td>Centennial College</td>\n",
       "      <td>Progress Campus</td>\n",
       "      <td>NW</td>\n",
       "      <td>False</td>\n",
       "      <td>NaN</td>\n",
       "      <td>...</td>\n",
       "      <td>35.01584</td>\n",
       "      <td>40.200800</td>\n",
       "      <td>48.42141</td>\n",
       "      <td>20.66308</td>\n",
       "      <td>21.85741</td>\n",
       "      <td>5.659206</td>\n",
       "      <td>11.77978</td>\n",
       "      <td>8.357460</td>\n",
       "      <td>6.970653</td>\n",
       "      <td>6.971434</td>\n",
       "    </tr>\n",
       "    <tr>\n",
       "      <th>4</th>\n",
       "      <td>Live with family/parents</td>\n",
       "      <td>1.0</td>\n",
       "      <td>1.0</td>\n",
       "      <td>NaN</td>\n",
       "      <td>600.0</td>\n",
       "      <td>Centennial College</td>\n",
       "      <td>Progress Campus</td>\n",
       "      <td>NW</td>\n",
       "      <td>False</td>\n",
       "      <td>NaN</td>\n",
       "      <td>...</td>\n",
       "      <td>49.27058</td>\n",
       "      <td>61.537790</td>\n",
       "      <td>69.75841</td>\n",
       "      <td>41.28113</td>\n",
       "      <td>11.49956</td>\n",
       "      <td>25.838390</td>\n",
       "      <td>18.81172</td>\n",
       "      <td>15.841280</td>\n",
       "      <td>25.162960</td>\n",
       "      <td>26.824060</td>\n",
       "    </tr>\n",
       "  </tbody>\n",
       "</table>\n",
       "<p>5 rows × 45 columns</p>\n",
       "</div>"
      ],
      "text/plain": [
       "                    Liv_Arr  Children  Cars        Income  Home_Zone  \\\n",
       "0  Live with family/parents       0.0   0.0           NaN     3851.0   \n",
       "1  Live with family/parents       0.0   1.0           NaN      181.0   \n",
       "2  Live with family/parents       0.0   2.0  I don't know     1039.0   \n",
       "3                       NaN       NaN   NaN           NaN      191.0   \n",
       "4  Live with family/parents       1.0   1.0           NaN      600.0   \n",
       "\n",
       "          School_Name              Campus Work Licence     Mode  ...  \\\n",
       "0  Centennial College     Progress Campus   NW   False  Transit  ...   \n",
       "1  Centennial College  Morningside Campus   NW   False  Transit  ...   \n",
       "2  Centennial College     Progress Campus   NW   False  Transit  ...   \n",
       "3  Centennial College     Progress Campus   NW   False      NaN  ...   \n",
       "4  Centennial College     Progress Campus   NW   False      NaN  ...   \n",
       "\n",
       "   Dist.SHD   Dist.SHH  Dist.SHT   Dist.MI   Dist.SC    Dist.SG   Dist.YK  \\\n",
       "0  29.60268   4.821538  16.18253  19.03615  54.90925  32.749820  40.58064   \n",
       "1  35.02901  43.017220  51.23784  22.93553  22.04248   8.990107   9.21471   \n",
       "2  68.36338  71.352090  81.92638  54.53982  13.64408  35.730980  40.61661   \n",
       "3  35.01584  40.200800  48.42141  20.66308  21.85741   5.659206  11.77978   \n",
       "4  49.27058  61.537790  69.75841  41.28113  11.49956  25.838390  18.81172   \n",
       "\n",
       "     Dist.YG    Dist.RY    Dist.OC  \n",
       "0  43.982800  33.227630  31.525830  \n",
       "1   8.279897  10.301550  10.302330  \n",
       "2  29.418650  35.055550  36.449570  \n",
       "3   8.357460   6.970653   6.971434  \n",
       "4  15.841280  25.162960  26.824060  \n",
       "\n",
       "[5 rows x 45 columns]"
      ]
     },
     "execution_count": 1,
     "metadata": {},
     "output_type": "execute_result"
    }
   ],
   "source": [
    "import pandas as pd\n",
    "import matplotlib\n",
    "import matplotlib.pyplot as plt\n",
    "\n",
    "df = pd.read_csv('../../Data/SMTO_2019/SMTO_2019_Complete_Input_with_NaNs.csv')\n",
    "df.head()"
   ]
  },
  {
   "cell_type": "code",
   "execution_count": 2,
   "metadata": {},
   "outputs": [
    {
     "name": "stdout",
     "output_type": "stream",
     "text": [
      "Sample Size: 19097\n"
     ]
    }
   ],
   "source": [
    "print('Sample Size: ' + str(df.shape[0]))"
   ]
  },
  {
   "cell_type": "markdown",
   "metadata": {},
   "source": [
    "The following are all the schools present in our 2019 SMTO dataset:"
   ]
  },
  {
   "cell_type": "code",
   "execution_count": 3,
   "metadata": {
    "scrolled": true
   },
   "outputs": [
    {
     "data": {
      "text/plain": [
       "University of Toronto      5409\n",
       "Ryerson University         4079\n",
       "York University            2383\n",
       "McMaster University        1746\n",
       "Centennial College         1232\n",
       "Durham College             1223\n",
       "Sheridan College           1166\n",
       "Ontario Tech University     737\n",
       "Mohawk College              684\n",
       "OCAD University             438\n",
       "Name: School_Name, dtype: int64"
      ]
     },
     "execution_count": 3,
     "metadata": {},
     "output_type": "execute_result"
    }
   ],
   "source": [
    "df['School_Name'].value_counts()"
   ]
  },
  {
   "cell_type": "code",
   "execution_count": 4,
   "metadata": {
    "scrolled": true
   },
   "outputs": [
    {
     "name": "stdout",
     "output_type": "stream",
     "text": [
      "Number of Respondents who entered SCHOOL information: 19097\n"
     ]
    }
   ],
   "source": [
    "print('Number of Respondents who entered SCHOOL information: ' + str(df['School_Name'].count()))"
   ]
  },
  {
   "cell_type": "markdown",
   "metadata": {},
   "source": [
    "As we can see every student in the 2019 SMTO dataset provided information about what school they attend. Let's look at campus responses now: "
   ]
  },
  {
   "cell_type": "code",
   "execution_count": 5,
   "metadata": {},
   "outputs": [
    {
     "data": {
      "text/plain": [
       "Ryerson University                             4079\n",
       "St. George Campus                              3569\n",
       "Keele Campus                                   2059\n",
       "McMaster Campus                                1592\n",
       "Oshawa Campus                                   914\n",
       "Scarborough Campus                              761\n",
       "Mississauga Campus                              738\n",
       "Progress Campus                                 528\n",
       "North Oshawa Campus                             522\n",
       "Fennell Campus (Main Campus)                    520\n",
       "Trafalgar Road Campus, Oakville                 441\n",
       "OCAD University                                 438\n",
       "Davis Campus, Brampton                          361\n",
       "Morningside Campus                              281\n",
       "Hazel McCallion Campus, Mississauga             240\n",
       "Glendon Campus                                  150\n",
       "Whitby Campus                                   148\n",
       "Downtown Oshawa Campus                          127\n",
       "Ashtonbee Campus                                114\n",
       "Story Arts Centre                                72\n",
       "Institute for Applied Health Sciences            60\n",
       "Burlington Campus/Ron Joyce Centre               38\n",
       "Stoney Creek Campus                              38\n",
       "Downsview Campus                                 29\n",
       "Pickering Learning Site                          23\n",
       "Eglinton Learning Site                            6\n",
       "Performing Arts Commons at Daniels Spectrum       3\n",
       "Name: Campus, dtype: int64"
      ]
     },
     "execution_count": 5,
     "metadata": {},
     "output_type": "execute_result"
    }
   ],
   "source": [
    "df['Campus'].value_counts()"
   ]
  },
  {
   "cell_type": "code",
   "execution_count": 6,
   "metadata": {},
   "outputs": [
    {
     "name": "stdout",
     "output_type": "stream",
     "text": [
      "Number of Respondents who entered CAMPUS information: 17851\n"
     ]
    }
   ],
   "source": [
    "print('Number of Respondents who entered CAMPUS information: ' + str(df['Campus'].count()))"
   ]
  },
  {
   "cell_type": "markdown",
   "metadata": {},
   "source": [
    "Unfortunately, out of the 19097 respondents, only 17851 student provided information about their campus. This means that __1246__ students did not provide any information about their campus. Let's now look at the schools that these 1246 students belong to:"
   ]
  },
  {
   "cell_type": "code",
   "execution_count": 7,
   "metadata": {
    "scrolled": false
   },
   "outputs": [
    {
     "name": "stdout",
     "output_type": "stream",
     "text": [
      "\n",
      "Number of students with no campus information per university:\n",
      "\n",
      "University of Toronto      341\n",
      "Centennial College         197\n",
      "York University            174\n",
      "Durham College             140\n",
      "Sheridan College           124\n",
      "McMaster University        116\n",
      "Ontario Tech University     88\n",
      "Mohawk College              66\n",
      "Name: School_Name, dtype: int64\n",
      "\n"
     ]
    },
    {
     "data": {
      "text/plain": [
       "<matplotlib.axes._subplots.AxesSubplot at 0x26c7c510710>"
      ]
     },
     "execution_count": 7,
     "metadata": {},
     "output_type": "execute_result"
    },
    {
     "data": {
      "image/png": "[encoded data removed]",
      "text/plain": [
       "<Figure size 360x360 with 1 Axes>"
      ]
     },
     "metadata": {},
     "output_type": "display_data"
    }
   ],
   "source": [
    "print('\\nNumber of students with no campus information per university:\\n')\n",
    "df.loc[df['Campus'].isnull(),'Campus_is_NaN'] = 1\n",
    "df.loc[df['Campus'].notnull(), 'Campus_is_NaN'] = 0\n",
    "temp_df = df[df['Campus_is_NaN'] == 1]\n",
    "print(temp_df['School_Name'].value_counts())\n",
    "print('')\n",
    "temp_df['School_Name'].value_counts().plot.pie(figsize = (5,5))"
   ]
  },
  {
   "cell_type": "markdown",
   "metadata": {},
   "source": [
    "From the subset of students who did not provide information about their campus, __719__ are university students going to either U of T, York, McMaster, or UOIT, and __527__ of them are college students attening Centenial, Durham, Sheridan, or Mohawk colleges. \n",
    "\n",
    "__NOTE:__ All of these schools are 'multi-campus' schools. Originally there were also some students attending 'single-campus' schools who had not provided campus information. However, for these students we manually added their university name to their empty campus attribute since they only have one campus option. This was done in another Python Notebook where our current dataframe was created. \n",
    "\n",
    "Another important thing to realize is that many of the students with unknown campus also have missing Home Zone information:"
   ]
  },
  {
   "cell_type": "code",
   "execution_count": 24,
   "metadata": {
    "scrolled": true
   },
   "outputs": [
    {
     "name": "stdout",
     "output_type": "stream",
     "text": [
      "Number of students who provided Home Zone info from the above subset: 713\n"
     ]
    }
   ],
   "source": [
    "print('Number of students who provided Home Zone info from the above subset: ' + str(temp_df['Home_Zone'].count()))"
   ]
  },
  {
   "cell_type": "markdown",
   "metadata": {},
   "source": [
    "Unfortunately, from the 1246 students who did not provide campus information only __713__ provided, information about their Home Zone. This means that we will not be able to include the __533__ students who did not provide a home zone because we cannot calculate distances from home to school for them. From the subset that did provide their home zone, let's look at what schools they attend:"
   ]
  },
  {
   "cell_type": "code",
   "execution_count": 80,
   "metadata": {},
   "outputs": [
    {
     "name": "stdout",
     "output_type": "stream",
     "text": [
      "\n",
      "Number of students with no campus information per university:\n",
      "\n",
      "University of Toronto      207\n",
      "Centennial College         108\n",
      "York University            105\n",
      "Durham College              78\n",
      "Sheridan College            75\n",
      "McMaster University         57\n",
      "Ontario Tech University     45\n",
      "Mohawk College              38\n",
      "Name: School_Name, dtype: int64\n",
      "\n"
     ]
    },
    {
     "data": {
      "text/plain": [
       "<matplotlib.axes._subplots.AxesSubplot at 0x26c02070c50>"
      ]
     },
     "execution_count": 80,
     "metadata": {},
     "output_type": "execute_result"
    },
    {
     "data": {
      "image/png": "[encoded data removed]",
      "text/plain": [
       "<Figure size 360x360 with 1 Axes>"
      ]
     },
     "metadata": {},
     "output_type": "display_data"
    }
   ],
   "source": [
    "print('\\nNumber of students with no campus information per university:\\n')\n",
    "temp_df.loc[temp_df['Home_Zone'].isnull(),'HZ_is_NaN'] = 1\n",
    "temp_df.loc[temp_df['Home_Zone'].notnull(), 'HZ_is_NaN'] = 0\n",
    "temp2_df = temp_df[temp_df['HZ_is_NaN'] == 0]\n",
    "print(temp2_df['School_Name'].value_counts())\n",
    "school_names = temp2_df['School_Name'].value_counts().index\n",
    "print('')\n",
    "temp2_df['School_Name'].value_counts().plot.pie(figsize = (5,5))"
   ]
  },
  {
   "cell_type": "markdown",
   "metadata": {},
   "source": [
    "Lastly, let's see how many of these students live with their families and how many live away from home:"
   ]
  },
  {
   "cell_type": "code",
   "execution_count": 29,
   "metadata": {},
   "outputs": [
    {
     "data": {
      "text/plain": [
       "0"
      ]
     },
     "execution_count": 29,
     "metadata": {},
     "output_type": "execute_result"
    }
   ],
   "source": [
    "temp2_df['Family'].count()"
   ]
  },
  {
   "cell_type": "markdown",
   "metadata": {},
   "source": [
    "Unfortunately, none of the students with missing campuses provided information about whether or not they live with their families. "
   ]
  },
  {
   "cell_type": "markdown",
   "metadata": {},
   "source": [
    "# Possible Solutions: \n",
    "\n",
    "For the subset of __713__ students with missing campus info and known home zones there may be a few possible ways to assign them to a campus:\n",
    "\n",
    "#### 1. Assign them to Closest Campus\n",
    "\n",
    "A possible solution for these students could be to assign them to the campus closest to their home zone that belongs to the university they attend. However, with this solution we might be imposing our Gravity Model on these students, thus biasing the results.\n",
    "\n",
    "#### 2. Assign them to Closest Campus that has their Selected Faculty:\n",
    "\n",
    "A similar but more refined solution could be to look at the Faculty information from the students who did not provide a campus information. Then we could assign campuses based on which campus has their selected faculty and is closest to their home. Let us first see how many of these students also provided Faculty infromation:"
   ]
  },
  {
   "cell_type": "code",
   "execution_count": 23,
   "metadata": {
    "scrolled": true
   },
   "outputs": [
    {
     "name": "stdout",
     "output_type": "stream",
     "text": [
      "Number of students with known home zone but unknown campus who entered faculty information: 7\n"
     ]
    },
    {
     "data": {
      "text/plain": [
       "Faculty of Health Sciences                               2\n",
       "School of Engineering, Technology and Applied Science    1\n",
       "Arts and Sciences                                        1\n",
       "The Business School                                      1\n",
       "Social Work                                              1\n",
       "Community Services                                       1\n",
       "Name: Faculty, dtype: int64"
      ]
     },
     "execution_count": 23,
     "metadata": {},
     "output_type": "execute_result"
    }
   ],
   "source": [
    "print('Number of students with known home zone but unknown campus who entered faculty information: ' + str(temp2_df['Faculty'].count()))\n",
    "temp2_df['Faculty'].value_counts()"
   ]
  },
  {
   "cell_type": "markdown",
   "metadata": {},
   "source": [
    "Unfortunately, only 7 out of the 713 students who provided Home Zone but not Campus also provided Faculty information. This means that this approach will not be possible.\n",
    "\n",
    "#### 3. Assign them to Random Campus Within a Certain Distance Range \n",
    "\n",
    "Another solution for assigning campuses to these 713 students could be to assign them to a random campus that belongs to the school they attend and that is within a certain distance range. This distance range could be obtained by taking the average distance travelled to each of the affected schools for the whole sample size (regardless of their campus)."
   ]
  },
  {
   "cell_type": "code",
   "execution_count": 105,
   "metadata": {},
   "outputs": [
    {
     "name": "stdout",
     "output_type": "stream",
     "text": [
      "AVERAGE TRAVELLED DISTANCE TO EACH SCHOOL:\n",
      "\n",
      "\n",
      "University of T: 15.271096828560282 km\n",
      "\n",
      "Centennial Coll: 19.310331349882173 km\n",
      "\n",
      "York University: 19.833662503777163 km\n",
      "\n",
      "Durham College: 18.697822371689238 km\n",
      "\n",
      "Sheridan Colleg: 22.755990412061408 km\n",
      "\n",
      "McMaster Univer: 110.26887139271555 km\n",
      "\n",
      "Ontario Tech Un: 23.92121311928289 km\n",
      "\n",
      "Mohawk College: 22.36593122280582 km\n",
      "\n"
     ]
    }
   ],
   "source": [
    "dist_cols = df.columns[-29:-1].tolist()\n",
    "temp_df3 = df[(df['Campus_is_NaN'] == 0)]\n",
    "for col in dist_cols:\n",
    "    temp_df3 = temp_df3[temp_df3[col] != -1]\n",
    "    \n",
    "uoft_codes = ['SG', 'SC', 'MI']\n",
    "cent_codes = ['CST', 'CAS', 'CPR', 'CMO', 'CDV', 'CEG', 'CPI', 'CDS']\n",
    "york_codes = ['YK', 'YG']\n",
    "durh_codes = ['DOS', 'DWH', 'CPI']\n",
    "sher_codes = ['SHD', 'SHH', 'SHT']\n",
    "mcma_codes = ['MCM', 'MCB']\n",
    "uoit_codes = ['OTD', 'OTN']\n",
    "mohk_codes = ['MOF', 'MOS']\n",
    "\n",
    "school_codes = [uoft_codes, cent_codes, york_codes, durh_codes, sher_codes, mcma_codes, uoit_codes,mohk_codes]\n",
    "\n",
    "print('AVERAGE TRAVELLED DISTANCE TO EACH SCHOOL:\\n\\n')\n",
    "for group in range(len(school_codes)):\n",
    "    mean = 0\n",
    "    for i in school_codes[group]:\n",
    "        mean += temp_df3[temp_df3['School'] == i]['Dist.' + i].mean()\n",
    "    mean = mean/len(school_codes[group])\n",
    "    print(school_names[group][:15] + ': ' + str(mean) + ' km\\n')"
   ]
  },
  {
   "cell_type": "markdown",
   "metadata": {},
   "source": [
    "With the exception of McMaster University (whose average travel distance is abnormally large), the distances above could serve as a distance threshold when assigning campuses to these students. "
   ]
  }
 ],
 "metadata": {
  "kernelspec": {
   "display_name": "Python 3",
   "language": "python",
   "name": "python3"
  },
  "language_info": {
   "codemirror_mode": {
    "name": "ipython",
    "version": 3
   },
   "file_extension": ".py",
   "mimetype": "text/x-python",
   "name": "python",
   "nbconvert_exporter": "python",
   "pygments_lexer": "ipython3",
   "version": "3.7.3"
  }
 },
 "nbformat": 4,
 "nbformat_minor": 2
}
