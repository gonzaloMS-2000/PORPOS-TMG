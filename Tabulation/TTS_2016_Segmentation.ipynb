version https://git-lfs.github.com/spec/v1
oid sha256:0910d3a8f239bcfa2dea513231a26481caf69c69557006bad3e1a79b1a69105b
size 91553
